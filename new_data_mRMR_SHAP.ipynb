{
 "cells": [
  {
   "cell_type": "code",
   "execution_count": 1,
   "id": "0a001eca",
   "metadata": {},
   "outputs": [],
   "source": [
    "import os\n",
    "import pandas as pd \n",
    "import matplotlib.pyplot as plt\n",
    "plt.rcParams['font.family'] = 'AppleGothic' # 폰트 변경\n",
    "plt.rcParams['axes.unicode_minus'] = False # 축 값 마이너스 깨짐 해결\n",
    "import numpy as np\n",
    "from torch.nn import Transformer\n",
    "from torch import nn\n",
    "import torch\n",
    "import math\n",
    "from sklearn.model_selection import train_test_split\n",
    "import optuna\n",
    "from sklearn.metrics import mean_absolute_percentage_error ,mean_squared_error"
   ]
  },
  {
   "cell_type": "code",
   "execution_count": 2,
   "id": "84d32bf3",
   "metadata": {},
   "outputs": [],
   "source": [
    "#path = '~/workplace/datas/energy/'\n",
    "path = '~/Desktop/workplace/datas/energy/'"
   ]
  },
  {
   "cell_type": "code",
   "execution_count": 3,
   "id": "60e7f4bb",
   "metadata": {},
   "outputs": [],
   "source": [
    "train_df = pd.read_csv(path + 'encoded_train_df.csv', index_col=0)\n",
    "test_df = pd.read_csv(path + 'encoded_test_df.csv', index_col=0)"
   ]
  },
  {
   "cell_type": "code",
   "execution_count": 4,
   "id": "bf162c3f",
   "metadata": {},
   "outputs": [],
   "source": [
    "X = train_df.iloc[:, :-1]\n",
    "y = train_df.iloc[:, -1]"
   ]
  },
  {
   "cell_type": "code",
   "execution_count": 5,
   "id": "dac5f14d",
   "metadata": {},
   "outputs": [],
   "source": [
    "X_test = test_df.iloc[:, :-1]\n",
    "y_test = test_df.iloc[:, -1]"
   ]
  },
  {
   "cell_type": "code",
   "execution_count": 6,
   "id": "16e4fa5a",
   "metadata": {},
   "outputs": [
    {
     "data": {
      "text/plain": [
       "((546035, 19), (546035,), (2016, 19), (2016,))"
      ]
     },
     "execution_count": 6,
     "metadata": {},
     "output_type": "execute_result"
    }
   ],
   "source": [
    "X.shape, y.shape, X_test.shape, y_test.shape"
   ]
  },
  {
   "cell_type": "markdown",
   "id": "bcbf52c2",
   "metadata": {},
   "source": [
    "# mRMR"
   ]
  },
  {
   "cell_type": "code",
   "execution_count": 8,
   "id": "915596f9",
   "metadata": {},
   "outputs": [
    {
     "name": "stderr",
     "output_type": "stream",
     "text": [
      "100%|███████████████████████████████████████████| 19/19 [00:20<00:00,  1.10s/it]\n"
     ]
    }
   ],
   "source": [
    "#mRMR\n",
    "from mrmr import mrmr_classif, mrmr_regression\n",
    "selected_features = mrmr_regression(X=X, y=y, K=20, return_scores=True)"
   ]
  },
  {
   "cell_type": "code",
   "execution_count": 9,
   "id": "2db2f2b0",
   "metadata": {},
   "outputs": [
    {
     "data": {
      "text/plain": [
       "(['5분전_현재수요(MW)',\n",
       "  '1시간전_현재수요(MW)',\n",
       "  '하루전_현재수요(MW)',\n",
       "  'Hour',\n",
       "  '적설(cm)',\n",
       "  '휴일',\n",
       "  'smp(원/kWh)',\n",
       "  '풍속(m/s)',\n",
       "  '습도(%)',\n",
       "  '일조(hr)',\n",
       "  '발전량',\n",
       "  '현지기압(hPa)',\n",
       "  'Year',\n",
       "  '일사(MJ/m2)',\n",
       "  'Month',\n",
       "  '기온(°C)',\n",
       "  'Day',\n",
       "  '지면온도(°C)',\n",
       "  '강수량(mm)'],\n",
       " Year             2.860885e+03\n",
       " Month            1.682232e+03\n",
       " Day              1.513843e+02\n",
       " Hour             6.636945e+04\n",
       " 기온(°C)           4.006376e+03\n",
       " 풍속(m/s)          2.269198e+04\n",
       " 습도(%)            2.535610e+04\n",
       " 현지기압(hPa)        3.340532e+03\n",
       " 지면온도(°C)         8.712922e+02\n",
       " 강수량(mm)          4.446567e+01\n",
       " 적설(cm)           4.285866e+04\n",
       " 일조(hr)           1.252700e+04\n",
       " 일사(MJ/m2)        6.372066e+03\n",
       " smp(원/kWh)       4.346754e+04\n",
       " 발전량              8.353841e+03\n",
       " 휴일               2.719146e+04\n",
       " 5분전_현재수요(MW)     5.488628e+08\n",
       " 1시간전_현재수요(MW)    9.991239e+06\n",
       " 하루전_현재수요(MW)     7.830731e+05\n",
       " dtype: float64,\n",
       "                    Year     Month       Day      Hour    기온(°C)   풍속(m/s)  \\\n",
       " Year           0.001000  0.001000  0.001000  0.001000  0.001000  0.020105   \n",
       " Month          0.099795  0.001000  0.001000  0.001000  0.001000  0.139199   \n",
       " Day            0.017080  0.016957  0.001000  0.001000  0.013102  0.011445   \n",
       " Hour           0.001000  0.001000  0.001000  0.001000  0.001000  0.001000   \n",
       " 기온(°C)         0.071179  0.268052  0.001000  0.133680  0.001000  0.001500   \n",
       " 풍속(m/s)        0.001000  0.001000  0.001000  0.206853  0.001000  0.001000   \n",
       " 습도(%)          0.001000  0.001000  0.001000  0.282573  0.001000  0.521797   \n",
       " 현지기압(hPa)      0.001000  0.001000  0.001000  0.030694  0.001000  0.113810   \n",
       " 지면온도(°C)       0.063585  0.222380  0.014141  0.127988  0.954449  0.117742   \n",
       " 강수량(mm)        0.031141  0.047751  0.023902  0.019174  0.176015  0.136316   \n",
       " 적설(cm)         0.001000  0.001000  0.001000  0.014286  0.001000  0.001000   \n",
       " 일조(hr)         0.001000  0.001000  0.001000  0.117313  0.001000  0.423564   \n",
       " 일사(MJ/m2)      0.046457  0.001000  0.001000  0.105565  0.001000  0.443735   \n",
       " smp(원/kWh)     0.001000  0.001000  0.001000  0.070737  0.001000  0.001000   \n",
       " 발전량            0.001000  0.001000  0.001000  0.132062  0.001000  0.270204   \n",
       " 휴일             0.001000  0.001000  0.001000  0.001000  0.001000  0.001000   \n",
       " 5분전_현재수요(MW)   0.001000  0.001000  0.001000  0.001000  0.001000  0.001000   \n",
       " 1시간전_현재수요(MW)  0.001000  0.001000  0.001000  0.001000  0.001000  0.001000   \n",
       " 하루전_현재수요(MW)   0.001000  0.001000  0.001000  0.001000  0.001000  0.001000   \n",
       " \n",
       "                   습도(%)  현지기압(hPa)  지면온도(°C)  강수량(mm)    적설(cm)    일조(hr)  \\\n",
       " Year           0.027105   0.086845  0.001000    0.001  0.153311  0.006556   \n",
       " Month          0.225789   0.044018  0.001000    0.001  0.121878  0.042625   \n",
       " Day            0.017145   0.028610  0.001000    0.001  0.014542  0.003355   \n",
       " Hour           0.001000   0.001000  0.001000    0.001  0.001000  0.001000   \n",
       " 기온(°C)         0.245305   0.751732  0.001000    0.001  0.435158  0.194546   \n",
       " 풍속(m/s)        0.001000   0.001000  0.001000    0.001  0.121915  0.001000   \n",
       " 습도(%)          0.001000   0.001000  0.001000    0.001  0.127706  0.001000   \n",
       " 현지기압(hPa)      0.377654   0.001000  0.001000    0.001  0.256266  0.055693   \n",
       " 지면온도(°C)       0.072605   0.685185  0.001000    0.001  0.356081  0.389222   \n",
       " 강수량(mm)        0.296025   0.298809  0.124639    0.001  0.053228  0.162718   \n",
       " 적설(cm)         0.001000   0.001000  0.001000    0.001  0.001000  0.001000   \n",
       " 일조(hr)         0.654043   0.001000  0.001000    0.001  0.009132  0.001000   \n",
       " 일사(MJ/m2)      0.562017   0.092448  0.001000    0.001  0.061007  0.874509   \n",
       " smp(원/kWh)     0.001000   0.001000  0.001000    0.001  0.205400  0.001000   \n",
       " 발전량            0.385076   0.001000  0.001000    0.001  0.064625  0.609132   \n",
       " 휴일             0.001000   0.001000  0.001000    0.001  0.021120  0.001000   \n",
       " 5분전_현재수요(MW)   0.001000   0.001000  0.001000    0.001  0.001000  0.001000   \n",
       " 1시간전_현재수요(MW)  0.001000   0.001000  0.001000    0.001  0.001000  0.001000   \n",
       " 하루전_현재수요(MW)   0.001000   0.001000  0.001000    0.001  0.001000  0.001000   \n",
       " \n",
       "                일사(MJ/m2)  smp(원/kWh)       발전량        휴일  5분전_현재수요(MW)  \\\n",
       " Year            0.001000    0.624956  0.095034  0.018099      0.072201   \n",
       " Month           0.040986    0.005128  0.014550  0.023439      0.055441   \n",
       " Day             0.001000    0.014108  0.011442  0.108593      0.016686   \n",
       " Hour            0.001000    0.001000  0.001000  0.001000      0.332338   \n",
       " 기온(°C)          0.341236    0.189919  0.238539  0.002870      0.085523   \n",
       " 풍속(m/s)         0.001000    0.024955  0.001000  0.017743      0.198532   \n",
       " 습도(%)           0.001000    0.127920  0.001000  0.002392      0.210069   \n",
       " 현지기압(hPa)       0.001000    0.198596  0.047204  0.019453      0.078198   \n",
       " 지면온도(°C)        0.569081    0.170428  0.368227  0.004710      0.040879   \n",
       " 강수량(mm)         0.105517    0.053892  0.089131  0.009705      0.009013   \n",
       " 적설(cm)          0.001000    0.001000  0.001000  0.001000      0.269695   \n",
       " 일조(hr)          0.001000    0.026997  0.001000  0.004084      0.146781   \n",
       " 일사(MJ/m2)       0.001000    0.021912  0.622225  0.001180      0.104798   \n",
       " smp(원/kWh)      0.001000    0.001000  0.001000  0.040893      0.272012   \n",
       " 발전량             0.001000    0.156187  0.001000  0.002731      0.121578   \n",
       " 휴일              0.001000    0.001000  0.001000  0.001000      0.217663   \n",
       " 5분전_현재수요(MW)    0.001000    0.001000  0.001000  0.001000      0.001000   \n",
       " 1시간전_현재수요(MW)   0.001000    0.001000  0.001000  0.001000      0.977361   \n",
       " 하루전_현재수요(MW)    0.001000    0.001000  0.001000  0.001000      0.768149   \n",
       " \n",
       "                1시간전_현재수요(MW)  하루전_현재수요(MW)  \n",
       " Year                0.072261      0.074696  \n",
       " Month               0.055643      0.060962  \n",
       " Day                 0.017127      0.026458  \n",
       " Hour                0.343895      0.329117  \n",
       " 기온(°C)              0.088985      0.076812  \n",
       " 풍속(m/s)             0.184198      0.186582  \n",
       " 습도(%)               0.200444      0.220529  \n",
       " 현지기압(hPa)           0.079930      0.080880  \n",
       " 지면온도(°C)            0.052106      0.031873  \n",
       " 강수량(mm)             0.006640      0.016231  \n",
       " 적설(cm)              0.268607      0.261371  \n",
       " 일조(hr)              0.109466      0.186839  \n",
       " 일사(MJ/m2)           0.076957      0.136163  \n",
       " smp(원/kWh)          0.272831      0.243379  \n",
       " 발전량                 0.104207      0.145848  \n",
       " 휴일                  0.216273      0.142630  \n",
       " 5분전_현재수요(MW)        0.001000      0.001000  \n",
       " 1시간전_현재수요(MW)       0.001000      0.001000  \n",
       " 하루전_현재수요(MW)        0.755847      0.001000  )"
      ]
     },
     "execution_count": 9,
     "metadata": {},
     "output_type": "execute_result"
    }
   ],
   "source": [
    "selected_features"
   ]
  },
  {
   "cell_type": "code",
   "execution_count": 10,
   "id": "bdd9fb74",
   "metadata": {},
   "outputs": [],
   "source": [
    "mrmr = []\n",
    "\n",
    "for i , j in enumerate(selected_features[0]):\n",
    "    mrmr.append([(i+1),j])"
   ]
  },
  {
   "cell_type": "code",
   "execution_count": 11,
   "id": "ca739cae",
   "metadata": {},
   "outputs": [],
   "source": [
    "mrmr = pd.DataFrame(mrmr, columns=['rank', 'features'])"
   ]
  },
  {
   "cell_type": "code",
   "execution_count": 12,
   "id": "21c696da",
   "metadata": {},
   "outputs": [
    {
     "data": {
      "text/html": [
       "<div>\n",
       "<style scoped>\n",
       "    .dataframe tbody tr th:only-of-type {\n",
       "        vertical-align: middle;\n",
       "    }\n",
       "\n",
       "    .dataframe tbody tr th {\n",
       "        vertical-align: top;\n",
       "    }\n",
       "\n",
       "    .dataframe thead th {\n",
       "        text-align: right;\n",
       "    }\n",
       "</style>\n",
       "<table border=\"1\" class=\"dataframe\">\n",
       "  <thead>\n",
       "    <tr style=\"text-align: right;\">\n",
       "      <th></th>\n",
       "      <th>rank</th>\n",
       "      <th>features</th>\n",
       "    </tr>\n",
       "  </thead>\n",
       "  <tbody>\n",
       "    <tr>\n",
       "      <th>0</th>\n",
       "      <td>1</td>\n",
       "      <td>5분전_현재수요(MW)</td>\n",
       "    </tr>\n",
       "    <tr>\n",
       "      <th>1</th>\n",
       "      <td>2</td>\n",
       "      <td>1시간전_현재수요(MW)</td>\n",
       "    </tr>\n",
       "    <tr>\n",
       "      <th>2</th>\n",
       "      <td>3</td>\n",
       "      <td>하루전_현재수요(MW)</td>\n",
       "    </tr>\n",
       "    <tr>\n",
       "      <th>3</th>\n",
       "      <td>4</td>\n",
       "      <td>Hour</td>\n",
       "    </tr>\n",
       "    <tr>\n",
       "      <th>4</th>\n",
       "      <td>5</td>\n",
       "      <td>적설(cm)</td>\n",
       "    </tr>\n",
       "    <tr>\n",
       "      <th>5</th>\n",
       "      <td>6</td>\n",
       "      <td>휴일</td>\n",
       "    </tr>\n",
       "    <tr>\n",
       "      <th>6</th>\n",
       "      <td>7</td>\n",
       "      <td>smp(원/kWh)</td>\n",
       "    </tr>\n",
       "    <tr>\n",
       "      <th>7</th>\n",
       "      <td>8</td>\n",
       "      <td>풍속(m/s)</td>\n",
       "    </tr>\n",
       "    <tr>\n",
       "      <th>8</th>\n",
       "      <td>9</td>\n",
       "      <td>습도(%)</td>\n",
       "    </tr>\n",
       "    <tr>\n",
       "      <th>9</th>\n",
       "      <td>10</td>\n",
       "      <td>일조(hr)</td>\n",
       "    </tr>\n",
       "    <tr>\n",
       "      <th>10</th>\n",
       "      <td>11</td>\n",
       "      <td>발전량</td>\n",
       "    </tr>\n",
       "    <tr>\n",
       "      <th>11</th>\n",
       "      <td>12</td>\n",
       "      <td>현지기압(hPa)</td>\n",
       "    </tr>\n",
       "    <tr>\n",
       "      <th>12</th>\n",
       "      <td>13</td>\n",
       "      <td>Year</td>\n",
       "    </tr>\n",
       "    <tr>\n",
       "      <th>13</th>\n",
       "      <td>14</td>\n",
       "      <td>일사(MJ/m2)</td>\n",
       "    </tr>\n",
       "    <tr>\n",
       "      <th>14</th>\n",
       "      <td>15</td>\n",
       "      <td>Month</td>\n",
       "    </tr>\n",
       "    <tr>\n",
       "      <th>15</th>\n",
       "      <td>16</td>\n",
       "      <td>기온(°C)</td>\n",
       "    </tr>\n",
       "    <tr>\n",
       "      <th>16</th>\n",
       "      <td>17</td>\n",
       "      <td>Day</td>\n",
       "    </tr>\n",
       "    <tr>\n",
       "      <th>17</th>\n",
       "      <td>18</td>\n",
       "      <td>지면온도(°C)</td>\n",
       "    </tr>\n",
       "    <tr>\n",
       "      <th>18</th>\n",
       "      <td>19</td>\n",
       "      <td>강수량(mm)</td>\n",
       "    </tr>\n",
       "  </tbody>\n",
       "</table>\n",
       "</div>"
      ],
      "text/plain": [
       "    rank       features\n",
       "0      1   5분전_현재수요(MW)\n",
       "1      2  1시간전_현재수요(MW)\n",
       "2      3   하루전_현재수요(MW)\n",
       "3      4           Hour\n",
       "4      5         적설(cm)\n",
       "5      6             휴일\n",
       "6      7     smp(원/kWh)\n",
       "7      8        풍속(m/s)\n",
       "8      9          습도(%)\n",
       "9     10         일조(hr)\n",
       "10    11            발전량\n",
       "11    12      현지기압(hPa)\n",
       "12    13           Year\n",
       "13    14      일사(MJ/m2)\n",
       "14    15          Month\n",
       "15    16         기온(°C)\n",
       "16    17            Day\n",
       "17    18       지면온도(°C)\n",
       "18    19        강수량(mm)"
      ]
     },
     "execution_count": 12,
     "metadata": {},
     "output_type": "execute_result"
    }
   ],
   "source": [
    "mrmr"
   ]
  },
  {
   "cell_type": "markdown",
   "id": "7250c15f",
   "metadata": {},
   "source": [
    "# SAHP"
   ]
  },
  {
   "cell_type": "code",
   "execution_count": 13,
   "id": "2ede447a",
   "metadata": {},
   "outputs": [
    {
     "data": {
      "image/png": "[encoded data removed]",
      "text/plain": [
       "<Figure size 800x910 with 2 Axes>"
      ]
     },
     "metadata": {},
     "output_type": "display_data"
    }
   ],
   "source": [
    "import shap\n",
    "import lightgbm as lgb\n",
    "\n",
    "model = lgb.LGBMRegressor()\n",
    "model.fit(X, y)\n",
    "\n",
    "\n",
    "explainer = shap.Explainer(model)\n",
    "\n",
    "\n",
    "\n",
    "shap_values = explainer.shap_values(X)\n",
    "\n",
    "shap.summary_plot(shap_values, X)"
   ]
  },
  {
   "cell_type": "code",
   "execution_count": 14,
   "id": "83646334",
   "metadata": {},
   "outputs": [
    {
     "data": {
      "image/png": "[encoded data removed]",
      "text/plain": [
       "<Figure size 640x480 with 1 Axes>"
      ]
     },
     "metadata": {},
     "output_type": "display_data"
    }
   ],
   "source": [
    "shap.bar_plot(shap_values[0])"
   ]
  },
  {
   "cell_type": "code",
   "execution_count": 15,
   "id": "59346e5d",
   "metadata": {},
   "outputs": [
    {
     "name": "stdout",
     "output_type": "stream",
     "text": [
      "Year: 1.963958578808846\n",
      "Month: 1.051517129441904\n",
      "Day: 0.9547250868390234\n",
      "Hour: 61.00373199357027\n",
      "기온(°C): 8.531690165116295\n",
      "풍속(m/s): 0.5524140019392971\n",
      "습도(%): 1.5829472503888637\n",
      "현지기압(hPa): 2.265887580623897\n",
      "지면온도(°C): 8.904688603340077\n",
      "강수량(mm): 1.9022804613353956\n",
      "적설(cm): 1.607619983198369\n",
      "일조(hr): 5.3306764216463876\n",
      "일사(MJ/m2): 38.41130361405314\n",
      "smp(원/kWh): 3.5204346101080843\n",
      "발전량: 2.5612824921332904\n",
      "휴일: 1.8563142585352692\n",
      "5분전_현재수요(MW): 7117.721186665954\n",
      "1시간전_현재수요(MW): 49.89037242428682\n",
      "하루전_현재수요(MW): 4.761150141248374\n"
     ]
    }
   ],
   "source": [
    "import numpy as np\n",
    "\n",
    "# Calculate mean absolute SHAP values\n",
    "mean_shap_values = np.mean(np.abs(shap_values), axis=0)\n",
    "\n",
    "# Print feature importance\n",
    "shap = []\n",
    "for feature_name, mean_value in zip(X.keys(), mean_shap_values):\n",
    "    print(f\"{feature_name}: {mean_value}\")\n",
    "    shap.append([mean_value,feature_name])\n"
   ]
  },
  {
   "cell_type": "code",
   "execution_count": 16,
   "id": "b2ae0ffd",
   "metadata": {},
   "outputs": [],
   "source": [
    "shap = pd.DataFrame(shap, columns=['value', 'features'])"
   ]
  },
  {
   "cell_type": "code",
   "execution_count": 17,
   "id": "d17efac0",
   "metadata": {},
   "outputs": [],
   "source": [
    "shap.sort_values('value', ascending=False, inplace=True)"
   ]
  },
  {
   "cell_type": "code",
   "execution_count": 18,
   "id": "bc424ec2",
   "metadata": {},
   "outputs": [],
   "source": [
    "shap['rank'] = [i for i in range(1, len(shap) + 1)]"
   ]
  },
  {
   "cell_type": "code",
   "execution_count": 19,
   "id": "dcf8d6a0",
   "metadata": {},
   "outputs": [],
   "source": [
    "shap.rename(columns={'rank':'shap_rank'}, inplace=True)"
   ]
  },
  {
   "cell_type": "code",
   "execution_count": 20,
   "id": "75327ed1",
   "metadata": {
    "scrolled": true
   },
   "outputs": [],
   "source": [
    "mrmr.set_index(['features'], inplace=True)\n",
    "shap.set_index(['features'], inplace=True)"
   ]
  },
  {
   "cell_type": "code",
   "execution_count": 21,
   "id": "536fdf98",
   "metadata": {},
   "outputs": [
    {
     "data": {
      "text/html": [
       "<div>\n",
       "<style scoped>\n",
       "    .dataframe tbody tr th:only-of-type {\n",
       "        vertical-align: middle;\n",
       "    }\n",
       "\n",
       "    .dataframe tbody tr th {\n",
       "        vertical-align: top;\n",
       "    }\n",
       "\n",
       "    .dataframe thead th {\n",
       "        text-align: right;\n",
       "    }\n",
       "</style>\n",
       "<table border=\"1\" class=\"dataframe\">\n",
       "  <thead>\n",
       "    <tr style=\"text-align: right;\">\n",
       "      <th></th>\n",
       "      <th>value</th>\n",
       "      <th>shap_rank</th>\n",
       "    </tr>\n",
       "    <tr>\n",
       "      <th>features</th>\n",
       "      <th></th>\n",
       "      <th></th>\n",
       "    </tr>\n",
       "  </thead>\n",
       "  <tbody>\n",
       "    <tr>\n",
       "      <th>5분전_현재수요(MW)</th>\n",
       "      <td>7117.721187</td>\n",
       "      <td>1</td>\n",
       "    </tr>\n",
       "    <tr>\n",
       "      <th>Hour</th>\n",
       "      <td>61.003732</td>\n",
       "      <td>2</td>\n",
       "    </tr>\n",
       "    <tr>\n",
       "      <th>1시간전_현재수요(MW)</th>\n",
       "      <td>49.890372</td>\n",
       "      <td>3</td>\n",
       "    </tr>\n",
       "    <tr>\n",
       "      <th>일사(MJ/m2)</th>\n",
       "      <td>38.411304</td>\n",
       "      <td>4</td>\n",
       "    </tr>\n",
       "    <tr>\n",
       "      <th>지면온도(°C)</th>\n",
       "      <td>8.904689</td>\n",
       "      <td>5</td>\n",
       "    </tr>\n",
       "    <tr>\n",
       "      <th>기온(°C)</th>\n",
       "      <td>8.531690</td>\n",
       "      <td>6</td>\n",
       "    </tr>\n",
       "    <tr>\n",
       "      <th>일조(hr)</th>\n",
       "      <td>5.330676</td>\n",
       "      <td>7</td>\n",
       "    </tr>\n",
       "    <tr>\n",
       "      <th>하루전_현재수요(MW)</th>\n",
       "      <td>4.761150</td>\n",
       "      <td>8</td>\n",
       "    </tr>\n",
       "    <tr>\n",
       "      <th>smp(원/kWh)</th>\n",
       "      <td>3.520435</td>\n",
       "      <td>9</td>\n",
       "    </tr>\n",
       "    <tr>\n",
       "      <th>발전량</th>\n",
       "      <td>2.561282</td>\n",
       "      <td>10</td>\n",
       "    </tr>\n",
       "    <tr>\n",
       "      <th>현지기압(hPa)</th>\n",
       "      <td>2.265888</td>\n",
       "      <td>11</td>\n",
       "    </tr>\n",
       "    <tr>\n",
       "      <th>Year</th>\n",
       "      <td>1.963959</td>\n",
       "      <td>12</td>\n",
       "    </tr>\n",
       "    <tr>\n",
       "      <th>강수량(mm)</th>\n",
       "      <td>1.902280</td>\n",
       "      <td>13</td>\n",
       "    </tr>\n",
       "    <tr>\n",
       "      <th>휴일</th>\n",
       "      <td>1.856314</td>\n",
       "      <td>14</td>\n",
       "    </tr>\n",
       "    <tr>\n",
       "      <th>적설(cm)</th>\n",
       "      <td>1.607620</td>\n",
       "      <td>15</td>\n",
       "    </tr>\n",
       "    <tr>\n",
       "      <th>습도(%)</th>\n",
       "      <td>1.582947</td>\n",
       "      <td>16</td>\n",
       "    </tr>\n",
       "    <tr>\n",
       "      <th>Month</th>\n",
       "      <td>1.051517</td>\n",
       "      <td>17</td>\n",
       "    </tr>\n",
       "    <tr>\n",
       "      <th>Day</th>\n",
       "      <td>0.954725</td>\n",
       "      <td>18</td>\n",
       "    </tr>\n",
       "    <tr>\n",
       "      <th>풍속(m/s)</th>\n",
       "      <td>0.552414</td>\n",
       "      <td>19</td>\n",
       "    </tr>\n",
       "  </tbody>\n",
       "</table>\n",
       "</div>"
      ],
      "text/plain": [
       "                     value  shap_rank\n",
       "features                             \n",
       "5분전_현재수요(MW)   7117.721187          1\n",
       "Hour             61.003732          2\n",
       "1시간전_현재수요(MW)    49.890372          3\n",
       "일사(MJ/m2)        38.411304          4\n",
       "지면온도(°C)          8.904689          5\n",
       "기온(°C)            8.531690          6\n",
       "일조(hr)            5.330676          7\n",
       "하루전_현재수요(MW)      4.761150          8\n",
       "smp(원/kWh)        3.520435          9\n",
       "발전량               2.561282         10\n",
       "현지기압(hPa)         2.265888         11\n",
       "Year              1.963959         12\n",
       "강수량(mm)           1.902280         13\n",
       "휴일                1.856314         14\n",
       "적설(cm)            1.607620         15\n",
       "습도(%)             1.582947         16\n",
       "Month             1.051517         17\n",
       "Day               0.954725         18\n",
       "풍속(m/s)           0.552414         19"
      ]
     },
     "execution_count": 21,
     "metadata": {},
     "output_type": "execute_result"
    }
   ],
   "source": [
    "shap"
   ]
  },
  {
   "cell_type": "code",
   "execution_count": 22,
   "id": "09306c9e",
   "metadata": {},
   "outputs": [],
   "source": [
    "merge_df = pd.merge(mrmr, shap, left_index=True, right_index=True)\n",
    "merge_df.drop('value', axis=1, inplace=True)"
   ]
  },
  {
   "cell_type": "code",
   "execution_count": 23,
   "id": "2c5ea5c2",
   "metadata": {},
   "outputs": [],
   "source": [
    "merge_df['sum'] = (merge_df['rank'] ** 2) + (merge_df['shap_rank'] **2)"
   ]
  },
  {
   "cell_type": "code",
   "execution_count": 24,
   "id": "bbc0c4e7",
   "metadata": {},
   "outputs": [],
   "source": [
    "merge_df.sort_values('sum', ascending=True, inplace=True)"
   ]
  },
  {
   "cell_type": "code",
   "execution_count": 25,
   "id": "e68a03b8",
   "metadata": {},
   "outputs": [
    {
     "data": {
      "text/html": [
       "<div>\n",
       "<style scoped>\n",
       "    .dataframe tbody tr th:only-of-type {\n",
       "        vertical-align: middle;\n",
       "    }\n",
       "\n",
       "    .dataframe tbody tr th {\n",
       "        vertical-align: top;\n",
       "    }\n",
       "\n",
       "    .dataframe thead th {\n",
       "        text-align: right;\n",
       "    }\n",
       "</style>\n",
       "<table border=\"1\" class=\"dataframe\">\n",
       "  <thead>\n",
       "    <tr style=\"text-align: right;\">\n",
       "      <th></th>\n",
       "      <th>rank</th>\n",
       "      <th>shap_rank</th>\n",
       "      <th>sum</th>\n",
       "    </tr>\n",
       "    <tr>\n",
       "      <th>features</th>\n",
       "      <th></th>\n",
       "      <th></th>\n",
       "      <th></th>\n",
       "    </tr>\n",
       "  </thead>\n",
       "  <tbody>\n",
       "    <tr>\n",
       "      <th>5분전_현재수요(MW)</th>\n",
       "      <td>1</td>\n",
       "      <td>1</td>\n",
       "      <td>2</td>\n",
       "    </tr>\n",
       "    <tr>\n",
       "      <th>1시간전_현재수요(MW)</th>\n",
       "      <td>2</td>\n",
       "      <td>3</td>\n",
       "      <td>13</td>\n",
       "    </tr>\n",
       "    <tr>\n",
       "      <th>Hour</th>\n",
       "      <td>4</td>\n",
       "      <td>2</td>\n",
       "      <td>20</td>\n",
       "    </tr>\n",
       "    <tr>\n",
       "      <th>하루전_현재수요(MW)</th>\n",
       "      <td>3</td>\n",
       "      <td>8</td>\n",
       "      <td>73</td>\n",
       "    </tr>\n",
       "    <tr>\n",
       "      <th>smp(원/kWh)</th>\n",
       "      <td>7</td>\n",
       "      <td>9</td>\n",
       "      <td>130</td>\n",
       "    </tr>\n",
       "    <tr>\n",
       "      <th>일조(hr)</th>\n",
       "      <td>10</td>\n",
       "      <td>7</td>\n",
       "      <td>149</td>\n",
       "    </tr>\n",
       "    <tr>\n",
       "      <th>일사(MJ/m2)</th>\n",
       "      <td>14</td>\n",
       "      <td>4</td>\n",
       "      <td>212</td>\n",
       "    </tr>\n",
       "    <tr>\n",
       "      <th>발전량</th>\n",
       "      <td>11</td>\n",
       "      <td>10</td>\n",
       "      <td>221</td>\n",
       "    </tr>\n",
       "    <tr>\n",
       "      <th>휴일</th>\n",
       "      <td>6</td>\n",
       "      <td>14</td>\n",
       "      <td>232</td>\n",
       "    </tr>\n",
       "    <tr>\n",
       "      <th>적설(cm)</th>\n",
       "      <td>5</td>\n",
       "      <td>15</td>\n",
       "      <td>250</td>\n",
       "    </tr>\n",
       "    <tr>\n",
       "      <th>현지기압(hPa)</th>\n",
       "      <td>12</td>\n",
       "      <td>11</td>\n",
       "      <td>265</td>\n",
       "    </tr>\n",
       "    <tr>\n",
       "      <th>기온(°C)</th>\n",
       "      <td>16</td>\n",
       "      <td>6</td>\n",
       "      <td>292</td>\n",
       "    </tr>\n",
       "    <tr>\n",
       "      <th>Year</th>\n",
       "      <td>13</td>\n",
       "      <td>12</td>\n",
       "      <td>313</td>\n",
       "    </tr>\n",
       "    <tr>\n",
       "      <th>습도(%)</th>\n",
       "      <td>9</td>\n",
       "      <td>16</td>\n",
       "      <td>337</td>\n",
       "    </tr>\n",
       "    <tr>\n",
       "      <th>지면온도(°C)</th>\n",
       "      <td>18</td>\n",
       "      <td>5</td>\n",
       "      <td>349</td>\n",
       "    </tr>\n",
       "    <tr>\n",
       "      <th>풍속(m/s)</th>\n",
       "      <td>8</td>\n",
       "      <td>19</td>\n",
       "      <td>425</td>\n",
       "    </tr>\n",
       "    <tr>\n",
       "      <th>Month</th>\n",
       "      <td>15</td>\n",
       "      <td>17</td>\n",
       "      <td>514</td>\n",
       "    </tr>\n",
       "    <tr>\n",
       "      <th>강수량(mm)</th>\n",
       "      <td>19</td>\n",
       "      <td>13</td>\n",
       "      <td>530</td>\n",
       "    </tr>\n",
       "    <tr>\n",
       "      <th>Day</th>\n",
       "      <td>17</td>\n",
       "      <td>18</td>\n",
       "      <td>613</td>\n",
       "    </tr>\n",
       "  </tbody>\n",
       "</table>\n",
       "</div>"
      ],
      "text/plain": [
       "               rank  shap_rank  sum\n",
       "features                           \n",
       "5분전_현재수요(MW)      1          1    2\n",
       "1시간전_현재수요(MW)     2          3   13\n",
       "Hour              4          2   20\n",
       "하루전_현재수요(MW)      3          8   73\n",
       "smp(원/kWh)        7          9  130\n",
       "일조(hr)           10          7  149\n",
       "일사(MJ/m2)        14          4  212\n",
       "발전량              11         10  221\n",
       "휴일                6         14  232\n",
       "적설(cm)            5         15  250\n",
       "현지기압(hPa)        12         11  265\n",
       "기온(°C)           16          6  292\n",
       "Year             13         12  313\n",
       "습도(%)             9         16  337\n",
       "지면온도(°C)         18          5  349\n",
       "풍속(m/s)           8         19  425\n",
       "Month            15         17  514\n",
       "강수량(mm)          19         13  530\n",
       "Day              17         18  613"
      ]
     },
     "execution_count": 25,
     "metadata": {},
     "output_type": "execute_result"
    }
   ],
   "source": [
    "merge_df"
   ]
  },
  {
   "cell_type": "markdown",
   "id": "1e1c4875",
   "metadata": {},
   "source": [
    "# 인덱스 순위"
   ]
  },
  {
   "cell_type": "code",
   "execution_count": 26,
   "id": "f96daabb",
   "metadata": {},
   "outputs": [
    {
     "data": {
      "text/plain": [
       "Index(['5분전_현재수요(MW)', '1시간전_현재수요(MW)', 'Hour', '하루전_현재수요(MW)', 'smp(원/kWh)',\n",
       "       '일조(hr)', '일사(MJ/m2)', '발전량', '휴일', '적설(cm)', '현지기압(hPa)', '기온(°C)',\n",
       "       'Year', '습도(%)', '지면온도(°C)', '풍속(m/s)', 'Month', '강수량(mm)', 'Day'],\n",
       "      dtype='object', name='features')"
      ]
     },
     "execution_count": 26,
     "metadata": {},
     "output_type": "execute_result"
    }
   ],
   "source": [
    "merge_df.index"
   ]
  },
  {
   "cell_type": "code",
   "execution_count": 27,
   "id": "71a7c9fa",
   "metadata": {},
   "outputs": [
    {
     "data": {
      "text/html": [
       "<div>\n",
       "<style scoped>\n",
       "    .dataframe tbody tr th:only-of-type {\n",
       "        vertical-align: middle;\n",
       "    }\n",
       "\n",
       "    .dataframe tbody tr th {\n",
       "        vertical-align: top;\n",
       "    }\n",
       "\n",
       "    .dataframe thead th {\n",
       "        text-align: right;\n",
       "    }\n",
       "</style>\n",
       "<table border=\"1\" class=\"dataframe\">\n",
       "  <thead>\n",
       "    <tr style=\"text-align: right;\">\n",
       "      <th></th>\n",
       "      <th>5분전_현재수요(MW)</th>\n",
       "      <th>1시간전_현재수요(MW)</th>\n",
       "      <th>Hour</th>\n",
       "      <th>하루전_현재수요(MW)</th>\n",
       "      <th>smp(원/kWh)</th>\n",
       "      <th>일조(hr)</th>\n",
       "      <th>일사(MJ/m2)</th>\n",
       "      <th>발전량</th>\n",
       "      <th>휴일</th>\n",
       "      <th>적설(cm)</th>\n",
       "      <th>현지기압(hPa)</th>\n",
       "      <th>기온(°C)</th>\n",
       "      <th>Year</th>\n",
       "      <th>습도(%)</th>\n",
       "      <th>지면온도(°C)</th>\n",
       "      <th>풍속(m/s)</th>\n",
       "      <th>Month</th>\n",
       "      <th>강수량(mm)</th>\n",
       "      <th>Day</th>\n",
       "    </tr>\n",
       "    <tr>\n",
       "      <th>일시</th>\n",
       "      <th></th>\n",
       "      <th></th>\n",
       "      <th></th>\n",
       "      <th></th>\n",
       "      <th></th>\n",
       "      <th></th>\n",
       "      <th></th>\n",
       "      <th></th>\n",
       "      <th></th>\n",
       "      <th></th>\n",
       "      <th></th>\n",
       "      <th></th>\n",
       "      <th></th>\n",
       "      <th></th>\n",
       "      <th></th>\n",
       "      <th></th>\n",
       "      <th></th>\n",
       "      <th></th>\n",
       "      <th></th>\n",
       "    </tr>\n",
       "  </thead>\n",
       "  <tbody>\n",
       "    <tr>\n",
       "      <th>2018-01-02 01:05:00</th>\n",
       "      <td>58703.40</td>\n",
       "      <td>60556.60</td>\n",
       "      <td>1</td>\n",
       "      <td>58194.60</td>\n",
       "      <td>91.991667</td>\n",
       "      <td>0.0</td>\n",
       "      <td>0.0</td>\n",
       "      <td>5246.400000</td>\n",
       "      <td>0</td>\n",
       "      <td>0.022105</td>\n",
       "      <td>1015.174211</td>\n",
       "      <td>-2.955526</td>\n",
       "      <td>2018</td>\n",
       "      <td>67.514912</td>\n",
       "      <td>-3.007807</td>\n",
       "      <td>1.016140</td>\n",
       "      <td>1</td>\n",
       "      <td>0.000000</td>\n",
       "      <td>2</td>\n",
       "    </tr>\n",
       "    <tr>\n",
       "      <th>2018-01-02 01:10:00</th>\n",
       "      <td>58466.40</td>\n",
       "      <td>60158.70</td>\n",
       "      <td>1</td>\n",
       "      <td>57830.60</td>\n",
       "      <td>91.723333</td>\n",
       "      <td>0.0</td>\n",
       "      <td>0.0</td>\n",
       "      <td>5246.400000</td>\n",
       "      <td>0</td>\n",
       "      <td>0.022105</td>\n",
       "      <td>1015.189474</td>\n",
       "      <td>-2.994211</td>\n",
       "      <td>2018</td>\n",
       "      <td>67.735088</td>\n",
       "      <td>-3.031404</td>\n",
       "      <td>1.009123</td>\n",
       "      <td>1</td>\n",
       "      <td>0.000000</td>\n",
       "      <td>2</td>\n",
       "    </tr>\n",
       "    <tr>\n",
       "      <th>2018-01-02 01:15:00</th>\n",
       "      <td>58508.60</td>\n",
       "      <td>59842.30</td>\n",
       "      <td>1</td>\n",
       "      <td>57745.30</td>\n",
       "      <td>91.455000</td>\n",
       "      <td>0.0</td>\n",
       "      <td>0.0</td>\n",
       "      <td>10428.000000</td>\n",
       "      <td>0</td>\n",
       "      <td>0.022105</td>\n",
       "      <td>1015.204737</td>\n",
       "      <td>-3.032895</td>\n",
       "      <td>2018</td>\n",
       "      <td>67.955263</td>\n",
       "      <td>-3.055000</td>\n",
       "      <td>1.002105</td>\n",
       "      <td>1</td>\n",
       "      <td>0.000000</td>\n",
       "      <td>2</td>\n",
       "    </tr>\n",
       "    <tr>\n",
       "      <th>2018-01-02 01:20:00</th>\n",
       "      <td>58209.90</td>\n",
       "      <td>59771.70</td>\n",
       "      <td>1</td>\n",
       "      <td>57329.60</td>\n",
       "      <td>91.186667</td>\n",
       "      <td>0.0</td>\n",
       "      <td>0.0</td>\n",
       "      <td>5731.200000</td>\n",
       "      <td>0</td>\n",
       "      <td>0.022105</td>\n",
       "      <td>1015.220000</td>\n",
       "      <td>-3.071579</td>\n",
       "      <td>2018</td>\n",
       "      <td>68.175439</td>\n",
       "      <td>-3.078596</td>\n",
       "      <td>0.995088</td>\n",
       "      <td>1</td>\n",
       "      <td>0.000000</td>\n",
       "      <td>2</td>\n",
       "    </tr>\n",
       "    <tr>\n",
       "      <th>2018-01-02 01:25:00</th>\n",
       "      <td>58080.50</td>\n",
       "      <td>59393.60</td>\n",
       "      <td>1</td>\n",
       "      <td>57219.70</td>\n",
       "      <td>90.918333</td>\n",
       "      <td>0.0</td>\n",
       "      <td>0.0</td>\n",
       "      <td>6254.400000</td>\n",
       "      <td>0</td>\n",
       "      <td>0.022105</td>\n",
       "      <td>1015.235263</td>\n",
       "      <td>-3.110263</td>\n",
       "      <td>2018</td>\n",
       "      <td>68.395614</td>\n",
       "      <td>-3.102193</td>\n",
       "      <td>0.988070</td>\n",
       "      <td>1</td>\n",
       "      <td>0.000000</td>\n",
       "      <td>2</td>\n",
       "    </tr>\n",
       "    <tr>\n",
       "      <th>...</th>\n",
       "      <td>...</td>\n",
       "      <td>...</td>\n",
       "      <td>...</td>\n",
       "      <td>...</td>\n",
       "      <td>...</td>\n",
       "      <td>...</td>\n",
       "      <td>...</td>\n",
       "      <td>...</td>\n",
       "      <td>...</td>\n",
       "      <td>...</td>\n",
       "      <td>...</td>\n",
       "      <td>...</td>\n",
       "      <td>...</td>\n",
       "      <td>...</td>\n",
       "      <td>...</td>\n",
       "      <td>...</td>\n",
       "      <td>...</td>\n",
       "      <td>...</td>\n",
       "      <td>...</td>\n",
       "    </tr>\n",
       "    <tr>\n",
       "      <th>2023-03-12 23:35:00</th>\n",
       "      <td>60357.25</td>\n",
       "      <td>60754.29</td>\n",
       "      <td>23</td>\n",
       "      <td>58773.93</td>\n",
       "      <td>220.551667</td>\n",
       "      <td>0.0</td>\n",
       "      <td>0.0</td>\n",
       "      <td>39745.380277</td>\n",
       "      <td>0</td>\n",
       "      <td>0.011491</td>\n",
       "      <td>1010.276667</td>\n",
       "      <td>1.765000</td>\n",
       "      <td>2023</td>\n",
       "      <td>46.180702</td>\n",
       "      <td>1.134386</td>\n",
       "      <td>5.063684</td>\n",
       "      <td>3</td>\n",
       "      <td>0.025482</td>\n",
       "      <td>12</td>\n",
       "    </tr>\n",
       "    <tr>\n",
       "      <th>2023-03-12 23:40:00</th>\n",
       "      <td>60235.18</td>\n",
       "      <td>60707.96</td>\n",
       "      <td>23</td>\n",
       "      <td>58326.83</td>\n",
       "      <td>223.523333</td>\n",
       "      <td>0.0</td>\n",
       "      <td>0.0</td>\n",
       "      <td>39745.380277</td>\n",
       "      <td>0</td>\n",
       "      <td>0.011930</td>\n",
       "      <td>1010.288070</td>\n",
       "      <td>1.720000</td>\n",
       "      <td>2023</td>\n",
       "      <td>46.045614</td>\n",
       "      <td>1.095088</td>\n",
       "      <td>5.050526</td>\n",
       "      <td>3</td>\n",
       "      <td>0.029123</td>\n",
       "      <td>12</td>\n",
       "    </tr>\n",
       "    <tr>\n",
       "      <th>2023-03-12 23:45:00</th>\n",
       "      <td>60106.61</td>\n",
       "      <td>60673.42</td>\n",
       "      <td>23</td>\n",
       "      <td>58038.45</td>\n",
       "      <td>226.495000</td>\n",
       "      <td>0.0</td>\n",
       "      <td>0.0</td>\n",
       "      <td>39745.380277</td>\n",
       "      <td>0</td>\n",
       "      <td>0.012368</td>\n",
       "      <td>1010.299474</td>\n",
       "      <td>1.675000</td>\n",
       "      <td>2023</td>\n",
       "      <td>45.910526</td>\n",
       "      <td>1.055789</td>\n",
       "      <td>5.037368</td>\n",
       "      <td>3</td>\n",
       "      <td>0.032763</td>\n",
       "      <td>12</td>\n",
       "    </tr>\n",
       "    <tr>\n",
       "      <th>2023-03-12 23:50:00</th>\n",
       "      <td>59725.49</td>\n",
       "      <td>60694.90</td>\n",
       "      <td>23</td>\n",
       "      <td>57825.18</td>\n",
       "      <td>229.466667</td>\n",
       "      <td>0.0</td>\n",
       "      <td>0.0</td>\n",
       "      <td>39745.380277</td>\n",
       "      <td>0</td>\n",
       "      <td>0.012807</td>\n",
       "      <td>1010.310877</td>\n",
       "      <td>1.630000</td>\n",
       "      <td>2023</td>\n",
       "      <td>45.775439</td>\n",
       "      <td>1.016491</td>\n",
       "      <td>5.024211</td>\n",
       "      <td>3</td>\n",
       "      <td>0.036404</td>\n",
       "      <td>12</td>\n",
       "    </tr>\n",
       "    <tr>\n",
       "      <th>2023-03-12 23:55:00</th>\n",
       "      <td>59485.58</td>\n",
       "      <td>60442.74</td>\n",
       "      <td>23</td>\n",
       "      <td>57531.41</td>\n",
       "      <td>232.438333</td>\n",
       "      <td>0.0</td>\n",
       "      <td>0.0</td>\n",
       "      <td>39745.380277</td>\n",
       "      <td>0</td>\n",
       "      <td>0.013246</td>\n",
       "      <td>1010.322281</td>\n",
       "      <td>1.585000</td>\n",
       "      <td>2023</td>\n",
       "      <td>45.640351</td>\n",
       "      <td>0.977193</td>\n",
       "      <td>5.011053</td>\n",
       "      <td>3</td>\n",
       "      <td>0.040044</td>\n",
       "      <td>12</td>\n",
       "    </tr>\n",
       "  </tbody>\n",
       "</table>\n",
       "<p>546035 rows × 19 columns</p>\n",
       "</div>"
      ],
      "text/plain": [
       "                     5분전_현재수요(MW)  1시간전_현재수요(MW)  Hour  하루전_현재수요(MW)  \\\n",
       "일시                                                                     \n",
       "2018-01-02 01:05:00      58703.40       60556.60     1      58194.60   \n",
       "2018-01-02 01:10:00      58466.40       60158.70     1      57830.60   \n",
       "2018-01-02 01:15:00      58508.60       59842.30     1      57745.30   \n",
       "2018-01-02 01:20:00      58209.90       59771.70     1      57329.60   \n",
       "2018-01-02 01:25:00      58080.50       59393.60     1      57219.70   \n",
       "...                           ...            ...   ...           ...   \n",
       "2023-03-12 23:35:00      60357.25       60754.29    23      58773.93   \n",
       "2023-03-12 23:40:00      60235.18       60707.96    23      58326.83   \n",
       "2023-03-12 23:45:00      60106.61       60673.42    23      58038.45   \n",
       "2023-03-12 23:50:00      59725.49       60694.90    23      57825.18   \n",
       "2023-03-12 23:55:00      59485.58       60442.74    23      57531.41   \n",
       "\n",
       "                     smp(원/kWh)  일조(hr)  일사(MJ/m2)           발전량  휴일  \\\n",
       "일시                                                                     \n",
       "2018-01-02 01:05:00   91.991667     0.0        0.0   5246.400000   0   \n",
       "2018-01-02 01:10:00   91.723333     0.0        0.0   5246.400000   0   \n",
       "2018-01-02 01:15:00   91.455000     0.0        0.0  10428.000000   0   \n",
       "2018-01-02 01:20:00   91.186667     0.0        0.0   5731.200000   0   \n",
       "2018-01-02 01:25:00   90.918333     0.0        0.0   6254.400000   0   \n",
       "...                         ...     ...        ...           ...  ..   \n",
       "2023-03-12 23:35:00  220.551667     0.0        0.0  39745.380277   0   \n",
       "2023-03-12 23:40:00  223.523333     0.0        0.0  39745.380277   0   \n",
       "2023-03-12 23:45:00  226.495000     0.0        0.0  39745.380277   0   \n",
       "2023-03-12 23:50:00  229.466667     0.0        0.0  39745.380277   0   \n",
       "2023-03-12 23:55:00  232.438333     0.0        0.0  39745.380277   0   \n",
       "\n",
       "                       적설(cm)    현지기압(hPa)    기온(°C)  Year      습도(%)  \\\n",
       "일시                                                                      \n",
       "2018-01-02 01:05:00  0.022105  1015.174211 -2.955526  2018  67.514912   \n",
       "2018-01-02 01:10:00  0.022105  1015.189474 -2.994211  2018  67.735088   \n",
       "2018-01-02 01:15:00  0.022105  1015.204737 -3.032895  2018  67.955263   \n",
       "2018-01-02 01:20:00  0.022105  1015.220000 -3.071579  2018  68.175439   \n",
       "2018-01-02 01:25:00  0.022105  1015.235263 -3.110263  2018  68.395614   \n",
       "...                       ...          ...       ...   ...        ...   \n",
       "2023-03-12 23:35:00  0.011491  1010.276667  1.765000  2023  46.180702   \n",
       "2023-03-12 23:40:00  0.011930  1010.288070  1.720000  2023  46.045614   \n",
       "2023-03-12 23:45:00  0.012368  1010.299474  1.675000  2023  45.910526   \n",
       "2023-03-12 23:50:00  0.012807  1010.310877  1.630000  2023  45.775439   \n",
       "2023-03-12 23:55:00  0.013246  1010.322281  1.585000  2023  45.640351   \n",
       "\n",
       "                     지면온도(°C)   풍속(m/s)  Month   강수량(mm)  Day  \n",
       "일시                                                             \n",
       "2018-01-02 01:05:00 -3.007807  1.016140      1  0.000000    2  \n",
       "2018-01-02 01:10:00 -3.031404  1.009123      1  0.000000    2  \n",
       "2018-01-02 01:15:00 -3.055000  1.002105      1  0.000000    2  \n",
       "2018-01-02 01:20:00 -3.078596  0.995088      1  0.000000    2  \n",
       "2018-01-02 01:25:00 -3.102193  0.988070      1  0.000000    2  \n",
       "...                       ...       ...    ...       ...  ...  \n",
       "2023-03-12 23:35:00  1.134386  5.063684      3  0.025482   12  \n",
       "2023-03-12 23:40:00  1.095088  5.050526      3  0.029123   12  \n",
       "2023-03-12 23:45:00  1.055789  5.037368      3  0.032763   12  \n",
       "2023-03-12 23:50:00  1.016491  5.024211      3  0.036404   12  \n",
       "2023-03-12 23:55:00  0.977193  5.011053      3  0.040044   12  \n",
       "\n",
       "[546035 rows x 19 columns]"
      ]
     },
     "execution_count": 27,
     "metadata": {},
     "output_type": "execute_result"
    }
   ],
   "source": [
    "X = X[merge_df.index]\n",
    "X"
   ]
  },
  {
   "cell_type": "code",
   "execution_count": 28,
   "id": "6f1f92af",
   "metadata": {},
   "outputs": [
    {
     "data": {
      "text/plain": [
       "(2016, 19)"
      ]
     },
     "execution_count": 28,
     "metadata": {},
     "output_type": "execute_result"
    }
   ],
   "source": [
    "X_test.shape"
   ]
  },
  {
   "cell_type": "code",
   "execution_count": 29,
   "id": "bb0f8f89",
   "metadata": {},
   "outputs": [],
   "source": [
    "X_test = X_test.reindex(columns=merge_df.index)\n",
    "\n",
    "X_test = X_test.iloc[:, :]"
   ]
  },
  {
   "cell_type": "code",
   "execution_count": 30,
   "id": "46dddb26",
   "metadata": {},
   "outputs": [
    {
     "data": {
      "text/plain": [
       "((546035, 19), (2016, 19), (546035,), (2016,))"
      ]
     },
     "execution_count": 30,
     "metadata": {},
     "output_type": "execute_result"
    }
   ],
   "source": [
    "X.shape, X_test.shape, y.shape, y_test.shape"
   ]
  },
  {
   "cell_type": "markdown",
   "id": "4267b12d",
   "metadata": {},
   "source": [
    "# XGBoost"
   ]
  },
  {
   "cell_type": "code",
   "execution_count": 31,
   "id": "0a1492ea",
   "metadata": {},
   "outputs": [
    {
     "name": "stderr",
     "output_type": "stream",
     "text": [
      "\u001b[32m[I 2023-07-19 16:40:14,176]\u001b[0m A new study created in memory with name: no-name-d1916d56-2ee6-41b3-854d-aabe5d653820\u001b[0m\n",
      "\u001b[32m[I 2023-07-19 16:40:15,318]\u001b[0m Trial 0 finished with value: 0.5520864371252289 and parameters: {'max_depth': 8, 'eta': 0.0562256075724892, 'gamma': 0.6541060402481758, 'subsample': 0.883495115043614, 'colsample_bytree': 0.29577298071606933}. Best is trial 0 with value: 0.5520864371252289.\u001b[0m\n"
     ]
    },
    {
     "name": "stdout",
     "output_type": "stream",
     "text": [
      "MAPE: 0.5520864371252289\n"
     ]
    },
    {
     "name": "stderr",
     "output_type": "stream",
     "text": [
      "\u001b[32m[I 2023-07-19 16:40:17,473]\u001b[0m Trial 1 finished with value: 0.006483302110272882 and parameters: {'max_depth': 9, 'eta': 0.7157087284644763, 'gamma': 0.06939348227948856, 'subsample': 0.7954924040256174, 'colsample_bytree': 0.8467328574239827}. Best is trial 1 with value: 0.006483302110272882.\u001b[0m\n"
     ]
    },
    {
     "name": "stdout",
     "output_type": "stream",
     "text": [
      "MAPE: 0.006483302110272882\n"
     ]
    },
    {
     "name": "stderr",
     "output_type": "stream",
     "text": [
      "\u001b[32m[I 2023-07-19 16:40:18,432]\u001b[0m Trial 2 finished with value: 0.312458275906923 and parameters: {'max_depth': 7, 'eta': 0.10969637818823726, 'gamma': 0.01657158701853103, 'subsample': 0.33184787827403317, 'colsample_bytree': 0.8581381600946386}. Best is trial 1 with value: 0.006483302110272882.\u001b[0m\n"
     ]
    },
    {
     "name": "stdout",
     "output_type": "stream",
     "text": [
      "MAPE: 0.312458275906923\n"
     ]
    },
    {
     "name": "stderr",
     "output_type": "stream",
     "text": [
      "\u001b[32m[I 2023-07-19 16:40:19,069]\u001b[0m Trial 3 finished with value: 0.5704835040297466 and parameters: {'max_depth': 7, 'eta': 0.05350307748763871, 'gamma': 0.6071668871850199, 'subsample': 0.24419145843953413, 'colsample_bytree': 0.35809387380710256}. Best is trial 1 with value: 0.006483302110272882.\u001b[0m\n"
     ]
    },
    {
     "name": "stdout",
     "output_type": "stream",
     "text": [
      "MAPE: 0.5704835040297466\n"
     ]
    },
    {
     "name": "stderr",
     "output_type": "stream",
     "text": [
      "\u001b[32m[I 2023-07-19 16:40:19,695]\u001b[0m Trial 4 finished with value: 0.07572364070514774 and parameters: {'max_depth': 6, 'eta': 0.27263830537300066, 'gamma': 0.04706919635536429, 'subsample': 0.8940514248275461, 'colsample_bytree': 0.13470659157975415}. Best is trial 1 with value: 0.006483302110272882.\u001b[0m\n"
     ]
    },
    {
     "name": "stdout",
     "output_type": "stream",
     "text": [
      "MAPE: 0.07572364070514774\n"
     ]
    },
    {
     "name": "stderr",
     "output_type": "stream",
     "text": [
      "\u001b[32m[I 2023-07-19 16:40:20,018]\u001b[0m Trial 5 finished with value: 0.8946758702925868 and parameters: {'max_depth': 2, 'eta': 0.010626998631106417, 'gamma': 0.03042370007561519, 'subsample': 0.6251638528458836, 'colsample_bytree': 0.24161715347685075}. Best is trial 1 with value: 0.006483302110272882.\u001b[0m\n"
     ]
    },
    {
     "name": "stdout",
     "output_type": "stream",
     "text": [
      "MAPE: 0.8946758702925868\n"
     ]
    },
    {
     "name": "stderr",
     "output_type": "stream",
     "text": [
      "\u001b[32m[I 2023-07-19 16:40:20,299]\u001b[0m Trial 6 finished with value: 0.04206950941082349 and parameters: {'max_depth': 1, 'eta': 0.6934664164757404, 'gamma': 0.6394275125723684, 'subsample': 0.7729657630891628, 'colsample_bytree': 0.6670872888708668}. Best is trial 1 with value: 0.006483302110272882.\u001b[0m\n"
     ]
    },
    {
     "name": "stdout",
     "output_type": "stream",
     "text": [
      "MAPE: 0.04206950941082349\n"
     ]
    },
    {
     "name": "stderr",
     "output_type": "stream",
     "text": [
      "\u001b[32m[I 2023-07-19 16:40:21,671]\u001b[0m Trial 7 finished with value: 0.8906366787454151 and parameters: {'max_depth': 9, 'eta': 0.011513811763110364, 'gamma': 0.2656265186124741, 'subsample': 0.9425446345495065, 'colsample_bytree': 0.973923849625339}. Best is trial 1 with value: 0.006483302110272882.\u001b[0m\n"
     ]
    },
    {
     "name": "stdout",
     "output_type": "stream",
     "text": [
      "MAPE: 0.8906366787454151\n"
     ]
    },
    {
     "name": "stderr",
     "output_type": "stream",
     "text": [
      "\u001b[32m[I 2023-07-19 16:40:22,655]\u001b[0m Trial 8 finished with value: 0.022841866264465265 and parameters: {'max_depth': 7, 'eta': 0.5943092060752397, 'gamma': 0.946419220035337, 'subsample': 0.5317754044083566, 'colsample_bytree': 0.406981542720257}. Best is trial 1 with value: 0.006483302110272882.\u001b[0m\n"
     ]
    },
    {
     "name": "stdout",
     "output_type": "stream",
     "text": [
      "MAPE: 0.022841866264465265\n"
     ]
    },
    {
     "name": "stderr",
     "output_type": "stream",
     "text": [
      "\u001b[32m[I 2023-07-19 16:40:23,413]\u001b[0m Trial 9 finished with value: 0.3504091893910297 and parameters: {'max_depth': 4, 'eta': 0.09931827882154416, 'gamma': 0.1691008670305675, 'subsample': 0.39536896532627375, 'colsample_bytree': 0.9936190929584129}. Best is trial 1 with value: 0.006483302110272882.\u001b[0m\n"
     ]
    },
    {
     "name": "stdout",
     "output_type": "stream",
     "text": [
      "MAPE: 0.3504091893910297\n"
     ]
    },
    {
     "name": "stderr",
     "output_type": "stream",
     "text": [
      "\u001b[32m[I 2023-07-19 16:40:25,738]\u001b[0m Trial 10 finished with value: 0.01982792959562189 and parameters: {'max_depth': 10, 'eta': 0.8975827628950244, 'gamma': 0.07977902201169786, 'subsample': 0.7025962860093815, 'colsample_bytree': 0.6703875659225391}. Best is trial 1 with value: 0.006483302110272882.\u001b[0m\n"
     ]
    },
    {
     "name": "stdout",
     "output_type": "stream",
     "text": [
      "MAPE: 0.01982792959562189\n"
     ]
    },
    {
     "name": "stderr",
     "output_type": "stream",
     "text": [
      "\u001b[32m[I 2023-07-19 16:40:28,171]\u001b[0m Trial 11 finished with value: 0.019550635986541214 and parameters: {'max_depth': 10, 'eta': 0.9433989808945524, 'gamma': 0.08182181175586296, 'subsample': 0.7187347646719936, 'colsample_bytree': 0.6869704344590309}. Best is trial 1 with value: 0.006483302110272882.\u001b[0m\n"
     ]
    },
    {
     "name": "stdout",
     "output_type": "stream",
     "text": [
      "MAPE: 0.019550635986541214\n"
     ]
    },
    {
     "name": "stderr",
     "output_type": "stream",
     "text": [
      "\u001b[32m[I 2023-07-19 16:40:30,586]\u001b[0m Trial 12 finished with value: 0.020697728193521354 and parameters: {'max_depth': 10, 'eta': 0.9948566270234267, 'gamma': 0.08127626449861888, 'subsample': 0.7269118527895017, 'colsample_bytree': 0.7578291997357438}. Best is trial 1 with value: 0.006483302110272882.\u001b[0m\n"
     ]
    },
    {
     "name": "stdout",
     "output_type": "stream",
     "text": [
      "MAPE: 0.020697728193521354\n"
     ]
    },
    {
     "name": "stderr",
     "output_type": "stream",
     "text": [
      "\u001b[32m[I 2023-07-19 16:40:32,164]\u001b[0m Trial 13 finished with value: 0.02513248905343618 and parameters: {'max_depth': 9, 'eta': 0.3162661188213567, 'gamma': 0.04330295545774935, 'subsample': 0.7902853547098427, 'colsample_bytree': 0.5293463575798671}. Best is trial 1 with value: 0.006483302110272882.\u001b[0m\n"
     ]
    },
    {
     "name": "stdout",
     "output_type": "stream",
     "text": [
      "MAPE: 0.02513248905343618\n"
     ]
    },
    {
     "name": "stderr",
     "output_type": "stream",
     "text": [
      "\u001b[32m[I 2023-07-19 16:40:33,045]\u001b[0m Trial 14 finished with value: 0.016498144056862625 and parameters: {'max_depth': 4, 'eta': 0.4338822741118752, 'gamma': 0.14105770972163081, 'subsample': 0.9808059770493434, 'colsample_bytree': 0.8198972415302257}. Best is trial 1 with value: 0.006483302110272882.\u001b[0m\n"
     ]
    },
    {
     "name": "stdout",
     "output_type": "stream",
     "text": [
      "MAPE: 0.016498144056862625\n"
     ]
    },
    {
     "name": "stderr",
     "output_type": "stream",
     "text": [
      "\u001b[32m[I 2023-07-19 16:40:33,952]\u001b[0m Trial 15 finished with value: 0.012566572529989498 and parameters: {'max_depth': 4, 'eta': 0.41069197565040355, 'gamma': 0.171520466351416, 'subsample': 0.9829746808315708, 'colsample_bytree': 0.8492530343246174}. Best is trial 1 with value: 0.006483302110272882.\u001b[0m\n"
     ]
    },
    {
     "name": "stdout",
     "output_type": "stream",
     "text": [
      "MAPE: 0.012566572529989498\n"
     ]
    },
    {
     "name": "stderr",
     "output_type": "stream",
     "text": [
      "\u001b[32m[I 2023-07-19 16:40:34,867]\u001b[0m Trial 16 finished with value: 0.013093073122317398 and parameters: {'max_depth': 4, 'eta': 0.393982954417357, 'gamma': 0.010108261832048208, 'subsample': 0.9969824145762299, 'colsample_bytree': 0.8750502930959916}. Best is trial 1 with value: 0.006483302110272882.\u001b[0m\n"
     ]
    },
    {
     "name": "stdout",
     "output_type": "stream",
     "text": [
      "MAPE: 0.013093073122317398\n"
     ]
    },
    {
     "name": "stderr",
     "output_type": "stream",
     "text": [
      "\u001b[32m[I 2023-07-19 16:40:35,646]\u001b[0m Trial 17 finished with value: 0.06636636485155581 and parameters: {'max_depth': 5, 'eta': 0.23434218010482463, 'gamma': 0.3112129203190468, 'subsample': 0.8771097753613466, 'colsample_bytree': 0.5492000251017288}. Best is trial 1 with value: 0.006483302110272882.\u001b[0m\n"
     ]
    },
    {
     "name": "stdout",
     "output_type": "stream",
     "text": [
      "MAPE: 0.06636636485155581\n"
     ]
    },
    {
     "name": "stderr",
     "output_type": "stream",
     "text": [
      "\u001b[32m[I 2023-07-19 16:40:36,365]\u001b[0m Trial 18 finished with value: 0.016708222363291197 and parameters: {'max_depth': 3, 'eta': 0.5130990472512669, 'gamma': 0.1328363965186397, 'subsample': 0.8623427260921831, 'colsample_bytree': 0.9213237397101997}. Best is trial 1 with value: 0.006483302110272882.\u001b[0m\n"
     ]
    },
    {
     "name": "stdout",
     "output_type": "stream",
     "text": [
      "MAPE: 0.016708222363291197\n"
     ]
    },
    {
     "name": "stderr",
     "output_type": "stream",
     "text": [
      "\u001b[32m[I 2023-07-19 16:40:36,891]\u001b[0m Trial 19 finished with value: 0.11315634289752681 and parameters: {'max_depth': 5, 'eta': 0.19402937995511796, 'gamma': 0.20914503068150758, 'subsample': 0.12936348315692092, 'colsample_bytree': 0.7840081997367213}. Best is trial 1 with value: 0.006483302110272882.\u001b[0m\n"
     ]
    },
    {
     "name": "stdout",
     "output_type": "stream",
     "text": [
      "MAPE: 0.11315634289752681\n"
     ]
    },
    {
     "name": "stderr",
     "output_type": "stream",
     "text": [
      "\u001b[32m[I 2023-07-19 16:40:38,274]\u001b[0m Trial 20 finished with value: 0.008684819597903145 and parameters: {'max_depth': 6, 'eta': 0.595781846122509, 'gamma': 0.2931183169135058, 'subsample': 0.8074258325725425, 'colsample_bytree': 0.9161165316783253}. Best is trial 1 with value: 0.006483302110272882.\u001b[0m\n"
     ]
    },
    {
     "name": "stdout",
     "output_type": "stream",
     "text": [
      "MAPE: 0.008684819597903145\n"
     ]
    },
    {
     "name": "stderr",
     "output_type": "stream",
     "text": [
      "\u001b[32m[I 2023-07-19 16:40:39,625]\u001b[0m Trial 21 finished with value: 0.009140831781579335 and parameters: {'max_depth': 6, 'eta': 0.5718263777042926, 'gamma': 0.38080580459496044, 'subsample': 0.8583423571054581, 'colsample_bytree': 0.916167226941154}. Best is trial 1 with value: 0.006483302110272882.\u001b[0m\n"
     ]
    },
    {
     "name": "stdout",
     "output_type": "stream",
     "text": [
      "MAPE: 0.009140831781579335\n"
     ]
    },
    {
     "name": "stderr",
     "output_type": "stream",
     "text": [
      "\u001b[32m[I 2023-07-19 16:40:40,998]\u001b[0m Trial 22 finished with value: 0.0096649845445842 and parameters: {'max_depth': 6, 'eta': 0.6259628721400907, 'gamma': 0.32980126658048525, 'subsample': 0.8159578187965547, 'colsample_bytree': 0.9263029254724832}. Best is trial 1 with value: 0.006483302110272882.\u001b[0m\n"
     ]
    },
    {
     "name": "stdout",
     "output_type": "stream",
     "text": [
      "MAPE: 0.0096649845445842\n"
     ]
    },
    {
     "name": "stderr",
     "output_type": "stream",
     "text": [
      "\u001b[32m[I 2023-07-19 16:40:42,798]\u001b[0m Trial 23 finished with value: 0.004493315721326031 and parameters: {'max_depth': 8, 'eta': 0.6393465110053457, 'gamma': 0.3779006670604043, 'subsample': 0.6365209359122466, 'colsample_bytree': 0.9955244998372184}. Best is trial 23 with value: 0.004493315721326031.\u001b[0m\n"
     ]
    },
    {
     "name": "stdout",
     "output_type": "stream",
     "text": [
      "MAPE: 0.004493315721326031\n"
     ]
    },
    {
     "name": "stderr",
     "output_type": "stream",
     "text": [
      "\u001b[32m[I 2023-07-19 16:40:44,595]\u001b[0m Trial 24 finished with value: 0.004501212948935952 and parameters: {'max_depth': 8, 'eta': 0.6747589154175415, 'gamma': 0.11282450648970636, 'subsample': 0.6352849311405426, 'colsample_bytree': 0.9988614468574795}. Best is trial 23 with value: 0.004493315721326031.\u001b[0m\n"
     ]
    },
    {
     "name": "stdout",
     "output_type": "stream",
     "text": [
      "MAPE: 0.004501212948935952\n"
     ]
    },
    {
     "name": "stderr",
     "output_type": "stream",
     "text": [
      "\u001b[32m[I 2023-07-19 16:40:46,470]\u001b[0m Trial 25 finished with value: 0.005034902217407777 and parameters: {'max_depth': 8, 'eta': 0.8377523649860851, 'gamma': 0.11086540637989818, 'subsample': 0.6002037500429843, 'colsample_bytree': 0.9916037761911621}. Best is trial 23 with value: 0.004493315721326031.\u001b[0m\n"
     ]
    },
    {
     "name": "stdout",
     "output_type": "stream",
     "text": [
      "MAPE: 0.005034902217407777\n"
     ]
    },
    {
     "name": "stderr",
     "output_type": "stream",
     "text": [
      "\u001b[32m[I 2023-07-19 16:40:48,107]\u001b[0m Trial 26 finished with value: 0.010950468683927187 and parameters: {'max_depth': 8, 'eta': 0.363015145570906, 'gamma': 0.11362679164168121, 'subsample': 0.5754169469422261, 'colsample_bytree': 0.9897089377069379}. Best is trial 23 with value: 0.004493315721326031.\u001b[0m\n"
     ]
    },
    {
     "name": "stdout",
     "output_type": "stream",
     "text": [
      "MAPE: 0.010950468683927187\n"
     ]
    },
    {
     "name": "stderr",
     "output_type": "stream",
     "text": [
      "\u001b[32m[I 2023-07-19 16:40:50,014]\u001b[0m Trial 27 finished with value: 0.005524132927523577 and parameters: {'max_depth': 8, 'eta': 0.9612955652415967, 'gamma': 0.20889197443013888, 'subsample': 0.6352129447370146, 'colsample_bytree': 0.9816280327947196}. Best is trial 23 with value: 0.004493315721326031.\u001b[0m\n"
     ]
    },
    {
     "name": "stdout",
     "output_type": "stream",
     "text": [
      "MAPE: 0.005524132927523577\n"
     ]
    },
    {
     "name": "stderr",
     "output_type": "stream",
     "text": [
      "\u001b[32m[I 2023-07-19 16:40:51,690]\u001b[0m Trial 28 finished with value: 0.009313555259001731 and parameters: {'max_depth': 8, 'eta': 0.4454182448141773, 'gamma': 0.11241669126460765, 'subsample': 0.5099946703630251, 'colsample_bytree': 0.7583486704048651}. Best is trial 23 with value: 0.004493315721326031.\u001b[0m\n"
     ]
    },
    {
     "name": "stdout",
     "output_type": "stream",
     "text": [
      "MAPE: 0.009313555259001731\n"
     ]
    },
    {
     "name": "stderr",
     "output_type": "stream",
     "text": [
      "\u001b[32m[I 2023-07-19 16:40:53,146]\u001b[0m Trial 29 finished with value: 0.03348634249027304 and parameters: {'max_depth': 8, 'eta': 0.2871066867925482, 'gamma': 0.41479630651432026, 'subsample': 0.4823369800405537, 'colsample_bytree': 0.992050631472525}. Best is trial 23 with value: 0.004493315721326031.\u001b[0m\n"
     ]
    },
    {
     "name": "stdout",
     "output_type": "stream",
     "text": [
      "MAPE: 0.03348634249027304\n"
     ]
    },
    {
     "name": "stderr",
     "output_type": "stream",
     "text": [
      "\u001b[32m[I 2023-07-19 16:40:55,245]\u001b[0m Trial 30 finished with value: 0.00738201101999535 and parameters: {'max_depth': 9, 'eta': 0.7793953925348973, 'gamma': 0.477352345793641, 'subsample': 0.6628410508472146, 'colsample_bytree': 0.8913476882349991}. Best is trial 23 with value: 0.004493315721326031.\u001b[0m\n"
     ]
    },
    {
     "name": "stdout",
     "output_type": "stream",
     "text": [
      "MAPE: 0.00738201101999535\n"
     ]
    },
    {
     "name": "stderr",
     "output_type": "stream",
     "text": [
      "\u001b[32m[I 2023-07-19 16:40:56,795]\u001b[0m Trial 31 finished with value: 0.005856239256216546 and parameters: {'max_depth': 7, 'eta': 0.7501555212711082, 'gamma': 0.23347568657743223, 'subsample': 0.6002375543841623, 'colsample_bytree': 0.9487940289020219}. Best is trial 23 with value: 0.004493315721326031.\u001b[0m\n"
     ]
    },
    {
     "name": "stdout",
     "output_type": "stream",
     "text": [
      "MAPE: 0.005856239256216546\n"
     ]
    },
    {
     "name": "stderr",
     "output_type": "stream",
     "text": [
      "\u001b[32m[I 2023-07-19 16:40:58,696]\u001b[0m Trial 32 finished with value: 0.007446171174834009 and parameters: {'max_depth': 8, 'eta': 0.8854391640003624, 'gamma': 0.21217528019228885, 'subsample': 0.643756499176726, 'colsample_bytree': 0.9427129197858597}. Best is trial 23 with value: 0.004493315721326031.\u001b[0m\n"
     ]
    },
    {
     "name": "stdout",
     "output_type": "stream",
     "text": [
      "MAPE: 0.007446171174834009\n"
     ]
    },
    {
     "name": "stderr",
     "output_type": "stream",
     "text": [
      "\u001b[32m[I 2023-07-19 16:41:00,793]\u001b[0m Trial 33 finished with value: 0.004674121622879272 and parameters: {'max_depth': 9, 'eta': 0.9706073978546468, 'gamma': 0.16013724989173717, 'subsample': 0.5593569685708393, 'colsample_bytree': 0.9956370934154309}. Best is trial 23 with value: 0.004493315721326031.\u001b[0m\n"
     ]
    },
    {
     "name": "stdout",
     "output_type": "stream",
     "text": [
      "MAPE: 0.004674121622879272\n"
     ]
    },
    {
     "name": "stderr",
     "output_type": "stream",
     "text": [
      "\u001b[32m[I 2023-07-19 16:41:02,698]\u001b[0m Trial 34 finished with value: 0.005773842167807008 and parameters: {'max_depth': 9, 'eta': 0.5009277626932386, 'gamma': 0.1081607041951234, 'subsample': 0.5590156048654799, 'colsample_bytree': 0.8524132651987365}. Best is trial 23 with value: 0.004493315721326031.\u001b[0m\n"
     ]
    },
    {
     "name": "stdout",
     "output_type": "stream",
     "text": [
      "MAPE: 0.005773842167807008\n"
     ]
    },
    {
     "name": "stderr",
     "output_type": "stream",
     "text": [
      "\u001b[32m[I 2023-07-19 16:41:04,149]\u001b[0m Trial 35 finished with value: 0.007275505522425784 and parameters: {'max_depth': 7, 'eta': 0.6556665642508773, 'gamma': 0.16451560047579333, 'subsample': 0.47813813552419165, 'colsample_bytree': 0.8934629173782502}. Best is trial 23 with value: 0.004493315721326031.\u001b[0m\n"
     ]
    },
    {
     "name": "stdout",
     "output_type": "stream",
     "text": [
      "MAPE: 0.007275505522425784\n"
     ]
    },
    {
     "name": "stderr",
     "output_type": "stream",
     "text": [
      "\u001b[32m[I 2023-07-19 16:41:06,523]\u001b[0m Trial 36 finished with value: 0.016673728145036343 and parameters: {'max_depth': 10, 'eta': 0.7384915280191802, 'gamma': 0.06393010688505296, 'subsample': 0.5851321574763902, 'colsample_bytree': 0.8147971758328068}. Best is trial 23 with value: 0.004493315721326031.\u001b[0m\n"
     ]
    },
    {
     "name": "stdout",
     "output_type": "stream",
     "text": [
      "MAPE: 0.016673728145036343\n"
     ]
    },
    {
     "name": "stderr",
     "output_type": "stream",
     "text": [
      "\u001b[32m[I 2023-07-19 16:41:08,083]\u001b[0m Trial 37 finished with value: 0.004873079476613563 and parameters: {'max_depth': 7, 'eta': 0.5179319520731506, 'gamma': 0.5195304887471452, 'subsample': 0.659645511315831, 'colsample_bytree': 0.9989593801899812}. Best is trial 23 with value: 0.004493315721326031.\u001b[0m\n"
     ]
    },
    {
     "name": "stdout",
     "output_type": "stream",
     "text": [
      "MAPE: 0.004873079476613563\n"
     ]
    },
    {
     "name": "stderr",
     "output_type": "stream",
     "text": [
      "\u001b[32m[I 2023-07-19 16:41:09,642]\u001b[0m Trial 38 finished with value: 0.007609789689316994 and parameters: {'max_depth': 7, 'eta': 0.486016034482276, 'gamma': 0.5013469394772493, 'subsample': 0.6794272334231356, 'colsample_bytree': 0.9394436125563724}. Best is trial 23 with value: 0.004493315721326031.\u001b[0m\n"
     ]
    },
    {
     "name": "stdout",
     "output_type": "stream",
     "text": [
      "MAPE: 0.007609789689316994\n"
     ]
    },
    {
     "name": "stderr",
     "output_type": "stream",
     "text": [
      "\u001b[32m[I 2023-07-19 16:41:11,451]\u001b[0m Trial 39 finished with value: 0.020637015644676734 and parameters: {'max_depth': 9, 'eta': 0.32012666462059536, 'gamma': 0.7805880464963336, 'subsample': 0.7452763845029574, 'colsample_bytree': 0.8741116070343781}. Best is trial 23 with value: 0.004493315721326031.\u001b[0m\n"
     ]
    },
    {
     "name": "stdout",
     "output_type": "stream",
     "text": [
      "MAPE: 0.020637015644676734\n"
     ]
    },
    {
     "name": "stderr",
     "output_type": "stream",
     "text": [
      "\u001b[32m[I 2023-07-19 16:41:13,048]\u001b[0m Trial 40 finished with value: 0.0074112928764592636 and parameters: {'max_depth': 7, 'eta': 0.6761252324866203, 'gamma': 0.6023261154632861, 'subsample': 0.6664878970461869, 'colsample_bytree': 0.9469253869898495}. Best is trial 23 with value: 0.004493315721326031.\u001b[0m\n"
     ]
    },
    {
     "name": "stdout",
     "output_type": "stream",
     "text": [
      "MAPE: 0.0074112928764592636\n"
     ]
    },
    {
     "name": "stderr",
     "output_type": "stream",
     "text": [
      "\u001b[32m[I 2023-07-19 16:41:14,855]\u001b[0m Trial 41 finished with value: 0.004773128890446137 and parameters: {'max_depth': 8, 'eta': 0.7745884471212503, 'gamma': 0.2675177797597656, 'subsample': 0.6086969185688518, 'colsample_bytree': 0.9900429097058371}. Best is trial 23 with value: 0.004493315721326031.\u001b[0m\n"
     ]
    },
    {
     "name": "stdout",
     "output_type": "stream",
     "text": [
      "MAPE: 0.004773128890446137\n"
     ]
    },
    {
     "name": "stderr",
     "output_type": "stream",
     "text": [
      "\u001b[32m[I 2023-07-19 16:41:16,589]\u001b[0m Trial 42 finished with value: 0.004215102777423843 and parameters: {'max_depth': 8, 'eta': 0.5593843240728775, 'gamma': 0.3648726701457527, 'subsample': 0.5372080584163395, 'colsample_bytree': 0.9547532912550681}. Best is trial 42 with value: 0.004215102777423843.\u001b[0m\n"
     ]
    },
    {
     "name": "stdout",
     "output_type": "stream",
     "text": [
      "MAPE: 0.004215102777423843\n"
     ]
    },
    {
     "name": "stderr",
     "output_type": "stream",
     "text": [
      "\u001b[32m[I 2023-07-19 16:41:18,624]\u001b[0m Trial 43 finished with value: 0.004250010654280144 and parameters: {'max_depth': 9, 'eta': 0.747692117233676, 'gamma': 0.2739646143595762, 'subsample': 0.5314344609717889, 'colsample_bytree': 0.9541487797662878}. Best is trial 42 with value: 0.004215102777423843.\u001b[0m\n"
     ]
    },
    {
     "name": "stdout",
     "output_type": "stream",
     "text": [
      "MAPE: 0.004250010654280144\n"
     ]
    },
    {
     "name": "stderr",
     "output_type": "stream",
     "text": [
      "\u001b[32m[I 2023-07-19 16:41:20,723]\u001b[0m Trial 44 finished with value: 0.008080895005683427 and parameters: {'max_depth': 9, 'eta': 0.9828320575014073, 'gamma': 0.36914820533685005, 'subsample': 0.536411971020885, 'colsample_bytree': 0.8924041110521403}. Best is trial 42 with value: 0.004215102777423843.\u001b[0m\n"
     ]
    },
    {
     "name": "stdout",
     "output_type": "stream",
     "text": [
      "MAPE: 0.008080895005683427\n"
     ]
    },
    {
     "name": "stderr",
     "output_type": "stream",
     "text": [
      "\u001b[32m[I 2023-07-19 16:41:22,789]\u001b[0m Trial 45 finished with value: 0.006043676333802321 and parameters: {'max_depth': 10, 'eta': 0.6116900274064327, 'gamma': 0.26174584464085665, 'subsample': 0.4459566139177138, 'colsample_bytree': 0.8431584824396237}. Best is trial 42 with value: 0.004215102777423843.\u001b[0m\n"
     ]
    },
    {
     "name": "stdout",
     "output_type": "stream",
     "text": [
      "MAPE: 0.006043676333802321\n"
     ]
    },
    {
     "name": "stderr",
     "output_type": "stream",
     "text": [
      "\u001b[32m[I 2023-07-19 16:41:24,595]\u001b[0m Trial 46 finished with value: 0.013015343197003542 and parameters: {'max_depth': 9, 'eta': 0.3540108684771506, 'gamma': 0.39974830119328486, 'subsample': 0.5581781334917776, 'colsample_bytree': 0.9411566494588081}. Best is trial 42 with value: 0.004215102777423843.\u001b[0m\n"
     ]
    },
    {
     "name": "stdout",
     "output_type": "stream",
     "text": [
      "MAPE: 0.013015343197003542\n"
     ]
    },
    {
     "name": "stderr",
     "output_type": "stream",
     "text": [
      "\u001b[32m[I 2023-07-19 16:41:26,514]\u001b[0m Trial 47 finished with value: 0.004149719524390087 and parameters: {'max_depth': 9, 'eta': 0.7698026667937882, 'gamma': 0.3181753893581488, 'subsample': 0.42042651290592364, 'colsample_bytree': 0.9606469104502154}. Best is trial 47 with value: 0.004149719524390087.\u001b[0m\n"
     ]
    },
    {
     "name": "stdout",
     "output_type": "stream",
     "text": [
      "MAPE: 0.004149719524390087\n"
     ]
    },
    {
     "name": "stderr",
     "output_type": "stream",
     "text": [
      "\u001b[32m[I 2023-07-19 16:41:28,262]\u001b[0m Trial 48 finished with value: 0.006058971540803892 and parameters: {'max_depth': 10, 'eta': 0.42389880884445796, 'gamma': 0.7231915387541805, 'subsample': 0.38550513398663766, 'colsample_bytree': 0.8953302702332611}. Best is trial 47 with value: 0.004149719524390087.\u001b[0m\n"
     ]
    },
    {
     "name": "stdout",
     "output_type": "stream",
     "text": [
      "MAPE: 0.006058971540803892\n"
     ]
    },
    {
     "name": "stderr",
     "output_type": "stream",
     "text": [
      "\u001b[32m[I 2023-07-19 16:41:28,586]\u001b[0m Trial 49 finished with value: 0.03744042879624673 and parameters: {'max_depth': 1, 'eta': 0.7100846891276897, 'gamma': 0.3038491992228603, 'subsample': 0.5101154008318777, 'colsample_bytree': 0.7989556355866443}. Best is trial 47 with value: 0.004149719524390087.\u001b[0m\n"
     ]
    },
    {
     "name": "stdout",
     "output_type": "stream",
     "text": [
      "MAPE: 0.03744042879624673\n"
     ]
    },
    {
     "name": "stderr",
     "output_type": "stream",
     "text": [
      "\u001b[32m[I 2023-07-19 16:41:30,439]\u001b[0m Trial 50 finished with value: 0.012101628484075238 and parameters: {'max_depth': 9, 'eta': 0.5462047321669261, 'gamma': 0.4667682897473297, 'subsample': 0.4314373289943634, 'colsample_bytree': 0.8388491517920602}. Best is trial 47 with value: 0.004149719524390087.\u001b[0m\n"
     ]
    },
    {
     "name": "stdout",
     "output_type": "stream",
     "text": [
      "MAPE: 0.012101628484075238\n"
     ]
    },
    {
     "name": "stderr",
     "output_type": "stream",
     "text": [
      "\u001b[32m[I 2023-07-19 16:41:32,471]\u001b[0m Trial 51 finished with value: 0.00574319067434179 and parameters: {'max_depth': 8, 'eta': 0.9960926282150427, 'gamma': 0.1861197635513498, 'subsample': 0.5398798943914742, 'colsample_bytree': 0.9576091069654471}. Best is trial 47 with value: 0.004149719524390087.\u001b[0m\n"
     ]
    },
    {
     "name": "stdout",
     "output_type": "stream",
     "text": [
      "MAPE: 0.00574319067434179\n"
     ]
    },
    {
     "name": "stderr",
     "output_type": "stream",
     "text": [
      "\u001b[32m[I 2023-07-19 16:41:34,662]\u001b[0m Trial 52 finished with value: 0.0042597988938348885 and parameters: {'max_depth': 9, 'eta': 0.8453719028291501, 'gamma': 0.15203854303278355, 'subsample': 0.6181888711702965, 'colsample_bytree': 0.9590542073408921}. Best is trial 47 with value: 0.004149719524390087.\u001b[0m\n"
     ]
    },
    {
     "name": "stdout",
     "output_type": "stream",
     "text": [
      "MAPE: 0.0042597988938348885\n"
     ]
    },
    {
     "name": "stderr",
     "output_type": "stream",
     "text": [
      "\u001b[32m[I 2023-07-19 16:41:36,989]\u001b[0m Trial 53 finished with value: 0.00395982399522716 and parameters: {'max_depth': 10, 'eta': 0.7397591088306154, 'gamma': 0.26317991401455115, 'subsample': 0.6958156908781312, 'colsample_bytree': 0.9578926878274159}. Best is trial 53 with value: 0.00395982399522716.\u001b[0m\n"
     ]
    },
    {
     "name": "stdout",
     "output_type": "stream",
     "text": [
      "MAPE: 0.00395982399522716\n"
     ]
    },
    {
     "name": "stderr",
     "output_type": "stream",
     "text": [
      "\u001b[32m[I 2023-07-19 16:41:39,469]\u001b[0m Trial 54 finished with value: 0.0039562180417022155 and parameters: {'max_depth': 10, 'eta': 0.7694056447210785, 'gamma': 0.24540539640398248, 'subsample': 0.7140687609939077, 'colsample_bytree': 0.9586545028036637}. Best is trial 54 with value: 0.0039562180417022155.\u001b[0m\n"
     ]
    },
    {
     "name": "stdout",
     "output_type": "stream",
     "text": [
      "MAPE: 0.0039562180417022155\n"
     ]
    },
    {
     "name": "stderr",
     "output_type": "stream",
     "text": [
      "\u001b[32m[I 2023-07-19 16:41:42,030]\u001b[0m Trial 55 finished with value: 0.006690928927018812 and parameters: {'max_depth': 10, 'eta': 0.810515286395195, 'gamma': 0.23623453548911266, 'subsample': 0.6844796668092807, 'colsample_bytree': 0.8683707538634298}. Best is trial 54 with value: 0.0039562180417022155.\u001b[0m\n"
     ]
    },
    {
     "name": "stdout",
     "output_type": "stream",
     "text": [
      "MAPE: 0.006690928927018812\n"
     ]
    },
    {
     "name": "stderr",
     "output_type": "stream",
     "text": [
      "\u001b[32m[I 2023-07-19 16:41:44,278]\u001b[0m Trial 56 finished with value: 0.005345578609193727 and parameters: {'max_depth': 10, 'eta': 0.45883732288155915, 'gamma': 0.33321062058956746, 'subsample': 0.7120572829258929, 'colsample_bytree': 0.9099591808986369}. Best is trial 54 with value: 0.0039562180417022155.\u001b[0m\n"
     ]
    },
    {
     "name": "stdout",
     "output_type": "stream",
     "text": [
      "MAPE: 0.005345578609193727\n"
     ]
    },
    {
     "name": "stderr",
     "output_type": "stream",
     "text": [
      "\u001b[32m[I 2023-07-19 16:41:46,502]\u001b[0m Trial 57 finished with value: 0.003554786480584704 and parameters: {'max_depth': 10, 'eta': 0.557432248030609, 'gamma': 0.19457678688062513, 'subsample': 0.7213367943511486, 'colsample_bytree': 0.9585090237041688}. Best is trial 57 with value: 0.003554786480584704.\u001b[0m\n"
     ]
    },
    {
     "name": "stdout",
     "output_type": "stream",
     "text": [
      "MAPE: 0.003554786480584704\n"
     ]
    },
    {
     "name": "stderr",
     "output_type": "stream",
     "text": [
      "\u001b[32m[I 2023-07-19 16:41:48,859]\u001b[0m Trial 58 finished with value: 0.005796369308233961 and parameters: {'max_depth': 10, 'eta': 0.5638952149149427, 'gamma': 0.26480028304241887, 'subsample': 0.7254284550294134, 'colsample_bytree': 0.9182306480702763}. Best is trial 57 with value: 0.003554786480584704.\u001b[0m\n"
     ]
    },
    {
     "name": "stdout",
     "output_type": "stream",
     "text": [
      "MAPE: 0.005796369308233961\n"
     ]
    },
    {
     "name": "stderr",
     "output_type": "stream",
     "text": [
      "\u001b[32m[I 2023-07-19 16:41:50,973]\u001b[0m Trial 59 finished with value: 0.014549410653633507 and parameters: {'max_depth': 10, 'eta': 0.3693310181929226, 'gamma': 0.18765098721403403, 'subsample': 0.7721626964189777, 'colsample_bytree': 0.7140464220727981}. Best is trial 57 with value: 0.003554786480584704.\u001b[0m\n"
     ]
    },
    {
     "name": "stdout",
     "output_type": "stream",
     "text": [
      "MAPE: 0.014549410653633507\n"
     ]
    },
    {
     "name": "stderr",
     "output_type": "stream",
     "text": [
      "\u001b[32m[I 2023-07-19 16:41:52,819]\u001b[0m Trial 60 finished with value: 0.09583044601457984 and parameters: {'max_depth': 10, 'eta': 0.2078699089705685, 'gamma': 0.312052248221835, 'subsample': 0.7618841588424795, 'colsample_bytree': 0.8287435294447536}. Best is trial 57 with value: 0.003554786480584704.\u001b[0m\n"
     ]
    },
    {
     "name": "stdout",
     "output_type": "stream",
     "text": [
      "MAPE: 0.09583044601457984\n"
     ]
    },
    {
     "name": "stderr",
     "output_type": "stream",
     "text": [
      "\u001b[32m[I 2023-07-19 16:41:54,993]\u001b[0m Trial 61 finished with value: 0.004519359099515583 and parameters: {'max_depth': 9, 'eta': 0.820323475302412, 'gamma': 0.14307332082251628, 'subsample': 0.6921623188850274, 'colsample_bytree': 0.9632202547360986}. Best is trial 57 with value: 0.003554786480584704.\u001b[0m\n"
     ]
    },
    {
     "name": "stdout",
     "output_type": "stream",
     "text": [
      "MAPE: 0.004519359099515583\n"
     ]
    },
    {
     "name": "stderr",
     "output_type": "stream",
     "text": [
      "\u001b[32m[I 2023-07-19 16:41:57,198]\u001b[0m Trial 62 finished with value: 0.004413781846991147 and parameters: {'max_depth': 9, 'eta': 0.8424539086242386, 'gamma': 0.23836053958798403, 'subsample': 0.6139757916520419, 'colsample_bytree': 0.9641345895310538}. Best is trial 57 with value: 0.003554786480584704.\u001b[0m\n"
     ]
    },
    {
     "name": "stdout",
     "output_type": "stream",
     "text": [
      "MAPE: 0.004413781846991147\n"
     ]
    },
    {
     "name": "stderr",
     "output_type": "stream",
     "text": [
      "\u001b[32m[I 2023-07-19 16:41:59,545]\u001b[0m Trial 63 finished with value: 0.006571069370491407 and parameters: {'max_depth': 10, 'eta': 0.6376597864129937, 'gamma': 0.2024538636597664, 'subsample': 0.743366901577331, 'colsample_bytree': 0.868761495936846}. Best is trial 57 with value: 0.003554786480584704.\u001b[0m\n"
     ]
    },
    {
     "name": "stdout",
     "output_type": "stream",
     "text": [
      "MAPE: 0.006571069370491407\n"
     ]
    },
    {
     "name": "stderr",
     "output_type": "stream",
     "text": [
      "\u001b[32m[I 2023-07-19 16:42:01,570]\u001b[0m Trial 64 finished with value: 0.0055073695175274166 and parameters: {'max_depth': 9, 'eta': 0.5569140728464225, 'gamma': 0.14626869005676466, 'subsample': 0.6160921157911701, 'colsample_bytree': 0.9239432009879687}. Best is trial 57 with value: 0.003554786480584704.\u001b[0m\n"
     ]
    },
    {
     "name": "stdout",
     "output_type": "stream",
     "text": [
      "MAPE: 0.0055073695175274166\n"
     ]
    },
    {
     "name": "stderr",
     "output_type": "stream",
     "text": [
      "\u001b[32m[I 2023-07-19 16:42:03,653]\u001b[0m Trial 65 finished with value: 0.003998662662700126 and parameters: {'max_depth': 10, 'eta': 0.45621207124476904, 'gamma': 0.2796636361933106, 'subsample': 0.6996753544733111, 'colsample_bytree': 0.9641567189208412}. Best is trial 57 with value: 0.003554786480584704.\u001b[0m\n"
     ]
    },
    {
     "name": "stdout",
     "output_type": "stream",
     "text": [
      "MAPE: 0.003998662662700126\n"
     ]
    },
    {
     "name": "stderr",
     "output_type": "stream",
     "text": [
      "\u001b[32m[I 2023-07-19 16:42:05,869]\u001b[0m Trial 66 finished with value: 0.005110543420653889 and parameters: {'max_depth': 10, 'eta': 0.4532082033414655, 'gamma': 0.3559626176645091, 'subsample': 0.8285698991747269, 'colsample_bytree': 0.9195557836906326}. Best is trial 57 with value: 0.003554786480584704.\u001b[0m\n"
     ]
    },
    {
     "name": "stdout",
     "output_type": "stream",
     "text": [
      "MAPE: 0.005110543420653889\n"
     ]
    },
    {
     "name": "stderr",
     "output_type": "stream",
     "text": [
      "\u001b[32m[I 2023-07-19 16:42:07,950]\u001b[0m Trial 67 finished with value: 0.006217680624031131 and parameters: {'max_depth': 10, 'eta': 0.40314856848420977, 'gamma': 0.2803003354913435, 'subsample': 0.7020146156346538, 'colsample_bytree': 0.9682535966952898}. Best is trial 57 with value: 0.003554786480584704.\u001b[0m\n"
     ]
    },
    {
     "name": "stdout",
     "output_type": "stream",
     "text": [
      "MAPE: 0.006217680624031131\n"
     ]
    },
    {
     "name": "stderr",
     "output_type": "stream",
     "text": [
      "\u001b[32m[I 2023-07-19 16:42:10,356]\u001b[0m Trial 68 finished with value: 0.006656775672975041 and parameters: {'max_depth': 10, 'eta': 0.7096991737268294, 'gamma': 0.32971122932211533, 'subsample': 0.8017418067093772, 'colsample_bytree': 0.8808431894001726}. Best is trial 57 with value: 0.003554786480584704.\u001b[0m\n"
     ]
    },
    {
     "name": "stdout",
     "output_type": "stream",
     "text": [
      "MAPE: 0.006656775672975041\n"
     ]
    },
    {
     "name": "stderr",
     "output_type": "stream",
     "text": [
      "\u001b[32m[I 2023-07-19 16:42:10,855]\u001b[0m Trial 69 finished with value: 0.02121401401125754 and parameters: {'max_depth': 2, 'eta': 0.5107491676089478, 'gamma': 0.42489056220065224, 'subsample': 0.7395983103884277, 'colsample_bytree': 0.9025647320001425}. Best is trial 57 with value: 0.003554786480584704.\u001b[0m\n"
     ]
    },
    {
     "name": "stdout",
     "output_type": "stream",
     "text": [
      "MAPE: 0.02121401401125754\n"
     ]
    },
    {
     "name": "stderr",
     "output_type": "stream",
     "text": [
      "\u001b[32m[I 2023-07-19 16:42:12,863]\u001b[0m Trial 70 finished with value: 0.0062518295534015386 and parameters: {'max_depth': 9, 'eta': 0.6349389405917828, 'gamma': 0.2340755612043591, 'subsample': 0.5833665382213706, 'colsample_bytree': 0.8568742030662335}. Best is trial 57 with value: 0.003554786480584704.\u001b[0m\n"
     ]
    },
    {
     "name": "stdout",
     "output_type": "stream",
     "text": [
      "MAPE: 0.0062518295534015386\n"
     ]
    },
    {
     "name": "stderr",
     "output_type": "stream",
     "text": [
      "\u001b[32m[I 2023-07-19 16:42:14,989]\u001b[0m Trial 71 finished with value: 0.004109935422732042 and parameters: {'max_depth': 9, 'eta': 0.8265776123176084, 'gamma': 0.1812560479758679, 'subsample': 0.6513198125864181, 'colsample_bytree': 0.9624466513604486}. Best is trial 57 with value: 0.003554786480584704.\u001b[0m\n"
     ]
    },
    {
     "name": "stdout",
     "output_type": "stream",
     "text": [
      "MAPE: 0.004109935422732042\n"
     ]
    },
    {
     "name": "stderr",
     "output_type": "stream",
     "text": [
      "\u001b[32m[I 2023-07-19 16:42:17,361]\u001b[0m Trial 72 finished with value: 0.003926702887854482 and parameters: {'max_depth': 10, 'eta': 0.7423241440630081, 'gamma': 0.2924391647614734, 'subsample': 0.7115044656010377, 'colsample_bytree': 0.964078835655264}. Best is trial 57 with value: 0.003554786480584704.\u001b[0m\n"
     ]
    },
    {
     "name": "stdout",
     "output_type": "stream",
     "text": [
      "MAPE: 0.003926702887854482\n"
     ]
    },
    {
     "name": "stderr",
     "output_type": "stream",
     "text": [
      "\u001b[32m[I 2023-07-19 16:42:19,651]\u001b[0m Trial 73 finished with value: 0.005887174601356127 and parameters: {'max_depth': 10, 'eta': 0.6007689583337054, 'gamma': 0.18924330944065926, 'subsample': 0.7125202425370957, 'colsample_bytree': 0.9321693108714053}. Best is trial 57 with value: 0.003554786480584704.\u001b[0m\n"
     ]
    },
    {
     "name": "stdout",
     "output_type": "stream",
     "text": [
      "MAPE: 0.005887174601356127\n"
     ]
    },
    {
     "name": "stderr",
     "output_type": "stream",
     "text": [
      "\u001b[32m[I 2023-07-19 16:42:21,850]\u001b[0m Trial 74 finished with value: 0.0040000236185373525 and parameters: {'max_depth': 10, 'eta': 0.4818189157981068, 'gamma': 0.21830661853692043, 'subsample': 0.7691354157836896, 'colsample_bytree': 0.9664776191507833}. Best is trial 57 with value: 0.003554786480584704.\u001b[0m\n"
     ]
    },
    {
     "name": "stdout",
     "output_type": "stream",
     "text": [
      "MAPE: 0.0040000236185373525\n"
     ]
    },
    {
     "name": "stderr",
     "output_type": "stream",
     "text": [
      "\u001b[32m[I 2023-07-19 16:42:24,274]\u001b[0m Trial 75 finished with value: 0.003969316871388753 and parameters: {'max_depth': 10, 'eta': 0.8526609459164196, 'gamma': 0.16820801874169466, 'subsample': 0.7914315684676806, 'colsample_bytree': 0.9734449727310873}. Best is trial 57 with value: 0.003554786480584704.\u001b[0m\n"
     ]
    },
    {
     "name": "stdout",
     "output_type": "stream",
     "text": [
      "MAPE: 0.003969316871388753\n"
     ]
    },
    {
     "name": "stderr",
     "output_type": "stream",
     "text": [
      "\u001b[32m[I 2023-07-19 16:42:26,780]\u001b[0m Trial 76 finished with value: 0.004366949350016802 and parameters: {'max_depth': 10, 'eta': 0.9130967501287074, 'gamma': 0.12871940633155426, 'subsample': 0.7884534827337626, 'colsample_bytree': 0.9783491564696919}. Best is trial 57 with value: 0.003554786480584704.\u001b[0m\n"
     ]
    },
    {
     "name": "stdout",
     "output_type": "stream",
     "text": [
      "MAPE: 0.004366949350016802\n"
     ]
    },
    {
     "name": "stderr",
     "output_type": "stream",
     "text": [
      "\u001b[32m[I 2023-07-19 16:42:29,014]\u001b[0m Trial 77 finished with value: 0.005029442625683873 and parameters: {'max_depth': 10, 'eta': 0.48920510729680033, 'gamma': 0.17253215378678452, 'subsample': 0.7596153901576724, 'colsample_bytree': 0.9275923267163518}. Best is trial 57 with value: 0.003554786480584704.\u001b[0m\n"
     ]
    },
    {
     "name": "stdout",
     "output_type": "stream",
     "text": [
      "MAPE: 0.005029442625683873\n"
     ]
    },
    {
     "name": "stderr",
     "output_type": "stream",
     "text": [
      "\u001b[32m[I 2023-07-19 16:42:31,534]\u001b[0m Trial 78 finished with value: 0.007134692380448417 and parameters: {'max_depth': 10, 'eta': 0.8746514942563806, 'gamma': 0.22587621455124318, 'subsample': 0.8324081997287333, 'colsample_bytree': 0.8934878894690116}. Best is trial 57 with value: 0.003554786480584704.\u001b[0m\n"
     ]
    },
    {
     "name": "stdout",
     "output_type": "stream",
     "text": [
      "MAPE: 0.007134692380448417\n"
     ]
    },
    {
     "name": "stderr",
     "output_type": "stream",
     "text": [
      "\u001b[32m[I 2023-07-19 16:42:33,894]\u001b[0m Trial 79 finished with value: 0.003923290095084818 and parameters: {'max_depth': 10, 'eta': 0.666969844278895, 'gamma': 0.209721134050754, 'subsample': 0.7827239375493922, 'colsample_bytree': 0.9685541522169383}. Best is trial 57 with value: 0.003554786480584704.\u001b[0m\n"
     ]
    },
    {
     "name": "stdout",
     "output_type": "stream",
     "text": [
      "MAPE: 0.003923290095084818\n"
     ]
    },
    {
     "name": "stderr",
     "output_type": "stream",
     "text": [
      "\u001b[32m[I 2023-07-19 16:42:36,302]\u001b[0m Trial 80 finished with value: 0.0038571386835278463 and parameters: {'max_depth': 10, 'eta': 0.6813796783631936, 'gamma': 0.20903799777296625, 'subsample': 0.793791176624718, 'colsample_bytree': 0.9796843146500634}. Best is trial 57 with value: 0.003554786480584704.\u001b[0m\n"
     ]
    },
    {
     "name": "stdout",
     "output_type": "stream",
     "text": [
      "MAPE: 0.0038571386835278463\n"
     ]
    },
    {
     "name": "stderr",
     "output_type": "stream",
     "text": [
      "\u001b[32m[I 2023-07-19 16:42:38,855]\u001b[0m Trial 81 finished with value: 0.003834174080981264 and parameters: {'max_depth': 10, 'eta': 0.6771893086583329, 'gamma': 0.2060755728130566, 'subsample': 0.7841524042760597, 'colsample_bytree': 0.979895812437526}. Best is trial 57 with value: 0.003554786480584704.\u001b[0m\n"
     ]
    },
    {
     "name": "stdout",
     "output_type": "stream",
     "text": [
      "MAPE: 0.003834174080981264\n"
     ]
    },
    {
     "name": "stderr",
     "output_type": "stream",
     "text": [
      "\u001b[32m[I 2023-07-19 16:42:41,205]\u001b[0m Trial 82 finished with value: 0.003742442010087519 and parameters: {'max_depth': 10, 'eta': 0.6854717857554703, 'gamma': 0.2062794255126916, 'subsample': 0.7310122196541504, 'colsample_bytree': 0.9964996635552177}. Best is trial 57 with value: 0.003554786480584704.\u001b[0m\n"
     ]
    },
    {
     "name": "stdout",
     "output_type": "stream",
     "text": [
      "MAPE: 0.003742442010087519\n"
     ]
    },
    {
     "name": "stderr",
     "output_type": "stream",
     "text": [
      "\u001b[32m[I 2023-07-19 16:42:43,561]\u001b[0m Trial 83 finished with value: 0.0037208050748382556 and parameters: {'max_depth': 10, 'eta': 0.652209173277837, 'gamma': 0.16189470036559261, 'subsample': 0.7963969469511412, 'colsample_bytree': 0.9964508725388677}. Best is trial 57 with value: 0.003554786480584704.\u001b[0m\n"
     ]
    },
    {
     "name": "stdout",
     "output_type": "stream",
     "text": [
      "MAPE: 0.0037208050748382556\n"
     ]
    },
    {
     "name": "stderr",
     "output_type": "stream",
     "text": [
      "\u001b[32m[I 2023-07-19 16:42:45,972]\u001b[0m Trial 84 finished with value: 0.0038462280725233525 and parameters: {'max_depth': 10, 'eta': 0.6511644118046129, 'gamma': 0.20104407807838395, 'subsample': 0.8485883217809395, 'colsample_bytree': 0.9846679648403664}. Best is trial 57 with value: 0.003554786480584704.\u001b[0m\n"
     ]
    },
    {
     "name": "stdout",
     "output_type": "stream",
     "text": [
      "MAPE: 0.0038462280725233525\n"
     ]
    },
    {
     "name": "stderr",
     "output_type": "stream",
     "text": [
      "\u001b[32m[I 2023-07-19 16:42:48,405]\u001b[0m Trial 85 finished with value: 0.003955189529509367 and parameters: {'max_depth': 10, 'eta': 0.6774100703487671, 'gamma': 0.203719778681675, 'subsample': 0.910827014715795, 'colsample_bytree': 0.9881497678962108}. Best is trial 57 with value: 0.003554786480584704.\u001b[0m\n"
     ]
    },
    {
     "name": "stdout",
     "output_type": "stream",
     "text": [
      "MAPE: 0.003955189529509367\n"
     ]
    },
    {
     "name": "stderr",
     "output_type": "stream",
     "text": [
      "\u001b[32m[I 2023-07-19 16:42:50,859]\u001b[0m Trial 86 finished with value: 0.003861735558476973 and parameters: {'max_depth': 10, 'eta': 0.6622457281511771, 'gamma': 0.19899014023825584, 'subsample': 0.9027807641797961, 'colsample_bytree': 0.9941539077835161}. Best is trial 57 with value: 0.003554786480584704.\u001b[0m\n"
     ]
    },
    {
     "name": "stdout",
     "output_type": "stream",
     "text": [
      "MAPE: 0.003861735558476973\n"
     ]
    },
    {
     "name": "stderr",
     "output_type": "stream",
     "text": [
      "\u001b[32m[I 2023-07-19 16:42:53,169]\u001b[0m Trial 87 finished with value: 0.003861164724690956 and parameters: {'max_depth': 10, 'eta': 0.602004057884528, 'gamma': 0.1585025509590695, 'subsample': 0.8528410602754494, 'colsample_bytree': 0.9964086368067037}. Best is trial 57 with value: 0.003554786480584704.\u001b[0m\n"
     ]
    },
    {
     "name": "stdout",
     "output_type": "stream",
     "text": [
      "MAPE: 0.003861164724690956\n"
     ]
    },
    {
     "name": "stderr",
     "output_type": "stream",
     "text": [
      "\u001b[32m[I 2023-07-19 16:42:55,338]\u001b[0m Trial 88 finished with value: 0.006482212361131846 and parameters: {'max_depth': 9, 'eta': 0.5887803175720479, 'gamma': 0.12769790970052622, 'subsample': 0.8506447827192661, 'colsample_bytree': 0.9350764121338218}. Best is trial 57 with value: 0.003554786480584704.\u001b[0m\n"
     ]
    },
    {
     "name": "stdout",
     "output_type": "stream",
     "text": [
      "MAPE: 0.006482212361131846\n"
     ]
    },
    {
     "name": "stderr",
     "output_type": "stream",
     "text": [
      "\u001b[32m[I 2023-07-19 16:42:56,484]\u001b[0m Trial 89 finished with value: 0.007129052331096064 and parameters: {'max_depth': 5, 'eta': 0.5408366121674809, 'gamma': 0.16510136360867372, 'subsample': 0.8823242476909288, 'colsample_bytree': 0.9943480463908235}. Best is trial 57 with value: 0.003554786480584704.\u001b[0m\n"
     ]
    },
    {
     "name": "stdout",
     "output_type": "stream",
     "text": [
      "MAPE: 0.007129052331096064\n"
     ]
    },
    {
     "name": "stderr",
     "output_type": "stream",
     "text": [
      "\u001b[32m[I 2023-07-19 16:42:58,893]\u001b[0m Trial 90 finished with value: 0.003886814804358864 and parameters: {'max_depth': 10, 'eta': 0.6523295738968007, 'gamma': 0.15257907001857443, 'subsample': 0.9095406925658085, 'colsample_bytree': 0.998227970003885}. Best is trial 57 with value: 0.003554786480584704.\u001b[0m\n"
     ]
    },
    {
     "name": "stdout",
     "output_type": "stream",
     "text": [
      "MAPE: 0.003886814804358864\n"
     ]
    },
    {
     "name": "stderr",
     "output_type": "stream",
     "text": [
      "\u001b[32m[I 2023-07-19 16:43:01,325]\u001b[0m Trial 91 finished with value: 0.003913053897565156 and parameters: {'max_depth': 10, 'eta': 0.6404695169809085, 'gamma': 0.1528947364430692, 'subsample': 0.9161626975341703, 'colsample_bytree': 0.9931417584369859}. Best is trial 57 with value: 0.003554786480584704.\u001b[0m\n"
     ]
    },
    {
     "name": "stdout",
     "output_type": "stream",
     "text": [
      "MAPE: 0.003913053897565156\n"
     ]
    },
    {
     "name": "stderr",
     "output_type": "stream",
     "text": [
      "\u001b[32m[I 2023-07-19 16:43:03,677]\u001b[0m Trial 92 finished with value: 0.003743709729685675 and parameters: {'max_depth': 10, 'eta': 0.5805562946241756, 'gamma': 0.1508542248442927, 'subsample': 0.9164169306139173, 'colsample_bytree': 0.9968559378406924}. Best is trial 57 with value: 0.003554786480584704.\u001b[0m\n"
     ]
    },
    {
     "name": "stdout",
     "output_type": "stream",
     "text": [
      "MAPE: 0.003743709729685675\n"
     ]
    },
    {
     "name": "stderr",
     "output_type": "stream",
     "text": [
      "\u001b[32m[I 2023-07-19 16:43:05,871]\u001b[0m Trial 93 finished with value: 0.006863131129512635 and parameters: {'max_depth': 10, 'eta': 0.4052329460785679, 'gamma': 0.13502843838415665, 'subsample': 0.8630040371462252, 'colsample_bytree': 0.9393876778900193}. Best is trial 57 with value: 0.003554786480584704.\u001b[0m\n"
     ]
    },
    {
     "name": "stdout",
     "output_type": "stream",
     "text": [
      "MAPE: 0.006863131129512635\n"
     ]
    },
    {
     "name": "stderr",
     "output_type": "stream",
     "text": [
      "\u001b[32m[I 2023-07-19 16:43:08,203]\u001b[0m Trial 94 finished with value: 0.0039016038600475154 and parameters: {'max_depth': 10, 'eta': 0.5258744373111174, 'gamma': 0.12309500974522074, 'subsample': 0.9457134986528359, 'colsample_bytree': 0.9825134071891343}. Best is trial 57 with value: 0.003554786480584704.\u001b[0m\n"
     ]
    },
    {
     "name": "stdout",
     "output_type": "stream",
     "text": [
      "MAPE: 0.0039016038600475154\n"
     ]
    },
    {
     "name": "stderr",
     "output_type": "stream",
     "text": [
      "\u001b[32m[I 2023-07-19 16:43:10,251]\u001b[0m Trial 95 finished with value: 0.004043292080469274 and parameters: {'max_depth': 9, 'eta': 0.5688759445877671, 'gamma': 0.18642310701054776, 'subsample': 0.8158905261254072, 'colsample_bytree': 0.9967038877956366}. Best is trial 57 with value: 0.003554786480584704.\u001b[0m\n"
     ]
    },
    {
     "name": "stdout",
     "output_type": "stream",
     "text": [
      "MAPE: 0.004043292080469274\n"
     ]
    },
    {
     "name": "stderr",
     "output_type": "stream",
     "text": [
      "\u001b[32m[I 2023-07-19 16:43:12,459]\u001b[0m Trial 96 finished with value: 0.006400836633494271 and parameters: {'max_depth': 9, 'eta': 0.5994019746918652, 'gamma': 0.1555020421401669, 'subsample': 0.8961676734832842, 'colsample_bytree': 0.9093238003859858}. Best is trial 57 with value: 0.003554786480584704.\u001b[0m\n"
     ]
    },
    {
     "name": "stdout",
     "output_type": "stream",
     "text": [
      "MAPE: 0.006400836633494271\n"
     ]
    },
    {
     "name": "stderr",
     "output_type": "stream",
     "text": [
      "\u001b[32m[I 2023-07-19 16:43:14,951]\u001b[0m Trial 97 finished with value: 0.006273524790283584 and parameters: {'max_depth': 10, 'eta': 0.6881000827086027, 'gamma': 0.10111044359215265, 'subsample': 0.8440996221916914, 'colsample_bytree': 0.9375411990287219}. Best is trial 57 with value: 0.003554786480584704.\u001b[0m\n"
     ]
    },
    {
     "name": "stdout",
     "output_type": "stream",
     "text": [
      "MAPE: 0.006273524790283584\n"
     ]
    },
    {
     "name": "stderr",
     "output_type": "stream",
     "text": [
      "\u001b[32m[I 2023-07-19 16:43:17,501]\u001b[0m Trial 98 finished with value: 0.004720817286419782 and parameters: {'max_depth': 10, 'eta': 0.9956345321931462, 'gamma': 0.14739517858494833, 'subsample': 0.8687272510981217, 'colsample_bytree': 0.977119994385418}. Best is trial 57 with value: 0.003554786480584704.\u001b[0m\n"
     ]
    },
    {
     "name": "stdout",
     "output_type": "stream",
     "text": [
      "MAPE: 0.004720817286419782\n"
     ]
    },
    {
     "name": "stderr",
     "output_type": "stream",
     "text": [
      "\u001b[32m[I 2023-07-19 16:43:19,501]\u001b[0m Trial 99 finished with value: 0.004359836917535566 and parameters: {'max_depth': 9, 'eta': 0.45934307286651554, 'gamma': 0.17402660595621172, 'subsample': 0.8259479270441721, 'colsample_bytree': 0.9990401883380297}. Best is trial 57 with value: 0.003554786480584704.\u001b[0m\n"
     ]
    },
    {
     "name": "stdout",
     "output_type": "stream",
     "text": [
      "MAPE: 0.004359836917535566\n"
     ]
    },
    {
     "name": "stderr",
     "output_type": "stream",
     "text": [
      "\u001b[32m[I 2023-07-19 16:43:22,058]\u001b[0m Trial 100 finished with value: 0.007384060965436271 and parameters: {'max_depth': 10, 'eta': 0.9096247838062733, 'gamma': 0.20020239571026763, 'subsample': 0.8073255825425457, 'colsample_bytree': 0.9386489865675398}. Best is trial 57 with value: 0.003554786480584704.\u001b[0m\n"
     ]
    },
    {
     "name": "stdout",
     "output_type": "stream",
     "text": [
      "MAPE: 0.007384060965436271\n"
     ]
    },
    {
     "name": "stderr",
     "output_type": "stream",
     "text": [
      "\u001b[32m[I 2023-07-19 16:43:24,379]\u001b[0m Trial 101 finished with value: 0.0037846755558779434 and parameters: {'max_depth': 10, 'eta': 0.5142051920620542, 'gamma': 0.13424661595283646, 'subsample': 0.9314875230639297, 'colsample_bytree': 0.9765753906797906}. Best is trial 57 with value: 0.003554786480584704.\u001b[0m\n"
     ]
    },
    {
     "name": "stdout",
     "output_type": "stream",
     "text": [
      "MAPE: 0.0037846755558779434\n"
     ]
    },
    {
     "name": "stderr",
     "output_type": "stream",
     "text": [
      "\u001b[32m[I 2023-07-19 16:43:26,656]\u001b[0m Trial 102 finished with value: 0.0038060059266356713 and parameters: {'max_depth': 10, 'eta': 0.5163023126672397, 'gamma': 0.11643809798216821, 'subsample': 0.8417530475626817, 'colsample_bytree': 0.9792835763032051}. Best is trial 57 with value: 0.003554786480584704.\u001b[0m\n"
     ]
    },
    {
     "name": "stdout",
     "output_type": "stream",
     "text": [
      "MAPE: 0.0038060059266356713\n"
     ]
    },
    {
     "name": "stderr",
     "output_type": "stream",
     "text": [
      "\u001b[32m[I 2023-07-19 16:43:28,973]\u001b[0m Trial 103 finished with value: 0.005215263393214195 and parameters: {'max_depth': 10, 'eta': 0.5129135214050558, 'gamma': 0.13519158398446438, 'subsample': 0.8422423247570899, 'colsample_bytree': 0.9185145377257862}. Best is trial 57 with value: 0.003554786480584704.\u001b[0m\n"
     ]
    },
    {
     "name": "stdout",
     "output_type": "stream",
     "text": [
      "MAPE: 0.005215263393214195\n"
     ]
    },
    {
     "name": "stderr",
     "output_type": "stream",
     "text": [
      "\u001b[32m[I 2023-07-19 16:43:31,103]\u001b[0m Trial 104 finished with value: 0.010237139738401223 and parameters: {'max_depth': 10, 'eta': 0.3707222598797149, 'gamma': 0.08854443569430522, 'subsample': 0.8723128294191709, 'colsample_bytree': 0.9462117380826688}. Best is trial 57 with value: 0.003554786480584704.\u001b[0m\n"
     ]
    },
    {
     "name": "stdout",
     "output_type": "stream",
     "text": [
      "MAPE: 0.010237139738401223\n"
     ]
    },
    {
     "name": "stderr",
     "output_type": "stream",
     "text": [
      "\u001b[32m[I 2023-07-19 16:43:33,075]\u001b[0m Trial 105 finished with value: 0.00513329246699343 and parameters: {'max_depth': 9, 'eta': 0.4263509141920477, 'gamma': 0.12201662998931298, 'subsample': 0.8539507482599374, 'colsample_bytree': 0.9791824611877006}. Best is trial 57 with value: 0.003554786480584704.\u001b[0m\n"
     ]
    },
    {
     "name": "stdout",
     "output_type": "stream",
     "text": [
      "MAPE: 0.00513329246699343\n"
     ]
    },
    {
     "name": "stderr",
     "output_type": "stream",
     "text": [
      "\u001b[32m[I 2023-07-19 16:43:35,605]\u001b[0m Trial 106 finished with value: 0.0068218965702024695 and parameters: {'max_depth': 10, 'eta': 0.7171969211050297, 'gamma': 0.17397382917218296, 'subsample': 0.9397663881074665, 'colsample_bytree': 0.8870190320216785}. Best is trial 57 with value: 0.003554786480584704.\u001b[0m\n"
     ]
    },
    {
     "name": "stdout",
     "output_type": "stream",
     "text": [
      "MAPE: 0.0068218965702024695\n"
     ]
    },
    {
     "name": "stderr",
     "output_type": "stream",
     "text": [
      "\u001b[32m[I 2023-07-19 16:43:38,030]\u001b[0m Trial 107 finished with value: 0.005571524476699446 and parameters: {'max_depth': 10, 'eta': 0.5935941620372823, 'gamma': 0.1391141415454124, 'subsample': 0.887812380384511, 'colsample_bytree': 0.9089602884495863}. Best is trial 57 with value: 0.003554786480584704.\u001b[0m\n"
     ]
    },
    {
     "name": "stdout",
     "output_type": "stream",
     "text": [
      "MAPE: 0.005571524476699446\n"
     ]
    },
    {
     "name": "stderr",
     "output_type": "stream",
     "text": [
      "\u001b[32m[I 2023-07-19 16:43:40,059]\u001b[0m Trial 108 finished with value: 0.004119815316476 and parameters: {'max_depth': 9, 'eta': 0.5156150800643157, 'gamma': 0.19319153542375578, 'subsample': 0.8088567250594152, 'colsample_bytree': 0.9803360991555083}. Best is trial 57 with value: 0.003554786480584704.\u001b[0m\n"
     ]
    },
    {
     "name": "stdout",
     "output_type": "stream",
     "text": [
      "MAPE: 0.004119815316476\n"
     ]
    },
    {
     "name": "stderr",
     "output_type": "stream",
     "text": [
      "\u001b[32m[I 2023-07-19 16:43:42,154]\u001b[0m Trial 109 finished with value: 0.0173362394455269 and parameters: {'max_depth': 10, 'eta': 0.33310165947782, 'gamma': 0.11431954538874999, 'subsample': 0.8240710412975727, 'colsample_bytree': 0.9409025224150525}. Best is trial 57 with value: 0.003554786480584704.\u001b[0m\n"
     ]
    },
    {
     "name": "stdout",
     "output_type": "stream",
     "text": [
      "MAPE: 0.0173362394455269\n"
     ]
    },
    {
     "name": "stderr",
     "output_type": "stream",
     "text": [
      "\u001b[32m[I 2023-07-19 16:43:44,331]\u001b[0m Trial 110 finished with value: 0.00425675747013369 and parameters: {'max_depth': 9, 'eta': 0.7838411667666985, 'gamma': 0.22340619044432658, 'subsample': 0.8410766168678445, 'colsample_bytree': 0.9501262159669276}. Best is trial 57 with value: 0.003554786480584704.\u001b[0m\n"
     ]
    },
    {
     "name": "stdout",
     "output_type": "stream",
     "text": [
      "MAPE: 0.00425675747013369\n"
     ]
    },
    {
     "name": "stderr",
     "output_type": "stream",
     "text": [
      "\u001b[32m[I 2023-07-19 16:43:46,799]\u001b[0m Trial 111 finished with value: 0.004052246688054353 and parameters: {'max_depth': 10, 'eta': 0.6533758979529434, 'gamma': 0.16377045679602042, 'subsample': 0.8611981097807008, 'colsample_bytree': 0.9777411018410619}. Best is trial 57 with value: 0.003554786480584704.\u001b[0m\n"
     ]
    },
    {
     "name": "stdout",
     "output_type": "stream",
     "text": [
      "MAPE: 0.004052246688054353\n"
     ]
    },
    {
     "name": "stderr",
     "output_type": "stream",
     "text": [
      "\u001b[32m[I 2023-07-19 16:43:49,115]\u001b[0m Trial 112 finished with value: 0.0038089643332423775 and parameters: {'max_depth': 10, 'eta': 0.5554277115559437, 'gamma': 0.13980436864627435, 'subsample': 0.9027476065903408, 'colsample_bytree': 0.98123315504519}. Best is trial 57 with value: 0.003554786480584704.\u001b[0m\n"
     ]
    },
    {
     "name": "stdout",
     "output_type": "stream",
     "text": [
      "MAPE: 0.0038089643332423775\n"
     ]
    },
    {
     "name": "stderr",
     "output_type": "stream",
     "text": [
      "\u001b[32m[I 2023-07-19 16:43:51,412]\u001b[0m Trial 113 finished with value: 0.003957240930099839 and parameters: {'max_depth': 10, 'eta': 0.5491048146613409, 'gamma': 0.19851893889412497, 'subsample': 0.8858985087918128, 'colsample_bytree': 0.9777173061193681}. Best is trial 57 with value: 0.003554786480584704.\u001b[0m\n"
     ]
    },
    {
     "name": "stdout",
     "output_type": "stream",
     "text": [
      "MAPE: 0.003957240930099839\n"
     ]
    },
    {
     "name": "stderr",
     "output_type": "stream",
     "text": [
      "\u001b[32m[I 2023-07-19 16:43:53,599]\u001b[0m Trial 114 finished with value: 0.003984246081097291 and parameters: {'max_depth': 10, 'eta': 0.46967950765479816, 'gamma': 0.24717295528476016, 'subsample': 0.7975974884997664, 'colsample_bytree': 0.998846868222266}. Best is trial 57 with value: 0.003554786480584704.\u001b[0m\n"
     ]
    },
    {
     "name": "stdout",
     "output_type": "stream",
     "text": [
      "MAPE: 0.003984246081097291\n"
     ]
    },
    {
     "name": "stderr",
     "output_type": "stream",
     "text": [
      "\u001b[32m[I 2023-07-19 16:43:56,030]\u001b[0m Trial 115 finished with value: 0.005632495691923688 and parameters: {'max_depth': 10, 'eta': 0.604790622005724, 'gamma': 0.1457098693448271, 'subsample': 0.9326611776750927, 'colsample_bytree': 0.922523000538515}. Best is trial 57 with value: 0.003554786480584704.\u001b[0m\n"
     ]
    },
    {
     "name": "stdout",
     "output_type": "stream",
     "text": [
      "MAPE: 0.005632495691923688\n"
     ]
    },
    {
     "name": "stderr",
     "output_type": "stream",
     "text": [
      "\u001b[32m[I 2023-07-19 16:43:58,274]\u001b[0m Trial 116 finished with value: 0.00466797338434875 and parameters: {'max_depth': 10, 'eta': 0.43651823312954174, 'gamma': 0.10278190422491171, 'subsample': 0.9658572913637428, 'colsample_bytree': 0.9489489554516671}. Best is trial 57 with value: 0.003554786480584704.\u001b[0m\n"
     ]
    },
    {
     "name": "stdout",
     "output_type": "stream",
     "text": [
      "MAPE: 0.00466797338434875\n"
     ]
    },
    {
     "name": "stderr",
     "output_type": "stream",
     "text": [
      "\u001b[32m[I 2023-07-19 16:44:00,561]\u001b[0m Trial 117 finished with value: 0.006237247128809111 and parameters: {'max_depth': 9, 'eta': 0.709703487945396, 'gamma': 0.21759430571510283, 'subsample': 0.9037711828499654, 'colsample_bytree': 0.9015916022236624}. Best is trial 57 with value: 0.003554786480584704.\u001b[0m\n"
     ]
    },
    {
     "name": "stdout",
     "output_type": "stream",
     "text": [
      "MAPE: 0.006237247128809111\n"
     ]
    },
    {
     "name": "stderr",
     "output_type": "stream",
     "text": [
      "\u001b[32m[I 2023-07-19 16:44:03,067]\u001b[0m Trial 118 finished with value: 0.004095557338163091 and parameters: {'max_depth': 10, 'eta': 0.7861374090242547, 'gamma': 0.11932755418820076, 'subsample': 0.9281905048765888, 'colsample_bytree': 0.9768810969685958}. Best is trial 57 with value: 0.003554786480584704.\u001b[0m\n"
     ]
    },
    {
     "name": "stdout",
     "output_type": "stream",
     "text": [
      "MAPE: 0.004095557338163091\n"
     ]
    },
    {
     "name": "stderr",
     "output_type": "stream",
     "text": [
      "\u001b[32m[I 2023-07-19 16:44:03,783]\u001b[0m Trial 119 finished with value: 0.01360904637842612 and parameters: {'max_depth': 3, 'eta': 0.38314841237973407, 'gamma': 0.15811325319560943, 'subsample': 0.8901973857063252, 'colsample_bytree': 0.9545954444414119}. Best is trial 57 with value: 0.003554786480584704.\u001b[0m\n"
     ]
    },
    {
     "name": "stdout",
     "output_type": "stream",
     "text": [
      "MAPE: 0.01360904637842612\n"
     ]
    },
    {
     "name": "stderr",
     "output_type": "stream",
     "text": [
      "\u001b[32m[I 2023-07-19 16:44:06,032]\u001b[0m Trial 120 finished with value: 0.004979970031100576 and parameters: {'max_depth': 10, 'eta': 0.4876604682746045, 'gamma': 0.18581866998459948, 'subsample': 0.7786115976062594, 'colsample_bytree': 0.9251684428502505}. Best is trial 57 with value: 0.003554786480584704.\u001b[0m\n"
     ]
    },
    {
     "name": "stdout",
     "output_type": "stream",
     "text": [
      "MAPE: 0.004979970031100576\n"
     ]
    },
    {
     "name": "stderr",
     "output_type": "stream",
     "text": [
      "\u001b[32m[I 2023-07-19 16:44:08,460]\u001b[0m Trial 121 finished with value: 0.0038101472640893505 and parameters: {'max_depth': 10, 'eta': 0.6348324530215501, 'gamma': 0.1329976549926635, 'subsample': 0.9078274906803944, 'colsample_bytree': 0.9961322322589451}. Best is trial 57 with value: 0.003554786480584704.\u001b[0m\n"
     ]
    },
    {
     "name": "stdout",
     "output_type": "stream",
     "text": [
      "MAPE: 0.0038101472640893505\n"
     ]
    },
    {
     "name": "stderr",
     "output_type": "stream",
     "text": [
      "\u001b[32m[I 2023-07-19 16:44:10,889]\u001b[0m Trial 122 finished with value: 0.003962674605304813 and parameters: {'max_depth': 10, 'eta': 0.6142689215772179, 'gamma': 0.13657638474411152, 'subsample': 0.9577872523495035, 'colsample_bytree': 0.9776962512345679}. Best is trial 57 with value: 0.003554786480584704.\u001b[0m\n"
     ]
    },
    {
     "name": "stdout",
     "output_type": "stream",
     "text": [
      "MAPE: 0.003962674605304813\n"
     ]
    },
    {
     "name": "stderr",
     "output_type": "stream",
     "text": [
      "\u001b[32m[I 2023-07-19 16:44:13,230]\u001b[0m Trial 123 finished with value: 0.0038282554164996135 and parameters: {'max_depth': 10, 'eta': 0.5481903012489376, 'gamma': 0.1099847861041023, 'subsample': 0.9200404385736224, 'colsample_bytree': 0.957791329963825}. Best is trial 57 with value: 0.003554786480584704.\u001b[0m\n"
     ]
    },
    {
     "name": "stdout",
     "output_type": "stream",
     "text": [
      "MAPE: 0.0038282554164996135\n"
     ]
    },
    {
     "name": "stderr",
     "output_type": "stream",
     "text": [
      "\u001b[32m[I 2023-07-19 16:44:15,592]\u001b[0m Trial 124 finished with value: 0.005184628304015852 and parameters: {'max_depth': 10, 'eta': 0.5218450164167097, 'gamma': 0.10921253074318533, 'subsample': 0.9944908296689906, 'colsample_bytree': 0.9430005952997113}. Best is trial 57 with value: 0.003554786480584704.\u001b[0m\n"
     ]
    },
    {
     "name": "stdout",
     "output_type": "stream",
     "text": [
      "MAPE: 0.005184628304015852\n"
     ]
    },
    {
     "name": "stderr",
     "output_type": "stream",
     "text": [
      "\u001b[32m[I 2023-07-19 16:44:17,954]\u001b[0m Trial 125 finished with value: 0.0038332126311904284 and parameters: {'max_depth': 10, 'eta': 0.5678603074074356, 'gamma': 0.09731228643477434, 'subsample': 0.9194613466911818, 'colsample_bytree': 0.9611147844460477}. Best is trial 57 with value: 0.003554786480584704.\u001b[0m\n"
     ]
    },
    {
     "name": "stdout",
     "output_type": "stream",
     "text": [
      "MAPE: 0.0038332126311904284\n"
     ]
    },
    {
     "name": "stderr",
     "output_type": "stream",
     "text": [
      "\u001b[32m[I 2023-07-19 16:44:20,181]\u001b[0m Trial 126 finished with value: 0.007099348942797866 and parameters: {'max_depth': 10, 'eta': 0.40689101193024374, 'gamma': 0.08854423075152351, 'subsample': 0.9718373851709913, 'colsample_bytree': 0.870664896029121}. Best is trial 57 with value: 0.003554786480584704.\u001b[0m\n"
     ]
    },
    {
     "name": "stdout",
     "output_type": "stream",
     "text": [
      "MAPE: 0.007099348942797866\n"
     ]
    },
    {
     "name": "stderr",
     "output_type": "stream",
     "text": [
      "\u001b[32m[I 2023-07-19 16:44:22,251]\u001b[0m Trial 127 finished with value: 0.004142717743909235 and parameters: {'max_depth': 9, 'eta': 0.5548784992852864, 'gamma': 0.12701899198070057, 'subsample': 0.8771708020360063, 'colsample_bytree': 0.9623521506822466}. Best is trial 57 with value: 0.003554786480584704.\u001b[0m\n"
     ]
    },
    {
     "name": "stdout",
     "output_type": "stream",
     "text": [
      "MAPE: 0.004142717743909235\n"
     ]
    },
    {
     "name": "stderr",
     "output_type": "stream",
     "text": [
      "\u001b[32m[I 2023-07-19 16:44:24,971]\u001b[0m Trial 128 finished with value: 0.006637715884556757 and parameters: {'max_depth': 10, 'eta': 0.7215591994771652, 'gamma': 0.10067481374843741, 'subsample': 0.9501686613882239, 'colsample_bytree': 0.9068071970327336}. Best is trial 57 with value: 0.003554786480584704.\u001b[0m\n"
     ]
    },
    {
     "name": "stdout",
     "output_type": "stream",
     "text": [
      "MAPE: 0.006637715884556757\n"
     ]
    },
    {
     "name": "stderr",
     "output_type": "stream",
     "text": [
      "\u001b[32m[I 2023-07-19 16:44:26,897]\u001b[0m Trial 129 finished with value: 0.03312365120386375 and parameters: {'max_depth': 10, 'eta': 0.2884631794417343, 'gamma': 0.0955467347827997, 'subsample': 0.9228920312811802, 'colsample_bytree': 0.9585191605279069}. Best is trial 57 with value: 0.003554786480584704.\u001b[0m\n"
     ]
    },
    {
     "name": "stdout",
     "output_type": "stream",
     "text": [
      "MAPE: 0.03312365120386375\n"
     ]
    },
    {
     "name": "stderr",
     "output_type": "stream",
     "text": [
      "\u001b[32m[I 2023-07-19 16:44:29,010]\u001b[0m Trial 130 finished with value: 0.005662071899640953 and parameters: {'max_depth': 9, 'eta': 0.45272140610528633, 'gamma': 0.07623719292580097, 'subsample': 0.9192208752521058, 'colsample_bytree': 0.928105582224591}. Best is trial 57 with value: 0.003554786480584704.\u001b[0m\n"
     ]
    },
    {
     "name": "stdout",
     "output_type": "stream",
     "text": [
      "MAPE: 0.005662071899640953\n"
     ]
    },
    {
     "name": "stderr",
     "output_type": "stream",
     "text": [
      "\u001b[32m[I 2023-07-19 16:44:31,386]\u001b[0m Trial 131 finished with value: 0.003936953711820245 and parameters: {'max_depth': 10, 'eta': 0.5833947974995479, 'gamma': 0.11857566962113492, 'subsample': 0.8598884510870903, 'colsample_bytree': 0.9992603263953769}. Best is trial 57 with value: 0.003554786480584704.\u001b[0m\n"
     ]
    },
    {
     "name": "stdout",
     "output_type": "stream",
     "text": [
      "MAPE: 0.003936953711820245\n"
     ]
    },
    {
     "name": "stderr",
     "output_type": "stream",
     "text": [
      "\u001b[32m[I 2023-07-19 16:44:33,749]\u001b[0m Trial 132 finished with value: 0.003952147046582872 and parameters: {'max_depth': 10, 'eta': 0.5427137607176077, 'gamma': 0.17078411163634782, 'subsample': 0.9374304973149663, 'colsample_bytree': 0.9737352349075316}. Best is trial 57 with value: 0.003554786480584704.\u001b[0m\n"
     ]
    },
    {
     "name": "stdout",
     "output_type": "stream",
     "text": [
      "MAPE: 0.003952147046582872\n"
     ]
    },
    {
     "name": "stderr",
     "output_type": "stream",
     "text": [
      "\u001b[32m[I 2023-07-19 16:44:36,132]\u001b[0m Trial 133 finished with value: 0.003907363191041939 and parameters: {'max_depth': 10, 'eta': 0.6190826843973762, 'gamma': 0.13431177142352282, 'subsample': 0.9000280333849091, 'colsample_bytree': 0.9475371289386622}. Best is trial 57 with value: 0.003554786480584704.\u001b[0m\n"
     ]
    },
    {
     "name": "stdout",
     "output_type": "stream",
     "text": [
      "MAPE: 0.003907363191041939\n"
     ]
    },
    {
     "name": "stderr",
     "output_type": "stream",
     "text": [
      "\u001b[32m[I 2023-07-19 16:44:38,515]\u001b[0m Trial 134 finished with value: 0.003910182050211562 and parameters: {'max_depth': 10, 'eta': 0.6900317002012469, 'gamma': 0.11184486967833186, 'subsample': 0.7623677442163158, 'colsample_bytree': 0.9734301198928395}. Best is trial 57 with value: 0.003554786480584704.\u001b[0m\n"
     ]
    },
    {
     "name": "stdout",
     "output_type": "stream",
     "text": [
      "MAPE: 0.003910182050211562\n"
     ]
    },
    {
     "name": "stderr",
     "output_type": "stream",
     "text": [
      "\u001b[32m[I 2023-07-19 16:44:41,003]\u001b[0m Trial 135 finished with value: 0.004122402199675643 and parameters: {'max_depth': 10, 'eta': 0.8060873120244121, 'gamma': 0.1549242669777124, 'subsample': 0.8218461020604653, 'colsample_bytree': 0.9830424434426775}. Best is trial 57 with value: 0.003554786480584704.\u001b[0m\n"
     ]
    },
    {
     "name": "stdout",
     "output_type": "stream",
     "text": [
      "MAPE: 0.004122402199675643\n"
     ]
    },
    {
     "name": "stderr",
     "output_type": "stream",
     "text": [
      "\u001b[32m[I 2023-07-19 16:44:43,473]\u001b[0m Trial 136 finished with value: 0.023808136066328728 and parameters: {'max_depth': 10, 'eta': 0.9047337955011562, 'gamma': 0.14485513310355563, 'subsample': 0.8716109851660052, 'colsample_bytree': 0.6469819130781327}. Best is trial 57 with value: 0.003554786480584704.\u001b[0m\n"
     ]
    },
    {
     "name": "stdout",
     "output_type": "stream",
     "text": [
      "MAPE: 0.023808136066328728\n"
     ]
    },
    {
     "name": "stderr",
     "output_type": "stream",
     "text": [
      "\u001b[32m[I 2023-07-19 16:44:45,815]\u001b[0m Trial 137 finished with value: 0.004065702416066456 and parameters: {'max_depth': 10, 'eta': 0.514420262636979, 'gamma': 0.12767763711444466, 'subsample': 0.9773599769829724, 'colsample_bytree': 0.9562955731596086}. Best is trial 57 with value: 0.003554786480584704.\u001b[0m\n"
     ]
    },
    {
     "name": "stdout",
     "output_type": "stream",
     "text": [
      "MAPE: 0.004065702416066456\n"
     ]
    },
    {
     "name": "stderr",
     "output_type": "stream",
     "text": [
      "\u001b[32m[I 2023-07-19 16:44:48,066]\u001b[0m Trial 138 finished with value: 0.004331509076111291 and parameters: {'max_depth': 9, 'eta': 0.7520441848605572, 'gamma': 0.18362502983430645, 'subsample': 0.8356710311330945, 'colsample_bytree': 0.9981096786399598}. Best is trial 57 with value: 0.003554786480584704.\u001b[0m\n"
     ]
    },
    {
     "name": "stdout",
     "output_type": "stream",
     "text": [
      "MAPE: 0.004331509076111291\n"
     ]
    },
    {
     "name": "stderr",
     "output_type": "stream",
     "text": [
      "\u001b[32m[I 2023-07-19 16:44:50,417]\u001b[0m Trial 139 finished with value: 0.006031370863845316 and parameters: {'max_depth': 10, 'eta': 0.5743256970348349, 'gamma': 0.16108380182587073, 'subsample': 0.7887731162351878, 'colsample_bytree': 0.9287509740037021}. Best is trial 57 with value: 0.003554786480584704.\u001b[0m\n"
     ]
    },
    {
     "name": "stdout",
     "output_type": "stream",
     "text": [
      "MAPE: 0.006031370863845316\n"
     ]
    },
    {
     "name": "stderr",
     "output_type": "stream",
     "text": [
      "\u001b[32m[I 2023-07-19 16:44:52,746]\u001b[0m Trial 140 finished with value: 0.005059665449549189 and parameters: {'max_depth': 10, 'eta': 0.47650761905300143, 'gamma': 0.24777202868197007, 'subsample': 0.9159722379165071, 'colsample_bytree': 0.8972382211970173}. Best is trial 57 with value: 0.003554786480584704.\u001b[0m\n"
     ]
    },
    {
     "name": "stdout",
     "output_type": "stream",
     "text": [
      "MAPE: 0.005059665449549189\n"
     ]
    },
    {
     "name": "stderr",
     "output_type": "stream",
     "text": [
      "\u001b[32m[I 2023-07-19 16:44:55,198]\u001b[0m Trial 141 finished with value: 0.003930305810124306 and parameters: {'max_depth': 10, 'eta': 0.6560849625116348, 'gamma': 0.20306762939836448, 'subsample': 0.8947216035322193, 'colsample_bytree': 0.9993509771824525}. Best is trial 57 with value: 0.003554786480584704.\u001b[0m\n"
     ]
    },
    {
     "name": "stdout",
     "output_type": "stream",
     "text": [
      "MAPE: 0.003930305810124306\n"
     ]
    },
    {
     "name": "stderr",
     "output_type": "stream",
     "text": [
      "\u001b[32m[I 2023-07-19 16:44:57,590]\u001b[0m Trial 142 finished with value: 0.003924941780017644 and parameters: {'max_depth': 10, 'eta': 0.6741508197658497, 'gamma': 0.1742177389368976, 'subsample': 0.7347098057829462, 'colsample_bytree': 0.9804596911234809}. Best is trial 57 with value: 0.003554786480584704.\u001b[0m\n"
     ]
    },
    {
     "name": "stdout",
     "output_type": "stream",
     "text": [
      "MAPE: 0.003924941780017644\n"
     ]
    },
    {
     "name": "stderr",
     "output_type": "stream",
     "text": [
      "\u001b[32m[I 2023-07-19 16:44:59,997]\u001b[0m Trial 143 finished with value: 0.004076803277914744 and parameters: {'max_depth': 10, 'eta': 0.6269852304088829, 'gamma': 0.22112593505400593, 'subsample': 0.9363810233274577, 'colsample_bytree': 0.9686885607793415}. Best is trial 57 with value: 0.003554786480584704.\u001b[0m\n"
     ]
    },
    {
     "name": "stdout",
     "output_type": "stream",
     "text": [
      "MAPE: 0.004076803277914744\n"
     ]
    },
    {
     "name": "stderr",
     "output_type": "stream",
     "text": [
      "\u001b[32m[I 2023-07-19 16:45:01,375]\u001b[0m Trial 144 finished with value: 0.008777139691898968 and parameters: {'max_depth': 6, 'eta': 0.431774382231281, 'gamma': 0.14132694626968414, 'subsample': 0.9548957222602845, 'colsample_bytree': 0.9441947852843454}. Best is trial 57 with value: 0.003554786480584704.\u001b[0m\n"
     ]
    },
    {
     "name": "stdout",
     "output_type": "stream",
     "text": [
      "MAPE: 0.008777139691898968\n"
     ]
    },
    {
     "name": "stderr",
     "output_type": "stream",
     "text": [
      "\u001b[32m[I 2023-07-19 16:45:03,826]\u001b[0m Trial 145 finished with value: 0.003877678342604748 and parameters: {'max_depth': 10, 'eta': 0.7133568825714947, 'gamma': 0.11673975121896008, 'subsample': 0.8767016217318963, 'colsample_bytree': 0.9983325594094276}. Best is trial 57 with value: 0.003554786480584704.\u001b[0m\n"
     ]
    },
    {
     "name": "stdout",
     "output_type": "stream",
     "text": [
      "MAPE: 0.003877678342604748\n"
     ]
    },
    {
     "name": "stderr",
     "output_type": "stream",
     "text": [
      "\u001b[32m[I 2023-07-19 16:45:06,353]\u001b[0m Trial 146 finished with value: 0.004221881605659486 and parameters: {'max_depth': 10, 'eta': 0.8584846865085287, 'gamma': 0.19099268775271336, 'subsample': 0.8506265002548615, 'colsample_bytree': 0.9603351958206651}. Best is trial 57 with value: 0.003554786480584704.\u001b[0m\n"
     ]
    },
    {
     "name": "stdout",
     "output_type": "stream",
     "text": [
      "MAPE: 0.004221881605659486\n"
     ]
    },
    {
     "name": "stderr",
     "output_type": "stream",
     "text": [
      "\u001b[32m[I 2023-07-19 16:45:07,812]\u001b[0m Trial 147 finished with value: 0.2173590389793349 and parameters: {'max_depth': 10, 'eta': 0.14153993619437638, 'gamma': 0.16349293333817808, 'subsample': 0.8998592953717046, 'colsample_bytree': 0.9837418118175945}. Best is trial 57 with value: 0.003554786480584704.\u001b[0m\n"
     ]
    },
    {
     "name": "stdout",
     "output_type": "stream",
     "text": [
      "MAPE: 0.2173590389793349\n"
     ]
    },
    {
     "name": "stderr",
     "output_type": "stream",
     "text": [
      "\u001b[32m[I 2023-07-19 16:45:09,875]\u001b[0m Trial 148 finished with value: 0.005872585170631232 and parameters: {'max_depth': 9, 'eta': 0.5636265937940806, 'gamma': 0.10826586479718561, 'subsample': 0.7564240997217239, 'colsample_bytree': 0.9344773108111428}. Best is trial 57 with value: 0.003554786480584704.\u001b[0m\n"
     ]
    },
    {
     "name": "stdout",
     "output_type": "stream",
     "text": [
      "MAPE: 0.005872585170631232\n"
     ]
    },
    {
     "name": "stderr",
     "output_type": "stream",
     "text": [
      "\u001b[32m[I 2023-07-19 16:45:12,171]\u001b[0m Trial 149 finished with value: 0.003956784080513349 and parameters: {'max_depth': 10, 'eta': 0.4861536325467999, 'gamma': 0.21096223238125786, 'subsample': 0.9173928691970485, 'colsample_bytree': 0.9634626774467995}. Best is trial 57 with value: 0.003554786480584704.\u001b[0m\n"
     ]
    },
    {
     "name": "stdout",
     "output_type": "stream",
     "text": [
      "MAPE: 0.003956784080513349\n"
     ]
    },
    {
     "name": "stderr",
     "output_type": "stream",
     "text": [
      "\u001b[32m[I 2023-07-19 16:45:14,687]\u001b[0m Trial 150 finished with value: 0.007967339552900457 and parameters: {'max_depth': 10, 'eta': 0.7684508088313141, 'gamma': 0.12774841614762383, 'subsample': 0.8077605436672067, 'colsample_bytree': 0.9159612343982968}. Best is trial 57 with value: 0.003554786480584704.\u001b[0m\n"
     ]
    },
    {
     "name": "stdout",
     "output_type": "stream",
     "text": [
      "MAPE: 0.007967339552900457\n"
     ]
    },
    {
     "name": "stderr",
     "output_type": "stream",
     "text": [
      "\u001b[32m[I 2023-07-19 16:45:17,141]\u001b[0m Trial 151 finished with value: 0.003981264975414641 and parameters: {'max_depth': 10, 'eta': 0.6716308031248738, 'gamma': 0.09494528206563585, 'subsample': 0.8740864728229047, 'colsample_bytree': 0.9969812233541655}. Best is trial 57 with value: 0.003554786480584704.\u001b[0m\n"
     ]
    },
    {
     "name": "stdout",
     "output_type": "stream",
     "text": [
      "MAPE: 0.003981264975414641\n"
     ]
    },
    {
     "name": "stderr",
     "output_type": "stream",
     "text": [
      "\u001b[32m[I 2023-07-19 16:45:19,570]\u001b[0m Trial 152 finished with value: 0.004016505034681028 and parameters: {'max_depth': 10, 'eta': 0.6223694822764054, 'gamma': 0.10608821318149587, 'subsample': 0.8937610743679568, 'colsample_bytree': 0.9828892352591394}. Best is trial 57 with value: 0.003554786480584704.\u001b[0m\n"
     ]
    },
    {
     "name": "stdout",
     "output_type": "stream",
     "text": [
      "MAPE: 0.004016505034681028\n"
     ]
    },
    {
     "name": "stderr",
     "output_type": "stream",
     "text": [
      "\u001b[32m[I 2023-07-19 16:45:21,942]\u001b[0m Trial 153 finished with value: 0.004027835039906264 and parameters: {'max_depth': 10, 'eta': 0.7170364028473765, 'gamma': 0.11552437610582246, 'subsample': 0.840563709303323, 'colsample_bytree': 0.9993887781823421}. Best is trial 57 with value: 0.003554786480584704.\u001b[0m\n"
     ]
    },
    {
     "name": "stdout",
     "output_type": "stream",
     "text": [
      "MAPE: 0.004027835039906264\n"
     ]
    },
    {
     "name": "stderr",
     "output_type": "stream",
     "text": [
      "\u001b[32m[I 2023-07-19 16:45:24,209]\u001b[0m Trial 154 finished with value: 0.0039151937406748044 and parameters: {'max_depth': 10, 'eta': 0.5356486201516563, 'gamma': 0.14296809362083543, 'subsample': 0.8806038152754153, 'colsample_bytree': 0.9499203712377283}. Best is trial 57 with value: 0.003554786480584704.\u001b[0m\n"
     ]
    },
    {
     "name": "stdout",
     "output_type": "stream",
     "text": [
      "MAPE: 0.0039151937406748044\n"
     ]
    },
    {
     "name": "stderr",
     "output_type": "stream",
     "text": [
      "\u001b[32m[I 2023-07-19 16:45:26,554]\u001b[0m Trial 155 finished with value: 0.0039008826293411357 and parameters: {'max_depth': 10, 'eta': 0.5950736931181215, 'gamma': 0.1772129104022782, 'subsample': 0.8251259513297738, 'colsample_bytree': 0.9724894894887994}. Best is trial 57 with value: 0.003554786480584704.\u001b[0m\n"
     ]
    },
    {
     "name": "stdout",
     "output_type": "stream",
     "text": [
      "MAPE: 0.0039008826293411357\n"
     ]
    },
    {
     "name": "stderr",
     "output_type": "stream",
     "text": [
      "\u001b[32m[I 2023-07-19 16:45:29,021]\u001b[0m Trial 156 finished with value: 0.004286402931676214 and parameters: {'max_depth': 10, 'eta': 0.8189079610889215, 'gamma': 0.12042096478362169, 'subsample': 0.8596534079074928, 'colsample_bytree': 0.9829071785668377}. Best is trial 57 with value: 0.003554786480584704.\u001b[0m\n"
     ]
    },
    {
     "name": "stdout",
     "output_type": "stream",
     "text": [
      "MAPE: 0.004286402931676214\n"
     ]
    },
    {
     "name": "stderr",
     "output_type": "stream",
     "text": [
      "\u001b[32m[I 2023-07-19 16:45:31,225]\u001b[0m Trial 157 finished with value: 0.004276579897288686 and parameters: {'max_depth': 9, 'eta': 0.7135366495964519, 'gamma': 0.14917089440330453, 'subsample': 0.9114546949268018, 'colsample_bytree': 0.9528944688924695}. Best is trial 57 with value: 0.003554786480584704.\u001b[0m\n"
     ]
    },
    {
     "name": "stdout",
     "output_type": "stream",
     "text": [
      "MAPE: 0.004276579897288686\n"
     ]
    },
    {
     "name": "stderr",
     "output_type": "stream",
     "text": [
      "\u001b[32m[I 2023-07-19 16:45:33,887]\u001b[0m Trial 158 finished with value: 0.004779027625598827 and parameters: {'max_depth': 10, 'eta': 0.9292708523281216, 'gamma': 0.22958643140698015, 'subsample': 0.9529600505817982, 'colsample_bytree': 0.9995732129522407}. Best is trial 57 with value: 0.003554786480584704.\u001b[0m\n"
     ]
    },
    {
     "name": "stdout",
     "output_type": "stream",
     "text": [
      "MAPE: 0.004779027625598827\n"
     ]
    },
    {
     "name": "stderr",
     "output_type": "stream",
     "text": [
      "\u001b[32m[I 2023-07-19 16:45:36,125]\u001b[0m Trial 159 finished with value: 0.005176127640173477 and parameters: {'max_depth': 10, 'eta': 0.5055245958994734, 'gamma': 0.13119820177863906, 'subsample': 0.7822585381805572, 'colsample_bytree': 0.9334047820498282}. Best is trial 57 with value: 0.003554786480584704.\u001b[0m\n"
     ]
    },
    {
     "name": "stdout",
     "output_type": "stream",
     "text": [
      "MAPE: 0.005176127640173477\n"
     ]
    },
    {
     "name": "stderr",
     "output_type": "stream",
     "text": [
      "\u001b[32m[I 2023-07-19 16:45:38,578]\u001b[0m Trial 160 finished with value: 0.0038877676285268914 and parameters: {'max_depth': 10, 'eta': 0.6530058656242146, 'gamma': 0.19892327832490264, 'subsample': 0.930726889363424, 'colsample_bytree': 0.9696096270848802}. Best is trial 57 with value: 0.003554786480584704.\u001b[0m\n"
     ]
    },
    {
     "name": "stdout",
     "output_type": "stream",
     "text": [
      "MAPE: 0.0038877676285268914\n"
     ]
    },
    {
     "name": "stderr",
     "output_type": "stream",
     "text": [
      "\u001b[32m[I 2023-07-19 16:45:40,942]\u001b[0m Trial 161 finished with value: 0.00381813386106694 and parameters: {'max_depth': 10, 'eta': 0.5813750646341003, 'gamma': 0.15300149617062528, 'subsample': 0.9162056133013308, 'colsample_bytree': 0.9840715516964892}. Best is trial 57 with value: 0.003554786480584704.\u001b[0m\n"
     ]
    },
    {
     "name": "stdout",
     "output_type": "stream",
     "text": [
      "MAPE: 0.00381813386106694\n"
     ]
    },
    {
     "name": "stderr",
     "output_type": "stream",
     "text": [
      "\u001b[32m[I 2023-07-19 16:45:43,293]\u001b[0m Trial 162 finished with value: 0.0037987465905515634 and parameters: {'max_depth': 10, 'eta': 0.5575412736253106, 'gamma': 0.15352537243864367, 'subsample': 0.9045887171653043, 'colsample_bytree': 0.9818309620231892}. Best is trial 57 with value: 0.003554786480584704.\u001b[0m\n"
     ]
    },
    {
     "name": "stdout",
     "output_type": "stream",
     "text": [
      "MAPE: 0.0037987465905515634\n"
     ]
    },
    {
     "name": "stderr",
     "output_type": "stream",
     "text": [
      "\u001b[32m[I 2023-07-19 16:45:45,562]\u001b[0m Trial 163 finished with value: 0.003749773177733188 and parameters: {'max_depth': 10, 'eta': 0.5580401639088516, 'gamma': 0.15860826819571222, 'subsample': 0.9087058293289679, 'colsample_bytree': 0.9655846532497261}. Best is trial 57 with value: 0.003554786480584704.\u001b[0m\n"
     ]
    },
    {
     "name": "stdout",
     "output_type": "stream",
     "text": [
      "MAPE: 0.003749773177733188\n"
     ]
    },
    {
     "name": "stderr",
     "output_type": "stream",
     "text": [
      "\u001b[32m[I 2023-07-19 16:45:47,895]\u001b[0m Trial 164 finished with value: 0.0038226991447054388 and parameters: {'max_depth': 10, 'eta': 0.5694397566280629, 'gamma': 0.1594517478084588, 'subsample': 0.9381505620515425, 'colsample_bytree': 0.9614842217178704}. Best is trial 57 with value: 0.003554786480584704.\u001b[0m\n"
     ]
    },
    {
     "name": "stdout",
     "output_type": "stream",
     "text": [
      "MAPE: 0.0038226991447054388\n"
     ]
    },
    {
     "name": "stderr",
     "output_type": "stream",
     "text": [
      "\u001b[32m[I 2023-07-19 16:45:50,082]\u001b[0m Trial 165 finished with value: 0.007023733256578526 and parameters: {'max_depth': 10, 'eta': 0.3946619346737491, 'gamma': 0.16635974951592267, 'subsample': 0.9666016753723845, 'colsample_bytree': 0.9486066830971742}. Best is trial 57 with value: 0.003554786480584704.\u001b[0m\n"
     ]
    },
    {
     "name": "stdout",
     "output_type": "stream",
     "text": [
      "MAPE: 0.007023733256578526\n"
     ]
    },
    {
     "name": "stderr",
     "output_type": "stream",
     "text": [
      "\u001b[32m[I 2023-07-19 16:45:52,497]\u001b[0m Trial 166 finished with value: 0.005240485856748389 and parameters: {'max_depth': 10, 'eta': 0.5494546849265872, 'gamma': 0.14833266128781172, 'subsample': 0.9405545994559085, 'colsample_bytree': 0.9151988200140521}. Best is trial 57 with value: 0.003554786480584704.\u001b[0m\n"
     ]
    },
    {
     "name": "stdout",
     "output_type": "stream",
     "text": [
      "MAPE: 0.005240485856748389\n"
     ]
    },
    {
     "name": "stderr",
     "output_type": "stream",
     "text": [
      "\u001b[32m[I 2023-07-19 16:45:54,824]\u001b[0m Trial 167 finished with value: 0.004352759413725489 and parameters: {'max_depth': 10, 'eta': 0.44774663997799347, 'gamma': 0.17752167801973082, 'subsample': 0.9899072908408051, 'colsample_bytree': 0.9661917144381493}. Best is trial 57 with value: 0.003554786480584704.\u001b[0m\n"
     ]
    },
    {
     "name": "stdout",
     "output_type": "stream",
     "text": [
      "MAPE: 0.004352759413725489\n"
     ]
    },
    {
     "name": "stderr",
     "output_type": "stream",
     "text": [
      "\u001b[32m[I 2023-07-19 16:45:56,494]\u001b[0m Trial 168 finished with value: 0.02191643372486558 and parameters: {'max_depth': 10, 'eta': 0.49496912533419657, 'gamma': 0.13916949356406544, 'subsample': 0.921434362114728, 'colsample_bytree': 0.49190899937502375}. Best is trial 57 with value: 0.003554786480584704.\u001b[0m\n"
     ]
    },
    {
     "name": "stdout",
     "output_type": "stream",
     "text": [
      "MAPE: 0.02191643372486558\n"
     ]
    },
    {
     "name": "stderr",
     "output_type": "stream",
     "text": [
      "\u001b[32m[I 2023-07-19 16:45:58,890]\u001b[0m Trial 169 finished with value: 0.0054292963608248805 and parameters: {'max_depth': 10, 'eta': 0.5683339421970105, 'gamma': 0.1587546330830634, 'subsample': 0.9519410420158231, 'colsample_bytree': 0.8807856043535344}. Best is trial 57 with value: 0.003554786480584704.\u001b[0m\n"
     ]
    },
    {
     "name": "stdout",
     "output_type": "stream",
     "text": [
      "MAPE: 0.0054292963608248805\n"
     ]
    },
    {
     "name": "stderr",
     "output_type": "stream",
     "text": [
      "\u001b[32m[I 2023-07-19 16:46:00,923]\u001b[0m Trial 170 finished with value: 0.006630654392168948 and parameters: {'max_depth': 9, 'eta': 0.41780428543551196, 'gamma': 0.12835084707219718, 'subsample': 0.9772888822295565, 'colsample_bytree': 0.9314140603947053}. Best is trial 57 with value: 0.003554786480584704.\u001b[0m\n"
     ]
    },
    {
     "name": "stdout",
     "output_type": "stream",
     "text": [
      "MAPE: 0.006630654392168948\n"
     ]
    },
    {
     "name": "stderr",
     "output_type": "stream",
     "text": [
      "\u001b[32m[I 2023-07-19 16:46:03,329]\u001b[0m Trial 171 finished with value: 0.003897634872980946 and parameters: {'max_depth': 10, 'eta': 0.607475335305481, 'gamma': 0.15888321790148652, 'subsample': 0.9044471727080505, 'colsample_bytree': 0.9785369358661052}. Best is trial 57 with value: 0.003554786480584704.\u001b[0m\n"
     ]
    },
    {
     "name": "stdout",
     "output_type": "stream",
     "text": [
      "MAPE: 0.003897634872980946\n"
     ]
    },
    {
     "name": "stderr",
     "output_type": "stream",
     "text": [
      "\u001b[32m[I 2023-07-19 16:46:05,652]\u001b[0m Trial 172 finished with value: 0.0038181861055515136 and parameters: {'max_depth': 10, 'eta': 0.5218913201754927, 'gamma': 0.18503138186187748, 'subsample': 0.9278679991787646, 'colsample_bytree': 0.9604090504507365}. Best is trial 57 with value: 0.003554786480584704.\u001b[0m\n"
     ]
    },
    {
     "name": "stdout",
     "output_type": "stream",
     "text": [
      "MAPE: 0.0038181861055515136\n"
     ]
    },
    {
     "name": "stderr",
     "output_type": "stream",
     "text": [
      "\u001b[32m[I 2023-07-19 16:46:07,976]\u001b[0m Trial 173 finished with value: 0.0038322414117909894 and parameters: {'max_depth': 10, 'eta': 0.531643914034643, 'gamma': 0.19439167135441734, 'subsample': 0.9257326648776072, 'colsample_bytree': 0.9567846166026709}. Best is trial 57 with value: 0.003554786480584704.\u001b[0m\n"
     ]
    },
    {
     "name": "stdout",
     "output_type": "stream",
     "text": [
      "MAPE: 0.0038322414117909894\n"
     ]
    },
    {
     "name": "stderr",
     "output_type": "stream",
     "text": [
      "\u001b[32m[I 2023-07-19 16:46:10,106]\u001b[0m Trial 174 finished with value: 0.01333840295638566 and parameters: {'max_depth': 10, 'eta': 0.35000449845231346, 'gamma': 0.17739106520516987, 'subsample': 0.9338183763905079, 'colsample_bytree': 0.9477221598421386}. Best is trial 57 with value: 0.003554786480584704.\u001b[0m\n"
     ]
    },
    {
     "name": "stdout",
     "output_type": "stream",
     "text": [
      "MAPE: 0.01333840295638566\n"
     ]
    },
    {
     "name": "stderr",
     "output_type": "stream",
     "text": [
      "\u001b[32m[I 2023-07-19 16:46:12,439]\u001b[0m Trial 175 finished with value: 0.003814354932238174 and parameters: {'max_depth': 10, 'eta': 0.5095465090406225, 'gamma': 0.18264002053938636, 'subsample': 0.9289327814002789, 'colsample_bytree': 0.9551224651305034}. Best is trial 57 with value: 0.003554786480584704.\u001b[0m\n"
     ]
    },
    {
     "name": "stdout",
     "output_type": "stream",
     "text": [
      "MAPE: 0.003814354932238174\n"
     ]
    },
    {
     "name": "stderr",
     "output_type": "stream",
     "text": [
      "\u001b[32m[I 2023-07-19 16:46:14,723]\u001b[0m Trial 176 finished with value: 0.003910809146353473 and parameters: {'max_depth': 10, 'eta': 0.4825300410233213, 'gamma': 0.14000213915941767, 'subsample': 0.923508202815442, 'colsample_bytree': 0.9603786387524316}. Best is trial 57 with value: 0.003554786480584704.\u001b[0m\n"
     ]
    },
    {
     "name": "stdout",
     "output_type": "stream",
     "text": [
      "MAPE: 0.003910809146353473\n"
     ]
    },
    {
     "name": "stderr",
     "output_type": "stream",
     "text": [
      "\u001b[32m[I 2023-07-19 16:46:17,184]\u001b[0m Trial 177 finished with value: 0.011165451881919239 and parameters: {'max_depth': 10, 'eta': 0.5181492029151312, 'gamma': 0.18557918544435423, 'subsample': 0.9556533024353048, 'colsample_bytree': 0.8092313413833649}. Best is trial 57 with value: 0.003554786480584704.\u001b[0m\n"
     ]
    },
    {
     "name": "stdout",
     "output_type": "stream",
     "text": [
      "MAPE: 0.011165451881919239\n"
     ]
    },
    {
     "name": "stderr",
     "output_type": "stream",
     "text": [
      "\u001b[32m[I 2023-07-19 16:46:19,441]\u001b[0m Trial 178 finished with value: 0.005445764714051098 and parameters: {'max_depth': 10, 'eta': 0.44527115510488957, 'gamma': 0.16541409816750366, 'subsample': 0.9063135267487356, 'colsample_bytree': 0.9138101331428296}. Best is trial 57 with value: 0.003554786480584704.\u001b[0m\n"
     ]
    },
    {
     "name": "stdout",
     "output_type": "stream",
     "text": [
      "MAPE: 0.005445764714051098\n"
     ]
    },
    {
     "name": "stderr",
     "output_type": "stream",
     "text": [
      "\u001b[32m[I 2023-07-19 16:46:20,165]\u001b[0m Trial 179 finished with value: 0.015235924844061543 and parameters: {'max_depth': 3, 'eta': 0.5406721294104199, 'gamma': 0.14928971459845428, 'subsample': 0.9997833801577969, 'colsample_bytree': 0.9346904547724942}. Best is trial 57 with value: 0.003554786480584704.\u001b[0m\n"
     ]
    },
    {
     "name": "stdout",
     "output_type": "stream",
     "text": [
      "MAPE: 0.015235924844061543\n"
     ]
    },
    {
     "name": "stderr",
     "output_type": "stream",
     "text": [
      "\u001b[32m[I 2023-07-19 16:46:22,454]\u001b[0m Trial 180 finished with value: 0.005482073561396665 and parameters: {'max_depth': 10, 'eta': 0.46554315605120106, 'gamma': 0.18741692863559614, 'subsample': 0.9388947221671575, 'colsample_bytree': 0.8531653091561893}. Best is trial 57 with value: 0.003554786480584704.\u001b[0m\n"
     ]
    },
    {
     "name": "stdout",
     "output_type": "stream",
     "text": [
      "MAPE: 0.005482073561396665\n"
     ]
    },
    {
     "name": "stderr",
     "output_type": "stream",
     "text": [
      "\u001b[32m[I 2023-07-19 16:46:24,877]\u001b[0m Trial 181 finished with value: 0.003713544012751743 and parameters: {'max_depth': 10, 'eta': 0.5779819609937287, 'gamma': 0.21744249323540565, 'subsample': 0.8882204640918184, 'colsample_bytree': 0.9635884146941429}. Best is trial 57 with value: 0.003554786480584704.\u001b[0m\n"
     ]
    },
    {
     "name": "stdout",
     "output_type": "stream",
     "text": [
      "MAPE: 0.003713544012751743\n"
     ]
    },
    {
     "name": "stderr",
     "output_type": "stream",
     "text": [
      "\u001b[32m[I 2023-07-19 16:46:27,262]\u001b[0m Trial 182 finished with value: 0.003955559612392173 and parameters: {'max_depth': 10, 'eta': 0.5729648984674918, 'gamma': 0.22666642346719576, 'subsample': 0.8895885300079632, 'colsample_bytree': 0.9653028192364462}. Best is trial 57 with value: 0.003554786480584704.\u001b[0m\n"
     ]
    },
    {
     "name": "stdout",
     "output_type": "stream",
     "text": [
      "MAPE: 0.003955559612392173\n"
     ]
    },
    {
     "name": "stderr",
     "output_type": "stream",
     "text": [
      "\u001b[32m[I 2023-07-19 16:46:29,538]\u001b[0m Trial 183 finished with value: 0.003859587132729022 and parameters: {'max_depth': 10, 'eta': 0.4981606421683595, 'gamma': 0.26004709067106285, 'subsample': 0.9193517919050026, 'colsample_bytree': 0.9499415895888076}. Best is trial 57 with value: 0.003554786480584704.\u001b[0m\n"
     ]
    },
    {
     "name": "stdout",
     "output_type": "stream",
     "text": [
      "MAPE: 0.003859587132729022\n"
     ]
    },
    {
     "name": "stderr",
     "output_type": "stream",
     "text": [
      "\u001b[32m[I 2023-07-19 16:46:31,918]\u001b[0m Trial 184 finished with value: 0.0038762505041590825 and parameters: {'max_depth': 10, 'eta': 0.5456130081466449, 'gamma': 0.20925746626067987, 'subsample': 0.891313901128422, 'colsample_bytree': 0.9682670357371811}. Best is trial 57 with value: 0.003554786480584704.\u001b[0m\n"
     ]
    },
    {
     "name": "stdout",
     "output_type": "stream",
     "text": [
      "MAPE: 0.0038762505041590825\n"
     ]
    },
    {
     "name": "stderr",
     "output_type": "stream",
     "text": [
      "\u001b[32m[I 2023-07-19 16:46:34,386]\u001b[0m Trial 185 finished with value: 0.005645162407557096 and parameters: {'max_depth': 10, 'eta': 0.6038765120578675, 'gamma': 0.2440447536204168, 'subsample': 0.9681966214417591, 'colsample_bytree': 0.9311859141522958}. Best is trial 57 with value: 0.003554786480584704.\u001b[0m\n"
     ]
    },
    {
     "name": "stdout",
     "output_type": "stream",
     "text": [
      "MAPE: 0.005645162407557096\n"
     ]
    },
    {
     "name": "stderr",
     "output_type": "stream",
     "text": [
      "\u001b[32m[I 2023-07-19 16:46:36,572]\u001b[0m Trial 186 finished with value: 0.007367488667815458 and parameters: {'max_depth': 10, 'eta': 0.3905881063805484, 'gamma': 0.17019492515151272, 'subsample': 0.9429917329080567, 'colsample_bytree': 0.9827688370689457}. Best is trial 57 with value: 0.003554786480584704.\u001b[0m\n"
     ]
    },
    {
     "name": "stdout",
     "output_type": "stream",
     "text": [
      "MAPE: 0.007367488667815458\n"
     ]
    },
    {
     "name": "stderr",
     "output_type": "stream",
     "text": [
      "\u001b[32m[I 2023-07-19 16:46:38,897]\u001b[0m Trial 187 finished with value: 0.00391460044192731 and parameters: {'max_depth': 10, 'eta': 0.5256845802036064, 'gamma': 0.12898272888505768, 'subsample': 0.9041753620979763, 'colsample_bytree': 0.9600625997236094}. Best is trial 57 with value: 0.003554786480584704.\u001b[0m\n"
     ]
    },
    {
     "name": "stdout",
     "output_type": "stream",
     "text": [
      "MAPE: 0.00391460044192731\n"
     ]
    },
    {
     "name": "stderr",
     "output_type": "stream",
     "text": [
      "\u001b[32m[I 2023-07-19 16:46:40,338]\u001b[0m Trial 188 finished with value: 0.6489317969581462 and parameters: {'max_depth': 10, 'eta': 0.042318105249882304, 'gamma': 0.19094829531785013, 'subsample': 0.9304637071257251, 'colsample_bytree': 0.9448363981089549}. Best is trial 57 with value: 0.003554786480584704.\u001b[0m\n"
     ]
    },
    {
     "name": "stdout",
     "output_type": "stream",
     "text": [
      "MAPE: 0.6489317969581462\n"
     ]
    },
    {
     "name": "stderr",
     "output_type": "stream",
     "text": [
      "\u001b[32m[I 2023-07-19 16:46:42,909]\u001b[0m Trial 189 finished with value: 0.014482797968358841 and parameters: {'max_depth': 10, 'eta': 0.6213815129133429, 'gamma': 0.09450061951567822, 'subsample': 0.9118189902924639, 'colsample_bytree': 0.8314693003254017}. Best is trial 57 with value: 0.003554786480584704.\u001b[0m\n"
     ]
    },
    {
     "name": "stdout",
     "output_type": "stream",
     "text": [
      "MAPE: 0.014482797968358841\n"
     ]
    },
    {
     "name": "stderr",
     "output_type": "stream",
     "text": [
      "\u001b[32m[I 2023-07-19 16:46:45,207]\u001b[0m Trial 190 finished with value: 0.009756147823468689 and parameters: {'max_depth': 10, 'eta': 0.4233109993818531, 'gamma': 0.15210188620644496, 'subsample': 0.8852459041980375, 'colsample_bytree': 0.7660413877401758}. Best is trial 57 with value: 0.003554786480584704.\u001b[0m\n"
     ]
    },
    {
     "name": "stdout",
     "output_type": "stream",
     "text": [
      "MAPE: 0.009756147823468689\n"
     ]
    },
    {
     "name": "stderr",
     "output_type": "stream",
     "text": [
      "\u001b[32m[I 2023-07-19 16:46:47,468]\u001b[0m Trial 191 finished with value: 0.003893228911144875 and parameters: {'max_depth': 10, 'eta': 0.5594955552731152, 'gamma': 0.20757369104013704, 'subsample': 0.8571910111163923, 'colsample_bytree': 0.9837445798153082}. Best is trial 57 with value: 0.003554786480584704.\u001b[0m\n"
     ]
    },
    {
     "name": "stdout",
     "output_type": "stream",
     "text": [
      "MAPE: 0.003893228911144875\n"
     ]
    },
    {
     "name": "stderr",
     "output_type": "stream",
     "text": [
      "\u001b[32m[I 2023-07-19 16:46:49,871]\u001b[0m Trial 192 finished with value: 0.0038464057259244002 and parameters: {'max_depth': 10, 'eta': 0.6518474993534722, 'gamma': 0.17180774898020287, 'subsample': 0.7430466951901793, 'colsample_bytree': 0.9776651339432247}. Best is trial 57 with value: 0.003554786480584704.\u001b[0m\n"
     ]
    },
    {
     "name": "stdout",
     "output_type": "stream",
     "text": [
      "MAPE: 0.0038464057259244002\n"
     ]
    },
    {
     "name": "stderr",
     "output_type": "stream",
     "text": [
      "\u001b[32m[I 2023-07-19 16:46:52,089]\u001b[0m Trial 193 finished with value: 0.0038086179685538034 and parameters: {'max_depth': 10, 'eta': 0.4862793650763209, 'gamma': 0.22875224635662472, 'subsample': 0.878680654173818, 'colsample_bytree': 0.966850618740184}. Best is trial 57 with value: 0.003554786480584704.\u001b[0m\n"
     ]
    },
    {
     "name": "stdout",
     "output_type": "stream",
     "text": [
      "MAPE: 0.0038086179685538034\n"
     ]
    },
    {
     "name": "stderr",
     "output_type": "stream",
     "text": [
      "\u001b[32m[I 2023-07-19 16:46:54,333]\u001b[0m Trial 194 finished with value: 0.003805860040925557 and parameters: {'max_depth': 10, 'eta': 0.4804102511105918, 'gamma': 0.21730126851192588, 'subsample': 0.8794727511157662, 'colsample_bytree': 0.9613173775697752}. Best is trial 57 with value: 0.003554786480584704.\u001b[0m\n"
     ]
    },
    {
     "name": "stdout",
     "output_type": "stream",
     "text": [
      "MAPE: 0.003805860040925557\n"
     ]
    },
    {
     "name": "stderr",
     "output_type": "stream",
     "text": [
      "\u001b[32m[I 2023-07-19 16:46:56,615]\u001b[0m Trial 195 finished with value: 0.005195695209833721 and parameters: {'max_depth': 10, 'eta': 0.47416041830357414, 'gamma': 0.2928160179973576, 'subsample': 0.8712755713851493, 'colsample_bytree': 0.8974378309665144}. Best is trial 57 with value: 0.003554786480584704.\u001b[0m\n"
     ]
    },
    {
     "name": "stdout",
     "output_type": "stream",
     "text": [
      "MAPE: 0.005195695209833721\n"
     ]
    },
    {
     "name": "stderr",
     "output_type": "stream",
     "text": [
      "\u001b[32m[I 2023-07-19 16:46:58,894]\u001b[0m Trial 196 finished with value: 0.003908973358696503 and parameters: {'max_depth': 10, 'eta': 0.4952313254001905, 'gamma': 0.23564039781850066, 'subsample': 0.8976443981298802, 'colsample_bytree': 0.9553274309268864}. Best is trial 57 with value: 0.003554786480584704.\u001b[0m\n"
     ]
    },
    {
     "name": "stdout",
     "output_type": "stream",
     "text": [
      "MAPE: 0.003908973358696503\n"
     ]
    },
    {
     "name": "stderr",
     "output_type": "stream",
     "text": [
      "\u001b[32m[I 2023-07-19 16:47:00,180]\u001b[0m Trial 197 finished with value: 0.049558980956452024 and parameters: {'max_depth': 10, 'eta': 0.4402314149794929, 'gamma': 0.10802478231649551, 'subsample': 0.9236312007061507, 'colsample_bytree': 0.2557510843972322}. Best is trial 57 with value: 0.003554786480584704.\u001b[0m\n"
     ]
    },
    {
     "name": "stdout",
     "output_type": "stream",
     "text": [
      "MAPE: 0.049558980956452024\n"
     ]
    },
    {
     "name": "stderr",
     "output_type": "stream",
     "text": [
      "\u001b[32m[I 2023-07-19 16:47:02,593]\u001b[0m Trial 198 finished with value: 0.005590365823378929 and parameters: {'max_depth': 10, 'eta': 0.5790417321437844, 'gamma': 0.13758576951988866, 'subsample': 0.8805591241752205, 'colsample_bytree': 0.9221771961671634}. Best is trial 57 with value: 0.003554786480584704.\u001b[0m\n"
     ]
    },
    {
     "name": "stdout",
     "output_type": "stream",
     "text": [
      "MAPE: 0.005590365823378929\n"
     ]
    },
    {
     "name": "stderr",
     "output_type": "stream",
     "text": [
      "\u001b[32m[I 2023-07-19 16:47:04,927]\u001b[0m Trial 199 finished with value: 0.00394824274624126 and parameters: {'max_depth': 10, 'eta': 0.5128146376765914, 'gamma': 0.256819310552186, 'subsample': 0.9502559860938387, 'colsample_bytree': 0.964687638646306}. Best is trial 57 with value: 0.003554786480584704.\u001b[0m\n"
     ]
    },
    {
     "name": "stdout",
     "output_type": "stream",
     "text": [
      "MAPE: 0.00394824274624126\n"
     ]
    },
    {
     "name": "stderr",
     "output_type": "stream",
     "text": [
      "\u001b[32m[I 2023-07-19 16:47:07,081]\u001b[0m Trial 200 finished with value: 0.0061857723017807575 and parameters: {'max_depth': 9, 'eta': 0.5775737797188043, 'gamma': 0.2194718132671025, 'subsample': 0.9092561774868007, 'colsample_bytree': 0.9435096689839538}. Best is trial 57 with value: 0.003554786480584704.\u001b[0m\n"
     ]
    },
    {
     "name": "stdout",
     "output_type": "stream",
     "text": [
      "MAPE: 0.0061857723017807575\n"
     ]
    },
    {
     "name": "stderr",
     "output_type": "stream",
     "text": [
      "\u001b[32m[I 2023-07-19 16:47:09,360]\u001b[0m Trial 201 finished with value: 0.011271568378530572 and parameters: {'max_depth': 10, 'eta': 0.5277490961574406, 'gamma': 0.19060526796605662, 'subsample': 0.6723128450865075, 'colsample_bytree': 0.7175214977848444}. Best is trial 57 with value: 0.003554786480584704.\u001b[0m\n"
     ]
    },
    {
     "name": "stdout",
     "output_type": "stream",
     "text": [
      "MAPE: 0.011271568378530572\n"
     ]
    },
    {
     "name": "stderr",
     "output_type": "stream",
     "text": [
      "\u001b[32m[I 2023-07-19 16:47:11,696]\u001b[0m Trial 202 finished with value: 0.003758269596779769 and parameters: {'max_depth': 10, 'eta': 0.6244843647287026, 'gamma': 0.21914610768449094, 'subsample': 0.7246080827470658, 'colsample_bytree': 0.9821541913120813}. Best is trial 57 with value: 0.003554786480584704.\u001b[0m\n"
     ]
    },
    {
     "name": "stdout",
     "output_type": "stream",
     "text": [
      "MAPE: 0.003758269596779769\n"
     ]
    },
    {
     "name": "stderr",
     "output_type": "stream",
     "text": [
      "\u001b[32m[I 2023-07-19 16:47:14,043]\u001b[0m Trial 203 finished with value: 0.003699745045141024 and parameters: {'max_depth': 10, 'eta': 0.6145355386240748, 'gamma': 0.21848331353920755, 'subsample': 0.6900033382689155, 'colsample_bytree': 0.9812156571391393}. Best is trial 57 with value: 0.003554786480584704.\u001b[0m\n"
     ]
    },
    {
     "name": "stdout",
     "output_type": "stream",
     "text": [
      "MAPE: 0.003699745045141024\n"
     ]
    },
    {
     "name": "stderr",
     "output_type": "stream",
     "text": [
      "\u001b[32m[I 2023-07-19 16:47:16,360]\u001b[0m Trial 204 finished with value: 0.0037599926100448087 and parameters: {'max_depth': 10, 'eta': 0.6308319908054791, 'gamma': 0.23016483368179194, 'subsample': 0.7092553805568986, 'colsample_bytree': 0.9833583658574134}. Best is trial 57 with value: 0.003554786480584704.\u001b[0m\n"
     ]
    },
    {
     "name": "stdout",
     "output_type": "stream",
     "text": [
      "MAPE: 0.0037599926100448087\n"
     ]
    },
    {
     "name": "stderr",
     "output_type": "stream",
     "text": [
      "\u001b[32m[I 2023-07-19 16:47:18,722]\u001b[0m Trial 205 finished with value: 0.0036413436815543676 and parameters: {'max_depth': 10, 'eta': 0.6104798760798663, 'gamma': 0.275625507805718, 'subsample': 0.72515865194816, 'colsample_bytree': 0.9987634802238525}. Best is trial 57 with value: 0.003554786480584704.\u001b[0m\n"
     ]
    },
    {
     "name": "stdout",
     "output_type": "stream",
     "text": [
      "MAPE: 0.0036413436815543676\n"
     ]
    },
    {
     "name": "stderr",
     "output_type": "stream",
     "text": [
      "\u001b[32m[I 2023-07-19 16:47:21,051]\u001b[0m Trial 206 finished with value: 0.0038107501516134344 and parameters: {'max_depth': 10, 'eta': 0.6550373006025662, 'gamma': 0.2626212328105651, 'subsample': 0.7295409489497163, 'colsample_bytree': 0.9989067719648539}. Best is trial 57 with value: 0.003554786480584704.\u001b[0m\n"
     ]
    },
    {
     "name": "stdout",
     "output_type": "stream",
     "text": [
      "MAPE: 0.0038107501516134344\n"
     ]
    },
    {
     "name": "stderr",
     "output_type": "stream",
     "text": [
      "\u001b[32m[I 2023-07-19 16:47:23,383]\u001b[0m Trial 207 finished with value: 0.003767803850264198 and parameters: {'max_depth': 10, 'eta': 0.6409964534732687, 'gamma': 0.28021135725329804, 'subsample': 0.7203604915457517, 'colsample_bytree': 0.9984477788269005}. Best is trial 57 with value: 0.003554786480584704.\u001b[0m\n"
     ]
    },
    {
     "name": "stdout",
     "output_type": "stream",
     "text": [
      "MAPE: 0.003767803850264198\n"
     ]
    },
    {
     "name": "stderr",
     "output_type": "stream",
     "text": [
      "\u001b[32m[I 2023-07-19 16:47:25,785]\u001b[0m Trial 208 finished with value: 0.0038678556389310555 and parameters: {'max_depth': 10, 'eta': 0.7129224406655812, 'gamma': 0.28113624540403315, 'subsample': 0.7251995309666073, 'colsample_bytree': 0.9986389484852761}. Best is trial 57 with value: 0.003554786480584704.\u001b[0m\n"
     ]
    },
    {
     "name": "stdout",
     "output_type": "stream",
     "text": [
      "MAPE: 0.0038678556389310555\n"
     ]
    },
    {
     "name": "stderr",
     "output_type": "stream",
     "text": [
      "\u001b[32m[I 2023-07-19 16:47:28,190]\u001b[0m Trial 209 finished with value: 0.00396395242913912 and parameters: {'max_depth': 10, 'eta': 0.7602656268896958, 'gamma': 0.26329086642809396, 'subsample': 0.6982846475637198, 'colsample_bytree': 0.9856074768709319}. Best is trial 57 with value: 0.003554786480584704.\u001b[0m\n"
     ]
    },
    {
     "name": "stdout",
     "output_type": "stream",
     "text": [
      "MAPE: 0.00396395242913912\n"
     ]
    },
    {
     "name": "stderr",
     "output_type": "stream",
     "text": [
      "\u001b[32m[I 2023-07-19 16:47:30,492]\u001b[0m Trial 210 finished with value: 0.003743162815325356 and parameters: {'max_depth': 10, 'eta': 0.6355606027605578, 'gamma': 0.3069289867839544, 'subsample': 0.7200894153902951, 'colsample_bytree': 0.9828944152807366}. Best is trial 57 with value: 0.003554786480584704.\u001b[0m\n"
     ]
    },
    {
     "name": "stdout",
     "output_type": "stream",
     "text": [
      "MAPE: 0.003743162815325356\n"
     ]
    },
    {
     "name": "stderr",
     "output_type": "stream",
     "text": [
      "\u001b[32m[I 2023-07-19 16:47:32,853]\u001b[0m Trial 211 finished with value: 0.0036473825468380347 and parameters: {'max_depth': 10, 'eta': 0.6311689056442379, 'gamma': 0.23823664595807534, 'subsample': 0.7189693001193423, 'colsample_bytree': 0.9832457680295569}. Best is trial 57 with value: 0.003554786480584704.\u001b[0m\n"
     ]
    },
    {
     "name": "stdout",
     "output_type": "stream",
     "text": [
      "MAPE: 0.0036473825468380347\n"
     ]
    },
    {
     "name": "stderr",
     "output_type": "stream",
     "text": [
      "\u001b[32m[I 2023-07-19 16:47:35,157]\u001b[0m Trial 212 finished with value: 0.0041528743905846505 and parameters: {'max_depth': 10, 'eta': 0.6458628691052775, 'gamma': 0.3031253014400184, 'subsample': 0.7040474177063907, 'colsample_bytree': 0.9994584921239721}. Best is trial 57 with value: 0.003554786480584704.\u001b[0m\n"
     ]
    },
    {
     "name": "stdout",
     "output_type": "stream",
     "text": [
      "MAPE: 0.0041528743905846505\n"
     ]
    },
    {
     "name": "stderr",
     "output_type": "stream",
     "text": [
      "\u001b[32m[I 2023-07-19 16:47:37,448]\u001b[0m Trial 213 finished with value: 0.003630235706506358 and parameters: {'max_depth': 10, 'eta': 0.6287977119436501, 'gamma': 0.2720475952934211, 'subsample': 0.7247998165661668, 'colsample_bytree': 0.9819158413227226}. Best is trial 57 with value: 0.003554786480584704.\u001b[0m\n"
     ]
    },
    {
     "name": "stdout",
     "output_type": "stream",
     "text": [
      "MAPE: 0.003630235706506358\n"
     ]
    },
    {
     "name": "stderr",
     "output_type": "stream",
     "text": [
      "\u001b[32m[I 2023-07-19 16:47:39,851]\u001b[0m Trial 214 finished with value: 0.003970883542524355 and parameters: {'max_depth': 10, 'eta': 0.6397329134261853, 'gamma': 0.32804745338264213, 'subsample': 0.7226056342585979, 'colsample_bytree': 0.9801856208816304}. Best is trial 57 with value: 0.003554786480584704.\u001b[0m\n"
     ]
    },
    {
     "name": "stdout",
     "output_type": "stream",
     "text": [
      "MAPE: 0.003970883542524355\n"
     ]
    },
    {
     "name": "stderr",
     "output_type": "stream",
     "text": [
      "\u001b[32m[I 2023-07-19 16:47:42,419]\u001b[0m Trial 215 finished with value: 0.0039702295520318304 and parameters: {'max_depth': 10, 'eta': 0.6994161206571137, 'gamma': 0.2909982196407831, 'subsample': 0.741873370611727, 'colsample_bytree': 0.9817453441204101}. Best is trial 57 with value: 0.003554786480584704.\u001b[0m\n"
     ]
    },
    {
     "name": "stdout",
     "output_type": "stream",
     "text": [
      "MAPE: 0.0039702295520318304\n"
     ]
    },
    {
     "name": "stderr",
     "output_type": "stream",
     "text": [
      "\u001b[32m[I 2023-07-19 16:47:45,025]\u001b[0m Trial 216 finished with value: 0.003971348914424344 and parameters: {'max_depth': 10, 'eta': 0.7719793792928975, 'gamma': 0.2481748252261793, 'subsample': 0.689251128996464, 'colsample_bytree': 0.9841593184716502}. Best is trial 57 with value: 0.003554786480584704.\u001b[0m\n"
     ]
    },
    {
     "name": "stdout",
     "output_type": "stream",
     "text": [
      "MAPE: 0.003971348914424344\n"
     ]
    },
    {
     "name": "stderr",
     "output_type": "stream",
     "text": [
      "\u001b[32m[I 2023-07-19 16:47:47,365]\u001b[0m Trial 217 finished with value: 0.00382504806570708 and parameters: {'max_depth': 10, 'eta': 0.617022645726386, 'gamma': 0.26650414208503853, 'subsample': 0.7163415859409098, 'colsample_bytree': 0.9985663436410543}. Best is trial 57 with value: 0.003554786480584704.\u001b[0m\n"
     ]
    },
    {
     "name": "stdout",
     "output_type": "stream",
     "text": [
      "MAPE: 0.00382504806570708\n"
     ]
    },
    {
     "name": "stderr",
     "output_type": "stream",
     "text": [
      "\u001b[32m[I 2023-07-19 16:47:49,752]\u001b[0m Trial 218 finished with value: 0.003929915576736769 and parameters: {'max_depth': 10, 'eta': 0.6776597650514258, 'gamma': 0.23240132924869314, 'subsample': 0.7343884619018813, 'colsample_bytree': 0.9981174000051982}. Best is trial 57 with value: 0.003554786480584704.\u001b[0m\n"
     ]
    },
    {
     "name": "stdout",
     "output_type": "stream",
     "text": [
      "MAPE: 0.003929915576736769\n"
     ]
    },
    {
     "name": "stderr",
     "output_type": "stream",
     "text": [
      "\u001b[32m[I 2023-07-19 16:47:50,887]\u001b[0m Trial 219 finished with value: 0.009131784222157536 and parameters: {'max_depth': 5, 'eta': 0.7365994614501593, 'gamma': 0.34227453824377246, 'subsample': 0.6773075730699945, 'colsample_bytree': 0.9743761612141698}. Best is trial 57 with value: 0.003554786480584704.\u001b[0m\n"
     ]
    },
    {
     "name": "stdout",
     "output_type": "stream",
     "text": [
      "MAPE: 0.009131784222157536\n"
     ]
    },
    {
     "name": "stderr",
     "output_type": "stream",
     "text": [
      "\u001b[32m[I 2023-07-19 16:47:53,237]\u001b[0m Trial 220 finished with value: 0.003910613885594329 and parameters: {'max_depth': 10, 'eta': 0.633302561009888, 'gamma': 0.30250796349623404, 'subsample': 0.74984221619486, 'colsample_bytree': 0.9990383029037302}. Best is trial 57 with value: 0.003554786480584704.\u001b[0m\n"
     ]
    },
    {
     "name": "stdout",
     "output_type": "stream",
     "text": [
      "MAPE: 0.003910613885594329\n"
     ]
    },
    {
     "name": "stderr",
     "output_type": "stream",
     "text": [
      "\u001b[32m[I 2023-07-19 16:47:55,528]\u001b[0m Trial 221 finished with value: 0.0037276568744308335 and parameters: {'max_depth': 10, 'eta': 0.6218281996314486, 'gamma': 0.2660702636626075, 'subsample': 0.7186377305655145, 'colsample_bytree': 0.9770457437826392}. Best is trial 57 with value: 0.003554786480584704.\u001b[0m\n"
     ]
    },
    {
     "name": "stdout",
     "output_type": "stream",
     "text": [
      "MAPE: 0.0037276568744308335\n"
     ]
    },
    {
     "name": "stderr",
     "output_type": "stream",
     "text": [
      "\u001b[32m[I 2023-07-19 16:47:57,818]\u001b[0m Trial 222 finished with value: 0.0038320421301252755 and parameters: {'max_depth': 10, 'eta': 0.6241834849449698, 'gamma': 0.2732827414402278, 'subsample': 0.7192295261673377, 'colsample_bytree': 0.9754050928004724}. Best is trial 57 with value: 0.003554786480584704.\u001b[0m\n"
     ]
    },
    {
     "name": "stdout",
     "output_type": "stream",
     "text": [
      "MAPE: 0.0038320421301252755\n"
     ]
    },
    {
     "name": "stderr",
     "output_type": "stream",
     "text": [
      "\u001b[32m[I 2023-07-19 16:47:58,343]\u001b[0m Trial 223 finished with value: 0.015313923938976792 and parameters: {'max_depth': 2, 'eta': 0.6862243878915404, 'gamma': 0.23478139118135075, 'subsample': 0.6994599161637121, 'colsample_bytree': 0.9774765891721742}. Best is trial 57 with value: 0.003554786480584704.\u001b[0m\n"
     ]
    },
    {
     "name": "stdout",
     "output_type": "stream",
     "text": [
      "MAPE: 0.015313923938976792\n"
     ]
    },
    {
     "name": "stderr",
     "output_type": "stream",
     "text": [
      "\u001b[32m[I 2023-07-19 16:48:00,639]\u001b[0m Trial 224 finished with value: 0.003652561534513535 and parameters: {'max_depth': 10, 'eta': 0.6023236194849937, 'gamma': 0.25815502468476925, 'subsample': 0.7232531704258215, 'colsample_bytree': 0.9996167514694382}. Best is trial 57 with value: 0.003554786480584704.\u001b[0m\n"
     ]
    },
    {
     "name": "stdout",
     "output_type": "stream",
     "text": [
      "MAPE: 0.003652561534513535\n"
     ]
    },
    {
     "name": "stderr",
     "output_type": "stream",
     "text": [
      "\u001b[32m[I 2023-07-19 16:48:02,277]\u001b[0m Trial 225 finished with value: 0.06193364108448688 and parameters: {'max_depth': 10, 'eta': 0.24225007344048963, 'gamma': 0.24038487844144532, 'subsample': 0.6825423237864352, 'colsample_bytree': 0.9723445253256164}. Best is trial 57 with value: 0.003554786480584704.\u001b[0m\n"
     ]
    },
    {
     "name": "stdout",
     "output_type": "stream",
     "text": [
      "MAPE: 0.06193364108448688\n"
     ]
    },
    {
     "name": "stderr",
     "output_type": "stream",
     "text": [
      "\u001b[32m[I 2023-07-19 16:48:04,553]\u001b[0m Trial 226 finished with value: 0.0038515381972180416 and parameters: {'max_depth': 10, 'eta': 0.6011781726861869, 'gamma': 0.32021380738243127, 'subsample': 0.7565910053525815, 'colsample_bytree': 0.9827741858930558}. Best is trial 57 with value: 0.003554786480584704.\u001b[0m\n"
     ]
    },
    {
     "name": "stdout",
     "output_type": "stream",
     "text": [
      "MAPE: 0.0038515381972180416\n"
     ]
    },
    {
     "name": "stderr",
     "output_type": "stream",
     "text": [
      "\u001b[32m[I 2023-07-19 16:48:06,972]\u001b[0m Trial 227 finished with value: 0.0038970047033546878 and parameters: {'max_depth': 10, 'eta': 0.7871246272137135, 'gamma': 0.22083232389896293, 'subsample': 0.7211725934174795, 'colsample_bytree': 0.9695077551206925}. Best is trial 57 with value: 0.003554786480584704.\u001b[0m\n"
     ]
    },
    {
     "name": "stdout",
     "output_type": "stream",
     "text": [
      "MAPE: 0.0038970047033546878\n"
     ]
    },
    {
     "name": "stderr",
     "output_type": "stream",
     "text": [
      "\u001b[32m[I 2023-07-19 16:48:07,884]\u001b[0m Trial 228 finished with value: 0.00916283133827559 and parameters: {'max_depth': 4, 'eta': 0.59873644740258, 'gamma': 0.2819555829384577, 'subsample': 0.7068574451818114, 'colsample_bytree': 0.9847253304962494}. Best is trial 57 with value: 0.003554786480584704.\u001b[0m\n"
     ]
    },
    {
     "name": "stdout",
     "output_type": "stream",
     "text": [
      "MAPE: 0.00916283133827559\n"
     ]
    },
    {
     "name": "stderr",
     "output_type": "stream",
     "text": [
      "\u001b[32m[I 2023-07-19 16:48:10,043]\u001b[0m Trial 229 finished with value: 0.017825784393253854 and parameters: {'max_depth': 10, 'eta': 0.7282479117384951, 'gamma': 0.2453654462407041, 'subsample': 0.6584926053660136, 'colsample_bytree': 0.6231476371415273}. Best is trial 57 with value: 0.003554786480584704.\u001b[0m\n"
     ]
    },
    {
     "name": "stdout",
     "output_type": "stream",
     "text": [
      "MAPE: 0.017825784393253854\n"
     ]
    },
    {
     "name": "stderr",
     "output_type": "stream",
     "text": [
      "\u001b[32m[I 2023-07-19 16:48:12,554]\u001b[0m Trial 230 finished with value: 0.007209284217086374 and parameters: {'max_depth': 10, 'eta': 0.8589736264831168, 'gamma': 0.2713692408814249, 'subsample': 0.766328903284747, 'colsample_bytree': 0.9415684806330097}. Best is trial 57 with value: 0.003554786480584704.\u001b[0m\n"
     ]
    },
    {
     "name": "stdout",
     "output_type": "stream",
     "text": [
      "MAPE: 0.007209284217086374\n"
     ]
    },
    {
     "name": "stderr",
     "output_type": "stream",
     "text": [
      "\u001b[32m[I 2023-07-19 16:48:15,027]\u001b[0m Trial 231 finished with value: 0.014351485075901732 and parameters: {'max_depth': 10, 'eta': 0.6599587600429607, 'gamma': 0.2550316923739512, 'subsample': 0.7430448052239094, 'colsample_bytree': 0.793313824826689}. Best is trial 57 with value: 0.003554786480584704.\u001b[0m\n"
     ]
    },
    {
     "name": "stdout",
     "output_type": "stream",
     "text": [
      "MAPE: 0.014351485075901732\n"
     ]
    },
    {
     "name": "stderr",
     "output_type": "stream",
     "text": [
      "\u001b[32m[I 2023-07-19 16:48:17,366]\u001b[0m Trial 232 finished with value: 0.003939934110311833 and parameters: {'max_depth': 10, 'eta': 0.6156421376984318, 'gamma': 0.30607013607033284, 'subsample': 0.7214011572618809, 'colsample_bytree': 0.9987064514751007}. Best is trial 57 with value: 0.003554786480584704.\u001b[0m\n"
     ]
    },
    {
     "name": "stdout",
     "output_type": "stream",
     "text": [
      "MAPE: 0.003939934110311833\n"
     ]
    },
    {
     "name": "stderr",
     "output_type": "stream",
     "text": [
      "\u001b[32m[I 2023-07-19 16:48:19,640]\u001b[0m Trial 233 finished with value: 0.0037178226101821726 and parameters: {'max_depth': 10, 'eta': 0.577096988068559, 'gamma': 0.3649164636610089, 'subsample': 0.6909951337072333, 'colsample_bytree': 0.9986204880781253}. Best is trial 57 with value: 0.003554786480584704.\u001b[0m\n"
     ]
    },
    {
     "name": "stdout",
     "output_type": "stream",
     "text": [
      "MAPE: 0.0037178226101821726\n"
     ]
    },
    {
     "name": "stderr",
     "output_type": "stream",
     "text": [
      "\u001b[32m[I 2023-07-19 16:48:21,874]\u001b[0m Trial 234 finished with value: 0.003578105549404869 and parameters: {'max_depth': 10, 'eta': 0.5655546230340859, 'gamma': 0.386985956549996, 'subsample': 0.702218076948827, 'colsample_bytree': 0.9730794114138724}. Best is trial 57 with value: 0.003554786480584704.\u001b[0m\n"
     ]
    },
    {
     "name": "stdout",
     "output_type": "stream",
     "text": [
      "MAPE: 0.003578105549404869\n"
     ]
    },
    {
     "name": "stderr",
     "output_type": "stream",
     "text": [
      "\u001b[32m[I 2023-07-19 16:48:23,340]\u001b[0m Trial 235 finished with value: 0.02989398984059534 and parameters: {'max_depth': 10, 'eta': 0.5616844324063658, 'gamma': 0.3582219543119627, 'subsample': 0.6882884826306942, 'colsample_bytree': 0.3848885536999058}. Best is trial 57 with value: 0.003554786480584704.\u001b[0m\n"
     ]
    },
    {
     "name": "stdout",
     "output_type": "stream",
     "text": [
      "MAPE: 0.02989398984059534\n"
     ]
    },
    {
     "name": "stderr",
     "output_type": "stream",
     "text": [
      "\u001b[32m[I 2023-07-19 16:48:25,541]\u001b[0m Trial 236 finished with value: 0.0038355906877764775 and parameters: {'max_depth': 10, 'eta': 0.474867891139845, 'gamma': 0.38606804991522403, 'subsample': 0.7052130991910214, 'colsample_bytree': 0.9684277034706469}. Best is trial 57 with value: 0.003554786480584704.\u001b[0m\n"
     ]
    },
    {
     "name": "stdout",
     "output_type": "stream",
     "text": [
      "MAPE: 0.0038355906877764775\n"
     ]
    },
    {
     "name": "stderr",
     "output_type": "stream",
     "text": [
      "\u001b[32m[I 2023-07-19 16:48:27,996]\u001b[0m Trial 237 finished with value: 0.003674454350046564 and parameters: {'max_depth': 10, 'eta': 0.569733414899947, 'gamma': 0.41449440533121457, 'subsample': 0.6848717628655304, 'colsample_bytree': 0.971216212884998}. Best is trial 57 with value: 0.003554786480584704.\u001b[0m\n"
     ]
    },
    {
     "name": "stdout",
     "output_type": "stream",
     "text": [
      "MAPE: 0.003674454350046564\n"
     ]
    },
    {
     "name": "stderr",
     "output_type": "stream",
     "text": [
      "\u001b[32m[I 2023-07-19 16:48:30,689]\u001b[0m Trial 238 finished with value: 0.003639649979157775 and parameters: {'max_depth': 10, 'eta': 0.5651995500928921, 'gamma': 0.4049969066333642, 'subsample': 0.6655408781398685, 'colsample_bytree': 0.9659665737864755}. Best is trial 57 with value: 0.003554786480584704.\u001b[0m\n"
     ]
    },
    {
     "name": "stdout",
     "output_type": "stream",
     "text": [
      "MAPE: 0.003639649979157775\n"
     ]
    },
    {
     "name": "stderr",
     "output_type": "stream",
     "text": [
      "\u001b[32m[I 2023-07-19 16:48:33,139]\u001b[0m Trial 239 finished with value: 0.005623784803346558 and parameters: {'max_depth': 10, 'eta': 0.5838594171493969, 'gamma': 0.3650818822964886, 'subsample': 0.668427821783564, 'colsample_bytree': 0.9429619119158731}. Best is trial 57 with value: 0.003554786480584704.\u001b[0m\n"
     ]
    },
    {
     "name": "stdout",
     "output_type": "stream",
     "text": [
      "MAPE: 0.005623784803346558\n"
     ]
    },
    {
     "name": "stderr",
     "output_type": "stream",
     "text": [
      "\u001b[32m[I 2023-07-19 16:48:35,709]\u001b[0m Trial 240 finished with value: 0.015301157020396536 and parameters: {'max_depth': 10, 'eta': 0.7024696100260251, 'gamma': 0.3885960740021014, 'subsample': 0.6511265073851665, 'colsample_bytree': 0.8201033381128804}. Best is trial 57 with value: 0.003554786480584704.\u001b[0m\n"
     ]
    },
    {
     "name": "stdout",
     "output_type": "stream",
     "text": [
      "MAPE: 0.015301157020396536\n"
     ]
    },
    {
     "name": "stderr",
     "output_type": "stream",
     "text": [
      "\u001b[32m[I 2023-07-19 16:48:38,024]\u001b[0m Trial 241 finished with value: 0.003952665026345746 and parameters: {'max_depth': 10, 'eta': 0.5447841359449513, 'gamma': 0.32270419249192006, 'subsample': 0.6800347272106042, 'colsample_bytree': 0.9656741353389419}. Best is trial 57 with value: 0.003554786480584704.\u001b[0m\n"
     ]
    },
    {
     "name": "stdout",
     "output_type": "stream",
     "text": [
      "MAPE: 0.003952665026345746\n"
     ]
    },
    {
     "name": "stderr",
     "output_type": "stream",
     "text": [
      "\u001b[32m[I 2023-07-19 16:48:40,383]\u001b[0m Trial 242 finished with value: 0.0037070766958409718 and parameters: {'max_depth': 10, 'eta': 0.5911158047946656, 'gamma': 0.3468394950535836, 'subsample': 0.7008648569049098, 'colsample_bytree': 0.9681551972751025}. Best is trial 57 with value: 0.003554786480584704.\u001b[0m\n"
     ]
    },
    {
     "name": "stdout",
     "output_type": "stream",
     "text": [
      "MAPE: 0.0037070766958409718\n"
     ]
    },
    {
     "name": "stderr",
     "output_type": "stream",
     "text": [
      "\u001b[32m[I 2023-07-19 16:48:42,728]\u001b[0m Trial 243 finished with value: 0.0036853343491354226 and parameters: {'max_depth': 10, 'eta': 0.6034192503428888, 'gamma': 0.41727012973219807, 'subsample': 0.6984129735498396, 'colsample_bytree': 0.9836428180804074}. Best is trial 57 with value: 0.003554786480584704.\u001b[0m\n"
     ]
    },
    {
     "name": "stdout",
     "output_type": "stream",
     "text": [
      "MAPE: 0.0036853343491354226\n"
     ]
    },
    {
     "name": "stderr",
     "output_type": "stream",
     "text": [
      "\u001b[32m[I 2023-07-19 16:48:45,096]\u001b[0m Trial 244 finished with value: 0.003918885988397146 and parameters: {'max_depth': 10, 'eta': 0.6098353555376311, 'gamma': 0.43177342566605625, 'subsample': 0.697080852260964, 'colsample_bytree': 0.9836263408609488}. Best is trial 57 with value: 0.003554786480584704.\u001b[0m\n"
     ]
    },
    {
     "name": "stdout",
     "output_type": "stream",
     "text": [
      "MAPE: 0.003918885988397146\n"
     ]
    },
    {
     "name": "stderr",
     "output_type": "stream",
     "text": [
      "\u001b[32m[I 2023-07-19 16:48:46,645]\u001b[0m Trial 245 finished with value: 0.04495269900208893 and parameters: {'max_depth': 10, 'eta': 0.6727883983209506, 'gamma': 0.42213777580811707, 'subsample': 0.7102443053733931, 'colsample_bytree': 0.32980549859141395}. Best is trial 57 with value: 0.003554786480584704.\u001b[0m\n"
     ]
    },
    {
     "name": "stdout",
     "output_type": "stream",
     "text": [
      "MAPE: 0.04495269900208893\n"
     ]
    },
    {
     "name": "stderr",
     "output_type": "stream",
     "text": [
      "\u001b[32m[I 2023-07-19 16:48:49,104]\u001b[0m Trial 246 finished with value: 0.0036863850760762303 and parameters: {'max_depth': 10, 'eta': 0.5902356340500186, 'gamma': 0.48593105808216336, 'subsample': 0.7329315335409599, 'colsample_bytree': 0.9497365690230689}. Best is trial 57 with value: 0.003554786480584704.\u001b[0m\n"
     ]
    },
    {
     "name": "stdout",
     "output_type": "stream",
     "text": [
      "MAPE: 0.0036863850760762303\n"
     ]
    },
    {
     "name": "stderr",
     "output_type": "stream",
     "text": [
      "\u001b[32m[I 2023-07-19 16:48:51,504]\u001b[0m Trial 247 finished with value: 0.003698320597348278 and parameters: {'max_depth': 10, 'eta': 0.6155823531006768, 'gamma': 0.46499162595146687, 'subsample': 0.7327300405730881, 'colsample_bytree': 0.9845818934172702}. Best is trial 57 with value: 0.003554786480584704.\u001b[0m\n"
     ]
    },
    {
     "name": "stdout",
     "output_type": "stream",
     "text": [
      "MAPE: 0.003698320597348278\n"
     ]
    },
    {
     "name": "stderr",
     "output_type": "stream",
     "text": [
      "\u001b[32m[I 2023-07-19 16:48:53,986]\u001b[0m Trial 248 finished with value: 0.003585941474526579 and parameters: {'max_depth': 10, 'eta': 0.6431088924243283, 'gamma': 0.4646581412557652, 'subsample': 0.7360725266989341, 'colsample_bytree': 0.9999627344900944}. Best is trial 57 with value: 0.003554786480584704.\u001b[0m\n"
     ]
    },
    {
     "name": "stdout",
     "output_type": "stream",
     "text": [
      "MAPE: 0.003585941474526579\n"
     ]
    },
    {
     "name": "stderr",
     "output_type": "stream",
     "text": [
      "\u001b[32m[I 2023-07-19 16:48:56,373]\u001b[0m Trial 249 finished with value: 0.0038889183396391322 and parameters: {'max_depth': 10, 'eta': 0.7620860987235233, 'gamma': 0.4721354325619064, 'subsample': 0.7337383072824935, 'colsample_bytree': 0.9999225557979053}. Best is trial 57 with value: 0.003554786480584704.\u001b[0m\n"
     ]
    },
    {
     "name": "stdout",
     "output_type": "stream",
     "text": [
      "MAPE: 0.0038889183396391322\n"
     ]
    },
    {
     "name": "stderr",
     "output_type": "stream",
     "text": [
      "\u001b[32m[I 2023-07-19 16:48:58,322]\u001b[0m Trial 250 finished with value: 0.0239044347461109 and parameters: {'max_depth': 10, 'eta': 0.3111209505853189, 'gamma': 0.5302914802538929, 'subsample': 0.7487815013887977, 'colsample_bytree': 0.9496296546080469}. Best is trial 57 with value: 0.003554786480584704.\u001b[0m\n"
     ]
    },
    {
     "name": "stdout",
     "output_type": "stream",
     "text": [
      "MAPE: 0.0239044347461109\n"
     ]
    },
    {
     "name": "stderr",
     "output_type": "stream",
     "text": [
      "\u001b[32m[I 2023-07-19 16:49:00,787]\u001b[0m Trial 251 finished with value: 0.003983669455629104 and parameters: {'max_depth': 10, 'eta': 0.6379110307697056, 'gamma': 0.43928816236977386, 'subsample': 0.6907675289677762, 'colsample_bytree': 0.9837026716972025}. Best is trial 57 with value: 0.003554786480584704.\u001b[0m\n"
     ]
    },
    {
     "name": "stdout",
     "output_type": "stream",
     "text": [
      "MAPE: 0.003983669455629104\n"
     ]
    },
    {
     "name": "stderr",
     "output_type": "stream",
     "text": [
      "\u001b[32m[I 2023-07-19 16:49:03,171]\u001b[0m Trial 252 finished with value: 0.0036180906775476174 and parameters: {'max_depth': 10, 'eta': 0.5986785146640585, 'gamma': 0.40258915556332825, 'subsample': 0.7239059540135363, 'colsample_bytree': 0.9995298127863232}. Best is trial 57 with value: 0.003554786480584704.\u001b[0m\n"
     ]
    },
    {
     "name": "stdout",
     "output_type": "stream",
     "text": [
      "MAPE: 0.0036180906775476174\n"
     ]
    },
    {
     "name": "stderr",
     "output_type": "stream",
     "text": [
      "\u001b[32m[I 2023-07-19 16:49:05,593]\u001b[0m Trial 253 finished with value: 0.013879799973222265 and parameters: {'max_depth': 10, 'eta': 0.6897601619264246, 'gamma': 0.40198201176957066, 'subsample': 0.7313608044596667, 'colsample_bytree': 0.7339600012753689}. Best is trial 57 with value: 0.003554786480584704.\u001b[0m\n"
     ]
    },
    {
     "name": "stdout",
     "output_type": "stream",
     "text": [
      "MAPE: 0.013879799973222265\n"
     ]
    },
    {
     "name": "stderr",
     "output_type": "stream",
     "text": [
      "\u001b[32m[I 2023-07-19 16:49:07,930]\u001b[0m Trial 254 finished with value: 0.0056227414546553564 and parameters: {'max_depth': 10, 'eta': 0.5932191863414652, 'gamma': 0.4635598611699433, 'subsample': 0.7028551092223031, 'colsample_bytree': 0.843454120163122}. Best is trial 57 with value: 0.003554786480584704.\u001b[0m\n"
     ]
    },
    {
     "name": "stdout",
     "output_type": "stream",
     "text": [
      "MAPE: 0.0056227414546553564\n"
     ]
    },
    {
     "name": "stderr",
     "output_type": "stream",
     "text": [
      "\u001b[32m[I 2023-07-19 16:49:09,262]\u001b[0m Trial 255 finished with value: 0.005972035606210165 and parameters: {'max_depth': 6, 'eta': 0.5876022600175628, 'gamma': 0.39583518820460256, 'subsample': 0.6681547902710248, 'colsample_bytree': 0.9654032187140749}. Best is trial 57 with value: 0.003554786480584704.\u001b[0m\n"
     ]
    },
    {
     "name": "stdout",
     "output_type": "stream",
     "text": [
      "MAPE: 0.005972035606210165\n"
     ]
    },
    {
     "name": "stderr",
     "output_type": "stream",
     "text": [
      "\u001b[32m[I 2023-07-19 16:49:09,593]\u001b[0m Trial 256 finished with value: 0.03270605534894254 and parameters: {'max_depth': 1, 'eta': 0.7334482915498182, 'gamma': 0.3531564550081371, 'subsample': 0.75903655687468, 'colsample_bytree': 0.9479625145007651}. Best is trial 57 with value: 0.003554786480584704.\u001b[0m\n"
     ]
    },
    {
     "name": "stdout",
     "output_type": "stream",
     "text": [
      "MAPE: 0.03270605534894254\n"
     ]
    },
    {
     "name": "stderr",
     "output_type": "stream",
     "text": [
      "\u001b[32m[I 2023-07-19 16:49:11,061]\u001b[0m Trial 257 finished with value: 0.20589658432477512 and parameters: {'max_depth': 10, 'eta': 0.143167477042546, 'gamma': 0.5051895873340437, 'subsample': 0.7109400018452833, 'colsample_bytree': 0.5453023592606703}. Best is trial 57 with value: 0.003554786480584704.\u001b[0m\n"
     ]
    },
    {
     "name": "stdout",
     "output_type": "stream",
     "text": [
      "MAPE: 0.20589658432477512\n"
     ]
    },
    {
     "name": "stderr",
     "output_type": "stream",
     "text": [
      "\u001b[32m[I 2023-07-19 16:49:13,456]\u001b[0m Trial 258 finished with value: 0.00392006493407393 and parameters: {'max_depth': 10, 'eta': 0.6720034671217401, 'gamma': 0.4455175339067151, 'subsample': 0.7402423668823672, 'colsample_bytree': 0.9781976576267112}. Best is trial 57 with value: 0.003554786480584704.\u001b[0m\n"
     ]
    },
    {
     "name": "stdout",
     "output_type": "stream",
     "text": [
      "MAPE: 0.00392006493407393\n"
     ]
    },
    {
     "name": "stderr",
     "output_type": "stream",
     "text": [
      "\u001b[32m[I 2023-07-19 16:49:15,525]\u001b[0m Trial 259 finished with value: 0.011518199492074518 and parameters: {'max_depth': 9, 'eta': 0.5752990615152082, 'gamma': 0.4149195477510614, 'subsample': 0.6416344012450806, 'colsample_bytree': 0.767535518106484}. Best is trial 57 with value: 0.003554786480584704.\u001b[0m\n"
     ]
    },
    {
     "name": "stdout",
     "output_type": "stream",
     "text": [
      "MAPE: 0.011518199492074518\n"
     ]
    },
    {
     "name": "stderr",
     "output_type": "stream",
     "text": [
      "\u001b[32m[I 2023-07-19 16:49:17,948]\u001b[0m Trial 260 finished with value: 0.00401404911063916 and parameters: {'max_depth': 10, 'eta': 0.8175948438892761, 'gamma': 0.38455108287722656, 'subsample': 0.6924281330928533, 'colsample_bytree': 0.9999301195304413}. Best is trial 57 with value: 0.003554786480584704.\u001b[0m\n"
     ]
    },
    {
     "name": "stdout",
     "output_type": "stream",
     "text": [
      "MAPE: 0.00401404911063916\n"
     ]
    },
    {
     "name": "stderr",
     "output_type": "stream",
     "text": [
      "\u001b[32m[I 2023-07-19 16:49:20,193]\u001b[0m Trial 261 finished with value: 0.01532391754538472 and parameters: {'max_depth': 10, 'eta': 0.6249728717354189, 'gamma': 0.5222852834522421, 'subsample': 0.7268845510000927, 'colsample_bytree': 0.6231736997474353}. Best is trial 57 with value: 0.003554786480584704.\u001b[0m\n"
     ]
    },
    {
     "name": "stdout",
     "output_type": "stream",
     "text": [
      "MAPE: 0.01532391754538472\n"
     ]
    },
    {
     "name": "stderr",
     "output_type": "stream",
     "text": [
      "\u001b[32m[I 2023-07-19 16:49:22,501]\u001b[0m Trial 262 finished with value: 0.012805169164110657 and parameters: {'max_depth': 10, 'eta': 0.5417266552368661, 'gamma': 0.35441898905275515, 'subsample': 0.7704892685609539, 'colsample_bytree': 0.6735854850342642}. Best is trial 57 with value: 0.003554786480584704.\u001b[0m\n"
     ]
    },
    {
     "name": "stdout",
     "output_type": "stream",
     "text": [
      "MAPE: 0.012805169164110657\n"
     ]
    },
    {
     "name": "stderr",
     "output_type": "stream",
     "text": [
      "\u001b[32m[I 2023-07-19 16:49:24,886]\u001b[0m Trial 263 finished with value: 0.0039865901596938145 and parameters: {'max_depth': 10, 'eta': 0.7082805161051102, 'gamma': 0.46593150025667796, 'subsample': 0.6801184383101496, 'colsample_bytree': 0.9668294537802937}. Best is trial 57 with value: 0.003554786480584704.\u001b[0m\n"
     ]
    },
    {
     "name": "stdout",
     "output_type": "stream",
     "text": [
      "MAPE: 0.0039865901596938145\n"
     ]
    },
    {
     "name": "stderr",
     "output_type": "stream",
     "text": [
      "\u001b[32m[I 2023-07-19 16:49:27,233]\u001b[0m Trial 264 finished with value: 0.005453586169153218 and parameters: {'max_depth': 10, 'eta': 0.6048046178676348, 'gamma': 0.40961536287567213, 'subsample': 0.7070249830448004, 'colsample_bytree': 0.938715304593424}. Best is trial 57 with value: 0.003554786480584704.\u001b[0m\n"
     ]
    },
    {
     "name": "stdout",
     "output_type": "stream",
     "text": [
      "MAPE: 0.005453586169153218\n"
     ]
    },
    {
     "name": "stderr",
     "output_type": "stream",
     "text": [
      "\u001b[32m[I 2023-07-19 16:49:28,289]\u001b[0m Trial 265 finished with value: 0.08245922382274433 and parameters: {'max_depth': 10, 'eta': 0.6681670316753139, 'gamma': 0.3414311278403367, 'subsample': 0.7296849606736477, 'colsample_bytree': 0.11093431376899021}. Best is trial 57 with value: 0.003554786480584704.\u001b[0m\n"
     ]
    },
    {
     "name": "stdout",
     "output_type": "stream",
     "text": [
      "MAPE: 0.08245922382274433\n"
     ]
    },
    {
     "name": "stderr",
     "output_type": "stream",
     "text": [
      "\u001b[32m[I 2023-07-19 16:49:30,367]\u001b[0m Trial 266 finished with value: 0.004086955592959967 and parameters: {'max_depth': 9, 'eta': 0.555862489912046, 'gamma': 0.48183398514552106, 'subsample': 0.7534108813211601, 'colsample_bytree': 0.9825381305907738}. Best is trial 57 with value: 0.003554786480584704.\u001b[0m\n"
     ]
    },
    {
     "name": "stdout",
     "output_type": "stream",
     "text": [
      "MAPE: 0.004086955592959967\n"
     ]
    },
    {
     "name": "stderr",
     "output_type": "stream",
     "text": [
      "\u001b[32m[I 2023-07-19 16:49:32,125]\u001b[0m Trial 267 finished with value: 0.028189792221512154 and parameters: {'max_depth': 10, 'eta': 0.7607993493397521, 'gamma': 0.37248145599301274, 'subsample': 0.7095873215927885, 'colsample_bytree': 0.48379677723365855}. Best is trial 57 with value: 0.003554786480584704.\u001b[0m\n"
     ]
    },
    {
     "name": "stdout",
     "output_type": "stream",
     "text": [
      "MAPE: 0.028189792221512154\n"
     ]
    },
    {
     "name": "stderr",
     "output_type": "stream",
     "text": [
      "\u001b[32m[I 2023-07-19 16:49:33,455]\u001b[0m Trial 268 finished with value: 0.4271826646324796 and parameters: {'max_depth': 10, 'eta': 0.08152810104357436, 'gamma': 0.5638402520792481, 'subsample': 0.6552842574617659, 'colsample_bytree': 0.9587174217074793}. Best is trial 57 with value: 0.003554786480584704.\u001b[0m\n"
     ]
    },
    {
     "name": "stdout",
     "output_type": "stream",
     "text": [
      "MAPE: 0.4271826646324796\n"
     ]
    },
    {
     "name": "stderr",
     "output_type": "stream",
     "text": [
      "\u001b[32m[I 2023-07-19 16:49:35,836]\u001b[0m Trial 269 finished with value: 0.005907469599251607 and parameters: {'max_depth': 10, 'eta': 0.622223542518685, 'gamma': 0.4584177095261432, 'subsample': 0.6853926220805695, 'colsample_bytree': 0.9277670623522156}. Best is trial 57 with value: 0.003554786480584704.\u001b[0m\n"
     ]
    },
    {
     "name": "stdout",
     "output_type": "stream",
     "text": [
      "MAPE: 0.005907469599251607\n"
     ]
    },
    {
     "name": "stderr",
     "output_type": "stream",
     "text": [
      "\u001b[32m[I 2023-07-19 16:49:38,075]\u001b[0m Trial 270 finished with value: 0.0036547567740064213 and parameters: {'max_depth': 10, 'eta': 0.5279841385521312, 'gamma': 0.4265200464336518, 'subsample': 0.7389795372623407, 'colsample_bytree': 0.9854537761927966}. Best is trial 57 with value: 0.003554786480584704.\u001b[0m\n"
     ]
    },
    {
     "name": "stdout",
     "output_type": "stream",
     "text": [
      "MAPE: 0.0036547567740064213\n"
     ]
    },
    {
     "name": "stderr",
     "output_type": "stream",
     "text": [
      "\u001b[32m[I 2023-07-19 16:49:39,705]\u001b[0m Trial 271 finished with value: 0.004835743355367585 and parameters: {'max_depth': 7, 'eta': 0.5258071816903567, 'gamma': 0.4279759803705709, 'subsample': 0.7430380928302456, 'colsample_bytree': 0.9998832950757419}. Best is trial 57 with value: 0.003554786480584704.\u001b[0m\n"
     ]
    },
    {
     "name": "stdout",
     "output_type": "stream",
     "text": [
      "MAPE: 0.004835743355367585\n"
     ]
    },
    {
     "name": "stderr",
     "output_type": "stream",
     "text": [
      "\u001b[32m[I 2023-07-19 16:49:42,122]\u001b[0m Trial 272 finished with value: 0.0036879513689177983 and parameters: {'max_depth': 10, 'eta': 0.5611652547443005, 'gamma': 0.5174847961033581, 'subsample': 0.7623021932759794, 'colsample_bytree': 0.9680634690871458}. Best is trial 57 with value: 0.003554786480584704.\u001b[0m\n"
     ]
    },
    {
     "name": "stdout",
     "output_type": "stream",
     "text": [
      "MAPE: 0.0036879513689177983\n"
     ]
    },
    {
     "name": "stderr",
     "output_type": "stream",
     "text": [
      "\u001b[32m[I 2023-07-19 16:49:44,351]\u001b[0m Trial 273 finished with value: 0.003721283158460193 and parameters: {'max_depth': 10, 'eta': 0.5197334485830092, 'gamma': 0.5532082269633523, 'subsample': 0.7735107756777362, 'colsample_bytree': 0.9507966930252832}. Best is trial 57 with value: 0.003554786480584704.\u001b[0m\n"
     ]
    },
    {
     "name": "stdout",
     "output_type": "stream",
     "text": [
      "MAPE: 0.003721283158460193\n"
     ]
    },
    {
     "name": "stderr",
     "output_type": "stream",
     "text": [
      "\u001b[32m[I 2023-07-19 16:49:46,553]\u001b[0m Trial 274 finished with value: 0.003791386319024227 and parameters: {'max_depth': 10, 'eta': 0.4950472409891997, 'gamma': 0.6321120691653704, 'subsample': 0.7576322730677983, 'colsample_bytree': 0.9537384371893532}. Best is trial 57 with value: 0.003554786480584704.\u001b[0m\n"
     ]
    },
    {
     "name": "stdout",
     "output_type": "stream",
     "text": [
      "MAPE: 0.003791386319024227\n"
     ]
    },
    {
     "name": "stderr",
     "output_type": "stream",
     "text": [
      "\u001b[32m[I 2023-07-19 16:49:48,874]\u001b[0m Trial 275 finished with value: 0.005472070453300863 and parameters: {'max_depth': 10, 'eta': 0.5328826108431541, 'gamma': 0.49870664045534213, 'subsample': 0.7760156611093392, 'colsample_bytree': 0.9364594245634432}. Best is trial 57 with value: 0.003554786480584704.\u001b[0m\n"
     ]
    },
    {
     "name": "stdout",
     "output_type": "stream",
     "text": [
      "MAPE: 0.005472070453300863\n"
     ]
    },
    {
     "name": "stderr",
     "output_type": "stream",
     "text": [
      "\u001b[32m[I 2023-07-19 16:49:51,238]\u001b[0m Trial 276 finished with value: 0.005679651171727587 and parameters: {'max_depth': 10, 'eta': 0.5851268192131408, 'gamma': 0.5410824261533359, 'subsample': 0.766439879382112, 'colsample_bytree': 0.9164109061471518}. Best is trial 57 with value: 0.003554786480584704.\u001b[0m\n"
     ]
    },
    {
     "name": "stdout",
     "output_type": "stream",
     "text": [
      "MAPE: 0.005679651171727587\n"
     ]
    },
    {
     "name": "stderr",
     "output_type": "stream",
     "text": [
      "\u001b[32m[I 2023-07-19 16:49:52,874]\u001b[0m Trial 277 finished with value: 0.06732145515426716 and parameters: {'max_depth': 9, 'eta': 0.23620889508097148, 'gamma': 0.5447245820180993, 'subsample': 0.7423140361216667, 'colsample_bytree': 0.9667335986556835}. Best is trial 57 with value: 0.003554786480584704.\u001b[0m\n"
     ]
    },
    {
     "name": "stdout",
     "output_type": "stream",
     "text": [
      "MAPE: 0.06732145515426716\n"
     ]
    },
    {
     "name": "stderr",
     "output_type": "stream",
     "text": [
      "\u001b[32m[I 2023-07-19 16:49:54,879]\u001b[0m Trial 278 finished with value: 0.011287510900613851 and parameters: {'max_depth': 10, 'eta': 0.3614843761788929, 'gamma': 0.5907369665576824, 'subsample': 0.731781018989785, 'colsample_bytree': 0.9482680063767105}. Best is trial 57 with value: 0.003554786480584704.\u001b[0m\n"
     ]
    },
    {
     "name": "stdout",
     "output_type": "stream",
     "text": [
      "MAPE: 0.011287510900613851\n"
     ]
    },
    {
     "name": "stderr",
     "output_type": "stream",
     "text": [
      "\u001b[32m[I 2023-07-19 16:49:56,788]\u001b[0m Trial 279 finished with value: 0.09624013257982642 and parameters: {'max_depth': 10, 'eta': 0.20752426477779815, 'gamma': 0.4836829055059016, 'subsample': 0.782998833946832, 'colsample_bytree': 0.8024574790126203}. Best is trial 57 with value: 0.003554786480584704.\u001b[0m\n"
     ]
    },
    {
     "name": "stdout",
     "output_type": "stream",
     "text": [
      "MAPE: 0.09624013257982642\n"
     ]
    },
    {
     "name": "stderr",
     "output_type": "stream",
     "text": [
      "\u001b[32m[I 2023-07-19 16:49:59,131]\u001b[0m Trial 280 finished with value: 0.0037485487529952716 and parameters: {'max_depth': 10, 'eta': 0.5151713427768051, 'gamma': 0.4399654728571563, 'subsample': 0.7572947826503558, 'colsample_bytree': 0.9831425013693085}. Best is trial 57 with value: 0.003554786480584704.\u001b[0m\n"
     ]
    },
    {
     "name": "stdout",
     "output_type": "stream",
     "text": [
      "MAPE: 0.0037485487529952716\n"
     ]
    },
    {
     "name": "stderr",
     "output_type": "stream",
     "text": [
      "\u001b[32m[I 2023-07-19 16:50:01,352]\u001b[0m Trial 281 finished with value: 0.003982901451081812 and parameters: {'max_depth': 10, 'eta': 0.4648038914505588, 'gamma': 0.3886245318334558, 'subsample': 0.7179313720671359, 'colsample_bytree': 0.9682019711545293}. Best is trial 57 with value: 0.003554786480584704.\u001b[0m\n"
     ]
    },
    {
     "name": "stdout",
     "output_type": "stream",
     "text": [
      "MAPE: 0.003982901451081812\n"
     ]
    },
    {
     "name": "stderr",
     "output_type": "stream",
     "text": [
      "\u001b[32m[I 2023-07-19 16:50:03,814]\u001b[0m Trial 282 finished with value: 0.013738969143422364 and parameters: {'max_depth': 10, 'eta': 0.6968043242034209, 'gamma': 0.33256829950564915, 'subsample': 0.6272612425501923, 'colsample_bytree': 0.7455495775165304}. Best is trial 57 with value: 0.003554786480584704.\u001b[0m\n"
     ]
    },
    {
     "name": "stdout",
     "output_type": "stream",
     "text": [
      "MAPE: 0.013738969143422364\n"
     ]
    },
    {
     "name": "stderr",
     "output_type": "stream",
     "text": [
      "\u001b[32m[I 2023-07-19 16:50:06,222]\u001b[0m Trial 283 finished with value: 0.005640099988280645 and parameters: {'max_depth': 10, 'eta': 0.5737438100858335, 'gamma': 0.49729624187923094, 'subsample': 0.6932420746521144, 'colsample_bytree': 0.8861640846422029}. Best is trial 57 with value: 0.003554786480584704.\u001b[0m\n"
     ]
    },
    {
     "name": "stdout",
     "output_type": "stream",
     "text": [
      "MAPE: 0.005640099988280645\n"
     ]
    },
    {
     "name": "stderr",
     "output_type": "stream",
     "text": [
      "\u001b[32m[I 2023-07-19 16:50:08,757]\u001b[0m Trial 284 finished with value: 0.004095489716741165 and parameters: {'max_depth': 10, 'eta': 0.9241672057356387, 'gamma': 0.41405747239319707, 'subsample': 0.6708626106589336, 'colsample_bytree': 0.9991014679957303}. Best is trial 57 with value: 0.003554786480584704.\u001b[0m\n"
     ]
    },
    {
     "name": "stdout",
     "output_type": "stream",
     "text": [
      "MAPE: 0.004095489716741165\n"
     ]
    },
    {
     "name": "stderr",
     "output_type": "stream",
     "text": [
      "\u001b[32m[I 2023-07-19 16:50:10,278]\u001b[0m Trial 285 finished with value: 0.8077977823734502 and parameters: {'max_depth': 10, 'eta': 0.02105826471591557, 'gamma': 0.5834255095960101, 'subsample': 0.795115147971032, 'colsample_bytree': 0.7141967481427889}. Best is trial 57 with value: 0.003554786480584704.\u001b[0m\n"
     ]
    },
    {
     "name": "stdout",
     "output_type": "stream",
     "text": [
      "MAPE: 0.8077977823734502\n"
     ]
    },
    {
     "name": "stderr",
     "output_type": "stream",
     "text": [
      "\u001b[32m[I 2023-07-19 16:50:11,910]\u001b[0m Trial 286 finished with value: 0.1582977501541922 and parameters: {'max_depth': 10, 'eta': 0.16744316337033843, 'gamma': 0.6725961500283393, 'subsample': 0.7386576339529725, 'colsample_bytree': 0.7784215300617501}. Best is trial 57 with value: 0.003554786480584704.\u001b[0m\n"
     ]
    },
    {
     "name": "stdout",
     "output_type": "stream",
     "text": [
      "MAPE: 0.1582977501541922\n"
     ]
    },
    {
     "name": "stderr",
     "output_type": "stream",
     "text": [
      "\u001b[32m[I 2023-07-19 16:50:14,305]\u001b[0m Trial 287 finished with value: 0.003958044978088255 and parameters: {'max_depth': 10, 'eta': 0.8094160454767813, 'gamma': 0.3006385217673942, 'subsample': 0.7134082191494518, 'colsample_bytree': 0.9518294726084316}. Best is trial 57 with value: 0.003554786480584704.\u001b[0m\n"
     ]
    },
    {
     "name": "stdout",
     "output_type": "stream",
     "text": [
      "MAPE: 0.003958044978088255\n"
     ]
    },
    {
     "name": "stderr",
     "output_type": "stream",
     "text": [
      "\u001b[32m[I 2023-07-19 16:50:16,424]\u001b[0m Trial 288 finished with value: 0.004870913820511179 and parameters: {'max_depth': 10, 'eta': 0.42991125763066407, 'gamma': 0.3691400028176358, 'subsample': 0.7692077994402697, 'colsample_bytree': 0.9794092307999623}. Best is trial 57 with value: 0.003554786480584704.\u001b[0m\n"
     ]
    },
    {
     "name": "stdout",
     "output_type": "stream",
     "text": [
      "MAPE: 0.004870913820511179\n"
     ]
    },
    {
     "name": "stderr",
     "output_type": "stream",
     "text": [
      "\u001b[32m[I 2023-07-19 16:50:18,163]\u001b[0m Trial 289 finished with value: 0.03176039112513415 and parameters: {'max_depth': 10, 'eta': 0.2908991744735939, 'gamma': 0.4394374289034883, 'subsample': 0.6887783898599634, 'colsample_bytree': 0.9996485966255214}. Best is trial 57 with value: 0.003554786480584704.\u001b[0m\n"
     ]
    },
    {
     "name": "stdout",
     "output_type": "stream",
     "text": [
      "MAPE: 0.03176039112513415\n"
     ]
    },
    {
     "name": "stderr",
     "output_type": "stream",
     "text": [
      "\u001b[32m[I 2023-07-19 16:50:20,296]\u001b[0m Trial 290 finished with value: 0.006593034659076362 and parameters: {'max_depth': 9, 'eta': 0.6785751134067497, 'gamma': 0.32842787602286694, 'subsample': 0.7456023903059865, 'colsample_bytree': 0.9290677472144027}. Best is trial 57 with value: 0.003554786480584704.\u001b[0m\n"
     ]
    },
    {
     "name": "stdout",
     "output_type": "stream",
     "text": [
      "MAPE: 0.006593034659076362\n"
     ]
    },
    {
     "name": "stderr",
     "output_type": "stream",
     "text": [
      "\u001b[32m[I 2023-07-19 16:50:21,309]\u001b[0m Trial 291 finished with value: 0.08285460207230028 and parameters: {'max_depth': 10, 'eta': 0.5597208213164694, 'gamma': 0.5058263612383352, 'subsample': 0.7228683739797659, 'colsample_bytree': 0.15580953497364375}. Best is trial 57 with value: 0.003554786480584704.\u001b[0m\n"
     ]
    },
    {
     "name": "stdout",
     "output_type": "stream",
     "text": [
      "MAPE: 0.08285460207230028\n"
     ]
    },
    {
     "name": "stderr",
     "output_type": "stream",
     "text": [
      "\u001b[32m[I 2023-07-19 16:50:22,835]\u001b[0m Trial 292 finished with value: 0.026631302956774305 and parameters: {'max_depth': 10, 'eta': 0.4962854040891117, 'gamma': 0.392238952380132, 'subsample': 0.7009190961677685, 'colsample_bytree': 0.4289010119896135}. Best is trial 57 with value: 0.003554786480584704.\u001b[0m\n"
     ]
    },
    {
     "name": "stdout",
     "output_type": "stream",
     "text": [
      "MAPE: 0.026631302956774305\n"
     ]
    },
    {
     "name": "stderr",
     "output_type": "stream",
     "text": [
      "\u001b[32m[I 2023-07-19 16:50:24,938]\u001b[0m Trial 293 finished with value: 0.013222750977690387 and parameters: {'max_depth': 10, 'eta': 0.5972156589133212, 'gamma': 0.46326134734505053, 'subsample': 0.6666378185950376, 'colsample_bytree': 0.5832350551603664}. Best is trial 57 with value: 0.003554786480584704.\u001b[0m\n"
     ]
    },
    {
     "name": "stdout",
     "output_type": "stream",
     "text": [
      "MAPE: 0.013222750977690387\n"
     ]
    },
    {
     "name": "stderr",
     "output_type": "stream",
     "text": [
      "\u001b[32m[I 2023-07-19 16:50:27,397]\u001b[0m Trial 294 finished with value: 0.00399394670773014 and parameters: {'max_depth': 10, 'eta': 0.7453298196198923, 'gamma': 0.35636098251064763, 'subsample': 0.7330365133187797, 'colsample_bytree': 0.9687136689455959}. Best is trial 57 with value: 0.003554786480584704.\u001b[0m\n"
     ]
    },
    {
     "name": "stdout",
     "output_type": "stream",
     "text": [
      "MAPE: 0.00399394670773014\n"
     ]
    },
    {
     "name": "stderr",
     "output_type": "stream",
     "text": [
      "\u001b[32m[I 2023-07-19 16:50:30,017]\u001b[0m Trial 295 finished with value: 0.003741284543214283 and parameters: {'max_depth': 10, 'eta': 0.6495113735817094, 'gamma': 0.4155859594098535, 'subsample': 0.8056179834934846, 'colsample_bytree': 0.9842696249995128}. Best is trial 57 with value: 0.003554786480584704.\u001b[0m\n"
     ]
    },
    {
     "name": "stdout",
     "output_type": "stream",
     "text": [
      "MAPE: 0.003741284543214283\n"
     ]
    },
    {
     "name": "stderr",
     "output_type": "stream",
     "text": [
      "\u001b[32m[I 2023-07-19 16:50:32,414]\u001b[0m Trial 296 finished with value: 0.0038432370599941266 and parameters: {'max_depth': 10, 'eta': 0.6449302790606372, 'gamma': 0.4114699177375401, 'subsample': 0.7863752585718438, 'colsample_bytree': 0.9480645960218779}. Best is trial 57 with value: 0.003554786480584704.\u001b[0m\n"
     ]
    },
    {
     "name": "stdout",
     "output_type": "stream",
     "text": [
      "MAPE: 0.0038432370599941266\n"
     ]
    },
    {
     "name": "stderr",
     "output_type": "stream",
     "text": [
      "\u001b[32m[I 2023-07-19 16:50:34,948]\u001b[0m Trial 297 finished with value: 0.015271539663711017 and parameters: {'max_depth': 10, 'eta': 0.8340650961637053, 'gamma': 0.3209640921391432, 'subsample': 0.7733162392816804, 'colsample_bytree': 0.7873972287878332}. Best is trial 57 with value: 0.003554786480584704.\u001b[0m\n"
     ]
    },
    {
     "name": "stdout",
     "output_type": "stream",
     "text": [
      "MAPE: 0.015271539663711017\n"
     ]
    },
    {
     "name": "stderr",
     "output_type": "stream",
     "text": [
      "\u001b[32m[I 2023-07-19 16:50:37,081]\u001b[0m Trial 298 finished with value: 0.004213180157042278 and parameters: {'max_depth': 9, 'eta': 0.7158205920076963, 'gamma': 0.5466510980758226, 'subsample': 0.7552709858680253, 'colsample_bytree': 0.9811964239566053}. Best is trial 57 with value: 0.003554786480584704.\u001b[0m\n"
     ]
    },
    {
     "name": "stdout",
     "output_type": "stream",
     "text": [
      "MAPE: 0.004213180157042278\n"
     ]
    },
    {
     "name": "stderr",
     "output_type": "stream",
     "text": [
      "\u001b[32m[I 2023-07-19 16:50:39,345]\u001b[0m Trial 299 finished with value: 0.006225541284938715 and parameters: {'max_depth': 10, 'eta': 0.6550815928707989, 'gamma': 0.3616512018449587, 'subsample': 0.6395934689557082, 'colsample_bytree': 0.8673650984317941}. Best is trial 57 with value: 0.003554786480584704.\u001b[0m\n"
     ]
    },
    {
     "name": "stdout",
     "output_type": "stream",
     "text": [
      "MAPE: 0.006225541284938715\n"
     ]
    },
    {
     "name": "stderr",
     "output_type": "stream",
     "text": [
      "\u001b[32m[I 2023-07-19 16:50:41,644]\u001b[0m Trial 300 finished with value: 0.005333932281352854 and parameters: {'max_depth': 10, 'eta': 0.536092866259135, 'gamma': 0.45134170173102656, 'subsample': 0.8151920585791878, 'colsample_bytree': 0.9071292420347732}. Best is trial 57 with value: 0.003554786480584704.\u001b[0m\n"
     ]
    },
    {
     "name": "stdout",
     "output_type": "stream",
     "text": [
      "MAPE: 0.005333932281352854\n"
     ]
    },
    {
     "name": "stderr",
     "output_type": "stream",
     "text": [
      "\u001b[32m[I 2023-07-19 16:50:44,047]\u001b[0m Trial 301 finished with value: 0.0038427767983461683 and parameters: {'max_depth': 10, 'eta': 0.6005385866357816, 'gamma': 0.29593064950974257, 'subsample': 0.8050757999720844, 'colsample_bytree': 0.9619196383525895}. Best is trial 57 with value: 0.003554786480584704.\u001b[0m\n"
     ]
    },
    {
     "name": "stdout",
     "output_type": "stream",
     "text": [
      "MAPE: 0.0038427767983461683\n"
     ]
    },
    {
     "name": "stderr",
     "output_type": "stream",
     "text": [
      "\u001b[32m[I 2023-07-19 16:50:45,468]\u001b[0m Trial 302 finished with value: 0.14274929480117443 and parameters: {'max_depth': 10, 'eta': 0.1767454954139472, 'gamma': 0.4233785085356694, 'subsample': 0.5929079405335965, 'colsample_bytree': 0.9833916040519769}. Best is trial 57 with value: 0.003554786480584704.\u001b[0m\n"
     ]
    },
    {
     "name": "stdout",
     "output_type": "stream",
     "text": [
      "MAPE: 0.14274929480117443\n"
     ]
    },
    {
     "name": "stderr",
     "output_type": "stream",
     "text": [
      "\u001b[32m[I 2023-07-19 16:50:47,672]\u001b[0m Trial 303 finished with value: 0.005238976467571325 and parameters: {'max_depth': 10, 'eta': 0.468536892559412, 'gamma': 0.3927231504382765, 'subsample': 0.7130147782766129, 'colsample_bytree': 0.9290399960862114}. Best is trial 57 with value: 0.003554786480584704.\u001b[0m\n"
     ]
    },
    {
     "name": "stdout",
     "output_type": "stream",
     "text": [
      "MAPE: 0.005238976467571325\n"
     ]
    },
    {
     "name": "stderr",
     "output_type": "stream",
     "text": [
      "\u001b[32m[I 2023-07-19 16:50:49,703]\u001b[0m Trial 304 finished with value: 0.007839819738595719 and parameters: {'max_depth': 10, 'eta': 0.3863717715812711, 'gamma': 0.48731280311883374, 'subsample': 0.6835362544442254, 'colsample_bytree': 0.9666058773511775}. Best is trial 57 with value: 0.003554786480584704.\u001b[0m\n"
     ]
    },
    {
     "name": "stdout",
     "output_type": "stream",
     "text": [
      "MAPE: 0.007839819738595719\n"
     ]
    },
    {
     "name": "stderr",
     "output_type": "stream",
     "text": [
      "\u001b[32m[I 2023-07-19 16:50:52,191]\u001b[0m Trial 305 finished with value: 0.00698119614204799 and parameters: {'max_depth': 10, 'eta': 0.7417124794164978, 'gamma': 0.33073470645004904, 'subsample': 0.7438186011419118, 'colsample_bytree': 0.9470042230423079}. Best is trial 57 with value: 0.003554786480584704.\u001b[0m\n"
     ]
    },
    {
     "name": "stdout",
     "output_type": "stream",
     "text": [
      "MAPE: 0.00698119614204799\n"
     ]
    },
    {
     "name": "stderr",
     "output_type": "stream",
     "text": [
      "\u001b[32m[I 2023-07-19 16:50:54,532]\u001b[0m Trial 306 finished with value: 0.003937456578192295 and parameters: {'max_depth': 10, 'eta': 0.6647241300161011, 'gamma': 0.5939297158990259, 'subsample': 0.7239723013430239, 'colsample_bytree': 0.9844692651497234}. Best is trial 57 with value: 0.003554786480584704.\u001b[0m\n"
     ]
    },
    {
     "name": "stdout",
     "output_type": "stream",
     "text": [
      "MAPE: 0.003937456578192295\n"
     ]
    },
    {
     "name": "stderr",
     "output_type": "stream",
     "text": [
      "\u001b[32m[I 2023-07-19 16:50:56,609]\u001b[0m Trial 307 finished with value: 0.03887193015086647 and parameters: {'max_depth': 10, 'eta': 0.2773415216745081, 'gamma': 0.2756823802840669, 'subsample': 0.6545692391681209, 'colsample_bytree': 0.6921940601074958}. Best is trial 57 with value: 0.003554786480584704.\u001b[0m\n"
     ]
    },
    {
     "name": "stdout",
     "output_type": "stream",
     "text": [
      "MAPE: 0.03887193015086647\n"
     ]
    },
    {
     "name": "stderr",
     "output_type": "stream",
     "text": [
      "\u001b[32m[I 2023-07-19 16:50:58,837]\u001b[0m Trial 308 finished with value: 0.0036783516277454366 and parameters: {'max_depth': 10, 'eta': 0.5269557152446132, 'gamma': 0.3720981548609386, 'subsample': 0.6994509290058113, 'colsample_bytree': 0.999644720395476}. Best is trial 57 with value: 0.003554786480584704.\u001b[0m\n"
     ]
    },
    {
     "name": "stdout",
     "output_type": "stream",
     "text": [
      "MAPE: 0.0036783516277454366\n"
     ]
    },
    {
     "name": "stderr",
     "output_type": "stream",
     "text": [
      "\u001b[32m[I 2023-07-19 16:51:01,120]\u001b[0m Trial 309 finished with value: 0.003670563738535857 and parameters: {'max_depth': 10, 'eta': 0.5302117824178891, 'gamma': 0.36555671239988075, 'subsample': 0.6906991524767223, 'colsample_bytree': 0.9655105737382591}. Best is trial 57 with value: 0.003554786480584704.\u001b[0m\n"
     ]
    },
    {
     "name": "stdout",
     "output_type": "stream",
     "text": [
      "MAPE: 0.003670563738535857\n"
     ]
    },
    {
     "name": "stderr",
     "output_type": "stream",
     "text": [
      "\u001b[32m[I 2023-07-19 16:51:02,499]\u001b[0m Trial 310 finished with value: 0.331576738406608 and parameters: {'max_depth': 9, 'eta': 0.10444324589911855, 'gamma': 0.3619591438245552, 'subsample': 0.6737712090253114, 'colsample_bytree': 0.9347921562206624}. Best is trial 57 with value: 0.003554786480584704.\u001b[0m\n"
     ]
    },
    {
     "name": "stdout",
     "output_type": "stream",
     "text": [
      "MAPE: 0.331576738406608\n"
     ]
    },
    {
     "name": "stderr",
     "output_type": "stream",
     "text": [
      "\u001b[32m[I 2023-07-19 16:51:04,621]\u001b[0m Trial 311 finished with value: 0.00474649075847506 and parameters: {'max_depth': 10, 'eta': 0.4341965211241491, 'gamma': 0.41828995497772326, 'subsample': 0.6944802608927175, 'colsample_bytree': 0.9572730276140219}. Best is trial 57 with value: 0.003554786480584704.\u001b[0m\n"
     ]
    },
    {
     "name": "stdout",
     "output_type": "stream",
     "text": [
      "MAPE: 0.00474649075847506\n"
     ]
    },
    {
     "name": "stderr",
     "output_type": "stream",
     "text": [
      "\u001b[32m[I 2023-07-19 16:51:06,882]\u001b[0m Trial 312 finished with value: 0.0036665565379074045 and parameters: {'max_depth': 10, 'eta': 0.5034076758164707, 'gamma': 0.3828743263327752, 'subsample': 0.7018633839277121, 'colsample_bytree': 0.9692502201028654}. Best is trial 57 with value: 0.003554786480584704.\u001b[0m\n"
     ]
    },
    {
     "name": "stdout",
     "output_type": "stream",
     "text": [
      "MAPE: 0.0036665565379074045\n"
     ]
    },
    {
     "name": "stderr",
     "output_type": "stream",
     "text": [
      "\u001b[32m[I 2023-07-19 16:51:09,177]\u001b[0m Trial 313 finished with value: 0.003795427307941375 and parameters: {'max_depth': 10, 'eta': 0.49417193442096846, 'gamma': 0.3585355206320054, 'subsample': 0.6986896241421321, 'colsample_bytree': 0.9662146460806134}. Best is trial 57 with value: 0.003554786480584704.\u001b[0m\n"
     ]
    },
    {
     "name": "stdout",
     "output_type": "stream",
     "text": [
      "MAPE: 0.003795427307941375\n"
     ]
    },
    {
     "name": "stderr",
     "output_type": "stream",
     "text": [
      "\u001b[32m[I 2023-07-19 16:51:11,433]\u001b[0m Trial 314 finished with value: 0.005055309431822567 and parameters: {'max_depth': 10, 'eta': 0.5093720050151567, 'gamma': 0.3929429416078367, 'subsample': 0.6726575808209927, 'colsample_bytree': 0.920342051637401}. Best is trial 57 with value: 0.003554786480584704.\u001b[0m\n"
     ]
    },
    {
     "name": "stdout",
     "output_type": "stream",
     "text": [
      "MAPE: 0.005055309431822567\n"
     ]
    },
    {
     "name": "stderr",
     "output_type": "stream",
     "text": [
      "\u001b[32m[I 2023-07-19 16:51:13,422]\u001b[0m Trial 315 finished with value: 0.02027687147319366 and parameters: {'max_depth': 10, 'eta': 0.32293531700205774, 'gamma': 0.45646717242381046, 'subsample': 0.7050165365179233, 'colsample_bytree': 0.942399722087752}. Best is trial 57 with value: 0.003554786480584704.\u001b[0m\n"
     ]
    },
    {
     "name": "stdout",
     "output_type": "stream",
     "text": [
      "MAPE: 0.02027687147319366\n"
     ]
    },
    {
     "name": "stderr",
     "output_type": "stream",
     "text": [
      "\u001b[32m[I 2023-07-19 16:51:15,747]\u001b[0m Trial 316 finished with value: 0.011324490546367276 and parameters: {'max_depth': 10, 'eta': 0.5284520377021025, 'gamma': 0.5203133602698182, 'subsample': 0.6168417920007552, 'colsample_bytree': 0.8190888473835711}. Best is trial 57 with value: 0.003554786480584704.\u001b[0m\n"
     ]
    },
    {
     "name": "stdout",
     "output_type": "stream",
     "text": [
      "MAPE: 0.011324490546367276\n"
     ]
    },
    {
     "name": "stderr",
     "output_type": "stream",
     "text": [
      "\u001b[32m[I 2023-07-19 16:51:17,889]\u001b[0m Trial 317 finished with value: 0.0040713329158046955 and parameters: {'max_depth': 10, 'eta': 0.45583505464611684, 'gamma': 0.33023356858985436, 'subsample': 0.6594649356990314, 'colsample_bytree': 0.9993479148497519}. Best is trial 57 with value: 0.003554786480584704.\u001b[0m\n"
     ]
    },
    {
     "name": "stdout",
     "output_type": "stream",
     "text": [
      "MAPE: 0.0040713329158046955\n"
     ]
    },
    {
     "name": "stderr",
     "output_type": "stream",
     "text": [
      "\u001b[32m[I 2023-07-19 16:51:19,916]\u001b[0m Trial 318 finished with value: 0.005591041637973453 and parameters: {'max_depth': 9, 'eta': 0.5545653992533626, 'gamma': 0.05974231875664229, 'subsample': 0.5730257663925848, 'colsample_bytree': 0.8963878393878584}. Best is trial 57 with value: 0.003554786480584704.\u001b[0m\n"
     ]
    },
    {
     "name": "stdout",
     "output_type": "stream",
     "text": [
      "MAPE: 0.005591041637973453\n"
     ]
    },
    {
     "name": "stderr",
     "output_type": "stream",
     "text": [
      "\u001b[32m[I 2023-07-19 16:51:22,009]\u001b[0m Trial 319 finished with value: 0.005771192575601033 and parameters: {'max_depth': 10, 'eta': 0.40834094832974904, 'gamma': 0.803384753749328, 'subsample': 0.6837921218105103, 'colsample_bytree': 0.9665036436499397}. Best is trial 57 with value: 0.003554786480584704.\u001b[0m\n"
     ]
    },
    {
     "name": "stdout",
     "output_type": "stream",
     "text": [
      "MAPE: 0.005771192575601033\n"
     ]
    },
    {
     "name": "stderr",
     "output_type": "stream",
     "text": [
      "\u001b[32m[I 2023-07-19 16:51:24,316]\u001b[0m Trial 320 finished with value: 0.010252076920216496 and parameters: {'max_depth': 10, 'eta': 0.48586384709081, 'gamma': 0.37262227991196917, 'subsample': 0.7124260894886243, 'colsample_bytree': 0.7570054137382968}. Best is trial 57 with value: 0.003554786480584704.\u001b[0m\n"
     ]
    },
    {
     "name": "stdout",
     "output_type": "stream",
     "text": [
      "MAPE: 0.010252076920216496\n"
     ]
    },
    {
     "name": "stderr",
     "output_type": "stream",
     "text": [
      "\u001b[32m[I 2023-07-19 16:51:26,654]\u001b[0m Trial 321 finished with value: 0.00379395645841851 and parameters: {'max_depth': 10, 'eta': 0.5581943322618271, 'gamma': 0.020451078413069264, 'subsample': 0.7356338682710802, 'colsample_bytree': 0.9511024270406905}. Best is trial 57 with value: 0.003554786480584704.\u001b[0m\n"
     ]
    },
    {
     "name": "stdout",
     "output_type": "stream",
     "text": [
      "MAPE: 0.00379395645841851\n"
     ]
    },
    {
     "name": "stderr",
     "output_type": "stream",
     "text": [
      "\u001b[32m[I 2023-07-19 16:51:28,003]\u001b[0m Trial 322 finished with value: 0.39280646052272544 and parameters: {'max_depth': 10, 'eta': 0.08919842645017116, 'gamma': 0.45775613210591004, 'subsample': 0.6877482373914166, 'colsample_bytree': 0.9716381006276603}. Best is trial 57 with value: 0.003554786480584704.\u001b[0m\n"
     ]
    },
    {
     "name": "stdout",
     "output_type": "stream",
     "text": [
      "MAPE: 0.39280646052272544\n"
     ]
    },
    {
     "name": "stderr",
     "output_type": "stream",
     "text": [
      "\u001b[32m[I 2023-07-19 16:51:29,666]\u001b[0m Trial 323 finished with value: 0.05525267272937054 and parameters: {'max_depth': 10, 'eta': 0.25103729856084084, 'gamma': 0.3891943748984986, 'subsample': 0.7641038494456309, 'colsample_bytree': 0.9851509635778932}. Best is trial 57 with value: 0.003554786480584704.\u001b[0m\n"
     ]
    },
    {
     "name": "stdout",
     "output_type": "stream",
     "text": [
      "MAPE: 0.05525267272937054\n"
     ]
    },
    {
     "name": "stderr",
     "output_type": "stream",
     "text": [
      "\u001b[32m[I 2023-07-19 16:51:31,769]\u001b[0m Trial 324 finished with value: 0.004033302632309906 and parameters: {'max_depth': 10, 'eta': 0.4566789524459532, 'gamma': 0.34782360474385565, 'subsample': 0.6391787675086132, 'colsample_bytree': 0.9998921357307881}. Best is trial 57 with value: 0.003554786480584704.\u001b[0m\n"
     ]
    },
    {
     "name": "stdout",
     "output_type": "stream",
     "text": [
      "MAPE: 0.004033302632309906\n"
     ]
    },
    {
     "name": "stderr",
     "output_type": "stream",
     "text": [
      "\u001b[32m[I 2023-07-19 16:51:33,602]\u001b[0m Trial 325 finished with value: 0.0061027004437318524 and parameters: {'max_depth': 8, 'eta': 0.529881139501361, 'gamma': 0.3001123716293177, 'subsample': 0.7004052367057837, 'colsample_bytree': 0.9408239837370981}. Best is trial 57 with value: 0.003554786480584704.\u001b[0m\n"
     ]
    },
    {
     "name": "stdout",
     "output_type": "stream",
     "text": [
      "MAPE: 0.0061027004437318524\n"
     ]
    },
    {
     "name": "stderr",
     "output_type": "stream",
     "text": [
      "\u001b[32m[I 2023-07-19 16:51:35,653]\u001b[0m Trial 326 finished with value: 0.012593032543897981 and parameters: {'max_depth': 9, 'eta': 0.5843473545051375, 'gamma': 0.2551371443680878, 'subsample': 0.7471066203032886, 'colsample_bytree': 0.6819598069457207}. Best is trial 57 with value: 0.003554786480584704.\u001b[0m\n"
     ]
    },
    {
     "name": "stdout",
     "output_type": "stream",
     "text": [
      "MAPE: 0.012593032543897981\n"
     ]
    },
    {
     "name": "stderr",
     "output_type": "stream",
     "text": [
      "\u001b[32m[I 2023-07-19 16:51:37,935]\u001b[0m Trial 327 finished with value: 0.005087514114490913 and parameters: {'max_depth': 10, 'eta': 0.522625562774388, 'gamma': 0.4385869608767498, 'subsample': 0.7222221477065717, 'colsample_bytree': 0.9099033774866133}. Best is trial 57 with value: 0.003554786480584704.\u001b[0m\n"
     ]
    },
    {
     "name": "stdout",
     "output_type": "stream",
     "text": [
      "MAPE: 0.005087514114490913\n"
     ]
    },
    {
     "name": "stderr",
     "output_type": "stream",
     "text": [
      "\u001b[32m[I 2023-07-19 16:51:40,350]\u001b[0m Trial 328 finished with value: 0.00562414316968496 and parameters: {'max_depth': 10, 'eta': 0.5911003783583216, 'gamma': 0.49834524249427314, 'subsample': 0.6706920204653355, 'colsample_bytree': 0.854556248865702}. Best is trial 57 with value: 0.003554786480584704.\u001b[0m\n"
     ]
    },
    {
     "name": "stdout",
     "output_type": "stream",
     "text": [
      "MAPE: 0.00562414316968496\n"
     ]
    },
    {
     "name": "stderr",
     "output_type": "stream",
     "text": [
      "\u001b[32m[I 2023-07-19 16:51:42,200]\u001b[0m Trial 329 finished with value: 0.10130953232039695 and parameters: {'max_depth': 10, 'eta': 0.20320167241494322, 'gamma': 0.5407688678243561, 'subsample': 0.7113437985332577, 'colsample_bytree': 0.740089036373514}. Best is trial 57 with value: 0.003554786480584704.\u001b[0m\n"
     ]
    },
    {
     "name": "stdout",
     "output_type": "stream",
     "text": [
      "MAPE: 0.10130953232039695\n"
     ]
    },
    {
     "name": "stderr",
     "output_type": "stream",
     "text": [
      "\u001b[32m[I 2023-07-19 16:51:44,203]\u001b[0m Trial 330 finished with value: 0.01429326932216512 and parameters: {'max_depth': 10, 'eta': 0.3451127012087499, 'gamma': 0.37588808021104037, 'subsample': 0.7318617540684841, 'colsample_bytree': 0.9618748515944754}. Best is trial 57 with value: 0.003554786480584704.\u001b[0m\n"
     ]
    },
    {
     "name": "stdout",
     "output_type": "stream",
     "text": [
      "MAPE: 0.01429326932216512\n"
     ]
    },
    {
     "name": "stderr",
     "output_type": "stream",
     "text": [
      "\u001b[32m[I 2023-07-19 16:51:45,659]\u001b[0m Trial 331 finished with value: 0.003855902090796167 and parameters: {'max_depth': 10, 'eta': 0.4834892993404532, 'gamma': 0.3110931624296447, 'subsample': 0.24545382606134641, 'colsample_bytree': 0.9743145646342481}. Best is trial 57 with value: 0.003554786480584704.\u001b[0m\n"
     ]
    },
    {
     "name": "stdout",
     "output_type": "stream",
     "text": [
      "MAPE: 0.003855902090796167\n"
     ]
    },
    {
     "name": "stderr",
     "output_type": "stream",
     "text": [
      "\u001b[32m[I 2023-07-19 16:51:48,059]\u001b[0m Trial 332 finished with value: 0.0056061344969465495 and parameters: {'max_depth': 10, 'eta': 0.5919823540328475, 'gamma': 0.6222599536137076, 'subsample': 0.7763489387872505, 'colsample_bytree': 0.9282561438949224}. Best is trial 57 with value: 0.003554786480584704.\u001b[0m\n"
     ]
    },
    {
     "name": "stdout",
     "output_type": "stream",
     "text": [
      "MAPE: 0.0056061344969465495\n"
     ]
    },
    {
     "name": "stderr",
     "output_type": "stream",
     "text": [
      "\u001b[32m[I 2023-07-19 16:51:49,181]\u001b[0m Trial 333 finished with value: 0.007752060949832288 and parameters: {'max_depth': 5, 'eta': 0.4186901930390745, 'gamma': 0.4175200060495178, 'subsample': 0.6935999529785333, 'colsample_bytree': 0.9995447411061877}. Best is trial 57 with value: 0.003554786480584704.\u001b[0m\n"
     ]
    },
    {
     "name": "stdout",
     "output_type": "stream",
     "text": [
      "MAPE: 0.007752060949832288\n"
     ]
    },
    {
     "name": "stderr",
     "output_type": "stream",
     "text": [
      "\u001b[32m[I 2023-07-19 16:51:50,545]\u001b[0m Trial 334 finished with value: 0.520521038039278 and parameters: {'max_depth': 10, 'eta': 0.06320044763275388, 'gamma': 0.33966504822744714, 'subsample': 0.7592553385594482, 'colsample_bytree': 0.952329380175358}. Best is trial 57 with value: 0.003554786480584704.\u001b[0m\n"
     ]
    },
    {
     "name": "stdout",
     "output_type": "stream",
     "text": [
      "MAPE: 0.520521038039278\n"
     ]
    },
    {
     "name": "stderr",
     "output_type": "stream",
     "text": [
      "\u001b[32m[I 2023-07-19 16:51:52,964]\u001b[0m Trial 335 finished with value: 0.011870604208309047 and parameters: {'max_depth': 10, 'eta': 0.5425768718290229, 'gamma': 0.27871519766930736, 'subsample': 0.6559749146821197, 'colsample_bytree': 0.8401806812155582}. Best is trial 57 with value: 0.003554786480584704.\u001b[0m\n"
     ]
    },
    {
     "name": "stdout",
     "output_type": "stream",
     "text": [
      "MAPE: 0.011870604208309047\n"
     ]
    },
    {
     "name": "stderr",
     "output_type": "stream",
     "text": [
      "\u001b[32m[I 2023-07-19 16:51:54,311]\u001b[0m Trial 336 finished with value: 0.0975145158516458 and parameters: {'max_depth': 10, 'eta': 0.21440094030926196, 'gamma': 0.4725151942054075, 'subsample': 0.7437698133235302, 'colsample_bytree': 0.30185987400387104}. Best is trial 57 with value: 0.003554786480584704.\u001b[0m\n"
     ]
    },
    {
     "name": "stdout",
     "output_type": "stream",
     "text": [
      "MAPE: 0.0975145158516458\n"
     ]
    },
    {
     "name": "stderr",
     "output_type": "stream",
     "text": [
      "\u001b[32m[I 2023-07-19 16:51:56,654]\u001b[0m Trial 337 finished with value: 0.0037115352814285994 and parameters: {'max_depth': 10, 'eta': 0.6095176456805865, 'gamma': 0.2541089215426863, 'subsample': 0.7179759868238977, 'colsample_bytree': 0.977190976878688}. Best is trial 57 with value: 0.003554786480584704.\u001b[0m\n"
     ]
    },
    {
     "name": "stdout",
     "output_type": "stream",
     "text": [
      "MAPE: 0.0037115352814285994\n"
     ]
    },
    {
     "name": "stderr",
     "output_type": "stream",
     "text": [
      "\u001b[32m[I 2023-07-19 16:51:58,221]\u001b[0m Trial 338 finished with value: 0.19991602550212728 and parameters: {'max_depth': 10, 'eta': 0.1482227035157167, 'gamma': 0.24529316434811604, 'subsample': 0.6836817948344914, 'colsample_bytree': 0.8304651226571568}. Best is trial 57 with value: 0.003554786480584704.\u001b[0m\n"
     ]
    },
    {
     "name": "stdout",
     "output_type": "stream",
     "text": [
      "MAPE: 0.19991602550212728\n"
     ]
    },
    {
     "name": "stderr",
     "output_type": "stream",
     "text": [
      "\u001b[32m[I 2023-07-19 16:51:59,868]\u001b[0m Trial 339 finished with value: 0.023303533074866458 and parameters: {'max_depth': 10, 'eta': 0.45268784896117875, 'gamma': 0.3852710100018784, 'subsample': 0.7030870458658834, 'colsample_bytree': 0.49282384096326487}. Best is trial 57 with value: 0.003554786480584704.\u001b[0m\n"
     ]
    },
    {
     "name": "stdout",
     "output_type": "stream",
     "text": [
      "MAPE: 0.023303533074866458\n"
     ]
    },
    {
     "name": "stderr",
     "output_type": "stream",
     "text": [
      "\u001b[32m[I 2023-07-19 16:52:01,898]\u001b[0m Trial 340 finished with value: 0.0039677070258071715 and parameters: {'max_depth': 9, 'eta': 0.5083087802872519, 'gamma': 0.42991600939539987, 'subsample': 0.7919634025795154, 'colsample_bytree': 0.98462549695851}. Best is trial 57 with value: 0.003554786480584704.\u001b[0m\n"
     ]
    },
    {
     "name": "stdout",
     "output_type": "stream",
     "text": [
      "MAPE: 0.0039677070258071715\n"
     ]
    },
    {
     "name": "stderr",
     "output_type": "stream",
     "text": [
      "\u001b[32m[I 2023-07-19 16:52:04,200]\u001b[0m Trial 341 finished with value: 0.005212221240310999 and parameters: {'max_depth': 10, 'eta': 0.5728026881067173, 'gamma': 0.5502111359860461, 'subsample': 0.7263710946179107, 'colsample_bytree': 0.8765803705881825}. Best is trial 57 with value: 0.003554786480584704.\u001b[0m\n"
     ]
    },
    {
     "name": "stdout",
     "output_type": "stream",
     "text": [
      "MAPE: 0.005212221240310999\n"
     ]
    },
    {
     "name": "stderr",
     "output_type": "stream",
     "text": [
      "\u001b[32m[I 2023-07-19 16:52:06,703]\u001b[0m Trial 342 finished with value: 0.004225173956328856 and parameters: {'max_depth': 10, 'eta': 0.9909541169621149, 'gamma': 0.4934179719433536, 'subsample': 0.5187952544929068, 'colsample_bytree': 0.9548861933709698}. Best is trial 57 with value: 0.003554786480584704.\u001b[0m\n"
     ]
    },
    {
     "name": "stdout",
     "output_type": "stream",
     "text": [
      "MAPE: 0.004225173956328856\n"
     ]
    },
    {
     "name": "stderr",
     "output_type": "stream",
     "text": [
      "\u001b[32m[I 2023-07-19 16:52:09,107]\u001b[0m Trial 343 finished with value: 0.01121057933918999 and parameters: {'max_depth': 10, 'eta': 0.6188422692902212, 'gamma': 0.33407161129454943, 'subsample': 0.747307337367464, 'colsample_bytree': 0.7756059676158849}. Best is trial 57 with value: 0.003554786480584704.\u001b[0m\n"
     ]
    },
    {
     "name": "stdout",
     "output_type": "stream",
     "text": [
      "MAPE: 0.01121057933918999\n"
     ]
    },
    {
     "name": "stderr",
     "output_type": "stream",
     "text": [
      "\u001b[32m[I 2023-07-19 16:52:10,328]\u001b[0m Trial 344 finished with value: 0.8957994577537274 and parameters: {'max_depth': 10, 'eta': 0.01084345844797013, 'gamma': 0.20844769811354757, 'subsample': 0.6094148868804595, 'colsample_bytree': 0.5726125922474233}. Best is trial 57 with value: 0.003554786480584704.\u001b[0m\n"
     ]
    },
    {
     "name": "stdout",
     "output_type": "stream",
     "text": [
      "MAPE: 0.8957994577537274\n"
     ]
    },
    {
     "name": "stderr",
     "output_type": "stream",
     "text": [
      "\u001b[32m[I 2023-07-19 16:52:12,805]\u001b[0m Trial 345 finished with value: 0.0040269846437551065 and parameters: {'max_depth': 10, 'eta': 0.6935451466379855, 'gamma': 0.394200265839118, 'subsample': 0.6702898726983397, 'colsample_bytree': 0.9743882715458633}. Best is trial 57 with value: 0.003554786480584704.\u001b[0m\n"
     ]
    },
    {
     "name": "stdout",
     "output_type": "stream",
     "text": [
      "MAPE: 0.0040269846437551065\n"
     ]
    },
    {
     "name": "stderr",
     "output_type": "stream",
     "text": [
      "\u001b[32m[I 2023-07-19 16:52:15,094]\u001b[0m Trial 346 finished with value: 0.012359061887651223 and parameters: {'max_depth': 10, 'eta': 0.5416368706597603, 'gamma': 0.23381249394977227, 'subsample': 0.7106658840205586, 'colsample_bytree': 0.6607462164822347}. Best is trial 57 with value: 0.003554786480584704.\u001b[0m\n"
     ]
    },
    {
     "name": "stdout",
     "output_type": "stream",
     "text": [
      "MAPE: 0.012359061887651223\n"
     ]
    },
    {
     "name": "stderr",
     "output_type": "stream",
     "text": [
      "\u001b[32m[I 2023-07-19 16:52:17,404]\u001b[0m Trial 347 finished with value: 0.007584977150218368 and parameters: {'max_depth': 10, 'eta': 0.8685811352605228, 'gamma': 0.29047126631224846, 'subsample': 0.463728782193693, 'colsample_bytree': 0.9285710715243}. Best is trial 57 with value: 0.003554786480584704.\u001b[0m\n"
     ]
    },
    {
     "name": "stdout",
     "output_type": "stream",
     "text": [
      "MAPE: 0.007584977150218368\n"
     ]
    },
    {
     "name": "stderr",
     "output_type": "stream",
     "text": [
      "\u001b[32m[I 2023-07-19 16:52:19,244]\u001b[0m Trial 348 finished with value: 0.01231146709861276 and parameters: {'max_depth': 9, 'eta': 0.35530536241129224, 'gamma': 0.6716889577718259, 'subsample': 0.6954156988531699, 'colsample_bytree': 0.9995647007037378}. Best is trial 57 with value: 0.003554786480584704.\u001b[0m\n"
     ]
    },
    {
     "name": "stdout",
     "output_type": "stream",
     "text": [
      "MAPE: 0.01231146709861276\n"
     ]
    },
    {
     "name": "stderr",
     "output_type": "stream",
     "text": [
      "\u001b[32m[I 2023-07-19 16:52:20,627]\u001b[0m Trial 349 finished with value: 0.26494616483046174 and parameters: {'max_depth': 10, 'eta': 0.12437089307266892, 'gamma': 0.4519997194648743, 'subsample': 0.7748899485780193, 'colsample_bytree': 0.9652563965375598}. Best is trial 57 with value: 0.003554786480584704.\u001b[0m\n"
     ]
    },
    {
     "name": "stdout",
     "output_type": "stream",
     "text": [
      "MAPE: 0.26494616483046174\n"
     ]
    },
    {
     "name": "stderr",
     "output_type": "stream",
     "text": [
      "\u001b[32m[I 2023-07-19 16:52:22,343]\u001b[0m Trial 350 finished with value: 0.08283132516853989 and parameters: {'max_depth': 10, 'eta': 0.22000443855260254, 'gamma': 0.36926701521170496, 'subsample': 0.7320395219447154, 'colsample_bytree': 0.9442328922773392}. Best is trial 57 with value: 0.003554786480584704.\u001b[0m\n"
     ]
    },
    {
     "name": "stdout",
     "output_type": "stream",
     "text": [
      "MAPE: 0.08283132516853989\n"
     ]
    },
    {
     "name": "stderr",
     "output_type": "stream",
     "text": [
      "\u001b[32m[I 2023-07-19 16:52:24,532]\u001b[0m Trial 351 finished with value: 0.0038198464182189356 and parameters: {'max_depth': 10, 'eta': 0.49180333588814706, 'gamma': 0.2549926218430373, 'subsample': 0.6429887725818745, 'colsample_bytree': 0.9830039055536822}. Best is trial 57 with value: 0.003554786480584704.\u001b[0m\n"
     ]
    },
    {
     "name": "stdout",
     "output_type": "stream",
     "text": [
      "MAPE: 0.0038198464182189356\n"
     ]
    },
    {
     "name": "stderr",
     "output_type": "stream",
     "text": [
      "\u001b[32m[I 2023-07-19 16:52:26,873]\u001b[0m Trial 352 finished with value: 0.0037626345072885006 and parameters: {'max_depth': 10, 'eta': 0.6169692850423955, 'gamma': 0.3466914229462444, 'subsample': 0.7563158699636245, 'colsample_bytree': 0.9635457076686602}. Best is trial 57 with value: 0.003554786480584704.\u001b[0m\n"
     ]
    },
    {
     "name": "stdout",
     "output_type": "stream",
     "text": [
      "MAPE: 0.0037626345072885006\n"
     ]
    },
    {
     "name": "stderr",
     "output_type": "stream",
     "text": [
      "\u001b[32m[I 2023-07-19 16:52:28,579]\u001b[0m Trial 353 finished with value: 0.13619416264865905 and parameters: {'max_depth': 10, 'eta': 0.17999016572781507, 'gamma': 0.4173296672474341, 'subsample': 0.6810145515192244, 'colsample_bytree': 0.8068204034673605}. Best is trial 57 with value: 0.003554786480584704.\u001b[0m\n"
     ]
    },
    {
     "name": "stdout",
     "output_type": "stream",
     "text": [
      "MAPE: 0.13619416264865905\n"
     ]
    },
    {
     "name": "stderr",
     "output_type": "stream",
     "text": [
      "\u001b[32m[I 2023-07-19 16:52:29,912]\u001b[0m Trial 354 finished with value: 0.8821978640494693 and parameters: {'max_depth': 10, 'eta': 0.012454253855303847, 'gamma': 0.047699433776222905, 'subsample': 0.7176193858995817, 'colsample_bytree': 0.9833006002067057}. Best is trial 57 with value: 0.003554786480584704.\u001b[0m\n"
     ]
    },
    {
     "name": "stdout",
     "output_type": "stream",
     "text": [
      "MAPE: 0.8821978640494693\n"
     ]
    },
    {
     "name": "stderr",
     "output_type": "stream",
     "text": [
      "\u001b[32m[I 2023-07-19 16:52:32,163]\u001b[0m Trial 355 finished with value: 0.007445679591887523 and parameters: {'max_depth': 9, 'eta': 0.7660903908692736, 'gamma': 0.3152367903590907, 'subsample': 0.8291527152199253, 'colsample_bytree': 0.9112073215247034}. Best is trial 57 with value: 0.003554786480584704.\u001b[0m\n"
     ]
    },
    {
     "name": "stdout",
     "output_type": "stream",
     "text": [
      "MAPE: 0.007445679591887523\n"
     ]
    },
    {
     "name": "stderr",
     "output_type": "stream",
     "text": [
      "\u001b[32m[I 2023-07-19 16:52:34,255]\u001b[0m Trial 356 finished with value: 0.009569481557762051 and parameters: {'max_depth': 10, 'eta': 0.37825748365453676, 'gamma': 0.48651235740423104, 'subsample': 0.7339786273862139, 'colsample_bytree': 0.8632666207171749}. Best is trial 57 with value: 0.003554786480584704.\u001b[0m\n"
     ]
    },
    {
     "name": "stdout",
     "output_type": "stream",
     "text": [
      "MAPE: 0.009569481557762051\n"
     ]
    },
    {
     "name": "stderr",
     "output_type": "stream",
     "text": [
      "\u001b[32m[I 2023-07-19 16:52:36,514]\u001b[0m Trial 357 finished with value: 0.0036552795207913545 and parameters: {'max_depth': 10, 'eta': 0.5721616785461138, 'gamma': 0.5757222294189682, 'subsample': 0.6993226315731452, 'colsample_bytree': 0.9490730334162337}. Best is trial 57 with value: 0.003554786480584704.\u001b[0m\n"
     ]
    },
    {
     "name": "stdout",
     "output_type": "stream",
     "text": [
      "MAPE: 0.0036552795207913545\n"
     ]
    },
    {
     "name": "stderr",
     "output_type": "stream",
     "text": [
      "\u001b[32m[I 2023-07-19 16:52:38,635]\u001b[0m Trial 358 finished with value: 0.025233186584157616 and parameters: {'max_depth': 10, 'eta': 0.3140392397303868, 'gamma': 0.2207993229980431, 'subsample': 0.700223466915931, 'colsample_bytree': 0.6508208745941871}. Best is trial 57 with value: 0.003554786480584704.\u001b[0m\n"
     ]
    },
    {
     "name": "stdout",
     "output_type": "stream",
     "text": [
      "MAPE: 0.025233186584157616\n"
     ]
    },
    {
     "name": "stderr",
     "output_type": "stream",
     "text": [
      "\u001b[32m[I 2023-07-19 16:52:40,247]\u001b[0m Trial 359 finished with value: 0.05955614903502708 and parameters: {'max_depth': 10, 'eta': 0.24537379546144156, 'gamma': 0.5928345113207024, 'subsample': 0.6578151797543811, 'colsample_bytree': 0.9720301352860217}. Best is trial 57 with value: 0.003554786480584704.\u001b[0m\n"
     ]
    },
    {
     "name": "stdout",
     "output_type": "stream",
     "text": [
      "MAPE: 0.05955614903502708\n"
     ]
    },
    {
     "name": "stderr",
     "output_type": "stream",
     "text": [
      "\u001b[32m[I 2023-07-19 16:52:42,679]\u001b[0m Trial 360 finished with value: 0.013944770561329948 and parameters: {'max_depth': 10, 'eta': 0.665139252061923, 'gamma': 0.029340149712997518, 'subsample': 0.708968871016413, 'colsample_bytree': 0.7063907989051936}. Best is trial 57 with value: 0.003554786480584704.\u001b[0m\n"
     ]
    },
    {
     "name": "stdout",
     "output_type": "stream",
     "text": [
      "MAPE: 0.013944770561329948\n"
     ]
    },
    {
     "name": "stderr",
     "output_type": "stream",
     "text": [
      "\u001b[32m[I 2023-07-19 16:52:44,430]\u001b[0m Trial 361 finished with value: 0.04965631724319804 and parameters: {'max_depth': 10, 'eta': 0.25860759283665996, 'gamma': 0.2774086508090831, 'subsample': 0.6836334417710954, 'colsample_bytree': 0.9410732382577786}. Best is trial 57 with value: 0.003554786480584704.\u001b[0m\n"
     ]
    },
    {
     "name": "stdout",
     "output_type": "stream",
     "text": [
      "MAPE: 0.04965631724319804\n"
     ]
    },
    {
     "name": "stderr",
     "output_type": "stream",
     "text": [
      "\u001b[32m[I 2023-07-19 16:52:46,630]\u001b[0m Trial 362 finished with value: 0.003818081380639272 and parameters: {'max_depth': 10, 'eta': 0.5767141789329405, 'gamma': 0.39762104391809705, 'subsample': 0.6307334782204412, 'colsample_bytree': 0.999030242398153}. Best is trial 57 with value: 0.003554786480584704.\u001b[0m\n"
     ]
    },
    {
     "name": "stdout",
     "output_type": "stream",
     "text": [
      "MAPE: 0.003818081380639272\n"
     ]
    },
    {
     "name": "stderr",
     "output_type": "stream",
     "text": [
      "\u001b[32m[I 2023-07-19 16:52:48,152]\u001b[0m Trial 363 finished with value: 0.030074996442796653 and parameters: {'max_depth': 10, 'eta': 0.6152952404035266, 'gamma': 0.24653349304260153, 'subsample': 0.7197230407501108, 'colsample_bytree': 0.43462279227327527}. Best is trial 57 with value: 0.003554786480584704.\u001b[0m\n"
     ]
    },
    {
     "name": "stdout",
     "output_type": "stream",
     "text": [
      "MAPE: 0.030074996442796653\n"
     ]
    },
    {
     "name": "stderr",
     "output_type": "stream",
     "text": [
      "\u001b[32m[I 2023-07-19 16:52:48,634]\u001b[0m Trial 364 finished with value: 0.022828031385345202 and parameters: {'max_depth': 2, 'eta': 0.6992910085687629, 'gamma': 0.4472384350365107, 'subsample': 0.674092275165413, 'colsample_bytree': 0.758961133391471}. Best is trial 57 with value: 0.003554786480584704.\u001b[0m\n"
     ]
    },
    {
     "name": "stdout",
     "output_type": "stream",
     "text": [
      "MAPE: 0.022828031385345202\n"
     ]
    },
    {
     "name": "stderr",
     "output_type": "stream",
     "text": [
      "\u001b[32m[I 2023-07-19 16:52:50,850]\u001b[0m Trial 365 finished with value: 0.012886746524503 and parameters: {'max_depth': 10, 'eta': 0.5520879131487952, 'gamma': 0.36448290373790915, 'subsample': 0.6948790174575197, 'colsample_bytree': 0.7004716026942198}. Best is trial 57 with value: 0.003554786480584704.\u001b[0m\n"
     ]
    },
    {
     "name": "stdout",
     "output_type": "stream",
     "text": [
      "MAPE: 0.012886746524503\n"
     ]
    },
    {
     "name": "stderr",
     "output_type": "stream",
     "text": [
      "\u001b[32m[I 2023-07-19 16:52:53,141]\u001b[0m Trial 366 finished with value: 0.0038749300838800834 and parameters: {'max_depth': 10, 'eta': 0.6461352570293369, 'gamma': 0.07418012028066436, 'subsample': 0.746225690258668, 'colsample_bytree': 0.9808671148147065}. Best is trial 57 with value: 0.003554786480584704.\u001b[0m\n"
     ]
    },
    {
     "name": "stdout",
     "output_type": "stream",
     "text": [
      "MAPE: 0.0038749300838800834\n"
     ]
    },
    {
     "name": "stderr",
     "output_type": "stream",
     "text": [
      "\u001b[32m[I 2023-07-19 16:52:53,929]\u001b[0m Trial 367 finished with value: 0.01867516348553908 and parameters: {'max_depth': 4, 'eta': 0.4459889724683745, 'gamma': 0.20560231277037375, 'subsample': 0.7288376424626942, 'colsample_bytree': 0.6046688449748382}. Best is trial 57 with value: 0.003554786480584704.\u001b[0m\n"
     ]
    },
    {
     "name": "stdout",
     "output_type": "stream",
     "text": [
      "MAPE: 0.01867516348553908\n"
     ]
    },
    {
     "name": "stderr",
     "output_type": "stream",
     "text": [
      "\u001b[32m[I 2023-07-19 16:52:55,632]\u001b[0m Trial 368 finished with value: 0.04249550872119506 and parameters: {'max_depth': 9, 'eta': 0.26951878511456273, 'gamma': 0.010872717617232922, 'subsample': 0.7031229682024358, 'colsample_bytree': 0.8873677803637584}. Best is trial 57 with value: 0.003554786480584704.\u001b[0m\n"
     ]
    },
    {
     "name": "stdout",
     "output_type": "stream",
     "text": [
      "MAPE: 0.04249550872119506\n"
     ]
    },
    {
     "name": "stderr",
     "output_type": "stream",
     "text": [
      "\u001b[32m[I 2023-07-19 16:52:56,963]\u001b[0m Trial 369 finished with value: 0.0072133340757795485 and parameters: {'max_depth': 6, 'eta': 0.7863425967330271, 'gamma': 0.5120184320237547, 'subsample': 0.495624856560383, 'colsample_bytree': 0.9590300259642766}. Best is trial 57 with value: 0.003554786480584704.\u001b[0m\n"
     ]
    },
    {
     "name": "stdout",
     "output_type": "stream",
     "text": [
      "MAPE: 0.0072133340757795485\n"
     ]
    },
    {
     "name": "stderr",
     "output_type": "stream",
     "text": [
      "\u001b[32m[I 2023-07-19 16:52:58,526]\u001b[0m Trial 370 finished with value: 0.007025465549825873 and parameters: {'max_depth': 7, 'eta': 0.5760353668959797, 'gamma': 0.30028954637194505, 'subsample': 0.6664730451896854, 'colsample_bytree': 0.9242148179305011}. Best is trial 57 with value: 0.003554786480584704.\u001b[0m\n"
     ]
    },
    {
     "name": "stdout",
     "output_type": "stream",
     "text": [
      "MAPE: 0.007025465549825873\n"
     ]
    },
    {
     "name": "stderr",
     "output_type": "stream",
     "text": [
      "\u001b[32m[I 2023-07-19 16:53:00,240]\u001b[0m Trial 371 finished with value: 0.020893174052990304 and parameters: {'max_depth': 10, 'eta': 0.5288048383698671, 'gamma': 0.9005636147876559, 'subsample': 0.7175957800861068, 'colsample_bytree': 0.5341893609958531}. Best is trial 57 with value: 0.003554786480584704.\u001b[0m\n"
     ]
    },
    {
     "name": "stdout",
     "output_type": "stream",
     "text": [
      "MAPE: 0.020893174052990304\n"
     ]
    },
    {
     "name": "stderr",
     "output_type": "stream",
     "text": [
      "\u001b[32m[I 2023-07-19 16:53:00,903]\u001b[0m Trial 372 finished with value: 0.018731375751721794 and parameters: {'max_depth': 3, 'eta': 0.6850121035236592, 'gamma': 0.42170061091035055, 'subsample': 0.6878445732409947, 'colsample_bytree': 0.669859858811398}. Best is trial 57 with value: 0.003554786480584704.\u001b[0m\n"
     ]
    },
    {
     "name": "stdout",
     "output_type": "stream",
     "text": [
      "MAPE: 0.018731375751721794\n"
     ]
    },
    {
     "name": "stderr",
     "output_type": "stream",
     "text": [
      "\u001b[32m[I 2023-07-19 16:53:02,375]\u001b[0m Trial 373 finished with value: 0.2697833896652485 and parameters: {'max_depth': 10, 'eta': 0.12276426677954001, 'gamma': 0.08440054984001358, 'subsample': 0.7380164244292562, 'colsample_bytree': 0.9828200697126779}. Best is trial 57 with value: 0.003554786480584704.\u001b[0m\n"
     ]
    },
    {
     "name": "stdout",
     "output_type": "stream",
     "text": [
      "MAPE: 0.2697833896652485\n"
     ]
    },
    {
     "name": "stderr",
     "output_type": "stream",
     "text": [
      "\u001b[32m[I 2023-07-19 16:53:03,735]\u001b[0m Trial 374 finished with value: 0.6633225833443884 and parameters: {'max_depth': 10, 'eta': 0.04021750754740362, 'gamma': 0.3379225732290306, 'subsample': 0.7561941904756793, 'colsample_bytree': 0.9997682291093911}. Best is trial 57 with value: 0.003554786480584704.\u001b[0m\n"
     ]
    },
    {
     "name": "stdout",
     "output_type": "stream",
     "text": [
      "MAPE: 0.6633225833443884\n"
     ]
    },
    {
     "name": "stderr",
     "output_type": "stream",
     "text": [
      "\u001b[32m[I 2023-07-19 16:53:05,460]\u001b[0m Trial 375 finished with value: 0.00395717229773976 and parameters: {'max_depth': 10, 'eta': 0.4876950599447787, 'gamma': 0.3822520118018103, 'subsample': 0.3450565569247501, 'colsample_bytree': 0.9572515144376209}. Best is trial 57 with value: 0.003554786480584704.\u001b[0m\n"
     ]
    },
    {
     "name": "stdout",
     "output_type": "stream",
     "text": [
      "MAPE: 0.00395717229773976\n"
     ]
    },
    {
     "name": "stderr",
     "output_type": "stream",
     "text": [
      "\u001b[32m[I 2023-07-19 16:53:07,630]\u001b[0m Trial 376 finished with value: 0.01259095761647822 and parameters: {'max_depth': 10, 'eta': 0.5845182411124824, 'gamma': 0.45839809043289226, 'subsample': 0.6506742437352248, 'colsample_bytree': 0.6299782388086239}. Best is trial 57 with value: 0.003554786480584704.\u001b[0m\n"
     ]
    },
    {
     "name": "stdout",
     "output_type": "stream",
     "text": [
      "MAPE: 0.01259095761647822\n"
     ]
    },
    {
     "name": "stderr",
     "output_type": "stream",
     "text": [
      "\u001b[32m[I 2023-07-19 16:53:08,943]\u001b[0m Trial 377 finished with value: 0.057215452796800174 and parameters: {'max_depth': 10, 'eta': 0.7269117306701461, 'gamma': 0.27016621608192315, 'subsample': 0.7077143451468015, 'colsample_bytree': 0.22557306095099228}. Best is trial 57 with value: 0.003554786480584704.\u001b[0m\n"
     ]
    },
    {
     "name": "stdout",
     "output_type": "stream",
     "text": [
      "MAPE: 0.057215452796800174\n"
     ]
    },
    {
     "name": "stderr",
     "output_type": "stream",
     "text": [
      "\u001b[32m[I 2023-07-19 16:53:11,284]\u001b[0m Trial 378 finished with value: 0.0038405273468962746 and parameters: {'max_depth': 10, 'eta': 0.6305802340288732, 'gamma': 0.6280899131463228, 'subsample': 0.6825704149108752, 'colsample_bytree': 0.9713004619388867}. Best is trial 57 with value: 0.003554786480584704.\u001b[0m\n"
     ]
    },
    {
     "name": "stdout",
     "output_type": "stream",
     "text": [
      "MAPE: 0.0038405273468962746\n"
     ]
    },
    {
     "name": "stderr",
     "output_type": "stream",
     "text": [
      "\u001b[32m[I 2023-07-19 16:53:13,106]\u001b[0m Trial 379 finished with value: 0.02644779390626577 and parameters: {'max_depth': 10, 'eta': 0.9076742800193616, 'gamma': 0.2220330762838364, 'subsample': 0.5979208345147202, 'colsample_bytree': 0.5727215664442487}. Best is trial 57 with value: 0.003554786480584704.\u001b[0m\n"
     ]
    },
    {
     "name": "stdout",
     "output_type": "stream",
     "text": [
      "MAPE: 0.02644779390626577\n"
     ]
    },
    {
     "name": "stderr",
     "output_type": "stream",
     "text": [
      "\u001b[32m[I 2023-07-19 16:53:15,104]\u001b[0m Trial 380 finished with value: 0.007472595856355065 and parameters: {'max_depth': 9, 'eta': 0.3992273043739672, 'gamma': 0.30948320855307704, 'subsample': 0.7221111959244881, 'colsample_bytree': 0.9378136580339542}. Best is trial 57 with value: 0.003554786480584704.\u001b[0m\n"
     ]
    },
    {
     "name": "stdout",
     "output_type": "stream",
     "text": [
      "MAPE: 0.007472595856355065\n"
     ]
    },
    {
     "name": "stderr",
     "output_type": "stream",
     "text": [
      "\u001b[32m[I 2023-07-19 16:53:17,391]\u001b[0m Trial 381 finished with value: 0.0037403259196837047 and parameters: {'max_depth': 10, 'eta': 0.5406703640490433, 'gamma': 0.24669775454880852, 'subsample': 0.7896566308286683, 'colsample_bytree': 0.9999392689546788}. Best is trial 57 with value: 0.003554786480584704.\u001b[0m\n"
     ]
    },
    {
     "name": "stdout",
     "output_type": "stream",
     "text": [
      "MAPE: 0.0037403259196837047\n"
     ]
    },
    {
     "name": "stderr",
     "output_type": "stream",
     "text": [
      "\u001b[32m[I 2023-07-19 16:53:19,564]\u001b[0m Trial 382 finished with value: 0.0038931045033705823 and parameters: {'max_depth': 10, 'eta': 0.46799946966749484, 'gamma': 0.5637802681709525, 'subsample': 0.6983436286436459, 'colsample_bytree': 0.9698723234942797}. Best is trial 57 with value: 0.003554786480584704.\u001b[0m\n"
     ]
    },
    {
     "name": "stdout",
     "output_type": "stream",
     "text": [
      "MAPE: 0.0038931045033705823\n"
     ]
    },
    {
     "name": "stderr",
     "output_type": "stream",
     "text": [
      "\u001b[32m[I 2023-07-19 16:53:21,902]\u001b[0m Trial 383 finished with value: 0.003688274472909294 and parameters: {'max_depth': 10, 'eta': 0.6077682260875489, 'gamma': 0.40698779913281985, 'subsample': 0.7512912795736112, 'colsample_bytree': 0.9841345963658986}. Best is trial 57 with value: 0.003554786480584704.\u001b[0m\n"
     ]
    },
    {
     "name": "stdout",
     "output_type": "stream",
     "text": [
      "MAPE: 0.003688274472909294\n"
     ]
    },
    {
     "name": "stderr",
     "output_type": "stream",
     "text": [
      "\u001b[32m[I 2023-07-19 16:53:24,181]\u001b[0m Trial 384 finished with value: 0.003763758604849863 and parameters: {'max_depth': 10, 'eta': 0.5934546617729916, 'gamma': 0.4012990371235941, 'subsample': 0.665706836535441, 'colsample_bytree': 0.9523209158941499}. Best is trial 57 with value: 0.003554786480584704.\u001b[0m\n"
     ]
    },
    {
     "name": "stdout",
     "output_type": "stream",
     "text": [
      "MAPE: 0.003763758604849863\n"
     ]
    },
    {
     "name": "stderr",
     "output_type": "stream",
     "text": [
      "\u001b[32m[I 2023-07-19 16:53:26,091]\u001b[0m Trial 385 finished with value: 0.0273207609523342 and parameters: {'max_depth': 10, 'eta': 0.3009037979814756, 'gamma': 0.35839150349208343, 'subsample': 0.7459128114625424, 'colsample_bytree': 0.9143280673587979}. Best is trial 57 with value: 0.003554786480584704.\u001b[0m\n"
     ]
    },
    {
     "name": "stdout",
     "output_type": "stream",
     "text": [
      "MAPE: 0.0273207609523342\n"
     ]
    },
    {
     "name": "stderr",
     "output_type": "stream",
     "text": [
      "\u001b[32m[I 2023-07-19 16:53:28,285]\u001b[0m Trial 386 finished with value: 0.012221958051467365 and parameters: {'max_depth': 10, 'eta': 0.5291414309919101, 'gamma': 0.46439729213747105, 'subsample': 0.6301349188675831, 'colsample_bytree': 0.6437344130069172}. Best is trial 57 with value: 0.003554786480584704.\u001b[0m\n"
     ]
    },
    {
     "name": "stdout",
     "output_type": "stream",
     "text": [
      "MAPE: 0.012221958051467365\n"
     ]
    },
    {
     "name": "stderr",
     "output_type": "stream",
     "text": [
      "\u001b[32m[I 2023-07-19 16:53:29,347]\u001b[0m Trial 387 finished with value: 0.004282573458629502 and parameters: {'max_depth': 9, 'eta': 0.6405210040101121, 'gamma': 0.521515849405351, 'subsample': 0.11647728058092105, 'colsample_bytree': 0.9838476895487436}. Best is trial 57 with value: 0.003554786480584704.\u001b[0m\n"
     ]
    },
    {
     "name": "stdout",
     "output_type": "stream",
     "text": [
      "MAPE: 0.004282573458629502\n"
     ]
    },
    {
     "name": "stderr",
     "output_type": "stream",
     "text": [
      "\u001b[32m[I 2023-07-19 16:53:31,614]\u001b[0m Trial 388 finished with value: 0.00546987155208219 and parameters: {'max_depth': 10, 'eta': 0.5656669487921036, 'gamma': 0.4334705611655455, 'subsample': 0.7273402966368389, 'colsample_bytree': 0.9370629472134716}. Best is trial 57 with value: 0.003554786480584704.\u001b[0m\n"
     ]
    },
    {
     "name": "stdout",
     "output_type": "stream",
     "text": [
      "MAPE: 0.00546987155208219\n"
     ]
    },
    {
     "name": "stderr",
     "output_type": "stream",
     "text": [
      "\u001b[32m[I 2023-07-19 16:53:33,273]\u001b[0m Trial 389 finished with value: 0.13507372915519303 and parameters: {'max_depth': 10, 'eta': 0.17949372895036467, 'gamma': 0.3190385619372065, 'subsample': 0.5834279401207487, 'colsample_bytree': 0.6829926667138944}. Best is trial 57 with value: 0.003554786480584704.\u001b[0m\n"
     ]
    },
    {
     "name": "stdout",
     "output_type": "stream",
     "text": [
      "MAPE: 0.13507372915519303\n"
     ]
    },
    {
     "name": "stderr",
     "output_type": "stream",
     "text": [
      "\u001b[32m[I 2023-07-19 16:53:35,430]\u001b[0m Trial 390 finished with value: 0.003802443512713396 and parameters: {'max_depth': 10, 'eta': 0.491062879667512, 'gamma': 0.38589603339489364, 'subsample': 0.7586726392298715, 'colsample_bytree': 0.9686975200504285}. Best is trial 57 with value: 0.003554786480584704.\u001b[0m\n"
     ]
    },
    {
     "name": "stdout",
     "output_type": "stream",
     "text": [
      "MAPE: 0.003802443512713396\n"
     ]
    },
    {
     "name": "stderr",
     "output_type": "stream",
     "text": [
      "\u001b[32m[I 2023-07-19 16:53:37,895]\u001b[0m Trial 391 finished with value: 0.01425164869606467 and parameters: {'max_depth': 10, 'eta': 0.7170684884003861, 'gamma': 0.34663386440417315, 'subsample': 0.7090379461079578, 'colsample_bytree': 0.8407830305664852}. Best is trial 57 with value: 0.003554786480584704.\u001b[0m\n"
     ]
    },
    {
     "name": "stdout",
     "output_type": "stream",
     "text": [
      "MAPE: 0.01425164869606467\n"
     ]
    },
    {
     "name": "stderr",
     "output_type": "stream",
     "text": [
      "\u001b[32m[I 2023-07-19 16:53:39,284]\u001b[0m Trial 392 finished with value: 0.027920506259873 and parameters: {'max_depth': 10, 'eta': 0.44312008576704187, 'gamma': 0.48500373497914967, 'subsample': 0.5654960272769275, 'colsample_bytree': 0.3933540866719998}. Best is trial 57 with value: 0.003554786480584704.\u001b[0m\n"
     ]
    },
    {
     "name": "stdout",
     "output_type": "stream",
     "text": [
      "MAPE: 0.027920506259873\n"
     ]
    },
    {
     "name": "stderr",
     "output_type": "stream",
     "text": [
      "\u001b[32m[I 2023-07-19 16:53:41,121]\u001b[0m Trial 393 finished with value: 0.018701440316547177 and parameters: {'max_depth': 10, 'eta': 0.3272445854872753, 'gamma': 0.42055755902242475, 'subsample': 0.6851914276557959, 'colsample_bytree': 0.950311446104449}. Best is trial 57 with value: 0.003554786480584704.\u001b[0m\n"
     ]
    },
    {
     "name": "stdout",
     "output_type": "stream",
     "text": [
      "MAPE: 0.018701440316547177\n"
     ]
    },
    {
     "name": "stderr",
     "output_type": "stream",
     "text": [
      "\u001b[32m[I 2023-07-19 16:53:43,162]\u001b[0m Trial 394 finished with value: 0.003769019060315698 and parameters: {'max_depth': 10, 'eta': 0.6055424274925807, 'gamma': 0.28378545707897274, 'subsample': 0.4276367018501227, 'colsample_bytree': 0.9859636518122639}. Best is trial 57 with value: 0.003554786480584704.\u001b[0m\n"
     ]
    },
    {
     "name": "stdout",
     "output_type": "stream",
     "text": [
      "MAPE: 0.003769019060315698\n"
     ]
    },
    {
     "name": "stderr",
     "output_type": "stream",
     "text": [
      "\u001b[32m[I 2023-07-19 16:53:45,373]\u001b[0m Trial 395 finished with value: 0.01312516691139919 and parameters: {'max_depth': 10, 'eta': 0.5119556969524546, 'gamma': 0.6620598717583601, 'subsample': 0.6151945729949299, 'colsample_bytree': 0.723903630116542}. Best is trial 57 with value: 0.003554786480584704.\u001b[0m\n"
     ]
    },
    {
     "name": "stdout",
     "output_type": "stream",
     "text": [
      "MAPE: 0.01312516691139919\n"
     ]
    },
    {
     "name": "stderr",
     "output_type": "stream",
     "text": [
      "\u001b[32m[I 2023-07-19 16:53:46,885]\u001b[0m Trial 396 finished with value: 0.0438765869279806 and parameters: {'max_depth': 10, 'eta': 0.789300652069348, 'gamma': 0.3776343644212272, 'subsample': 0.736286369346137, 'colsample_bytree': 0.35389155203772915}. Best is trial 57 with value: 0.003554786480584704.\u001b[0m\n"
     ]
    },
    {
     "name": "stdout",
     "output_type": "stream",
     "text": [
      "MAPE: 0.0438765869279806\n"
     ]
    },
    {
     "name": "stderr",
     "output_type": "stream",
     "text": [
      "\u001b[32m[I 2023-07-19 16:53:49,320]\u001b[0m Trial 397 finished with value: 0.014758726367703628 and parameters: {'max_depth': 10, 'eta': 0.681961321572972, 'gamma': 0.5185188978405689, 'subsample': 0.6520874650258071, 'colsample_bytree': 0.800487931754621}. Best is trial 57 with value: 0.003554786480584704.\u001b[0m\n"
     ]
    },
    {
     "name": "stdout",
     "output_type": "stream",
     "text": [
      "MAPE: 0.014758726367703628\n"
     ]
    },
    {
     "name": "stderr",
     "output_type": "stream",
     "text": [
      "\u001b[32m[I 2023-07-19 16:53:51,584]\u001b[0m Trial 398 finished with value: 0.003918215603102979 and parameters: {'max_depth': 10, 'eta': 0.5668979929959, 'gamma': 0.3354090840524804, 'subsample': 0.8229419359292933, 'colsample_bytree': 0.9683530400020802}. Best is trial 57 with value: 0.003554786480584704.\u001b[0m\n"
     ]
    },
    {
     "name": "stdout",
     "output_type": "stream",
     "text": [
      "MAPE: 0.003918215603102979\n"
     ]
    },
    {
     "name": "stderr",
     "output_type": "stream",
     "text": [
      "\u001b[32m[I 2023-07-19 16:53:53,867]\u001b[0m Trial 399 finished with value: 0.004179074628464377 and parameters: {'max_depth': 10, 'eta': 0.6289305280228987, 'gamma': 0.7504321265213533, 'subsample': 0.6969900919753836, 'colsample_bytree': 0.9836215786949067}. Best is trial 57 with value: 0.003554786480584704.\u001b[0m\n"
     ]
    },
    {
     "name": "stdout",
     "output_type": "stream",
     "text": [
      "MAPE: 0.004179074628464377\n"
     ]
    },
    {
     "name": "stderr",
     "output_type": "stream",
     "text": [
      "\u001b[32m[I 2023-07-19 16:53:56,086]\u001b[0m Trial 400 finished with value: 0.006284992850469057 and parameters: {'max_depth': 10, 'eta': 0.41563433446586406, 'gamma': 0.44335866445758765, 'subsample': 0.7210531345374583, 'colsample_bytree': 0.8976620597430365}. Best is trial 57 with value: 0.003554786480584704.\u001b[0m\n"
     ]
    },
    {
     "name": "stdout",
     "output_type": "stream",
     "text": [
      "MAPE: 0.006284992850469057\n"
     ]
    },
    {
     "name": "stderr",
     "output_type": "stream",
     "text": [
      "\u001b[32m[I 2023-07-19 16:53:58,274]\u001b[0m Trial 401 finished with value: 0.005460512907472259 and parameters: {'max_depth': 9, 'eta': 0.5107788728611725, 'gamma': 0.3985605669771965, 'subsample': 0.9997145800178094, 'colsample_bytree': 0.9315290655146512}. Best is trial 57 with value: 0.003554786480584704.\u001b[0m\n"
     ]
    },
    {
     "name": "stdout",
     "output_type": "stream",
     "text": [
      "MAPE: 0.005460512907472259\n"
     ]
    },
    {
     "name": "stderr",
     "output_type": "stream",
     "text": [
      "\u001b[32m[I 2023-07-19 16:53:59,962]\u001b[0m Trial 402 finished with value: 0.022592008644978716 and parameters: {'max_depth': 10, 'eta': 0.5678809554662723, 'gamma': 0.26659247629553334, 'subsample': 0.5219071548445312, 'colsample_bytree': 0.5099750304809035}. Best is trial 57 with value: 0.003554786480584704.\u001b[0m\n"
     ]
    },
    {
     "name": "stdout",
     "output_type": "stream",
     "text": [
      "MAPE: 0.022592008644978716\n"
     ]
    },
    {
     "name": "stderr",
     "output_type": "stream",
     "text": [
      "\u001b[32m[I 2023-07-19 16:54:02,467]\u001b[0m Trial 403 finished with value: 0.013347297855706037 and parameters: {'max_depth': 10, 'eta': 0.6617291531656202, 'gamma': 0.5730994773867063, 'subsample': 0.770035406123395, 'colsample_bytree': 0.7505420437113424}. Best is trial 57 with value: 0.003554786480584704.\u001b[0m\n"
     ]
    },
    {
     "name": "stdout",
     "output_type": "stream",
     "text": [
      "MAPE: 0.013347297855706037\n"
     ]
    },
    {
     "name": "stderr",
     "output_type": "stream",
     "text": [
      "\u001b[32m[I 2023-07-19 16:54:03,980]\u001b[0m Trial 404 finished with value: 0.376066626198511 and parameters: {'max_depth': 10, 'eta': 0.09285609335941608, 'gamma': 0.4761423036371214, 'subsample': 0.6723120771103143, 'colsample_bytree': 0.7296799868912708}. Best is trial 57 with value: 0.003554786480584704.\u001b[0m\n"
     ]
    },
    {
     "name": "stdout",
     "output_type": "stream",
     "text": [
      "MAPE: 0.376066626198511\n"
     ]
    },
    {
     "name": "stderr",
     "output_type": "stream",
     "text": [
      "\u001b[32m[I 2023-07-19 16:54:06,185]\u001b[0m Trial 405 finished with value: 0.003832529378653916 and parameters: {'max_depth': 10, 'eta': 0.4739186329218799, 'gamma': 0.3571480843146887, 'subsample': 0.7092753958445946, 'colsample_bytree': 0.955363044030149}. Best is trial 57 with value: 0.003554786480584704.\u001b[0m\n"
     ]
    },
    {
     "name": "stdout",
     "output_type": "stream",
     "text": [
      "MAPE: 0.003832529378653916\n"
     ]
    },
    {
     "name": "stderr",
     "output_type": "stream",
     "text": [
      "\u001b[32m[I 2023-07-19 16:54:08,664]\u001b[0m Trial 406 finished with value: 0.0039952665314478605 and parameters: {'max_depth': 10, 'eta': 0.8297408116413574, 'gamma': 0.29206711432455257, 'subsample': 0.7454163581686379, 'colsample_bytree': 0.9847610009419164}. Best is trial 57 with value: 0.003554786480584704.\u001b[0m\n"
     ]
    },
    {
     "name": "stdout",
     "output_type": "stream",
     "text": [
      "MAPE: 0.0039952665314478605\n"
     ]
    },
    {
     "name": "stderr",
     "output_type": "stream",
     "text": [
      "\u001b[32m[I 2023-07-19 16:54:11,104]\u001b[0m Trial 407 finished with value: 0.0036287441142460893 and parameters: {'max_depth': 10, 'eta': 0.6120369767217521, 'gamma': 0.41228039002598776, 'subsample': 0.5616638268012829, 'colsample_bytree': 0.9994591820039149}. Best is trial 57 with value: 0.003554786480584704.\u001b[0m\n"
     ]
    },
    {
     "name": "stdout",
     "output_type": "stream",
     "text": [
      "MAPE: 0.0036287441142460893\n"
     ]
    },
    {
     "name": "stderr",
     "output_type": "stream",
     "text": [
      "\u001b[32m[I 2023-07-19 16:54:12,514]\u001b[0m Trial 408 finished with value: 0.18128372805003745 and parameters: {'max_depth': 10, 'eta': 0.15104561336711253, 'gamma': 0.42474356133144353, 'subsample': 0.6416453145032733, 'colsample_bytree': 0.45978958572778517}. Best is trial 57 with value: 0.003554786480584704.\u001b[0m\n"
     ]
    },
    {
     "name": "stdout",
     "output_type": "stream",
     "text": [
      "MAPE: 0.18128372805003745\n"
     ]
    },
    {
     "name": "stderr",
     "output_type": "stream",
     "text": [
      "\u001b[32m[I 2023-07-19 16:54:14,449]\u001b[0m Trial 409 finished with value: 0.04649880112370334 and parameters: {'max_depth': 9, 'eta': 0.26259229401687123, 'gamma': 0.06515997213105305, 'subsample': 0.6033239236226077, 'colsample_bytree': 0.6929423142842472}. Best is trial 57 with value: 0.003554786480584704.\u001b[0m\n"
     ]
    },
    {
     "name": "stdout",
     "output_type": "stream",
     "text": [
      "MAPE: 0.04649880112370334\n"
     ]
    },
    {
     "name": "stderr",
     "output_type": "stream",
     "text": [
      "\u001b[32m[I 2023-07-19 16:54:15,868]\u001b[0m Trial 410 finished with value: 0.11073085353535325 and parameters: {'max_depth': 10, 'eta': 0.1972879777163131, 'gamma': 0.2392835278107036, 'subsample': 0.49521468986259054, 'colsample_bytree': 0.9646248507049334}. Best is trial 57 with value: 0.003554786480584704.\u001b[0m\n"
     ]
    },
    {
     "name": "stdout",
     "output_type": "stream",
     "text": [
      "MAPE: 0.11073085353535325\n"
     ]
    },
    {
     "name": "stderr",
     "output_type": "stream",
     "text": [
      "\u001b[32m[I 2023-07-19 16:54:17,353]\u001b[0m Trial 411 finished with value: 0.31093751986901363 and parameters: {'max_depth': 10, 'eta': 0.10976096187709405, 'gamma': 0.4746255721241397, 'subsample': 0.5712010440994273, 'colsample_bytree': 0.7728932821814577}. Best is trial 57 with value: 0.003554786480584704.\u001b[0m\n"
     ]
    },
    {
     "name": "stdout",
     "output_type": "stream",
     "text": [
      "MAPE: 0.31093751986901363\n"
     ]
    },
    {
     "name": "stderr",
     "output_type": "stream",
     "text": [
      "\u001b[32m[I 2023-07-19 16:54:19,209]\u001b[0m Trial 412 finished with value: 0.006785828022242381 and parameters: {'max_depth': 8, 'eta': 0.6981594125416364, 'gamma': 0.40186487846970714, 'subsample': 0.5740391315729101, 'colsample_bytree': 0.9444287872453999}. Best is trial 57 with value: 0.003554786480584704.\u001b[0m\n"
     ]
    },
    {
     "name": "stdout",
     "output_type": "stream",
     "text": [
      "MAPE: 0.006785828022242381\n"
     ]
    },
    {
     "name": "stderr",
     "output_type": "stream",
     "text": [
      "\u001b[32m[I 2023-07-19 16:54:21,446]\u001b[0m Trial 413 finished with value: 0.003684440541572229 and parameters: {'max_depth': 10, 'eta': 0.6172013283753243, 'gamma': 0.4352450264455954, 'subsample': 0.46331190302936953, 'colsample_bytree': 0.971073563610925}. Best is trial 57 with value: 0.003554786480584704.\u001b[0m\n"
     ]
    },
    {
     "name": "stdout",
     "output_type": "stream",
     "text": [
      "MAPE: 0.003684440541572229\n"
     ]
    },
    {
     "name": "stderr",
     "output_type": "stream",
     "text": [
      "\u001b[32m[I 2023-07-19 16:54:23,262]\u001b[0m Trial 414 finished with value: 0.02501131953218368 and parameters: {'max_depth': 10, 'eta': 0.7580602361600087, 'gamma': 0.44621134747494456, 'subsample': 0.538809254252327, 'colsample_bytree': 0.511627072730967}. Best is trial 57 with value: 0.003554786480584704.\u001b[0m\n"
     ]
    },
    {
     "name": "stdout",
     "output_type": "stream",
     "text": [
      "MAPE: 0.02501131953218368\n"
     ]
    },
    {
     "name": "stderr",
     "output_type": "stream",
     "text": [
      "\u001b[32m[I 2023-07-19 16:54:25,618]\u001b[0m Trial 415 finished with value: 0.003793052262137628 and parameters: {'max_depth': 10, 'eta': 0.6316988545098726, 'gamma': 0.5356736052821757, 'subsample': 0.5413682491670925, 'colsample_bytree': 0.9834997020335903}. Best is trial 57 with value: 0.003554786480584704.\u001b[0m\n"
     ]
    },
    {
     "name": "stdout",
     "output_type": "stream",
     "text": [
      "MAPE: 0.003793052262137628\n"
     ]
    },
    {
     "name": "stderr",
     "output_type": "stream",
     "text": [
      "\u001b[32m[I 2023-07-19 16:54:27,270]\u001b[0m Trial 416 finished with value: 0.06804254194219642 and parameters: {'max_depth': 10, 'eta': 0.23527095563190625, 'gamma': 0.5031327179785342, 'subsample': 0.5125922008282437, 'colsample_bytree': 0.9676494770570464}. Best is trial 57 with value: 0.003554786480584704.\u001b[0m\n"
     ]
    },
    {
     "name": "stdout",
     "output_type": "stream",
     "text": [
      "MAPE: 0.06804254194219642\n"
     ]
    },
    {
     "name": "stderr",
     "output_type": "stream",
     "text": [
      "\u001b[32m[I 2023-07-19 16:54:28,505]\u001b[0m Trial 417 finished with value: 0.5003829063433076 and parameters: {'max_depth': 10, 'eta': 0.06684296073507566, 'gamma': 0.4154297107287438, 'subsample': 0.4467298661270833, 'colsample_bytree': 0.8609574551740492}. Best is trial 57 with value: 0.003554786480584704.\u001b[0m\n"
     ]
    },
    {
     "name": "stdout",
     "output_type": "stream",
     "text": [
      "MAPE: 0.5003829063433076\n"
     ]
    },
    {
     "name": "stderr",
     "output_type": "stream",
     "text": [
      "\u001b[32m[I 2023-07-19 16:54:30,319]\u001b[0m Trial 418 finished with value: 0.02596593549247157 and parameters: {'max_depth': 10, 'eta': 0.9808076545986107, 'gamma': 0.3244887075881637, 'subsample': 0.558571656737712, 'colsample_bytree': 0.5627504897581028}. Best is trial 57 with value: 0.003554786480584704.\u001b[0m\n"
     ]
    },
    {
     "name": "stdout",
     "output_type": "stream",
     "text": [
      "MAPE: 0.02596593549247157\n"
     ]
    },
    {
     "name": "stderr",
     "output_type": "stream",
     "text": [
      "\u001b[32m[I 2023-07-19 16:54:32,689]\u001b[0m Trial 419 finished with value: 0.0037588881879754114 and parameters: {'max_depth': 10, 'eta': 0.6197708292429619, 'gamma': 0.701413987286027, 'subsample': 0.7331701535444967, 'colsample_bytree': 0.9863220329783665}. Best is trial 57 with value: 0.003554786480584704.\u001b[0m\n"
     ]
    },
    {
     "name": "stdout",
     "output_type": "stream",
     "text": [
      "MAPE: 0.0037588881879754114\n"
     ]
    },
    {
     "name": "stderr",
     "output_type": "stream",
     "text": [
      "\u001b[32m[I 2023-07-19 16:54:35,072]\u001b[0m Trial 420 finished with value: 0.003925270733294174 and parameters: {'max_depth': 10, 'eta': 0.7190759042393972, 'gamma': 0.4513758134030129, 'subsample': 0.7559854339653579, 'colsample_bytree': 0.9999246303139834}. Best is trial 57 with value: 0.003554786480584704.\u001b[0m\n"
     ]
    },
    {
     "name": "stdout",
     "output_type": "stream",
     "text": [
      "MAPE: 0.003925270733294174\n"
     ]
    },
    {
     "name": "stderr",
     "output_type": "stream",
     "text": [
      "\u001b[32m[I 2023-07-19 16:54:37,226]\u001b[0m Trial 421 finished with value: 0.004979358898292038 and parameters: {'max_depth': 10, 'eta': 0.5326028463103623, 'gamma': 0.5874195859413155, 'subsample': 0.48353962662097716, 'colsample_bytree': 0.9238404885756075}. Best is trial 57 with value: 0.003554786480584704.\u001b[0m\n"
     ]
    },
    {
     "name": "stdout",
     "output_type": "stream",
     "text": [
      "MAPE: 0.004979358898292038\n"
     ]
    },
    {
     "name": "stderr",
     "output_type": "stream",
     "text": [
      "\u001b[32m[I 2023-07-19 16:54:38,799]\u001b[0m Trial 422 finished with value: 0.08149088076287081 and parameters: {'max_depth': 10, 'eta': 0.22148306143117907, 'gamma': 0.38190406561585455, 'subsample': 0.6190684931994757, 'colsample_bytree': 0.9504537395021962}. Best is trial 57 with value: 0.003554786480584704.\u001b[0m\n"
     ]
    },
    {
     "name": "stdout",
     "output_type": "stream",
     "text": [
      "MAPE: 0.08149088076287081\n"
     ]
    },
    {
     "name": "stderr",
     "output_type": "stream",
     "text": [
      "\u001b[32m[I 2023-07-19 16:54:40,995]\u001b[0m Trial 423 finished with value: 0.013775550325066027 and parameters: {'max_depth': 10, 'eta': 0.6049903505682357, 'gamma': 0.4909182985316509, 'subsample': 0.7181809703434686, 'colsample_bytree': 0.6112980780811599}. Best is trial 57 with value: 0.003554786480584704.\u001b[0m\n"
     ]
    },
    {
     "name": "stdout",
     "output_type": "stream",
     "text": [
      "MAPE: 0.013775550325066027\n"
     ]
    },
    {
     "name": "stderr",
     "output_type": "stream",
     "text": [
      "\u001b[32m[I 2023-07-19 16:54:42,619]\u001b[0m Trial 424 finished with value: 0.03129049050508993 and parameters: {'max_depth': 10, 'eta': 0.2920564727568303, 'gamma': 0.42594123765995495, 'subsample': 0.468142830282601, 'colsample_bytree': 0.9716801136100994}. Best is trial 57 with value: 0.003554786480584704.\u001b[0m\n"
     ]
    },
    {
     "name": "stdout",
     "output_type": "stream",
     "text": [
      "MAPE: 0.03129049050508993\n"
     ]
    },
    {
     "name": "stderr",
     "output_type": "stream",
     "text": [
      "\u001b[32m[I 2023-07-19 16:54:44,790]\u001b[0m Trial 425 finished with value: 0.016148691612287398 and parameters: {'max_depth': 10, 'eta': 0.6731170045376503, 'gamma': 0.3608415232759133, 'subsample': 0.5485822349226983, 'colsample_bytree': 0.5912615175872928}. Best is trial 57 with value: 0.003554786480584704.\u001b[0m\n"
     ]
    },
    {
     "name": "stdout",
     "output_type": "stream",
     "text": [
      "MAPE: 0.016148691612287398\n"
     ]
    },
    {
     "name": "stderr",
     "output_type": "stream",
     "text": [
      "\u001b[32m[I 2023-07-19 16:54:46,317]\u001b[0m Trial 426 finished with value: 0.16849142456286761 and parameters: {'max_depth': 9, 'eta': 0.1621521839867081, 'gamma': 0.3944149216855052, 'subsample': 0.48961051654983234, 'colsample_bytree': 0.7206825365875784}. Best is trial 57 with value: 0.003554786480584704.\u001b[0m\n"
     ]
    },
    {
     "name": "stdout",
     "output_type": "stream",
     "text": [
      "MAPE: 0.16849142456286761\n"
     ]
    },
    {
     "name": "stderr",
     "output_type": "stream",
     "text": [
      "\u001b[32m[I 2023-07-19 16:54:47,259]\u001b[0m Trial 427 finished with value: 0.013213699347508765 and parameters: {'max_depth': 5, 'eta': 0.3521237888635882, 'gamma': 0.4601192705828627, 'subsample': 0.3855632771661232, 'colsample_bytree': 0.9548294260405275}. Best is trial 57 with value: 0.003554786480584704.\u001b[0m\n"
     ]
    },
    {
     "name": "stdout",
     "output_type": "stream",
     "text": [
      "MAPE: 0.013213699347508765\n"
     ]
    },
    {
     "name": "stderr",
     "output_type": "stream",
     "text": [
      "\u001b[32m[I 2023-07-19 16:54:48,690]\u001b[0m Trial 428 finished with value: 0.014240492139279116 and parameters: {'max_depth': 7, 'eta': 0.5210656862519925, 'gamma': 0.3169724173989155, 'subsample': 0.4705900480926123, 'colsample_bytree': 0.6549475955126791}. Best is trial 57 with value: 0.003554786480584704.\u001b[0m\n"
     ]
    },
    {
     "name": "stdout",
     "output_type": "stream",
     "text": [
      "MAPE: 0.014240492139279116\n"
     ]
    },
    {
     "name": "stderr",
     "output_type": "stream",
     "text": [
      "\u001b[32m[I 2023-07-19 16:54:50,740]\u001b[0m Trial 429 finished with value: 0.0037984063285745784 and parameters: {'max_depth': 10, 'eta': 0.4680933119533029, 'gamma': 0.5503162963294781, 'subsample': 0.5117616972483361, 'colsample_bytree': 0.9828318161794832}. Best is trial 57 with value: 0.003554786480584704.\u001b[0m\n"
     ]
    },
    {
     "name": "stdout",
     "output_type": "stream",
     "text": [
      "MAPE: 0.0037984063285745784\n"
     ]
    },
    {
     "name": "stderr",
     "output_type": "stream",
     "text": [
      "\u001b[32m[I 2023-07-19 16:54:52,798]\u001b[0m Trial 430 finished with value: 0.005618779320075269 and parameters: {'max_depth': 10, 'eta': 0.5746901719172979, 'gamma': 0.07583685834824617, 'subsample': 0.4366975872100825, 'colsample_bytree': 0.9065168370188197}. Best is trial 57 with value: 0.003554786480584704.\u001b[0m\n"
     ]
    },
    {
     "name": "stdout",
     "output_type": "stream",
     "text": [
      "MAPE: 0.005618779320075269\n"
     ]
    },
    {
     "name": "stderr",
     "output_type": "stream",
     "text": [
      "\u001b[32m[I 2023-07-19 16:54:55,298]\u001b[0m Trial 431 finished with value: 0.0038917763763266057 and parameters: {'max_depth': 10, 'eta': 0.7562056798665461, 'gamma': 0.25919638380255466, 'subsample': 0.7342258236795284, 'colsample_bytree': 0.9994061727225593}. Best is trial 57 with value: 0.003554786480584704.\u001b[0m\n"
     ]
    },
    {
     "name": "stdout",
     "output_type": "stream",
     "text": [
      "MAPE: 0.0038917763763266057\n"
     ]
    },
    {
     "name": "stderr",
     "output_type": "stream",
     "text": [
      "\u001b[32m[I 2023-07-19 16:54:57,418]\u001b[0m Trial 432 finished with value: 0.01919046546127522 and parameters: {'max_depth': 10, 'eta': 0.8865303683359602, 'gamma': 0.35448917686809056, 'subsample': 0.3720793052844805, 'colsample_bytree': 0.8170904016776986}. Best is trial 57 with value: 0.003554786480584704.\u001b[0m\n"
     ]
    },
    {
     "name": "stdout",
     "output_type": "stream",
     "text": [
      "MAPE: 0.01919046546127522\n"
     ]
    },
    {
     "name": "stderr",
     "output_type": "stream",
     "text": [
      "\u001b[32m[I 2023-07-19 16:54:58,616]\u001b[0m Trial 433 finished with value: 0.5864612881737076 and parameters: {'max_depth': 9, 'eta': 0.05065569933546027, 'gamma': 0.622625966538677, 'subsample': 0.5939671832887202, 'colsample_bytree': 0.3756342755169815}. Best is trial 57 with value: 0.003554786480584704.\u001b[0m\n"
     ]
    },
    {
     "name": "stdout",
     "output_type": "stream",
     "text": [
      "MAPE: 0.5864612881737076\n"
     ]
    },
    {
     "name": "stderr",
     "output_type": "stream",
     "text": [
      "\u001b[32m[I 2023-07-19 16:55:00,171]\u001b[0m Trial 434 finished with value: 0.025911468409527915 and parameters: {'max_depth': 10, 'eta': 0.654664148605058, 'gamma': 0.29566880000205875, 'subsample': 0.5473103109820088, 'colsample_bytree': 0.458358027183777}. Best is trial 57 with value: 0.003554786480584704.\u001b[0m\n"
     ]
    },
    {
     "name": "stdout",
     "output_type": "stream",
     "text": [
      "MAPE: 0.025911468409527915\n"
     ]
    },
    {
     "name": "stderr",
     "output_type": "stream",
     "text": [
      "\u001b[32m[I 2023-07-19 16:55:02,360]\u001b[0m Trial 435 finished with value: 0.005062535620317745 and parameters: {'max_depth': 10, 'eta': 0.548613926190226, 'gamma': 0.415175135555383, 'subsample': 0.5227873907309997, 'colsample_bytree': 0.9358838842397218}. Best is trial 57 with value: 0.003554786480584704.\u001b[0m\n"
     ]
    },
    {
     "name": "stdout",
     "output_type": "stream",
     "text": [
      "MAPE: 0.005062535620317745\n"
     ]
    },
    {
     "name": "stderr",
     "output_type": "stream",
     "text": [
      "\u001b[32m[I 2023-07-19 16:55:03,850]\u001b[0m Trial 436 finished with value: 0.12452496410984143 and parameters: {'max_depth': 10, 'eta': 0.1878312436870449, 'gamma': 0.5133292339352805, 'subsample': 0.6998827017680826, 'colsample_bytree': 0.9702574023038044}. Best is trial 57 with value: 0.003554786480584704.\u001b[0m\n"
     ]
    },
    {
     "name": "stdout",
     "output_type": "stream",
     "text": [
      "MAPE: 0.12452496410984143\n"
     ]
    },
    {
     "name": "stderr",
     "output_type": "stream",
     "text": [
      "\u001b[32m[I 2023-07-19 16:55:05,355]\u001b[0m Trial 437 finished with value: 0.2373086658473042 and parameters: {'max_depth': 10, 'eta': 0.1330574373246028, 'gamma': 0.3755434551908301, 'subsample': 0.6748487346819313, 'colsample_bytree': 0.5951329455294807}. Best is trial 57 with value: 0.003554786480584704.\u001b[0m\n"
     ]
    },
    {
     "name": "stdout",
     "output_type": "stream",
     "text": [
      "MAPE: 0.2373086658473042\n"
     ]
    },
    {
     "name": "stderr",
     "output_type": "stream",
     "text": [
      "\u001b[32m[I 2023-07-19 16:55:07,702]\u001b[0m Trial 438 finished with value: 0.0036564753966457204 and parameters: {'max_depth': 10, 'eta': 0.6050668493934317, 'gamma': 0.45413001130671243, 'subsample': 0.7169841634576126, 'colsample_bytree': 0.9726442938680113}. Best is trial 57 with value: 0.003554786480584704.\u001b[0m\n"
     ]
    },
    {
     "name": "stdout",
     "output_type": "stream",
     "text": [
      "MAPE: 0.0036564753966457204\n"
     ]
    },
    {
     "name": "stderr",
     "output_type": "stream",
     "text": [
      "\u001b[32m[I 2023-07-19 16:55:09,443]\u001b[0m Trial 439 finished with value: 0.021274308870551695 and parameters: {'max_depth': 10, 'eta': 0.4161663399502367, 'gamma': 0.47309700248424086, 'subsample': 0.7511176734391277, 'colsample_bytree': 0.5354800085164236}. Best is trial 57 with value: 0.003554786480584704.\u001b[0m\n"
     ]
    },
    {
     "name": "stdout",
     "output_type": "stream",
     "text": [
      "MAPE: 0.021274308870551695\n"
     ]
    },
    {
     "name": "stderr",
     "output_type": "stream",
     "text": [
      "\u001b[32m[I 2023-07-19 16:55:11,025]\u001b[0m Trial 440 finished with value: 0.0037306370840964574 and parameters: {'max_depth': 10, 'eta': 0.5197842154093204, 'gamma': 0.43973422646227484, 'subsample': 0.26064476600656905, 'colsample_bytree': 0.9998193764088725}. Best is trial 57 with value: 0.003554786480584704.\u001b[0m\n"
     ]
    },
    {
     "name": "stdout",
     "output_type": "stream",
     "text": [
      "MAPE: 0.0037306370840964574\n"
     ]
    },
    {
     "name": "stderr",
     "output_type": "stream",
     "text": [
      "\u001b[32m[I 2023-07-19 16:55:12,544]\u001b[0m Trial 441 finished with value: 0.01521352021037275 and parameters: {'max_depth': 10, 'eta': 0.6869595220229848, 'gamma': 0.40836356268047846, 'subsample': 0.18011252318292137, 'colsample_bytree': 0.6430179638461199}. Best is trial 57 with value: 0.003554786480584704.\u001b[0m\n"
     ]
    },
    {
     "name": "stdout",
     "output_type": "stream",
     "text": [
      "MAPE: 0.01521352021037275\n"
     ]
    },
    {
     "name": "stderr",
     "output_type": "stream",
     "text": [
      "\u001b[32m[I 2023-07-19 16:55:14,902]\u001b[0m Trial 442 finished with value: 0.003989926577137583 and parameters: {'max_depth': 10, 'eta': 0.5939317458346702, 'gamma': 0.52187261534928, 'subsample': 0.7034129502187002, 'colsample_bytree': 0.9551975501769007}. Best is trial 57 with value: 0.003554786480584704.\u001b[0m\n"
     ]
    },
    {
     "name": "stdout",
     "output_type": "stream",
     "text": [
      "MAPE: 0.003989926577137583\n"
     ]
    },
    {
     "name": "stderr",
     "output_type": "stream",
     "text": [
      "\u001b[32m[I 2023-07-19 16:55:16,277]\u001b[0m Trial 443 finished with value: 0.7541379301275052 and parameters: {'max_depth': 9, 'eta': 0.027812240139876033, 'gamma': 0.47834621893175727, 'subsample': 0.65848432807593, 'colsample_bytree': 0.92525083245327}. Best is trial 57 with value: 0.003554786480584704.\u001b[0m\n"
     ]
    },
    {
     "name": "stdout",
     "output_type": "stream",
     "text": [
      "MAPE: 0.7541379301275052\n"
     ]
    },
    {
     "name": "stderr",
     "output_type": "stream",
     "text": [
      "\u001b[32m[I 2023-07-19 16:55:18,430]\u001b[0m Trial 444 finished with value: 0.0038630091203173495 and parameters: {'max_depth': 10, 'eta': 0.48753150632915837, 'gamma': 0.4396902300350478, 'subsample': 0.6851415629889792, 'colsample_bytree': 0.9688171259318616}. Best is trial 57 with value: 0.003554786480584704.\u001b[0m\n"
     ]
    },
    {
     "name": "stdout",
     "output_type": "stream",
     "text": [
      "MAPE: 0.0038630091203173495\n"
     ]
    },
    {
     "name": "stderr",
     "output_type": "stream",
     "text": [
      "\u001b[32m[I 2023-07-19 16:55:20,651]\u001b[0m Trial 445 finished with value: 0.005417057201533665 and parameters: {'max_depth': 10, 'eta': 0.5483676191772016, 'gamma': 0.3430493710136364, 'subsample': 0.5002985437861148, 'colsample_bytree': 0.9423504963191323}. Best is trial 57 with value: 0.003554786480584704.\u001b[0m\n"
     ]
    },
    {
     "name": "stdout",
     "output_type": "stream",
     "text": [
      "MAPE: 0.005417057201533665\n"
     ]
    },
    {
     "name": "stderr",
     "output_type": "stream",
     "text": [
      "\u001b[32m[I 2023-07-19 16:55:23,142]\u001b[0m Trial 446 finished with value: 0.014874616099104657 and parameters: {'max_depth': 10, 'eta': 0.7993803829206731, 'gamma': 0.4008248614269622, 'subsample': 0.7323708851486375, 'colsample_bytree': 0.7889097532091371}. Best is trial 57 with value: 0.003554786480584704.\u001b[0m\n"
     ]
    },
    {
     "name": "stdout",
     "output_type": "stream",
     "text": [
      "MAPE: 0.014874616099104657\n"
     ]
    },
    {
     "name": "stderr",
     "output_type": "stream",
     "text": [
      "\u001b[32m[I 2023-07-19 16:55:25,094]\u001b[0m Trial 447 finished with value: 0.005169090560765957 and parameters: {'max_depth': 10, 'eta': 0.45195950278410435, 'gamma': 0.6210858378191394, 'subsample': 0.4152368866944932, 'colsample_bytree': 0.8859464936694603}. Best is trial 57 with value: 0.003554786480584704.\u001b[0m\n"
     ]
    },
    {
     "name": "stdout",
     "output_type": "stream",
     "text": [
      "MAPE: 0.005169090560765957\n"
     ]
    },
    {
     "name": "stderr",
     "output_type": "stream",
     "text": [
      "\u001b[32m[I 2023-07-19 16:55:27,607]\u001b[0m Trial 448 finished with value: 0.0039226920678574854 and parameters: {'max_depth': 10, 'eta': 0.6487558758759577, 'gamma': 0.37919549320069873, 'subsample': 0.7752473824747481, 'colsample_bytree': 0.9835538716141281}. Best is trial 57 with value: 0.003554786480584704.\u001b[0m\n"
     ]
    },
    {
     "name": "stdout",
     "output_type": "stream",
     "text": [
      "MAPE: 0.0039226920678574854\n"
     ]
    },
    {
     "name": "stderr",
     "output_type": "stream",
     "text": [
      "\u001b[32m[I 2023-07-19 16:55:28,897]\u001b[0m Trial 449 finished with value: 0.4790311443032945 and parameters: {'max_depth': 10, 'eta': 0.07092804896036062, 'gamma': 0.04773753666666348, 'subsample': 0.44022120906152434, 'colsample_bytree': 0.9559769569564495}. Best is trial 57 with value: 0.003554786480584704.\u001b[0m\n"
     ]
    },
    {
     "name": "stdout",
     "output_type": "stream",
     "text": [
      "MAPE: 0.4790311443032945\n"
     ]
    },
    {
     "name": "stderr",
     "output_type": "stream",
     "text": [
      "\u001b[32m[I 2023-07-19 16:55:31,122]\u001b[0m Trial 450 finished with value: 0.0037756485608598494 and parameters: {'max_depth': 10, 'eta': 0.6045127791565662, 'gamma': 0.08147393930894996, 'subsample': 0.4603727840846929, 'colsample_bytree': 0.9834329044371591}. Best is trial 57 with value: 0.003554786480584704.\u001b[0m\n"
     ]
    },
    {
     "name": "stdout",
     "output_type": "stream",
     "text": [
      "MAPE: 0.0037756485608598494\n"
     ]
    },
    {
     "name": "stderr",
     "output_type": "stream",
     "text": [
      "\u001b[32m[I 2023-07-19 16:55:32,038]\u001b[0m Trial 451 finished with value: 0.4636189822095874 and parameters: {'max_depth': 9, 'eta': 0.0739483763343206, 'gamma': 0.4778533900762409, 'subsample': 0.3041281157569683, 'colsample_bytree': 0.9685269837127187}. Best is trial 57 with value: 0.003554786480584704.\u001b[0m\n"
     ]
    },
    {
     "name": "stdout",
     "output_type": "stream",
     "text": [
      "MAPE: 0.4636189822095874\n"
     ]
    },
    {
     "name": "stderr",
     "output_type": "stream",
     "text": [
      "\u001b[32m[I 2023-07-19 16:55:33,445]\u001b[0m Trial 452 finished with value: 0.3230486692471155 and parameters: {'max_depth': 10, 'eta': 0.10683129891192222, 'gamma': 0.5487757565949949, 'subsample': 0.7136843985110268, 'colsample_bytree': 0.9998544552211287}. Best is trial 57 with value: 0.003554786480584704.\u001b[0m\n"
     ]
    },
    {
     "name": "stdout",
     "output_type": "stream",
     "text": [
      "MAPE: 0.3230486692471155\n"
     ]
    },
    {
     "name": "stderr",
     "output_type": "stream",
     "text": [
      "\u001b[32m[I 2023-07-19 16:55:34,943]\u001b[0m Trial 453 finished with value: 0.2453263363394529 and parameters: {'max_depth': 10, 'eta': 0.13098754636495807, 'gamma': 0.32819869083297454, 'subsample': 0.7626155983155661, 'colsample_bytree': 0.9442993974761933}. Best is trial 57 with value: 0.003554786480584704.\u001b[0m\n"
     ]
    },
    {
     "name": "stdout",
     "output_type": "stream",
     "text": [
      "MAPE: 0.2453263363394529\n"
     ]
    },
    {
     "name": "stderr",
     "output_type": "stream",
     "text": [
      "\u001b[32m[I 2023-07-19 16:55:36,602]\u001b[0m Trial 454 finished with value: 0.11821307408889108 and parameters: {'max_depth': 10, 'eta': 0.19092023756199208, 'gamma': 0.4366655799048362, 'subsample': 0.47875790461902906, 'colsample_bytree': 0.6670854801843094}. Best is trial 57 with value: 0.003554786480584704.\u001b[0m\n"
     ]
    },
    {
     "name": "stdout",
     "output_type": "stream",
     "text": [
      "MAPE: 0.11821307408889108\n"
     ]
    },
    {
     "name": "stderr",
     "output_type": "stream",
     "text": [
      "\u001b[32m[I 2023-07-19 16:55:38,984]\u001b[0m Trial 455 finished with value: 0.005823683055251219 and parameters: {'max_depth': 10, 'eta': 0.5580025130595501, 'gamma': 0.05884098008647745, 'subsample': 0.6331996540890774, 'colsample_bytree': 0.9157483572583577}. Best is trial 57 with value: 0.003554786480584704.\u001b[0m\n"
     ]
    },
    {
     "name": "stdout",
     "output_type": "stream",
     "text": [
      "MAPE: 0.005823683055251219\n"
     ]
    },
    {
     "name": "stderr",
     "output_type": "stream",
     "text": [
      "\u001b[32m[I 2023-07-19 16:55:41,139]\u001b[0m Trial 456 finished with value: 0.0062519646881974795 and parameters: {'max_depth': 10, 'eta': 0.7238235818634043, 'gamma': 0.9686357111384066, 'subsample': 0.4242446856964922, 'colsample_bytree': 0.8770214971050734}. Best is trial 57 with value: 0.003554786480584704.\u001b[0m\n"
     ]
    },
    {
     "name": "stdout",
     "output_type": "stream",
     "text": [
      "MAPE: 0.0062519646881974795\n"
     ]
    },
    {
     "name": "stderr",
     "output_type": "stream",
     "text": [
      "\u001b[32m[I 2023-07-19 16:55:43,703]\u001b[0m Trial 457 finished with value: 0.01352886197494009 and parameters: {'max_depth': 10, 'eta': 0.6448141195736034, 'gamma': 0.031098154732064627, 'subsample': 0.6904516887920352, 'colsample_bytree': 0.7381457124758894}. Best is trial 57 with value: 0.003554786480584704.\u001b[0m\n"
     ]
    },
    {
     "name": "stdout",
     "output_type": "stream",
     "text": [
      "MAPE: 0.01352886197494009\n"
     ]
    },
    {
     "name": "stderr",
     "output_type": "stream",
     "text": [
      "\u001b[32m[I 2023-07-19 16:55:45,177]\u001b[0m Trial 458 finished with value: 0.04051687479482768 and parameters: {'max_depth': 10, 'eta': 0.5402008034207927, 'gamma': 0.3794618766016797, 'subsample': 0.7423983281141933, 'colsample_bytree': 0.3375175989482063}. Best is trial 57 with value: 0.003554786480584704.\u001b[0m\n"
     ]
    },
    {
     "name": "stdout",
     "output_type": "stream",
     "text": [
      "MAPE: 0.04051687479482768\n"
     ]
    },
    {
     "name": "stderr",
     "output_type": "stream",
     "text": [
      "\u001b[32m[I 2023-07-19 16:55:47,401]\u001b[0m Trial 459 finished with value: 0.003643145990057457 and parameters: {'max_depth': 10, 'eta': 0.48971332171227916, 'gamma': 0.0946609576734361, 'subsample': 0.7226326169779584, 'colsample_bytree': 0.9731218203787197}. Best is trial 57 with value: 0.003554786480584704.\u001b[0m\n"
     ]
    },
    {
     "name": "stdout",
     "output_type": "stream",
     "text": [
      "MAPE: 0.003643145990057457\n"
     ]
    },
    {
     "name": "stderr",
     "output_type": "stream",
     "text": [
      "\u001b[32m[I 2023-07-19 16:55:49,652]\u001b[0m Trial 460 finished with value: 0.004533142565380743 and parameters: {'max_depth': 10, 'eta': 0.43513002343636503, 'gamma': 0.09404177073137765, 'subsample': 0.7262844827946183, 'colsample_bytree': 0.9827019813686295}. Best is trial 57 with value: 0.003554786480584704.\u001b[0m\n"
     ]
    },
    {
     "name": "stdout",
     "output_type": "stream",
     "text": [
      "MAPE: 0.004533142565380743\n"
     ]
    },
    {
     "name": "stderr",
     "output_type": "stream",
     "text": [
      "\u001b[32m[I 2023-07-19 16:55:51,100]\u001b[0m Trial 461 finished with value: 0.17517780249156698 and parameters: {'max_depth': 10, 'eta': 0.1597606772467716, 'gamma': 0.5085917866937105, 'subsample': 0.5820912272799232, 'colsample_bytree': 0.9600854272023482}. Best is trial 57 with value: 0.003554786480584704.\u001b[0m\n"
     ]
    },
    {
     "name": "stdout",
     "output_type": "stream",
     "text": [
      "MAPE: 0.17517780249156698\n"
     ]
    },
    {
     "name": "stderr",
     "output_type": "stream",
     "text": [
      "\u001b[32m[I 2023-07-19 16:55:53,054]\u001b[0m Trial 462 finished with value: 0.012236112410008694 and parameters: {'max_depth': 10, 'eta': 0.3990864793709324, 'gamma': 0.7191959556446973, 'subsample': 0.4077218860731063, 'colsample_bytree': 0.8184529275790065}. Best is trial 57 with value: 0.003554786480584704.\u001b[0m\n"
     ]
    },
    {
     "name": "stdout",
     "output_type": "stream",
     "text": [
      "MAPE: 0.012236112410008694\n"
     ]
    },
    {
     "name": "stderr",
     "output_type": "stream",
     "text": [
      "\u001b[32m[I 2023-07-19 16:55:54,286]\u001b[0m Trial 463 finished with value: 0.08851870261126775 and parameters: {'max_depth': 9, 'eta': 0.2238498111146116, 'gamma': 0.10274193792882212, 'subsample': 0.5392415368544343, 'colsample_bytree': 0.30085418387152996}. Best is trial 57 with value: 0.003554786480584704.\u001b[0m\n"
     ]
    },
    {
     "name": "stdout",
     "output_type": "stream",
     "text": [
      "MAPE: 0.08851870261126775\n"
     ]
    },
    {
     "name": "stderr",
     "output_type": "stream",
     "text": [
      "\u001b[32m[I 2023-07-19 16:55:56,091]\u001b[0m Trial 464 finished with value: 0.03710541083654191 and parameters: {'max_depth': 10, 'eta': 0.28014037311119216, 'gamma': 0.5648951806308184, 'subsample': 0.7480355882764982, 'colsample_bytree': 0.9840229680036267}. Best is trial 57 with value: 0.003554786480584704.\u001b[0m\n"
     ]
    },
    {
     "name": "stdout",
     "output_type": "stream",
     "text": [
      "MAPE: 0.03710541083654191\n"
     ]
    },
    {
     "name": "stderr",
     "output_type": "stream",
     "text": [
      "\u001b[32m[I 2023-07-19 16:55:58,387]\u001b[0m Trial 465 finished with value: 0.004989234631588661 and parameters: {'max_depth': 10, 'eta': 0.49111768653361637, 'gamma': 0.4505079074964906, 'subsample': 0.7186764030676192, 'colsample_bytree': 0.9352649586698061}. Best is trial 57 with value: 0.003554786480584704.\u001b[0m\n"
     ]
    },
    {
     "name": "stdout",
     "output_type": "stream",
     "text": [
      "MAPE: 0.004989234631588661\n"
     ]
    },
    {
     "name": "stderr",
     "output_type": "stream",
     "text": [
      "\u001b[32m[I 2023-07-19 16:56:00,621]\u001b[0m Trial 466 finished with value: 0.003859168284365116 and parameters: {'max_depth': 10, 'eta': 0.5058009446791882, 'gamma': 0.40937631994696094, 'subsample': 0.6710836186869032, 'colsample_bytree': 0.970234511707032}. Best is trial 57 with value: 0.003554786480584704.\u001b[0m\n"
     ]
    },
    {
     "name": "stdout",
     "output_type": "stream",
     "text": [
      "MAPE: 0.003859168284365116\n"
     ]
    },
    {
     "name": "stderr",
     "output_type": "stream",
     "text": [
      "\u001b[32m[I 2023-07-19 16:56:01,994]\u001b[0m Trial 467 finished with value: 0.45388338414907087 and parameters: {'max_depth': 10, 'eta': 0.07594553947904963, 'gamma': 0.21128447723618643, 'subsample': 0.7597821454450089, 'colsample_bytree': 0.955170284799715}. Best is trial 57 with value: 0.003554786480584704.\u001b[0m\n"
     ]
    },
    {
     "name": "stdout",
     "output_type": "stream",
     "text": [
      "MAPE: 0.45388338414907087\n"
     ]
    },
    {
     "name": "stderr",
     "output_type": "stream",
     "text": [
      "\u001b[32m[I 2023-07-19 16:56:04,244]\u001b[0m Trial 468 finished with value: 0.0038194033043285904 and parameters: {'max_depth': 10, 'eta': 0.48773215282643323, 'gamma': 0.11387865537129482, 'subsample': 0.7285497219423651, 'colsample_bytree': 0.9857828584386291}. Best is trial 57 with value: 0.003554786480584704.\u001b[0m\n"
     ]
    },
    {
     "name": "stdout",
     "output_type": "stream",
     "text": [
      "MAPE: 0.0038194033043285904\n"
     ]
    },
    {
     "name": "stderr",
     "output_type": "stream",
     "text": [
      "\u001b[32m[I 2023-07-19 16:56:06,439]\u001b[0m Trial 469 finished with value: 0.005701223706463648 and parameters: {'max_depth': 10, 'eta': 0.4431023003170111, 'gamma': 0.08898616053857387, 'subsample': 0.7064396138175004, 'colsample_bytree': 0.9385583046988581}. Best is trial 57 with value: 0.003554786480584704.\u001b[0m\n"
     ]
    },
    {
     "name": "stdout",
     "output_type": "stream",
     "text": [
      "MAPE: 0.005701223706463648\n"
     ]
    },
    {
     "name": "stderr",
     "output_type": "stream",
     "text": [
      "\u001b[32m[I 2023-07-19 16:56:08,523]\u001b[0m Trial 470 finished with value: 0.009716556122063232 and parameters: {'max_depth': 10, 'eta': 0.3741577892705814, 'gamma': 0.48755007995252075, 'subsample': 0.7856190500266793, 'colsample_bytree': 0.9003335188605444}. Best is trial 57 with value: 0.003554786480584704.\u001b[0m\n"
     ]
    },
    {
     "name": "stdout",
     "output_type": "stream",
     "text": [
      "MAPE: 0.009716556122063232\n"
     ]
    },
    {
     "name": "stderr",
     "output_type": "stream",
     "text": [
      "\u001b[32m[I 2023-07-19 16:56:08,859]\u001b[0m Trial 471 finished with value: 0.030790442982813557 and parameters: {'max_depth': 1, 'eta': 0.863444326103468, 'gamma': 0.10537348599266398, 'subsample': 0.6011601379320127, 'colsample_bytree': 0.9985348608950723}. Best is trial 57 with value: 0.003554786480584704.\u001b[0m\n"
     ]
    },
    {
     "name": "stdout",
     "output_type": "stream",
     "text": [
      "MAPE: 0.030790442982813557\n"
     ]
    },
    {
     "name": "stderr",
     "output_type": "stream",
     "text": [
      "\u001b[32m[I 2023-07-19 16:56:11,117]\u001b[0m Trial 472 finished with value: 0.003756588524601412 and parameters: {'max_depth': 10, 'eta': 0.5908641009626124, 'gamma': 0.07828867966937393, 'subsample': 0.7373038601884077, 'colsample_bytree': 0.9676030374829849}. Best is trial 57 with value: 0.003554786480584704.\u001b[0m\n"
     ]
    },
    {
     "name": "stdout",
     "output_type": "stream",
     "text": [
      "MAPE: 0.003756588524601412\n"
     ]
    },
    {
     "name": "stderr",
     "output_type": "stream",
     "text": [
      "\u001b[32m[I 2023-07-19 16:56:13,047]\u001b[0m Trial 473 finished with value: 0.015138981479352618 and parameters: {'max_depth': 9, 'eta': 0.7176089344175889, 'gamma': 0.1995713758888359, 'subsample': 0.4600824851737908, 'colsample_bytree': 0.703628083795964}. Best is trial 57 with value: 0.003554786480584704.\u001b[0m\n"
     ]
    },
    {
     "name": "stdout",
     "output_type": "stream",
     "text": [
      "MAPE: 0.015138981479352618\n"
     ]
    },
    {
     "name": "stderr",
     "output_type": "stream",
     "text": [
      "\u001b[32m[I 2023-07-19 16:56:15,147]\u001b[0m Trial 474 finished with value: 0.011793832596459842 and parameters: {'max_depth': 10, 'eta': 0.5552921818332497, 'gamma': 0.09222338846938995, 'subsample': 0.6482626579851055, 'colsample_bytree': 0.6164468055773018}. Best is trial 57 with value: 0.003554786480584704.\u001b[0m\n"
     ]
    },
    {
     "name": "stdout",
     "output_type": "stream",
     "text": [
      "MAPE: 0.011793832596459842\n"
     ]
    },
    {
     "name": "stderr",
     "output_type": "stream",
     "text": [
      "\u001b[32m[I 2023-07-19 16:56:16,581]\u001b[0m Trial 475 finished with value: 0.15415614269906738 and parameters: {'max_depth': 10, 'eta': 0.17034294840001302, 'gamma': 0.5842995860700507, 'subsample': 0.6879464217982476, 'colsample_bytree': 0.9819916737205071}. Best is trial 57 with value: 0.003554786480584704.\u001b[0m\n"
     ]
    },
    {
     "name": "stdout",
     "output_type": "stream",
     "text": [
      "MAPE: 0.15415614269906738\n"
     ]
    },
    {
     "name": "stderr",
     "output_type": "stream",
     "text": [
      "\u001b[32m[I 2023-07-19 16:56:18,844]\u001b[0m Trial 476 finished with value: 0.012771128224100686 and parameters: {'max_depth': 10, 'eta': 0.6394601740013509, 'gamma': 0.42613680459632913, 'subsample': 0.5022531963431728, 'colsample_bytree': 0.756795593068077}. Best is trial 57 with value: 0.003554786480584704.\u001b[0m\n"
     ]
    },
    {
     "name": "stdout",
     "output_type": "stream",
     "text": [
      "MAPE: 0.012771128224100686\n"
     ]
    },
    {
     "name": "stderr",
     "output_type": "stream",
     "text": [
      "\u001b[32m[I 2023-07-19 16:56:21,011]\u001b[0m Trial 477 finished with value: 0.003649081503607394 and parameters: {'max_depth': 10, 'eta': 0.5165222259683744, 'gamma': 0.22929377693219266, 'subsample': 0.5616163909511942, 'colsample_bytree': 0.9535327703063634}. Best is trial 57 with value: 0.003554786480584704.\u001b[0m\n"
     ]
    },
    {
     "name": "stdout",
     "output_type": "stream",
     "text": [
      "MAPE: 0.003649081503607394\n"
     ]
    },
    {
     "name": "stderr",
     "output_type": "stream",
     "text": [
      "\u001b[32m[I 2023-07-19 16:56:22,486]\u001b[0m Trial 478 finished with value: 0.1982412465721529 and parameters: {'max_depth': 10, 'eta': 0.14618298811201638, 'gamma': 0.279031735939312, 'subsample': 0.5704774728262899, 'colsample_bytree': 0.5590532067638596}. Best is trial 57 with value: 0.003554786480584704.\u001b[0m\n"
     ]
    },
    {
     "name": "stdout",
     "output_type": "stream",
     "text": [
      "MAPE: 0.1982412465721529\n"
     ]
    },
    {
     "name": "stderr",
     "output_type": "stream",
     "text": [
      "\u001b[32m[I 2023-07-19 16:56:23,848]\u001b[0m Trial 479 finished with value: 0.2756861985060521 and parameters: {'max_depth': 10, 'eta': 0.11894783536007417, 'gamma': 0.23829836172111998, 'subsample': 0.5373202468500341, 'colsample_bytree': 0.5367203707922359}. Best is trial 57 with value: 0.003554786480584704.\u001b[0m\n"
     ]
    },
    {
     "name": "stdout",
     "output_type": "stream",
     "text": [
      "MAPE: 0.2756861985060521\n"
     ]
    },
    {
     "name": "stderr",
     "output_type": "stream",
     "text": [
      "\u001b[32m[I 2023-07-19 16:56:24,909]\u001b[0m Trial 480 finished with value: 0.08287631307842729 and parameters: {'max_depth': 10, 'eta': 0.4638088683516061, 'gamma': 0.773037356940625, 'subsample': 0.5834740951725724, 'colsample_bytree': 0.15347843495808333}. Best is trial 57 with value: 0.003554786480584704.\u001b[0m\n"
     ]
    },
    {
     "name": "stdout",
     "output_type": "stream",
     "text": [
      "MAPE: 0.08287631307842729\n"
     ]
    },
    {
     "name": "stderr",
     "output_type": "stream",
     "text": [
      "\u001b[32m[I 2023-07-19 16:56:27,230]\u001b[0m Trial 481 finished with value: 0.01151887033364023 and parameters: {'max_depth': 10, 'eta': 0.5144265068057784, 'gamma': 0.10038959713984523, 'subsample': 0.5626106039424008, 'colsample_bytree': 0.8360827770981178}. Best is trial 57 with value: 0.003554786480584704.\u001b[0m\n"
     ]
    },
    {
     "name": "stdout",
     "output_type": "stream",
     "text": [
      "MAPE: 0.01151887033364023\n"
     ]
    },
    {
     "name": "stderr",
     "output_type": "stream",
     "text": [
      "\u001b[32m[I 2023-07-19 16:56:28,540]\u001b[0m Trial 482 finished with value: 0.011069081659758883 and parameters: {'max_depth': 6, 'eta': 0.3759879799224601, 'gamma': 0.6533027474088087, 'subsample': 0.7682254216736262, 'colsample_bytree': 0.8519272256549946}. Best is trial 57 with value: 0.003554786480584704.\u001b[0m\n"
     ]
    },
    {
     "name": "stdout",
     "output_type": "stream",
     "text": [
      "MAPE: 0.011069081659758883\n"
     ]
    },
    {
     "name": "stderr",
     "output_type": "stream",
     "text": [
      "\u001b[32m[I 2023-07-19 16:56:30,783]\u001b[0m Trial 483 finished with value: 0.0061360351456720506 and parameters: {'max_depth': 10, 'eta': 0.5252988683417557, 'gamma': 0.30872941222602845, 'subsample': 0.5562791437686617, 'colsample_bytree': 0.9171331226444542}. Best is trial 57 with value: 0.003554786480584704.\u001b[0m\n"
     ]
    },
    {
     "name": "stdout",
     "output_type": "stream",
     "text": [
      "MAPE: 0.0061360351456720506\n"
     ]
    },
    {
     "name": "stderr",
     "output_type": "stream",
     "text": [
      "\u001b[32m[I 2023-07-19 16:56:32,034]\u001b[0m Trial 484 finished with value: 0.5489394366112442 and parameters: {'max_depth': 9, 'eta': 0.05819457559563995, 'gamma': 0.5145625870354492, 'subsample': 0.5200851689702433, 'colsample_bytree': 0.9474650878694807}. Best is trial 57 with value: 0.003554786480584704.\u001b[0m\n"
     ]
    },
    {
     "name": "stdout",
     "output_type": "stream",
     "text": [
      "MAPE: 0.5489394366112442\n"
     ]
    },
    {
     "name": "stderr",
     "output_type": "stream",
     "text": [
      "\u001b[32m[I 2023-07-19 16:56:33,646]\u001b[0m Trial 485 finished with value: 0.023440144779283894 and parameters: {'max_depth': 10, 'eta': 0.3122538642407986, 'gamma': 0.39026056277717136, 'subsample': 0.37004499923830825, 'colsample_bytree': 0.9356231621392179}. Best is trial 57 with value: 0.003554786480584704.\u001b[0m\n"
     ]
    },
    {
     "name": "stdout",
     "output_type": "stream",
     "text": [
      "MAPE: 0.023440144779283894\n"
     ]
    },
    {
     "name": "stderr",
     "output_type": "stream",
     "text": [
      "\u001b[32m[I 2023-07-19 16:56:35,435]\u001b[0m Trial 486 finished with value: 0.005743465856993629 and parameters: {'max_depth': 8, 'eta': 0.4145704768397563, 'gamma': 0.0857840602025058, 'subsample': 0.7146706513139494, 'colsample_bytree': 0.9579871861172409}. Best is trial 57 with value: 0.003554786480584704.\u001b[0m\n"
     ]
    },
    {
     "name": "stdout",
     "output_type": "stream",
     "text": [
      "MAPE: 0.005743465856993629\n"
     ]
    },
    {
     "name": "stderr",
     "output_type": "stream",
     "text": [
      "\u001b[32m[I 2023-07-19 16:56:37,689]\u001b[0m Trial 487 finished with value: 0.010507687819562083 and parameters: {'max_depth': 10, 'eta': 0.4638307115673528, 'gamma': 0.4612587510215142, 'subsample': 0.6216677299454091, 'colsample_bytree': 0.780536205253372}. Best is trial 57 with value: 0.003554786480584704.\u001b[0m\n"
     ]
    },
    {
     "name": "stdout",
     "output_type": "stream",
     "text": [
      "MAPE: 0.010507687819562083\n"
     ]
    },
    {
     "name": "stderr",
     "output_type": "stream",
     "text": [
      "\u001b[32m[I 2023-07-19 16:56:39,228]\u001b[0m Trial 488 finished with value: 0.029228003219889803 and parameters: {'max_depth': 10, 'eta': 0.580715868737124, 'gamma': 0.3476380972766559, 'subsample': 0.7415658262518017, 'colsample_bytree': 0.4121190260353702}. Best is trial 57 with value: 0.003554786480584704.\u001b[0m\n"
     ]
    },
    {
     "name": "stdout",
     "output_type": "stream",
     "text": [
      "MAPE: 0.029228003219889803\n"
     ]
    },
    {
     "name": "stderr",
     "output_type": "stream",
     "text": [
      "\u001b[32m[I 2023-07-19 16:56:40,612]\u001b[0m Trial 489 finished with value: 0.873967183143423 and parameters: {'max_depth': 10, 'eta': 0.013379865307498757, 'gamma': 0.43786923301884734, 'subsample': 0.7997325829918297, 'colsample_bytree': 0.999284107729034}. Best is trial 57 with value: 0.003554786480584704.\u001b[0m\n"
     ]
    },
    {
     "name": "stdout",
     "output_type": "stream",
     "text": [
      "MAPE: 0.873967183143423\n"
     ]
    },
    {
     "name": "stderr",
     "output_type": "stream",
     "text": [
      "\u001b[32m[I 2023-07-19 16:56:41,827]\u001b[0m Trial 490 finished with value: 0.7045374010047143 and parameters: {'max_depth': 10, 'eta': 0.034402813395243745, 'gamma': 0.012601718570730832, 'subsample': 0.45149461009290104, 'colsample_bytree': 0.968930374102498}. Best is trial 57 with value: 0.003554786480584704.\u001b[0m\n"
     ]
    },
    {
     "name": "stdout",
     "output_type": "stream",
     "text": [
      "MAPE: 0.7045374010047143\n"
     ]
    },
    {
     "name": "stderr",
     "output_type": "stream",
     "text": [
      "\u001b[32m[I 2023-07-19 16:56:43,193]\u001b[0m Trial 491 finished with value: 0.10801628157501193 and parameters: {'max_depth': 10, 'eta': 0.19903032483900862, 'gamma': 0.5141606269903297, 'subsample': 0.40322161057912287, 'colsample_bytree': 0.9176432353398856}. Best is trial 57 with value: 0.003554786480584704.\u001b[0m\n"
     ]
    },
    {
     "name": "stdout",
     "output_type": "stream",
     "text": [
      "MAPE: 0.10801628157501193\n"
     ]
    },
    {
     "name": "stderr",
     "output_type": "stream",
     "text": [
      "\u001b[32m[I 2023-07-19 16:56:45,381]\u001b[0m Trial 492 finished with value: 0.004162225153207879 and parameters: {'max_depth': 9, 'eta': 0.6795293274011066, 'gamma': 0.06697335672233601, 'subsample': 0.7490086007627541, 'colsample_bytree': 0.9546420142303574}. Best is trial 57 with value: 0.003554786480584704.\u001b[0m\n"
     ]
    },
    {
     "name": "stdout",
     "output_type": "stream",
     "text": [
      "MAPE: 0.004162225153207879\n"
     ]
    },
    {
     "name": "stderr",
     "output_type": "stream",
     "text": [
      "\u001b[32m[I 2023-07-19 16:56:46,698]\u001b[0m Trial 493 finished with value: 0.5132060228888091 and parameters: {'max_depth': 10, 'eta': 0.06451280520170284, 'gamma': 0.40088796194401255, 'subsample': 0.556834026973564, 'colsample_bytree': 0.9741031779736532}. Best is trial 57 with value: 0.003554786480584704.\u001b[0m\n"
     ]
    },
    {
     "name": "stdout",
     "output_type": "stream",
     "text": [
      "MAPE: 0.5132060228888091\n"
     ]
    },
    {
     "name": "stderr",
     "output_type": "stream",
     "text": [
      "\u001b[32m[I 2023-07-19 16:56:47,988]\u001b[0m Trial 494 finished with value: 0.4457354938362445 and parameters: {'max_depth': 10, 'eta': 0.07760980102727036, 'gamma': 0.23304362675421436, 'subsample': 0.5296817782857459, 'colsample_bytree': 0.999998852931804}. Best is trial 57 with value: 0.003554786480584704.\u001b[0m\n"
     ]
    },
    {
     "name": "stdout",
     "output_type": "stream",
     "text": [
      "MAPE: 0.4457354938362445\n"
     ]
    },
    {
     "name": "stderr",
     "output_type": "stream",
     "text": [
      "\u001b[32m[I 2023-07-19 16:56:50,267]\u001b[0m Trial 495 finished with value: 0.005321989416244685 and parameters: {'max_depth': 10, 'eta': 0.5473843817944668, 'gamma': 0.3635527253487459, 'subsample': 0.7232998558908708, 'colsample_bytree': 0.9371504836131856}. Best is trial 57 with value: 0.003554786480584704.\u001b[0m\n"
     ]
    },
    {
     "name": "stdout",
     "output_type": "stream",
     "text": [
      "MAPE: 0.005321989416244685\n"
     ]
    },
    {
     "name": "stderr",
     "output_type": "stream",
     "text": [
      "\u001b[32m[I 2023-07-19 16:56:52,444]\u001b[0m Trial 496 finished with value: 0.0037592034019684815 and parameters: {'max_depth': 10, 'eta': 0.49034329758371487, 'gamma': 0.2978479504377881, 'subsample': 0.70365267184624, 'colsample_bytree': 0.981670655948609}. Best is trial 57 with value: 0.003554786480584704.\u001b[0m\n"
     ]
    },
    {
     "name": "stdout",
     "output_type": "stream",
     "text": [
      "MAPE: 0.0037592034019684815\n"
     ]
    },
    {
     "name": "stderr",
     "output_type": "stream",
     "text": [
      "\u001b[32m[I 2023-07-19 16:56:53,557]\u001b[0m Trial 497 finished with value: 0.5338714161648069 and parameters: {'max_depth': 10, 'eta': 0.06004079605893381, 'gamma': 0.27110044667643335, 'subsample': 0.4216749316288066, 'colsample_bytree': 0.5269236798341372}. Best is trial 57 with value: 0.003554786480584704.\u001b[0m\n"
     ]
    },
    {
     "name": "stdout",
     "output_type": "stream",
     "text": [
      "MAPE: 0.5338714161648069\n"
     ]
    },
    {
     "name": "stderr",
     "output_type": "stream",
     "text": [
      "\u001b[32m[I 2023-07-19 16:56:55,811]\u001b[0m Trial 498 finished with value: 0.013567705912904876 and parameters: {'max_depth': 10, 'eta': 0.6130686362339437, 'gamma': 0.47144132686920154, 'subsample': 0.7599667335494642, 'colsample_bytree': 0.6306741801322225}. Best is trial 57 with value: 0.003554786480584704.\u001b[0m\n"
     ]
    },
    {
     "name": "stdout",
     "output_type": "stream",
     "text": [
      "MAPE: 0.013567705912904876\n"
     ]
    },
    {
     "name": "stderr",
     "output_type": "stream",
     "text": [
      "\u001b[32m[I 2023-07-19 16:56:58,221]\u001b[0m Trial 499 finished with value: 0.0038853066611602865 and parameters: {'max_depth': 10, 'eta': 0.7945666692656688, 'gamma': 0.3369341909378038, 'subsample': 0.6659251166116807, 'colsample_bytree': 0.9534614846249181}. Best is trial 57 with value: 0.003554786480584704.\u001b[0m\n"
     ]
    },
    {
     "name": "stdout",
     "output_type": "stream",
     "text": [
      "MAPE: 0.0038853066611602865\n"
     ]
    },
    {
     "name": "stderr",
     "output_type": "stream",
     "text": [
      "\u001b[32m[I 2023-07-19 16:57:00,608]\u001b[0m Trial 500 finished with value: 0.011383431175923468 and parameters: {'max_depth': 10, 'eta': 0.5438178720844605, 'gamma': 0.4203963071528396, 'subsample': 0.7315385709380295, 'colsample_bytree': 0.8097986619515024}. Best is trial 57 with value: 0.003554786480584704.\u001b[0m\n"
     ]
    },
    {
     "name": "stdout",
     "output_type": "stream",
     "text": [
      "MAPE: 0.011383431175923468\n"
     ]
    },
    {
     "name": "stderr",
     "output_type": "stream",
     "text": [
      "\u001b[32m[I 2023-07-19 16:57:01,966]\u001b[0m Trial 501 finished with value: 0.3060205237668708 and parameters: {'max_depth': 10, 'eta': 0.11165772760974489, 'gamma': 0.5683758632201318, 'subsample': 0.7834781391398001, 'colsample_bytree': 0.9715439644617604}. Best is trial 57 with value: 0.003554786480584704.\u001b[0m\n"
     ]
    },
    {
     "name": "stdout",
     "output_type": "stream",
     "text": [
      "MAPE: 0.3060205237668708\n"
     ]
    },
    {
     "name": "stderr",
     "output_type": "stream",
     "text": [
      "\u001b[32m[I 2023-07-19 16:57:02,500]\u001b[0m Trial 502 finished with value: 0.0878027945866104 and parameters: {'max_depth': 9, 'eta': 0.33188488602924016, 'gamma': 0.37406731840901714, 'subsample': 0.38747982203938375, 'colsample_bytree': 0.10083000980804313}. Best is trial 57 with value: 0.003554786480584704.\u001b[0m\n"
     ]
    },
    {
     "name": "stdout",
     "output_type": "stream",
     "text": [
      "MAPE: 0.0878027945866104\n"
     ]
    },
    {
     "name": "stderr",
     "output_type": "stream",
     "text": [
      "\u001b[32m[I 2023-07-19 16:57:04,083]\u001b[0m Trial 503 finished with value: 0.023982534194383176 and parameters: {'max_depth': 10, 'eta': 0.6661375674629721, 'gamma': 0.09768016882920588, 'subsample': 0.4833413996885471, 'colsample_bytree': 0.486190754675097}. Best is trial 57 with value: 0.003554786480584704.\u001b[0m\n"
     ]
    },
    {
     "name": "stdout",
     "output_type": "stream",
     "text": [
      "MAPE: 0.023982534194383176\n"
     ]
    },
    {
     "name": "stderr",
     "output_type": "stream",
     "text": [
      "\u001b[32m[I 2023-07-19 16:57:05,593]\u001b[0m Trial 504 finished with value: 0.23099947066639082 and parameters: {'max_depth': 10, 'eta': 0.13570546570894307, 'gamma': 0.06948544190079027, 'subsample': 0.7070564775263288, 'colsample_bytree': 0.6084274075164692}. Best is trial 57 with value: 0.003554786480584704.\u001b[0m\n"
     ]
    },
    {
     "name": "stdout",
     "output_type": "stream",
     "text": [
      "MAPE: 0.23099947066639082\n"
     ]
    },
    {
     "name": "stderr",
     "output_type": "stream",
     "text": [
      "\u001b[32m[I 2023-07-19 16:57:07,878]\u001b[0m Trial 505 finished with value: 0.004313387597096063 and parameters: {'max_depth': 10, 'eta': 0.4394992606426851, 'gamma': 0.4817272276627746, 'subsample': 0.6888516795330321, 'colsample_bytree': 0.9838723475737621}. Best is trial 57 with value: 0.003554786480584704.\u001b[0m\n"
     ]
    },
    {
     "name": "stdout",
     "output_type": "stream",
     "text": [
      "MAPE: 0.004313387597096063\n"
     ]
    },
    {
     "name": "stderr",
     "output_type": "stream",
     "text": [
      "\u001b[32m[I 2023-07-19 16:57:09,275]\u001b[0m Trial 506 finished with value: 0.8125492759152789 and parameters: {'max_depth': 10, 'eta': 0.02033173161459327, 'gamma': 0.11624638550793721, 'subsample': 0.5882143881786981, 'colsample_bytree': 0.5767081690454999}. Best is trial 57 with value: 0.003554786480584704.\u001b[0m\n"
     ]
    },
    {
     "name": "stdout",
     "output_type": "stream",
     "text": [
      "MAPE: 0.8125492759152789\n"
     ]
    },
    {
     "name": "stderr",
     "output_type": "stream",
     "text": [
      "\u001b[32m[I 2023-07-19 16:57:11,653]\u001b[0m Trial 507 finished with value: 0.006358441940034611 and parameters: {'max_depth': 10, 'eta': 0.7421158720494785, 'gamma': 0.9996477974724167, 'subsample': 0.6101393346260023, 'colsample_bytree': 0.8981613867581877}. Best is trial 57 with value: 0.003554786480584704.\u001b[0m\n"
     ]
    },
    {
     "name": "stdout",
     "output_type": "stream",
     "text": [
      "MAPE: 0.006358441940034611\n"
     ]
    },
    {
     "name": "stderr",
     "output_type": "stream",
     "text": [
      "\u001b[32m[I 2023-07-19 16:57:13,771]\u001b[0m Trial 508 finished with value: 0.01345451822138728 and parameters: {'max_depth': 9, 'eta': 0.593473358435488, 'gamma': 0.19719502445061746, 'subsample': 0.7272252231836738, 'colsample_bytree': 0.6790516719011517}. Best is trial 57 with value: 0.003554786480584704.\u001b[0m\n"
     ]
    },
    {
     "name": "stdout",
     "output_type": "stream",
     "text": [
      "MAPE: 0.01345451822138728\n"
     ]
    },
    {
     "name": "stderr",
     "output_type": "stream",
     "text": [
      "\u001b[32m[I 2023-07-19 16:57:15,115]\u001b[0m Trial 509 finished with value: 0.36246949658642375 and parameters: {'max_depth': 10, 'eta': 0.09524982812834516, 'gamma': 0.016523802765511474, 'subsample': 0.7696585264022147, 'colsample_bytree': 0.5613331028329863}. Best is trial 57 with value: 0.003554786480584704.\u001b[0m\n"
     ]
    },
    {
     "name": "stdout",
     "output_type": "stream",
     "text": [
      "MAPE: 0.36246949658642375\n"
     ]
    },
    {
     "name": "stderr",
     "output_type": "stream",
     "text": [
      "\u001b[32m[I 2023-07-19 16:57:16,035]\u001b[0m Trial 510 finished with value: 0.06154480133183738 and parameters: {'max_depth': 10, 'eta': 0.5063427071216601, 'gamma': 0.4361506579238215, 'subsample': 0.31397862576423136, 'colsample_bytree': 0.17708774002457645}. Best is trial 57 with value: 0.003554786480584704.\u001b[0m\n"
     ]
    },
    {
     "name": "stdout",
     "output_type": "stream",
     "text": [
      "MAPE: 0.06154480133183738\n"
     ]
    },
    {
     "name": "stderr",
     "output_type": "stream",
     "text": [
      "\u001b[32m[I 2023-07-19 16:57:17,167]\u001b[0m Trial 511 finished with value: 0.5920986819433296 and parameters: {'max_depth': 10, 'eta': 0.050073889144029424, 'gamma': 0.25574904107531515, 'subsample': 0.7458059468509546, 'colsample_bytree': 0.2303338330910326}. Best is trial 57 with value: 0.003554786480584704.\u001b[0m\n"
     ]
    },
    {
     "name": "stdout",
     "output_type": "stream",
     "text": [
      "MAPE: 0.5920986819433296\n"
     ]
    },
    {
     "name": "stderr",
     "output_type": "stream",
     "text": [
      "\u001b[32m[I 2023-07-19 16:57:18,564]\u001b[0m Trial 512 finished with value: 0.3306588130213978 and parameters: {'max_depth': 10, 'eta': 0.10469414529857321, 'gamma': 0.3184431802143306, 'subsample': 0.7134349071321783, 'colsample_bytree': 0.9252212836364007}. Best is trial 57 with value: 0.003554786480584704.\u001b[0m\n"
     ]
    },
    {
     "name": "stdout",
     "output_type": "stream",
     "text": [
      "MAPE: 0.3306588130213978\n"
     ]
    },
    {
     "name": "stderr",
     "output_type": "stream",
     "text": [
      "\u001b[32m[I 2023-07-19 16:57:20,261]\u001b[0m Trial 513 finished with value: 0.06164295514352778 and parameters: {'max_depth': 10, 'eta': 0.2424228598211899, 'gamma': 0.5224568852600316, 'subsample': 0.6416244983495947, 'colsample_bytree': 0.8609265239612517}. Best is trial 57 with value: 0.003554786480584704.\u001b[0m\n"
     ]
    },
    {
     "name": "stdout",
     "output_type": "stream",
     "text": [
      "MAPE: 0.06164295514352778\n"
     ]
    },
    {
     "name": "stderr",
     "output_type": "stream",
     "text": [
      "\u001b[32m[I 2023-07-19 16:57:22,529]\u001b[0m Trial 514 finished with value: 0.003951100931128954 and parameters: {'max_depth': 10, 'eta': 0.6284410876926239, 'gamma': 0.3636889876196462, 'subsample': 0.685281040388853, 'colsample_bytree': 0.9559479517467795}. Best is trial 57 with value: 0.003554786480584704.\u001b[0m\n"
     ]
    },
    {
     "name": "stdout",
     "output_type": "stream",
     "text": [
      "MAPE: 0.003951100931128954\n"
     ]
    },
    {
     "name": "stderr",
     "output_type": "stream",
     "text": [
      "\u001b[32m[I 2023-07-19 16:57:23,085]\u001b[0m Trial 515 finished with value: 0.1665422808475492 and parameters: {'max_depth': 3, 'eta': 0.15984931479715914, 'gamma': 0.6312452477740608, 'subsample': 0.6662870359913144, 'colsample_bytree': 0.5467360629749929}. Best is trial 57 with value: 0.003554786480584704.\u001b[0m\n"
     ]
    },
    {
     "name": "stdout",
     "output_type": "stream",
     "text": [
      "MAPE: 0.1665422808475492\n"
     ]
    },
    {
     "name": "stderr",
     "output_type": "stream",
     "text": [
      "\u001b[32m[I 2023-07-19 16:57:24,435]\u001b[0m Trial 516 finished with value: 0.3526719684843556 and parameters: {'max_depth': 10, 'eta': 0.09894289640385437, 'gamma': 0.4060272836153199, 'subsample': 0.702363083026267, 'colsample_bytree': 0.9835964487015224}. Best is trial 57 with value: 0.003554786480584704.\u001b[0m\n"
     ]
    },
    {
     "name": "stdout",
     "output_type": "stream",
     "text": [
      "MAPE: 0.3526719684843556\n"
     ]
    },
    {
     "name": "stderr",
     "output_type": "stream",
     "text": [
      "\u001b[32m[I 2023-07-19 16:57:26,242]\u001b[0m Trial 517 finished with value: 0.047534229061388565 and parameters: {'max_depth': 10, 'eta': 0.2615532581170386, 'gamma': 0.4622238923036651, 'subsample': 0.7363554983409374, 'colsample_bytree': 0.9406152977520844}. Best is trial 57 with value: 0.003554786480584704.\u001b[0m\n"
     ]
    },
    {
     "name": "stdout",
     "output_type": "stream",
     "text": [
      "MAPE: 0.047534229061388565\n"
     ]
    },
    {
     "name": "stderr",
     "output_type": "stream",
     "text": [
      "\u001b[32m[I 2023-07-19 16:57:28,415]\u001b[0m Trial 518 finished with value: 0.003642057171230395 and parameters: {'max_depth': 10, 'eta': 0.558431457165479, 'gamma': 0.03784745742091824, 'subsample': 0.5487736350100517, 'colsample_bytree': 0.9654871319873287}. Best is trial 57 with value: 0.003554786480584704.\u001b[0m\n"
     ]
    },
    {
     "name": "stdout",
     "output_type": "stream",
     "text": [
      "MAPE: 0.003642057171230395\n"
     ]
    },
    {
     "name": "stderr",
     "output_type": "stream",
     "text": [
      "\u001b[32m[I 2023-07-19 16:57:29,547]\u001b[0m Trial 519 finished with value: 0.06073231880629655 and parameters: {'max_depth': 10, 'eta': 0.4809287566057039, 'gamma': 0.02272228226694654, 'subsample': 0.5342994639926587, 'colsample_bytree': 0.19833691121627173}. Best is trial 57 with value: 0.003554786480584704.\u001b[0m\n"
     ]
    },
    {
     "name": "stdout",
     "output_type": "stream",
     "text": [
      "MAPE: 0.06073231880629655\n"
     ]
    },
    {
     "name": "stderr",
     "output_type": "stream",
     "text": [
      "\u001b[32m[I 2023-07-19 16:57:30,841]\u001b[0m Trial 520 finished with value: 0.3752251035107487 and parameters: {'max_depth': 10, 'eta': 0.09310881579998417, 'gamma': 0.04462474435830413, 'subsample': 0.5062419651210616, 'colsample_bytree': 0.7631874956178943}. Best is trial 57 with value: 0.003554786480584704.\u001b[0m\n"
     ]
    },
    {
     "name": "stdout",
     "output_type": "stream",
     "text": [
      "MAPE: 0.3752251035107487\n"
     ]
    },
    {
     "name": "stderr",
     "output_type": "stream",
     "text": [
      "\u001b[32m[I 2023-07-19 16:57:31,750]\u001b[0m Trial 521 finished with value: 0.009806142741127191 and parameters: {'max_depth': 4, 'eta': 0.5462143841264325, 'gamma': 0.07349163535299744, 'subsample': 0.5246934936962916, 'colsample_bytree': 0.9636163433526628}. Best is trial 57 with value: 0.003554786480584704.\u001b[0m\n"
     ]
    },
    {
     "name": "stdout",
     "output_type": "stream",
     "text": [
      "MAPE: 0.009806142741127191\n"
     ]
    },
    {
     "name": "stderr",
     "output_type": "stream",
     "text": [
      "\u001b[32m[I 2023-07-19 16:57:33,289]\u001b[0m Trial 522 finished with value: 0.023213645949795435 and parameters: {'max_depth': 10, 'eta': 0.5697838656039036, 'gamma': 0.027632570967413454, 'subsample': 0.5479453647103766, 'colsample_bytree': 0.4555715718013275}. Best is trial 57 with value: 0.003554786480584704.\u001b[0m\n"
     ]
    },
    {
     "name": "stdout",
     "output_type": "stream",
     "text": [
      "MAPE: 0.023213645949795435\n"
     ]
    },
    {
     "name": "stderr",
     "output_type": "stream",
     "text": [
      "\u001b[32m[I 2023-07-19 16:57:34,615]\u001b[0m Trial 523 finished with value: 0.41877641738290217 and parameters: {'max_depth': 10, 'eta': 0.08330617750314462, 'gamma': 0.016223458028360453, 'subsample': 0.6121141589650119, 'colsample_bytree': 0.9325712087969578}. Best is trial 57 with value: 0.003554786480584704.\u001b[0m\n"
     ]
    },
    {
     "name": "stdout",
     "output_type": "stream",
     "text": [
      "MAPE: 0.41877641738290217\n"
     ]
    },
    {
     "name": "stderr",
     "output_type": "stream",
     "text": [
      "\u001b[32m[I 2023-07-19 16:57:35,904]\u001b[0m Trial 524 finished with value: 0.039767902722705695 and parameters: {'max_depth': 10, 'eta': 0.5021410789698199, 'gamma': 0.04449681849877404, 'subsample': 0.48995213175183505, 'colsample_bytree': 0.29858594179486564}. Best is trial 57 with value: 0.003554786480584704.\u001b[0m\n"
     ]
    },
    {
     "name": "stdout",
     "output_type": "stream",
     "text": [
      "MAPE: 0.039767902722705695\n"
     ]
    },
    {
     "name": "stderr",
     "output_type": "stream",
     "text": [
      "\u001b[32m[I 2023-07-19 16:57:36,990]\u001b[0m Trial 525 finished with value: 0.04270383043075644 and parameters: {'max_depth': 9, 'eta': 0.4019273088754111, 'gamma': 0.22273959328408902, 'subsample': 0.4674592976347068, 'colsample_bytree': 0.24319757664246555}. Best is trial 57 with value: 0.003554786480584704.\u001b[0m\n"
     ]
    },
    {
     "name": "stdout",
     "output_type": "stream",
     "text": [
      "MAPE: 0.04270383043075644\n"
     ]
    },
    {
     "name": "stderr",
     "output_type": "stream",
     "text": [
      "\u001b[32m[I 2023-07-19 16:57:39,246]\u001b[0m Trial 526 finished with value: 0.004008536532567038 and parameters: {'max_depth': 10, 'eta': 0.6868327528488657, 'gamma': 0.06860826972119757, 'subsample': 0.5827200994376492, 'colsample_bytree': 0.9515855801708649}. Best is trial 57 with value: 0.003554786480584704.\u001b[0m\n"
     ]
    },
    {
     "name": "stdout",
     "output_type": "stream",
     "text": [
      "MAPE: 0.004008536532567038\n"
     ]
    },
    {
     "name": "stderr",
     "output_type": "stream",
     "text": [
      "\u001b[32m[I 2023-07-19 16:57:41,290]\u001b[0m Trial 527 finished with value: 0.004173564504651892 and parameters: {'max_depth': 10, 'eta': 0.4472324764691075, 'gamma': 0.06290709465872109, 'subsample': 0.5649349361833491, 'colsample_bytree': 0.9989399892221936}. Best is trial 57 with value: 0.003554786480584704.\u001b[0m\n"
     ]
    },
    {
     "name": "stdout",
     "output_type": "stream",
     "text": [
      "MAPE: 0.004173564504651892\n"
     ]
    },
    {
     "name": "stderr",
     "output_type": "stream",
     "text": [
      "\u001b[32m[I 2023-07-19 16:57:42,257]\u001b[0m Trial 528 finished with value: 0.2654873142695604 and parameters: {'max_depth': 10, 'eta': 0.11314527327274172, 'gamma': 0.05449745407997383, 'subsample': 0.6325280164639949, 'colsample_bytree': 0.12279593247565607}. Best is trial 57 with value: 0.003554786480584704.\u001b[0m\n"
     ]
    },
    {
     "name": "stdout",
     "output_type": "stream",
     "text": [
      "MAPE: 0.2654873142695604\n"
     ]
    },
    {
     "name": "stderr",
     "output_type": "stream",
     "text": [
      "\u001b[32m[I 2023-07-19 16:57:44,423]\u001b[0m Trial 529 finished with value: 0.005203626378454363 and parameters: {'max_depth': 10, 'eta': 0.567899556627731, 'gamma': 0.2006613628456708, 'subsample': 0.5548899540571166, 'colsample_bytree': 0.884643503600402}. Best is trial 57 with value: 0.003554786480584704.\u001b[0m\n"
     ]
    },
    {
     "name": "stdout",
     "output_type": "stream",
     "text": [
      "MAPE: 0.005203626378454363\n"
     ]
    },
    {
     "name": "stderr",
     "output_type": "stream",
     "text": [
      "\u001b[32m[I 2023-07-19 16:57:46,003]\u001b[0m Trial 530 finished with value: 0.02296322556960714 and parameters: {'max_depth': 10, 'eta': 0.5150202169996001, 'gamma': 0.12981662708069147, 'subsample': 0.601277376972427, 'colsample_bytree': 0.47263249615793745}. Best is trial 57 with value: 0.003554786480584704.\u001b[0m\n"
     ]
    },
    {
     "name": "stdout",
     "output_type": "stream",
     "text": [
      "MAPE: 0.02296322556960714\n"
     ]
    },
    {
     "name": "stderr",
     "output_type": "stream",
     "text": [
      "\u001b[32m[I 2023-07-19 16:57:47,241]\u001b[0m Trial 531 finished with value: 0.5442649203661004 and parameters: {'max_depth': 10, 'eta': 0.05774627889789157, 'gamma': 0.03810645326480531, 'subsample': 0.6568952369267779, 'colsample_bytree': 0.31836684253322545}. Best is trial 57 with value: 0.003554786480584704.\u001b[0m\n"
     ]
    },
    {
     "name": "stdout",
     "output_type": "stream",
     "text": [
      "MAPE: 0.5442649203661004\n"
     ]
    },
    {
     "name": "stderr",
     "output_type": "stream",
     "text": [
      "\u001b[32m[I 2023-07-19 16:57:49,399]\u001b[0m Trial 532 finished with value: 0.0036810602127555618 and parameters: {'max_depth': 10, 'eta': 0.6433097260826232, 'gamma': 0.05361251712886182, 'subsample': 0.48221341696864495, 'colsample_bytree': 0.9677474502507915}. Best is trial 57 with value: 0.003554786480584704.\u001b[0m\n"
     ]
    },
    {
     "name": "stdout",
     "output_type": "stream",
     "text": [
      "MAPE: 0.0036810602127555618\n"
     ]
    },
    {
     "name": "stderr",
     "output_type": "stream",
     "text": [
      "\u001b[32m[I 2023-07-19 16:57:51,599]\u001b[0m Trial 533 finished with value: 0.007976818835898175 and parameters: {'max_depth': 10, 'eta': 0.8754665376375812, 'gamma': 0.0371837639906106, 'subsample': 0.43135417339521437, 'colsample_bytree': 0.912358147334487}. Best is trial 57 with value: 0.003554786480584704.\u001b[0m\n"
     ]
    },
    {
     "name": "stdout",
     "output_type": "stream",
     "text": [
      "MAPE: 0.007976818835898175\n"
     ]
    },
    {
     "name": "stderr",
     "output_type": "stream",
     "text": [
      "\u001b[32m[I 2023-07-19 16:57:53,240]\u001b[0m Trial 534 finished with value: 0.033032141648655526 and parameters: {'max_depth': 10, 'eta': 0.9998343964197388, 'gamma': 0.04897403245617618, 'subsample': 0.45451341689801217, 'colsample_bytree': 0.49896024357705415}. Best is trial 57 with value: 0.003554786480584704.\u001b[0m\n"
     ]
    },
    {
     "name": "stdout",
     "output_type": "stream",
     "text": [
      "MAPE: 0.033032141648655526\n"
     ]
    },
    {
     "name": "stderr",
     "output_type": "stream",
     "text": [
      "\u001b[32m[I 2023-07-19 16:57:54,396]\u001b[0m Trial 535 finished with value: 0.24812372793958817 and parameters: {'max_depth': 9, 'eta': 0.12643269549006433, 'gamma': 0.8354302445630555, 'subsample': 0.5018775496404155, 'colsample_bytree': 0.3943967273684649}. Best is trial 57 with value: 0.003554786480584704.\u001b[0m\n"
     ]
    },
    {
     "name": "stdout",
     "output_type": "stream",
     "text": [
      "MAPE: 0.24812372793958817\n"
     ]
    },
    {
     "name": "stderr",
     "output_type": "stream",
     "text": [
      "\u001b[32m[I 2023-07-19 16:57:56,553]\u001b[0m Trial 536 finished with value: 0.003931724615636839 and parameters: {'max_depth': 10, 'eta': 0.6912354093707501, 'gamma': 0.052283765866997296, 'subsample': 0.4821507118861311, 'colsample_bytree': 0.9683496007884208}. Best is trial 57 with value: 0.003554786480584704.\u001b[0m\n"
     ]
    },
    {
     "name": "stdout",
     "output_type": "stream",
     "text": [
      "MAPE: 0.003931724615636839\n"
     ]
    },
    {
     "name": "stderr",
     "output_type": "stream",
     "text": [
      "\u001b[32m[I 2023-07-19 16:57:58,791]\u001b[0m Trial 537 finished with value: 0.006987652868706541 and parameters: {'max_depth': 10, 'eta': 0.7613932118812171, 'gamma': 0.06399232064332545, 'subsample': 0.5110672151408774, 'colsample_bytree': 0.9461728530471624}. Best is trial 57 with value: 0.003554786480584704.\u001b[0m\n"
     ]
    },
    {
     "name": "stdout",
     "output_type": "stream",
     "text": [
      "MAPE: 0.006987652868706541\n"
     ]
    },
    {
     "name": "stderr",
     "output_type": "stream",
     "text": [
      "\u001b[32m[I 2023-07-19 16:58:00,556]\u001b[0m Trial 538 finished with value: 0.01215537394562751 and parameters: {'max_depth': 10, 'eta': 0.35704412737906654, 'gamma': 0.043865872082506405, 'subsample': 0.43893344739303913, 'colsample_bytree': 0.9233485919514665}. Best is trial 57 with value: 0.003554786480584704.\u001b[0m\n"
     ]
    },
    {
     "name": "stdout",
     "output_type": "stream",
     "text": [
      "MAPE: 0.01215537394562751\n"
     ]
    },
    {
     "name": "stderr",
     "output_type": "stream",
     "text": [
      "\u001b[32m[I 2023-07-19 16:58:01,674]\u001b[0m Trial 539 finished with value: 0.5977864014441556 and parameters: {'max_depth': 10, 'eta': 0.049496966631255336, 'gamma': 0.04777347217930226, 'subsample': 0.4804552654850208, 'colsample_bytree': 0.5070963459620559}. Best is trial 57 with value: 0.003554786480584704.\u001b[0m\n"
     ]
    },
    {
     "name": "stdout",
     "output_type": "stream",
     "text": [
      "MAPE: 0.5977864014441556\n"
     ]
    },
    {
     "name": "stderr",
     "output_type": "stream",
     "text": [
      "\u001b[32m[I 2023-07-19 16:58:02,847]\u001b[0m Trial 540 finished with value: 0.4075495366918152 and parameters: {'max_depth': 10, 'eta': 0.08374385939667069, 'gamma': 0.056483060596582896, 'subsample': 0.463811415789113, 'colsample_bytree': 0.34978214181976236}. Best is trial 57 with value: 0.003554786480584704.\u001b[0m\n"
     ]
    },
    {
     "name": "stdout",
     "output_type": "stream",
     "text": [
      "MAPE: 0.4075495366918152\n"
     ]
    },
    {
     "name": "stderr",
     "output_type": "stream",
     "text": [
      "\u001b[32m[I 2023-07-19 16:58:04,014]\u001b[0m Trial 541 finished with value: 0.3997418964293106 and parameters: {'max_depth': 10, 'eta': 0.0875876363216372, 'gamma': 0.042960380598145775, 'subsample': 0.4461328610480914, 'colsample_bytree': 0.9685366068418824}. Best is trial 57 with value: 0.003554786480584704.\u001b[0m\n"
     ]
    },
    {
     "name": "stdout",
     "output_type": "stream",
     "text": [
      "MAPE: 0.3997418964293106\n"
     ]
    },
    {
     "name": "stderr",
     "output_type": "stream",
     "text": [
      "\u001b[32m[I 2023-07-19 16:58:05,270]\u001b[0m Trial 542 finished with value: 0.040424275909566154 and parameters: {'max_depth': 9, 'eta': 0.6431504530683746, 'gamma': 0.055608302376344045, 'subsample': 0.6787680385150879, 'colsample_bytree': 0.27207923903477244}. Best is trial 57 with value: 0.003554786480584704.\u001b[0m\n"
     ]
    },
    {
     "name": "stdout",
     "output_type": "stream",
     "text": [
      "MAPE: 0.040424275909566154\n"
     ]
    },
    {
     "name": "stderr",
     "output_type": "stream",
     "text": [
      "\u001b[32m[I 2023-07-19 16:58:06,666]\u001b[0m Trial 543 finished with value: 0.013041898003351354 and parameters: {'max_depth': 10, 'eta': 0.5610217039216809, 'gamma': 0.03335190707210452, 'subsample': 0.19142976710422743, 'colsample_bytree': 0.6659318968869955}. Best is trial 57 with value: 0.003554786480584704.\u001b[0m\n"
     ]
    },
    {
     "name": "stdout",
     "output_type": "stream",
     "text": [
      "MAPE: 0.013041898003351354\n"
     ]
    },
    {
     "name": "stderr",
     "output_type": "stream",
     "text": [
      "\u001b[32m[I 2023-07-19 16:58:08,736]\u001b[0m Trial 544 finished with value: 0.00381971833549065 and parameters: {'max_depth': 10, 'eta': 0.4716684974991603, 'gamma': 0.036491187872194686, 'subsample': 0.572470127914504, 'colsample_bytree': 0.9545016209675232}. Best is trial 57 with value: 0.003554786480584704.\u001b[0m\n"
     ]
    },
    {
     "name": "stdout",
     "output_type": "stream",
     "text": [
      "MAPE: 0.00381971833549065\n"
     ]
    },
    {
     "name": "stderr",
     "output_type": "stream",
     "text": [
      "\u001b[32m[I 2023-07-19 16:58:10,893]\u001b[0m Trial 545 finished with value: 0.0037676741461436744 and parameters: {'max_depth': 10, 'eta': 0.6000538931228018, 'gamma': 0.07025104461677686, 'subsample': 0.5379788090365029, 'colsample_bytree': 0.9727792296277543}. Best is trial 57 with value: 0.003554786480584704.\u001b[0m\n"
     ]
    },
    {
     "name": "stdout",
     "output_type": "stream",
     "text": [
      "MAPE: 0.0037676741461436744\n"
     ]
    },
    {
     "name": "stderr",
     "output_type": "stream",
     "text": [
      "\u001b[32m[I 2023-07-19 16:58:13,122]\u001b[0m Trial 546 finished with value: 0.0037003352375523995 and parameters: {'max_depth': 10, 'eta': 0.52445114547681, 'gamma': 0.05917349766660995, 'subsample': 0.6974875271640874, 'colsample_bytree': 0.9999060153991484}. Best is trial 57 with value: 0.003554786480584704.\u001b[0m\n"
     ]
    },
    {
     "name": "stdout",
     "output_type": "stream",
     "text": [
      "MAPE: 0.0037003352375523995\n"
     ]
    },
    {
     "name": "stderr",
     "output_type": "stream",
     "text": [
      "\u001b[32m[I 2023-07-19 16:58:15,472]\u001b[0m Trial 547 finished with value: 0.00791091234003765 and parameters: {'max_depth': 10, 'eta': 0.8005477392848747, 'gamma': 0.0416113685814096, 'subsample': 0.5138567316151048, 'colsample_bytree': 0.9360089694815555}. Best is trial 57 with value: 0.003554786480584704.\u001b[0m\n"
     ]
    },
    {
     "name": "stdout",
     "output_type": "stream",
     "text": [
      "MAPE: 0.00791091234003765\n"
     ]
    },
    {
     "name": "stderr",
     "output_type": "stream",
     "text": [
      "\u001b[32m[I 2023-07-19 16:58:16,831]\u001b[0m Trial 548 finished with value: 0.11642100621911486 and parameters: {'max_depth': 10, 'eta': 0.18705905598293784, 'gamma': 0.03938203482685448, 'subsample': 0.6731296206042191, 'colsample_bytree': 0.4009818573347678}. Best is trial 57 with value: 0.003554786480584704.\u001b[0m\n"
     ]
    },
    {
     "name": "stdout",
     "output_type": "stream",
     "text": [
      "MAPE: 0.11642100621911486\n"
     ]
    },
    {
     "name": "stderr",
     "output_type": "stream",
     "text": [
      "\u001b[32m[I 2023-07-19 16:58:18,880]\u001b[0m Trial 549 finished with value: 0.016012410116945496 and parameters: {'max_depth': 10, 'eta': 0.6597706779262495, 'gamma': 0.05015413811126455, 'subsample': 0.419692598539685, 'colsample_bytree': 0.6959756384366029}. Best is trial 57 with value: 0.003554786480584704.\u001b[0m\n"
     ]
    },
    {
     "name": "stdout",
     "output_type": "stream",
     "text": [
      "MAPE: 0.016012410116945496\n"
     ]
    },
    {
     "name": "stderr",
     "output_type": "stream",
     "text": [
      "\u001b[32m[I 2023-07-19 16:58:20,239]\u001b[0m Trial 550 finished with value: 0.040090656234014574 and parameters: {'max_depth': 10, 'eta': 0.43673154545681275, 'gamma': 0.058590245914537945, 'subsample': 0.5870039664218425, 'colsample_bytree': 0.354494563546791}. Best is trial 57 with value: 0.003554786480584704.\u001b[0m\n"
     ]
    },
    {
     "name": "stdout",
     "output_type": "stream",
     "text": [
      "MAPE: 0.040090656234014574\n"
     ]
    },
    {
     "name": "stderr",
     "output_type": "stream",
     "text": [
      "\u001b[32m[I 2023-07-19 16:58:21,517]\u001b[0m Trial 551 finished with value: 0.0450031400193812 and parameters: {'max_depth': 9, 'eta': 0.5852429170761287, 'gamma': 0.03874247382461764, 'subsample': 0.7190392871162807, 'colsample_bytree': 0.32871940698916735}. Best is trial 57 with value: 0.003554786480584704.\u001b[0m\n"
     ]
    },
    {
     "name": "stdout",
     "output_type": "stream",
     "text": [
      "MAPE: 0.0450031400193812\n"
     ]
    },
    {
     "name": "stderr",
     "output_type": "stream",
     "text": [
      "\u001b[32m[I 2023-07-19 16:58:23,969]\u001b[0m Trial 552 finished with value: 0.006339073052299827 and parameters: {'max_depth': 10, 'eta': 0.7052269941785789, 'gamma': 0.04645239642501737, 'subsample': 0.6969833061671523, 'colsample_bytree': 0.9044248467578806}. Best is trial 57 with value: 0.003554786480584704.\u001b[0m\n"
     ]
    },
    {
     "name": "stdout",
     "output_type": "stream",
     "text": [
      "MAPE: 0.006339073052299827\n"
     ]
    },
    {
     "name": "stderr",
     "output_type": "stream",
     "text": [
      "\u001b[32m[I 2023-07-19 16:58:25,287]\u001b[0m Trial 553 finished with value: 0.0060225757995727115 and parameters: {'max_depth': 6, 'eta': 0.5366783725158941, 'gamma': 0.033458637146944914, 'subsample': 0.6428448128897344, 'colsample_bytree': 0.9618114421022179}. Best is trial 57 with value: 0.003554786480584704.\u001b[0m\n"
     ]
    },
    {
     "name": "stdout",
     "output_type": "stream",
     "text": [
      "MAPE: 0.0060225757995727115\n"
     ]
    },
    {
     "name": "stderr",
     "output_type": "stream",
     "text": [
      "\u001b[32m[I 2023-07-19 16:58:26,621]\u001b[0m Trial 554 finished with value: 0.90135551892725 and parameters: {'max_depth': 10, 'eta': 0.01033048030783966, 'gamma': 0.05163795630114265, 'subsample': 0.7159642063037, 'colsample_bytree': 0.984543242894995}. Best is trial 57 with value: 0.003554786480584704.\u001b[0m\n"
     ]
    },
    {
     "name": "stdout",
     "output_type": "stream",
     "text": [
      "MAPE: 0.90135551892725\n"
     ]
    },
    {
     "name": "stderr",
     "output_type": "stream",
     "text": [
      "\u001b[32m[I 2023-07-19 16:58:28,825]\u001b[0m Trial 555 finished with value: 0.005761222522394363 and parameters: {'max_depth': 10, 'eta': 0.6288954425038404, 'gamma': 0.05308225874933178, 'subsample': 0.47863398452574296, 'colsample_bytree': 0.9416131830534014}. Best is trial 57 with value: 0.003554786480584704.\u001b[0m\n"
     ]
    },
    {
     "name": "stdout",
     "output_type": "stream",
     "text": [
      "MAPE: 0.005761222522394363\n"
     ]
    },
    {
     "name": "stderr",
     "output_type": "stream",
     "text": [
      "\u001b[32m[I 2023-07-19 16:58:30,789]\u001b[0m Trial 556 finished with value: 0.040712365863623624 and parameters: {'max_depth': 10, 'eta': 0.272316570613228, 'gamma': 0.17145029272110834, 'subsample': 0.6269174200072203, 'colsample_bytree': 0.632949844452251}. Best is trial 57 with value: 0.003554786480584704.\u001b[0m\n"
     ]
    },
    {
     "name": "stdout",
     "output_type": "stream",
     "text": [
      "MAPE: 0.040712365863623624\n"
     ]
    },
    {
     "name": "stderr",
     "output_type": "stream",
     "text": [
      "\u001b[32m[I 2023-07-19 16:58:32,951]\u001b[0m Trial 557 finished with value: 0.003807773127411584 and parameters: {'max_depth': 10, 'eta': 0.49566975895019955, 'gamma': 0.06214046426899643, 'subsample': 0.6830203483378164, 'colsample_bytree': 0.9995099154974544}. Best is trial 57 with value: 0.003554786480584704.\u001b[0m\n"
     ]
    },
    {
     "name": "stdout",
     "output_type": "stream",
     "text": [
      "MAPE: 0.003807773127411584\n"
     ]
    },
    {
     "name": "stderr",
     "output_type": "stream",
     "text": [
      "\u001b[32m[I 2023-07-19 16:58:34,924]\u001b[0m Trial 558 finished with value: 0.00401976561139337 and parameters: {'max_depth': 10, 'eta': 0.7352278202190722, 'gamma': 0.08081031338353639, 'subsample': 0.3972274810729046, 'colsample_bytree': 0.970868593020425}. Best is trial 57 with value: 0.003554786480584704.\u001b[0m\n"
     ]
    },
    {
     "name": "stdout",
     "output_type": "stream",
     "text": [
      "MAPE: 0.00401976561139337\n"
     ]
    },
    {
     "name": "stderr",
     "output_type": "stream",
     "text": [
      "\u001b[32m[I 2023-07-19 16:58:37,003]\u001b[0m Trial 559 finished with value: 0.012153649310132268 and parameters: {'max_depth': 10, 'eta': 0.5748283644478963, 'gamma': 0.07037535437087006, 'subsample': 0.5585958933599937, 'colsample_bytree': 0.5935745910355722}. Best is trial 57 with value: 0.003554786480584704.\u001b[0m\n"
     ]
    },
    {
     "name": "stdout",
     "output_type": "stream",
     "text": [
      "MAPE: 0.012153649310132268\n"
     ]
    },
    {
     "name": "stderr",
     "output_type": "stream",
     "text": [
      "\u001b[32m[I 2023-07-19 16:58:38,467]\u001b[0m Trial 560 finished with value: 0.19492678142760797 and parameters: {'max_depth': 10, 'eta': 0.15007475501086817, 'gamma': 0.1200941143597998, 'subsample': 0.4549420356656649, 'colsample_bytree': 0.7261003572686092}. Best is trial 57 with value: 0.003554786480584704.\u001b[0m\n"
     ]
    },
    {
     "name": "stdout",
     "output_type": "stream",
     "text": [
      "MAPE: 0.19492678142760797\n"
     ]
    },
    {
     "name": "stderr",
     "output_type": "stream",
     "text": [
      "\u001b[32m[I 2023-07-19 16:58:39,791]\u001b[0m Trial 561 finished with value: 0.4837783630180741 and parameters: {'max_depth': 10, 'eta': 0.07003212538047204, 'gamma': 0.1859238139931394, 'subsample': 0.6604968435573929, 'colsample_bytree': 0.9527655184359846}. Best is trial 57 with value: 0.003554786480584704.\u001b[0m\n"
     ]
    },
    {
     "name": "stdout",
     "output_type": "stream",
     "text": [
      "MAPE: 0.4837783630180741\n"
     ]
    },
    {
     "name": "stderr",
     "output_type": "stream",
     "text": [
      "\u001b[32m[I 2023-07-19 16:58:41,265]\u001b[0m Trial 562 finished with value: 0.03370364823716219 and parameters: {'max_depth': 10, 'eta': 0.9163301208430358, 'gamma': 0.02791509249377738, 'subsample': 0.5329429421110451, 'colsample_bytree': 0.3817516920905918}. Best is trial 57 with value: 0.003554786480584704.\u001b[0m\n"
     ]
    },
    {
     "name": "stdout",
     "output_type": "stream",
     "text": [
      "MAPE: 0.03370364823716219\n"
     ]
    },
    {
     "name": "stderr",
     "output_type": "stream",
     "text": [
      "\u001b[32m[I 2023-07-19 16:58:42,754]\u001b[0m Trial 563 finished with value: 0.03294694134251745 and parameters: {'max_depth': 10, 'eta': 0.4649459885461899, 'gamma': 0.07622516430306925, 'subsample': 0.7039094273552832, 'colsample_bytree': 0.41182983050770444}. Best is trial 57 with value: 0.003554786480584704.\u001b[0m\n"
     ]
    },
    {
     "name": "stdout",
     "output_type": "stream",
     "text": [
      "MAPE: 0.03294694134251745\n"
     ]
    },
    {
     "name": "stderr",
     "output_type": "stream",
     "text": [
      "\u001b[32m[I 2023-07-19 16:58:44,707]\u001b[0m Trial 564 finished with value: 0.006238153141343991 and parameters: {'max_depth': 9, 'eta': 0.4051047232475902, 'gamma': 0.08673700693799483, 'subsample': 0.8054128325762403, 'colsample_bytree': 0.9829279440143478}. Best is trial 57 with value: 0.003554786480584704.\u001b[0m\n"
     ]
    },
    {
     "name": "stdout",
     "output_type": "stream",
     "text": [
      "MAPE: 0.006238153141343991\n"
     ]
    },
    {
     "name": "stderr",
     "output_type": "stream",
     "text": [
      "\u001b[32m[I 2023-07-19 16:58:47,097]\u001b[0m Trial 565 finished with value: 0.012012516215223716 and parameters: {'max_depth': 10, 'eta': 0.6342093765470379, 'gamma': 0.07715330141280798, 'subsample': 0.7263530048803993, 'colsample_bytree': 0.7737772640637}. Best is trial 57 with value: 0.003554786480584704.\u001b[0m\n"
     ]
    },
    {
     "name": "stdout",
     "output_type": "stream",
     "text": [
      "MAPE: 0.012012516215223716\n"
     ]
    },
    {
     "name": "stderr",
     "output_type": "stream",
     "text": [
      "\u001b[32m[I 2023-07-19 16:58:48,433]\u001b[0m Trial 566 finished with value: 0.5686193578202888 and parameters: {'max_depth': 10, 'eta': 0.05486157331718722, 'gamma': 0.2411241916464444, 'subsample': 0.6024602835161236, 'colsample_bytree': 0.923234083996212}. Best is trial 57 with value: 0.003554786480584704.\u001b[0m\n"
     ]
    },
    {
     "name": "stdout",
     "output_type": "stream",
     "text": [
      "MAPE: 0.5686193578202888\n"
     ]
    },
    {
     "name": "stderr",
     "output_type": "stream",
     "text": [
      "\u001b[32m[I 2023-07-19 16:58:49,786]\u001b[0m Trial 567 finished with value: 0.6421835803701775 and parameters: {'max_depth': 10, 'eta': 0.043321370012200794, 'gamma': 0.036067197422427186, 'subsample': 0.75306338531569, 'colsample_bytree': 0.9690822600885198}. Best is trial 57 with value: 0.003554786480584704.\u001b[0m\n"
     ]
    },
    {
     "name": "stdout",
     "output_type": "stream",
     "text": [
      "MAPE: 0.6421835803701775\n"
     ]
    },
    {
     "name": "stderr",
     "output_type": "stream",
     "text": [
      "\u001b[32m[I 2023-07-19 16:58:51,997]\u001b[0m Trial 568 finished with value: 0.003847859097139825 and parameters: {'max_depth': 10, 'eta': 0.533342034170654, 'gamma': 0.03980132745196064, 'subsample': 0.6920575000702035, 'colsample_bytree': 0.9833666750415467}. Best is trial 57 with value: 0.003554786480584704.\u001b[0m\n"
     ]
    },
    {
     "name": "stdout",
     "output_type": "stream",
     "text": [
      "MAPE: 0.003847859097139825\n"
     ]
    },
    {
     "name": "stderr",
     "output_type": "stream",
     "text": [
      "\u001b[32m[I 2023-07-19 16:58:53,081]\u001b[0m Trial 569 finished with value: 0.023090921252313386 and parameters: {'max_depth': 7, 'eta': 0.6575609654181804, 'gamma': 0.7178369818658429, 'subsample': 0.7169111386264236, 'colsample_bytree': 0.43759743149439756}. Best is trial 57 with value: 0.003554786480584704.\u001b[0m\n"
     ]
    },
    {
     "name": "stdout",
     "output_type": "stream",
     "text": [
      "MAPE: 0.023090921252313386\n"
     ]
    },
    {
     "name": "stderr",
     "output_type": "stream",
     "text": [
      "\u001b[32m[I 2023-07-19 16:58:54,215]\u001b[0m Trial 570 finished with value: 0.0610448191959422 and parameters: {'max_depth': 10, 'eta': 0.5093965333364983, 'gamma': 0.28633835830407806, 'subsample': 0.4919357951931547, 'colsample_bytree': 0.1973842405750335}. Best is trial 57 with value: 0.003554786480584704.\u001b[0m\n"
     ]
    },
    {
     "name": "stdout",
     "output_type": "stream",
     "text": [
      "MAPE: 0.0610448191959422\n"
     ]
    },
    {
     "name": "stderr",
     "output_type": "stream",
     "text": [
      "\u001b[32m[I 2023-07-19 16:58:55,408]\u001b[0m Trial 571 finished with value: 0.01839997344837616 and parameters: {'max_depth': 9, 'eta': 0.8121493920461246, 'gamma': 0.10660774424099427, 'subsample': 0.1640986534626454, 'colsample_bytree': 0.6048357127808766}. Best is trial 57 with value: 0.003554786480584704.\u001b[0m\n"
     ]
    },
    {
     "name": "stdout",
     "output_type": "stream",
     "text": [
      "MAPE: 0.01839997344837616\n"
     ]
    },
    {
     "name": "stderr",
     "output_type": "stream",
     "text": [
      "\u001b[32m[I 2023-07-19 16:58:57,254]\u001b[0m Trial 572 finished with value: 0.022962816555281606 and parameters: {'max_depth': 10, 'eta': 0.31367179746767576, 'gamma': 0.02745276599901967, 'subsample': 0.7411708512120221, 'colsample_bytree': 0.9487343862893433}. Best is trial 57 with value: 0.003554786480584704.\u001b[0m\n"
     ]
    },
    {
     "name": "stdout",
     "output_type": "stream",
     "text": [
      "MAPE: 0.022962816555281606\n"
     ]
    },
    {
     "name": "stderr",
     "output_type": "stream",
     "text": [
      "\u001b[32m[I 2023-07-19 16:58:59,485]\u001b[0m Trial 573 finished with value: 0.005616006176251799 and parameters: {'max_depth': 10, 'eta': 0.5861213753833793, 'gamma': 0.023435660724628, 'subsample': 0.672796257644426, 'colsample_bytree': 0.8458775853952936}. Best is trial 57 with value: 0.003554786480584704.\u001b[0m\n"
     ]
    },
    {
     "name": "stdout",
     "output_type": "stream",
     "text": [
      "MAPE: 0.005616006176251799\n"
     ]
    },
    {
     "name": "stderr",
     "output_type": "stream",
     "text": [
      "\u001b[32m[I 2023-07-19 16:59:00,731]\u001b[0m Trial 574 finished with value: 0.6966497519582394 and parameters: {'max_depth': 10, 'eta': 0.035105802163977545, 'gamma': 0.2774840265827134, 'subsample': 0.7851736256998564, 'colsample_bytree': 0.48152388539149293}. Best is trial 57 with value: 0.003554786480584704.\u001b[0m\n"
     ]
    },
    {
     "name": "stdout",
     "output_type": "stream",
     "text": [
      "MAPE: 0.6966497519582394\n"
     ]
    },
    {
     "name": "stderr",
     "output_type": "stream",
     "text": [
      "\u001b[32m[I 2023-07-19 16:59:01,947]\u001b[0m Trial 575 finished with value: 0.1515028399246128 and parameters: {'max_depth': 10, 'eta': 0.16678107326585964, 'gamma': 0.10095587312179284, 'subsample': 0.4401035160550992, 'colsample_bytree': 0.37945495743922936}. Best is trial 57 with value: 0.003554786480584704.\u001b[0m\n"
     ]
    },
    {
     "name": "stdout",
     "output_type": "stream",
     "text": [
      "MAPE: 0.1515028399246128\n"
     ]
    },
    {
     "name": "stderr",
     "output_type": "stream",
     "text": [
      "\u001b[32m[I 2023-07-19 16:59:03,295]\u001b[0m Trial 576 finished with value: 0.09110654834117178 and parameters: {'max_depth': 10, 'eta': 0.21237690497962342, 'gamma': 0.042811160260732624, 'subsample': 0.4041929386927607, 'colsample_bytree': 0.8752707249203228}. Best is trial 57 with value: 0.003554786480584704.\u001b[0m\n"
     ]
    },
    {
     "name": "stdout",
     "output_type": "stream",
     "text": [
      "MAPE: 0.09110654834117178\n"
     ]
    },
    {
     "name": "stderr",
     "output_type": "stream",
     "text": [
      "\u001b[32m[I 2023-07-19 16:59:05,281]\u001b[0m Trial 577 finished with value: 0.015403997222199602 and parameters: {'max_depth': 10, 'eta': 0.3405927837393486, 'gamma': 0.03465956602858084, 'subsample': 0.7672927966840173, 'colsample_bytree': 0.9999525306237013}. Best is trial 57 with value: 0.003554786480584704.\u001b[0m\n"
     ]
    },
    {
     "name": "stdout",
     "output_type": "stream",
     "text": [
      "MAPE: 0.015403997222199602\n"
     ]
    },
    {
     "name": "stderr",
     "output_type": "stream",
     "text": [
      "\u001b[32m[I 2023-07-19 16:59:06,679]\u001b[0m Trial 578 finished with value: 0.27365864444570065 and parameters: {'max_depth': 10, 'eta': 0.11935064697731536, 'gamma': 0.031136145481512598, 'subsample': 0.7092036274023699, 'colsample_bytree': 0.5615910723044889}. Best is trial 57 with value: 0.003554786480584704.\u001b[0m\n"
     ]
    },
    {
     "name": "stdout",
     "output_type": "stream",
     "text": [
      "MAPE: 0.27365864444570065\n"
     ]
    },
    {
     "name": "stderr",
     "output_type": "stream",
     "text": [
      "\u001b[32m[I 2023-07-19 16:59:08,001]\u001b[0m Trial 579 finished with value: 0.8575121129120774 and parameters: {'max_depth': 10, 'eta': 0.015251669760732958, 'gamma': 0.14101992714816428, 'subsample': 0.6515095166464019, 'colsample_bytree': 0.9633410659574623}. Best is trial 57 with value: 0.003554786480584704.\u001b[0m\n"
     ]
    },
    {
     "name": "stdout",
     "output_type": "stream",
     "text": [
      "MAPE: 0.8575121129120774\n"
     ]
    },
    {
     "name": "stderr",
     "output_type": "stream",
     "text": [
      "\u001b[32m[I 2023-07-19 16:59:09,827]\u001b[0m Trial 580 finished with value: 0.07283283736691792 and parameters: {'max_depth': 10, 'eta': 0.2293000461955113, 'gamma': 0.040050575591262357, 'subsample': 0.5240542084275995, 'colsample_bytree': 0.7030007060044722}. Best is trial 57 with value: 0.003554786480584704.\u001b[0m\n"
     ]
    },
    {
     "name": "stdout",
     "output_type": "stream",
     "text": [
      "MAPE: 0.07283283736691792\n"
     ]
    },
    {
     "name": "stderr",
     "output_type": "stream",
     "text": [
      "\u001b[32m[I 2023-07-19 16:59:11,128]\u001b[0m Trial 581 finished with value: 0.0038892791211194416 and parameters: {'max_depth': 10, 'eta': 0.73079814204981, 'gamma': 0.0855127314262706, 'subsample': 0.14637859019163418, 'colsample_bytree': 0.9838902901856534}. Best is trial 57 with value: 0.003554786480584704.\u001b[0m\n"
     ]
    },
    {
     "name": "stdout",
     "output_type": "stream",
     "text": [
      "MAPE: 0.0038892791211194416\n"
     ]
    },
    {
     "name": "stderr",
     "output_type": "stream",
     "text": [
      "\u001b[32m[I 2023-07-19 16:59:13,344]\u001b[0m Trial 582 finished with value: 0.005183704393078045 and parameters: {'max_depth': 10, 'eta': 0.5500062314198745, 'gamma': 0.09416973457357593, 'subsample': 0.5750219846799682, 'colsample_bytree': 0.9313499008009798}. Best is trial 57 with value: 0.003554786480584704.\u001b[0m\n"
     ]
    },
    {
     "name": "stdout",
     "output_type": "stream",
     "text": [
      "MAPE: 0.005183704393078045\n"
     ]
    },
    {
     "name": "stderr",
     "output_type": "stream",
     "text": [
      "\u001b[32m[I 2023-07-19 16:59:13,712]\u001b[0m Trial 583 finished with value: 0.05440013962769929 and parameters: {'max_depth': 2, 'eta': 0.48567117506266516, 'gamma': 0.05590348168860008, 'subsample': 0.7300352258367039, 'colsample_bytree': 0.27705581459613543}. Best is trial 57 with value: 0.003554786480584704.\u001b[0m\n"
     ]
    },
    {
     "name": "stdout",
     "output_type": "stream",
     "text": [
      "MAPE: 0.05440013962769929\n"
     ]
    },
    {
     "name": "stderr",
     "output_type": "stream",
     "text": [
      "\u001b[32m[I 2023-07-19 16:59:15,368]\u001b[0m Trial 584 finished with value: 0.014326208806941734 and parameters: {'max_depth': 9, 'eta': 0.6295111149925547, 'gamma': 0.22338360116553305, 'subsample': 0.35236321204672394, 'colsample_bytree': 0.7274413073445347}. Best is trial 57 with value: 0.003554786480584704.\u001b[0m\n"
     ]
    },
    {
     "name": "stdout",
     "output_type": "stream",
     "text": [
      "MAPE: 0.014326208806941734\n"
     ]
    },
    {
     "name": "stderr",
     "output_type": "stream",
     "text": [
      "\u001b[32m[I 2023-07-19 16:59:17,451]\u001b[0m Trial 585 finished with value: 0.00423422561312872 and parameters: {'max_depth': 10, 'eta': 0.44837374699589755, 'gamma': 0.06466798749588526, 'subsample': 0.62620247944552, 'colsample_bytree': 0.9536569603091459}. Best is trial 57 with value: 0.003554786480584704.\u001b[0m\n"
     ]
    },
    {
     "name": "stdout",
     "output_type": "stream",
     "text": [
      "MAPE: 0.00423422561312872\n"
     ]
    },
    {
     "name": "stderr",
     "output_type": "stream",
     "text": [
      "\u001b[32m[I 2023-07-19 16:59:18,846]\u001b[0m Trial 586 finished with value: 0.22507463481578235 and parameters: {'max_depth': 10, 'eta': 0.1385051331687569, 'gamma': 0.31553706581141766, 'subsample': 0.6900395019236993, 'colsample_bytree': 0.976894439570515}. Best is trial 57 with value: 0.003554786480584704.\u001b[0m\n"
     ]
    },
    {
     "name": "stdout",
     "output_type": "stream",
     "text": [
      "MAPE: 0.22507463481578235\n"
     ]
    },
    {
     "name": "stderr",
     "output_type": "stream",
     "text": [
      "\u001b[32m[I 2023-07-19 16:59:20,204]\u001b[0m Trial 587 finished with value: 0.7993446820476519 and parameters: {'max_depth': 10, 'eta': 0.022143298399008114, 'gamma': 0.033292867177317935, 'subsample': 0.7086766878064483, 'colsample_bytree': 0.9082964713706626}. Best is trial 57 with value: 0.003554786480584704.\u001b[0m\n"
     ]
    },
    {
     "name": "stdout",
     "output_type": "stream",
     "text": [
      "MAPE: 0.7993446820476519\n"
     ]
    },
    {
     "name": "stderr",
     "output_type": "stream",
     "text": [
      "\u001b[32m[I 2023-07-19 16:59:22,607]\u001b[0m Trial 588 finished with value: 0.01228928499888705 and parameters: {'max_depth': 10, 'eta': 0.5807985781818289, 'gamma': 0.2580034680783871, 'subsample': 0.7353936119273801, 'colsample_bytree': 0.7989753192669335}. Best is trial 57 with value: 0.003554786480584704.\u001b[0m\n"
     ]
    },
    {
     "name": "stdout",
     "output_type": "stream",
     "text": [
      "MAPE: 0.01228928499888705\n"
     ]
    },
    {
     "name": "stderr",
     "output_type": "stream",
     "text": [
      "\u001b[32m[I 2023-07-19 16:59:24,914]\u001b[0m Trial 589 finished with value: 0.0038402163481800755 and parameters: {'max_depth': 10, 'eta': 0.6949612213299073, 'gamma': 0.010081638551682318, 'subsample': 0.5510767419421918, 'colsample_bytree': 0.9662248356021329}. Best is trial 57 with value: 0.003554786480584704.\u001b[0m\n"
     ]
    },
    {
     "name": "stdout",
     "output_type": "stream",
     "text": [
      "MAPE: 0.0038402163481800755\n"
     ]
    },
    {
     "name": "stderr",
     "output_type": "stream",
     "text": [
      "\u001b[32m[I 2023-07-19 16:59:25,971]\u001b[0m Trial 590 finished with value: 0.008760292166001028 and parameters: {'max_depth': 5, 'eta': 0.39287996916423634, 'gamma': 0.12093936136839033, 'subsample': 0.4960181502017582, 'colsample_bytree': 0.9996190462510676}. Best is trial 57 with value: 0.003554786480584704.\u001b[0m\n"
     ]
    },
    {
     "name": "stdout",
     "output_type": "stream",
     "text": [
      "MAPE: 0.008760292166001028\n"
     ]
    },
    {
     "name": "stderr",
     "output_type": "stream",
     "text": [
      "\u001b[32m[I 2023-07-19 16:59:28,219]\u001b[0m Trial 591 finished with value: 0.005116421402832076 and parameters: {'max_depth': 10, 'eta': 0.5274601662209241, 'gamma': 0.35196443759141116, 'subsample': 0.67486465454453, 'colsample_bytree': 0.939879412046746}. Best is trial 57 with value: 0.003554786480584704.\u001b[0m\n"
     ]
    },
    {
     "name": "stdout",
     "output_type": "stream",
     "text": [
      "MAPE: 0.005116421402832076\n"
     ]
    },
    {
     "name": "stderr",
     "output_type": "stream",
     "text": [
      "\u001b[32m[I 2023-07-19 16:59:28,665]\u001b[0m Trial 592 finished with value: 0.01743056575157196 and parameters: {'max_depth': 4, 'eta': 0.6031407202634955, 'gamma': 0.5687490817140738, 'subsample': 0.10145560535274611, 'colsample_bytree': 0.6347370870811067}. Best is trial 57 with value: 0.003554786480584704.\u001b[0m\n"
     ]
    },
    {
     "name": "stdout",
     "output_type": "stream",
     "text": [
      "MAPE: 0.01743056575157196\n"
     ]
    },
    {
     "name": "stderr",
     "output_type": "stream",
     "text": [
      "\u001b[32m[I 2023-07-19 16:59:30,645]\u001b[0m Trial 593 finished with value: 0.0037163592170674276 and parameters: {'max_depth': 10, 'eta': 0.48940370696460356, 'gamma': 0.8544786450543341, 'subsample': 0.4695594605414331, 'colsample_bytree': 0.9842402816959835}. Best is trial 57 with value: 0.003554786480584704.\u001b[0m\n"
     ]
    },
    {
     "name": "stdout",
     "output_type": "stream",
     "text": [
      "MAPE: 0.0037163592170674276\n"
     ]
    },
    {
     "name": "stderr",
     "output_type": "stream",
     "text": [
      "\u001b[32m[I 2023-07-19 16:59:32,872]\u001b[0m Trial 594 finished with value: 0.0036018083338595678 and parameters: {'max_depth': 10, 'eta': 0.5538940134196623, 'gamma': 0.052793152900449426, 'subsample': 0.5942907486803525, 'colsample_bytree': 0.9562051950728965}. Best is trial 57 with value: 0.003554786480584704.\u001b[0m\n"
     ]
    },
    {
     "name": "stdout",
     "output_type": "stream",
     "text": [
      "MAPE: 0.0036018083338595678\n"
     ]
    },
    {
     "name": "stderr",
     "output_type": "stream",
     "text": [
      "\u001b[32m[I 2023-07-19 16:59:34,418]\u001b[0m Trial 595 finished with value: 0.10776167787338337 and parameters: {'max_depth': 10, 'eta': 0.19925315210484318, 'gamma': 0.05306921581122493, 'subsample': 0.5949560794845, 'colsample_bytree': 0.9297082478129959}. Best is trial 57 with value: 0.003554786480584704.\u001b[0m\n"
     ]
    },
    {
     "name": "stdout",
     "output_type": "stream",
     "text": [
      "MAPE: 0.10776167787338337\n"
     ]
    },
    {
     "name": "stderr",
     "output_type": "stream",
     "text": [
      "\u001b[32m[I 2023-07-19 16:59:36,079]\u001b[0m Trial 596 finished with value: 0.022623616654203697 and parameters: {'max_depth': 10, 'eta': 0.6424671804513495, 'gamma': 0.07997082122568926, 'subsample': 0.5481785570425691, 'colsample_bytree': 0.5126107209181401}. Best is trial 57 with value: 0.003554786480584704.\u001b[0m\n"
     ]
    },
    {
     "name": "stdout",
     "output_type": "stream",
     "text": [
      "MAPE: 0.022623616654203697\n"
     ]
    },
    {
     "name": "stderr",
     "output_type": "stream",
     "text": [
      "\u001b[32m[I 2023-07-19 16:59:37,488]\u001b[0m Trial 597 finished with value: 0.33526979476888036 and parameters: {'max_depth': 8, 'eta': 0.10282766105779778, 'gamma': 0.05006168340535007, 'subsample': 0.5784909568174269, 'colsample_bytree': 0.644336155268725}. Best is trial 57 with value: 0.003554786480584704.\u001b[0m\n"
     ]
    },
    {
     "name": "stdout",
     "output_type": "stream",
     "text": [
      "MAPE: 0.33526979476888036\n"
     ]
    },
    {
     "name": "stderr",
     "output_type": "stream",
     "text": [
      "\u001b[32m[I 2023-07-19 16:59:39,537]\u001b[0m Trial 598 finished with value: 0.004189403356579541 and parameters: {'max_depth': 9, 'eta': 0.7317584268272462, 'gamma': 0.04271207086883901, 'subsample': 0.5657831384121634, 'colsample_bytree': 0.9493581858896363}. Best is trial 57 with value: 0.003554786480584704.\u001b[0m\n"
     ]
    },
    {
     "name": "stdout",
     "output_type": "stream",
     "text": [
      "MAPE: 0.004189403356579541\n"
     ]
    },
    {
     "name": "stderr",
     "output_type": "stream",
     "text": [
      "\u001b[32m[I 2023-07-19 16:59:41,665]\u001b[0m Trial 599 finished with value: 0.00589110779219068 and parameters: {'max_depth': 10, 'eta': 0.4299871414757075, 'gamma': 0.026044510933842854, 'subsample': 0.6859068992593313, 'colsample_bytree': 0.8880695324079514}. Best is trial 57 with value: 0.003554786480584704.\u001b[0m\n"
     ]
    },
    {
     "name": "stdout",
     "output_type": "stream",
     "text": [
      "MAPE: 0.00589110779219068\n"
     ]
    },
    {
     "name": "stderr",
     "output_type": "stream",
     "text": [
      "\u001b[32m[I 2023-07-19 16:59:44,021]\u001b[0m Trial 600 finished with value: 0.011000226306179956 and parameters: {'max_depth': 10, 'eta': 0.545467840384935, 'gamma': 0.046427748250654446, 'subsample': 0.6458312171052976, 'colsample_bytree': 0.8177680721033813}. Best is trial 57 with value: 0.003554786480584704.\u001b[0m\n"
     ]
    },
    {
     "name": "stdout",
     "output_type": "stream",
     "text": [
      "MAPE: 0.011000226306179956\n"
     ]
    },
    {
     "name": "stderr",
     "output_type": "stream",
     "text": [
      "\u001b[32m[I 2023-07-19 16:59:45,654]\u001b[0m Trial 601 finished with value: 0.13810944783719334 and parameters: {'max_depth': 10, 'eta': 0.17830403297339975, 'gamma': 0.05654319339161461, 'subsample': 0.6143081712473643, 'colsample_bytree': 0.6173244554854567}. Best is trial 57 with value: 0.003554786480584704.\u001b[0m\n"
     ]
    },
    {
     "name": "stdout",
     "output_type": "stream",
     "text": [
      "MAPE: 0.13810944783719334\n"
     ]
    },
    {
     "name": "stderr",
     "output_type": "stream",
     "text": [
      "\u001b[32m[I 2023-07-19 16:59:48,017]\u001b[0m Trial 602 finished with value: 0.012418516089511047 and parameters: {'max_depth': 10, 'eta': 0.6698664229577085, 'gamma': 0.033015162969531255, 'subsample': 0.5954213504094109, 'colsample_bytree': 0.7877905968359293}. Best is trial 57 with value: 0.003554786480584704.\u001b[0m\n"
     ]
    },
    {
     "name": "stdout",
     "output_type": "stream",
     "text": [
      "MAPE: 0.012418516089511047\n"
     ]
    },
    {
     "name": "stderr",
     "output_type": "stream",
     "text": [
      "\u001b[32m[I 2023-07-19 16:59:49,645]\u001b[0m Trial 603 finished with value: 0.03241073550054285 and parameters: {'max_depth': 10, 'eta': 0.8375338078544919, 'gamma': 0.06528059709914025, 'subsample': 0.7023909591696571, 'colsample_bytree': 0.46638340969275577}. Best is trial 57 with value: 0.003554786480584704.\u001b[0m\n"
     ]
    },
    {
     "name": "stdout",
     "output_type": "stream",
     "text": [
      "MAPE: 0.03241073550054285\n"
     ]
    },
    {
     "name": "stderr",
     "output_type": "stream",
     "text": [
      "\u001b[32m[I 2023-07-19 16:59:51,936]\u001b[0m Trial 604 finished with value: 0.014077206608272065 and parameters: {'max_depth': 10, 'eta': 0.6054015788822118, 'gamma': 0.03747318831125615, 'subsample': 0.6624518942618886, 'colsample_bytree': 0.6648784544940808}. Best is trial 57 with value: 0.003554786480584704.\u001b[0m\n"
     ]
    },
    {
     "name": "stdout",
     "output_type": "stream",
     "text": [
      "MAPE: 0.014077206608272065\n"
     ]
    },
    {
     "name": "stderr",
     "output_type": "stream",
     "text": [
      "\u001b[32m[I 2023-07-19 16:59:52,979]\u001b[0m Trial 605 finished with value: 0.08255151534338541 and parameters: {'max_depth': 10, 'eta': 0.5064348171200969, 'gamma': 0.05202473451828032, 'subsample': 0.7195701537110625, 'colsample_bytree': 0.12962714317846374}. Best is trial 57 with value: 0.003554786480584704.\u001b[0m\n"
     ]
    },
    {
     "name": "stdout",
     "output_type": "stream",
     "text": [
      "MAPE: 0.08255151534338541\n"
     ]
    },
    {
     "name": "stderr",
     "output_type": "stream",
     "text": [
      "\u001b[32m[I 2023-07-19 16:59:53,720]\u001b[0m Trial 606 finished with value: 0.3498336182965559 and parameters: {'max_depth': 9, 'eta': 0.09965578117317336, 'gamma': 0.02471413560240143, 'subsample': 0.2165694356888313, 'colsample_bytree': 0.9634031351713885}. Best is trial 57 with value: 0.003554786480584704.\u001b[0m\n"
     ]
    },
    {
     "name": "stdout",
     "output_type": "stream",
     "text": [
      "MAPE: 0.3498336182965559\n"
     ]
    },
    {
     "name": "stderr",
     "output_type": "stream",
     "text": [
      "\u001b[32m[I 2023-07-19 16:59:55,978]\u001b[0m Trial 607 finished with value: 0.005520189687278836 and parameters: {'max_depth': 10, 'eta': 0.563636491306576, 'gamma': 0.06154291104229993, 'subsample': 0.5276149150041378, 'colsample_bytree': 0.9171659399130424}. Best is trial 57 with value: 0.003554786480584704.\u001b[0m\n"
     ]
    },
    {
     "name": "stdout",
     "output_type": "stream",
     "text": [
      "MAPE: 0.005520189687278836\n"
     ]
    },
    {
     "name": "stderr",
     "output_type": "stream",
     "text": [
      "\u001b[32m[I 2023-07-19 16:59:57,125]\u001b[0m Trial 608 finished with value: 0.39025551253970475 and parameters: {'max_depth': 10, 'eta': 0.08791125853152586, 'gamma': 0.08454431572087434, 'subsample': 0.6977493304691658, 'colsample_bytree': 0.25531926618101164}. Best is trial 57 with value: 0.003554786480584704.\u001b[0m\n"
     ]
    },
    {
     "name": "stdout",
     "output_type": "stream",
     "text": [
      "MAPE: 0.39025551253970475\n"
     ]
    },
    {
     "name": "stderr",
     "output_type": "stream",
     "text": [
      "\u001b[32m[I 2023-07-19 16:59:59,296]\u001b[0m Trial 609 finished with value: 0.004060777675571101 and parameters: {'max_depth': 10, 'eta': 0.46013682782868986, 'gamma': 0.03146044600946272, 'subsample': 0.7176093361802448, 'colsample_bytree': 0.9820116874806222}. Best is trial 57 with value: 0.003554786480584704.\u001b[0m\n"
     ]
    },
    {
     "name": "stdout",
     "output_type": "stream",
     "text": [
      "MAPE: 0.004060777675571101\n"
     ]
    },
    {
     "name": "stderr",
     "output_type": "stream",
     "text": [
      "\u001b[32m[I 2023-07-19 17:00:01,430]\u001b[0m Trial 610 finished with value: 0.008574668677658832 and parameters: {'max_depth': 10, 'eta': 0.37945979893358384, 'gamma': 0.030685877691997886, 'subsample': 0.6812529556971383, 'colsample_bytree': 0.9997800163792739}. Best is trial 57 with value: 0.003554786480584704.\u001b[0m\n"
     ]
    },
    {
     "name": "stdout",
     "output_type": "stream",
     "text": [
      "MAPE: 0.008574668677658832\n"
     ]
    },
    {
     "name": "stderr",
     "output_type": "stream",
     "text": [
      "\u001b[32m[I 2023-07-19 17:00:02,764]\u001b[0m Trial 611 finished with value: 0.4338967869177443 and parameters: {'max_depth': 10, 'eta': 0.0800566057369546, 'gamma': 0.0716730574574033, 'subsample': 0.5513980714315359, 'colsample_bytree': 0.9465248602752769}. Best is trial 57 with value: 0.003554786480584704.\u001b[0m\n"
     ]
    },
    {
     "name": "stdout",
     "output_type": "stream",
     "text": [
      "MAPE: 0.4338967869177443\n"
     ]
    },
    {
     "name": "stderr",
     "output_type": "stream",
     "text": [
      "\u001b[32m[I 2023-07-19 17:00:04,179]\u001b[0m Trial 612 finished with value: 0.7319620725463971 and parameters: {'max_depth': 9, 'eta': 0.030713348229829098, 'gamma': 0.03587872825977992, 'subsample': 0.581298087774426, 'colsample_bytree': 0.9686463191972065}. Best is trial 57 with value: 0.003554786480584704.\u001b[0m\n"
     ]
    },
    {
     "name": "stdout",
     "output_type": "stream",
     "text": [
      "MAPE: 0.7319620725463971\n"
     ]
    },
    {
     "name": "stderr",
     "output_type": "stream",
     "text": [
      "\u001b[32m[I 2023-07-19 17:00:05,843]\u001b[0m Trial 613 finished with value: 0.0059717083129873245 and parameters: {'max_depth': 10, 'eta': 0.6556718970930571, 'gamma': 0.01942712684569408, 'subsample': 0.2926884340410544, 'colsample_bytree': 0.8698203040162725}. Best is trial 57 with value: 0.003554786480584704.\u001b[0m\n"
     ]
    },
    {
     "name": "stdout",
     "output_type": "stream",
     "text": [
      "MAPE: 0.0059717083129873245\n"
     ]
    },
    {
     "name": "stderr",
     "output_type": "stream",
     "text": [
      "\u001b[32m[I 2023-07-19 17:00:06,581]\u001b[0m Trial 614 finished with value: 0.2614707302974554 and parameters: {'max_depth': 3, 'eta': 0.12460031426164651, 'gamma': 0.179929136305843, 'subsample': 0.7395839825303333, 'colsample_bytree': 0.9828564459047074}. Best is trial 57 with value: 0.003554786480584704.\u001b[0m\n"
     ]
    },
    {
     "name": "stdout",
     "output_type": "stream",
     "text": [
      "MAPE: 0.2614707302974554\n"
     ]
    },
    {
     "name": "stderr",
     "output_type": "stream",
     "text": [
      "\u001b[32m[I 2023-07-19 17:00:08,950]\u001b[0m Trial 615 finished with value: 0.011078260381161616 and parameters: {'max_depth': 10, 'eta': 0.5344803243980607, 'gamma': 0.04148850663146969, 'subsample': 0.6990730224413042, 'colsample_bytree': 0.7420516752697239}. Best is trial 57 with value: 0.003554786480584704.\u001b[0m\n"
     ]
    },
    {
     "name": "stdout",
     "output_type": "stream",
     "text": [
      "MAPE: 0.011078260381161616\n"
     ]
    },
    {
     "name": "stderr",
     "output_type": "stream",
     "text": [
      "\u001b[32m[I 2023-07-19 17:00:10,360]\u001b[0m Trial 616 finished with value: 0.5233977810262223 and parameters: {'max_depth': 10, 'eta': 0.06257560564246285, 'gamma': 0.2111951849073908, 'subsample': 0.6252660867786531, 'colsample_bytree': 0.8273962511039534}. Best is trial 57 with value: 0.003554786480584704.\u001b[0m\n"
     ]
    },
    {
     "name": "stdout",
     "output_type": "stream",
     "text": [
      "MAPE: 0.5233977810262223\n"
     ]
    },
    {
     "name": "stderr",
     "output_type": "stream",
     "text": [
      "\u001b[32m[I 2023-07-19 17:00:12,717]\u001b[0m Trial 617 finished with value: 0.01760433579278624 and parameters: {'max_depth': 10, 'eta': 0.9356782653568559, 'gamma': 0.02859218630504311, 'subsample': 0.5116571196140491, 'colsample_bytree': 0.7502400023070342}. Best is trial 57 with value: 0.003554786480584704.\u001b[0m\n"
     ]
    },
    {
     "name": "stdout",
     "output_type": "stream",
     "text": [
      "MAPE: 0.01760433579278624\n"
     ]
    },
    {
     "name": "stderr",
     "output_type": "stream",
     "text": [
      "\u001b[32m[I 2023-07-19 17:00:14,111]\u001b[0m Trial 618 finished with value: 0.4940397162970591 and parameters: {'max_depth': 10, 'eta': 0.06807575203493005, 'gamma': 0.15742648702367382, 'subsample': 0.7252156379736868, 'colsample_bytree': 0.95670990863279}. Best is trial 57 with value: 0.003554786480584704.\u001b[0m\n"
     ]
    },
    {
     "name": "stdout",
     "output_type": "stream",
     "text": [
      "MAPE: 0.4940397162970591\n"
     ]
    },
    {
     "name": "stderr",
     "output_type": "stream",
     "text": [
      "\u001b[32m[I 2023-07-19 17:00:15,827]\u001b[0m Trial 619 finished with value: 0.006067162735226446 and parameters: {'max_depth': 10, 'eta': 0.7457779265768899, 'gamma': 0.048331621030637685, 'subsample': 0.24895992489394142, 'colsample_bytree': 0.9294214250383147}. Best is trial 57 with value: 0.003554786480584704.\u001b[0m\n"
     ]
    },
    {
     "name": "stdout",
     "output_type": "stream",
     "text": [
      "MAPE: 0.006067162735226446\n"
     ]
    },
    {
     "name": "stderr",
     "output_type": "stream",
     "text": [
      "\u001b[32m[I 2023-07-19 17:00:17,362]\u001b[0m Trial 620 finished with value: 0.8846735906442599 and parameters: {'max_depth': 10, 'eta': 0.012174668095789036, 'gamma': 0.3184226441487719, 'subsample': 0.9644845848405512, 'colsample_bytree': 0.8487034832198918}. Best is trial 57 with value: 0.003554786480584704.\u001b[0m\n"
     ]
    },
    {
     "name": "stdout",
     "output_type": "stream",
     "text": [
      "MAPE: 0.8846735906442599\n"
     ]
    },
    {
     "name": "stderr",
     "output_type": "stream",
     "text": [
      "\u001b[32m[I 2023-07-19 17:00:19,626]\u001b[0m Trial 621 finished with value: 0.004048074631198618 and parameters: {'max_depth': 10, 'eta': 0.6109679358423586, 'gamma': 0.23820761474127483, 'subsample': 0.6615178544410572, 'colsample_bytree': 0.9999430872304097}. Best is trial 57 with value: 0.003554786480584704.\u001b[0m\n"
     ]
    },
    {
     "name": "stdout",
     "output_type": "stream",
     "text": [
      "MAPE: 0.004048074631198618\n"
     ]
    },
    {
     "name": "stderr",
     "output_type": "stream",
     "text": [
      "\u001b[32m[I 2023-07-19 17:00:20,988]\u001b[0m Trial 622 finished with value: 0.5923883431326963 and parameters: {'max_depth': 10, 'eta': 0.05097882682701121, 'gamma': 0.09125835661110744, 'subsample': 0.5675136429979163, 'colsample_bytree': 0.8992028416167243}. Best is trial 57 with value: 0.003554786480584704.\u001b[0m\n"
     ]
    },
    {
     "name": "stdout",
     "output_type": "stream",
     "text": [
      "MAPE: 0.5923883431326963\n"
     ]
    },
    {
     "name": "stderr",
     "output_type": "stream",
     "text": [
      "\u001b[32m[I 2023-07-19 17:00:22,442]\u001b[0m Trial 623 finished with value: 0.7785857423172167 and parameters: {'max_depth': 10, 'eta': 0.024714196067810335, 'gamma': 0.05915729894314119, 'subsample': 0.9806576212431488, 'colsample_bytree': 0.9703711049013133}. Best is trial 57 with value: 0.003554786480584704.\u001b[0m\n"
     ]
    },
    {
     "name": "stdout",
     "output_type": "stream",
     "text": [
      "MAPE: 0.7785857423172167\n"
     ]
    },
    {
     "name": "stderr",
     "output_type": "stream",
     "text": [
      "\u001b[32m[I 2023-07-19 17:00:24,507]\u001b[0m Trial 624 finished with value: 0.004083378160863032 and parameters: {'max_depth': 9, 'eta': 0.4815199387069521, 'gamma': 0.3740263677668352, 'subsample': 0.7503749363775699, 'colsample_bytree': 0.9490461166884686}. Best is trial 57 with value: 0.003554786480584704.\u001b[0m\n"
     ]
    },
    {
     "name": "stdout",
     "output_type": "stream",
     "text": [
      "MAPE: 0.004083378160863032\n"
     ]
    },
    {
     "name": "stderr",
     "output_type": "stream",
     "text": [
      "\u001b[32m[I 2023-07-19 17:00:25,488]\u001b[0m Trial 625 finished with value: 0.8654812524892697 and parameters: {'max_depth': 10, 'eta': 0.014330832391348471, 'gamma': 0.28950025857292006, 'subsample': 0.3463571660946992, 'colsample_bytree': 0.9860731564566833}. Best is trial 57 with value: 0.003554786480584704.\u001b[0m\n"
     ]
    },
    {
     "name": "stdout",
     "output_type": "stream",
     "text": [
      "MAPE: 0.8654812524892697\n"
     ]
    },
    {
     "name": "stderr",
     "output_type": "stream",
     "text": [
      "\u001b[32m[I 2023-07-19 17:00:27,818]\u001b[0m Trial 626 finished with value: 0.003758553266040603 and parameters: {'max_depth': 10, 'eta': 0.5768958460855736, 'gamma': 0.1314515636774623, 'subsample': 0.7165023096656867, 'colsample_bytree': 0.9681693946403116}. Best is trial 57 with value: 0.003554786480584704.\u001b[0m\n"
     ]
    },
    {
     "name": "stdout",
     "output_type": "stream",
     "text": [
      "MAPE: 0.003758553266040603\n"
     ]
    },
    {
     "name": "stderr",
     "output_type": "stream",
     "text": [
      "\u001b[32m[I 2023-07-19 17:00:29,204]\u001b[0m Trial 627 finished with value: 0.8496118341830755 and parameters: {'max_depth': 10, 'eta': 0.016158771096811627, 'gamma': 0.34182029009704606, 'subsample': 0.6817064424571737, 'colsample_bytree': 0.9364104792381429}. Best is trial 57 with value: 0.003554786480584704.\u001b[0m\n"
     ]
    },
    {
     "name": "stdout",
     "output_type": "stream",
     "text": [
      "MAPE: 0.8496118341830755\n"
     ]
    },
    {
     "name": "stderr",
     "output_type": "stream",
     "text": [
      "\u001b[32m[I 2023-07-19 17:00:30,392]\u001b[0m Trial 628 finished with value: 0.6284160628787071 and parameters: {'max_depth': 10, 'eta': 0.044884819400528526, 'gamma': 0.2589933745679431, 'subsample': 0.5352413576445706, 'colsample_bytree': 0.5212570016066811}. Best is trial 57 with value: 0.003554786480584704.\u001b[0m\n"
     ]
    },
    {
     "name": "stdout",
     "output_type": "stream",
     "text": [
      "MAPE: 0.6284160628787071\n"
     ]
    },
    {
     "name": "stderr",
     "output_type": "stream",
     "text": [
      "\u001b[32m[I 2023-07-19 17:00:32,726]\u001b[0m Trial 629 finished with value: 0.003989642877874273 and parameters: {'max_depth': 10, 'eta': 0.705624513344252, 'gamma': 0.07354804634648004, 'subsample': 0.6440562020684463, 'colsample_bytree': 0.982199647521019}. Best is trial 57 with value: 0.003554786480584704.\u001b[0m\n"
     ]
    },
    {
     "name": "stdout",
     "output_type": "stream",
     "text": [
      "MAPE: 0.003989642877874273\n"
     ]
    },
    {
     "name": "stderr",
     "output_type": "stream",
     "text": [
      "\u001b[32m[I 2023-07-19 17:00:34,475]\u001b[0m Trial 630 finished with value: 0.03161712183552584 and parameters: {'max_depth': 10, 'eta': 0.292495976787132, 'gamma': 0.3946946366472508, 'subsample': 0.6085908641095592, 'colsample_bytree': 0.5677018203710643}. Best is trial 57 with value: 0.003554786480584704.\u001b[0m\n"
     ]
    },
    {
     "name": "stdout",
     "output_type": "stream",
     "text": [
      "MAPE: 0.03161712183552584\n"
     ]
    },
    {
     "name": "stderr",
     "output_type": "stream",
     "text": [
      "\u001b[32m[I 2023-07-19 17:00:35,605]\u001b[0m Trial 631 finished with value: 0.6712976375089074 and parameters: {'max_depth': 10, 'eta': 0.0382625209408193, 'gamma': 0.02543359663313915, 'subsample': 0.7081754415201459, 'colsample_bytree': 0.2167264224126419}. Best is trial 57 with value: 0.003554786480584704.\u001b[0m\n"
     ]
    },
    {
     "name": "stdout",
     "output_type": "stream",
     "text": [
      "MAPE: 0.6712976375089074\n"
     ]
    },
    {
     "name": "stderr",
     "output_type": "stream",
     "text": [
      "\u001b[32m[I 2023-07-19 17:00:37,827]\u001b[0m Trial 632 finished with value: 0.003679311536147046 and parameters: {'max_depth': 10, 'eta': 0.5155271544238208, 'gamma': 0.021808113580507393, 'subsample': 0.7352151364526642, 'colsample_bytree': 0.9555473066788355}. Best is trial 57 with value: 0.003554786480584704.\u001b[0m\n"
     ]
    },
    {
     "name": "stdout",
     "output_type": "stream",
     "text": [
      "MAPE: 0.003679311536147046\n"
     ]
    },
    {
     "name": "stderr",
     "output_type": "stream",
     "text": [
      "\u001b[32m[I 2023-07-19 17:00:39,171]\u001b[0m Trial 633 finished with value: 0.6266416155393151 and parameters: {'max_depth': 10, 'eta': 0.045655149866022135, 'gamma': 0.020598252301546865, 'subsample': 0.6739971821079909, 'colsample_bytree': 0.9582913973973151}. Best is trial 57 with value: 0.003554786480584704.\u001b[0m\n"
     ]
    },
    {
     "name": "stdout",
     "output_type": "stream",
     "text": [
      "MAPE: 0.6266416155393151\n"
     ]
    },
    {
     "name": "stderr",
     "output_type": "stream",
     "text": [
      "\u001b[32m[I 2023-07-19 17:00:40,562]\u001b[0m Trial 634 finished with value: 0.8281336433652746 and parameters: {'max_depth': 10, 'eta': 0.01867919388759656, 'gamma': 0.017216263031339586, 'subsample': 0.7339650670074975, 'colsample_bytree': 0.983733941153248}. Best is trial 57 with value: 0.003554786480584704.\u001b[0m\n"
     ]
    },
    {
     "name": "stdout",
     "output_type": "stream",
     "text": [
      "MAPE: 0.8281336433652746\n"
     ]
    },
    {
     "name": "stderr",
     "output_type": "stream",
     "text": [
      "\u001b[32m[I 2023-07-19 17:00:41,710]\u001b[0m Trial 635 finished with value: 0.022518127135545622 and parameters: {'max_depth': 10, 'eta': 0.44080852223909706, 'gamma': 0.03145578569451122, 'subsample': 0.27087974031153295, 'colsample_bytree': 0.45528714387088726}. Best is trial 57 with value: 0.003554786480584704.\u001b[0m\n"
     ]
    },
    {
     "name": "stdout",
     "output_type": "stream",
     "text": [
      "MAPE: 0.022518127135545622\n"
     ]
    },
    {
     "name": "stderr",
     "output_type": "stream",
     "text": [
      "\u001b[32m[I 2023-07-19 17:00:42,883]\u001b[0m Trial 636 finished with value: 0.833116326349917 and parameters: {'max_depth': 10, 'eta': 0.01808005315467954, 'gamma': 0.022914699882352185, 'subsample': 0.4249244772506593, 'colsample_bytree': 0.9166249568943972}. Best is trial 57 with value: 0.003554786480584704.\u001b[0m\n"
     ]
    },
    {
     "name": "stdout",
     "output_type": "stream",
     "text": [
      "MAPE: 0.833116326349917\n"
     ]
    },
    {
     "name": "stderr",
     "output_type": "stream",
     "text": [
      "\u001b[32m[I 2023-07-19 17:00:44,951]\u001b[0m Trial 637 finished with value: 0.01106861467607932 and parameters: {'max_depth': 9, 'eta': 0.5167793843045312, 'gamma': 0.02471125102921184, 'subsample': 0.6935987029068154, 'colsample_bytree': 0.784828245433647}. Best is trial 57 with value: 0.003554786480584704.\u001b[0m\n"
     ]
    },
    {
     "name": "stdout",
     "output_type": "stream",
     "text": [
      "MAPE: 0.01106861467607932\n"
     ]
    },
    {
     "name": "stderr",
     "output_type": "stream",
     "text": [
      "\u001b[32m[I 2023-07-19 17:00:46,961]\u001b[0m Trial 638 finished with value: 0.011698254244885879 and parameters: {'max_depth': 10, 'eta': 0.35865561353847847, 'gamma': 0.01558145095591847, 'subsample': 0.7544306365675699, 'colsample_bytree': 0.9689705887382588}. Best is trial 57 with value: 0.003554786480584704.\u001b[0m\n"
     ]
    },
    {
     "name": "stdout",
     "output_type": "stream",
     "text": [
      "MAPE: 0.011698254244885879\n"
     ]
    },
    {
     "name": "stderr",
     "output_type": "stream",
     "text": [
      "\u001b[32m[I 2023-07-19 17:00:49,100]\u001b[0m Trial 639 finished with value: 0.01158327721523727 and parameters: {'max_depth': 10, 'eta': 0.42676616537978596, 'gamma': 0.025466610548972368, 'subsample': 0.5883794410767743, 'colsample_bytree': 0.6760580541882206}. Best is trial 57 with value: 0.003554786480584704.\u001b[0m\n"
     ]
    },
    {
     "name": "stdout",
     "output_type": "stream",
     "text": [
      "MAPE: 0.01158327721523727\n"
     ]
    },
    {
     "name": "stderr",
     "output_type": "stream",
     "text": [
      "\u001b[32m[I 2023-07-19 17:00:51,386]\u001b[0m Trial 640 finished with value: 0.0038637688271975523 and parameters: {'max_depth': 10, 'eta': 0.4815544084838374, 'gamma': 0.040288586767777995, 'subsample': 0.8373779209414958, 'colsample_bytree': 0.9990701324921848}. Best is trial 57 with value: 0.003554786480584704.\u001b[0m\n"
     ]
    },
    {
     "name": "stdout",
     "output_type": "stream",
     "text": [
      "MAPE: 0.0038637688271975523\n"
     ]
    },
    {
     "name": "stderr",
     "output_type": "stream",
     "text": [
      "\u001b[32m[I 2023-07-19 17:00:52,303]\u001b[0m Trial 641 finished with value: 0.07987508234316473 and parameters: {'max_depth': 10, 'eta': 0.5486707082378229, 'gamma': 0.03810991413061773, 'subsample': 0.3606208113491557, 'colsample_bytree': 0.14506342201493277}. Best is trial 57 with value: 0.003554786480584704.\u001b[0m\n"
     ]
    },
    {
     "name": "stdout",
     "output_type": "stream",
     "text": [
      "MAPE: 0.07987508234316473\n"
     ]
    },
    {
     "name": "stderr",
     "output_type": "stream",
     "text": [
      "\u001b[32m[I 2023-07-19 17:00:53,299]\u001b[0m Trial 642 finished with value: 0.08702298397098324 and parameters: {'max_depth': 10, 'eta': 0.24967512846618412, 'gamma': 0.19656665288072536, 'subsample': 0.716239283313731, 'colsample_bytree': 0.11387500978168758}. Best is trial 57 with value: 0.003554786480584704.\u001b[0m\n"
     ]
    },
    {
     "name": "stdout",
     "output_type": "stream",
     "text": [
      "MAPE: 0.08702298397098324\n"
     ]
    },
    {
     "name": "stderr",
     "output_type": "stream",
     "text": [
      "\u001b[32m[I 2023-07-19 17:00:54,623]\u001b[0m Trial 643 finished with value: 0.023253679699855787 and parameters: {'max_depth': 10, 'eta': 0.9984262630985651, 'gamma': 0.011831778910643465, 'subsample': 0.13498129373421164, 'colsample_bytree': 0.688856998902838}. Best is trial 57 with value: 0.003554786480584704.\u001b[0m\n"
     ]
    },
    {
     "name": "stdout",
     "output_type": "stream",
     "text": [
      "MAPE: 0.023253679699855787\n"
     ]
    },
    {
     "name": "stderr",
     "output_type": "stream",
     "text": [
      "\u001b[32m[I 2023-07-19 17:00:56,654]\u001b[0m Trial 644 finished with value: 0.0056773841179430865 and parameters: {'max_depth': 9, 'eta': 0.630951070563246, 'gamma': 0.02901384996982178, 'subsample': 0.5501078411954478, 'colsample_bytree': 0.9421837028059475}. Best is trial 57 with value: 0.003554786480584704.\u001b[0m\n"
     ]
    },
    {
     "name": "stdout",
     "output_type": "stream",
     "text": [
      "MAPE: 0.0056773841179430865\n"
     ]
    },
    {
     "name": "stderr",
     "output_type": "stream",
     "text": [
      "\u001b[32m[I 2023-07-19 17:00:58,018]\u001b[0m Trial 645 finished with value: 0.03989860240468353 and parameters: {'max_depth': 10, 'eta': 0.502014251312244, 'gamma': 0.018053638211447166, 'subsample': 0.69826468108297, 'colsample_bytree': 0.2681994866523888}. Best is trial 57 with value: 0.003554786480584704.\u001b[0m\n"
     ]
    },
    {
     "name": "stdout",
     "output_type": "stream",
     "text": [
      "MAPE: 0.03989860240468353\n"
     ]
    },
    {
     "name": "stderr",
     "output_type": "stream",
     "text": [
      "\u001b[32m[I 2023-07-19 17:00:59,559]\u001b[0m Trial 646 finished with value: 0.031106165998953075 and parameters: {'max_depth': 10, 'eta': 0.8363772597882826, 'gamma': 0.022257712044412892, 'subsample': 0.5049671519892681, 'colsample_bytree': 0.4255589851972777}. Best is trial 57 with value: 0.003554786480584704.\u001b[0m\n"
     ]
    },
    {
     "name": "stdout",
     "output_type": "stream",
     "text": [
      "MAPE: 0.031106165998953075\n"
     ]
    },
    {
     "name": "stderr",
     "output_type": "stream",
     "text": [
      "\u001b[32m[I 2023-07-19 17:01:00,930]\u001b[0m Trial 647 finished with value: 0.6131685364165882 and parameters: {'max_depth': 10, 'eta': 0.04773088255580539, 'gamma': 0.020166827068116077, 'subsample': 0.7392189915397638, 'colsample_bytree': 0.9722203857838957}. Best is trial 57 with value: 0.003554786480584704.\u001b[0m\n"
     ]
    },
    {
     "name": "stdout",
     "output_type": "stream",
     "text": [
      "MAPE: 0.6131685364165882\n"
     ]
    },
    {
     "name": "stderr",
     "output_type": "stream",
     "text": [
      "\u001b[32m[I 2023-07-19 17:01:01,946]\u001b[0m Trial 648 finished with value: 0.6749052637831007 and parameters: {'max_depth': 10, 'eta': 0.03792107966457442, 'gamma': 0.01294210858689681, 'subsample': 0.4023877694221996, 'colsample_bytree': 0.306919454078016}. Best is trial 57 with value: 0.003554786480584704.\u001b[0m\n"
     ]
    },
    {
     "name": "stdout",
     "output_type": "stream",
     "text": [
      "MAPE: 0.6749052637831007\n"
     ]
    },
    {
     "name": "stderr",
     "output_type": "stream",
     "text": [
      "\u001b[32m[I 2023-07-19 17:01:03,122]\u001b[0m Trial 649 finished with value: 0.06455070433770757 and parameters: {'max_depth': 10, 'eta': 0.575564178519786, 'gamma': 0.018345235897775796, 'subsample': 0.6633338167087585, 'colsample_bytree': 0.1731856097118869}. Best is trial 57 with value: 0.003554786480584704.\u001b[0m\n"
     ]
    },
    {
     "name": "stdout",
     "output_type": "stream",
     "text": [
      "MAPE: 0.06455070433770757\n"
     ]
    },
    {
     "name": "stderr",
     "output_type": "stream",
     "text": [
      "\u001b[32m[I 2023-07-19 17:01:04,160]\u001b[0m Trial 650 finished with value: 0.3039009384788775 and parameters: {'max_depth': 10, 'eta': 0.11196178374407399, 'gamma': 0.06763636991528173, 'subsample': 0.33147405399633345, 'colsample_bytree': 0.8270067164957582}. Best is trial 57 with value: 0.003554786480584704.\u001b[0m\n"
     ]
    },
    {
     "name": "stdout",
     "output_type": "stream",
     "text": [
      "MAPE: 0.3039009384788775\n"
     ]
    },
    {
     "name": "stderr",
     "output_type": "stream",
     "text": [
      "\u001b[32m[I 2023-07-19 17:01:05,226]\u001b[0m Trial 651 finished with value: 0.0829526237209686 and parameters: {'max_depth': 10, 'eta': 0.6887364767157288, 'gamma': 0.016196045990777723, 'subsample': 0.7234717054773993, 'colsample_bytree': 0.13298921150182236}. Best is trial 57 with value: 0.003554786480584704.\u001b[0m\n"
     ]
    },
    {
     "name": "stdout",
     "output_type": "stream",
     "text": [
      "MAPE: 0.0829526237209686\n"
     ]
    },
    {
     "name": "stderr",
     "output_type": "stream",
     "text": [
      "\u001b[32m[I 2023-07-19 17:01:06,656]\u001b[0m Trial 652 finished with value: 0.20910295347295044 and parameters: {'max_depth': 9, 'eta': 0.14175854638957097, 'gamma': 0.02291952575723711, 'subsample': 0.6332982842037482, 'colsample_bytree': 0.5384970388106449}. Best is trial 57 with value: 0.003554786480584704.\u001b[0m\n"
     ]
    },
    {
     "name": "stdout",
     "output_type": "stream",
     "text": [
      "MAPE: 0.20910295347295044\n"
     ]
    },
    {
     "name": "stderr",
     "output_type": "stream",
     "text": [
      "\u001b[32m[I 2023-07-19 17:01:08,551]\u001b[0m Trial 653 finished with value: 0.006312250423916688 and parameters: {'max_depth': 10, 'eta': 0.4003041694063594, 'gamma': 0.013454491420558238, 'subsample': 0.45477013754220275, 'colsample_bytree': 0.9562653037994525}. Best is trial 57 with value: 0.003554786480584704.\u001b[0m\n"
     ]
    },
    {
     "name": "stdout",
     "output_type": "stream",
     "text": [
      "MAPE: 0.006312250423916688\n"
     ]
    },
    {
     "name": "stderr",
     "output_type": "stream",
     "text": [
      "\u001b[32m[I 2023-07-19 17:01:09,958]\u001b[0m Trial 654 finished with value: 0.056627290762037485 and parameters: {'max_depth': 10, 'eta': 0.28981285847848837, 'gamma': 0.11472100762706848, 'subsample': 0.8569808269637027, 'colsample_bytree': 0.3524927805054975}. Best is trial 57 with value: 0.003554786480584704.\u001b[0m\n"
     ]
    },
    {
     "name": "stdout",
     "output_type": "stream",
     "text": [
      "MAPE: 0.056627290762037485\n"
     ]
    },
    {
     "name": "stderr",
     "output_type": "stream",
     "text": [
      "\u001b[32m[I 2023-07-19 17:01:10,918]\u001b[0m Trial 655 finished with value: 0.8946344724442753 and parameters: {'max_depth': 10, 'eta': 0.010903586896299503, 'gamma': 0.046030778376982606, 'subsample': 0.3763776877371021, 'colsample_bytree': 0.2863684904678629}. Best is trial 57 with value: 0.003554786480584704.\u001b[0m\n"
     ]
    },
    {
     "name": "stdout",
     "output_type": "stream",
     "text": [
      "MAPE: 0.8946344724442753\n"
     ]
    },
    {
     "name": "stderr",
     "output_type": "stream",
     "text": [
      "\u001b[32m[I 2023-07-19 17:01:13,168]\u001b[0m Trial 656 finished with value: 0.003959018711139284 and parameters: {'max_depth': 10, 'eta': 0.4657088202697178, 'gamma': 0.02662039759109115, 'subsample': 0.7655662413643834, 'colsample_bytree': 0.9809968665964136}. Best is trial 57 with value: 0.003554786480584704.\u001b[0m\n"
     ]
    },
    {
     "name": "stdout",
     "output_type": "stream",
     "text": [
      "MAPE: 0.003959018711139284\n"
     ]
    },
    {
     "name": "stderr",
     "output_type": "stream",
     "text": [
      "\u001b[32m[I 2023-07-19 17:01:15,354]\u001b[0m Trial 657 finished with value: 0.005159754789005925 and parameters: {'max_depth': 10, 'eta': 0.5311773861945418, 'gamma': 0.03474008482908713, 'subsample': 0.4727731401104509, 'colsample_bytree': 0.9281531612470749}. Best is trial 57 with value: 0.003554786480584704.\u001b[0m\n"
     ]
    },
    {
     "name": "stdout",
     "output_type": "stream",
     "text": [
      "MAPE: 0.005159754789005925\n"
     ]
    },
    {
     "name": "stderr",
     "output_type": "stream",
     "text": [
      "\u001b[32m[I 2023-07-19 17:01:16,285]\u001b[0m Trial 658 finished with value: 0.48499686332760295 and parameters: {'max_depth': 10, 'eta': 0.06976706412021713, 'gamma': 0.014700769374800533, 'subsample': 0.2880746357699852, 'colsample_bytree': 0.9999075058935671}. Best is trial 57 with value: 0.003554786480584704.\u001b[0m\n"
     ]
    },
    {
     "name": "stdout",
     "output_type": "stream",
     "text": [
      "MAPE: 0.48499686332760295\n"
     ]
    },
    {
     "name": "stderr",
     "output_type": "stream",
     "text": [
      "\u001b[32m[I 2023-07-19 17:01:17,887]\u001b[0m Trial 659 finished with value: 0.08386596503416946 and parameters: {'max_depth': 10, 'eta': 0.21927322528754617, 'gamma': 0.020491964308997444, 'subsample': 0.6842086915989463, 'colsample_bytree': 0.9570211123988227}. Best is trial 57 with value: 0.003554786480584704.\u001b[0m\n"
     ]
    },
    {
     "name": "stdout",
     "output_type": "stream",
     "text": [
      "MAPE: 0.08386596503416946\n"
     ]
    },
    {
     "name": "stderr",
     "output_type": "stream",
     "text": [
      "\u001b[32m[I 2023-07-19 17:01:20,432]\u001b[0m Trial 660 finished with value: 0.015076094535468746 and parameters: {'max_depth': 10, 'eta': 0.7766679892933538, 'gamma': 0.02863189592438462, 'subsample': 0.7038779256590773, 'colsample_bytree': 0.7971699830411155}. Best is trial 57 with value: 0.003554786480584704.\u001b[0m\n"
     ]
    },
    {
     "name": "stdout",
     "output_type": "stream",
     "text": [
      "MAPE: 0.015076094535468746\n"
     ]
    },
    {
     "name": "stderr",
     "output_type": "stream",
     "text": [
      "\u001b[32m[I 2023-07-19 17:01:22,733]\u001b[0m Trial 661 finished with value: 0.0038470346357156967 and parameters: {'max_depth': 10, 'eta': 0.6123455241474451, 'gamma': 0.019517970852535635, 'subsample': 0.6550622412498408, 'colsample_bytree': 0.9829130594254262}. Best is trial 57 with value: 0.003554786480584704.\u001b[0m\n"
     ]
    },
    {
     "name": "stdout",
     "output_type": "stream",
     "text": [
      "MAPE: 0.0038470346357156967\n"
     ]
    },
    {
     "name": "stderr",
     "output_type": "stream",
     "text": [
      "\u001b[32m[I 2023-07-19 17:01:24,313]\u001b[0m Trial 662 finished with value: 0.014941520847553263 and parameters: {'max_depth': 7, 'eta': 0.669004560172812, 'gamma': 0.01808289170554514, 'subsample': 0.5324223310777859, 'colsample_bytree': 0.7155946556048013}. Best is trial 57 with value: 0.003554786480584704.\u001b[0m\n"
     ]
    },
    {
     "name": "stdout",
     "output_type": "stream",
     "text": [
      "MAPE: 0.014941520847553263\n"
     ]
    },
    {
     "name": "stderr",
     "output_type": "stream",
     "text": [
      "\u001b[32m[I 2023-07-19 17:01:25,748]\u001b[0m Trial 663 finished with value: 0.8817560928889162 and parameters: {'max_depth': 10, 'eta': 0.0124758218684281, 'gamma': 0.32515935688777325, 'subsample': 0.7468918000528523, 'colsample_bytree': 0.6444595496801104}. Best is trial 57 with value: 0.003554786480584704.\u001b[0m\n"
     ]
    },
    {
     "name": "stdout",
     "output_type": "stream",
     "text": [
      "MAPE: 0.8817560928889162\n"
     ]
    },
    {
     "name": "stderr",
     "output_type": "stream",
     "text": [
      "\u001b[32m[I 2023-07-19 17:01:26,910]\u001b[0m Trial 664 finished with value: 0.048735964401107064 and parameters: {'max_depth': 9, 'eta': 0.5569055832253804, 'gamma': 0.08084668286964186, 'subsample': 0.6044362903403184, 'colsample_bytree': 0.24796185908177487}. Best is trial 57 with value: 0.003554786480584704.\u001b[0m\n"
     ]
    },
    {
     "name": "stdout",
     "output_type": "stream",
     "text": [
      "MAPE: 0.048735964401107064\n"
     ]
    },
    {
     "name": "stderr",
     "output_type": "stream",
     "text": [
      "\u001b[32m[I 2023-07-19 17:01:27,679]\u001b[0m Trial 665 finished with value: 0.7973062265324553 and parameters: {'max_depth': 10, 'eta': 0.022375666834104968, 'gamma': 0.0313171941843729, 'subsample': 0.2165799093388357, 'colsample_bytree': 0.9428128168868437}. Best is trial 57 with value: 0.003554786480584704.\u001b[0m\n"
     ]
    },
    {
     "name": "stdout",
     "output_type": "stream",
     "text": [
      "MAPE: 0.7973062265324553\n"
     ]
    },
    {
     "name": "stderr",
     "output_type": "stream",
     "text": [
      "\u001b[32m[I 2023-07-19 17:01:29,601]\u001b[0m Trial 666 finished with value: 0.005362105677002521 and parameters: {'max_depth': 10, 'eta': 0.509209696226665, 'gamma': 0.06237336110418459, 'subsample': 0.3917447394959356, 'colsample_bytree': 0.9073037478641737}. Best is trial 57 with value: 0.003554786480584704.\u001b[0m\n"
     ]
    },
    {
     "name": "stdout",
     "output_type": "stream",
     "text": [
      "MAPE: 0.005362105677002521\n"
     ]
    },
    {
     "name": "stderr",
     "output_type": "stream",
     "text": [
      "\u001b[32m[I 2023-07-19 17:01:31,917]\u001b[0m Trial 667 finished with value: 0.003693256201478285 and parameters: {'max_depth': 10, 'eta': 0.6079782183164045, 'gamma': 0.05478234394450248, 'subsample': 0.7219502617943985, 'colsample_bytree': 0.9672753151071174}. Best is trial 57 with value: 0.003554786480584704.\u001b[0m\n"
     ]
    },
    {
     "name": "stdout",
     "output_type": "stream",
     "text": [
      "MAPE: 0.003693256201478285\n"
     ]
    },
    {
     "name": "stderr",
     "output_type": "stream",
     "text": [
      "\u001b[32m[I 2023-07-19 17:01:34,016]\u001b[0m Trial 668 finished with value: 0.0061709271669618095 and parameters: {'max_depth': 10, 'eta': 0.4294969407827779, 'gamma': 0.011130906485956804, 'subsample': 0.5664892592883097, 'colsample_bytree': 0.8709053839056631}. Best is trial 57 with value: 0.003554786480584704.\u001b[0m\n"
     ]
    },
    {
     "name": "stdout",
     "output_type": "stream",
     "text": [
      "MAPE: 0.0061709271669618095\n"
     ]
    },
    {
     "name": "stderr",
     "output_type": "stream",
     "text": [
      "\u001b[32m[I 2023-07-19 17:01:35,549]\u001b[0m Trial 669 finished with value: 0.11765944675304625 and parameters: {'max_depth': 10, 'eta': 0.19241418408190294, 'gamma': 0.2290225789137864, 'subsample': 0.6895046841305771, 'colsample_bytree': 0.9868498986511381}. Best is trial 57 with value: 0.003554786480584704.\u001b[0m\n"
     ]
    },
    {
     "name": "stdout",
     "output_type": "stream",
     "text": [
      "MAPE: 0.11765944675304625\n"
     ]
    },
    {
     "name": "stderr",
     "output_type": "stream",
     "text": [
      "\u001b[32m[I 2023-07-19 17:01:37,006]\u001b[0m Trial 670 finished with value: 0.4664741278006392 and parameters: {'max_depth': 10, 'eta': 0.07341562593897435, 'gamma': 0.04529726491308906, 'subsample': 0.9839140901742185, 'colsample_bytree': 0.9588716267717244}. Best is trial 57 with value: 0.003554786480584704.\u001b[0m\n"
     ]
    },
    {
     "name": "stdout",
     "output_type": "stream",
     "text": [
      "MAPE: 0.4664741278006392\n"
     ]
    },
    {
     "name": "stderr",
     "output_type": "stream",
     "text": [
      "\u001b[32m[I 2023-07-19 17:01:38,669]\u001b[0m Trial 671 finished with value: 0.026447501636714603 and parameters: {'max_depth': 10, 'eta': 0.6515394524972453, 'gamma': 0.021997419874597388, 'subsample': 0.7077380964064865, 'colsample_bytree': 0.5127009250201968}. Best is trial 57 with value: 0.003554786480584704.\u001b[0m\n"
     ]
    },
    {
     "name": "stdout",
     "output_type": "stream",
     "text": [
      "MAPE: 0.026447501636714603\n"
     ]
    },
    {
     "name": "stderr",
     "output_type": "stream",
     "text": [
      "\u001b[32m[I 2023-07-19 17:01:40,696]\u001b[0m Trial 672 finished with value: 0.011900742880526876 and parameters: {'max_depth': 10, 'eta': 0.5641762250192862, 'gamma': 0.3758044668459519, 'subsample': 0.4905213346087795, 'colsample_bytree': 0.6099362851455168}. Best is trial 57 with value: 0.003554786480584704.\u001b[0m\n"
     ]
    },
    {
     "name": "stdout",
     "output_type": "stream",
     "text": [
      "MAPE: 0.011900742880526876\n"
     ]
    },
    {
     "name": "stderr",
     "output_type": "stream",
     "text": [
      "\u001b[32m[I 2023-07-19 17:01:42,650]\u001b[0m Trial 673 finished with value: 0.017326035467735704 and parameters: {'max_depth': 10, 'eta': 0.33256245540804674, 'gamma': 0.015002096682004439, 'subsample': 0.6729354864848135, 'colsample_bytree': 0.9995606794353459}. Best is trial 57 with value: 0.003554786480584704.\u001b[0m\n"
     ]
    },
    {
     "name": "stdout",
     "output_type": "stream",
     "text": [
      "MAPE: 0.017326035467735704\n"
     ]
    },
    {
     "name": "stderr",
     "output_type": "stream",
     "text": [
      "\u001b[32m[I 2023-07-19 17:01:44,085]\u001b[0m Trial 674 finished with value: 0.5457525243526311 and parameters: {'max_depth': 10, 'eta': 0.05875148976758372, 'gamma': 0.10089583544212925, 'subsample': 0.736324889481225, 'colsample_bytree': 0.9291019146864622}. Best is trial 57 with value: 0.003554786480584704.\u001b[0m\n"
     ]
    },
    {
     "name": "stdout",
     "output_type": "stream",
     "text": [
      "MAPE: 0.5457525243526311\n"
     ]
    },
    {
     "name": "stderr",
     "output_type": "stream",
     "text": [
      "\u001b[32m[I 2023-07-19 17:01:46,064]\u001b[0m Trial 675 finished with value: 0.012118109644867972 and parameters: {'max_depth': 9, 'eta': 0.4671916607237183, 'gamma': 0.01474111380620245, 'subsample': 0.5206045545787814, 'colsample_bytree': 0.7353270060827718}. Best is trial 57 with value: 0.003554786480584704.\u001b[0m\n"
     ]
    },
    {
     "name": "stdout",
     "output_type": "stream",
     "text": [
      "MAPE: 0.012118109644867972\n"
     ]
    },
    {
     "name": "stderr",
     "output_type": "stream",
     "text": [
      "\u001b[32m[I 2023-07-19 17:01:48,541]\u001b[0m Trial 676 finished with value: 0.013158551886277013 and parameters: {'max_depth': 10, 'eta': 0.7379235521827647, 'gamma': 0.010024977046629902, 'subsample': 0.7560890348169426, 'colsample_bytree': 0.7624408386110363}. Best is trial 57 with value: 0.003554786480584704.\u001b[0m\n"
     ]
    },
    {
     "name": "stdout",
     "output_type": "stream",
     "text": [
      "MAPE: 0.013158551886277013\n"
     ]
    },
    {
     "name": "stderr",
     "output_type": "stream",
     "text": [
      "\u001b[32m[I 2023-07-19 17:01:49,800]\u001b[0m Trial 677 finished with value: 0.6697261665433387 and parameters: {'max_depth': 6, 'eta': 0.0392848887259644, 'gamma': 0.2871657095058055, 'subsample': 0.586666298465981, 'colsample_bytree': 0.969215828263474}. Best is trial 57 with value: 0.003554786480584704.\u001b[0m\n"
     ]
    },
    {
     "name": "stdout",
     "output_type": "stream",
     "text": [
      "MAPE: 0.6697261665433387\n"
     ]
    },
    {
     "name": "stderr",
     "output_type": "stream",
     "text": [
      "\u001b[32m[I 2023-07-19 17:01:52,130]\u001b[0m Trial 678 finished with value: 0.005322859030520632 and parameters: {'max_depth': 10, 'eta': 0.5152607648825657, 'gamma': 0.048840693037395945, 'subsample': 0.8196349363826927, 'colsample_bytree': 0.9461029652066041}. Best is trial 57 with value: 0.003554786480584704.\u001b[0m\n"
     ]
    },
    {
     "name": "stdout",
     "output_type": "stream",
     "text": [
      "MAPE: 0.005322859030520632\n"
     ]
    },
    {
     "name": "stderr",
     "output_type": "stream",
     "text": [
      "\u001b[32m[I 2023-07-19 17:01:53,504]\u001b[0m Trial 679 finished with value: 0.7523936383117232 and parameters: {'max_depth': 10, 'eta': 0.02804544411354868, 'gamma': 0.42195015990345613, 'subsample': 0.7827897820747486, 'colsample_bytree': 0.9840716417673623}. Best is trial 57 with value: 0.003554786480584704.\u001b[0m\n"
     ]
    },
    {
     "name": "stdout",
     "output_type": "stream",
     "text": [
      "MAPE: 0.7523936383117232\n"
     ]
    },
    {
     "name": "stderr",
     "output_type": "stream",
     "text": [
      "\u001b[32m[I 2023-07-19 17:01:54,929]\u001b[0m Trial 680 finished with value: 0.18339360125611906 and parameters: {'max_depth': 10, 'eta': 0.1559289459241535, 'gamma': 0.2640062181047516, 'subsample': 0.7238878279777962, 'colsample_bytree': 0.9682503634312931}. Best is trial 57 with value: 0.003554786480584704.\u001b[0m\n"
     ]
    },
    {
     "name": "stdout",
     "output_type": "stream",
     "text": [
      "MAPE: 0.18339360125611906\n"
     ]
    },
    {
     "name": "stderr",
     "output_type": "stream",
     "text": [
      "\u001b[32m[I 2023-07-19 17:01:57,036]\u001b[0m Trial 681 finished with value: 0.013386415589537546 and parameters: {'max_depth': 10, 'eta': 0.6016369366550623, 'gamma': 0.16944159675968015, 'subsample': 0.6177121122576135, 'colsample_bytree': 0.5828900824840282}. Best is trial 57 with value: 0.003554786480584704.\u001b[0m\n"
     ]
    },
    {
     "name": "stdout",
     "output_type": "stream",
     "text": [
      "MAPE: 0.013386415589537546\n"
     ]
    },
    {
     "name": "stderr",
     "output_type": "stream",
     "text": [
      "\u001b[32m[I 2023-07-19 17:01:58,405]\u001b[0m Trial 682 finished with value: 0.04662522690913068 and parameters: {'max_depth': 10, 'eta': 0.6618549512554235, 'gamma': 0.34322770891628485, 'subsample': 0.6994278659383051, 'colsample_bytree': 0.2770375914160293}. Best is trial 57 with value: 0.003554786480584704.\u001b[0m\n"
     ]
    },
    {
     "name": "stdout",
     "output_type": "stream",
     "text": [
      "MAPE: 0.04662522690913068\n"
     ]
    },
    {
     "name": "stderr",
     "output_type": "stream",
     "text": [
      "\u001b[32m[I 2023-07-19 17:01:58,906]\u001b[0m Trial 683 finished with value: 0.02195866525940332 and parameters: {'max_depth': 2, 'eta': 0.554557713469527, 'gamma': 0.03489399494084493, 'subsample': 0.5500303710477976, 'colsample_bytree': 0.7009667435096478}. Best is trial 57 with value: 0.003554786480584704.\u001b[0m\n"
     ]
    },
    {
     "name": "stdout",
     "output_type": "stream",
     "text": [
      "MAPE: 0.02195866525940332\n"
     ]
    },
    {
     "name": "stderr",
     "output_type": "stream",
     "text": [
      "\u001b[32m[I 2023-07-19 17:02:01,063]\u001b[0m Trial 684 finished with value: 0.0037885222230921636 and parameters: {'max_depth': 10, 'eta': 0.4795903309967695, 'gamma': 0.1260580239357732, 'subsample': 0.6547383003730998, 'colsample_bytree': 0.9998076824380765}. Best is trial 57 with value: 0.003554786480584704.\u001b[0m\n"
     ]
    },
    {
     "name": "stdout",
     "output_type": "stream",
     "text": [
      "MAPE: 0.0037885222230921636\n"
     ]
    },
    {
     "name": "stderr",
     "output_type": "stream",
     "text": [
      "\u001b[32m[I 2023-07-19 17:02:02,663]\u001b[0m Trial 685 finished with value: 0.0211817626449255 and parameters: {'max_depth': 10, 'eta': 0.3718212535301251, 'gamma': 0.0887674365201031, 'subsample': 0.7147854367549346, 'colsample_bytree': 0.5227932207095511}. Best is trial 57 with value: 0.003554786480584704.\u001b[0m\n"
     ]
    },
    {
     "name": "stdout",
     "output_type": "stream",
     "text": [
      "MAPE: 0.0211817626449255\n"
     ]
    },
    {
     "name": "stderr",
     "output_type": "stream",
     "text": [
      "\u001b[32m[I 2023-07-19 17:02:04,463]\u001b[0m Trial 686 finished with value: 0.054762470915197994 and parameters: {'max_depth': 10, 'eta': 0.25127663177984816, 'gamma': 0.1486004035322015, 'subsample': 0.6783098183032715, 'colsample_bytree': 0.9464976846455807}. Best is trial 57 with value: 0.003554786480584704.\u001b[0m\n"
     ]
    },
    {
     "name": "stdout",
     "output_type": "stream",
     "text": [
      "MAPE: 0.054762470915197994\n"
     ]
    },
    {
     "name": "stderr",
     "output_type": "stream",
     "text": [
      "\u001b[32m[I 2023-07-19 17:02:05,480]\u001b[0m Trial 687 finished with value: 0.3546077101510165 and parameters: {'max_depth': 10, 'eta': 0.09699332345220188, 'gamma': 0.011165277122116506, 'subsample': 0.3621167634742589, 'colsample_bytree': 0.48800132039112726}. Best is trial 57 with value: 0.003554786480584704.\u001b[0m\n"
     ]
    },
    {
     "name": "stdout",
     "output_type": "stream",
     "text": [
      "MAPE: 0.3546077101510165\n"
     ]
    },
    {
     "name": "stderr",
     "output_type": "stream",
     "text": [
      "\u001b[32m[I 2023-07-19 17:02:07,290]\u001b[0m Trial 688 finished with value: 0.007648541500463939 and parameters: {'max_depth': 9, 'eta': 0.7770786245466034, 'gamma': 0.6921982249553906, 'subsample': 0.4146566966348048, 'colsample_bytree': 0.8937708423162247}. Best is trial 57 with value: 0.003554786480584704.\u001b[0m\n"
     ]
    },
    {
     "name": "stdout",
     "output_type": "stream",
     "text": [
      "MAPE: 0.007648541500463939\n"
     ]
    },
    {
     "name": "stderr",
     "output_type": "stream",
     "text": [
      "\u001b[32m[I 2023-07-19 17:02:09,667]\u001b[0m Trial 689 finished with value: 0.005409425905866691 and parameters: {'max_depth': 10, 'eta': 0.6053556054175331, 'gamma': 0.014232551412925325, 'subsample': 0.7443433190937695, 'colsample_bytree': 0.9187448825495689}. Best is trial 57 with value: 0.003554786480584704.\u001b[0m\n"
     ]
    },
    {
     "name": "stdout",
     "output_type": "stream",
     "text": [
      "MAPE: 0.005409425905866691\n"
     ]
    },
    {
     "name": "stderr",
     "output_type": "stream",
     "text": [
      "\u001b[32m[I 2023-07-19 17:02:10,893]\u001b[0m Trial 690 finished with value: 0.7335807305664437 and parameters: {'max_depth': 10, 'eta': 0.030421023386144816, 'gamma': 0.3009587273424153, 'subsample': 0.4390221014267994, 'colsample_bytree': 0.6532572789408648}. Best is trial 57 with value: 0.003554786480584704.\u001b[0m\n"
     ]
    },
    {
     "name": "stdout",
     "output_type": "stream",
     "text": [
      "MAPE: 0.7335807305664437\n"
     ]
    },
    {
     "name": "stderr",
     "output_type": "stream",
     "text": [
      "\u001b[32m[I 2023-07-19 17:02:12,334]\u001b[0m Trial 691 finished with value: 0.04580681775515824 and parameters: {'max_depth': 10, 'eta': 0.5097680111179907, 'gamma': 0.10733505434948852, 'subsample': 0.6932066387517266, 'colsample_bytree': 0.3403863812497472}. Best is trial 57 with value: 0.003554786480584704.\u001b[0m\n"
     ]
    },
    {
     "name": "stdout",
     "output_type": "stream",
     "text": [
      "MAPE: 0.04580681775515824\n"
     ]
    },
    {
     "name": "stderr",
     "output_type": "stream",
     "text": [
      "\u001b[32m[I 2023-07-19 17:02:14,727]\u001b[0m Trial 692 finished with value: 0.003868554279235269 and parameters: {'max_depth': 10, 'eta': 0.6988191487251727, 'gamma': 0.3912705508392204, 'subsample': 0.6383377826739555, 'colsample_bytree': 0.9776676149192065}. Best is trial 57 with value: 0.003554786480584704.\u001b[0m\n"
     ]
    },
    {
     "name": "stdout",
     "output_type": "stream",
     "text": [
      "MAPE: 0.003868554279235269\n"
     ]
    },
    {
     "name": "stderr",
     "output_type": "stream",
     "text": [
      "\u001b[32m[I 2023-07-19 17:02:16,933]\u001b[0m Trial 693 finished with value: 0.0037313009999553107 and parameters: {'max_depth': 10, 'eta': 0.5658289381430578, 'gamma': 0.026521068334083294, 'subsample': 0.5672130243458056, 'colsample_bytree': 0.9606329858819667}. Best is trial 57 with value: 0.003554786480584704.\u001b[0m\n"
     ]
    },
    {
     "name": "stdout",
     "output_type": "stream",
     "text": [
      "MAPE: 0.0037313009999553107\n"
     ]
    },
    {
     "name": "stderr",
     "output_type": "stream",
     "text": [
      "\u001b[32m[I 2023-07-19 17:02:17,901]\u001b[0m Trial 694 finished with value: 0.6363929171978537 and parameters: {'max_depth': 10, 'eta': 0.044159649013629294, 'gamma': 0.041733889614534565, 'subsample': 0.33697519306445833, 'colsample_bytree': 0.9851913274267258}. Best is trial 57 with value: 0.003554786480584704.\u001b[0m\n"
     ]
    },
    {
     "name": "stdout",
     "output_type": "stream",
     "text": [
      "MAPE: 0.6363929171978537\n",
      "MAPE: 0.046612251426092904\n"
     ]
    },
    {
     "name": "stderr",
     "output_type": "stream",
     "text": [
      "\u001b[32m[I 2023-07-19 17:02:18,102]\u001b[0m Trial 695 finished with value: 0.046612251426092904 and parameters: {'max_depth': 1, 'eta': 0.4325030384349196, 'gamma': 0.017150748542879738, 'subsample': 0.20848179026154406, 'colsample_bytree': 0.4923369814220704}. Best is trial 57 with value: 0.003554786480584704.\u001b[0m\n",
      "\u001b[32m[I 2023-07-19 17:02:19,520]\u001b[0m Trial 696 finished with value: 0.3921565376546448 and parameters: {'max_depth': 10, 'eta': 0.08931630799017481, 'gamma': 0.012509502455399184, 'subsample': 0.7668375673498844, 'colsample_bytree': 0.8571952338934904}. Best is trial 57 with value: 0.003554786480584704.\u001b[0m\n"
     ]
    },
    {
     "name": "stdout",
     "output_type": "stream",
     "text": [
      "MAPE: 0.3921565376546448\n"
     ]
    },
    {
     "name": "stderr",
     "output_type": "stream",
     "text": [
      "\u001b[32m[I 2023-07-19 17:02:20,119]\u001b[0m Trial 697 finished with value: 0.11017277052073936 and parameters: {'max_depth': 10, 'eta': 0.8490075421631198, 'gamma': 0.06953508821432858, 'subsample': 0.7277367617769387, 'colsample_bytree': 0.10036402985834869}. Best is trial 57 with value: 0.003554786480584704.\u001b[0m\n"
     ]
    },
    {
     "name": "stdout",
     "output_type": "stream",
     "text": [
      "MAPE: 0.11017277052073936\n"
     ]
    },
    {
     "name": "stderr",
     "output_type": "stream",
     "text": [
      "\u001b[32m[I 2023-07-19 17:02:21,543]\u001b[0m Trial 698 finished with value: 0.0275671507903724 and parameters: {'max_depth': 10, 'eta': 0.63008697335064, 'gamma': 0.059870010723035154, 'subsample': 0.4693503595203944, 'colsample_bytree': 0.38167605168992913}. Best is trial 57 with value: 0.003554786480584704.\u001b[0m\n"
     ]
    },
    {
     "name": "stdout",
     "output_type": "stream",
     "text": [
      "MAPE: 0.0275671507903724\n"
     ]
    },
    {
     "name": "stderr",
     "output_type": "stream",
     "text": [
      "\u001b[32m[I 2023-07-19 17:02:23,299]\u001b[0m Trial 699 finished with value: 0.005900323285117185 and parameters: {'max_depth': 8, 'eta': 0.5372715095442844, 'gamma': 0.4411348328709143, 'subsample': 0.5066074823438559, 'colsample_bytree': 0.9346959671033068}. Best is trial 57 with value: 0.003554786480584704.\u001b[0m\n"
     ]
    },
    {
     "name": "stdout",
     "output_type": "stream",
     "text": [
      "MAPE: 0.005900323285117185\n"
     ]
    },
    {
     "name": "stderr",
     "output_type": "stream",
     "text": [
      "\u001b[32m[I 2023-07-19 17:02:25,503]\u001b[0m Trial 700 finished with value: 0.004337300661801556 and parameters: {'max_depth': 9, 'eta': 0.6796260585486391, 'gamma': 0.2506020365730635, 'subsample': 0.8016527140619867, 'colsample_bytree': 0.9714861377650451}. Best is trial 57 with value: 0.003554786480584704.\u001b[0m\n"
     ]
    },
    {
     "name": "stdout",
     "output_type": "stream",
     "text": [
      "MAPE: 0.004337300661801556\n"
     ]
    },
    {
     "name": "stderr",
     "output_type": "stream",
     "text": [
      "\u001b[32m[I 2023-07-19 17:02:26,220]\u001b[0m Trial 701 finished with value: 0.7171848267342879 and parameters: {'max_depth': 10, 'eta': 0.03266926323293535, 'gamma': 0.05199870150786844, 'subsample': 0.17289365621853797, 'colsample_bytree': 0.953173517717935}. Best is trial 57 with value: 0.003554786480584704.\u001b[0m\n"
     ]
    },
    {
     "name": "stdout",
     "output_type": "stream",
     "text": [
      "MAPE: 0.7171848267342879\n"
     ]
    },
    {
     "name": "stderr",
     "output_type": "stream",
     "text": [
      "\u001b[32m[I 2023-07-19 17:02:27,770]\u001b[0m Trial 702 finished with value: 0.19771608055813417 and parameters: {'max_depth': 10, 'eta': 0.14858008498855882, 'gamma': 0.3654068118841805, 'subsample': 0.6746225420077784, 'colsample_bytree': 0.743613424755427}. Best is trial 57 with value: 0.003554786480584704.\u001b[0m\n"
     ]
    },
    {
     "name": "stdout",
     "output_type": "stream",
     "text": [
      "MAPE: 0.19771608055813417\n"
     ]
    },
    {
     "name": "stderr",
     "output_type": "stream",
     "text": [
      "\u001b[32m[I 2023-07-19 17:02:29,987]\u001b[0m Trial 703 finished with value: 0.003911213507166001 and parameters: {'max_depth': 10, 'eta': 0.46689469558273755, 'gamma': 0.024689006892277873, 'subsample': 0.7063493386054697, 'colsample_bytree': 0.9852070932524835}. Best is trial 57 with value: 0.003554786480584704.\u001b[0m\n"
     ]
    },
    {
     "name": "stdout",
     "output_type": "stream",
     "text": [
      "MAPE: 0.003911213507166001\n"
     ]
    },
    {
     "name": "stderr",
     "output_type": "stream",
     "text": [
      "\u001b[32m[I 2023-07-19 17:02:31,370]\u001b[0m Trial 704 finished with value: 0.04034907530347187 and parameters: {'max_depth': 10, 'eta': 0.5914718505012956, 'gamma': 0.4257650928151451, 'subsample': 0.7387665206118338, 'colsample_bytree': 0.2887759201486363}. Best is trial 57 with value: 0.003554786480584704.\u001b[0m\n"
     ]
    },
    {
     "name": "stdout",
     "output_type": "stream",
     "text": [
      "MAPE: 0.04034907530347187\n"
     ]
    },
    {
     "name": "stderr",
     "output_type": "stream",
     "text": [
      "\u001b[32m[I 2023-07-19 17:02:33,490]\u001b[0m Trial 705 finished with value: 0.006319884192754961 and parameters: {'max_depth': 10, 'eta': 0.40286673873235873, 'gamma': 0.7415927671279265, 'subsample': 0.7174998087097602, 'colsample_bytree': 0.9692729420406156}. Best is trial 57 with value: 0.003554786480584704.\u001b[0m\n"
     ]
    },
    {
     "name": "stdout",
     "output_type": "stream",
     "text": [
      "MAPE: 0.006319884192754961\n"
     ]
    },
    {
     "name": "stderr",
     "output_type": "stream",
     "text": [
      "\u001b[32m[I 2023-07-19 17:02:34,351]\u001b[0m Trial 706 finished with value: 0.558629039459423 and parameters: {'max_depth': 9, 'eta': 0.05650959711381335, 'gamma': 0.22171179664756427, 'subsample': 0.25243139644362506, 'colsample_bytree': 0.9264817653820779}. Best is trial 57 with value: 0.003554786480584704.\u001b[0m\n"
     ]
    },
    {
     "name": "stdout",
     "output_type": "stream",
     "text": [
      "MAPE: 0.558629039459423\n"
     ]
    },
    {
     "name": "stderr",
     "output_type": "stream",
     "text": [
      "\u001b[32m[I 2023-07-19 17:02:36,227]\u001b[0m Trial 707 finished with value: 0.07271228100542787 and parameters: {'max_depth': 10, 'eta': 0.22924050530851758, 'gamma': 0.33562248374930875, 'subsample': 0.5410169889357334, 'colsample_bytree': 0.834915844250508}. Best is trial 57 with value: 0.003554786480584704.\u001b[0m\n"
     ]
    },
    {
     "name": "stdout",
     "output_type": "stream",
     "text": [
      "MAPE: 0.07271228100542787\n"
     ]
    },
    {
     "name": "stderr",
     "output_type": "stream",
     "text": [
      "\u001b[32m[I 2023-07-19 17:02:38,169]\u001b[0m Trial 708 finished with value: 0.011313322316796944 and parameters: {'max_depth': 10, 'eta': 0.5178070170893851, 'gamma': 0.029859514472791098, 'subsample': 0.44849009406846807, 'colsample_bytree': 0.6027593752553924}. Best is trial 57 with value: 0.003554786480584704.\u001b[0m\n"
     ]
    },
    {
     "name": "stdout",
     "output_type": "stream",
     "text": [
      "MAPE: 0.011313322316796944\n"
     ]
    },
    {
     "name": "stderr",
     "output_type": "stream",
     "text": [
      "\u001b[32m[I 2023-07-19 17:02:40,525]\u001b[0m Trial 709 finished with value: 0.003900068250562835 and parameters: {'max_depth': 10, 'eta': 0.6310138722367378, 'gamma': 0.30170399573273016, 'subsample': 0.6937782008188109, 'colsample_bytree': 0.9993185919877966}. Best is trial 57 with value: 0.003554786480584704.\u001b[0m\n"
     ]
    },
    {
     "name": "stdout",
     "output_type": "stream",
     "text": [
      "MAPE: 0.003900068250562835\n"
     ]
    },
    {
     "name": "stderr",
     "output_type": "stream",
     "text": [
      "\u001b[32m[I 2023-07-19 17:02:41,931]\u001b[0m Trial 710 finished with value: 0.256790994191589 and parameters: {'max_depth': 10, 'eta': 0.1269671068836274, 'gamma': 0.20104337070692815, 'subsample': 0.5966482808221718, 'colsample_bytree': 0.9461344734512127}. Best is trial 57 with value: 0.003554786480584704.\u001b[0m\n"
     ]
    },
    {
     "name": "stdout",
     "output_type": "stream",
     "text": [
      "MAPE: 0.256790994191589\n"
     ]
    },
    {
     "name": "stderr",
     "output_type": "stream",
     "text": [
      "\u001b[32m[I 2023-07-19 17:02:43,309]\u001b[0m Trial 711 finished with value: 0.89783557804829 and parameters: {'max_depth': 10, 'eta': 0.010717743394063775, 'gamma': 0.9101308875234635, 'subsample': 0.7489896628886917, 'colsample_bytree': 0.9821058907642207}. Best is trial 57 with value: 0.003554786480584704.\u001b[0m\n"
     ]
    },
    {
     "name": "stdout",
     "output_type": "stream",
     "text": [
      "MAPE: 0.89783557804829\n"
     ]
    },
    {
     "name": "stderr",
     "output_type": "stream",
     "text": [
      "\u001b[32m[I 2023-07-19 17:02:43,986]\u001b[0m Trial 712 finished with value: 0.5657709571881572 and parameters: {'max_depth': 10, 'eta': 0.05395326924160927, 'gamma': 0.39443374137382137, 'subsample': 0.1393670575689862, 'colsample_bytree': 0.36542150277591223}. Best is trial 57 with value: 0.003554786480584704.\u001b[0m\n"
     ]
    },
    {
     "name": "stdout",
     "output_type": "stream",
     "text": [
      "MAPE: 0.5657709571881572\n"
     ]
    },
    {
     "name": "stderr",
     "output_type": "stream",
     "text": [
      "\u001b[32m[I 2023-07-19 17:02:45,198]\u001b[0m Trial 713 finished with value: 0.43769984893022423 and parameters: {'max_depth': 10, 'eta': 0.07724166475367818, 'gamma': 0.07614570749327478, 'subsample': 0.6557882693857614, 'colsample_bytree': 0.4476981836953112}. Best is trial 57 with value: 0.003554786480584704.\u001b[0m\n"
     ]
    },
    {
     "name": "stdout",
     "output_type": "stream",
     "text": [
      "MAPE: 0.43769984893022423\n"
     ]
    },
    {
     "name": "stderr",
     "output_type": "stream",
     "text": [
      "\u001b[32m[I 2023-07-19 17:02:46,577]\u001b[0m Trial 714 finished with value: 0.8747988306287698 and parameters: {'max_depth': 10, 'eta': 0.013262218423605759, 'gamma': 0.021247952833697438, 'subsample': 0.7269057503855739, 'colsample_bytree': 0.7695116450513252}. Best is trial 57 with value: 0.003554786480584704.\u001b[0m\n"
     ]
    },
    {
     "name": "stdout",
     "output_type": "stream",
     "text": [
      "MAPE: 0.8747988306287698\n"
     ]
    },
    {
     "name": "stderr",
     "output_type": "stream",
     "text": [
      "\u001b[32m[I 2023-07-19 17:02:48,899]\u001b[0m Trial 715 finished with value: 0.029209054573630162 and parameters: {'max_depth': 10, 'eta': 0.7606528358690802, 'gamma': 0.14116128459072935, 'subsample': 0.5765464940450853, 'colsample_bytree': 0.7127309994763742}. Best is trial 57 with value: 0.003554786480584704.\u001b[0m\n"
     ]
    },
    {
     "name": "stdout",
     "output_type": "stream",
     "text": [
      "MAPE: 0.029209054573630162\n"
     ]
    },
    {
     "name": "stderr",
     "output_type": "stream",
     "text": [
      "\u001b[32m[I 2023-07-19 17:02:50,344]\u001b[0m Trial 716 finished with value: 0.00585534609600724 and parameters: {'max_depth': 9, 'eta': 0.5598431798696551, 'gamma': 0.18040403131240232, 'subsample': 0.27773354769892167, 'colsample_bytree': 0.892678757470195}. Best is trial 57 with value: 0.003554786480584704.\u001b[0m\n"
     ]
    },
    {
     "name": "stdout",
     "output_type": "stream",
     "text": [
      "MAPE: 0.00585534609600724\n"
     ]
    },
    {
     "name": "stderr",
     "output_type": "stream",
     "text": [
      "\u001b[32m[I 2023-07-19 17:02:51,670]\u001b[0m Trial 717 finished with value: 0.7536916795696142 and parameters: {'max_depth': 10, 'eta': 0.02787419829353206, 'gamma': 0.8095914973774994, 'subsample': 0.6157356377464184, 'colsample_bytree': 0.9544863390916042}. Best is trial 57 with value: 0.003554786480584704.\u001b[0m\n"
     ]
    },
    {
     "name": "stdout",
     "output_type": "stream",
     "text": [
      "MAPE: 0.7536916795696142\n"
     ]
    },
    {
     "name": "stderr",
     "output_type": "stream",
     "text": [
      "\u001b[32m[I 2023-07-19 17:02:52,785]\u001b[0m Trial 718 finished with value: 0.14936250178754162 and parameters: {'max_depth': 10, 'eta': 0.17207180953345852, 'gamma': 0.4534170038037471, 'subsample': 0.7078433687413372, 'colsample_bytree': 0.19915691470210772}. Best is trial 57 with value: 0.003554786480584704.\u001b[0m\n"
     ]
    },
    {
     "name": "stdout",
     "output_type": "stream",
     "text": [
      "MAPE: 0.14936250178754162\n"
     ]
    },
    {
     "name": "stderr",
     "output_type": "stream",
     "text": [
      "\u001b[32m[I 2023-07-19 17:02:54,949]\u001b[0m Trial 719 finished with value: 0.003867853303731339 and parameters: {'max_depth': 10, 'eta': 0.4751321794788497, 'gamma': 0.03825099708738235, 'subsample': 0.7746665699300509, 'colsample_bytree': 0.9695383432181146}. Best is trial 57 with value: 0.003554786480584704.\u001b[0m\n"
     ]
    },
    {
     "name": "stdout",
     "output_type": "stream",
     "text": [
      "MAPE: 0.003867853303731339\n"
     ]
    },
    {
     "name": "stderr",
     "output_type": "stream",
     "text": [
      "\u001b[32m[I 2023-07-19 17:02:55,926]\u001b[0m Trial 720 finished with value: 0.0920667756182381 and parameters: {'max_depth': 10, 'eta': 0.20992627363571184, 'gamma': 0.23673449294755475, 'subsample': 0.19274498005437835, 'colsample_bytree': 0.5830991679560364}. Best is trial 57 with value: 0.003554786480584704.\u001b[0m\n"
     ]
    },
    {
     "name": "stdout",
     "output_type": "stream",
     "text": [
      "MAPE: 0.0920667756182381\n"
     ]
    },
    {
     "name": "stderr",
     "output_type": "stream",
     "text": [
      "\u001b[32m[I 2023-07-19 17:02:56,990]\u001b[0m Trial 721 finished with value: 0.28556517776626394 and parameters: {'max_depth': 10, 'eta': 0.11772745863180084, 'gamma': 0.02378682604823907, 'subsample': 0.37753643878611093, 'colsample_bytree': 0.9839992627807661}. Best is trial 57 with value: 0.003554786480584704.\u001b[0m\n"
     ]
    },
    {
     "name": "stdout",
     "output_type": "stream",
     "text": [
      "MAPE: 0.28556517776626394\n"
     ]
    },
    {
     "name": "stderr",
     "output_type": "stream",
     "text": [
      "\u001b[32m[I 2023-07-19 17:02:58,624]\u001b[0m Trial 722 finished with value: 0.04454028508705355 and parameters: {'max_depth': 10, 'eta': 0.2668574377985678, 'gamma': 0.2673501190735806, 'subsample': 0.5221234501847211, 'colsample_bytree': 0.99945251813285}. Best is trial 57 with value: 0.003554786480584704.\u001b[0m\n"
     ]
    },
    {
     "name": "stdout",
     "output_type": "stream",
     "text": [
      "MAPE: 0.04454028508705355\n"
     ]
    },
    {
     "name": "stderr",
     "output_type": "stream",
     "text": [
      "\u001b[32m[I 2023-07-19 17:03:00,019]\u001b[0m Trial 723 finished with value: 0.49864306388018304 and parameters: {'max_depth': 10, 'eta': 0.06692863251347587, 'gamma': 0.370273350733773, 'subsample': 0.6742949114219592, 'colsample_bytree': 0.6240734962558023}. Best is trial 57 with value: 0.003554786480584704.\u001b[0m\n"
     ]
    },
    {
     "name": "stdout",
     "output_type": "stream",
     "text": [
      "MAPE: 0.49864306388018304\n"
     ]
    },
    {
     "name": "stderr",
     "output_type": "stream",
     "text": [
      "\u001b[32m[I 2023-07-19 17:03:02,274]\u001b[0m Trial 724 finished with value: 0.008085185862191766 and parameters: {'max_depth': 9, 'eta': 0.9117671052386774, 'gamma': 0.05585844322101131, 'subsample': 0.6882436459636638, 'colsample_bytree': 0.9164018074329943}. Best is trial 57 with value: 0.003554786480584704.\u001b[0m\n"
     ]
    },
    {
     "name": "stdout",
     "output_type": "stream",
     "text": [
      "MAPE: 0.008085185862191766\n"
     ]
    },
    {
     "name": "stderr",
     "output_type": "stream",
     "text": [
      "\u001b[32m[I 2023-07-19 17:03:03,546]\u001b[0m Trial 725 finished with value: 0.7759876171817639 and parameters: {'max_depth': 10, 'eta': 0.025026568761716484, 'gamma': 0.04525843225281349, 'subsample': 0.4966276874317314, 'colsample_bytree': 0.9407622360697175}. Best is trial 57 with value: 0.003554786480584704.\u001b[0m\n"
     ]
    },
    {
     "name": "stdout",
     "output_type": "stream",
     "text": [
      "MAPE: 0.7759876171817639\n"
     ]
    },
    {
     "name": "stderr",
     "output_type": "stream",
     "text": [
      "\u001b[32m[I 2023-07-19 17:03:05,913]\u001b[0m Trial 726 finished with value: 0.003912041812313883 and parameters: {'max_depth': 10, 'eta': 0.6946943043481405, 'gamma': 0.06735555262725543, 'subsample': 0.7315351235393432, 'colsample_bytree': 0.9591558889885621}. Best is trial 57 with value: 0.003554786480584704.\u001b[0m\n"
     ]
    },
    {
     "name": "stdout",
     "output_type": "stream",
     "text": [
      "MAPE: 0.003912041812313883\n"
     ]
    },
    {
     "name": "stderr",
     "output_type": "stream",
     "text": [
      "\u001b[32m[I 2023-07-19 17:03:07,612]\u001b[0m Trial 727 finished with value: 0.02664882180322244 and parameters: {'max_depth': 10, 'eta': 0.31084320442555996, 'gamma': 0.41265424121290756, 'subsample': 0.6383113734231932, 'colsample_bytree': 0.5643818975377237}. Best is trial 57 with value: 0.003554786480584704.\u001b[0m\n"
     ]
    },
    {
     "name": "stdout",
     "output_type": "stream",
     "text": [
      "MAPE: 0.02664882180322244\n"
     ]
    },
    {
     "name": "stderr",
     "output_type": "stream",
     "text": [
      "\u001b[32m[I 2023-07-19 17:03:09,904]\u001b[0m Trial 728 finished with value: 0.0037607970803045726 and parameters: {'max_depth': 10, 'eta': 0.5164755080043716, 'gamma': 0.017949830125799968, 'subsample': 0.7521329884776177, 'colsample_bytree': 0.9729821578426588}. Best is trial 57 with value: 0.003554786480584704.\u001b[0m\n"
     ]
    },
    {
     "name": "stdout",
     "output_type": "stream",
     "text": [
      "MAPE: 0.0037607970803045726\n"
     ]
    },
    {
     "name": "stderr",
     "output_type": "stream",
     "text": [
      "\u001b[32m[I 2023-07-19 17:03:11,464]\u001b[0m Trial 729 finished with value: 0.024543657548628264 and parameters: {'max_depth': 10, 'eta': 0.5953359908512212, 'gamma': 0.3178825723817617, 'subsample': 0.7057338363166471, 'colsample_bytree': 0.45897070846031146}. Best is trial 57 with value: 0.003554786480584704.\u001b[0m\n"
     ]
    },
    {
     "name": "stdout",
     "output_type": "stream",
     "text": [
      "MAPE: 0.024543657548628264\n"
     ]
    },
    {
     "name": "stderr",
     "output_type": "stream",
     "text": [
      "\u001b[32m[I 2023-07-19 17:03:12,786]\u001b[0m Trial 730 finished with value: 0.050028557629785135 and parameters: {'max_depth': 10, 'eta': 0.5487253022268079, 'gamma': 0.09283333746505278, 'subsample': 0.7211879452047105, 'colsample_bytree': 0.24027878511955864}. Best is trial 57 with value: 0.003554786480584704.\u001b[0m\n"
     ]
    },
    {
     "name": "stdout",
     "output_type": "stream",
     "text": [
      "MAPE: 0.050028557629785135\n"
     ]
    },
    {
     "name": "stderr",
     "output_type": "stream",
     "text": [
      "\u001b[32m[I 2023-07-19 17:03:15,117]\u001b[0m Trial 731 finished with value: 0.005540377405783324 and parameters: {'max_depth': 10, 'eta': 0.6407594751800714, 'gamma': 0.03482786067525934, 'subsample': 0.547365219807906, 'colsample_bytree': 0.9344425569004252}. Best is trial 57 with value: 0.003554786480584704.\u001b[0m\n"
     ]
    },
    {
     "name": "stdout",
     "output_type": "stream",
     "text": [
      "MAPE: 0.005540377405783324\n"
     ]
    },
    {
     "name": "stderr",
     "output_type": "stream",
     "text": [
      "\u001b[32m[I 2023-07-19 17:03:16,906]\u001b[0m Trial 732 finished with value: 0.012780307160450689 and parameters: {'max_depth': 10, 'eta': 0.4432888635871768, 'gamma': 0.10920902976294634, 'subsample': 0.4259551768791293, 'colsample_bytree': 0.5924325944387034}. Best is trial 57 with value: 0.003554786480584704.\u001b[0m\n"
     ]
    },
    {
     "name": "stdout",
     "output_type": "stream",
     "text": [
      "MAPE: 0.012780307160450689\n"
     ]
    },
    {
     "name": "stderr",
     "output_type": "stream",
     "text": [
      "\u001b[32m[I 2023-07-19 17:03:18,344]\u001b[0m Trial 733 finished with value: 0.04444045098324864 and parameters: {'max_depth': 10, 'eta': 0.7138947877877223, 'gamma': 0.6140938506030406, 'subsample': 0.6708379754201086, 'colsample_bytree': 0.3599829086706742}. Best is trial 57 with value: 0.003554786480584704.\u001b[0m\n"
     ]
    },
    {
     "name": "stdout",
     "output_type": "stream",
     "text": [
      "MAPE: 0.04444045098324864\n"
     ]
    },
    {
     "name": "stderr",
     "output_type": "stream",
     "text": [
      "\u001b[32m[I 2023-07-19 17:03:19,638]\u001b[0m Trial 734 finished with value: 0.5178868828646439 and parameters: {'max_depth': 9, 'eta': 0.0636590198635855, 'gamma': 0.01891629667711977, 'subsample': 0.5671119796789152, 'colsample_bytree': 0.9847410802609191}. Best is trial 57 with value: 0.003554786480584704.\u001b[0m\n"
     ]
    },
    {
     "name": "stdout",
     "output_type": "stream",
     "text": [
      "MAPE: 0.5178868828646439\n"
     ]
    },
    {
     "name": "stderr",
     "output_type": "stream",
     "text": [
      "\u001b[32m[I 2023-07-19 17:03:21,688]\u001b[0m Trial 735 finished with value: 0.003612102171229387 and parameters: {'max_depth': 10, 'eta': 0.5049238522587512, 'gamma': 0.3485576209676288, 'subsample': 0.47699627128160227, 'colsample_bytree': 0.9565462255449073}. Best is trial 57 with value: 0.003554786480584704.\u001b[0m\n"
     ]
    },
    {
     "name": "stdout",
     "output_type": "stream",
     "text": [
      "MAPE: 0.003612102171229387\n"
     ]
    },
    {
     "name": "stderr",
     "output_type": "stream",
     "text": [
      "\u001b[32m[I 2023-07-19 17:03:23,638]\u001b[0m Trial 736 finished with value: 0.0072489862137476695 and parameters: {'max_depth': 10, 'eta': 0.40124680067667085, 'gamma': 0.3461392895472438, 'subsample': 0.4767592950127363, 'colsample_bytree': 0.9089377988319871}. Best is trial 57 with value: 0.003554786480584704.\u001b[0m\n"
     ]
    },
    {
     "name": "stdout",
     "output_type": "stream",
     "text": [
      "MAPE: 0.0072489862137476695\n"
     ]
    },
    {
     "name": "stderr",
     "output_type": "stream",
     "text": [
      "\u001b[32m[I 2023-07-19 17:03:25,695]\u001b[0m Trial 737 finished with value: 0.013583427009138518 and parameters: {'max_depth': 10, 'eta': 0.45512039575302415, 'gamma': 0.2784600314588716, 'subsample': 0.4692160992386102, 'colsample_bytree': 0.6920067174582032}. Best is trial 57 with value: 0.003554786480584704.\u001b[0m\n"
     ]
    },
    {
     "name": "stdout",
     "output_type": "stream",
     "text": [
      "MAPE: 0.013583427009138518\n"
     ]
    },
    {
     "name": "stderr",
     "output_type": "stream",
     "text": [
      "\u001b[32m[I 2023-07-19 17:03:26,795]\u001b[0m Trial 738 finished with value: 0.006918693465939602 and parameters: {'max_depth': 5, 'eta': 0.4946838903179202, 'gamma': 0.06156821579246206, 'subsample': 0.4948453058176672, 'colsample_bytree': 0.9523463304592203}. Best is trial 57 with value: 0.003554786480584704.\u001b[0m\n"
     ]
    },
    {
     "name": "stdout",
     "output_type": "stream",
     "text": [
      "MAPE: 0.006918693465939602\n"
     ]
    },
    {
     "name": "stderr",
     "output_type": "stream",
     "text": [
      "\u001b[32m[I 2023-07-19 17:03:27,952]\u001b[0m Trial 739 finished with value: 0.06308406755040986 and parameters: {'max_depth': 10, 'eta': 0.5244755001930036, 'gamma': 0.020868607374532267, 'subsample': 0.5275703841903924, 'colsample_bytree': 0.16146371886746858}. Best is trial 57 with value: 0.003554786480584704.\u001b[0m\n"
     ]
    },
    {
     "name": "stdout",
     "output_type": "stream",
     "text": [
      "MAPE: 0.06308406755040986\n"
     ]
    },
    {
     "name": "stderr",
     "output_type": "stream",
     "text": [
      "\u001b[32m[I 2023-07-19 17:03:29,161]\u001b[0m Trial 740 finished with value: 0.6743961524058707 and parameters: {'max_depth': 10, 'eta': 0.03860860929042194, 'gamma': 0.29631926736226094, 'subsample': 0.4500021628631514, 'colsample_bytree': 0.9375682450677801}. Best is trial 57 with value: 0.003554786480584704.\u001b[0m\n"
     ]
    },
    {
     "name": "stdout",
     "output_type": "stream",
     "text": [
      "MAPE: 0.6743961524058707\n"
     ]
    },
    {
     "name": "stderr",
     "output_type": "stream",
     "text": [
      "\u001b[32m[I 2023-07-19 17:03:30,874]\u001b[0m Trial 741 finished with value: 0.02119317720854284 and parameters: {'max_depth': 10, 'eta': 0.35517579893183693, 'gamma': 0.04233626560331872, 'subsample': 0.4875883555464685, 'colsample_bytree': 0.5280709616640571}. Best is trial 57 with value: 0.003554786480584704.\u001b[0m\n"
     ]
    },
    {
     "name": "stdout",
     "output_type": "stream",
     "text": [
      "MAPE: 0.02119317720854284\n"
     ]
    },
    {
     "name": "stderr",
     "output_type": "stream",
     "text": [
      "\u001b[32m[I 2023-07-19 17:03:32,182]\u001b[0m Trial 742 finished with value: 0.044453500572061024 and parameters: {'max_depth': 10, 'eta': 0.48603245151391594, 'gamma': 0.02843815223015137, 'subsample': 0.45338367749808905, 'colsample_bytree': 0.3265349851132534}. Best is trial 57 with value: 0.003554786480584704.\u001b[0m\n"
     ]
    },
    {
     "name": "stdout",
     "output_type": "stream",
     "text": [
      "MAPE: 0.044453500572061024\n"
     ]
    },
    {
     "name": "stderr",
     "output_type": "stream",
     "text": [
      "\u001b[32m[I 2023-07-19 17:03:34,597]\u001b[0m Trial 743 finished with value: 0.003918952317184842 and parameters: {'max_depth': 10, 'eta': 0.569397888754876, 'gamma': 0.05104808494359059, 'subsample': 0.9987948332126027, 'colsample_bytree': 0.9601960166616795}. Best is trial 57 with value: 0.003554786480584704.\u001b[0m\n"
     ]
    },
    {
     "name": "stdout",
     "output_type": "stream",
     "text": [
      "MAPE: 0.003918952317184842\n"
     ]
    },
    {
     "name": "stderr",
     "output_type": "stream",
     "text": [
      "\u001b[32m[I 2023-07-19 17:03:36,299]\u001b[0m Trial 744 finished with value: 0.010559632075630238 and parameters: {'max_depth': 10, 'eta': 0.5347396554797722, 'gamma': 0.3297177599498261, 'subsample': 0.2872099143524527, 'colsample_bytree': 0.8121926076190302}. Best is trial 57 with value: 0.003554786480584704.\u001b[0m\n"
     ]
    },
    {
     "name": "stdout",
     "output_type": "stream",
     "text": [
      "MAPE: 0.010559632075630238\n"
     ]
    },
    {
     "name": "stderr",
     "output_type": "stream",
     "text": [
      "\u001b[32m[I 2023-07-19 17:03:38,406]\u001b[0m Trial 745 finished with value: 0.01115468086473764 and parameters: {'max_depth': 10, 'eta': 0.4290368056718067, 'gamma': 0.0755455657651613, 'subsample': 0.4847669280166692, 'colsample_bytree': 0.8050478630220415}. Best is trial 57 with value: 0.003554786480584704.\u001b[0m\n"
     ]
    },
    {
     "name": "stdout",
     "output_type": "stream",
     "text": [
      "MAPE: 0.01115468086473764\n"
     ]
    },
    {
     "name": "stderr",
     "output_type": "stream",
     "text": [
      "\u001b[32m[I 2023-07-19 17:03:39,776]\u001b[0m Trial 746 finished with value: 0.16219871560811175 and parameters: {'max_depth': 9, 'eta': 0.1659704110975941, 'gamma': 0.2093586532227878, 'subsample': 0.4602913919045808, 'colsample_bytree': 0.9276872977990881}. Best is trial 57 with value: 0.003554786480584704.\u001b[0m\n"
     ]
    },
    {
     "name": "stdout",
     "output_type": "stream",
     "text": [
      "MAPE: 0.16219871560811175\n"
     ]
    },
    {
     "name": "stderr",
     "output_type": "stream",
     "text": [
      "\u001b[32m[I 2023-07-19 17:03:40,467]\u001b[0m Trial 747 finished with value: 0.6063840801244226 and parameters: {'max_depth': 10, 'eta': 0.04803095559318692, 'gamma': 0.016589943457659715, 'subsample': 0.16024480511473688, 'colsample_bytree': 0.3049376606789381}. Best is trial 57 with value: 0.003554786480584704.\u001b[0m\n"
     ]
    },
    {
     "name": "stdout",
     "output_type": "stream",
     "text": [
      "MAPE: 0.6063840801244226\n"
     ]
    },
    {
     "name": "stderr",
     "output_type": "stream",
     "text": [
      "\u001b[32m[I 2023-07-19 17:03:41,198]\u001b[0m Trial 748 finished with value: 0.023682300181030312 and parameters: {'max_depth': 7, 'eta': 0.6024151061448659, 'gamma': 0.3732849508903565, 'subsample': 0.2240191732477378, 'colsample_bytree': 0.41025402605162165}. Best is trial 57 with value: 0.003554786480584704.\u001b[0m\n"
     ]
    },
    {
     "name": "stdout",
     "output_type": "stream",
     "text": [
      "MAPE: 0.023682300181030312\n"
     ]
    },
    {
     "name": "stderr",
     "output_type": "stream",
     "text": [
      "\u001b[32m[I 2023-07-19 17:03:43,616]\u001b[0m Trial 749 finished with value: 0.0038113229010344972 and parameters: {'max_depth': 10, 'eta': 0.7915509974444431, 'gamma': 0.2501224718735825, 'subsample': 0.5172202026810075, 'colsample_bytree': 0.9693361378873474}. Best is trial 57 with value: 0.003554786480584704.\u001b[0m\n"
     ]
    },
    {
     "name": "stdout",
     "output_type": "stream",
     "text": [
      "MAPE: 0.0038113229010344972\n"
     ]
    },
    {
     "name": "stderr",
     "output_type": "stream",
     "text": [
      "\u001b[32m[I 2023-07-19 17:03:45,783]\u001b[0m Trial 750 finished with value: 0.005748551306502729 and parameters: {'max_depth': 10, 'eta': 0.6536744505698098, 'gamma': 0.08437169991843567, 'subsample': 0.432552786077932, 'colsample_bytree': 0.8544120037067623}. Best is trial 57 with value: 0.003554786480584704.\u001b[0m\n"
     ]
    },
    {
     "name": "stdout",
     "output_type": "stream",
     "text": [
      "MAPE: 0.005748551306502729\n"
     ]
    },
    {
     "name": "stderr",
     "output_type": "stream",
     "text": [
      "\u001b[32m[I 2023-07-19 17:03:47,193]\u001b[0m Trial 751 finished with value: 0.4399801167380734 and parameters: {'max_depth': 10, 'eta': 0.07881975837281882, 'gamma': 0.4887230889632451, 'subsample': 0.7633968077699066, 'colsample_bytree': 0.9997034997056115}. Best is trial 57 with value: 0.003554786480584704.\u001b[0m\n"
     ]
    },
    {
     "name": "stdout",
     "output_type": "stream",
     "text": [
      "MAPE: 0.4399801167380734\n"
     ]
    },
    {
     "name": "stderr",
     "output_type": "stream",
     "text": [
      "\u001b[32m[I 2023-07-19 17:03:49,386]\u001b[0m Trial 752 finished with value: 0.003716979923137415 and parameters: {'max_depth': 10, 'eta': 0.4834046047484826, 'gamma': 0.1321304369867664, 'subsample': 0.5569449499582028, 'colsample_bytree': 0.950590237897684}. Best is trial 57 with value: 0.003554786480584704.\u001b[0m\n"
     ]
    },
    {
     "name": "stdout",
     "output_type": "stream",
     "text": [
      "MAPE: 0.003716979923137415\n"
     ]
    },
    {
     "name": "stderr",
     "output_type": "stream",
     "text": [
      "\u001b[32m[I 2023-07-19 17:03:50,815]\u001b[0m Trial 753 finished with value: 0.005883917980545591 and parameters: {'max_depth': 9, 'eta': 0.5653181510853393, 'gamma': 0.09820807213794415, 'subsample': 0.25818884969295197, 'colsample_bytree': 0.8925423702497086}. Best is trial 57 with value: 0.003554786480584704.\u001b[0m\n"
     ]
    },
    {
     "name": "stdout",
     "output_type": "stream",
     "text": [
      "MAPE: 0.005883917980545591\n"
     ]
    },
    {
     "name": "stderr",
     "output_type": "stream",
     "text": [
      "\u001b[32m[I 2023-07-19 17:03:51,843]\u001b[0m Trial 754 finished with value: 0.0062017841883482226 and parameters: {'max_depth': 10, 'eta': 0.4068170484057643, 'gamma': 0.35507556015447983, 'subsample': 0.12006184025250421, 'colsample_bytree': 0.9783464405762253}. Best is trial 57 with value: 0.003554786480584704.\u001b[0m\n"
     ]
    },
    {
     "name": "stdout",
     "output_type": "stream",
     "text": [
      "MAPE: 0.0062017841883482226\n"
     ]
    },
    {
     "name": "stderr",
     "output_type": "stream",
     "text": [
      "\u001b[32m[I 2023-07-19 17:03:53,042]\u001b[0m Trial 755 finished with value: 0.028592694035149576 and parameters: {'max_depth': 10, 'eta': 0.5135497686044669, 'gamma': 0.011285269543152543, 'subsample': 0.3346249225229975, 'colsample_bytree': 0.4029574869703467}. Best is trial 57 with value: 0.003554786480584704.\u001b[0m\n"
     ]
    },
    {
     "name": "stdout",
     "output_type": "stream",
     "text": [
      "MAPE: 0.028592694035149576\n"
     ]
    },
    {
     "name": "stderr",
     "output_type": "stream",
     "text": [
      "\u001b[32m[I 2023-07-19 17:03:55,378]\u001b[0m Trial 756 finished with value: 0.005265524218137706 and parameters: {'max_depth': 10, 'eta': 0.6277322732139483, 'gamma': 0.16446428544886987, 'subsample': 0.5918471445550195, 'colsample_bytree': 0.9156038911649322}. Best is trial 57 with value: 0.003554786480584704.\u001b[0m\n"
     ]
    },
    {
     "name": "stdout",
     "output_type": "stream",
     "text": [
      "MAPE: 0.005265524218137706\n"
     ]
    },
    {
     "name": "stderr",
     "output_type": "stream",
     "text": [
      "\u001b[32m[I 2023-07-19 17:03:57,088]\u001b[0m Trial 757 finished with value: 0.03619497664770331 and parameters: {'max_depth': 10, 'eta': 0.2817533943569682, 'gamma': 0.40334625860156664, 'subsample': 0.5079983230690535, 'colsample_bytree': 0.9998724256888386}. Best is trial 57 with value: 0.003554786480584704.\u001b[0m\n"
     ]
    },
    {
     "name": "stdout",
     "output_type": "stream",
     "text": [
      "MAPE: 0.03619497664770331\n"
     ]
    },
    {
     "name": "stderr",
     "output_type": "stream",
     "text": [
      "\u001b[32m[I 2023-07-19 17:03:57,549]\u001b[0m Trial 758 finished with value: 0.3235883172764879 and parameters: {'max_depth': 4, 'eta': 0.1030676879053482, 'gamma': 0.014090973781351919, 'subsample': 0.29669655935787137, 'colsample_bytree': 0.324356756446176}. Best is trial 57 with value: 0.003554786480584704.\u001b[0m\n"
     ]
    },
    {
     "name": "stdout",
     "output_type": "stream",
     "text": [
      "MAPE: 0.3235883172764879\n"
     ]
    },
    {
     "name": "stderr",
     "output_type": "stream",
     "text": [
      "\u001b[32m[I 2023-07-19 17:03:59,773]\u001b[0m Trial 759 finished with value: 0.004044580691772781 and parameters: {'max_depth': 10, 'eta': 0.46249580540987906, 'gamma': 0.12349549149608628, 'subsample': 0.7382384461690489, 'colsample_bytree': 0.9590750922790017}. Best is trial 57 with value: 0.003554786480584704.\u001b[0m\n"
     ]
    },
    {
     "name": "stdout",
     "output_type": "stream",
     "text": [
      "MAPE: 0.004044580691772781\n"
     ]
    },
    {
     "name": "stderr",
     "output_type": "stream",
     "text": [
      "\u001b[32m[I 2023-07-19 17:04:00,795]\u001b[0m Trial 760 finished with value: 0.23604969718184837 and parameters: {'max_depth': 10, 'eta': 0.1291136376749978, 'gamma': 0.013625280374230346, 'subsample': 0.4735091705648805, 'colsample_bytree': 0.1868687305798109}. Best is trial 57 with value: 0.003554786480584704.\u001b[0m\n"
     ]
    },
    {
     "name": "stdout",
     "output_type": "stream",
     "text": [
      "MAPE: 0.23604969718184837\n"
     ]
    },
    {
     "name": "stderr",
     "output_type": "stream",
     "text": [
      "\u001b[32m[I 2023-07-19 17:04:03,195]\u001b[0m Trial 761 finished with value: 0.005677743074597843 and parameters: {'max_depth': 10, 'eta': 0.5722832837819786, 'gamma': 0.27699426143611283, 'subsample': 0.9607917119061212, 'colsample_bytree': 0.8822729681061465}. Best is trial 57 with value: 0.003554786480584704.\u001b[0m\n"
     ]
    },
    {
     "name": "stdout",
     "output_type": "stream",
     "text": [
      "MAPE: 0.005677743074597843\n"
     ]
    },
    {
     "name": "stderr",
     "output_type": "stream",
     "text": [
      "\u001b[32m[I 2023-07-19 17:04:05,541]\u001b[0m Trial 762 finished with value: 0.014715497136730211 and parameters: {'max_depth': 10, 'eta': 0.6764173051471402, 'gamma': 0.3098533985640845, 'subsample': 0.8307193290809929, 'colsample_bytree': 0.6759119705058743}. Best is trial 57 with value: 0.003554786480584704.\u001b[0m\n"
     ]
    },
    {
     "name": "stdout",
     "output_type": "stream",
     "text": [
      "MAPE: 0.014715497136730211\n"
     ]
    },
    {
     "name": "stderr",
     "output_type": "stream",
     "text": [
      "\u001b[32m[I 2023-07-19 17:04:06,552]\u001b[0m Trial 763 finished with value: 0.8092237714637022 and parameters: {'max_depth': 10, 'eta': 0.020668597573940163, 'gamma': 0.0392682771434844, 'subsample': 0.40463279749342385, 'colsample_bytree': 0.4254021485157416}. Best is trial 57 with value: 0.003554786480584704.\u001b[0m\n"
     ]
    },
    {
     "name": "stdout",
     "output_type": "stream",
     "text": [
      "MAPE: 0.8092237714637022\n"
     ]
    },
    {
     "name": "stderr",
     "output_type": "stream",
     "text": [
      "\u001b[32m[I 2023-07-19 17:04:08,922]\u001b[0m Trial 764 finished with value: 0.01746869251353048 and parameters: {'max_depth': 10, 'eta': 0.7303113393470069, 'gamma': 0.9952035033150481, 'subsample': 0.7750078147132564, 'colsample_bytree': 0.6573820517887727}. Best is trial 57 with value: 0.003554786480584704.\u001b[0m\n"
     ]
    },
    {
     "name": "stdout",
     "output_type": "stream",
     "text": [
      "MAPE: 0.01746869251353048\n"
     ]
    },
    {
     "name": "stderr",
     "output_type": "stream",
     "text": [
      "\u001b[32m[I 2023-07-19 17:04:10,264]\u001b[0m Trial 765 finished with value: 0.031880241780553015 and parameters: {'max_depth': 9, 'eta': 0.3093323227301427, 'gamma': 0.22384378404393918, 'subsample': 0.7142220401103684, 'colsample_bytree': 0.4429260363956843}. Best is trial 57 with value: 0.003554786480584704.\u001b[0m\n"
     ]
    },
    {
     "name": "stdout",
     "output_type": "stream",
     "text": [
      "MAPE: 0.031880241780553015\n"
     ]
    },
    {
     "name": "stderr",
     "output_type": "stream",
     "text": [
      "\u001b[32m[I 2023-07-19 17:04:11,445]\u001b[0m Trial 766 finished with value: 0.36626893630592905 and parameters: {'max_depth': 10, 'eta': 0.09208645305730477, 'gamma': 0.03401913444772176, 'subsample': 0.7929072101344216, 'colsample_bytree': 0.16507712233172833}. Best is trial 57 with value: 0.003554786480584704.\u001b[0m\n"
     ]
    },
    {
     "name": "stdout",
     "output_type": "stream",
     "text": [
      "MAPE: 0.36626893630592905\n"
     ]
    },
    {
     "name": "stderr",
     "output_type": "stream",
     "text": [
      "\u001b[32m[I 2023-07-19 17:04:13,104]\u001b[0m Trial 767 finished with value: 0.017824594439154358 and parameters: {'max_depth': 10, 'eta': 0.3812783861131908, 'gamma': 0.06505367730833755, 'subsample': 0.629990228026047, 'colsample_bytree': 0.4972457717239057}. Best is trial 57 with value: 0.003554786480584704.\u001b[0m\n"
     ]
    },
    {
     "name": "stdout",
     "output_type": "stream",
     "text": [
      "MAPE: 0.017824594439154358\n"
     ]
    },
    {
     "name": "stderr",
     "output_type": "stream",
     "text": [
      "\u001b[32m[I 2023-07-19 17:04:15,672]\u001b[0m Trial 768 finished with value: 0.007111334404171949 and parameters: {'max_depth': 10, 'eta': 0.8310717750325022, 'gamma': 0.012380067057264514, 'subsample': 0.7459125806541029, 'colsample_bytree': 0.9384256726958556}. Best is trial 57 with value: 0.003554786480584704.\u001b[0m\n"
     ]
    },
    {
     "name": "stdout",
     "output_type": "stream",
     "text": [
      "MAPE: 0.007111334404171949\n"
     ]
    },
    {
     "name": "stderr",
     "output_type": "stream",
     "text": [
      "\u001b[32m[I 2023-07-19 17:04:17,407]\u001b[0m Trial 769 finished with value: 0.0036886776358683784 and parameters: {'max_depth': 10, 'eta': 0.5195993092402302, 'gamma': 0.46146319860233165, 'subsample': 0.3156598282692155, 'colsample_bytree': 0.9720226576360713}. Best is trial 57 with value: 0.003554786480584704.\u001b[0m\n"
     ]
    },
    {
     "name": "stdout",
     "output_type": "stream",
     "text": [
      "MAPE: 0.0036886776358683784\n"
     ]
    },
    {
     "name": "stderr",
     "output_type": "stream",
     "text": [
      "\u001b[32m[I 2023-07-19 17:04:19,736]\u001b[0m Trial 770 finished with value: 0.003948308881048238 and parameters: {'max_depth': 10, 'eta': 0.6016830022748075, 'gamma': 0.046305429629837545, 'subsample': 0.6908174664896485, 'colsample_bytree': 0.9821159635786881}. Best is trial 57 with value: 0.003554786480584704.\u001b[0m\n"
     ]
    },
    {
     "name": "stdout",
     "output_type": "stream",
     "text": [
      "MAPE: 0.003948308881048238\n"
     ]
    },
    {
     "name": "stderr",
     "output_type": "stream",
     "text": [
      "\u001b[32m[I 2023-07-19 17:04:21,538]\u001b[0m Trial 771 finished with value: 0.020683436258064663 and parameters: {'max_depth': 10, 'eta': 0.4333974949223117, 'gamma': 0.11204829326842373, 'subsample': 0.6069426365278068, 'colsample_bytree': 0.5539831818413515}. Best is trial 57 with value: 0.003554786480584704.\u001b[0m\n"
     ]
    },
    {
     "name": "stdout",
     "output_type": "stream",
     "text": [
      "MAPE: 0.020683436258064663\n"
     ]
    },
    {
     "name": "stderr",
     "output_type": "stream",
     "text": [
      "\u001b[32m[I 2023-07-19 17:04:23,204]\u001b[0m Trial 772 finished with value: 0.20562542234734865 and parameters: {'max_depth': 10, 'eta': 0.14565508364703583, 'gamma': 0.3923434008022466, 'subsample': 0.7297592069794888, 'colsample_bytree': 0.6337964775186834}. Best is trial 57 with value: 0.003554786480584704.\u001b[0m\n"
     ]
    },
    {
     "name": "stdout",
     "output_type": "stream",
     "text": [
      "MAPE: 0.20562542234734865\n"
     ]
    },
    {
     "name": "stderr",
     "output_type": "stream",
     "text": [
      "\u001b[32m[I 2023-07-19 17:04:24,653]\u001b[0m Trial 773 finished with value: 0.5943077897368115 and parameters: {'max_depth': 10, 'eta': 0.05070575433329624, 'gamma': 0.18283306830168317, 'subsample': 0.8426194900401875, 'colsample_bytree': 0.9564317733594953}. Best is trial 57 with value: 0.003554786480584704.\u001b[0m\n"
     ]
    },
    {
     "name": "stdout",
     "output_type": "stream",
     "text": [
      "MAPE: 0.5943077897368115\n"
     ]
    },
    {
     "name": "stderr",
     "output_type": "stream",
     "text": [
      "\u001b[32m[I 2023-07-19 17:04:26,422]\u001b[0m Trial 774 finished with value: 0.02327112405276923 and parameters: {'max_depth': 10, 'eta': 0.5406475366730451, 'gamma': 0.026041974631312984, 'subsample': 0.7077274267774322, 'colsample_bytree': 0.4771386131645482}. Best is trial 57 with value: 0.003554786480584704.\u001b[0m\n"
     ]
    },
    {
     "name": "stdout",
     "output_type": "stream",
     "text": [
      "MAPE: 0.02327112405276923\n"
     ]
    },
    {
     "name": "stderr",
     "output_type": "stream",
     "text": [
      "\u001b[32m[I 2023-07-19 17:04:28,526]\u001b[0m Trial 775 finished with value: 0.013232124997105767 and parameters: {'max_depth': 9, 'eta': 0.649201108711133, 'gamma': 0.659123802535306, 'subsample': 0.5348108241207908, 'colsample_bytree': 0.8253621190283812}. Best is trial 57 with value: 0.003554786480584704.\u001b[0m\n"
     ]
    },
    {
     "name": "stdout",
     "output_type": "stream",
     "text": [
      "MAPE: 0.013232124997105767\n"
     ]
    },
    {
     "name": "stderr",
     "output_type": "stream",
     "text": [
      "\u001b[32m[I 2023-07-19 17:04:29,872]\u001b[0m Trial 776 finished with value: 0.8711510258813814 and parameters: {'max_depth': 10, 'eta': 0.013692362444970914, 'gamma': 0.3405327786001161, 'subsample': 0.5804390222564324, 'colsample_bytree': 0.9419481430994522}. Best is trial 57 with value: 0.003554786480584704.\u001b[0m\n"
     ]
    },
    {
     "name": "stdout",
     "output_type": "stream",
     "text": [
      "MAPE: 0.8711510258813814\n"
     ]
    },
    {
     "name": "stderr",
     "output_type": "stream",
     "text": [
      "\u001b[32m[I 2023-07-19 17:04:32,131]\u001b[0m Trial 777 finished with value: 0.00376525126749143 and parameters: {'max_depth': 10, 'eta': 0.48566121430521036, 'gamma': 0.05852436789913622, 'subsample': 0.6521174167717585, 'colsample_bytree': 0.9821330328400737}. Best is trial 57 with value: 0.003554786480584704.\u001b[0m\n"
     ]
    },
    {
     "name": "stdout",
     "output_type": "stream",
     "text": [
      "MAPE: 0.00376525126749143\n"
     ]
    },
    {
     "name": "stderr",
     "output_type": "stream",
     "text": [
      "\u001b[32m[I 2023-07-19 17:04:33,548]\u001b[0m Trial 778 finished with value: 0.30628083242724236 and parameters: {'max_depth': 10, 'eta': 0.11159426876456308, 'gamma': 0.5377233324256311, 'subsample': 0.7601827760539827, 'colsample_bytree': 0.9658332162823854}. Best is trial 57 with value: 0.003554786480584704.\u001b[0m\n"
     ]
    },
    {
     "name": "stdout",
     "output_type": "stream",
     "text": [
      "MAPE: 0.30628083242724236\n"
     ]
    },
    {
     "name": "stderr",
     "output_type": "stream",
     "text": [
      "\u001b[32m[I 2023-07-19 17:04:34,842]\u001b[0m Trial 779 finished with value: 0.6966546398349053 and parameters: {'max_depth': 10, 'eta': 0.03547856123487448, 'gamma': 0.4310472841547412, 'subsample': 0.5075510869206707, 'colsample_bytree': 0.922039527838725}. Best is trial 57 with value: 0.003554786480584704.\u001b[0m\n"
     ]
    },
    {
     "name": "stdout",
     "output_type": "stream",
     "text": [
      "MAPE: 0.6966546398349053\n"
     ]
    },
    {
     "name": "stderr",
     "output_type": "stream",
     "text": [
      "\u001b[32m[I 2023-07-19 17:04:36,999]\u001b[0m Trial 780 finished with value: 0.016938331688577026 and parameters: {'max_depth': 10, 'eta': 0.33887980502800397, 'gamma': 0.022083632060124054, 'subsample': 0.6884095023303528, 'colsample_bytree': 0.7647444674824618}. Best is trial 57 with value: 0.003554786480584704.\u001b[0m\n"
     ]
    },
    {
     "name": "stdout",
     "output_type": "stream",
     "text": [
      "MAPE: 0.016938331688577026\n"
     ]
    },
    {
     "name": "stderr",
     "output_type": "stream",
     "text": [
      "\u001b[32m[I 2023-07-19 17:04:38,879]\u001b[0m Trial 781 finished with value: 0.021927188669915356 and parameters: {'max_depth': 10, 'eta': 0.5775500842479603, 'gamma': 0.050285001640642625, 'subsample': 0.7308145342569888, 'colsample_bytree': 0.5553821684841773}. Best is trial 57 with value: 0.003554786480584704.\u001b[0m\n"
     ]
    },
    {
     "name": "stdout",
     "output_type": "stream",
     "text": [
      "MAPE: 0.021927188669915356\n"
     ]
    },
    {
     "name": "stderr",
     "output_type": "stream",
     "text": [
      "\u001b[32m[I 2023-07-19 17:04:39,936]\u001b[0m Trial 782 finished with value: 0.7857093885229016 and parameters: {'max_depth': 9, 'eta': 0.023333617332960323, 'gamma': 0.031329538885966415, 'subsample': 0.6184417074802332, 'colsample_bytree': 0.2169212745586922}. Best is trial 57 with value: 0.003554786480584704.\u001b[0m\n"
     ]
    },
    {
     "name": "stdout",
     "output_type": "stream",
     "text": [
      "MAPE: 0.7857093885229016\n"
     ]
    },
    {
     "name": "stderr",
     "output_type": "stream",
     "text": [
      "\u001b[32m[I 2023-07-19 17:04:41,577]\u001b[0m Trial 783 finished with value: 0.059717510505240094 and parameters: {'max_depth': 10, 'eta': 0.245179582461889, 'gamma': 0.241680259846855, 'subsample': 0.5660450487580698, 'colsample_bytree': 0.9847865594952221}. Best is trial 57 with value: 0.003554786480584704.\u001b[0m\n"
     ]
    },
    {
     "name": "stdout",
     "output_type": "stream",
     "text": [
      "MAPE: 0.059717510505240094\n"
     ]
    },
    {
     "name": "stderr",
     "output_type": "stream",
     "text": [
      "\u001b[32m[I 2023-07-19 17:04:44,033]\u001b[0m Trial 784 finished with value: 0.003879767443835224 and parameters: {'max_depth': 10, 'eta': 0.7141657938826563, 'gamma': 0.3768760479245348, 'subsample': 0.6584081954918835, 'colsample_bytree': 0.9515704564464712}. Best is trial 57 with value: 0.003554786480584704.\u001b[0m\n"
     ]
    },
    {
     "name": "stdout",
     "output_type": "stream",
     "text": [
      "MAPE: 0.003879767443835224\n"
     ]
    },
    {
     "name": "stderr",
     "output_type": "stream",
     "text": [
      "\u001b[32m[I 2023-07-19 17:04:45,665]\u001b[0m Trial 785 finished with value: 0.02284603354423087 and parameters: {'max_depth': 10, 'eta': 0.6132135288662919, 'gamma': 0.5033360355450248, 'subsample': 0.8781690387899137, 'colsample_bytree': 0.42106111350140585}. Best is trial 57 with value: 0.003554786480584704.\u001b[0m\n"
     ]
    },
    {
     "name": "stdout",
     "output_type": "stream",
     "text": [
      "MAPE: 0.02284603354423087\n"
     ]
    },
    {
     "name": "stderr",
     "output_type": "stream",
     "text": [
      "\u001b[32m[I 2023-07-19 17:04:47,514]\u001b[0m Trial 786 finished with value: 0.02128940328837439 and parameters: {'max_depth': 10, 'eta': 0.5480420517421025, 'gamma': 0.019322929410295397, 'subsample': 0.7157235450948898, 'colsample_bytree': 0.5483584637582879}. Best is trial 57 with value: 0.003554786480584704.\u001b[0m\n"
     ]
    },
    {
     "name": "stdout",
     "output_type": "stream",
     "text": [
      "MAPE: 0.02128940328837439\n"
     ]
    },
    {
     "name": "stderr",
     "output_type": "stream",
     "text": [
      "\u001b[32m[I 2023-07-19 17:04:49,536]\u001b[0m Trial 787 finished with value: 0.0052764742383355975 and parameters: {'max_depth': 10, 'eta': 0.47071829850755176, 'gamma': 0.08846691636324842, 'subsample': 0.4442996186086317, 'colsample_bytree': 0.9024617201157493}. Best is trial 57 with value: 0.003554786480584704.\u001b[0m\n"
     ]
    },
    {
     "name": "stdout",
     "output_type": "stream",
     "text": [
      "MAPE: 0.0052764742383355975\n"
     ]
    },
    {
     "name": "stderr",
     "output_type": "stream",
     "text": [
      "\u001b[32m[I 2023-07-19 17:04:50,916]\u001b[0m Trial 788 finished with value: 0.7725768736509967 and parameters: {'max_depth': 10, 'eta': 0.025468937252597162, 'gamma': 0.01607002517099409, 'subsample': 0.7507719212427763, 'colsample_bytree': 0.9688361946826585}. Best is trial 57 with value: 0.003554786480584704.\u001b[0m\n"
     ]
    },
    {
     "name": "stdout",
     "output_type": "stream",
     "text": [
      "MAPE: 0.7725768736509967\n"
     ]
    },
    {
     "name": "stderr",
     "output_type": "stream",
     "text": [
      "\u001b[32m[I 2023-07-19 17:04:51,955]\u001b[0m Trial 789 finished with value: 0.08955230779790213 and parameters: {'max_depth': 10, 'eta': 0.21422946169912377, 'gamma': 0.26023134555015986, 'subsample': 0.27505207053204067, 'colsample_bytree': 0.9860266252214269}. Best is trial 57 with value: 0.003554786480584704.\u001b[0m\n"
     ]
    },
    {
     "name": "stdout",
     "output_type": "stream",
     "text": [
      "MAPE: 0.08955230779790213\n"
     ]
    },
    {
     "name": "stderr",
     "output_type": "stream",
     "text": [
      "\u001b[32m[I 2023-07-19 17:04:52,666]\u001b[0m Trial 790 finished with value: 0.11714652658354573 and parameters: {'max_depth': 10, 'eta': 0.19279077463573088, 'gamma': 0.31769698859981255, 'subsample': 0.13316471894945575, 'colsample_bytree': 0.9358232257696859}. Best is trial 57 with value: 0.003554786480584704.\u001b[0m\n"
     ]
    },
    {
     "name": "stdout",
     "output_type": "stream",
     "text": [
      "MAPE: 0.11714652658354573\n"
     ]
    },
    {
     "name": "stderr",
     "output_type": "stream",
     "text": [
      "\u001b[32m[I 2023-07-19 17:04:55,004]\u001b[0m Trial 791 finished with value: 0.01964310284653437 and parameters: {'max_depth': 10, 'eta': 0.8924337646363116, 'gamma': 0.14169470461546466, 'subsample': 0.546744528507496, 'colsample_bytree': 0.7204921793004049}. Best is trial 57 with value: 0.003554786480584704.\u001b[0m\n"
     ]
    },
    {
     "name": "stdout",
     "output_type": "stream",
     "text": [
      "MAPE: 0.01964310284653437\n"
     ]
    },
    {
     "name": "stderr",
     "output_type": "stream",
     "text": [
      "\u001b[32m[I 2023-07-19 17:04:56,411]\u001b[0m Trial 792 finished with value: 0.02462865269991558 and parameters: {'max_depth': 9, 'eta': 0.666594841350424, 'gamma': 0.07141199223932493, 'subsample': 0.679602028455087, 'colsample_bytree': 0.3743401972470344}. Best is trial 57 with value: 0.003554786480584704.\u001b[0m\n"
     ]
    },
    {
     "name": "stdout",
     "output_type": "stream",
     "text": [
      "MAPE: 0.02462865269991558\n"
     ]
    },
    {
     "name": "stderr",
     "output_type": "stream",
     "text": [
      "\u001b[32m[I 2023-07-19 17:04:57,365]\u001b[0m Trial 793 finished with value: 0.8813674362753471 and parameters: {'max_depth': 10, 'eta': 0.012387245203615825, 'gamma': 0.21112891256681762, 'subsample': 0.3835557825060561, 'colsample_bytree': 0.4289488178931937}. Best is trial 57 with value: 0.003554786480584704.\u001b[0m\n"
     ]
    },
    {
     "name": "stdout",
     "output_type": "stream",
     "text": [
      "MAPE: 0.8813674362753471\n"
     ]
    },
    {
     "name": "stderr",
     "output_type": "stream",
     "text": [
      "\u001b[32m[I 2023-07-19 17:04:58,787]\u001b[0m Trial 794 finished with value: 0.005827505908196006 and parameters: {'max_depth': 6, 'eta': 0.5058238940270353, 'gamma': 0.19263559430051289, 'subsample': 0.7004035901479291, 'colsample_bytree': 0.9983287445071329}. Best is trial 57 with value: 0.003554786480584704.\u001b[0m\n"
     ]
    },
    {
     "name": "stdout",
     "output_type": "stream",
     "text": [
      "MAPE: 0.005827505908196006\n"
     ]
    },
    {
     "name": "stderr",
     "output_type": "stream",
     "text": [
      "\u001b[32m[I 2023-07-19 17:04:59,852]\u001b[0m Trial 795 finished with value: 0.07985086030418567 and parameters: {'max_depth': 10, 'eta': 0.7665745044983882, 'gamma': 0.4403155302572442, 'subsample': 0.7291418690179633, 'colsample_bytree': 0.1440809525922786}. Best is trial 57 with value: 0.003554786480584704.\u001b[0m\n"
     ]
    },
    {
     "name": "stdout",
     "output_type": "stream",
     "text": [
      "MAPE: 0.07985086030418567\n"
     ]
    },
    {
     "name": "stderr",
     "output_type": "stream",
     "text": [
      "\u001b[32m[I 2023-07-19 17:05:02,016]\u001b[0m Trial 796 finished with value: 0.011803881156473114 and parameters: {'max_depth': 10, 'eta': 0.5851453023171724, 'gamma': 0.15949297767228293, 'subsample': 0.48066917223372796, 'colsample_bytree': 0.7878871830674309}. Best is trial 57 with value: 0.003554786480584704.\u001b[0m\n"
     ]
    },
    {
     "name": "stdout",
     "output_type": "stream",
     "text": [
      "MAPE: 0.011803881156473114\n"
     ]
    },
    {
     "name": "stderr",
     "output_type": "stream",
     "text": [
      "\u001b[32m[I 2023-07-19 17:05:03,853]\u001b[0m Trial 797 finished with value: 0.006985809681261245 and parameters: {'max_depth': 8, 'eta': 0.43142244726642837, 'gamma': 0.8955523064423471, 'subsample': 0.7848639407204878, 'colsample_bytree': 0.842292767199683}. Best is trial 57 with value: 0.003554786480584704.\u001b[0m\n"
     ]
    },
    {
     "name": "stdout",
     "output_type": "stream",
     "text": [
      "MAPE: 0.006985809681261245\n"
     ]
    },
    {
     "name": "stderr",
     "output_type": "stream",
     "text": [
      "\u001b[32m[I 2023-07-19 17:05:04,820]\u001b[0m Trial 798 finished with value: 0.07975485503397076 and parameters: {'max_depth': 10, 'eta': 0.5326179546923137, 'gamma': 0.3517015928550984, 'subsample': 0.41870524855817043, 'colsample_bytree': 0.12396032345204377}. Best is trial 57 with value: 0.003554786480584704.\u001b[0m\n"
     ]
    },
    {
     "name": "stdout",
     "output_type": "stream",
     "text": [
      "MAPE: 0.07975485503397076\n"
     ]
    },
    {
     "name": "stderr",
     "output_type": "stream",
     "text": [
      "\u001b[32m[I 2023-07-19 17:05:07,152]\u001b[0m Trial 799 finished with value: 0.0036455182788276085 and parameters: {'max_depth': 10, 'eta': 0.6420597959952897, 'gamma': 0.05598344653552308, 'subsample': 0.5951306688270244, 'colsample_bytree': 0.9642721554653624}. Best is trial 57 with value: 0.003554786480584704.\u001b[0m\n"
     ]
    },
    {
     "name": "stdout",
     "output_type": "stream",
     "text": [
      "MAPE: 0.0036455182788276085\n"
     ]
    },
    {
     "name": "stderr",
     "output_type": "stream",
     "text": [
      "\u001b[32m[I 2023-07-19 17:05:08,592]\u001b[0m Trial 800 finished with value: 0.04253288847286404 and parameters: {'max_depth': 10, 'eta': 0.6567271905694451, 'gamma': 0.06352172787142966, 'subsample': 0.599579320710337, 'colsample_bytree': 0.34433064256929347}. Best is trial 57 with value: 0.003554786480584704.\u001b[0m\n"
     ]
    },
    {
     "name": "stdout",
     "output_type": "stream",
     "text": [
      "MAPE: 0.04253288847286404\n"
     ]
    },
    {
     "name": "stderr",
     "output_type": "stream",
     "text": [
      "\u001b[32m[I 2023-07-19 17:05:10,975]\u001b[0m Trial 801 finished with value: 0.004102995222718337 and parameters: {'max_depth': 10, 'eta': 0.7297885097342691, 'gamma': 0.06112772365823977, 'subsample': 0.5770744169313484, 'colsample_bytree': 0.9517852244817411}. Best is trial 57 with value: 0.003554786480584704.\u001b[0m\n"
     ]
    },
    {
     "name": "stdout",
     "output_type": "stream",
     "text": [
      "MAPE: 0.004102995222718337\n"
     ]
    },
    {
     "name": "stderr",
     "output_type": "stream",
     "text": [
      "\u001b[32m[I 2023-07-19 17:05:12,404]\u001b[0m Trial 802 finished with value: 0.6574353311829155 and parameters: {'max_depth': 10, 'eta': 0.040966915978973596, 'gamma': 0.0486775065026205, 'subsample': 0.5890359388097222, 'colsample_bytree': 0.6837347244537946}. Best is trial 57 with value: 0.003554786480584704.\u001b[0m\n"
     ]
    },
    {
     "name": "stdout",
     "output_type": "stream",
     "text": [
      "MAPE: 0.6574353311829155\n"
     ]
    },
    {
     "name": "stderr",
     "output_type": "stream",
     "text": [
      "\u001b[32m[I 2023-07-19 17:05:13,163]\u001b[0m Trial 803 finished with value: 0.9024925797920227 and parameters: {'max_depth': 9, 'eta': 0.010006068665433913, 'gamma': 0.05666351545147728, 'subsample': 0.23172684074711353, 'colsample_bytree': 0.402323070524387}. Best is trial 57 with value: 0.003554786480584704.\u001b[0m\n"
     ]
    },
    {
     "name": "stdout",
     "output_type": "stream",
     "text": [
      "MAPE: 0.9024925797920227\n"
     ]
    },
    {
     "name": "stderr",
     "output_type": "stream",
     "text": [
      "\u001b[32m[I 2023-07-19 17:05:15,680]\u001b[0m Trial 804 finished with value: 0.007804848827392168 and parameters: {'max_depth': 10, 'eta': 0.9875828864209245, 'gamma': 0.036850511517934254, 'subsample': 0.6223157649779014, 'colsample_bytree': 0.921816743777999}. Best is trial 57 with value: 0.003554786480584704.\u001b[0m\n"
     ]
    },
    {
     "name": "stdout",
     "output_type": "stream",
     "text": [
      "MAPE: 0.007804848827392168\n"
     ]
    },
    {
     "name": "stderr",
     "output_type": "stream",
     "text": [
      "\u001b[32m[I 2023-07-19 17:05:17,969]\u001b[0m Trial 805 finished with value: 0.0037260783548978362 and parameters: {'max_depth': 10, 'eta': 0.5756583639518655, 'gamma': 0.055185884344243374, 'subsample': 0.6006030359694201, 'colsample_bytree': 0.9654831056566596}. Best is trial 57 with value: 0.003554786480584704.\u001b[0m\n"
     ]
    },
    {
     "name": "stdout",
     "output_type": "stream",
     "text": [
      "MAPE: 0.0037260783548978362\n"
     ]
    },
    {
     "name": "stderr",
     "output_type": "stream",
     "text": [
      "\u001b[32m[I 2023-07-19 17:05:19,820]\u001b[0m Trial 806 finished with value: 0.03801859171452914 and parameters: {'max_depth': 10, 'eta': 0.27768892305761067, 'gamma': 0.05045761908395098, 'subsample': 0.558541061280305, 'colsample_bytree': 0.9429156219958947}. Best is trial 57 with value: 0.003554786480584704.\u001b[0m\n"
     ]
    },
    {
     "name": "stdout",
     "output_type": "stream",
     "text": [
      "MAPE: 0.03801859171452914\n"
     ]
    },
    {
     "name": "stderr",
     "output_type": "stream",
     "text": [
      "\u001b[32m[I 2023-07-19 17:05:20,856]\u001b[0m Trial 807 finished with value: 0.827986449283037 and parameters: {'max_depth': 10, 'eta': 0.018684894690032285, 'gamma': 0.27488914936932834, 'subsample': 0.3643235070424511, 'colsample_bytree': 0.9789492565987067}. Best is trial 57 with value: 0.003554786480584704.\u001b[0m\n"
     ]
    },
    {
     "name": "stdout",
     "output_type": "stream",
     "text": [
      "MAPE: 0.827986449283037\n"
     ]
    },
    {
     "name": "stderr",
     "output_type": "stream",
     "text": [
      "\u001b[32m[I 2023-07-19 17:05:22,671]\u001b[0m Trial 808 finished with value: 0.01993392895948547 and parameters: {'max_depth': 10, 'eta': 0.4680846133968341, 'gamma': 0.30232462584808345, 'subsample': 0.6333311789878707, 'colsample_bytree': 0.5776034531195322}. Best is trial 57 with value: 0.003554786480584704.\u001b[0m\n"
     ]
    },
    {
     "name": "stdout",
     "output_type": "stream",
     "text": [
      "MAPE: 0.01993392895948547\n"
     ]
    },
    {
     "name": "stderr",
     "output_type": "stream",
     "text": [
      "\u001b[32m[I 2023-07-19 17:05:24,059]\u001b[0m Trial 809 finished with value: 0.8357908186284159 and parameters: {'max_depth': 10, 'eta': 0.01776995927647513, 'gamma': 0.04373992713776877, 'subsample': 0.6461945122366646, 'colsample_bytree': 0.8805568204413112}. Best is trial 57 with value: 0.003554786480584704.\u001b[0m\n"
     ]
    },
    {
     "name": "stdout",
     "output_type": "stream",
     "text": [
      "MAPE: 0.8357908186284159\n"
     ]
    },
    {
     "name": "stderr",
     "output_type": "stream",
     "text": [
      "\u001b[32m[I 2023-07-19 17:05:26,273]\u001b[0m Trial 810 finished with value: 0.012743210081241317 and parameters: {'max_depth': 10, 'eta': 0.5123067690258873, 'gamma': 0.04504176671689445, 'subsample': 0.5907074554796158, 'colsample_bytree': 0.6537471706612449}. Best is trial 57 with value: 0.003554786480584704.\u001b[0m\n"
     ]
    },
    {
     "name": "stdout",
     "output_type": "stream",
     "text": [
      "MAPE: 0.012743210081241317\n"
     ]
    },
    {
     "name": "stderr",
     "output_type": "stream",
     "text": [
      "\u001b[32m[I 2023-07-19 17:05:28,732]\u001b[0m Trial 811 finished with value: 0.012649618699858329 and parameters: {'max_depth': 10, 'eta': 0.6305135855728802, 'gamma': 0.07464849455570378, 'subsample': 0.6697565422969578, 'colsample_bytree': 0.7990274652409882}. Best is trial 57 with value: 0.003554786480584704.\u001b[0m\n"
     ]
    },
    {
     "name": "stdout",
     "output_type": "stream",
     "text": [
      "MAPE: 0.012649618699858329\n"
     ]
    },
    {
     "name": "stderr",
     "output_type": "stream",
     "text": [
      "\u001b[32m[I 2023-07-19 17:05:30,826]\u001b[0m Trial 812 finished with value: 0.008852282620546775 and parameters: {'max_depth': 10, 'eta': 0.3771229448063477, 'gamma': 0.05410979575442992, 'subsample': 0.7113100360194419, 'colsample_bytree': 0.9605517209537145}. Best is trial 57 with value: 0.003554786480584704.\u001b[0m\n"
     ]
    },
    {
     "name": "stdout",
     "output_type": "stream",
     "text": [
      "MAPE: 0.008852282620546775\n"
     ]
    },
    {
     "name": "stderr",
     "output_type": "stream",
     "text": [
      "\u001b[32m[I 2023-07-19 17:05:31,075]\u001b[0m Trial 813 finished with value: 0.4989231272602575 and parameters: {'max_depth': 1, 'eta': 0.06270590061173999, 'gamma': 0.09506931936545208, 'subsample': 0.7385352236172853, 'colsample_bytree': 0.2558177912592153}. Best is trial 57 with value: 0.003554786480584704.\u001b[0m\n"
     ]
    },
    {
     "name": "stdout",
     "output_type": "stream",
     "text": [
      "MAPE: 0.4989231272602575\n"
     ]
    },
    {
     "name": "stderr",
     "output_type": "stream",
     "text": [
      "\u001b[32m[I 2023-07-19 17:05:33,345]\u001b[0m Trial 814 finished with value: 0.0038146407491278685 and parameters: {'max_depth': 10, 'eta': 0.5626930197149718, 'gamma': 0.2339766955027726, 'subsample': 0.5392820100040003, 'colsample_bytree': 0.9984568841880204}. Best is trial 57 with value: 0.003554786480584704.\u001b[0m\n"
     ]
    },
    {
     "name": "stdout",
     "output_type": "stream",
     "text": [
      "MAPE: 0.0038146407491278685\n"
     ]
    },
    {
     "name": "stderr",
     "output_type": "stream",
     "text": [
      "\u001b[32m[I 2023-07-19 17:05:35,718]\u001b[0m Trial 815 finished with value: 0.012960912799680818 and parameters: {'max_depth': 10, 'eta': 0.6870106585320659, 'gamma': 0.07895221466846634, 'subsample': 0.6111903855304786, 'colsample_bytree': 0.7390134156313615}. Best is trial 57 with value: 0.003554786480584704.\u001b[0m\n"
     ]
    },
    {
     "name": "stdout",
     "output_type": "stream",
     "text": [
      "MAPE: 0.012960912799680818\n"
     ]
    },
    {
     "name": "stderr",
     "output_type": "stream",
     "text": [
      "\u001b[32m[I 2023-07-19 17:05:37,035]\u001b[0m Trial 816 finished with value: 0.022819335113874864 and parameters: {'max_depth': 10, 'eta': 0.800020737414002, 'gamma': 0.02753017137030662, 'subsample': 0.15704187784506435, 'colsample_bytree': 0.6004056688804593}. Best is trial 57 with value: 0.003554786480584704.\u001b[0m\n"
     ]
    },
    {
     "name": "stdout",
     "output_type": "stream",
     "text": [
      "MAPE: 0.022819335113874864\n"
     ]
    },
    {
     "name": "stderr",
     "output_type": "stream",
     "text": [
      "\u001b[32m[I 2023-07-19 17:05:38,317]\u001b[0m Trial 817 finished with value: 0.006276604064316606 and parameters: {'max_depth': 10, 'eta': 0.41605594609027147, 'gamma': 0.012939427868729356, 'subsample': 0.19378290686886923, 'colsample_bytree': 0.9347568888499965}. Best is trial 57 with value: 0.003554786480584704.\u001b[0m\n"
     ]
    },
    {
     "name": "stdout",
     "output_type": "stream",
     "text": [
      "MAPE: 0.006276604064316606\n"
     ]
    },
    {
     "name": "stderr",
     "output_type": "stream",
     "text": [
      "\u001b[32m[I 2023-07-19 17:05:39,006]\u001b[0m Trial 818 finished with value: 0.01964829819348517 and parameters: {'max_depth': 3, 'eta': 0.5190532052275861, 'gamma': 0.04168724924584238, 'subsample': 0.5778071497964038, 'colsample_bytree': 0.7079503495063223}. Best is trial 57 with value: 0.003554786480584704.\u001b[0m\n"
     ]
    },
    {
     "name": "stdout",
     "output_type": "stream",
     "text": [
      "MAPE: 0.01964829819348517\n"
     ]
    },
    {
     "name": "stderr",
     "output_type": "stream",
     "text": [
      "\u001b[32m[I 2023-07-19 17:05:40,510]\u001b[0m Trial 819 finished with value: 0.24109037732495625 and parameters: {'max_depth': 10, 'eta': 0.13252818675981945, 'gamma': 0.06745334743882878, 'subsample': 0.8541191866856706, 'colsample_bytree': 0.9089798194132512}. Best is trial 57 with value: 0.003554786480584704.\u001b[0m\n"
     ]
    },
    {
     "name": "stdout",
     "output_type": "stream",
     "text": [
      "MAPE: 0.24109037732495625\n"
     ]
    },
    {
     "name": "stderr",
     "output_type": "stream",
     "text": [
      "\u001b[32m[I 2023-07-19 17:05:41,890]\u001b[0m Trial 820 finished with value: 0.6313125288247311 and parameters: {'max_depth': 9, 'eta': 0.044939176686754324, 'gamma': 0.5870826351056194, 'subsample': 0.6932797139670016, 'colsample_bytree': 0.9844366839195732}. Best is trial 57 with value: 0.003554786480584704.\u001b[0m\n"
     ]
    },
    {
     "name": "stdout",
     "output_type": "stream",
     "text": [
      "MAPE: 0.6313125288247311\n"
     ]
    },
    {
     "name": "stderr",
     "output_type": "stream",
     "text": [
      "\u001b[32m[I 2023-07-19 17:05:43,424]\u001b[0m Trial 821 finished with value: 0.11953153088923564 and parameters: {'max_depth': 10, 'eta': 0.1912582655435951, 'gamma': 0.7950248577106215, 'subsample': 0.7615311938023119, 'colsample_bytree': 0.9610098640070406}. Best is trial 57 with value: 0.003554786480584704.\u001b[0m\n"
     ]
    },
    {
     "name": "stdout",
     "output_type": "stream",
     "text": [
      "MAPE: 0.11953153088923564\n"
     ]
    },
    {
     "name": "stderr",
     "output_type": "stream",
     "text": [
      "\u001b[32m[I 2023-07-19 17:05:45,045]\u001b[0m Trial 822 finished with value: 0.06285034379602557 and parameters: {'max_depth': 10, 'eta': 0.2411997631868086, 'gamma': 0.10010868508335151, 'subsample': 0.561303199479732, 'colsample_bytree': 0.9753344920986168}. Best is trial 57 with value: 0.003554786480584704.\u001b[0m\n"
     ]
    },
    {
     "name": "stdout",
     "output_type": "stream",
     "text": [
      "MAPE: 0.06285034379602557\n"
     ]
    },
    {
     "name": "stderr",
     "output_type": "stream",
     "text": [
      "\u001b[32m[I 2023-07-19 17:05:46,251]\u001b[0m Trial 823 finished with value: 0.8025895217683708 and parameters: {'max_depth': 10, 'eta': 0.02144956642801816, 'gamma': 0.36185886444498144, 'subsample': 0.7119954156153327, 'colsample_bytree': 0.28612962447042045}. Best is trial 57 with value: 0.003554786480584704.\u001b[0m\n"
     ]
    },
    {
     "name": "stdout",
     "output_type": "stream",
     "text": [
      "MAPE: 0.8025895217683708\n"
     ]
    },
    {
     "name": "stderr",
     "output_type": "stream",
     "text": [
      "\u001b[32m[I 2023-07-19 17:05:47,394]\u001b[0m Trial 824 finished with value: 0.6939663759683915 and parameters: {'max_depth': 10, 'eta': 0.035219555136581523, 'gamma': 0.1143895392378891, 'subsample': 0.7424930466709203, 'colsample_bytree': 0.21627777449072894}. Best is trial 57 with value: 0.003554786480584704.\u001b[0m\n"
     ]
    },
    {
     "name": "stdout",
     "output_type": "stream",
     "text": [
      "MAPE: 0.6939663759683915\n"
     ]
    },
    {
     "name": "stderr",
     "output_type": "stream",
     "text": [
      "\u001b[32m[I 2023-07-19 17:05:49,772]\u001b[0m Trial 825 finished with value: 0.0036458294328928923 and parameters: {'max_depth': 10, 'eta': 0.6179379822533462, 'gamma': 0.02965844700687148, 'subsample': 0.679278030111643, 'colsample_bytree': 0.9997255293333993}. Best is trial 57 with value: 0.003554786480584704.\u001b[0m\n"
     ]
    },
    {
     "name": "stdout",
     "output_type": "stream",
     "text": [
      "MAPE: 0.0036458294328928923\n"
     ]
    },
    {
     "name": "stderr",
     "output_type": "stream",
     "text": [
      "\u001b[32m[I 2023-07-19 17:05:51,129]\u001b[0m Trial 826 finished with value: 0.7470821138505587 and parameters: {'max_depth': 10, 'eta': 0.028731366278529753, 'gamma': 0.022072822977434486, 'subsample': 0.6665286815746054, 'colsample_bytree': 0.9995609640449107}. Best is trial 57 with value: 0.003554786480584704.\u001b[0m\n"
     ]
    },
    {
     "name": "stdout",
     "output_type": "stream",
     "text": [
      "MAPE: 0.7470821138505587\n"
     ]
    },
    {
     "name": "stderr",
     "output_type": "stream",
     "text": [
      "\u001b[32m[I 2023-07-19 17:05:52,527]\u001b[0m Trial 827 finished with value: 0.010282718340030141 and parameters: {'max_depth': 10, 'eta': 0.4675376204418999, 'gamma': 0.024171797984239636, 'subsample': 0.24162612313690884, 'colsample_bytree': 0.6274106021792473}. Best is trial 57 with value: 0.003554786480584704.\u001b[0m\n"
     ]
    },
    {
     "name": "stdout",
     "output_type": "stream",
     "text": [
      "MAPE: 0.010282718340030141\n"
     ]
    },
    {
     "name": "stderr",
     "output_type": "stream",
     "text": [
      "\u001b[32m[I 2023-07-19 17:05:53,694]\u001b[0m Trial 828 finished with value: 0.4038346788791593 and parameters: {'max_depth': 9, 'eta': 0.08495542979014342, 'gamma': 0.0284060095562076, 'subsample': 0.6779484889277071, 'colsample_bytree': 0.2679206109337963}. Best is trial 57 with value: 0.003554786480584704.\u001b[0m\n"
     ]
    },
    {
     "name": "stdout",
     "output_type": "stream",
     "text": [
      "MAPE: 0.4038346788791593\n"
     ]
    },
    {
     "name": "stderr",
     "output_type": "stream",
     "text": [
      "\u001b[32m[I 2023-07-19 17:05:55,017]\u001b[0m Trial 829 finished with value: 0.45288932487809896 and parameters: {'max_depth': 10, 'eta': 0.07497088935424662, 'gamma': 0.033647739182623426, 'subsample': 0.6577367365943632, 'colsample_bytree': 0.5316751859131207}. Best is trial 57 with value: 0.003554786480584704.\u001b[0m\n"
     ]
    },
    {
     "name": "stdout",
     "output_type": "stream",
     "text": [
      "MAPE: 0.45288932487809896\n"
     ]
    },
    {
     "name": "stderr",
     "output_type": "stream",
     "text": [
      "\u001b[32m[I 2023-07-19 17:05:56,423]\u001b[0m Trial 830 finished with value: 0.0039427677904886995 and parameters: {'max_depth': 10, 'eta': 0.595992031561351, 'gamma': 0.14849915781131298, 'subsample': 0.17888025312420192, 'colsample_bytree': 0.9861322854861699}. Best is trial 57 with value: 0.003554786480584704.\u001b[0m\n"
     ]
    },
    {
     "name": "stdout",
     "output_type": "stream",
     "text": [
      "MAPE: 0.0039427677904886995\n"
     ]
    },
    {
     "name": "stderr",
     "output_type": "stream",
     "text": [
      "\u001b[32m[I 2023-07-19 17:05:58,175]\u001b[0m Trial 831 finished with value: 0.0034983910391903593 and parameters: {'max_depth': 10, 'eta': 0.539443152782179, 'gamma': 0.02977421028172982, 'subsample': 0.3234466929660097, 'colsample_bytree': 0.9992791996752288}. Best is trial 831 with value: 0.0034983910391903593.\u001b[0m\n"
     ]
    },
    {
     "name": "stdout",
     "output_type": "stream",
     "text": [
      "MAPE: 0.0034983910391903593\n"
     ]
    },
    {
     "name": "stderr",
     "output_type": "stream",
     "text": [
      "\u001b[32m[I 2023-07-19 17:05:59,546]\u001b[0m Trial 832 finished with value: 0.003940302504058367 and parameters: {'max_depth': 10, 'eta': 0.5661245357279401, 'gamma': 0.030406988444521978, 'subsample': 0.18260904459638358, 'colsample_bytree': 0.9873270098997942}. Best is trial 831 with value: 0.0034983910391903593.\u001b[0m\n"
     ]
    },
    {
     "name": "stdout",
     "output_type": "stream",
     "text": [
      "MAPE: 0.003940302504058367\n"
     ]
    },
    {
     "name": "stderr",
     "output_type": "stream",
     "text": [
      "\u001b[32m[I 2023-07-19 17:06:00,579]\u001b[0m Trial 833 finished with value: 0.34923010217375516 and parameters: {'max_depth': 10, 'eta': 0.09981348837073932, 'gamma': 0.035541928110211576, 'subsample': 0.340807141721191, 'colsample_bytree': 0.9990742789726823}. Best is trial 831 with value: 0.0034983910391903593.\u001b[0m\n"
     ]
    },
    {
     "name": "stdout",
     "output_type": "stream",
     "text": [
      "MAPE: 0.34923010217375516\n"
     ]
    },
    {
     "name": "stderr",
     "output_type": "stream",
     "text": [
      "\u001b[32m[I 2023-07-19 17:06:02,614]\u001b[0m Trial 834 finished with value: 0.003847541371264538 and parameters: {'max_depth': 10, 'eta': 0.6175926940369367, 'gamma': 0.2944287515360983, 'subsample': 0.3951596018700255, 'colsample_bytree': 0.9860635175764366}. Best is trial 831 with value: 0.0034983910391903593.\u001b[0m\n"
     ]
    },
    {
     "name": "stdout",
     "output_type": "stream",
     "text": [
      "MAPE: 0.003847541371264538\n"
     ]
    },
    {
     "name": "stderr",
     "output_type": "stream",
     "text": [
      "\u001b[32m[I 2023-07-19 17:06:04,785]\u001b[0m Trial 835 finished with value: 0.004185899891437534 and parameters: {'max_depth': 9, 'eta': 0.6970213479801605, 'gamma': 0.0311603402557449, 'subsample': 0.6244839611443332, 'colsample_bytree': 0.9989124572661678}. Best is trial 831 with value: 0.0034983910391903593.\u001b[0m\n"
     ]
    },
    {
     "name": "stdout",
     "output_type": "stream",
     "text": [
      "MAPE: 0.004185899891437534\n"
     ]
    },
    {
     "name": "stderr",
     "output_type": "stream",
     "text": [
      "\u001b[32m[I 2023-07-19 17:06:06,710]\u001b[0m Trial 836 finished with value: 0.0036587285300405566 and parameters: {'max_depth': 10, 'eta': 0.5593270221701763, 'gamma': 0.39974986387876144, 'subsample': 0.3778576242455837, 'colsample_bytree': 0.9741674816483686}. Best is trial 831 with value: 0.0034983910391903593.\u001b[0m\n"
     ]
    },
    {
     "name": "stdout",
     "output_type": "stream",
     "text": [
      "MAPE: 0.0036587285300405566\n"
     ]
    },
    {
     "name": "stderr",
     "output_type": "stream",
     "text": [
      "\u001b[32m[I 2023-07-19 17:06:07,874]\u001b[0m Trial 837 finished with value: 0.13105025063115489 and parameters: {'max_depth': 10, 'eta': 0.18377300370108093, 'gamma': 0.39875427141783815, 'subsample': 0.3725076382728198, 'colsample_bytree': 0.9710051894353436}. Best is trial 831 with value: 0.0034983910391903593.\u001b[0m\n"
     ]
    },
    {
     "name": "stdout",
     "output_type": "stream",
     "text": [
      "MAPE: 0.13105025063115489\n"
     ]
    },
    {
     "name": "stderr",
     "output_type": "stream",
     "text": [
      "\u001b[32m[I 2023-07-19 17:06:09,317]\u001b[0m Trial 838 finished with value: 0.19818870373888084 and parameters: {'max_depth': 10, 'eta': 0.14933905460063415, 'gamma': 0.03292002976710445, 'subsample': 0.6005868204640563, 'colsample_bytree': 0.9694234816036981}. Best is trial 831 with value: 0.0034983910391903593.\u001b[0m\n"
     ]
    },
    {
     "name": "stdout",
     "output_type": "stream",
     "text": [
      "MAPE: 0.19818870373888084\n"
     ]
    },
    {
     "name": "stderr",
     "output_type": "stream",
     "text": [
      "\u001b[32m[I 2023-07-19 17:06:10,580]\u001b[0m Trial 839 finished with value: 0.026135110614127977 and parameters: {'max_depth': 10, 'eta': 0.6272098334526806, 'gamma': 0.02892887530811396, 'subsample': 0.3549715665467399, 'colsample_bytree': 0.3908046177996142}. Best is trial 831 with value: 0.0034983910391903593.\u001b[0m\n"
     ]
    },
    {
     "name": "stdout",
     "output_type": "stream",
     "text": [
      "MAPE: 0.026135110614127977\n"
     ]
    },
    {
     "name": "stderr",
     "output_type": "stream",
     "text": [
      "\u001b[32m[I 2023-07-19 17:06:12,006]\u001b[0m Trial 840 finished with value: 0.02319742655815818 and parameters: {'max_depth': 10, 'eta': 0.5603187139314849, 'gamma': 0.4686370805619361, 'subsample': 0.38667113580954643, 'colsample_bytree': 0.4661908926914305}. Best is trial 831 with value: 0.0034983910391903593.\u001b[0m\n"
     ]
    },
    {
     "name": "stdout",
     "output_type": "stream",
     "text": [
      "MAPE: 0.02319742655815818\n"
     ]
    },
    {
     "name": "stderr",
     "output_type": "stream",
     "text": [
      "\u001b[32m[I 2023-07-19 17:06:13,312]\u001b[0m Trial 841 finished with value: 0.016031244034405916 and parameters: {'max_depth': 10, 'eta': 0.33793713397277886, 'gamma': 0.26161766248895313, 'subsample': 0.29255262405227206, 'colsample_bytree': 0.947493842307499}. Best is trial 831 with value: 0.0034983910391903593.\u001b[0m\n"
     ]
    },
    {
     "name": "stdout",
     "output_type": "stream",
     "text": [
      "MAPE: 0.016031244034405916\n"
     ]
    },
    {
     "name": "stderr",
     "output_type": "stream",
     "text": [
      "\u001b[32m[I 2023-07-19 17:06:14,414]\u001b[0m Trial 842 finished with value: 0.14535297766673994 and parameters: {'max_depth': 10, 'eta': 0.17532209106232532, 'gamma': 0.2125299840439369, 'subsample': 0.3487229939515911, 'colsample_bytree': 0.9775536800488738}. Best is trial 831 with value: 0.0034983910391903593.\u001b[0m\n"
     ]
    },
    {
     "name": "stdout",
     "output_type": "stream",
     "text": [
      "MAPE: 0.14535297766673994\n"
     ]
    },
    {
     "name": "stderr",
     "output_type": "stream",
     "text": [
      "\u001b[32m[I 2023-07-19 17:06:16,349]\u001b[0m Trial 843 finished with value: 0.019129469653884453 and parameters: {'max_depth': 10, 'eta': 0.8706750227897302, 'gamma': 0.3301854665400816, 'subsample': 0.32718604782854277, 'colsample_bytree': 0.7641532219986016}. Best is trial 831 with value: 0.0034983910391903593.\u001b[0m\n"
     ]
    },
    {
     "name": "stdout",
     "output_type": "stream",
     "text": [
      "MAPE: 0.019129469653884453\n"
     ]
    },
    {
     "name": "stderr",
     "output_type": "stream",
     "text": [
      "\u001b[32m[I 2023-07-19 17:06:18,296]\u001b[0m Trial 844 finished with value: 0.00704960807801633 and parameters: {'max_depth': 10, 'eta': 0.7604351309141446, 'gamma': 0.037864140812521756, 'subsample': 0.36909777503509567, 'colsample_bytree': 0.8506223677890294}. Best is trial 831 with value: 0.0034983910391903593.\u001b[0m\n"
     ]
    },
    {
     "name": "stdout",
     "output_type": "stream",
     "text": [
      "MAPE: 0.00704960807801633\n"
     ]
    },
    {
     "name": "stderr",
     "output_type": "stream",
     "text": [
      "\u001b[32m[I 2023-07-19 17:06:18,847]\u001b[0m Trial 845 finished with value: 0.07091965469636052 and parameters: {'max_depth': 5, 'eta': 0.6747443889073891, 'gamma': 0.4178525408792246, 'subsample': 0.3693992705989557, 'colsample_bytree': 0.13327807225367239}. Best is trial 831 with value: 0.0034983910391903593.\u001b[0m\n"
     ]
    },
    {
     "name": "stdout",
     "output_type": "stream",
     "text": [
      "MAPE: 0.07091965469636052\n"
     ]
    },
    {
     "name": "stderr",
     "output_type": "stream",
     "text": [
      "\u001b[32m[I 2023-07-19 17:06:19,680]\u001b[0m Trial 846 finished with value: 0.17086422873841348 and parameters: {'max_depth': 7, 'eta': 0.15757163322624526, 'gamma': 0.5250021048787621, 'subsample': 0.3104959845172425, 'colsample_bytree': 0.45032829807267805}. Best is trial 831 with value: 0.0034983910391903593.\u001b[0m\n"
     ]
    },
    {
     "name": "stdout",
     "output_type": "stream",
     "text": [
      "MAPE: 0.17086422873841348\n"
     ]
    },
    {
     "name": "stderr",
     "output_type": "stream",
     "text": [
      "\u001b[32m[I 2023-07-19 17:06:21,460]\u001b[0m Trial 847 finished with value: 0.011284006680293553 and parameters: {'max_depth': 10, 'eta': 0.49274027140408977, 'gamma': 0.2330381687693445, 'subsample': 0.3188924927263692, 'colsample_bytree': 0.822333537315829}. Best is trial 831 with value: 0.0034983910391903593.\u001b[0m\n"
     ]
    },
    {
     "name": "stdout",
     "output_type": "stream",
     "text": [
      "MAPE: 0.011284006680293553\n"
     ]
    },
    {
     "name": "stderr",
     "output_type": "stream",
     "text": [
      "\u001b[32m[I 2023-07-19 17:06:23,433]\u001b[0m Trial 848 finished with value: 0.003830055352781341 and parameters: {'max_depth': 10, 'eta': 0.6013180077318002, 'gamma': 0.18487360250257057, 'subsample': 0.38865657075559973, 'colsample_bytree': 0.9558715244638512}. Best is trial 831 with value: 0.0034983910391903593.\u001b[0m\n"
     ]
    },
    {
     "name": "stdout",
     "output_type": "stream",
     "text": [
      "MAPE: 0.003830055352781341\n"
     ]
    },
    {
     "name": "stderr",
     "output_type": "stream",
     "text": [
      "\u001b[32m[I 2023-07-19 17:06:24,448]\u001b[0m Trial 849 finished with value: 0.8511062070334421 and parameters: {'max_depth': 9, 'eta': 0.01597870787807559, 'gamma': 0.127886485862148, 'subsample': 0.34216498227672804, 'colsample_bytree': 0.9997157289060117}. Best is trial 831 with value: 0.0034983910391903593.\u001b[0m\n"
     ]
    },
    {
     "name": "stdout",
     "output_type": "stream",
     "text": [
      "MAPE: 0.8511062070334421\n"
     ]
    },
    {
     "name": "stderr",
     "output_type": "stream",
     "text": [
      "\u001b[32m[I 2023-07-19 17:06:25,449]\u001b[0m Trial 850 finished with value: 0.23284304219490315 and parameters: {'max_depth': 10, 'eta': 0.13554953306579343, 'gamma': 0.39117290294671414, 'subsample': 0.3106228809203123, 'colsample_bytree': 0.9747429714799128}. Best is trial 831 with value: 0.0034983910391903593.\u001b[0m\n"
     ]
    },
    {
     "name": "stdout",
     "output_type": "stream",
     "text": [
      "MAPE: 0.23284304219490315\n"
     ]
    },
    {
     "name": "stderr",
     "output_type": "stream",
     "text": [
      "\u001b[32m[I 2023-07-19 17:06:26,970]\u001b[0m Trial 851 finished with value: 0.004831903835244078 and parameters: {'max_depth': 10, 'eta': 0.5400079178321969, 'gamma': 0.475171635337751, 'subsample': 0.23925727671428498, 'colsample_bytree': 0.9282316579495272}. Best is trial 831 with value: 0.0034983910391903593.\u001b[0m\n"
     ]
    },
    {
     "name": "stdout",
     "output_type": "stream",
     "text": [
      "MAPE: 0.004831903835244078\n"
     ]
    },
    {
     "name": "stderr",
     "output_type": "stream",
     "text": [
      "\u001b[32m[I 2023-07-19 17:06:28,995]\u001b[0m Trial 852 finished with value: 0.003797558280557623 and parameters: {'max_depth': 10, 'eta': 0.7094066998467566, 'gamma': 0.24900064392078927, 'subsample': 0.3813409341624901, 'colsample_bytree': 0.982105072655214}. Best is trial 831 with value: 0.0034983910391903593.\u001b[0m\n"
     ]
    },
    {
     "name": "stdout",
     "output_type": "stream",
     "text": [
      "MAPE: 0.003797558280557623\n"
     ]
    },
    {
     "name": "stderr",
     "output_type": "stream",
     "text": [
      "\u001b[32m[I 2023-07-19 17:06:30,405]\u001b[0m Trial 853 finished with value: 0.07493970888049496 and parameters: {'max_depth': 10, 'eta': 0.2236399060660849, 'gamma': 0.7134664889911134, 'subsample': 0.4050171260083811, 'colsample_bytree': 0.5069972145940411}. Best is trial 831 with value: 0.0034983910391903593.\u001b[0m\n"
     ]
    },
    {
     "name": "stdout",
     "output_type": "stream",
     "text": [
      "MAPE: 0.07493970888049496\n"
     ]
    },
    {
     "name": "stderr",
     "output_type": "stream",
     "text": [
      "\u001b[32m[I 2023-07-19 17:06:31,552]\u001b[0m Trial 854 finished with value: 0.0418269504048387 and parameters: {'max_depth': 10, 'eta': 0.3116637683905308, 'gamma': 0.628354603566759, 'subsample': 0.31957515715435897, 'colsample_bytree': 0.3757515714051026}. Best is trial 831 with value: 0.0034983910391903593.\u001b[0m\n"
     ]
    },
    {
     "name": "stdout",
     "output_type": "stream",
     "text": [
      "MAPE: 0.0418269504048387\n"
     ]
    },
    {
     "name": "stderr",
     "output_type": "stream",
     "text": [
      "\u001b[32m[I 2023-07-19 17:06:32,490]\u001b[0m Trial 855 finished with value: 0.5491783169806529 and parameters: {'max_depth': 10, 'eta': 0.058125778934776356, 'gamma': 0.3546203135693697, 'subsample': 0.2879333271569161, 'colsample_bytree': 0.9427707078710665}. Best is trial 831 with value: 0.0034983910391903593.\u001b[0m\n"
     ]
    },
    {
     "name": "stdout",
     "output_type": "stream",
     "text": [
      "MAPE: 0.5491783169806529\n"
     ]
    },
    {
     "name": "stderr",
     "output_type": "stream",
     "text": [
      "\u001b[32m[I 2023-07-19 17:06:34,145]\u001b[0m Trial 856 finished with value: 0.004276356375655606 and parameters: {'max_depth': 10, 'eta': 0.44510420849245225, 'gamma': 0.28163028312338445, 'subsample': 0.3142464651351001, 'colsample_bytree': 0.9639829071858187}. Best is trial 831 with value: 0.0034983910391903593.\u001b[0m\n"
     ]
    },
    {
     "name": "stdout",
     "output_type": "stream",
     "text": [
      "MAPE: 0.004276356375655606\n"
     ]
    },
    {
     "name": "stderr",
     "output_type": "stream",
     "text": [
      "\u001b[32m[I 2023-07-19 17:06:35,425]\u001b[0m Trial 857 finished with value: 0.014348099065622922 and parameters: {'max_depth': 10, 'eta': 0.6270226387928374, 'gamma': 0.4443611449696248, 'subsample': 0.10392685931077283, 'colsample_bytree': 0.6738509595772973}. Best is trial 831 with value: 0.0034983910391903593.\u001b[0m\n"
     ]
    },
    {
     "name": "stdout",
     "output_type": "stream",
     "text": [
      "MAPE: 0.014348099065622922\n"
     ]
    },
    {
     "name": "stderr",
     "output_type": "stream",
     "text": [
      "\u001b[32m[I 2023-07-19 17:06:37,203]\u001b[0m Trial 858 finished with value: 0.00372275719216825 and parameters: {'max_depth': 10, 'eta': 0.5651690191657545, 'gamma': 0.02656337336094603, 'subsample': 0.3354918733363519, 'colsample_bytree': 0.9849490197623826}. Best is trial 831 with value: 0.0034983910391903593.\u001b[0m\n"
     ]
    },
    {
     "name": "stdout",
     "output_type": "stream",
     "text": [
      "MAPE: 0.00372275719216825\n"
     ]
    },
    {
     "name": "stderr",
     "output_type": "stream",
     "text": [
      "\u001b[32m[I 2023-07-19 17:06:38,614]\u001b[0m Trial 859 finished with value: 0.004062515944526652 and parameters: {'max_depth': 9, 'eta': 0.515211509468747, 'gamma': 0.3142376343535392, 'subsample': 0.2616251136355938, 'colsample_bytree': 0.948472721554194}. Best is trial 831 with value: 0.0034983910391903593.\u001b[0m\n"
     ]
    },
    {
     "name": "stdout",
     "output_type": "stream",
     "text": [
      "MAPE: 0.004062515944526652\n"
     ]
    },
    {
     "name": "stderr",
     "output_type": "stream",
     "text": [
      "\u001b[32m[I 2023-07-19 17:06:40,566]\u001b[0m Trial 860 finished with value: 0.005716610782906841 and parameters: {'max_depth': 10, 'eta': 0.6738345179268769, 'gamma': 0.5575665287296335, 'subsample': 0.30566217678532137, 'colsample_bytree': 0.9064130516868728}. Best is trial 831 with value: 0.0034983910391903593.\u001b[0m\n"
     ]
    },
    {
     "name": "stdout",
     "output_type": "stream",
     "text": [
      "MAPE: 0.005716610782906841\n"
     ]
    },
    {
     "name": "stderr",
     "output_type": "stream",
     "text": [
      "\u001b[32m[I 2023-07-19 17:06:41,407]\u001b[0m Trial 861 finished with value: 0.4021335977524924 and parameters: {'max_depth': 10, 'eta': 0.08379038206802068, 'gamma': 0.3842925663246616, 'subsample': 0.30598870154357727, 'colsample_bytree': 0.18842321862163558}. Best is trial 831 with value: 0.0034983910391903593.\u001b[0m\n"
     ]
    },
    {
     "name": "stdout",
     "output_type": "stream",
     "text": [
      "MAPE: 0.4021335977524924\n"
     ]
    },
    {
     "name": "stderr",
     "output_type": "stream",
     "text": [
      "\u001b[32m[I 2023-07-19 17:06:42,987]\u001b[0m Trial 862 finished with value: 0.004045050638020676 and parameters: {'max_depth': 10, 'eta': 0.778305927654654, 'gamma': 0.42046935841182487, 'subsample': 0.21307626931593793, 'colsample_bytree': 0.9718493842295155}. Best is trial 831 with value: 0.0034983910391903593.\u001b[0m\n"
     ]
    },
    {
     "name": "stdout",
     "output_type": "stream",
     "text": [
      "MAPE: 0.004045050638020676\n"
     ]
    },
    {
     "name": "stderr",
     "output_type": "stream",
     "text": [
      "\u001b[32m[I 2023-07-19 17:06:44,079]\u001b[0m Trial 863 finished with value: 0.10632792765733577 and parameters: {'max_depth': 10, 'eta': 0.20509920042332785, 'gamma': 0.03581644057300982, 'subsample': 0.41427008674318055, 'colsample_bytree': 0.2255534899328865}. Best is trial 831 with value: 0.0034983910391903593.\u001b[0m\n"
     ]
    },
    {
     "name": "stdout",
     "output_type": "stream",
     "text": [
      "MAPE: 0.10632792765733577\n"
     ]
    },
    {
     "name": "stderr",
     "output_type": "stream",
     "text": [
      "\u001b[32m[I 2023-07-19 17:06:45,095]\u001b[0m Trial 864 finished with value: 0.843637351625724 and parameters: {'max_depth': 10, 'eta': 0.016791123860098317, 'gamma': 0.08479627074927305, 'subsample': 0.35221602657451656, 'colsample_bytree': 0.5938690120073277}. Best is trial 831 with value: 0.0034983910391903593.\u001b[0m\n"
     ]
    },
    {
     "name": "stdout",
     "output_type": "stream",
     "text": [
      "MAPE: 0.843637351625724\n"
     ]
    },
    {
     "name": "stderr",
     "output_type": "stream",
     "text": [
      "\u001b[32m[I 2023-07-19 17:06:46,060]\u001b[0m Trial 865 finished with value: 0.6518280931036391 and parameters: {'max_depth': 10, 'eta': 0.04172775662756335, 'gamma': 0.20060842822955455, 'subsample': 0.33816102460555714, 'colsample_bytree': 0.6118075950447985}. Best is trial 831 with value: 0.0034983910391903593.\u001b[0m\n"
     ]
    },
    {
     "name": "stdout",
     "output_type": "stream",
     "text": [
      "MAPE: 0.6518280931036391\n"
     ]
    },
    {
     "name": "stderr",
     "output_type": "stream",
     "text": [
      "\u001b[32m[I 2023-07-19 17:06:47,286]\u001b[0m Trial 866 finished with value: 0.009769420283819396 and parameters: {'max_depth': 9, 'eta': 0.3763439230166537, 'gamma': 0.12180189896482715, 'subsample': 0.24666170333241522, 'colsample_bytree': 0.8813785075725808}. Best is trial 831 with value: 0.0034983910391903593.\u001b[0m\n"
     ]
    },
    {
     "name": "stdout",
     "output_type": "stream",
     "text": [
      "MAPE: 0.009769420283819396\n"
     ]
    },
    {
     "name": "stderr",
     "output_type": "stream",
     "text": [
      "\u001b[32m[I 2023-07-19 17:06:49,093]\u001b[0m Trial 867 finished with value: 0.020774308097886697 and parameters: {'max_depth': 10, 'eta': 0.6105912305395824, 'gamma': 0.030099418636897576, 'subsample': 0.641747177014632, 'colsample_bytree': 0.5467240013368153}. Best is trial 831 with value: 0.0034983910391903593.\u001b[0m\n"
     ]
    },
    {
     "name": "stdout",
     "output_type": "stream",
     "text": [
      "MAPE: 0.020774308097886697\n"
     ]
    },
    {
     "name": "stderr",
     "output_type": "stream",
     "text": [
      "\u001b[32m[I 2023-07-19 17:06:50,793]\u001b[0m Trial 868 finished with value: 0.003884184098032846 and parameters: {'max_depth': 10, 'eta': 0.47697674029712245, 'gamma': 0.3394810016477266, 'subsample': 0.3211485739023025, 'colsample_bytree': 0.9991662834504245}. Best is trial 831 with value: 0.0034983910391903593.\u001b[0m\n"
     ]
    },
    {
     "name": "stdout",
     "output_type": "stream",
     "text": [
      "MAPE: 0.003884184098032846\n"
     ]
    },
    {
     "name": "stderr",
     "output_type": "stream",
     "text": [
      "\u001b[32m[I 2023-07-19 17:06:51,828]\u001b[0m Trial 869 finished with value: 0.7558183867365934 and parameters: {'max_depth': 10, 'eta': 0.027591707186525184, 'gamma': 0.15560661177709714, 'subsample': 0.356099920700669, 'colsample_bytree': 0.960544348982751}. Best is trial 831 with value: 0.0034983910391903593.\u001b[0m\n"
     ]
    },
    {
     "name": "stdout",
     "output_type": "stream",
     "text": [
      "MAPE: 0.7558183867365934\n"
     ]
    },
    {
     "name": "stderr",
     "output_type": "stream",
     "text": [
      "\u001b[32m[I 2023-07-19 17:06:53,386]\u001b[0m Trial 870 finished with value: 0.02381195545273091 and parameters: {'max_depth': 10, 'eta': 0.5496476757645142, 'gamma': 0.04010476541817094, 'subsample': 0.6177509932918552, 'colsample_bytree': 0.47270649665739667}. Best is trial 831 with value: 0.0034983910391903593.\u001b[0m\n"
     ]
    },
    {
     "name": "stdout",
     "output_type": "stream",
     "text": [
      "MAPE: 0.02381195545273091\n"
     ]
    },
    {
     "name": "stderr",
     "output_type": "stream",
     "text": [
      "\u001b[32m[I 2023-07-19 17:06:54,269]\u001b[0m Trial 871 finished with value: 0.2769295155405648 and parameters: {'max_depth': 10, 'eta': 0.11983915342385641, 'gamma': 0.49241769417521936, 'subsample': 0.20401191620260584, 'colsample_bytree': 0.7211092370082114}. Best is trial 831 with value: 0.0034983910391903593.\u001b[0m\n"
     ]
    },
    {
     "name": "stdout",
     "output_type": "stream",
     "text": [
      "MAPE: 0.2769295155405648\n"
     ]
    },
    {
     "name": "stderr",
     "output_type": "stream",
     "text": [
      "\u001b[32m[I 2023-07-19 17:06:55,425]\u001b[0m Trial 872 finished with value: 0.06097183002321492 and parameters: {'max_depth': 10, 'eta': 0.5940406843763488, 'gamma': 0.2585043712081562, 'subsample': 0.5756016416395168, 'colsample_bytree': 0.16689337552300848}. Best is trial 831 with value: 0.0034983910391903593.\u001b[0m\n"
     ]
    },
    {
     "name": "stdout",
     "output_type": "stream",
     "text": [
      "MAPE: 0.06097183002321492\n"
     ]
    },
    {
     "name": "stderr",
     "output_type": "stream",
     "text": [
      "\u001b[32m[I 2023-07-19 17:06:56,442]\u001b[0m Trial 873 finished with value: 0.06506362846249743 and parameters: {'max_depth': 10, 'eta': 0.2597219740888723, 'gamma': 0.22436132770527106, 'subsample': 0.27329119977252, 'colsample_bytree': 0.3311862593291129}. Best is trial 831 with value: 0.0034983910391903593.\u001b[0m\n"
     ]
    },
    {
     "name": "stdout",
     "output_type": "stream",
     "text": [
      "MAPE: 0.06506362846249743\n"
     ]
    },
    {
     "name": "stderr",
     "output_type": "stream",
     "text": [
      "\u001b[32m[I 2023-07-19 17:06:57,681]\u001b[0m Trial 874 finished with value: 0.8280953639993448 and parameters: {'max_depth': 10, 'eta': 0.018345773516038874, 'gamma': 0.6726529267103513, 'subsample': 0.8086611679127913, 'colsample_bytree': 0.4290029156161388}. Best is trial 831 with value: 0.0034983910391903593.\u001b[0m\n"
     ]
    },
    {
     "name": "stdout",
     "output_type": "stream",
     "text": [
      "MAPE: 0.8280953639993448\n"
     ]
    },
    {
     "name": "stderr",
     "output_type": "stream",
     "text": [
      "\u001b[32m[I 2023-07-19 17:06:59,965]\u001b[0m Trial 875 finished with value: 0.00780540263795807 and parameters: {'max_depth': 10, 'eta': 0.9225770618795766, 'gamma': 0.03195101272494309, 'subsample': 0.42303615478982703, 'colsample_bytree': 0.9265364298887417}. Best is trial 831 with value: 0.0034983910391903593.\u001b[0m\n"
     ]
    },
    {
     "name": "stdout",
     "output_type": "stream",
     "text": [
      "MAPE: 0.00780540263795807\n"
     ]
    },
    {
     "name": "stderr",
     "output_type": "stream",
     "text": [
      "\u001b[32m[I 2023-07-19 17:07:01,352]\u001b[0m Trial 876 finished with value: 0.812264623291843 and parameters: {'max_depth': 10, 'eta': 0.02057076442566477, 'gamma': 0.10419212789317764, 'subsample': 0.548074570313978, 'colsample_bytree': 0.9996328027398409}. Best is trial 831 with value: 0.0034983910391903593.\u001b[0m\n"
     ]
    },
    {
     "name": "stdout",
     "output_type": "stream",
     "text": [
      "MAPE: 0.812264623291843\n"
     ]
    },
    {
     "name": "stderr",
     "output_type": "stream",
     "text": [
      "\u001b[32m[I 2023-07-19 17:07:03,330]\u001b[0m Trial 877 finished with value: 0.0037403514556999767 and parameters: {'max_depth': 9, 'eta': 0.5006413424824665, 'gamma': 0.2868975282007136, 'subsample': 0.5262927203006985, 'colsample_bytree': 0.9817106414782104}. Best is trial 831 with value: 0.0034983910391903593.\u001b[0m\n"
     ]
    },
    {
     "name": "stdout",
     "output_type": "stream",
     "text": [
      "MAPE: 0.0037403514556999767\n"
     ]
    },
    {
     "name": "stderr",
     "output_type": "stream",
     "text": [
      "\u001b[32m[I 2023-07-19 17:07:04,290]\u001b[0m Trial 878 finished with value: 0.31244929676895106 and parameters: {'max_depth': 10, 'eta': 0.10924210481515208, 'gamma': 0.1715241443960642, 'subsample': 0.25967666630472563, 'colsample_bytree': 0.6598832026845403}. Best is trial 831 with value: 0.0034983910391903593.\u001b[0m\n"
     ]
    },
    {
     "name": "stdout",
     "output_type": "stream",
     "text": [
      "MAPE: 0.31244929676895106\n"
     ]
    },
    {
     "name": "stderr",
     "output_type": "stream",
     "text": [
      "\u001b[32m[I 2023-07-19 17:07:06,725]\u001b[0m Trial 879 finished with value: 0.006098700235311012 and parameters: {'max_depth': 10, 'eta': 0.6558478588155296, 'gamma': 0.4043573016247216, 'subsample': 0.690259011851624, 'colsample_bytree': 0.9465948585814743}. Best is trial 831 with value: 0.0034983910391903593.\u001b[0m\n"
     ]
    },
    {
     "name": "stdout",
     "output_type": "stream",
     "text": [
      "MAPE: 0.006098700235311012\n"
     ]
    },
    {
     "name": "stderr",
     "output_type": "stream",
     "text": [
      "\u001b[32m[I 2023-07-19 17:07:08,535]\u001b[0m Trial 880 finished with value: 0.013748623004755151 and parameters: {'max_depth': 10, 'eta': 0.7297437776999194, 'gamma': 0.3724967468754997, 'subsample': 0.2936468667715041, 'colsample_bytree': 0.7392635668753371}. Best is trial 831 with value: 0.0034983910391903593.\u001b[0m\n"
     ]
    },
    {
     "name": "stdout",
     "output_type": "stream",
     "text": [
      "MAPE: 0.013748623004755151\n"
     ]
    },
    {
     "name": "stderr",
     "output_type": "stream",
     "text": [
      "\u001b[32m[I 2023-07-19 17:07:09,378]\u001b[0m Trial 881 finished with value: 0.5779424117502588 and parameters: {'max_depth': 10, 'eta': 0.052611974639313545, 'gamma': 0.45460980658295996, 'subsample': 0.2636437243366836, 'colsample_bytree': 0.29459436913023584}. Best is trial 831 with value: 0.0034983910391903593.\u001b[0m\n"
     ]
    },
    {
     "name": "stdout",
     "output_type": "stream",
     "text": [
      "MAPE: 0.5779424117502588\n"
     ]
    },
    {
     "name": "stderr",
     "output_type": "stream",
     "text": [
      "\u001b[32m[I 2023-07-19 17:07:10,762]\u001b[0m Trial 882 finished with value: 0.726743876037594 and parameters: {'max_depth': 10, 'eta': 0.03140486610067446, 'gamma': 0.13884395380227074, 'subsample': 0.5904432874287631, 'colsample_bytree': 0.9692411978886541}. Best is trial 831 with value: 0.0034983910391903593.\u001b[0m\n"
     ]
    },
    {
     "name": "stdout",
     "output_type": "stream",
     "text": [
      "MAPE: 0.726743876037594\n"
     ]
    },
    {
     "name": "stderr",
     "output_type": "stream",
     "text": [
      "\u001b[32m[I 2023-07-19 17:07:11,638]\u001b[0m Trial 883 finished with value: 0.6956296304588202 and parameters: {'max_depth': 9, 'eta': 0.03500273067789974, 'gamma': 0.3166254825671697, 'subsample': 0.33244024049961407, 'colsample_bytree': 0.3123430736800422}. Best is trial 831 with value: 0.0034983910391903593.\u001b[0m\n"
     ]
    },
    {
     "name": "stdout",
     "output_type": "stream",
     "text": [
      "MAPE: 0.6956296304588202\n"
     ]
    },
    {
     "name": "stderr",
     "output_type": "stream",
     "text": [
      "\u001b[32m[I 2023-07-19 17:07:13,786]\u001b[0m Trial 884 finished with value: 0.005580594502011749 and parameters: {'max_depth': 10, 'eta': 0.4436443088426753, 'gamma': 0.5951614650044378, 'subsample': 0.6399707482621114, 'colsample_bytree': 0.8588374392628804}. Best is trial 831 with value: 0.0034983910391903593.\u001b[0m\n"
     ]
    },
    {
     "name": "stdout",
     "output_type": "stream",
     "text": [
      "MAPE: 0.005580594502011749\n"
     ]
    },
    {
     "name": "stderr",
     "output_type": "stream",
     "text": [
      "\u001b[32m[I 2023-07-19 17:07:14,837]\u001b[0m Trial 885 finished with value: 0.6114889422550834 and parameters: {'max_depth': 10, 'eta': 0.046357465998251426, 'gamma': 0.5278029563110243, 'subsample': 0.6619793466622199, 'colsample_bytree': 0.2089978718574198}. Best is trial 831 with value: 0.0034983910391903593.\u001b[0m\n"
     ]
    },
    {
     "name": "stdout",
     "output_type": "stream",
     "text": [
      "MAPE: 0.6114889422550834\n"
     ]
    },
    {
     "name": "stderr",
     "output_type": "stream",
     "text": [
      "\u001b[32m[I 2023-07-19 17:07:17,113]\u001b[0m Trial 886 finished with value: 0.0036452743440226693 and parameters: {'max_depth': 10, 'eta': 0.5487048441262786, 'gamma': 0.07863763606842335, 'subsample': 0.6821734992199857, 'colsample_bytree': 0.9836728059610232}. Best is trial 831 with value: 0.0034983910391903593.\u001b[0m\n"
     ]
    },
    {
     "name": "stdout",
     "output_type": "stream",
     "text": [
      "MAPE: 0.0036452743440226693\n"
     ]
    },
    {
     "name": "stderr",
     "output_type": "stream",
     "text": [
      "\u001b[32m[I 2023-07-19 17:07:18,016]\u001b[0m Trial 887 finished with value: 0.49676504961833945 and parameters: {'max_depth': 10, 'eta': 0.06753088704327607, 'gamma': 0.08865018210340253, 'subsample': 0.280814913369069, 'colsample_bytree': 0.9999414579111637}. Best is trial 831 with value: 0.0034983910391903593.\u001b[0m\n"
     ]
    },
    {
     "name": "stdout",
     "output_type": "stream",
     "text": [
      "MAPE: 0.49676504961833945\n"
     ]
    },
    {
     "name": "stderr",
     "output_type": "stream",
     "text": [
      "\u001b[32m[I 2023-07-19 17:07:20,322]\u001b[0m Trial 888 finished with value: 0.012153405766474173 and parameters: {'max_depth': 10, 'eta': 0.5392616056538105, 'gamma': 0.102798809122842, 'subsample': 0.5581370239252388, 'colsample_bytree': 0.7920060481835187}. Best is trial 831 with value: 0.0034983910391903593.\u001b[0m\n"
     ]
    },
    {
     "name": "stdout",
     "output_type": "stream",
     "text": [
      "MAPE: 0.012153405766474173\n"
     ]
    },
    {
     "name": "stderr",
     "output_type": "stream",
     "text": [
      "\u001b[32m[I 2023-07-19 17:07:22,675]\u001b[0m Trial 889 finished with value: 0.003957504256760788 and parameters: {'max_depth': 10, 'eta': 0.4810228051170878, 'gamma': 0.08423251060213874, 'subsample': 0.9478788556467419, 'colsample_bytree': 0.98056795590385}. Best is trial 831 with value: 0.0034983910391903593.\u001b[0m\n"
     ]
    },
    {
     "name": "stdout",
     "output_type": "stream",
     "text": [
      "MAPE: 0.003957504256760788\n"
     ]
    },
    {
     "name": "stderr",
     "output_type": "stream",
     "text": [
      "\u001b[32m[I 2023-07-19 17:07:24,715]\u001b[0m Trial 890 finished with value: 0.0055915539889482046 and parameters: {'max_depth': 10, 'eta': 0.4108441455483544, 'gamma': 0.07732064964311833, 'subsample': 0.43372096270067517, 'colsample_bytree': 0.9604545543820476}. Best is trial 831 with value: 0.0034983910391903593.\u001b[0m\n"
     ]
    },
    {
     "name": "stdout",
     "output_type": "stream",
     "text": [
      "MAPE: 0.0055915539889482046\n"
     ]
    },
    {
     "name": "stderr",
     "output_type": "stream",
     "text": [
      "\u001b[32m[I 2023-07-19 17:07:25,759]\u001b[0m Trial 891 finished with value: 0.021393570825180216 and parameters: {'max_depth': 10, 'eta': 0.5812061595707188, 'gamma': 0.8118992993660402, 'subsample': 0.12329586776478957, 'colsample_bytree': 0.48403170801518586}. Best is trial 831 with value: 0.0034983910391903593.\u001b[0m\n"
     ]
    },
    {
     "name": "stdout",
     "output_type": "stream",
     "text": [
      "MAPE: 0.021393570825180216\n"
     ]
    },
    {
     "name": "stderr",
     "output_type": "stream",
     "text": [
      "\u001b[32m[I 2023-07-19 17:07:28,267]\u001b[0m Trial 892 finished with value: 0.021964693373196936 and parameters: {'max_depth': 10, 'eta': 0.9990449167040776, 'gamma': 0.09872401011007925, 'subsample': 0.6756645114019023, 'colsample_bytree': 0.7748550641822107}. Best is trial 831 with value: 0.0034983910391903593.\u001b[0m\n"
     ]
    },
    {
     "name": "stdout",
     "output_type": "stream",
     "text": [
      "MAPE: 0.021964693373196936\n"
     ]
    },
    {
     "name": "stderr",
     "output_type": "stream",
     "text": [
      "\u001b[32m[I 2023-07-19 17:07:30,315]\u001b[0m Trial 893 finished with value: 0.017549716845768646 and parameters: {'max_depth': 10, 'eta': 0.8200087870404578, 'gamma': 0.252811605996525, 'subsample': 0.3578990305286983, 'colsample_bytree': 0.8380415805554133}. Best is trial 831 with value: 0.0034983910391903593.\u001b[0m\n"
     ]
    },
    {
     "name": "stdout",
     "output_type": "stream",
     "text": [
      "MAPE: 0.017549716845768646\n"
     ]
    },
    {
     "name": "stderr",
     "output_type": "stream",
     "text": [
      "\u001b[32m[I 2023-07-19 17:07:32,339]\u001b[0m Trial 894 finished with value: 0.0038728893201249548 and parameters: {'max_depth': 10, 'eta': 0.6315744823355562, 'gamma': 0.06985778470415187, 'subsample': 0.3894974098931906, 'colsample_bytree': 0.9832549072612001}. Best is trial 831 with value: 0.0034983910391903593.\u001b[0m\n"
     ]
    },
    {
     "name": "stdout",
     "output_type": "stream",
     "text": [
      "MAPE: 0.0038728893201249548\n"
     ]
    },
    {
     "name": "stderr",
     "output_type": "stream",
     "text": [
      "\u001b[32m[I 2023-07-19 17:07:34,445]\u001b[0m Trial 895 finished with value: 0.005724295898061375 and parameters: {'max_depth': 9, 'eta': 0.52830523425525, 'gamma': 0.0254462192921427, 'subsample': 0.7021743826062145, 'colsample_bytree': 0.940070159321988}. Best is trial 831 with value: 0.0034983910391903593.\u001b[0m\n"
     ]
    },
    {
     "name": "stdout",
     "output_type": "stream",
     "text": [
      "MAPE: 0.005724295898061375\n"
     ]
    },
    {
     "name": "stderr",
     "output_type": "stream",
     "text": [
      "\u001b[32m[I 2023-07-19 17:07:34,773]\u001b[0m Trial 896 finished with value: 0.3755176044997126 and parameters: {'max_depth': 2, 'eta': 0.09172893291920688, 'gamma': 0.762822245753838, 'subsample': 0.16680853913118185, 'colsample_bytree': 0.9185492348255936}. Best is trial 831 with value: 0.0034983910391903593.\u001b[0m\n"
     ]
    },
    {
     "name": "stdout",
     "output_type": "stream",
     "text": [
      "MAPE: 0.3755176044997126\n"
     ]
    },
    {
     "name": "stderr",
     "output_type": "stream",
     "text": [
      "\u001b[32m[I 2023-07-19 17:07:36,676]\u001b[0m Trial 897 finished with value: 0.01237507754703806 and parameters: {'max_depth': 10, 'eta': 0.3547718289617873, 'gamma': 0.2972261254103238, 'subsample': 0.5390153320910126, 'colsample_bytree': 0.9997353108530092}. Best is trial 831 with value: 0.0034983910391903593.\u001b[0m\n"
     ]
    },
    {
     "name": "stdout",
     "output_type": "stream",
     "text": [
      "MAPE: 0.01237507754703806\n"
     ]
    },
    {
     "name": "stderr",
     "output_type": "stream",
     "text": [
      "\u001b[32m[I 2023-07-19 17:07:37,802]\u001b[0m Trial 898 finished with value: 0.8614476723938973 and parameters: {'max_depth': 10, 'eta': 0.01479428341486928, 'gamma': 0.23414112551081115, 'subsample': 0.39959830176199973, 'colsample_bytree': 0.9624597706558332}. Best is trial 831 with value: 0.0034983910391903593.\u001b[0m\n"
     ]
    },
    {
     "name": "stdout",
     "output_type": "stream",
     "text": [
      "MAPE: 0.8614476723938973\n"
     ]
    },
    {
     "name": "stderr",
     "output_type": "stream",
     "text": [
      "\u001b[32m[I 2023-07-19 17:07:39,283]\u001b[0m Trial 899 finished with value: 0.04338548303617249 and parameters: {'max_depth': 10, 'eta': 0.6864598576462103, 'gamma': 0.09007368985356125, 'subsample': 0.6526913661623138, 'colsample_bytree': 0.34910530590168737}. Best is trial 831 with value: 0.0034983910391903593.\u001b[0m\n"
     ]
    },
    {
     "name": "stdout",
     "output_type": "stream",
     "text": [
      "MAPE: 0.04338548303617249\n"
     ]
    },
    {
     "name": "stderr",
     "output_type": "stream",
     "text": [
      "\u001b[32m[I 2023-07-19 17:07:41,665]\u001b[0m Trial 900 finished with value: 0.003928125027408167 and parameters: {'max_depth': 10, 'eta': 0.46200616088225727, 'gamma': 0.9035422693056102, 'subsample': 0.5741182853342336, 'colsample_bytree': 0.9818236633197884}. Best is trial 831 with value: 0.0034983910391903593.\u001b[0m\n"
     ]
    },
    {
     "name": "stdout",
     "output_type": "stream",
     "text": [
      "MAPE: 0.003928125027408167\n"
     ]
    },
    {
     "name": "stderr",
     "output_type": "stream",
     "text": [
      "\u001b[32m[I 2023-07-19 17:07:42,754]\u001b[0m Trial 901 finished with value: 0.037609812268589116 and parameters: {'max_depth': 10, 'eta': 0.27818449071458884, 'gamma': 0.3458109632546542, 'subsample': 0.23560256775932514, 'colsample_bytree': 0.4416394147211491}. Best is trial 831 with value: 0.0034983910391903593.\u001b[0m\n"
     ]
    },
    {
     "name": "stdout",
     "output_type": "stream",
     "text": [
      "MAPE: 0.037609812268589116\n"
     ]
    },
    {
     "name": "stderr",
     "output_type": "stream",
     "text": [
      "\u001b[32m[I 2023-07-19 17:07:44,162]\u001b[0m Trial 902 finished with value: 0.05212909351436969 and parameters: {'max_depth': 10, 'eta': 0.5682104335812201, 'gamma': 0.08315707743853336, 'subsample': 0.6121712053078732, 'colsample_bytree': 0.24167410485245305}. Best is trial 831 with value: 0.0034983910391903593.\u001b[0m\n"
     ]
    },
    {
     "name": "stdout",
     "output_type": "stream",
     "text": [
      "MAPE: 0.05212909351436969\n"
     ]
    },
    {
     "name": "stderr",
     "output_type": "stream",
     "text": [
      "\u001b[32m[I 2023-07-19 17:07:45,514]\u001b[0m Trial 903 finished with value: 0.08374726674703514 and parameters: {'max_depth': 10, 'eta': 0.23038555432145927, 'gamma': 0.07124886898904678, 'subsample': 0.5183000105987134, 'colsample_bytree': 0.31367224598958054}. Best is trial 831 with value: 0.0034983910391903593.\u001b[0m\n"
     ]
    },
    {
     "name": "stdout",
     "output_type": "stream",
     "text": [
      "MAPE: 0.08374726674703514\n"
     ]
    },
    {
     "name": "stderr",
     "output_type": "stream",
     "text": [
      "\u001b[32m[I 2023-07-19 17:07:47,798]\u001b[0m Trial 904 finished with value: 0.005016560879313095 and parameters: {'max_depth': 10, 'eta': 0.49973806320222136, 'gamma': 0.27351383730860235, 'subsample': 0.718778867878617, 'colsample_bytree': 0.8692746671299758}. Best is trial 831 with value: 0.0034983910391903593.\u001b[0m\n"
     ]
    },
    {
     "name": "stdout",
     "output_type": "stream",
     "text": [
      "MAPE: 0.005016560879313095\n"
     ]
    },
    {
     "name": "stderr",
     "output_type": "stream",
     "text": [
      "\u001b[32m[I 2023-07-19 17:07:48,952]\u001b[0m Trial 905 finished with value: 0.030496953919218743 and parameters: {'max_depth': 10, 'eta': 0.29384543912219696, 'gamma': 0.077700356671825, 'subsample': 0.27654256560673507, 'colsample_bytree': 0.9526510054406068}. Best is trial 831 with value: 0.0034983910391903593.\u001b[0m\n"
     ]
    },
    {
     "name": "stdout",
     "output_type": "stream",
     "text": [
      "MAPE: 0.030496953919218743\n"
     ]
    },
    {
     "name": "stderr",
     "output_type": "stream",
     "text": [
      "\u001b[32m[I 2023-07-19 17:07:50,807]\u001b[0m Trial 906 finished with value: 0.014030676737703286 and parameters: {'max_depth': 10, 'eta': 0.6351829118394416, 'gamma': 0.2105405967849426, 'subsample': 0.324616769416061, 'colsample_bytree': 0.8083629271671302}. Best is trial 831 with value: 0.0034983910391903593.\u001b[0m\n"
     ]
    },
    {
     "name": "stdout",
     "output_type": "stream",
     "text": [
      "MAPE: 0.014030676737703286\n"
     ]
    },
    {
     "name": "stderr",
     "output_type": "stream",
     "text": [
      "\u001b[32m[I 2023-07-19 17:07:52,146]\u001b[0m Trial 907 finished with value: 0.6602585611958015 and parameters: {'max_depth': 10, 'eta': 0.04065336425520988, 'gamma': 0.058115841281618556, 'subsample': 0.6878076730243748, 'colsample_bytree': 0.971598183863379}. Best is trial 831 with value: 0.0034983910391903593.\u001b[0m\n"
     ]
    },
    {
     "name": "stdout",
     "output_type": "stream",
     "text": [
      "MAPE: 0.6602585611958015\n"
     ]
    },
    {
     "name": "stderr",
     "output_type": "stream",
     "text": [
      "\u001b[32m[I 2023-07-19 17:07:53,054]\u001b[0m Trial 908 finished with value: 0.1419087023313714 and parameters: {'max_depth': 9, 'eta': 0.1689860004340458, 'gamma': 0.10905033532402775, 'subsample': 0.6310995919680399, 'colsample_bytree': 0.10946120286378386}. Best is trial 831 with value: 0.0034983910391903593.\u001b[0m\n"
     ]
    },
    {
     "name": "stdout",
     "output_type": "stream",
     "text": [
      "MAPE: 0.1419087023313714\n"
     ]
    },
    {
     "name": "stderr",
     "output_type": "stream",
     "text": [
      "\u001b[32m[I 2023-07-19 17:07:53,891]\u001b[0m Trial 909 finished with value: 0.5330037057268008 and parameters: {'max_depth': 10, 'eta': 0.06021439259153111, 'gamma': 0.06487880811634045, 'subsample': 0.23071408843277497, 'colsample_bytree': 0.578069988913949}. Best is trial 831 with value: 0.0034983910391903593.\u001b[0m\n"
     ]
    },
    {
     "name": "stdout",
     "output_type": "stream",
     "text": [
      "MAPE: 0.5330037057268008\n"
     ]
    },
    {
     "name": "stderr",
     "output_type": "stream",
     "text": [
      "\u001b[32m[I 2023-07-19 17:07:56,170]\u001b[0m Trial 910 finished with value: 0.005187399152721401 and parameters: {'max_depth': 10, 'eta': 0.5431956693314561, 'gamma': 0.09489663948728563, 'subsample': 0.7224330000192742, 'colsample_bytree': 0.895050178369366}. Best is trial 831 with value: 0.0034983910391903593.\u001b[0m\n"
     ]
    },
    {
     "name": "stdout",
     "output_type": "stream",
     "text": [
      "MAPE: 0.005187399152721401\n"
     ]
    },
    {
     "name": "stderr",
     "output_type": "stream",
     "text": [
      "\u001b[32m[I 2023-07-19 17:07:57,530]\u001b[0m Trial 911 finished with value: 0.059681577881838914 and parameters: {'max_depth': 10, 'eta': 0.7530697843503461, 'gamma': 0.039909388749440736, 'subsample': 0.6718245602214712, 'colsample_bytree': 0.26230008611116096}. Best is trial 831 with value: 0.0034983910391903593.\u001b[0m\n"
     ]
    },
    {
     "name": "stdout",
     "output_type": "stream",
     "text": [
      "MAPE: 0.059681577881838914\n"
     ]
    },
    {
     "name": "stderr",
     "output_type": "stream",
     "text": [
      "\u001b[32m[I 2023-07-19 17:07:58,976]\u001b[0m Trial 912 finished with value: 0.048052180558597245 and parameters: {'max_depth': 10, 'eta': 0.42671550532985675, 'gamma': 0.5021773758892275, 'subsample': 0.7785886230663022, 'colsample_bytree': 0.36514190251528444}. Best is trial 831 with value: 0.0034983910391903593.\u001b[0m\n"
     ]
    },
    {
     "name": "stdout",
     "output_type": "stream",
     "text": [
      "MAPE: 0.048052180558597245\n"
     ]
    },
    {
     "name": "stderr",
     "output_type": "stream",
     "text": [
      "\u001b[32m[I 2023-07-19 17:08:00,336]\u001b[0m Trial 913 finished with value: 0.8777259635901122 and parameters: {'max_depth': 10, 'eta': 0.01295346016738092, 'gamma': 0.42333034238003736, 'subsample': 0.7023382414031696, 'colsample_bytree': 0.9324886596019155}. Best is trial 831 with value: 0.0034983910391903593.\u001b[0m\n"
     ]
    },
    {
     "name": "stdout",
     "output_type": "stream",
     "text": [
      "MAPE: 0.8777259635901122\n"
     ]
    },
    {
     "name": "stderr",
     "output_type": "stream",
     "text": [
      "\u001b[32m[I 2023-07-19 17:08:02,343]\u001b[0m Trial 914 finished with value: 0.003960976860688164 and parameters: {'max_depth': 9, 'eta': 0.5933577988044397, 'gamma': 0.3848685411931366, 'subsample': 0.5592120436080433, 'colsample_bytree': 0.9829461605706644}. Best is trial 831 with value: 0.0034983910391903593.\u001b[0m\n"
     ]
    },
    {
     "name": "stdout",
     "output_type": "stream",
     "text": [
      "MAPE: 0.003960976860688164\n"
     ]
    },
    {
     "name": "stderr",
     "output_type": "stream",
     "text": [
      "\u001b[32m[I 2023-07-19 17:08:04,606]\u001b[0m Trial 915 finished with value: 0.003953863299125196 and parameters: {'max_depth': 10, 'eta': 0.6753753718921034, 'gamma': 0.04465187633723453, 'subsample': 0.5920431207004571, 'colsample_bytree': 0.9560759783224173}. Best is trial 831 with value: 0.0034983910391903593.\u001b[0m\n"
     ]
    },
    {
     "name": "stdout",
     "output_type": "stream",
     "text": [
      "MAPE: 0.003953863299125196\n"
     ]
    },
    {
     "name": "stderr",
     "output_type": "stream",
     "text": [
      "\u001b[32m[I 2023-07-19 17:08:05,963]\u001b[0m Trial 916 finished with value: 0.020849454145211457 and parameters: {'max_depth': 10, 'eta': 0.5023716470248606, 'gamma': 0.32698988173979665, 'subsample': 0.3015509697264059, 'colsample_bytree': 0.5224430602784595}. Best is trial 831 with value: 0.0034983910391903593.\u001b[0m\n"
     ]
    },
    {
     "name": "stdout",
     "output_type": "stream",
     "text": [
      "MAPE: 0.020849454145211457\n"
     ]
    },
    {
     "name": "stderr",
     "output_type": "stream",
     "text": [
      "\u001b[32m[I 2023-07-19 17:08:08,281]\u001b[0m Trial 917 finished with value: 0.00393256958968055 and parameters: {'max_depth': 10, 'eta': 0.5859050218711676, 'gamma': 0.035686952459192595, 'subsample': 0.7420689249949329, 'colsample_bytree': 0.9805843253852075}. Best is trial 831 with value: 0.0034983910391903593.\u001b[0m\n"
     ]
    },
    {
     "name": "stdout",
     "output_type": "stream",
     "text": [
      "MAPE: 0.00393256958968055\n"
     ]
    },
    {
     "name": "stderr",
     "output_type": "stream",
     "text": [
      "\u001b[32m[I 2023-07-19 17:08:09,057]\u001b[0m Trial 918 finished with value: 0.871138501411519 and parameters: {'max_depth': 10, 'eta': 0.013687614626253891, 'gamma': 0.5631980873298003, 'subsample': 0.22279914023915492, 'colsample_bytree': 0.9370013323515639}. Best is trial 831 with value: 0.0034983910391903593.\u001b[0m\n"
     ]
    },
    {
     "name": "stdout",
     "output_type": "stream",
     "text": [
      "MAPE: 0.871138501411519\n"
     ]
    },
    {
     "name": "stderr",
     "output_type": "stream",
     "text": [
      "\u001b[32m[I 2023-07-19 17:08:11,365]\u001b[0m Trial 919 finished with value: 0.012752832043996553 and parameters: {'max_depth': 10, 'eta': 0.5384903732672547, 'gamma': 0.048149111391338845, 'subsample': 0.6443867973273759, 'colsample_bytree': 0.7220905453457278}. Best is trial 831 with value: 0.0034983910391903593.\u001b[0m\n"
     ]
    },
    {
     "name": "stdout",
     "output_type": "stream",
     "text": [
      "MAPE: 0.012752832043996553\n"
     ]
    },
    {
     "name": "stderr",
     "output_type": "stream",
     "text": [
      "\u001b[32m[I 2023-07-19 17:08:13,847]\u001b[0m Trial 920 finished with value: 0.00419901780658206 and parameters: {'max_depth': 10, 'eta': 0.867019601954891, 'gamma': 0.35602363118542885, 'subsample': 0.6894609654830883, 'colsample_bytree': 0.9682973014893301}. Best is trial 831 with value: 0.0034983910391903593.\u001b[0m\n"
     ]
    },
    {
     "name": "stdout",
     "output_type": "stream",
     "text": [
      "MAPE: 0.00419901780658206\n"
     ]
    },
    {
     "name": "stderr",
     "output_type": "stream",
     "text": [
      "\u001b[32m[I 2023-07-19 17:08:15,228]\u001b[0m Trial 921 finished with value: 0.7742989231606667 and parameters: {'max_depth': 10, 'eta': 0.025252703328430406, 'gamma': 0.46069474683478184, 'subsample': 0.7592140508089681, 'colsample_bytree': 0.9861823008659044}. Best is trial 831 with value: 0.0034983910391903593.\u001b[0m\n"
     ]
    },
    {
     "name": "stdout",
     "output_type": "stream",
     "text": [
      "MAPE: 0.7742989231606667\n"
     ]
    },
    {
     "name": "stderr",
     "output_type": "stream",
     "text": [
      "\u001b[32m[I 2023-07-19 17:08:17,451]\u001b[0m Trial 922 finished with value: 0.004116170444749017 and parameters: {'max_depth': 10, 'eta': 0.45774894334965355, 'gamma': 0.02797762001058264, 'subsample': 0.8140554323437866, 'colsample_bytree': 0.9999470138980305}. Best is trial 831 with value: 0.0034983910391903593.\u001b[0m\n"
     ]
    },
    {
     "name": "stdout",
     "output_type": "stream",
     "text": [
      "MAPE: 0.004116170444749017\n"
     ]
    },
    {
     "name": "stderr",
     "output_type": "stream",
     "text": [
      "\u001b[32m[I 2023-07-19 17:08:18,613]\u001b[0m Trial 923 finished with value: 0.8172583630916133 and parameters: {'max_depth': 10, 'eta': 0.019969060022028653, 'gamma': 0.03255011343211745, 'subsample': 0.408573118308233, 'colsample_bytree': 0.9515183710088119}. Best is trial 831 with value: 0.0034983910391903593.\u001b[0m\n"
     ]
    },
    {
     "name": "stdout",
     "output_type": "stream",
     "text": [
      "MAPE: 0.8172583630916133\n"
     ]
    },
    {
     "name": "stderr",
     "output_type": "stream",
     "text": [
      "\u001b[32m[I 2023-07-19 17:08:20,747]\u001b[0m Trial 924 finished with value: 0.011446235310283976 and parameters: {'max_depth': 10, 'eta': 0.39171153521966917, 'gamma': 0.19177088734114395, 'subsample': 0.5390521445270133, 'colsample_bytree': 0.7395443517634177}. Best is trial 831 with value: 0.0034983910391903593.\u001b[0m\n"
     ]
    },
    {
     "name": "stdout",
     "output_type": "stream",
     "text": [
      "MAPE: 0.011446235310283976\n"
     ]
    },
    {
     "name": "stderr",
     "output_type": "stream",
     "text": [
      "\u001b[32m[I 2023-07-19 17:08:22,815]\u001b[0m Trial 925 finished with value: 0.004122612008714545 and parameters: {'max_depth': 9, 'eta': 0.6499605265933559, 'gamma': 0.27574469334116886, 'subsample': 0.7195955319689373, 'colsample_bytree': 0.9673685846357614}. Best is trial 831 with value: 0.0034983910391903593.\u001b[0m\n"
     ]
    },
    {
     "name": "stdout",
     "output_type": "stream",
     "text": [
      "MAPE: 0.004122612008714545\n"
     ]
    },
    {
     "name": "stderr",
     "output_type": "stream",
     "text": [
      "\u001b[32m[I 2023-07-19 17:08:23,819]\u001b[0m Trial 926 finished with value: 0.7300315967537312 and parameters: {'max_depth': 10, 'eta': 0.030956593146685654, 'gamma': 0.23808156069012895, 'subsample': 0.3526593183077648, 'colsample_bytree': 0.9230211838811467}. Best is trial 831 with value: 0.0034983910391903593.\u001b[0m\n"
     ]
    },
    {
     "name": "stdout",
     "output_type": "stream",
     "text": [
      "MAPE: 0.7300315967537312\n"
     ]
    },
    {
     "name": "stderr",
     "output_type": "stream",
     "text": [
      "\u001b[32m[I 2023-07-19 17:08:25,300]\u001b[0m Trial 927 finished with value: 0.2950787323998936 and parameters: {'max_depth': 10, 'eta': 0.11435716976129973, 'gamma': 0.6909736453437352, 'subsample': 0.6077270532621732, 'colsample_bytree': 0.6412613182610611}. Best is trial 831 with value: 0.0034983910391903593.\u001b[0m\n"
     ]
    },
    {
     "name": "stdout",
     "output_type": "stream",
     "text": [
      "MAPE: 0.2950787323998936\n"
     ]
    },
    {
     "name": "stderr",
     "output_type": "stream",
     "text": [
      "\u001b[32m[I 2023-07-19 17:08:26,343]\u001b[0m Trial 928 finished with value: 0.8622355679035834 and parameters: {'max_depth': 10, 'eta': 0.014700487077533849, 'gamma': 0.3786661216104971, 'subsample': 0.37992182305788147, 'colsample_bytree': 0.9996639542954394}. Best is trial 831 with value: 0.0034983910391903593.\u001b[0m\n"
     ]
    },
    {
     "name": "stdout",
     "output_type": "stream",
     "text": [
      "MAPE: 0.8622355679035834\n"
     ]
    },
    {
     "name": "stderr",
     "output_type": "stream",
     "text": [
      "\u001b[32m[I 2023-07-19 17:08:27,727]\u001b[0m Trial 929 finished with value: 0.017824628567692857 and parameters: {'max_depth': 8, 'eta': 0.7158461661557896, 'gamma': 0.3185337936873408, 'subsample': 0.5119758858446941, 'colsample_bytree': 0.5643431511998124}. Best is trial 831 with value: 0.0034983910391903593.\u001b[0m\n"
     ]
    },
    {
     "name": "stdout",
     "output_type": "stream",
     "text": [
      "MAPE: 0.017824628567692857\n"
     ]
    },
    {
     "name": "stderr",
     "output_type": "stream",
     "text": [
      "\u001b[32m[I 2023-07-19 17:08:29,064]\u001b[0m Trial 930 finished with value: 0.32640774323867733 and parameters: {'max_depth': 10, 'eta': 0.10188272954111212, 'gamma': 0.42784148877733347, 'subsample': 0.7030190359127912, 'colsample_bytree': 0.41467144061098427}. Best is trial 831 with value: 0.0034983910391903593.\u001b[0m\n"
     ]
    },
    {
     "name": "stdout",
     "output_type": "stream",
     "text": [
      "MAPE: 0.32640774323867733\n"
     ]
    },
    {
     "name": "stderr",
     "output_type": "stream",
     "text": [
      "\u001b[32m[I 2023-07-19 17:08:31,380]\u001b[0m Trial 931 finished with value: 0.005637548340842446 and parameters: {'max_depth': 10, 'eta': 0.59908452943996, 'gamma': 0.11892120214064887, 'subsample': 0.6644161535883879, 'colsample_bytree': 0.9053155454226255}. Best is trial 831 with value: 0.0034983910391903593.\u001b[0m\n"
     ]
    },
    {
     "name": "stdout",
     "output_type": "stream",
     "text": [
      "MAPE: 0.005637548340842446\n"
     ]
    },
    {
     "name": "stderr",
     "output_type": "stream",
     "text": [
      "\u001b[32m[I 2023-07-19 17:08:32,790]\u001b[0m Trial 932 finished with value: 0.008097844661936136 and parameters: {'max_depth': 6, 'eta': 0.5030101010067787, 'gamma': 0.6203663596109129, 'subsample': 0.5806793888879334, 'colsample_bytree': 0.8692096534342924}. Best is trial 831 with value: 0.0034983910391903593.\u001b[0m\n"
     ]
    },
    {
     "name": "stdout",
     "output_type": "stream",
     "text": [
      "MAPE: 0.008097844661936136\n"
     ]
    },
    {
     "name": "stderr",
     "output_type": "stream",
     "text": [
      "\u001b[32m[I 2023-07-19 17:08:35,236]\u001b[0m Trial 933 finished with value: 0.012219938174033856 and parameters: {'max_depth': 10, 'eta': 0.5481683541452961, 'gamma': 0.21460599345738762, 'subsample': 0.9665194000141553, 'colsample_bytree': 0.7821435880193124}. Best is trial 831 with value: 0.0034983910391903593.\u001b[0m\n"
     ]
    },
    {
     "name": "stdout",
     "output_type": "stream",
     "text": [
      "MAPE: 0.012219938174033856\n"
     ]
    },
    {
     "name": "stderr",
     "output_type": "stream",
     "text": [
      "\u001b[32m[I 2023-07-19 17:08:37,610]\u001b[0m Trial 934 finished with value: 0.005689326443347728 and parameters: {'max_depth': 10, 'eta': 0.6235953995991681, 'gamma': 0.024775868017136393, 'subsample': 0.7208406267941342, 'colsample_bytree': 0.9442579377490683}. Best is trial 831 with value: 0.0034983910391903593.\u001b[0m\n"
     ]
    },
    {
     "name": "stdout",
     "output_type": "stream",
     "text": [
      "MAPE: 0.005689326443347728\n"
     ]
    },
    {
     "name": "stderr",
     "output_type": "stream",
     "text": [
      "\u001b[32m[I 2023-07-19 17:08:38,743]\u001b[0m Trial 935 finished with value: 0.006945639255940501 and parameters: {'max_depth': 5, 'eta': 0.45931442720490084, 'gamma': 0.4839268173847099, 'subsample': 0.6816245619585822, 'colsample_bytree': 0.9713218266788084}. Best is trial 831 with value: 0.0034983910391903593.\u001b[0m\n"
     ]
    },
    {
     "name": "stdout",
     "output_type": "stream",
     "text": [
      "MAPE: 0.006945639255940501\n"
     ]
    },
    {
     "name": "stderr",
     "output_type": "stream",
     "text": [
      "\u001b[32m[I 2023-07-19 17:08:39,838]\u001b[0m Trial 936 finished with value: 0.061226035739387064 and parameters: {'max_depth': 9, 'eta': 0.8132541479935264, 'gamma': 0.29419083138682, 'subsample': 0.749955474641955, 'colsample_bytree': 0.1897754012468681}. Best is trial 831 with value: 0.0034983910391903593.\u001b[0m\n"
     ]
    },
    {
     "name": "stdout",
     "output_type": "stream",
     "text": [
      "MAPE: 0.061226035739387064\n"
     ]
    },
    {
     "name": "stderr",
     "output_type": "stream",
     "text": [
      "\u001b[32m[I 2023-07-19 17:08:41,578]\u001b[0m Trial 937 finished with value: 0.026864121476454766 and parameters: {'max_depth': 10, 'eta': 0.6964802229037895, 'gamma': 0.08028533762436402, 'subsample': 0.7283880059231725, 'colsample_bytree': 0.5036833301286967}. Best is trial 831 with value: 0.0034983910391903593.\u001b[0m\n"
     ]
    },
    {
     "name": "stdout",
     "output_type": "stream",
     "text": [
      "MAPE: 0.026864121476454766\n"
     ]
    },
    {
     "name": "stderr",
     "output_type": "stream",
     "text": [
      "\u001b[32m[I 2023-07-19 17:08:43,958]\u001b[0m Trial 938 finished with value: 0.011524005504323774 and parameters: {'max_depth': 10, 'eta': 0.5664041366068407, 'gamma': 0.24688747270021907, 'subsample': 0.6261053844575992, 'colsample_bytree': 0.7579192852454559}. Best is trial 831 with value: 0.0034983910391903593.\u001b[0m\n"
     ]
    },
    {
     "name": "stdout",
     "output_type": "stream",
     "text": [
      "MAPE: 0.011524005504323774\n"
     ]
    },
    {
     "name": "stderr",
     "output_type": "stream",
     "text": [
      "\u001b[32m[I 2023-07-19 17:08:45,108]\u001b[0m Trial 939 finished with value: 0.42785532069450505 and parameters: {'max_depth': 10, 'eta': 0.08137118332074603, 'gamma': 0.40836668261617987, 'subsample': 0.433800493741873, 'colsample_bytree': 0.9864291158570515}. Best is trial 831 with value: 0.0034983910391903593.\u001b[0m\n"
     ]
    },
    {
     "name": "stdout",
     "output_type": "stream",
     "text": [
      "MAPE: 0.42785532069450505\n"
     ]
    },
    {
     "name": "stderr",
     "output_type": "stream",
     "text": [
      "\u001b[32m[I 2023-07-19 17:08:46,560]\u001b[0m Trial 940 finished with value: 0.7688080564273961 and parameters: {'max_depth': 10, 'eta': 0.02586944735348459, 'gamma': 0.3549352471913104, 'subsample': 0.7039260020008846, 'colsample_bytree': 0.7013321921430838}. Best is trial 831 with value: 0.0034983910391903593.\u001b[0m\n"
     ]
    },
    {
     "name": "stdout",
     "output_type": "stream",
     "text": [
      "MAPE: 0.7688080564273961\n"
     ]
    },
    {
     "name": "stderr",
     "output_type": "stream",
     "text": [
      "\u001b[32m[I 2023-07-19 17:08:47,136]\u001b[0m Trial 941 finished with value: 0.7923242937111725 and parameters: {'max_depth': 10, 'eta': 0.02227498072928012, 'gamma': 0.11089553041795253, 'subsample': 0.14765169760856267, 'colsample_bytree': 0.16816682363256064}. Best is trial 831 with value: 0.0034983910391903593.\u001b[0m\n"
     ]
    },
    {
     "name": "stdout",
     "output_type": "stream",
     "text": [
      "MAPE: 0.7923242937111725\n"
     ]
    },
    {
     "name": "stderr",
     "output_type": "stream",
     "text": [
      "\u001b[32m[I 2023-07-19 17:08:48,458]\u001b[0m Trial 942 finished with value: 0.4472712866554383 and parameters: {'max_depth': 10, 'eta': 0.07728405591057712, 'gamma': 0.5244240252956557, 'subsample': 0.5575398241499947, 'colsample_bytree': 0.9573491300861257}. Best is trial 831 with value: 0.0034983910391903593.\u001b[0m\n"
     ]
    },
    {
     "name": "stdout",
     "output_type": "stream",
     "text": [
      "MAPE: 0.4472712866554383\n"
     ]
    },
    {
     "name": "stderr",
     "output_type": "stream",
     "text": [
      "\u001b[32m[I 2023-07-19 17:08:49,751]\u001b[0m Trial 943 finished with value: 0.24750689139658566 and parameters: {'max_depth': 10, 'eta': 0.1302736291462426, 'gamma': 0.26048951875382437, 'subsample': 0.49580806428930235, 'colsample_bytree': 0.9843638283531403}. Best is trial 831 with value: 0.0034983910391903593.\u001b[0m\n"
     ]
    },
    {
     "name": "stdout",
     "output_type": "stream",
     "text": [
      "MAPE: 0.24750689139658566\n"
     ]
    },
    {
     "name": "stderr",
     "output_type": "stream",
     "text": [
      "\u001b[32m[I 2023-07-19 17:08:52,146]\u001b[0m Trial 944 finished with value: 0.012145024360007244 and parameters: {'max_depth': 10, 'eta': 0.5083140305189128, 'gamma': 0.010551774168912153, 'subsample': 0.7706226482477971, 'colsample_bytree': 0.809510718300165}. Best is trial 831 with value: 0.0034983910391903593.\u001b[0m\n"
     ]
    },
    {
     "name": "stdout",
     "output_type": "stream",
     "text": [
      "MAPE: 0.012145024360007244\n"
     ]
    },
    {
     "name": "stderr",
     "output_type": "stream",
     "text": [
      "\u001b[32m[I 2023-07-19 17:08:53,180]\u001b[0m Trial 945 finished with value: 0.005669202567457484 and parameters: {'max_depth': 10, 'eta': 0.4160554827957279, 'gamma': 0.05169424222896182, 'subsample': 0.11398007687020911, 'colsample_bytree': 0.9998553799173397}. Best is trial 831 with value: 0.0034983910391903593.\u001b[0m\n"
     ]
    },
    {
     "name": "stdout",
     "output_type": "stream",
     "text": [
      "MAPE: 0.005669202567457484\n"
     ]
    },
    {
     "name": "stderr",
     "output_type": "stream",
     "text": [
      "\u001b[32m[I 2023-07-19 17:08:55,317]\u001b[0m Trial 946 finished with value: 0.006453399715078581 and parameters: {'max_depth': 9, 'eta': 0.6324567371383572, 'gamma': 0.06530371793228076, 'subsample': 0.6559624522090914, 'colsample_bytree': 0.9394049806892647}. Best is trial 831 with value: 0.0034983910391903593.\u001b[0m\n"
     ]
    },
    {
     "name": "stdout",
     "output_type": "stream",
     "text": [
      "MAPE: 0.006453399715078581\n"
     ]
    },
    {
     "name": "stderr",
     "output_type": "stream",
     "text": [
      "\u001b[32m[I 2023-07-19 17:08:57,671]\u001b[0m Trial 947 finished with value: 0.004046152119787581 and parameters: {'max_depth': 10, 'eta': 0.7485541424627457, 'gamma': 0.04254759508647232, 'subsample': 0.533445590739389, 'colsample_bytree': 0.9681338560529933}. Best is trial 831 with value: 0.0034983910391903593.\u001b[0m\n"
     ]
    },
    {
     "name": "stdout",
     "output_type": "stream",
     "text": [
      "MAPE: 0.004046152119787581\n"
     ]
    },
    {
     "name": "stderr",
     "output_type": "stream",
     "text": [
      "\u001b[32m[I 2023-07-19 17:08:58,614]\u001b[0m Trial 948 finished with value: 0.129225905939423 and parameters: {'max_depth': 10, 'eta': 0.18116399752140147, 'gamma': 0.17788278596782856, 'subsample': 0.1995376187420446, 'colsample_bytree': 0.4851464246790382}. Best is trial 831 with value: 0.0034983910391903593.\u001b[0m\n"
     ]
    },
    {
     "name": "stdout",
     "output_type": "stream",
     "text": [
      "MAPE: 0.129225905939423\n"
     ]
    },
    {
     "name": "stderr",
     "output_type": "stream",
     "text": [
      "\u001b[32m[I 2023-07-19 17:09:00,003]\u001b[0m Trial 949 finished with value: 0.8862973084343283 and parameters: {'max_depth': 10, 'eta': 0.011994636614951043, 'gamma': 0.030223467042599504, 'subsample': 0.7346666788454024, 'colsample_bytree': 0.9211221802997284}. Best is trial 831 with value: 0.0034983910391903593.\u001b[0m\n"
     ]
    },
    {
     "name": "stdout",
     "output_type": "stream",
     "text": [
      "MAPE: 0.8862973084343283\n"
     ]
    },
    {
     "name": "stderr",
     "output_type": "stream",
     "text": [
      "\u001b[32m[I 2023-07-19 17:09:01,347]\u001b[0m Trial 950 finished with value: 0.6940268085206727 and parameters: {'max_depth': 7, 'eta': 0.035791942302063055, 'gamma': 0.32805530929931204, 'subsample': 0.797479424300215, 'colsample_bytree': 0.8271188777738754}. Best is trial 831 with value: 0.0034983910391903593.\u001b[0m\n"
     ]
    },
    {
     "name": "stdout",
     "output_type": "stream",
     "text": [
      "MAPE: 0.6940268085206727\n"
     ]
    },
    {
     "name": "stderr",
     "output_type": "stream",
     "text": [
      "\u001b[32m[I 2023-07-19 17:09:03,710]\u001b[0m Trial 951 finished with value: 0.0038032962638513755 and parameters: {'max_depth': 10, 'eta': 0.5506023073266584, 'gamma': 0.46376944652560975, 'subsample': 0.9070131808639934, 'colsample_bytree': 0.9507968285838847}. Best is trial 831 with value: 0.0034983910391903593.\u001b[0m\n"
     ]
    },
    {
     "name": "stdout",
     "output_type": "stream",
     "text": [
      "MAPE: 0.0038032962638513755\n"
     ]
    },
    {
     "name": "stderr",
     "output_type": "stream",
     "text": [
      "\u001b[32m[I 2023-07-19 17:09:04,845]\u001b[0m Trial 952 finished with value: 0.6370327914000744 and parameters: {'max_depth': 10, 'eta': 0.0431590737993154, 'gamma': 0.09282900820695271, 'subsample': 0.6961306350516088, 'colsample_bytree': 0.24606762747102923}. Best is trial 831 with value: 0.0034983910391903593.\u001b[0m\n"
     ]
    },
    {
     "name": "stdout",
     "output_type": "stream",
     "text": [
      "MAPE: 0.6370327914000744\n"
     ]
    },
    {
     "name": "stderr",
     "output_type": "stream",
     "text": [
      "\u001b[32m[I 2023-07-19 17:09:07,115]\u001b[0m Trial 953 finished with value: 0.0037427575748369083 and parameters: {'max_depth': 10, 'eta': 0.6033548831676455, 'gamma': 0.22167660732900338, 'subsample': 0.7146369670329088, 'colsample_bytree': 0.9728506021534943}. Best is trial 831 with value: 0.0034983910391903593.\u001b[0m\n"
     ]
    },
    {
     "name": "stdout",
     "output_type": "stream",
     "text": [
      "MAPE: 0.0037427575748369083\n"
     ]
    },
    {
     "name": "stderr",
     "output_type": "stream",
     "text": [
      "\u001b[32m[I 2023-07-19 17:09:08,710]\u001b[0m Trial 954 finished with value: 0.011654304458582912 and parameters: {'max_depth': 10, 'eta': 0.48335151537656, 'gamma': 0.03681054758759206, 'subsample': 0.30359143714061, 'colsample_bytree': 0.587491400868101}. Best is trial 831 with value: 0.0034983910391903593.\u001b[0m\n"
     ]
    },
    {
     "name": "stdout",
     "output_type": "stream",
     "text": [
      "MAPE: 0.011654304458582912\n"
     ]
    },
    {
     "name": "stderr",
     "output_type": "stream",
     "text": [
      "\u001b[32m[I 2023-07-19 17:09:09,639]\u001b[0m Trial 955 finished with value: 0.015155753641389573 and parameters: {'max_depth': 4, 'eta': 0.3480684200812245, 'gamma': 0.07226273140671732, 'subsample': 0.6029512830263657, 'colsample_bytree': 0.9825754674250519}. Best is trial 831 with value: 0.0034983910391903593.\u001b[0m\n"
     ]
    },
    {
     "name": "stdout",
     "output_type": "stream",
     "text": [
      "MAPE: 0.015155753641389573\n"
     ]
    },
    {
     "name": "stderr",
     "output_type": "stream",
     "text": [
      "\u001b[32m[I 2023-07-19 17:09:10,892]\u001b[0m Trial 956 finished with value: 0.78629584906177 and parameters: {'max_depth': 10, 'eta': 0.023158595070178433, 'gamma': 0.060108126871585954, 'subsample': 0.6821974958463412, 'colsample_bytree': 0.40519739471308447}. Best is trial 831 with value: 0.0034983910391903593.\u001b[0m\n"
     ]
    },
    {
     "name": "stdout",
     "output_type": "stream",
     "text": [
      "MAPE: 0.78629584906177\n"
     ]
    },
    {
     "name": "stderr",
     "output_type": "stream",
     "text": [
      "\u001b[32m[I 2023-07-19 17:09:12,169]\u001b[0m Trial 957 finished with value: 0.004357345578993098 and parameters: {'max_depth': 9, 'eta': 0.6693993704968978, 'gamma': 0.389605802217259, 'subsample': 0.14986125938268546, 'colsample_bytree': 0.9584610819286625}. Best is trial 831 with value: 0.0034983910391903593.\u001b[0m\n"
     ]
    },
    {
     "name": "stdout",
     "output_type": "stream",
     "text": [
      "MAPE: 0.004357345578993098\n"
     ]
    },
    {
     "name": "stderr",
     "output_type": "stream",
     "text": [
      "\u001b[32m[I 2023-07-19 17:09:13,613]\u001b[0m Trial 958 finished with value: 0.7292168219796985 and parameters: {'max_depth': 10, 'eta': 0.03107804935901385, 'gamma': 0.290385401286675, 'subsample': 0.753211436311755, 'colsample_bytree': 0.9351309157374721}. Best is trial 831 with value: 0.0034983910391903593.\u001b[0m\n"
     ]
    },
    {
     "name": "stdout",
     "output_type": "stream",
     "text": [
      "MAPE: 0.7292168219796985\n"
     ]
    },
    {
     "name": "stderr",
     "output_type": "stream",
     "text": [
      "\u001b[32m[I 2023-07-19 17:09:16,031]\u001b[0m Trial 959 finished with value: 0.005154760435007168 and parameters: {'max_depth': 10, 'eta': 0.5242425473821919, 'gamma': 0.42956296099538754, 'subsample': 0.993961235093705, 'colsample_bytree': 0.9018216386440554}. Best is trial 831 with value: 0.0034983910391903593.\u001b[0m\n"
     ]
    },
    {
     "name": "stdout",
     "output_type": "stream",
     "text": [
      "MAPE: 0.005154760435007168\n"
     ]
    },
    {
     "name": "stderr",
     "output_type": "stream",
     "text": [
      "\u001b[32m[I 2023-07-19 17:09:16,689]\u001b[0m Trial 960 finished with value: 0.8888694336512057 and parameters: {'max_depth': 3, 'eta': 0.01159628429403168, 'gamma': 0.36052693101770633, 'subsample': 0.5733935309789244, 'colsample_bytree': 0.6740171000080406}. Best is trial 831 with value: 0.0034983910391903593.\u001b[0m\n"
     ]
    },
    {
     "name": "stdout",
     "output_type": "stream",
     "text": [
      "MAPE: 0.8888694336512057\n"
     ]
    },
    {
     "name": "stderr",
     "output_type": "stream",
     "text": [
      "\u001b[32m[I 2023-07-19 17:09:18,785]\u001b[0m Trial 961 finished with value: 0.003735745204254382 and parameters: {'max_depth': 10, 'eta': 0.5936068572628961, 'gamma': 0.5412663812543841, 'subsample': 0.4184605283325291, 'colsample_bytree': 0.9847446199188009}. Best is trial 831 with value: 0.0034983910391903593.\u001b[0m\n"
     ]
    },
    {
     "name": "stdout",
     "output_type": "stream",
     "text": [
      "MAPE: 0.003735745204254382\n"
     ]
    },
    {
     "name": "stderr",
     "output_type": "stream",
     "text": [
      "\u001b[32m[I 2023-07-19 17:09:20,419]\u001b[0m Trial 962 finished with value: 0.07038932217776026 and parameters: {'max_depth': 10, 'eta': 0.23277836705539387, 'gamma': 0.3030879887778351, 'subsample': 0.6411501243865094, 'colsample_bytree': 0.9618979288196517}. Best is trial 831 with value: 0.0034983910391903593.\u001b[0m\n"
     ]
    },
    {
     "name": "stdout",
     "output_type": "stream",
     "text": [
      "MAPE: 0.07038932217776026\n"
     ]
    },
    {
     "name": "stderr",
     "output_type": "stream",
     "text": [
      "\u001b[32m[I 2023-07-19 17:09:21,841]\u001b[0m Trial 963 finished with value: 0.004330559915391944 and parameters: {'max_depth': 10, 'eta': 0.4461606759755688, 'gamma': 0.7456562849061753, 'subsample': 0.2711492763899909, 'colsample_bytree': 0.9998375363810412}. Best is trial 831 with value: 0.0034983910391903593.\u001b[0m\n"
     ]
    },
    {
     "name": "stdout",
     "output_type": "stream",
     "text": [
      "MAPE: 0.004330559915391944\n"
     ]
    },
    {
     "name": "stderr",
     "output_type": "stream",
     "text": [
      "\u001b[32m[I 2023-07-19 17:09:23,136]\u001b[0m Trial 964 finished with value: 0.20059033757031564 and parameters: {'max_depth': 10, 'eta': 0.14831197491971718, 'gamma': 0.025998736797256554, 'subsample': 0.4593102310662822, 'colsample_bytree': 0.9727573751984571}. Best is trial 831 with value: 0.0034983910391903593.\u001b[0m\n"
     ]
    },
    {
     "name": "stdout",
     "output_type": "stream",
     "text": [
      "MAPE: 0.20059033757031564\n"
     ]
    },
    {
     "name": "stderr",
     "output_type": "stream",
     "text": [
      "\u001b[32m[I 2023-07-19 17:09:24,526]\u001b[0m Trial 965 finished with value: 0.5581198876338049 and parameters: {'max_depth': 10, 'eta': 0.056642947989236817, 'gamma': 0.055386495311938164, 'subsample': 0.6689017410964877, 'colsample_bytree': 0.9483770554463239}. Best is trial 831 with value: 0.0034983910391903593.\u001b[0m\n"
     ]
    },
    {
     "name": "stdout",
     "output_type": "stream",
     "text": [
      "MAPE: 0.5581198876338049\n"
     ]
    },
    {
     "name": "stderr",
     "output_type": "stream",
     "text": [
      "\u001b[32m[I 2023-07-19 17:09:26,467]\u001b[0m Trial 966 finished with value: 0.023736064444938358 and parameters: {'max_depth': 10, 'eta': 0.6583080745121301, 'gamma': 0.04079786481997112, 'subsample': 0.7366788625015606, 'colsample_bytree': 0.5154848446226818}. Best is trial 831 with value: 0.0034983910391903593.\u001b[0m\n"
     ]
    },
    {
     "name": "stdout",
     "output_type": "stream",
     "text": [
      "MAPE: 0.023736064444938358\n"
     ]
    },
    {
     "name": "stderr",
     "output_type": "stream",
     "text": [
      "\u001b[32m[I 2023-07-19 17:09:27,705]\u001b[0m Trial 967 finished with value: 0.019493153119168192 and parameters: {'max_depth': 10, 'eta': 0.33543158003439455, 'gamma': 0.03333081173696649, 'subsample': 0.1779361808715043, 'colsample_bytree': 0.6556774520216518}. Best is trial 831 with value: 0.0034983910391903593.\u001b[0m\n"
     ]
    },
    {
     "name": "stdout",
     "output_type": "stream",
     "text": [
      "MAPE: 0.019493153119168192\n"
     ]
    },
    {
     "name": "stderr",
     "output_type": "stream",
     "text": [
      "\u001b[32m[I 2023-07-19 17:09:28,969]\u001b[0m Trial 968 finished with value: 0.04402091907296484 and parameters: {'max_depth': 10, 'eta': 0.5548350726323985, 'gamma': 0.8790417739105458, 'subsample': 0.3641025630497315, 'colsample_bytree': 0.35931434769512094}. Best is trial 831 with value: 0.0034983910391903593.\u001b[0m\n"
     ]
    },
    {
     "name": "stdout",
     "output_type": "stream",
     "text": [
      "MAPE: 0.04402091907296484\n"
     ]
    },
    {
     "name": "stderr",
     "output_type": "stream",
     "text": [
      "\u001b[32m[I 2023-07-19 17:09:31,719]\u001b[0m Trial 969 finished with value: 0.01591940209317901 and parameters: {'max_depth': 10, 'eta': 0.7676176482481355, 'gamma': 0.19766360430460797, 'subsample': 0.8850075928425692, 'colsample_bytree': 0.780012628833149}. Best is trial 831 with value: 0.0034983910391903593.\u001b[0m\n"
     ]
    },
    {
     "name": "stdout",
     "output_type": "stream",
     "text": [
      "MAPE: 0.01591940209317901\n"
     ]
    },
    {
     "name": "stderr",
     "output_type": "stream",
     "text": [
      "\u001b[32m[I 2023-07-19 17:09:32,657]\u001b[0m Trial 970 finished with value: 0.08063500586751983 and parameters: {'max_depth': 9, 'eta': 0.39174184173123905, 'gamma': 0.2655202168174326, 'subsample': 0.7156490359207169, 'colsample_bytree': 0.13109337964984635}. Best is trial 831 with value: 0.0034983910391903593.\u001b[0m\n"
     ]
    },
    {
     "name": "stdout",
     "output_type": "stream",
     "text": [
      "MAPE: 0.08063500586751983\n"
     ]
    },
    {
     "name": "stderr",
     "output_type": "stream",
     "text": [
      "\u001b[32m[I 2023-07-19 17:09:34,035]\u001b[0m Trial 971 finished with value: 0.39275128234167833 and parameters: {'max_depth': 10, 'eta': 0.08917426255737333, 'gamma': 0.046234203372831774, 'subsample': 0.6891358419552682, 'colsample_bytree': 0.9232186589285}. Best is trial 831 with value: 0.0034983910391903593.\u001b[0m\n"
     ]
    },
    {
     "name": "stdout",
     "output_type": "stream",
     "text": [
      "MAPE: 0.39275128234167833\n"
     ]
    },
    {
     "name": "stderr",
     "output_type": "stream",
     "text": [
      "\u001b[32m[I 2023-07-19 17:09:35,480]\u001b[0m Trial 972 finished with value: 0.026146318187494376 and parameters: {'max_depth': 10, 'eta': 0.48604390012693627, 'gamma': 0.16620090812398308, 'subsample': 0.5844784875817283, 'colsample_bytree': 0.3891159873634519}. Best is trial 831 with value: 0.0034983910391903593.\u001b[0m\n"
     ]
    },
    {
     "name": "stdout",
     "output_type": "stream",
     "text": [
      "MAPE: 0.026146318187494376\n"
     ]
    },
    {
     "name": "stderr",
     "output_type": "stream",
     "text": [
      "\u001b[32m[I 2023-07-19 17:09:36,767]\u001b[0m Trial 973 finished with value: 0.05313951904088433 and parameters: {'max_depth': 10, 'eta': 0.6032836476925224, 'gamma': 0.0969547004965822, 'subsample': 0.521848461010393, 'colsample_bytree': 0.2309504596904266}. Best is trial 831 with value: 0.0034983910391903593.\u001b[0m\n"
     ]
    },
    {
     "name": "stdout",
     "output_type": "stream",
     "text": [
      "MAPE: 0.05313951904088433\n"
     ]
    },
    {
     "name": "stderr",
     "output_type": "stream",
     "text": [
      "\u001b[32m[I 2023-07-19 17:09:38,070]\u001b[0m Trial 974 finished with value: 0.048006160963151315 and parameters: {'max_depth': 10, 'eta': 0.7106654939692922, 'gamma': 0.39217164778636865, 'subsample': 0.40074946712333426, 'colsample_bytree': 0.28862481856672023}. Best is trial 831 with value: 0.0034983910391903593.\u001b[0m\n"
     ]
    },
    {
     "name": "stdout",
     "output_type": "stream",
     "text": [
      "MAPE: 0.048006160963151315\n"
     ]
    },
    {
     "name": "stderr",
     "output_type": "stream",
     "text": [
      "\u001b[32m[I 2023-07-19 17:09:40,333]\u001b[0m Trial 975 finished with value: 0.003741352318109005 and parameters: {'max_depth': 10, 'eta': 0.5271144488317421, 'gamma': 0.44430119969599635, 'subsample': 0.6258180773005912, 'colsample_bytree': 0.9840864398474218}. Best is trial 831 with value: 0.0034983910391903593.\u001b[0m\n"
     ]
    },
    {
     "name": "stdout",
     "output_type": "stream",
     "text": [
      "MAPE: 0.003741352318109005\n"
     ]
    },
    {
     "name": "stderr",
     "output_type": "stream",
     "text": [
      "\u001b[32m[I 2023-07-19 17:09:41,457]\u001b[0m Trial 976 finished with value: 0.854874891840399 and parameters: {'max_depth': 9, 'eta': 0.015363672450662003, 'gamma': 0.08080525924951296, 'subsample': 0.546768091608032, 'colsample_bytree': 0.3358161377763931}. Best is trial 831 with value: 0.0034983910391903593.\u001b[0m\n"
     ]
    },
    {
     "name": "stdout",
     "output_type": "stream",
     "text": [
      "MAPE: 0.854874891840399\n"
     ]
    },
    {
     "name": "stderr",
     "output_type": "stream",
     "text": [
      "\u001b[32m[I 2023-07-19 17:09:42,463]\u001b[0m Trial 977 finished with value: 0.22698708961294276 and parameters: {'max_depth': 10, 'eta': 0.1377365137199654, 'gamma': 0.335826853665986, 'subsample': 0.3278117756806365, 'colsample_bytree': 0.9643608200949942}. Best is trial 831 with value: 0.0034983910391903593.\u001b[0m\n"
     ]
    },
    {
     "name": "stdout",
     "output_type": "stream",
     "text": [
      "MAPE: 0.22698708961294276\n"
     ]
    },
    {
     "name": "stderr",
     "output_type": "stream",
     "text": [
      "\u001b[32m[I 2023-07-19 17:09:43,303]\u001b[0m Trial 978 finished with value: 0.8170838839815002 and parameters: {'max_depth': 10, 'eta': 0.019979989306945577, 'gamma': 0.23499707146577617, 'subsample': 0.2561273246218152, 'colsample_bytree': 0.9415517522504864}. Best is trial 831 with value: 0.0034983910391903593.\u001b[0m\n"
     ]
    },
    {
     "name": "stdout",
     "output_type": "stream",
     "text": [
      "MAPE: 0.8170838839815002\n"
     ]
    },
    {
     "name": "stderr",
     "output_type": "stream",
     "text": [
      "\u001b[32m[I 2023-07-19 17:09:44,485]\u001b[0m Trial 979 finished with value: 0.8968197410788609 and parameters: {'max_depth': 10, 'eta': 0.010623758599117792, 'gamma': 0.4761127451403127, 'subsample': 0.7051460368462643, 'colsample_bytree': 0.21112374592315875}. Best is trial 831 with value: 0.0034983910391903593.\u001b[0m\n"
     ]
    },
    {
     "name": "stdout",
     "output_type": "stream",
     "text": [
      "MAPE: 0.8968197410788609\n"
     ]
    },
    {
     "name": "stderr",
     "output_type": "stream",
     "text": [
      "\u001b[32m[I 2023-07-19 17:09:45,832]\u001b[0m Trial 980 finished with value: 0.5035389887862386 and parameters: {'max_depth': 10, 'eta': 0.06630272126599458, 'gamma': 0.029980623994086315, 'subsample': 0.7762355247096575, 'colsample_bytree': 0.9798164576686322}. Best is trial 831 with value: 0.0034983910391903593.\u001b[0m\n"
     ]
    },
    {
     "name": "stdout",
     "output_type": "stream",
     "text": [
      "MAPE: 0.5035389887862386\n"
     ]
    },
    {
     "name": "stderr",
     "output_type": "stream",
     "text": [
      "\u001b[32m[I 2023-07-19 17:09:47,750]\u001b[0m Trial 981 finished with value: 0.04163060537352437 and parameters: {'max_depth': 10, 'eta': 0.27003354862635504, 'gamma': 0.6022149859775668, 'subsample': 0.7289292326079624, 'colsample_bytree': 0.6082006577105117}. Best is trial 831 with value: 0.0034983910391903593.\u001b[0m\n"
     ]
    },
    {
     "name": "stdout",
     "output_type": "stream",
     "text": [
      "MAPE: 0.04163060537352437\n"
     ]
    },
    {
     "name": "stderr",
     "output_type": "stream",
     "text": [
      "\u001b[32m[I 2023-07-19 17:09:49,553]\u001b[0m Trial 982 finished with value: 0.003901501249230225 and parameters: {'max_depth': 10, 'eta': 0.6386679936426675, 'gamma': 0.06958196729959716, 'subsample': 0.3412442226674499, 'colsample_bytree': 0.9571402703199707}. Best is trial 831 with value: 0.0034983910391903593.\u001b[0m\n"
     ]
    },
    {
     "name": "stdout",
     "output_type": "stream",
     "text": [
      "MAPE: 0.003901501249230225\n"
     ]
    },
    {
     "name": "stderr",
     "output_type": "stream",
     "text": [
      "\u001b[32m[I 2023-07-19 17:09:51,910]\u001b[0m Trial 983 finished with value: 0.005631370681677327 and parameters: {'max_depth': 10, 'eta': 0.5651687122105158, 'gamma': 0.4054909970422239, 'subsample': 0.8228332595953518, 'colsample_bytree': 0.882990179031322}. Best is trial 831 with value: 0.0034983910391903593.\u001b[0m\n"
     ]
    },
    {
     "name": "stdout",
     "output_type": "stream",
     "text": [
      "MAPE: 0.005631370681677327\n"
     ]
    },
    {
     "name": "stderr",
     "output_type": "stream",
     "text": [
      "\u001b[32m[I 2023-07-19 17:09:53,364]\u001b[0m Trial 984 finished with value: 0.8932616861738714 and parameters: {'max_depth': 10, 'eta': 0.011193672011536662, 'gamma': 0.3598004785383952, 'subsample': 0.6597984537481166, 'colsample_bytree': 0.6940029081317747}. Best is trial 831 with value: 0.0034983910391903593.\u001b[0m\n"
     ]
    },
    {
     "name": "stdout",
     "output_type": "stream",
     "text": [
      "MAPE: 0.8932616861738714\n"
     ]
    },
    {
     "name": "stderr",
     "output_type": "stream",
     "text": [
      "\u001b[32m[I 2023-07-19 17:09:54,608]\u001b[0m Trial 985 finished with value: 0.8344794921360572 and parameters: {'max_depth': 10, 'eta': 0.017894564273218522, 'gamma': 0.04898132370068307, 'subsample': 0.44811774431142226, 'colsample_bytree': 0.8394779856009309}. Best is trial 831 with value: 0.0034983910391903593.\u001b[0m\n"
     ]
    },
    {
     "name": "stdout",
     "output_type": "stream",
     "text": [
      "MAPE: 0.8344794921360572\n"
     ]
    },
    {
     "name": "stderr",
     "output_type": "stream",
     "text": [
      "\u001b[32m[I 2023-07-19 17:09:57,144]\u001b[0m Trial 986 finished with value: 0.004141881393028456 and parameters: {'max_depth': 10, 'eta': 0.8473833298542007, 'gamma': 0.10515065280085145, 'subsample': 0.7484129120030999, 'colsample_bytree': 0.9999823023224732}. Best is trial 831 with value: 0.0034983910391903593.\u001b[0m\n"
     ]
    },
    {
     "name": "stdout",
     "output_type": "stream",
     "text": [
      "MAPE: 0.004141881393028456\n"
     ]
    },
    {
     "name": "stderr",
     "output_type": "stream",
     "text": [
      "\u001b[32m[I 2023-07-19 17:09:58,480]\u001b[0m Trial 987 finished with value: 0.3616662610587395 and parameters: {'max_depth': 10, 'eta': 0.09669004691234927, 'gamma': 0.49617468833172607, 'subsample': 0.6822868033390669, 'colsample_bytree': 0.983772333700151}. Best is trial 831 with value: 0.0034983910391903593.\u001b[0m\n"
     ]
    },
    {
     "name": "stdout",
     "output_type": "stream",
     "text": [
      "MAPE: 0.3616662610587395\n"
     ]
    },
    {
     "name": "stderr",
     "output_type": "stream",
     "text": [
      "\u001b[32m[I 2023-07-19 17:10:00,481]\u001b[0m Trial 988 finished with value: 0.006327441387936784 and parameters: {'max_depth': 9, 'eta': 0.4366634636949444, 'gamma': 0.1370067938491628, 'subsample': 0.8497487937890416, 'colsample_bytree': 0.8561180100894078}. Best is trial 831 with value: 0.0034983910391903593.\u001b[0m\n"
     ]
    },
    {
     "name": "stdout",
     "output_type": "stream",
     "text": [
      "MAPE: 0.006327441387936784\n"
     ]
    },
    {
     "name": "stderr",
     "output_type": "stream",
     "text": [
      "\u001b[32m[I 2023-07-19 17:10:02,196]\u001b[0m Trial 989 finished with value: 0.010430001019466858 and parameters: {'max_depth': 10, 'eta': 0.5145118118158737, 'gamma': 0.3138944948719139, 'subsample': 0.2941572170041137, 'colsample_bytree': 0.7551012111775637}. Best is trial 831 with value: 0.0034983910391903593.\u001b[0m\n"
     ]
    },
    {
     "name": "stdout",
     "output_type": "stream",
     "text": [
      "MAPE: 0.010430001019466858\n"
     ]
    },
    {
     "name": "stderr",
     "output_type": "stream",
     "text": [
      "\u001b[32m[I 2023-07-19 17:10:03,501]\u001b[0m Trial 990 finished with value: 0.15849737078888457 and parameters: {'max_depth': 10, 'eta': 0.16810441923271177, 'gamma': 0.2612015234480825, 'subsample': 0.5065297194133724, 'colsample_bytree': 0.9692362720719461}. Best is trial 831 with value: 0.0034983910391903593.\u001b[0m\n"
     ]
    },
    {
     "name": "stdout",
     "output_type": "stream",
     "text": [
      "MAPE: 0.15849737078888457\n"
     ]
    },
    {
     "name": "stderr",
     "output_type": "stream",
     "text": [
      "\u001b[32m[I 2023-07-19 17:10:04,516]\u001b[0m Trial 991 finished with value: 0.6864436493399491 and parameters: {'max_depth': 10, 'eta': 0.036561720175025174, 'gamma': 0.21625457291326453, 'subsample': 0.3672438230989614, 'colsample_bytree': 0.5483479051913318}. Best is trial 831 with value: 0.0034983910391903593.\u001b[0m\n"
     ]
    },
    {
     "name": "stdout",
     "output_type": "stream",
     "text": [
      "MAPE: 0.6864436493399491\n"
     ]
    },
    {
     "name": "stderr",
     "output_type": "stream",
     "text": [
      "\u001b[32m[I 2023-07-19 17:10:05,698]\u001b[0m Trial 992 finished with value: 0.5923360756048696 and parameters: {'max_depth': 10, 'eta': 0.05034684426787372, 'gamma': 0.05800221385219222, 'subsample': 0.6108917820333323, 'colsample_bytree': 0.47485968413340857}. Best is trial 831 with value: 0.0034983910391903593.\u001b[0m\n"
     ]
    },
    {
     "name": "stdout",
     "output_type": "stream",
     "text": [
      "MAPE: 0.5923360756048696\n"
     ]
    },
    {
     "name": "stderr",
     "output_type": "stream",
     "text": [
      "\u001b[32m[I 2023-07-19 17:10:07,994]\u001b[0m Trial 993 finished with value: 0.0056135782238902875 and parameters: {'max_depth': 10, 'eta': 0.5906563771965836, 'gamma': 0.08801648450385288, 'subsample': 0.7130771129091346, 'colsample_bytree': 0.9166122479733808}. Best is trial 831 with value: 0.0034983910391903593.\u001b[0m\n"
     ]
    },
    {
     "name": "stdout",
     "output_type": "stream",
     "text": [
      "MAPE: 0.0056135782238902875\n"
     ]
    },
    {
     "name": "stderr",
     "output_type": "stream",
     "text": [
      "\u001b[32m[I 2023-07-19 17:10:09,773]\u001b[0m Trial 994 finished with value: 0.0061448782173902875 and parameters: {'max_depth': 8, 'eta': 0.4862261936962969, 'gamma': 0.4279656607503295, 'subsample': 0.5667720405518408, 'colsample_bytree': 0.9382807975772077}. Best is trial 831 with value: 0.0034983910391903593.\u001b[0m\n"
     ]
    },
    {
     "name": "stdout",
     "output_type": "stream",
     "text": [
      "MAPE: 0.0061448782173902875\n"
     ]
    },
    {
     "name": "stderr",
     "output_type": "stream",
     "text": [
      "\u001b[32m[I 2023-07-19 17:10:12,393]\u001b[0m Trial 995 finished with value: 0.0042155354906634 and parameters: {'max_depth': 10, 'eta': 0.9344837251390437, 'gamma': 0.11833298714824689, 'subsample': 0.5945758425243468, 'colsample_bytree': 0.9557222717007327}. Best is trial 831 with value: 0.0034983910391903593.\u001b[0m\n"
     ]
    },
    {
     "name": "stdout",
     "output_type": "stream",
     "text": [
      "MAPE: 0.0042155354906634\n"
     ]
    },
    {
     "name": "stderr",
     "output_type": "stream",
     "text": [
      "\u001b[32m[I 2023-07-19 17:10:13,829]\u001b[0m Trial 996 finished with value: 0.8389106347565826 and parameters: {'max_depth': 10, 'eta': 0.01726624568756605, 'gamma': 0.03691973476474123, 'subsample': 0.8617144073115404, 'colsample_bytree': 0.5374921115596593}. Best is trial 831 with value: 0.0034983910391903593.\u001b[0m\n"
     ]
    },
    {
     "name": "stdout",
     "output_type": "stream",
     "text": [
      "MAPE: 0.8389106347565826\n"
     ]
    },
    {
     "name": "stderr",
     "output_type": "stream",
     "text": [
      "\u001b[32m[I 2023-07-19 17:10:16,365]\u001b[0m Trial 997 finished with value: 0.014585719514079212 and parameters: {'max_depth': 10, 'eta': 0.6903896934420707, 'gamma': 0.028079016354584378, 'subsample': 0.6990150223003404, 'colsample_bytree': 0.6381995063057757}. Best is trial 831 with value: 0.0034983910391903593.\u001b[0m\n"
     ]
    },
    {
     "name": "stdout",
     "output_type": "stream",
     "text": [
      "MAPE: 0.014585719514079212\n"
     ]
    },
    {
     "name": "stderr",
     "output_type": "stream",
     "text": [
      "\u001b[32m[I 2023-07-19 17:10:17,893]\u001b[0m Trial 998 finished with value: 0.7861731210515329 and parameters: {'max_depth': 10, 'eta': 0.02370901962580435, 'gamma': 0.062482437339128914, 'subsample': 0.7646851434490555, 'colsample_bytree': 0.6339177042498926}. Best is trial 831 with value: 0.0034983910391903593.\u001b[0m\n"
     ]
    },
    {
     "name": "stdout",
     "output_type": "stream",
     "text": [
      "MAPE: 0.7861731210515329\n"
     ]
    },
    {
     "name": "stderr",
     "output_type": "stream",
     "text": [
      "\u001b[32m[I 2023-07-19 17:10:19,418]\u001b[0m Trial 999 finished with value: 0.7598474787164955 and parameters: {'max_depth': 9, 'eta': 0.027085720400764374, 'gamma': 0.3874804262886224, 'subsample': 0.7320858653815888, 'colsample_bytree': 0.9854520461825708}. Best is trial 831 with value: 0.0034983910391903593.\u001b[0m\n"
     ]
    },
    {
     "name": "stdout",
     "output_type": "stream",
     "text": [
      "MAPE: 0.7598474787164955\n",
      "FrozenTrial(number=831, state=TrialState.COMPLETE, values=[0.0034983910391903593], datetime_start=datetime.datetime(2023, 7, 19, 17, 5, 56, 423704), datetime_complete=datetime.datetime(2023, 7, 19, 17, 5, 58, 175400), params={'max_depth': 10, 'eta': 0.539443152782179, 'gamma': 0.02977421028172982, 'subsample': 0.3234466929660097, 'colsample_bytree': 0.9992791996752288}, user_attrs={}, system_attrs={}, intermediate_values={}, distributions={'max_depth': IntDistribution(high=10, log=False, low=1, step=1), 'eta': FloatDistribution(high=1.0, log=True, low=0.01, step=None), 'gamma': FloatDistribution(high=1.0, log=True, low=0.01, step=None), 'subsample': FloatDistribution(high=1.0, log=False, low=0.1, step=None), 'colsample_bytree': FloatDistribution(high=1.0, log=False, low=0.1, step=None)}, trial_id=831, value=None)\n",
      "0.0034983910391903593\n"
     ]
    }
   ],
   "source": [
    "import xgboost as xgb\n",
    "\n",
    "\n",
    "dtrain = xgb.DMatrix(X, label=y)\n",
    "dtest = xgb.DMatrix(X_test, label=y_test)\n",
    "\n",
    "\n",
    "def objective(trial):\n",
    "    params = {\n",
    "        'objective': 'reg:squarederror',\n",
    "        'eval_metric': 'mape',\n",
    "        'max_depth': trial.suggest_int('max_depth', 1, 10),\n",
    "        'eta': trial.suggest_loguniform('eta', 0.01, 1.0),\n",
    "        'gamma': trial.suggest_loguniform('gamma', 0.01, 1.0),\n",
    "        'subsample': trial.suggest_float('subsample', 0.1, 1.0),\n",
    "        'colsample_bytree': trial.suggest_float('colsample_bytree', 0.1, 1.0),\n",
    "    }\n",
    "\n",
    "    bst = xgb.train(params, dtrain)\n",
    "    preds = bst.predict(xgb.DMatrix(X_test))\n",
    "    mape = mean_absolute_percentage_error(y_test, preds)\n",
    "    print(\"MAPE: {}\".format(mape))\n",
    "    return mape\n",
    "\n",
    "study = optuna.create_study(direction='minimize')\n",
    "study.optimize(objective, n_trials=1000)\n",
    "\n",
    "print(study.best_trial)\n",
    "print(study.best_value)"
   ]
  },
  {
   "cell_type": "code",
   "execution_count": 32,
   "id": "1c51a92c",
   "metadata": {},
   "outputs": [
    {
     "data": {
      "text/plain": [
       "FrozenTrial(number=831, state=TrialState.COMPLETE, values=[0.0034983910391903593], datetime_start=datetime.datetime(2023, 7, 19, 17, 5, 56, 423704), datetime_complete=datetime.datetime(2023, 7, 19, 17, 5, 58, 175400), params={'max_depth': 10, 'eta': 0.539443152782179, 'gamma': 0.02977421028172982, 'subsample': 0.3234466929660097, 'colsample_bytree': 0.9992791996752288}, user_attrs={}, system_attrs={}, intermediate_values={}, distributions={'max_depth': IntDistribution(high=10, log=False, low=1, step=1), 'eta': FloatDistribution(high=1.0, log=True, low=0.01, step=None), 'gamma': FloatDistribution(high=1.0, log=True, low=0.01, step=None), 'subsample': FloatDistribution(high=1.0, log=False, low=0.1, step=None), 'colsample_bytree': FloatDistribution(high=1.0, log=False, low=0.1, step=None)}, trial_id=831, value=None)"
      ]
     },
     "execution_count": 32,
     "metadata": {},
     "output_type": "execute_result"
    }
   ],
   "source": [
    "study.best_trial"
   ]
  },
  {
   "cell_type": "code",
   "execution_count": 33,
   "id": "86e3ec15",
   "metadata": {},
   "outputs": [
    {
     "data": {
      "text/plain": [
       "0.0034983910391903593"
      ]
     },
     "execution_count": 33,
     "metadata": {},
     "output_type": "execute_result"
    }
   ],
   "source": [
    "study.best_value"
   ]
  },
  {
   "cell_type": "raw",
   "id": "72b108d0",
   "metadata": {},
   "source": [
    "All\n",
    "\n",
    "FrozenTrial(number=831, state=TrialState.COMPLETE, values=[0.0034983910391903593], datetime_start=datetime.datetime(2023, 7, 19, 17, 5, 56, 423704), datetime_complete=datetime.datetime(2023, 7, 19, 17, 5, 58, 175400), params={'max_depth': 10, 'eta': 0.539443152782179, 'gamma': 0.02977421028172982, 'subsample': 0.3234466929660097, 'colsample_bytree': 0.9992791996752288}, user_attrs={}, system_attrs={}, intermediate_values={}, distributions={'max_depth': IntDistribution(high=10, log=False, low=1, step=1), 'eta': FloatDistribution(high=1.0, log=True, low=0.01, step=None), 'gamma': FloatDistribution(high=1.0, log=True, low=0.01, step=None), 'subsample': FloatDistribution(high=1.0, log=False, low=0.1, step=None), 'colsample_bytree': FloatDistribution(high=1.0, log=False, low=0.1, step=None)}, trial_id=831, value=None)\n",
    "\n",
    "0.0034983910391903593\n",
    "\n",
    "==============================================================================================\n",
    "\n",
    "\n",
    "\n",
    "\n"
   ]
  },
  {
   "cell_type": "code",
   "execution_count": null,
   "id": "9e3bdcf5",
   "metadata": {},
   "outputs": [],
   "source": []
  },
  {
   "cell_type": "code",
   "execution_count": null,
   "id": "7ee4ba80",
   "metadata": {},
   "outputs": [],
   "source": []
  }
 ],
 "metadata": {
  "kernelspec": {
   "display_name": "Python 3 (ipykernel)",
   "language": "python",
   "name": "python3"
  },
  "language_info": {
   "codemirror_mode": {
    "name": "ipython",
    "version": 3
   },
   "file_extension": ".py",
   "mimetype": "text/x-python",
   "name": "python",
   "nbconvert_exporter": "python",
   "pygments_lexer": "ipython3",
   "version": "3.10.11"
  }
 },
 "nbformat": 4,
 "nbformat_minor": 5
}
