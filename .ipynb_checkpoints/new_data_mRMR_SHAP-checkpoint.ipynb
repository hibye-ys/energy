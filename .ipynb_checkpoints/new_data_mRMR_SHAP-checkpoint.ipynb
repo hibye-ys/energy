{
 "cells": [
  {
   "cell_type": "code",
   "execution_count": 1,
   "id": "0a001eca",
   "metadata": {},
   "outputs": [],
   "source": [
    "import os\n",
    "import pandas as pd \n",
    "import matplotlib.pyplot as plt\n",
    "#plt.rcParams['font.family'] = 'AppleGothic' # 폰트 변경\n",
    "#plt.rcParams['axes.unicode_minus'] = False # 축 값 마이너스 깨짐 해결\n",
    "import numpy as np\n",
    "from torch.nn import Transformer\n",
    "from torch import nn\n",
    "import torch\n",
    "import math\n",
    "from sklearn.model_selection import train_test_split\n",
    "import optuna\n",
    "from sklearn.metrics import mean_absolute_percentage_error ,mean_squared_error"
   ]
  },
  {
   "cell_type": "code",
   "execution_count": 2,
   "id": "84d32bf3",
   "metadata": {},
   "outputs": [],
   "source": [
    "path = '~/workplace/datas/energy/'\n",
    "#path = '~/Desktop/workplace/datas/energy/'"
   ]
  },
  {
   "cell_type": "code",
   "execution_count": 45,
   "id": "60e7f4bb",
   "metadata": {},
   "outputs": [],
   "source": [
    "train_df = pd.read_csv(path + 'encoded_train_df.csv', index_col=0)\n",
    "test_df = pd.read_csv(path + 'encoded_test_df.csv', index_col=0)"
   ]
  },
  {
   "cell_type": "code",
   "execution_count": 46,
   "id": "bf162c3f",
   "metadata": {},
   "outputs": [],
   "source": [
    "X = train_df.iloc[:, :-1]\n",
    "X.drop(['5분전_현재수요(MW)', '1시간전_현재수요(MW)'], axis=1, inplace=True)\n",
    "y = train_df.iloc[:, -1]"
   ]
  },
  {
   "cell_type": "code",
   "execution_count": 47,
   "id": "dac5f14d",
   "metadata": {},
   "outputs": [],
   "source": [
    "X_test = test_df.iloc[:, :-1]\n",
    "X_test.drop(['5분전_현재수요(MW)', '1시간전_현재수요(MW)'], axis=1, inplace=True)\n",
    "y_test = test_df.iloc[:, -1]"
   ]
  },
  {
   "cell_type": "code",
   "execution_count": 48,
   "id": "16e4fa5a",
   "metadata": {},
   "outputs": [
    {
     "data": {
      "text/plain": [
       "((546035, 17), (546035,), (2016, 17), (2016,))"
      ]
     },
     "execution_count": 48,
     "metadata": {},
     "output_type": "execute_result"
    }
   ],
   "source": [
    "X.shape, y.shape, X_test.shape, y_test.shape"
   ]
  },
  {
   "cell_type": "markdown",
   "id": "bcbf52c2",
   "metadata": {},
   "source": [
    "# mRMR"
   ]
  },
  {
   "cell_type": "code",
   "execution_count": 49,
   "id": "915596f9",
   "metadata": {},
   "outputs": [
    {
     "name": "stderr",
     "output_type": "stream",
     "text": [
      "100%|███████████████████████████████████████████| 17/17 [00:18<00:00,  1.12s/it]\n"
     ]
    }
   ],
   "source": [
    "#mRMR\n",
    "from mrmr import mrmr_classif, mrmr_regression\n",
    "selected_features = mrmr_regression(X=X, y=y, K=20, return_scores=True)"
   ]
  },
  {
   "cell_type": "code",
   "execution_count": 50,
   "id": "2db2f2b0",
   "metadata": {},
   "outputs": [
    {
     "data": {
      "text/plain": [
       "(['하루전_현재수요(MW)',\n",
       "  'Hour',\n",
       "  '휴일',\n",
       "  '적설(cm)',\n",
       "  'smp(원/kWh)',\n",
       "  '풍속(m/s)',\n",
       "  '습도(%)',\n",
       "  '일조(hr)',\n",
       "  '발전량',\n",
       "  '현지기압(hPa)',\n",
       "  'Year',\n",
       "  'Month',\n",
       "  '일사(MJ/m2)',\n",
       "  '기온(°C)',\n",
       "  'Day',\n",
       "  '지면온도(°C)',\n",
       "  '강수량(mm)'],\n",
       " Year              2860.884640\n",
       " Month             1682.232189\n",
       " Day                151.384261\n",
       " Hour             66369.451132\n",
       " 기온(°C)            4006.375704\n",
       " 풍속(m/s)          22691.984785\n",
       " 습도(%)            25356.101253\n",
       " 현지기압(hPa)         3340.531774\n",
       " 지면온도(°C)           871.292241\n",
       " 강수량(mm)             44.465668\n",
       " 적설(cm)           42858.655050\n",
       " 일조(hr)           12527.003168\n",
       " 일사(MJ/m2)         6372.065627\n",
       " smp(원/kWh)       43467.539457\n",
       " 발전량               8353.840599\n",
       " 휴일               27191.463755\n",
       " 하루전_현재수요(MW)    783073.146561\n",
       " dtype: float64,\n",
       "                   Year     Month       Day      Hour    기온(°C)   풍속(m/s)  \\\n",
       " Year          0.001000  0.001000  0.001000  0.001000  0.001000  0.020105   \n",
       " Month         0.099795  0.001000  0.001000  0.001000  0.001000  0.139199   \n",
       " Day           0.017080  0.016957  0.001000  0.001000  0.013102  0.011445   \n",
       " Hour          0.001000  0.001000  0.001000  0.001000  0.001000  0.001000   \n",
       " 기온(°C)        0.071179  0.268052  0.001000  0.133680  0.001000  0.001500   \n",
       " 풍속(m/s)       0.001000  0.001000  0.001000  0.206853  0.001000  0.001000   \n",
       " 습도(%)         0.001000  0.001000  0.001000  0.282573  0.001000  0.521797   \n",
       " 현지기압(hPa)     0.001000  0.001000  0.001000  0.030694  0.001000  0.113810   \n",
       " 지면온도(°C)      0.063585  0.222380  0.014141  0.127988  0.954449  0.117742   \n",
       " 강수량(mm)       0.031141  0.047751  0.023902  0.019174  0.176015  0.136316   \n",
       " 적설(cm)        0.001000  0.001000  0.001000  0.014286  0.001000  0.001000   \n",
       " 일조(hr)        0.001000  0.001000  0.001000  0.117313  0.001000  0.423564   \n",
       " 일사(MJ/m2)     0.046457  0.040986  0.001000  0.105565  0.001000  0.443735   \n",
       " smp(원/kWh)    0.001000  0.001000  0.001000  0.070737  0.001000  0.001000   \n",
       " 발전량           0.001000  0.001000  0.001000  0.132062  0.001000  0.270204   \n",
       " 휴일            0.001000  0.001000  0.001000  0.001000  0.001000  0.001000   \n",
       " 하루전_현재수요(MW)  0.001000  0.001000  0.001000  0.001000  0.001000  0.001000   \n",
       " \n",
       "                  습도(%)  현지기압(hPa)  지면온도(°C)  강수량(mm)    적설(cm)    일조(hr)  \\\n",
       " Year          0.027105   0.086845  0.001000    0.001  0.153311  0.006556   \n",
       " Month         0.225789   0.044018  0.001000    0.001  0.121878  0.042625   \n",
       " Day           0.017145   0.028610  0.001000    0.001  0.014542  0.003355   \n",
       " Hour          0.001000   0.001000  0.001000    0.001  0.001000  0.001000   \n",
       " 기온(°C)        0.245305   0.751732  0.001000    0.001  0.435158  0.194546   \n",
       " 풍속(m/s)       0.001000   0.001000  0.001000    0.001  0.121915  0.001000   \n",
       " 습도(%)         0.001000   0.001000  0.001000    0.001  0.127706  0.001000   \n",
       " 현지기압(hPa)     0.377654   0.001000  0.001000    0.001  0.256266  0.055693   \n",
       " 지면온도(°C)      0.072605   0.685185  0.001000    0.001  0.356081  0.389222   \n",
       " 강수량(mm)       0.296025   0.298809  0.124639    0.001  0.053228  0.162718   \n",
       " 적설(cm)        0.001000   0.001000  0.001000    0.001  0.001000  0.001000   \n",
       " 일조(hr)        0.654043   0.001000  0.001000    0.001  0.009132  0.001000   \n",
       " 일사(MJ/m2)     0.562017   0.092448  0.001000    0.001  0.061007  0.874509   \n",
       " smp(원/kWh)    0.001000   0.001000  0.001000    0.001  0.205400  0.001000   \n",
       " 발전량           0.385076   0.001000  0.001000    0.001  0.064625  0.609132   \n",
       " 휴일            0.001000   0.001000  0.001000    0.001  0.001000  0.001000   \n",
       " 하루전_현재수요(MW)  0.001000   0.001000  0.001000    0.001  0.001000  0.001000   \n",
       " \n",
       "               일사(MJ/m2)  smp(원/kWh)       발전량        휴일  하루전_현재수요(MW)  \n",
       " Year           0.001000    0.624956  0.095034  0.018099      0.074696  \n",
       " Month          0.001000    0.005128  0.014550  0.023439      0.060962  \n",
       " Day            0.001000    0.014108  0.011442  0.108593      0.026458  \n",
       " Hour           0.001000    0.001000  0.001000  0.001000      0.329117  \n",
       " 기온(°C)         0.341236    0.189919  0.238539  0.002870      0.076812  \n",
       " 풍속(m/s)        0.001000    0.024955  0.001000  0.017743      0.186582  \n",
       " 습도(%)          0.001000    0.127920  0.001000  0.002392      0.220529  \n",
       " 현지기압(hPa)      0.001000    0.198596  0.047204  0.019453      0.080880  \n",
       " 지면온도(°C)       0.569081    0.170428  0.368227  0.004710      0.031873  \n",
       " 강수량(mm)        0.105517    0.053892  0.089131  0.009705      0.016231  \n",
       " 적설(cm)         0.001000    0.001000  0.001000  0.021120      0.261371  \n",
       " 일조(hr)         0.001000    0.026997  0.001000  0.004084      0.186839  \n",
       " 일사(MJ/m2)      0.001000    0.021912  0.622225  0.001180      0.136163  \n",
       " smp(원/kWh)     0.001000    0.001000  0.001000  0.040893      0.243379  \n",
       " 발전량            0.001000    0.156187  0.001000  0.002731      0.145848  \n",
       " 휴일             0.001000    0.001000  0.001000  0.001000      0.142630  \n",
       " 하루전_현재수요(MW)   0.001000    0.001000  0.001000  0.001000      0.001000  )"
      ]
     },
     "execution_count": 50,
     "metadata": {},
     "output_type": "execute_result"
    }
   ],
   "source": [
    "selected_features"
   ]
  },
  {
   "cell_type": "code",
   "execution_count": 51,
   "id": "bdd9fb74",
   "metadata": {},
   "outputs": [],
   "source": [
    "mrmr = []\n",
    "\n",
    "for i , j in enumerate(selected_features[0]):\n",
    "    mrmr.append([(i+1),j])"
   ]
  },
  {
   "cell_type": "code",
   "execution_count": 52,
   "id": "ca739cae",
   "metadata": {},
   "outputs": [],
   "source": [
    "mrmr = pd.DataFrame(mrmr, columns=['rank', 'features'])"
   ]
  },
  {
   "cell_type": "code",
   "execution_count": 53,
   "id": "21c696da",
   "metadata": {},
   "outputs": [
    {
     "data": {
      "text/html": [
       "<div>\n",
       "<style scoped>\n",
       "    .dataframe tbody tr th:only-of-type {\n",
       "        vertical-align: middle;\n",
       "    }\n",
       "\n",
       "    .dataframe tbody tr th {\n",
       "        vertical-align: top;\n",
       "    }\n",
       "\n",
       "    .dataframe thead th {\n",
       "        text-align: right;\n",
       "    }\n",
       "</style>\n",
       "<table border=\"1\" class=\"dataframe\">\n",
       "  <thead>\n",
       "    <tr style=\"text-align: right;\">\n",
       "      <th></th>\n",
       "      <th>rank</th>\n",
       "      <th>features</th>\n",
       "    </tr>\n",
       "  </thead>\n",
       "  <tbody>\n",
       "    <tr>\n",
       "      <th>0</th>\n",
       "      <td>1</td>\n",
       "      <td>하루전_현재수요(MW)</td>\n",
       "    </tr>\n",
       "    <tr>\n",
       "      <th>1</th>\n",
       "      <td>2</td>\n",
       "      <td>Hour</td>\n",
       "    </tr>\n",
       "    <tr>\n",
       "      <th>2</th>\n",
       "      <td>3</td>\n",
       "      <td>휴일</td>\n",
       "    </tr>\n",
       "    <tr>\n",
       "      <th>3</th>\n",
       "      <td>4</td>\n",
       "      <td>적설(cm)</td>\n",
       "    </tr>\n",
       "    <tr>\n",
       "      <th>4</th>\n",
       "      <td>5</td>\n",
       "      <td>smp(원/kWh)</td>\n",
       "    </tr>\n",
       "    <tr>\n",
       "      <th>5</th>\n",
       "      <td>6</td>\n",
       "      <td>풍속(m/s)</td>\n",
       "    </tr>\n",
       "    <tr>\n",
       "      <th>6</th>\n",
       "      <td>7</td>\n",
       "      <td>습도(%)</td>\n",
       "    </tr>\n",
       "    <tr>\n",
       "      <th>7</th>\n",
       "      <td>8</td>\n",
       "      <td>일조(hr)</td>\n",
       "    </tr>\n",
       "    <tr>\n",
       "      <th>8</th>\n",
       "      <td>9</td>\n",
       "      <td>발전량</td>\n",
       "    </tr>\n",
       "    <tr>\n",
       "      <th>9</th>\n",
       "      <td>10</td>\n",
       "      <td>현지기압(hPa)</td>\n",
       "    </tr>\n",
       "    <tr>\n",
       "      <th>10</th>\n",
       "      <td>11</td>\n",
       "      <td>Year</td>\n",
       "    </tr>\n",
       "    <tr>\n",
       "      <th>11</th>\n",
       "      <td>12</td>\n",
       "      <td>Month</td>\n",
       "    </tr>\n",
       "    <tr>\n",
       "      <th>12</th>\n",
       "      <td>13</td>\n",
       "      <td>일사(MJ/m2)</td>\n",
       "    </tr>\n",
       "    <tr>\n",
       "      <th>13</th>\n",
       "      <td>14</td>\n",
       "      <td>기온(°C)</td>\n",
       "    </tr>\n",
       "    <tr>\n",
       "      <th>14</th>\n",
       "      <td>15</td>\n",
       "      <td>Day</td>\n",
       "    </tr>\n",
       "    <tr>\n",
       "      <th>15</th>\n",
       "      <td>16</td>\n",
       "      <td>지면온도(°C)</td>\n",
       "    </tr>\n",
       "    <tr>\n",
       "      <th>16</th>\n",
       "      <td>17</td>\n",
       "      <td>강수량(mm)</td>\n",
       "    </tr>\n",
       "  </tbody>\n",
       "</table>\n",
       "</div>"
      ],
      "text/plain": [
       "    rank      features\n",
       "0      1  하루전_현재수요(MW)\n",
       "1      2          Hour\n",
       "2      3            휴일\n",
       "3      4        적설(cm)\n",
       "4      5    smp(원/kWh)\n",
       "5      6       풍속(m/s)\n",
       "6      7         습도(%)\n",
       "7      8        일조(hr)\n",
       "8      9           발전량\n",
       "9     10     현지기압(hPa)\n",
       "10    11          Year\n",
       "11    12         Month\n",
       "12    13     일사(MJ/m2)\n",
       "13    14        기온(°C)\n",
       "14    15           Day\n",
       "15    16      지면온도(°C)\n",
       "16    17       강수량(mm)"
      ]
     },
     "execution_count": 53,
     "metadata": {},
     "output_type": "execute_result"
    }
   ],
   "source": [
    "mrmr"
   ]
  },
  {
   "cell_type": "markdown",
   "id": "7250c15f",
   "metadata": {},
   "source": [
    "# SAHP"
   ]
  },
  {
   "cell_type": "code",
   "execution_count": 54,
   "id": "2ede447a",
   "metadata": {},
   "outputs": [
    {
     "data": {
      "image/png": "[encoded data removed]",
      "text/plain": [
       "<Figure size 800x830 with 2 Axes>"
      ]
     },
     "metadata": {},
     "output_type": "display_data"
    }
   ],
   "source": [
    "import shap\n",
    "import lightgbm as lgb\n",
    "\n",
    "model = lgb.LGBMRegressor()\n",
    "model.fit(X, y)\n",
    "\n",
    "\n",
    "explainer = shap.Explainer(model)\n",
    "\n",
    "\n",
    "\n",
    "shap_values = explainer.shap_values(X)\n",
    "\n",
    "shap.summary_plot(shap_values, X)"
   ]
  },
  {
   "cell_type": "code",
   "execution_count": 55,
   "id": "83646334",
   "metadata": {},
   "outputs": [
    {
     "data": {
      "image/png": "[encoded data removed]",
      "text/plain": [
       "<Figure size 640x480 with 1 Axes>"
      ]
     },
     "metadata": {},
     "output_type": "display_data"
    }
   ],
   "source": [
    "shap.bar_plot(shap_values[0])"
   ]
  },
  {
   "cell_type": "code",
   "execution_count": 56,
   "id": "59346e5d",
   "metadata": {},
   "outputs": [
    {
     "name": "stdout",
     "output_type": "stream",
     "text": [
      "Year: 719.313814712678\n",
      "Month: 542.650949205574\n",
      "Day: 77.04384260414355\n",
      "Hour: 1000.9766935109452\n",
      "기온(°C): 1106.7750976267416\n",
      "풍속(m/s): 76.86485513611495\n",
      "습도(%): 79.58238694273108\n",
      "현지기압(hPa): 84.53280097790875\n",
      "지면온도(°C): 153.71255804031412\n",
      "강수량(mm): 180.35373807191087\n",
      "적설(cm): 237.76292465430305\n",
      "일조(hr): 346.44804487159405\n",
      "일사(MJ/m2): 362.93868823402585\n",
      "smp(원/kWh): 1626.1287881065525\n",
      "발전량: 106.7906934845639\n",
      "휴일: 471.5528616848872\n",
      "하루전_현재수요(MW): 3929.752665554796\n"
     ]
    }
   ],
   "source": [
    "import numpy as np\n",
    "\n",
    "# Calculate mean absolute SHAP values\n",
    "mean_shap_values = np.mean(np.abs(shap_values), axis=0)\n",
    "\n",
    "# Print feature importance\n",
    "shap = []\n",
    "for feature_name, mean_value in zip(X.keys(), mean_shap_values):\n",
    "    print(f\"{feature_name}: {mean_value}\")\n",
    "    shap.append([mean_value,feature_name])\n"
   ]
  },
  {
   "cell_type": "code",
   "execution_count": 57,
   "id": "b2ae0ffd",
   "metadata": {},
   "outputs": [],
   "source": [
    "shap = pd.DataFrame(shap, columns=['value', 'features'])"
   ]
  },
  {
   "cell_type": "code",
   "execution_count": 58,
   "id": "d17efac0",
   "metadata": {},
   "outputs": [],
   "source": [
    "shap.sort_values('value', ascending=False, inplace=True)"
   ]
  },
  {
   "cell_type": "code",
   "execution_count": 59,
   "id": "bc424ec2",
   "metadata": {},
   "outputs": [],
   "source": [
    "shap['rank'] = [i for i in range(1, len(shap) + 1)]"
   ]
  },
  {
   "cell_type": "code",
   "execution_count": 60,
   "id": "dcf8d6a0",
   "metadata": {},
   "outputs": [],
   "source": [
    "shap.rename(columns={'rank':'shap_rank'}, inplace=True)"
   ]
  },
  {
   "cell_type": "code",
   "execution_count": 61,
   "id": "75327ed1",
   "metadata": {
    "scrolled": true
   },
   "outputs": [],
   "source": [
    "mrmr.set_index(['features'], inplace=True)\n",
    "shap.set_index(['features'], inplace=True)"
   ]
  },
  {
   "cell_type": "code",
   "execution_count": 62,
   "id": "536fdf98",
   "metadata": {},
   "outputs": [
    {
     "data": {
      "text/html": [
       "<div>\n",
       "<style scoped>\n",
       "    .dataframe tbody tr th:only-of-type {\n",
       "        vertical-align: middle;\n",
       "    }\n",
       "\n",
       "    .dataframe tbody tr th {\n",
       "        vertical-align: top;\n",
       "    }\n",
       "\n",
       "    .dataframe thead th {\n",
       "        text-align: right;\n",
       "    }\n",
       "</style>\n",
       "<table border=\"1\" class=\"dataframe\">\n",
       "  <thead>\n",
       "    <tr style=\"text-align: right;\">\n",
       "      <th></th>\n",
       "      <th>value</th>\n",
       "      <th>shap_rank</th>\n",
       "    </tr>\n",
       "    <tr>\n",
       "      <th>features</th>\n",
       "      <th></th>\n",
       "      <th></th>\n",
       "    </tr>\n",
       "  </thead>\n",
       "  <tbody>\n",
       "    <tr>\n",
       "      <th>하루전_현재수요(MW)</th>\n",
       "      <td>3929.752666</td>\n",
       "      <td>1</td>\n",
       "    </tr>\n",
       "    <tr>\n",
       "      <th>smp(원/kWh)</th>\n",
       "      <td>1626.128788</td>\n",
       "      <td>2</td>\n",
       "    </tr>\n",
       "    <tr>\n",
       "      <th>기온(°C)</th>\n",
       "      <td>1106.775098</td>\n",
       "      <td>3</td>\n",
       "    </tr>\n",
       "    <tr>\n",
       "      <th>Hour</th>\n",
       "      <td>1000.976694</td>\n",
       "      <td>4</td>\n",
       "    </tr>\n",
       "    <tr>\n",
       "      <th>Year</th>\n",
       "      <td>719.313815</td>\n",
       "      <td>5</td>\n",
       "    </tr>\n",
       "    <tr>\n",
       "      <th>Month</th>\n",
       "      <td>542.650949</td>\n",
       "      <td>6</td>\n",
       "    </tr>\n",
       "    <tr>\n",
       "      <th>휴일</th>\n",
       "      <td>471.552862</td>\n",
       "      <td>7</td>\n",
       "    </tr>\n",
       "    <tr>\n",
       "      <th>일사(MJ/m2)</th>\n",
       "      <td>362.938688</td>\n",
       "      <td>8</td>\n",
       "    </tr>\n",
       "    <tr>\n",
       "      <th>일조(hr)</th>\n",
       "      <td>346.448045</td>\n",
       "      <td>9</td>\n",
       "    </tr>\n",
       "    <tr>\n",
       "      <th>적설(cm)</th>\n",
       "      <td>237.762925</td>\n",
       "      <td>10</td>\n",
       "    </tr>\n",
       "    <tr>\n",
       "      <th>강수량(mm)</th>\n",
       "      <td>180.353738</td>\n",
       "      <td>11</td>\n",
       "    </tr>\n",
       "    <tr>\n",
       "      <th>지면온도(°C)</th>\n",
       "      <td>153.712558</td>\n",
       "      <td>12</td>\n",
       "    </tr>\n",
       "    <tr>\n",
       "      <th>발전량</th>\n",
       "      <td>106.790693</td>\n",
       "      <td>13</td>\n",
       "    </tr>\n",
       "    <tr>\n",
       "      <th>현지기압(hPa)</th>\n",
       "      <td>84.532801</td>\n",
       "      <td>14</td>\n",
       "    </tr>\n",
       "    <tr>\n",
       "      <th>습도(%)</th>\n",
       "      <td>79.582387</td>\n",
       "      <td>15</td>\n",
       "    </tr>\n",
       "    <tr>\n",
       "      <th>Day</th>\n",
       "      <td>77.043843</td>\n",
       "      <td>16</td>\n",
       "    </tr>\n",
       "    <tr>\n",
       "      <th>풍속(m/s)</th>\n",
       "      <td>76.864855</td>\n",
       "      <td>17</td>\n",
       "    </tr>\n",
       "  </tbody>\n",
       "</table>\n",
       "</div>"
      ],
      "text/plain": [
       "                    value  shap_rank\n",
       "features                            \n",
       "하루전_현재수요(MW)  3929.752666          1\n",
       "smp(원/kWh)    1626.128788          2\n",
       "기온(°C)        1106.775098          3\n",
       "Hour          1000.976694          4\n",
       "Year           719.313815          5\n",
       "Month          542.650949          6\n",
       "휴일             471.552862          7\n",
       "일사(MJ/m2)      362.938688          8\n",
       "일조(hr)         346.448045          9\n",
       "적설(cm)         237.762925         10\n",
       "강수량(mm)        180.353738         11\n",
       "지면온도(°C)       153.712558         12\n",
       "발전량            106.790693         13\n",
       "현지기압(hPa)       84.532801         14\n",
       "습도(%)           79.582387         15\n",
       "Day             77.043843         16\n",
       "풍속(m/s)         76.864855         17"
      ]
     },
     "execution_count": 62,
     "metadata": {},
     "output_type": "execute_result"
    }
   ],
   "source": [
    "shap"
   ]
  },
  {
   "cell_type": "code",
   "execution_count": 63,
   "id": "09306c9e",
   "metadata": {},
   "outputs": [],
   "source": [
    "merge_df = pd.merge(mrmr, shap, left_index=True, right_index=True)\n",
    "merge_df.drop('value', axis=1, inplace=True)"
   ]
  },
  {
   "cell_type": "code",
   "execution_count": 64,
   "id": "2c5ea5c2",
   "metadata": {},
   "outputs": [],
   "source": [
    "merge_df['sum'] = (merge_df['rank'] ** 2) + (merge_df['shap_rank'] **2)"
   ]
  },
  {
   "cell_type": "code",
   "execution_count": 65,
   "id": "bbc0c4e7",
   "metadata": {},
   "outputs": [],
   "source": [
    "merge_df.sort_values('sum', ascending=True, inplace=True)"
   ]
  },
  {
   "cell_type": "code",
   "execution_count": 66,
   "id": "e68a03b8",
   "metadata": {},
   "outputs": [
    {
     "data": {
      "text/html": [
       "<div>\n",
       "<style scoped>\n",
       "    .dataframe tbody tr th:only-of-type {\n",
       "        vertical-align: middle;\n",
       "    }\n",
       "\n",
       "    .dataframe tbody tr th {\n",
       "        vertical-align: top;\n",
       "    }\n",
       "\n",
       "    .dataframe thead th {\n",
       "        text-align: right;\n",
       "    }\n",
       "</style>\n",
       "<table border=\"1\" class=\"dataframe\">\n",
       "  <thead>\n",
       "    <tr style=\"text-align: right;\">\n",
       "      <th></th>\n",
       "      <th>rank</th>\n",
       "      <th>shap_rank</th>\n",
       "      <th>sum</th>\n",
       "    </tr>\n",
       "    <tr>\n",
       "      <th>features</th>\n",
       "      <th></th>\n",
       "      <th></th>\n",
       "      <th></th>\n",
       "    </tr>\n",
       "  </thead>\n",
       "  <tbody>\n",
       "    <tr>\n",
       "      <th>하루전_현재수요(MW)</th>\n",
       "      <td>1</td>\n",
       "      <td>1</td>\n",
       "      <td>2</td>\n",
       "    </tr>\n",
       "    <tr>\n",
       "      <th>Hour</th>\n",
       "      <td>2</td>\n",
       "      <td>4</td>\n",
       "      <td>20</td>\n",
       "    </tr>\n",
       "    <tr>\n",
       "      <th>smp(원/kWh)</th>\n",
       "      <td>5</td>\n",
       "      <td>2</td>\n",
       "      <td>29</td>\n",
       "    </tr>\n",
       "    <tr>\n",
       "      <th>휴일</th>\n",
       "      <td>3</td>\n",
       "      <td>7</td>\n",
       "      <td>58</td>\n",
       "    </tr>\n",
       "    <tr>\n",
       "      <th>적설(cm)</th>\n",
       "      <td>4</td>\n",
       "      <td>10</td>\n",
       "      <td>116</td>\n",
       "    </tr>\n",
       "    <tr>\n",
       "      <th>일조(hr)</th>\n",
       "      <td>8</td>\n",
       "      <td>9</td>\n",
       "      <td>145</td>\n",
       "    </tr>\n",
       "    <tr>\n",
       "      <th>Year</th>\n",
       "      <td>11</td>\n",
       "      <td>5</td>\n",
       "      <td>146</td>\n",
       "    </tr>\n",
       "    <tr>\n",
       "      <th>Month</th>\n",
       "      <td>12</td>\n",
       "      <td>6</td>\n",
       "      <td>180</td>\n",
       "    </tr>\n",
       "    <tr>\n",
       "      <th>기온(°C)</th>\n",
       "      <td>14</td>\n",
       "      <td>3</td>\n",
       "      <td>205</td>\n",
       "    </tr>\n",
       "    <tr>\n",
       "      <th>일사(MJ/m2)</th>\n",
       "      <td>13</td>\n",
       "      <td>8</td>\n",
       "      <td>233</td>\n",
       "    </tr>\n",
       "    <tr>\n",
       "      <th>발전량</th>\n",
       "      <td>9</td>\n",
       "      <td>13</td>\n",
       "      <td>250</td>\n",
       "    </tr>\n",
       "    <tr>\n",
       "      <th>습도(%)</th>\n",
       "      <td>7</td>\n",
       "      <td>15</td>\n",
       "      <td>274</td>\n",
       "    </tr>\n",
       "    <tr>\n",
       "      <th>현지기압(hPa)</th>\n",
       "      <td>10</td>\n",
       "      <td>14</td>\n",
       "      <td>296</td>\n",
       "    </tr>\n",
       "    <tr>\n",
       "      <th>풍속(m/s)</th>\n",
       "      <td>6</td>\n",
       "      <td>17</td>\n",
       "      <td>325</td>\n",
       "    </tr>\n",
       "    <tr>\n",
       "      <th>지면온도(°C)</th>\n",
       "      <td>16</td>\n",
       "      <td>12</td>\n",
       "      <td>400</td>\n",
       "    </tr>\n",
       "    <tr>\n",
       "      <th>강수량(mm)</th>\n",
       "      <td>17</td>\n",
       "      <td>11</td>\n",
       "      <td>410</td>\n",
       "    </tr>\n",
       "    <tr>\n",
       "      <th>Day</th>\n",
       "      <td>15</td>\n",
       "      <td>16</td>\n",
       "      <td>481</td>\n",
       "    </tr>\n",
       "  </tbody>\n",
       "</table>\n",
       "</div>"
      ],
      "text/plain": [
       "              rank  shap_rank  sum\n",
       "features                          \n",
       "하루전_현재수요(MW)     1          1    2\n",
       "Hour             2          4   20\n",
       "smp(원/kWh)       5          2   29\n",
       "휴일               3          7   58\n",
       "적설(cm)           4         10  116\n",
       "일조(hr)           8          9  145\n",
       "Year            11          5  146\n",
       "Month           12          6  180\n",
       "기온(°C)          14          3  205\n",
       "일사(MJ/m2)       13          8  233\n",
       "발전량              9         13  250\n",
       "습도(%)            7         15  274\n",
       "현지기압(hPa)       10         14  296\n",
       "풍속(m/s)          6         17  325\n",
       "지면온도(°C)        16         12  400\n",
       "강수량(mm)         17         11  410\n",
       "Day             15         16  481"
      ]
     },
     "execution_count": 66,
     "metadata": {},
     "output_type": "execute_result"
    }
   ],
   "source": [
    "merge_df"
   ]
  },
  {
   "cell_type": "markdown",
   "id": "1e1c4875",
   "metadata": {},
   "source": [
    "# 인덱스 순위"
   ]
  },
  {
   "cell_type": "code",
   "execution_count": 67,
   "id": "f96daabb",
   "metadata": {},
   "outputs": [
    {
     "data": {
      "text/plain": [
       "Index(['하루전_현재수요(MW)', 'Hour', 'smp(원/kWh)', '휴일', '적설(cm)', '일조(hr)', 'Year',\n",
       "       'Month', '기온(°C)', '일사(MJ/m2)', '발전량', '습도(%)', '현지기압(hPa)', '풍속(m/s)',\n",
       "       '지면온도(°C)', '강수량(mm)', 'Day'],\n",
       "      dtype='object', name='features')"
      ]
     },
     "execution_count": 67,
     "metadata": {},
     "output_type": "execute_result"
    }
   ],
   "source": [
    "merge_df.index"
   ]
  },
  {
   "cell_type": "code",
   "execution_count": 68,
   "id": "1610446c",
   "metadata": {},
   "outputs": [],
   "source": [
    "index = ['하루전_현재수요(MW)', 'Hour', 'smp(원/kWh)', '휴일', '적설(cm)', '일조(hr)', 'Year',\n",
    "       'Month', '기온(°C)', '일사(MJ/m2)', '발전량', '습도(%)', '현지기압(hPa)', '풍속(m/s)',\n",
    "       '지면온도(°C)', '강수량(mm)']"
   ]
  },
  {
   "cell_type": "code",
   "execution_count": 69,
   "id": "71a7c9fa",
   "metadata": {},
   "outputs": [
    {
     "data": {
      "text/html": [
       "<div>\n",
       "<style scoped>\n",
       "    .dataframe tbody tr th:only-of-type {\n",
       "        vertical-align: middle;\n",
       "    }\n",
       "\n",
       "    .dataframe tbody tr th {\n",
       "        vertical-align: top;\n",
       "    }\n",
       "\n",
       "    .dataframe thead th {\n",
       "        text-align: right;\n",
       "    }\n",
       "</style>\n",
       "<table border=\"1\" class=\"dataframe\">\n",
       "  <thead>\n",
       "    <tr style=\"text-align: right;\">\n",
       "      <th></th>\n",
       "      <th>하루전_현재수요(MW)</th>\n",
       "      <th>Hour</th>\n",
       "      <th>smp(원/kWh)</th>\n",
       "      <th>휴일</th>\n",
       "      <th>적설(cm)</th>\n",
       "      <th>일조(hr)</th>\n",
       "      <th>Year</th>\n",
       "      <th>Month</th>\n",
       "      <th>기온(°C)</th>\n",
       "      <th>일사(MJ/m2)</th>\n",
       "      <th>발전량</th>\n",
       "      <th>습도(%)</th>\n",
       "      <th>현지기압(hPa)</th>\n",
       "      <th>풍속(m/s)</th>\n",
       "      <th>지면온도(°C)</th>\n",
       "      <th>강수량(mm)</th>\n",
       "    </tr>\n",
       "    <tr>\n",
       "      <th>일시</th>\n",
       "      <th></th>\n",
       "      <th></th>\n",
       "      <th></th>\n",
       "      <th></th>\n",
       "      <th></th>\n",
       "      <th></th>\n",
       "      <th></th>\n",
       "      <th></th>\n",
       "      <th></th>\n",
       "      <th></th>\n",
       "      <th></th>\n",
       "      <th></th>\n",
       "      <th></th>\n",
       "      <th></th>\n",
       "      <th></th>\n",
       "      <th></th>\n",
       "    </tr>\n",
       "  </thead>\n",
       "  <tbody>\n",
       "    <tr>\n",
       "      <th>2018-01-02 01:05:00</th>\n",
       "      <td>58194.60</td>\n",
       "      <td>1</td>\n",
       "      <td>91.991667</td>\n",
       "      <td>0</td>\n",
       "      <td>0.022105</td>\n",
       "      <td>0.0</td>\n",
       "      <td>2018</td>\n",
       "      <td>1</td>\n",
       "      <td>-2.955526</td>\n",
       "      <td>0.0</td>\n",
       "      <td>5246.400000</td>\n",
       "      <td>67.514912</td>\n",
       "      <td>1015.174211</td>\n",
       "      <td>1.016140</td>\n",
       "      <td>-3.007807</td>\n",
       "      <td>0.000000</td>\n",
       "    </tr>\n",
       "    <tr>\n",
       "      <th>2018-01-02 01:10:00</th>\n",
       "      <td>57830.60</td>\n",
       "      <td>1</td>\n",
       "      <td>91.723333</td>\n",
       "      <td>0</td>\n",
       "      <td>0.022105</td>\n",
       "      <td>0.0</td>\n",
       "      <td>2018</td>\n",
       "      <td>1</td>\n",
       "      <td>-2.994211</td>\n",
       "      <td>0.0</td>\n",
       "      <td>5246.400000</td>\n",
       "      <td>67.735088</td>\n",
       "      <td>1015.189474</td>\n",
       "      <td>1.009123</td>\n",
       "      <td>-3.031404</td>\n",
       "      <td>0.000000</td>\n",
       "    </tr>\n",
       "    <tr>\n",
       "      <th>2018-01-02 01:15:00</th>\n",
       "      <td>57745.30</td>\n",
       "      <td>1</td>\n",
       "      <td>91.455000</td>\n",
       "      <td>0</td>\n",
       "      <td>0.022105</td>\n",
       "      <td>0.0</td>\n",
       "      <td>2018</td>\n",
       "      <td>1</td>\n",
       "      <td>-3.032895</td>\n",
       "      <td>0.0</td>\n",
       "      <td>10428.000000</td>\n",
       "      <td>67.955263</td>\n",
       "      <td>1015.204737</td>\n",
       "      <td>1.002105</td>\n",
       "      <td>-3.055000</td>\n",
       "      <td>0.000000</td>\n",
       "    </tr>\n",
       "    <tr>\n",
       "      <th>2018-01-02 01:20:00</th>\n",
       "      <td>57329.60</td>\n",
       "      <td>1</td>\n",
       "      <td>91.186667</td>\n",
       "      <td>0</td>\n",
       "      <td>0.022105</td>\n",
       "      <td>0.0</td>\n",
       "      <td>2018</td>\n",
       "      <td>1</td>\n",
       "      <td>-3.071579</td>\n",
       "      <td>0.0</td>\n",
       "      <td>5731.200000</td>\n",
       "      <td>68.175439</td>\n",
       "      <td>1015.220000</td>\n",
       "      <td>0.995088</td>\n",
       "      <td>-3.078596</td>\n",
       "      <td>0.000000</td>\n",
       "    </tr>\n",
       "    <tr>\n",
       "      <th>2018-01-02 01:25:00</th>\n",
       "      <td>57219.70</td>\n",
       "      <td>1</td>\n",
       "      <td>90.918333</td>\n",
       "      <td>0</td>\n",
       "      <td>0.022105</td>\n",
       "      <td>0.0</td>\n",
       "      <td>2018</td>\n",
       "      <td>1</td>\n",
       "      <td>-3.110263</td>\n",
       "      <td>0.0</td>\n",
       "      <td>6254.400000</td>\n",
       "      <td>68.395614</td>\n",
       "      <td>1015.235263</td>\n",
       "      <td>0.988070</td>\n",
       "      <td>-3.102193</td>\n",
       "      <td>0.000000</td>\n",
       "    </tr>\n",
       "    <tr>\n",
       "      <th>...</th>\n",
       "      <td>...</td>\n",
       "      <td>...</td>\n",
       "      <td>...</td>\n",
       "      <td>...</td>\n",
       "      <td>...</td>\n",
       "      <td>...</td>\n",
       "      <td>...</td>\n",
       "      <td>...</td>\n",
       "      <td>...</td>\n",
       "      <td>...</td>\n",
       "      <td>...</td>\n",
       "      <td>...</td>\n",
       "      <td>...</td>\n",
       "      <td>...</td>\n",
       "      <td>...</td>\n",
       "      <td>...</td>\n",
       "    </tr>\n",
       "    <tr>\n",
       "      <th>2023-03-12 23:35:00</th>\n",
       "      <td>58773.93</td>\n",
       "      <td>23</td>\n",
       "      <td>220.551667</td>\n",
       "      <td>0</td>\n",
       "      <td>0.011491</td>\n",
       "      <td>0.0</td>\n",
       "      <td>2023</td>\n",
       "      <td>3</td>\n",
       "      <td>1.765000</td>\n",
       "      <td>0.0</td>\n",
       "      <td>39745.380277</td>\n",
       "      <td>46.180702</td>\n",
       "      <td>1010.276667</td>\n",
       "      <td>5.063684</td>\n",
       "      <td>1.134386</td>\n",
       "      <td>0.025482</td>\n",
       "    </tr>\n",
       "    <tr>\n",
       "      <th>2023-03-12 23:40:00</th>\n",
       "      <td>58326.83</td>\n",
       "      <td>23</td>\n",
       "      <td>223.523333</td>\n",
       "      <td>0</td>\n",
       "      <td>0.011930</td>\n",
       "      <td>0.0</td>\n",
       "      <td>2023</td>\n",
       "      <td>3</td>\n",
       "      <td>1.720000</td>\n",
       "      <td>0.0</td>\n",
       "      <td>39745.380277</td>\n",
       "      <td>46.045614</td>\n",
       "      <td>1010.288070</td>\n",
       "      <td>5.050526</td>\n",
       "      <td>1.095088</td>\n",
       "      <td>0.029123</td>\n",
       "    </tr>\n",
       "    <tr>\n",
       "      <th>2023-03-12 23:45:00</th>\n",
       "      <td>58038.45</td>\n",
       "      <td>23</td>\n",
       "      <td>226.495000</td>\n",
       "      <td>0</td>\n",
       "      <td>0.012368</td>\n",
       "      <td>0.0</td>\n",
       "      <td>2023</td>\n",
       "      <td>3</td>\n",
       "      <td>1.675000</td>\n",
       "      <td>0.0</td>\n",
       "      <td>39745.380277</td>\n",
       "      <td>45.910526</td>\n",
       "      <td>1010.299474</td>\n",
       "      <td>5.037368</td>\n",
       "      <td>1.055789</td>\n",
       "      <td>0.032763</td>\n",
       "    </tr>\n",
       "    <tr>\n",
       "      <th>2023-03-12 23:50:00</th>\n",
       "      <td>57825.18</td>\n",
       "      <td>23</td>\n",
       "      <td>229.466667</td>\n",
       "      <td>0</td>\n",
       "      <td>0.012807</td>\n",
       "      <td>0.0</td>\n",
       "      <td>2023</td>\n",
       "      <td>3</td>\n",
       "      <td>1.630000</td>\n",
       "      <td>0.0</td>\n",
       "      <td>39745.380277</td>\n",
       "      <td>45.775439</td>\n",
       "      <td>1010.310877</td>\n",
       "      <td>5.024211</td>\n",
       "      <td>1.016491</td>\n",
       "      <td>0.036404</td>\n",
       "    </tr>\n",
       "    <tr>\n",
       "      <th>2023-03-12 23:55:00</th>\n",
       "      <td>57531.41</td>\n",
       "      <td>23</td>\n",
       "      <td>232.438333</td>\n",
       "      <td>0</td>\n",
       "      <td>0.013246</td>\n",
       "      <td>0.0</td>\n",
       "      <td>2023</td>\n",
       "      <td>3</td>\n",
       "      <td>1.585000</td>\n",
       "      <td>0.0</td>\n",
       "      <td>39745.380277</td>\n",
       "      <td>45.640351</td>\n",
       "      <td>1010.322281</td>\n",
       "      <td>5.011053</td>\n",
       "      <td>0.977193</td>\n",
       "      <td>0.040044</td>\n",
       "    </tr>\n",
       "  </tbody>\n",
       "</table>\n",
       "<p>546035 rows × 16 columns</p>\n",
       "</div>"
      ],
      "text/plain": [
       "                     하루전_현재수요(MW)  Hour  smp(원/kWh)  휴일    적설(cm)  일조(hr)  \\\n",
       "일시                                                                          \n",
       "2018-01-02 01:05:00      58194.60     1   91.991667   0  0.022105     0.0   \n",
       "2018-01-02 01:10:00      57830.60     1   91.723333   0  0.022105     0.0   \n",
       "2018-01-02 01:15:00      57745.30     1   91.455000   0  0.022105     0.0   \n",
       "2018-01-02 01:20:00      57329.60     1   91.186667   0  0.022105     0.0   \n",
       "2018-01-02 01:25:00      57219.70     1   90.918333   0  0.022105     0.0   \n",
       "...                           ...   ...         ...  ..       ...     ...   \n",
       "2023-03-12 23:35:00      58773.93    23  220.551667   0  0.011491     0.0   \n",
       "2023-03-12 23:40:00      58326.83    23  223.523333   0  0.011930     0.0   \n",
       "2023-03-12 23:45:00      58038.45    23  226.495000   0  0.012368     0.0   \n",
       "2023-03-12 23:50:00      57825.18    23  229.466667   0  0.012807     0.0   \n",
       "2023-03-12 23:55:00      57531.41    23  232.438333   0  0.013246     0.0   \n",
       "\n",
       "                     Year  Month    기온(°C)  일사(MJ/m2)           발전량  \\\n",
       "일시                                                                    \n",
       "2018-01-02 01:05:00  2018      1 -2.955526        0.0   5246.400000   \n",
       "2018-01-02 01:10:00  2018      1 -2.994211        0.0   5246.400000   \n",
       "2018-01-02 01:15:00  2018      1 -3.032895        0.0  10428.000000   \n",
       "2018-01-02 01:20:00  2018      1 -3.071579        0.0   5731.200000   \n",
       "2018-01-02 01:25:00  2018      1 -3.110263        0.0   6254.400000   \n",
       "...                   ...    ...       ...        ...           ...   \n",
       "2023-03-12 23:35:00  2023      3  1.765000        0.0  39745.380277   \n",
       "2023-03-12 23:40:00  2023      3  1.720000        0.0  39745.380277   \n",
       "2023-03-12 23:45:00  2023      3  1.675000        0.0  39745.380277   \n",
       "2023-03-12 23:50:00  2023      3  1.630000        0.0  39745.380277   \n",
       "2023-03-12 23:55:00  2023      3  1.585000        0.0  39745.380277   \n",
       "\n",
       "                         습도(%)    현지기압(hPa)   풍속(m/s)  지면온도(°C)   강수량(mm)  \n",
       "일시                                                                         \n",
       "2018-01-02 01:05:00  67.514912  1015.174211  1.016140 -3.007807  0.000000  \n",
       "2018-01-02 01:10:00  67.735088  1015.189474  1.009123 -3.031404  0.000000  \n",
       "2018-01-02 01:15:00  67.955263  1015.204737  1.002105 -3.055000  0.000000  \n",
       "2018-01-02 01:20:00  68.175439  1015.220000  0.995088 -3.078596  0.000000  \n",
       "2018-01-02 01:25:00  68.395614  1015.235263  0.988070 -3.102193  0.000000  \n",
       "...                        ...          ...       ...       ...       ...  \n",
       "2023-03-12 23:35:00  46.180702  1010.276667  5.063684  1.134386  0.025482  \n",
       "2023-03-12 23:40:00  46.045614  1010.288070  5.050526  1.095088  0.029123  \n",
       "2023-03-12 23:45:00  45.910526  1010.299474  5.037368  1.055789  0.032763  \n",
       "2023-03-12 23:50:00  45.775439  1010.310877  5.024211  1.016491  0.036404  \n",
       "2023-03-12 23:55:00  45.640351  1010.322281  5.011053  0.977193  0.040044  \n",
       "\n",
       "[546035 rows x 16 columns]"
      ]
     },
     "execution_count": 69,
     "metadata": {},
     "output_type": "execute_result"
    }
   ],
   "source": [
    "X = X[index]\n",
    "X"
   ]
  },
  {
   "cell_type": "code",
   "execution_count": 70,
   "id": "bb0f8f89",
   "metadata": {},
   "outputs": [],
   "source": [
    "X_test = X_test.reindex(columns=index)\n",
    "\n",
    "X_test = X_test.iloc[:, :]"
   ]
  },
  {
   "cell_type": "code",
   "execution_count": 71,
   "id": "46dddb26",
   "metadata": {},
   "outputs": [
    {
     "data": {
      "text/plain": [
       "((546035, 16), (2016, 16), (546035,), (2016,))"
      ]
     },
     "execution_count": 71,
     "metadata": {},
     "output_type": "execute_result"
    }
   ],
   "source": [
    "X.shape, X_test.shape, y.shape, y_test.shape"
   ]
  },
  {
   "cell_type": "markdown",
   "id": "4267b12d",
   "metadata": {},
   "source": [
    "# XGBoost"
   ]
  },
  {
   "cell_type": "code",
   "execution_count": 72,
   "id": "0a1492ea",
   "metadata": {},
   "outputs": [
    {
     "name": "stderr",
     "output_type": "stream",
     "text": [
      "[I 2023-07-19 22:59:42,244] A new study created in memory with name: no-name-eefec3a3-bb53-4116-8022-1cc9079ee6fe\n",
      "[I 2023-07-19 22:59:42,909] Trial 0 finished with value: 0.7055397006845309 and parameters: {'max_depth': 5, 'eta': 0.033252417136280084, 'gamma': 0.13369962065564878, 'subsample': 0.5446473569603854, 'colsample_bytree': 0.5544038303197135}. Best is trial 0 with value: 0.7055397006845309.\n"
     ]
    },
    {
     "name": "stdout",
     "output_type": "stream",
     "text": [
      "MAPE: 0.7055397006845309\n"
     ]
    },
    {
     "name": "stderr",
     "output_type": "stream",
     "text": [
      "[I 2023-07-19 22:59:43,484] Trial 1 finished with value: 0.6101886391261665 and parameters: {'max_depth': 6, 'eta': 0.046755934756121866, 'gamma': 0.01744577290043236, 'subsample': 0.32453394001274816, 'colsample_bytree': 0.5386818284341481}. Best is trial 1 with value: 0.6101886391261665.\n"
     ]
    },
    {
     "name": "stdout",
     "output_type": "stream",
     "text": [
      "MAPE: 0.6101886391261665\n"
     ]
    },
    {
     "name": "stderr",
     "output_type": "stream",
     "text": [
      "[I 2023-07-19 22:59:43,786] Trial 2 finished with value: 0.8735947374389785 and parameters: {'max_depth': 3, 'eta': 0.012800371063354543, 'gamma': 0.02062431406995861, 'subsample': 0.4852352107594826, 'colsample_bytree': 0.1280069135613403}. Best is trial 1 with value: 0.6101886391261665.\n"
     ]
    },
    {
     "name": "stdout",
     "output_type": "stream",
     "text": [
      "MAPE: 0.8735947374389785\n"
     ]
    },
    {
     "name": "stderr",
     "output_type": "stream",
     "text": [
      "[I 2023-07-19 22:59:44,448] Trial 3 finished with value: 0.6068153709801501 and parameters: {'max_depth': 5, 'eta': 0.04698642433792653, 'gamma': 0.24846363789235337, 'subsample': 0.3953699052983991, 'colsample_bytree': 0.9147080039453559}. Best is trial 3 with value: 0.6068153709801501.\n"
     ]
    },
    {
     "name": "stdout",
     "output_type": "stream",
     "text": [
      "MAPE: 0.6068153709801501\n"
     ]
    },
    {
     "name": "stderr",
     "output_type": "stream",
     "text": [
      "[I 2023-07-19 22:59:45,662] Trial 4 finished with value: 0.6347985095030356 and parameters: {'max_depth': 9, 'eta': 0.043088763833328, 'gamma': 0.0621478158378546, 'subsample': 0.4058275768553451, 'colsample_bytree': 0.7909648284424233}. Best is trial 3 with value: 0.6068153709801501.\n"
     ]
    },
    {
     "name": "stdout",
     "output_type": "stream",
     "text": [
      "MAPE: 0.6347985095030356\n"
     ]
    },
    {
     "name": "stderr",
     "output_type": "stream",
     "text": [
      "[I 2023-07-19 22:59:46,286] Trial 5 finished with value: 0.37243491629601305 and parameters: {'max_depth': 9, 'eta': 0.08860656584186566, 'gamma': 0.03044451420147204, 'subsample': 0.27392952294390865, 'colsample_bytree': 0.25798259855115213}. Best is trial 5 with value: 0.37243491629601305.\n"
     ]
    },
    {
     "name": "stdout",
     "output_type": "stream",
     "text": [
      "MAPE: 0.37243491629601305\n"
     ]
    },
    {
     "name": "stderr",
     "output_type": "stream",
     "text": [
      "[I 2023-07-19 22:59:47,048] Trial 6 finished with value: 0.1222976349166203 and parameters: {'max_depth': 7, 'eta': 0.19006825852826922, 'gamma': 0.016054512652839928, 'subsample': 0.7073950988593143, 'colsample_bytree': 0.40468137221943423}. Best is trial 6 with value: 0.1222976349166203.\n"
     ]
    },
    {
     "name": "stdout",
     "output_type": "stream",
     "text": [
      "MAPE: 0.1222976349166203\n"
     ]
    },
    {
     "name": "stderr",
     "output_type": "stream",
     "text": [
      "[I 2023-07-19 22:59:47,501] Trial 7 finished with value: 0.8447551376653241 and parameters: {'max_depth': 10, 'eta': 0.015972583105260903, 'gamma': 0.02637709439815324, 'subsample': 0.3176906661069828, 'colsample_bytree': 0.1532918073877113}. Best is trial 6 with value: 0.1222976349166203.\n"
     ]
    },
    {
     "name": "stdout",
     "output_type": "stream",
     "text": [
      "MAPE: 0.8447551376653241\n"
     ]
    },
    {
     "name": "stderr",
     "output_type": "stream",
     "text": [
      "[I 2023-07-19 22:59:48,191] Trial 8 finished with value: 0.28365237988573294 and parameters: {'max_depth': 6, 'eta': 0.11261656136321405, 'gamma': 0.14630497534723003, 'subsample': 0.3456355137080344, 'colsample_bytree': 0.6513971707526718}. Best is trial 6 with value: 0.1222976349166203.\n"
     ]
    },
    {
     "name": "stdout",
     "output_type": "stream",
     "text": [
      "MAPE: 0.28365237988573294\n"
     ]
    },
    {
     "name": "stderr",
     "output_type": "stream",
     "text": [
      "[I 2023-07-19 22:59:49,626] Trial 9 finished with value: 0.6265352648428169 and parameters: {'max_depth': 9, 'eta': 0.044188836730245824, 'gamma': 0.02027851545988817, 'subsample': 0.6176046842429006, 'colsample_bytree': 0.9084420309055732}. Best is trial 6 with value: 0.1222976349166203.\n",
      "[I 2023-07-19 22:59:49,804] Trial 10 finished with value: 0.07489726709937952 and parameters: {'max_depth': 1, 'eta': 0.4710279457930747, 'gamma': 0.9641527009945333, 'subsample': 0.8412175517680184, 'colsample_bytree': 0.3792331328812213}. Best is trial 10 with value: 0.07489726709937952.\n"
     ]
    },
    {
     "name": "stdout",
     "output_type": "stream",
     "text": [
      "MAPE: 0.6265352648428169\n",
      "MAPE: 0.07489726709937952\n"
     ]
    },
    {
     "name": "stderr",
     "output_type": "stream",
     "text": [
      "[I 2023-07-19 22:59:50,003] Trial 11 finished with value: 0.07578789354298057 and parameters: {'max_depth': 1, 'eta': 0.4087179772999952, 'gamma': 0.8949261857770343, 'subsample': 0.8626421291043896, 'colsample_bytree': 0.3818254604066549}. Best is trial 10 with value: 0.07489726709937952.\n",
      "[I 2023-07-19 22:59:50,181] Trial 12 finished with value: 0.07865270088829625 and parameters: {'max_depth': 1, 'eta': 0.7226348007805888, 'gamma': 0.8678541761850391, 'subsample': 0.9367470619362211, 'colsample_bytree': 0.35630144731879276}. Best is trial 10 with value: 0.07489726709937952.\n"
     ]
    },
    {
     "name": "stdout",
     "output_type": "stream",
     "text": [
      "MAPE: 0.07578789354298057\n",
      "MAPE: 0.07865270088829625\n"
     ]
    },
    {
     "name": "stderr",
     "output_type": "stream",
     "text": [
      "[I 2023-07-19 22:59:50,370] Trial 13 finished with value: 0.07986238518660803 and parameters: {'max_depth': 1, 'eta': 0.5901347294706147, 'gamma': 0.9837666046897559, 'subsample': 0.929826519189998, 'colsample_bytree': 0.3720781738404408}. Best is trial 10 with value: 0.07489726709937952.\n"
     ]
    },
    {
     "name": "stdout",
     "output_type": "stream",
     "text": [
      "MAPE: 0.07986238518660803\n"
     ]
    },
    {
     "name": "stderr",
     "output_type": "stream",
     "text": [
      "[I 2023-07-19 22:59:50,709] Trial 14 finished with value: 0.07129051944866877 and parameters: {'max_depth': 3, 'eta': 0.3832648635287741, 'gamma': 0.47042407577709716, 'subsample': 0.8020412087445165, 'colsample_bytree': 0.26066579307922494}. Best is trial 14 with value: 0.07129051944866877.\n"
     ]
    },
    {
     "name": "stdout",
     "output_type": "stream",
     "text": [
      "MAPE: 0.07129051944866877\n"
     ]
    },
    {
     "name": "stderr",
     "output_type": "stream",
     "text": [
      "[I 2023-07-19 22:59:51,045] Trial 15 finished with value: 0.07569296907838585 and parameters: {'max_depth': 3, 'eta': 0.2773534516428564, 'gamma': 0.4276873630352553, 'subsample': 0.7990108652487411, 'colsample_bytree': 0.1988035890406185}. Best is trial 14 with value: 0.07129051944866877.\n"
     ]
    },
    {
     "name": "stdout",
     "output_type": "stream",
     "text": [
      "MAPE: 0.07569296907838585\n"
     ]
    },
    {
     "name": "stderr",
     "output_type": "stream",
     "text": [
      "[I 2023-07-19 22:59:51,386] Trial 16 finished with value: 0.07382875611941371 and parameters: {'max_depth': 3, 'eta': 0.9337304055658857, 'gamma': 0.4722240184058006, 'subsample': 0.9925716382205443, 'colsample_bytree': 0.24776152299198273}. Best is trial 14 with value: 0.07129051944866877.\n"
     ]
    },
    {
     "name": "stdout",
     "output_type": "stream",
     "text": [
      "MAPE: 0.07382875611941371\n"
     ]
    },
    {
     "name": "stderr",
     "output_type": "stream",
     "text": [
      "[I 2023-07-19 22:59:51,605] Trial 17 finished with value: 0.0802133573080978 and parameters: {'max_depth': 3, 'eta': 0.9719028473227649, 'gamma': 0.44058890644817134, 'subsample': 0.9975246428855886, 'colsample_bytree': 0.10315862016363955}. Best is trial 14 with value: 0.07129051944866877.\n"
     ]
    },
    {
     "name": "stdout",
     "output_type": "stream",
     "text": [
      "MAPE: 0.0802133573080978\n"
     ]
    },
    {
     "name": "stderr",
     "output_type": "stream",
     "text": [
      "[I 2023-07-19 22:59:52,011] Trial 18 finished with value: 0.07256749056201117 and parameters: {'max_depth': 4, 'eta': 0.3182346836674309, 'gamma': 0.3180989973218293, 'subsample': 0.731532366704813, 'colsample_bytree': 0.2495364706651283}. Best is trial 14 with value: 0.07129051944866877.\n"
     ]
    },
    {
     "name": "stdout",
     "output_type": "stream",
     "text": [
      "MAPE: 0.07256749056201117\n"
     ]
    },
    {
     "name": "stderr",
     "output_type": "stream",
     "text": [
      "[I 2023-07-19 22:59:52,281] Trial 19 finished with value: 0.0757821038542761 and parameters: {'max_depth': 4, 'eta': 0.31202456235811454, 'gamma': 0.24846287440544185, 'subsample': 0.13454087704174195, 'colsample_bytree': 0.2749210964274667}. Best is trial 14 with value: 0.07129051944866877.\n"
     ]
    },
    {
     "name": "stdout",
     "output_type": "stream",
     "text": [
      "MAPE: 0.0757821038542761\n"
     ]
    },
    {
     "name": "stderr",
     "output_type": "stream",
     "text": [
      "[I 2023-07-19 22:59:52,707] Trial 20 finished with value: 0.11223663094677082 and parameters: {'max_depth': 4, 'eta': 0.19275210798797723, 'gamma': 0.21008478803130573, 'subsample': 0.6977640347414249, 'colsample_bytree': 0.20329736142998722}. Best is trial 14 with value: 0.07129051944866877.\n"
     ]
    },
    {
     "name": "stdout",
     "output_type": "stream",
     "text": [
      "MAPE: 0.11223663094677082\n"
     ]
    },
    {
     "name": "stderr",
     "output_type": "stream",
     "text": [
      "[I 2023-07-19 22:59:52,979] Trial 21 finished with value: 0.0817903739599233 and parameters: {'max_depth': 2, 'eta': 0.9838305249445313, 'gamma': 0.4592166657998429, 'subsample': 0.7703773999766311, 'colsample_bytree': 0.270865200766293}. Best is trial 14 with value: 0.07129051944866877.\n"
     ]
    },
    {
     "name": "stdout",
     "output_type": "stream",
     "text": [
      "MAPE: 0.0817903739599233\n"
     ]
    },
    {
     "name": "stderr",
     "output_type": "stream",
     "text": [
      "[I 2023-07-19 22:59:53,467] Trial 22 finished with value: 0.07425392841617563 and parameters: {'max_depth': 4, 'eta': 0.6129795864913732, 'gamma': 0.3608034778089676, 'subsample': 0.995465769621372, 'colsample_bytree': 0.29317702852462696}. Best is trial 14 with value: 0.07129051944866877.\n"
     ]
    },
    {
     "name": "stdout",
     "output_type": "stream",
     "text": [
      "MAPE: 0.07425392841617563\n"
     ]
    },
    {
     "name": "stderr",
     "output_type": "stream",
     "text": [
      "[I 2023-07-19 22:59:53,722] Trial 23 finished with value: 0.07464036643169676 and parameters: {'max_depth': 2, 'eta': 0.3689178594081991, 'gamma': 0.5869160861289756, 'subsample': 0.8850633386885991, 'colsample_bytree': 0.2010398422759044}. Best is trial 14 with value: 0.07129051944866877.\n"
     ]
    },
    {
     "name": "stdout",
     "output_type": "stream",
     "text": [
      "MAPE: 0.07464036643169676\n"
     ]
    },
    {
     "name": "stderr",
     "output_type": "stream",
     "text": [
      "[I 2023-07-19 22:59:54,008] Trial 24 finished with value: 0.07587419490930528 and parameters: {'max_depth': 2, 'eta': 0.5347079507525703, 'gamma': 0.5872914060768338, 'subsample': 0.7581295083802903, 'colsample_bytree': 0.46534829234471153}. Best is trial 14 with value: 0.07129051944866877.\n"
     ]
    },
    {
     "name": "stdout",
     "output_type": "stream",
     "text": [
      "MAPE: 0.07587419490930528\n"
     ]
    },
    {
     "name": "stderr",
     "output_type": "stream",
     "text": [
      "[I 2023-07-19 22:59:54,476] Trial 25 finished with value: 0.06925361236872841 and parameters: {'max_depth': 4, 'eta': 0.7793427956735546, 'gamma': 0.2686258152822537, 'subsample': 0.6729923886413514, 'colsample_bytree': 0.31079831467274266}. Best is trial 25 with value: 0.06925361236872841.\n"
     ]
    },
    {
     "name": "stdout",
     "output_type": "stream",
     "text": [
      "MAPE: 0.06925361236872841\n"
     ]
    },
    {
     "name": "stderr",
     "output_type": "stream",
     "text": [
      "[I 2023-07-19 22:59:55,213] Trial 26 finished with value: 0.07552618356895696 and parameters: {'max_depth': 7, 'eta': 0.2616733147042139, 'gamma': 0.3242557781612273, 'subsample': 0.6426434841043758, 'colsample_bytree': 0.33623120275746987}. Best is trial 25 with value: 0.06925361236872841.\n"
     ]
    },
    {
     "name": "stdout",
     "output_type": "stream",
     "text": [
      "MAPE: 0.07552618356895696\n"
     ]
    },
    {
     "name": "stderr",
     "output_type": "stream",
     "text": [
      "[I 2023-07-19 22:59:55,626] Trial 27 finished with value: 0.07169214133776951 and parameters: {'max_depth': 5, 'eta': 0.4355468712498556, 'gamma': 0.18213879850051942, 'subsample': 0.694348829922697, 'colsample_bytree': 0.1638644576844371}. Best is trial 25 with value: 0.06925361236872841.\n"
     ]
    },
    {
     "name": "stdout",
     "output_type": "stream",
     "text": [
      "MAPE: 0.07169214133776951\n"
     ]
    },
    {
     "name": "stderr",
     "output_type": "stream",
     "text": [
      "[I 2023-07-19 22:59:56,057] Trial 28 finished with value: 0.07601454708596635 and parameters: {'max_depth': 5, 'eta': 0.6838198412861755, 'gamma': 0.08504626718737003, 'subsample': 0.662836707483482, 'colsample_bytree': 0.17240678318938357}. Best is trial 25 with value: 0.06925361236872841.\n"
     ]
    },
    {
     "name": "stdout",
     "output_type": "stream",
     "text": [
      "MAPE: 0.07601454708596635\n"
     ]
    },
    {
     "name": "stderr",
     "output_type": "stream",
     "text": [
      "[I 2023-07-19 22:59:56,506] Trial 29 finished with value: 0.08483310987743382 and parameters: {'max_depth': 7, 'eta': 0.39349778939994134, 'gamma': 0.1378533831376395, 'subsample': 0.5930779053290681, 'colsample_bytree': 0.10462745108908604}. Best is trial 25 with value: 0.06925361236872841.\n"
     ]
    },
    {
     "name": "stdout",
     "output_type": "stream",
     "text": [
      "MAPE: 0.08483310987743382\n"
     ]
    },
    {
     "name": "stderr",
     "output_type": "stream",
     "text": [
      "[I 2023-07-19 22:59:57,075] Trial 30 finished with value: 0.07003592459036863 and parameters: {'max_depth': 5, 'eta': 0.4512988714557815, 'gamma': 0.20370674245976916, 'subsample': 0.5594703914799337, 'colsample_bytree': 0.4363852097124422}. Best is trial 25 with value: 0.06925361236872841.\n"
     ]
    },
    {
     "name": "stdout",
     "output_type": "stream",
     "text": [
      "MAPE: 0.07003592459036863\n"
     ]
    },
    {
     "name": "stderr",
     "output_type": "stream",
     "text": [
      "[I 2023-07-19 22:59:57,668] Trial 31 finished with value: 0.06686893171874965 and parameters: {'max_depth': 5, 'eta': 0.4843404526516905, 'gamma': 0.19187073283847456, 'subsample': 0.5507695648731569, 'colsample_bytree': 0.4438288694287524}. Best is trial 31 with value: 0.06686893171874965.\n"
     ]
    },
    {
     "name": "stdout",
     "output_type": "stream",
     "text": [
      "MAPE: 0.06686893171874965\n"
     ]
    },
    {
     "name": "stderr",
     "output_type": "stream",
     "text": [
      "[I 2023-07-19 22:59:58,394] Trial 32 finished with value: 0.067871678371589 and parameters: {'max_depth': 6, 'eta': 0.7246481061092322, 'gamma': 0.19127906865251101, 'subsample': 0.5783602002060059, 'colsample_bytree': 0.45122711179205827}. Best is trial 31 with value: 0.06686893171874965.\n"
     ]
    },
    {
     "name": "stdout",
     "output_type": "stream",
     "text": [
      "MAPE: 0.067871678371589\n"
     ]
    },
    {
     "name": "stderr",
     "output_type": "stream",
     "text": [
      "[I 2023-07-19 22:59:59,122] Trial 33 finished with value: 0.06976622582990152 and parameters: {'max_depth': 6, 'eta': 0.7943133796832241, 'gamma': 0.17080698205260114, 'subsample': 0.5481385083725603, 'colsample_bytree': 0.4807498000848843}. Best is trial 31 with value: 0.06686893171874965.\n"
     ]
    },
    {
     "name": "stdout",
     "output_type": "stream",
     "text": [
      "MAPE: 0.06976622582990152\n"
     ]
    },
    {
     "name": "stderr",
     "output_type": "stream",
     "text": [
      "[I 2023-07-19 22:59:59,853] Trial 34 finished with value: 0.07094427436586456 and parameters: {'max_depth': 6, 'eta': 0.7531676866967376, 'gamma': 0.10363241501887534, 'subsample': 0.5276114933762394, 'colsample_bytree': 0.4956168503383908}. Best is trial 31 with value: 0.06686893171874965.\n"
     ]
    },
    {
     "name": "stdout",
     "output_type": "stream",
     "text": [
      "MAPE: 0.07094427436586456\n"
     ]
    },
    {
     "name": "stderr",
     "output_type": "stream",
     "text": [
      "[I 2023-07-19 23:00:00,605] Trial 35 finished with value: 0.04819603664553156 and parameters: {'max_depth': 6, 'eta': 0.7464442150571762, 'gamma': 0.1790958241464542, 'subsample': 0.4907431970629041, 'colsample_bytree': 0.5507786353843387}. Best is trial 35 with value: 0.04819603664553156.\n"
     ]
    },
    {
     "name": "stdout",
     "output_type": "stream",
     "text": [
      "MAPE: 0.04819603664553156\n"
     ]
    },
    {
     "name": "stderr",
     "output_type": "stream",
     "text": [
      "[I 2023-07-19 23:00:01,601] Trial 36 finished with value: 0.0511333688516963 and parameters: {'max_depth': 8, 'eta': 0.5651846625501763, 'gamma': 0.26375690174359145, 'subsample': 0.4946598007485164, 'colsample_bytree': 0.5353877011644339}. Best is trial 35 with value: 0.04819603664553156.\n"
     ]
    },
    {
     "name": "stdout",
     "output_type": "stream",
     "text": [
      "MAPE: 0.0511333688516963\n"
     ]
    },
    {
     "name": "stderr",
     "output_type": "stream",
     "text": [
      "[I 2023-07-19 23:00:02,622] Trial 37 finished with value: 0.050735757291613864 and parameters: {'max_depth': 8, 'eta': 0.5810420139240188, 'gamma': 0.11358125758964398, 'subsample': 0.474342728967416, 'colsample_bytree': 0.5898443197032492}. Best is trial 35 with value: 0.04819603664553156.\n"
     ]
    },
    {
     "name": "stdout",
     "output_type": "stream",
     "text": [
      "MAPE: 0.050735757291613864\n"
     ]
    },
    {
     "name": "stderr",
     "output_type": "stream",
     "text": [
      "[I 2023-07-19 23:00:03,644] Trial 38 finished with value: 0.04413808192954792 and parameters: {'max_depth': 8, 'eta': 0.547293829902055, 'gamma': 0.10616344517283001, 'subsample': 0.48384154804209095, 'colsample_bytree': 0.569174758751127}. Best is trial 38 with value: 0.04413808192954792.\n"
     ]
    },
    {
     "name": "stdout",
     "output_type": "stream",
     "text": [
      "MAPE: 0.04413808192954792\n"
     ]
    },
    {
     "name": "stderr",
     "output_type": "stream",
     "text": [
      "[I 2023-07-19 23:00:04,675] Trial 39 finished with value: 0.053425146927166996 and parameters: {'max_depth': 8, 'eta': 0.5970488538032472, 'gamma': 0.108767091236365, 'subsample': 0.4752261865818587, 'colsample_bytree': 0.5943510378171988}. Best is trial 38 with value: 0.04413808192954792.\n"
     ]
    },
    {
     "name": "stdout",
     "output_type": "stream",
     "text": [
      "MAPE: 0.053425146927166996\n"
     ]
    },
    {
     "name": "stderr",
     "output_type": "stream",
     "text": [
      "[I 2023-07-19 23:00:05,692] Trial 40 finished with value: 0.050404502119592576 and parameters: {'max_depth': 8, 'eta': 0.5611390977153025, 'gamma': 0.06774887745703771, 'subsample': 0.45880421280002537, 'colsample_bytree': 0.5639455485907249}. Best is trial 38 with value: 0.04413808192954792.\n"
     ]
    },
    {
     "name": "stdout",
     "output_type": "stream",
     "text": [
      "MAPE: 0.050404502119592576\n"
     ]
    },
    {
     "name": "stderr",
     "output_type": "stream",
     "text": [
      "[I 2023-07-19 23:00:06,669] Trial 41 finished with value: 0.060607536637746685 and parameters: {'max_depth': 8, 'eta': 0.5166157975409641, 'gamma': 0.06867030758918796, 'subsample': 0.47175775778440093, 'colsample_bytree': 0.5516891665560277}. Best is trial 38 with value: 0.04413808192954792.\n"
     ]
    },
    {
     "name": "stdout",
     "output_type": "stream",
     "text": [
      "MAPE: 0.060607536637746685\n"
     ]
    },
    {
     "name": "stderr",
     "output_type": "stream",
     "text": [
      "[I 2023-07-19 23:00:07,716] Trial 42 finished with value: 0.050879333334688095 and parameters: {'max_depth': 8, 'eta': 0.5549131369660177, 'gamma': 0.12601480858852696, 'subsample': 0.42497231366857113, 'colsample_bytree': 0.633752946655906}. Best is trial 38 with value: 0.04413808192954792.\n"
     ]
    },
    {
     "name": "stdout",
     "output_type": "stream",
     "text": [
      "MAPE: 0.050879333334688095\n"
     ]
    },
    {
     "name": "stderr",
     "output_type": "stream",
     "text": [
      "[I 2023-07-19 23:00:08,883] Trial 43 finished with value: 0.08619988352966969 and parameters: {'max_depth': 9, 'eta': 0.23407697145651926, 'gamma': 0.045446288682008076, 'subsample': 0.419192421194256, 'colsample_bytree': 0.6352649982415217}. Best is trial 38 with value: 0.04413808192954792.\n"
     ]
    },
    {
     "name": "stdout",
     "output_type": "stream",
     "text": [
      "MAPE: 0.08619988352966969\n"
     ]
    },
    {
     "name": "stderr",
     "output_type": "stream",
     "text": [
      "[I 2023-07-19 23:00:10,277] Trial 44 finished with value: 0.06566099513493534 and parameters: {'max_depth': 10, 'eta': 0.3183260398488124, 'gamma': 0.12054647572386841, 'subsample': 0.421884367531694, 'colsample_bytree': 0.6907237350265392}. Best is trial 38 with value: 0.04413808192954792.\n"
     ]
    },
    {
     "name": "stdout",
     "output_type": "stream",
     "text": [
      "MAPE: 0.06566099513493534\n"
     ]
    },
    {
     "name": "stderr",
     "output_type": "stream",
     "text": [
      "[I 2023-07-19 23:00:11,212] Trial 45 finished with value: 0.04156807846512784 and parameters: {'max_depth': 8, 'eta': 0.8611711241248147, 'gamma': 0.14067179186072984, 'subsample': 0.3693191669194785, 'colsample_bytree': 0.5910546407605343}. Best is trial 45 with value: 0.04156807846512784.\n"
     ]
    },
    {
     "name": "stdout",
     "output_type": "stream",
     "text": [
      "MAPE: 0.04156807846512784\n"
     ]
    },
    {
     "name": "stderr",
     "output_type": "stream",
     "text": [
      "[I 2023-07-19 23:00:11,963] Trial 46 finished with value: 0.06199661950468467 and parameters: {'max_depth': 7, 'eta': 0.8825269165585495, 'gamma': 0.08542939420580202, 'subsample': 0.3576767050805694, 'colsample_bytree': 0.5191616660676314}. Best is trial 45 with value: 0.04156807846512784.\n"
     ]
    },
    {
     "name": "stdout",
     "output_type": "stream",
     "text": [
      "MAPE: 0.06199661950468467\n"
     ]
    },
    {
     "name": "stderr",
     "output_type": "stream",
     "text": [
      "[I 2023-07-19 23:00:13,004] Trial 47 finished with value: 0.05085255153461338 and parameters: {'max_depth': 9, 'eta': 0.661723101782824, 'gamma': 0.1410446542051667, 'subsample': 0.3760744517940843, 'colsample_bytree': 0.5738557704751797}. Best is trial 45 with value: 0.04156807846512784.\n"
     ]
    },
    {
     "name": "stdout",
     "output_type": "stream",
     "text": [
      "MAPE: 0.05085255153461338\n"
     ]
    },
    {
     "name": "stderr",
     "output_type": "stream",
     "text": [
      "[I 2023-07-19 23:00:14,009] Trial 48 finished with value: 0.05570896434350893 and parameters: {'max_depth': 7, 'eta': 0.8322742665444077, 'gamma': 0.06253078803774613, 'subsample': 0.45086576366370734, 'colsample_bytree': 0.6980852449718814}. Best is trial 45 with value: 0.04156807846512784.\n"
     ]
    },
    {
     "name": "stdout",
     "output_type": "stream",
     "text": [
      "MAPE: 0.05570896434350893\n"
     ]
    },
    {
     "name": "stderr",
     "output_type": "stream",
     "text": [
      "[I 2023-07-19 23:00:15,326] Trial 49 finished with value: 0.037242825271900086 and parameters: {'max_depth': 10, 'eta': 0.4767542146807051, 'gamma': 0.09030240274692883, 'subsample': 0.5043288415169338, 'colsample_bytree': 0.5843675149420682}. Best is trial 49 with value: 0.037242825271900086.\n"
     ]
    },
    {
     "name": "stdout",
     "output_type": "stream",
     "text": [
      "MAPE: 0.037242825271900086\n"
     ]
    },
    {
     "name": "stderr",
     "output_type": "stream",
     "text": [
      "[I 2023-07-19 23:00:16,494] Trial 50 finished with value: 0.25650636787139264 and parameters: {'max_depth': 10, 'eta': 0.1222747112161452, 'gamma': 0.08542961605726969, 'subsample': 0.5114133329392645, 'colsample_bytree': 0.5111163383652041}. Best is trial 49 with value: 0.037242825271900086.\n"
     ]
    },
    {
     "name": "stdout",
     "output_type": "stream",
     "text": [
      "MAPE: 0.25650636787139264\n"
     ]
    },
    {
     "name": "stderr",
     "output_type": "stream",
     "text": [
      "[I 2023-07-19 23:00:17,641] Trial 51 finished with value: 0.05467873188830948 and parameters: {'max_depth': 9, 'eta': 0.6654301287528269, 'gamma': 0.1567538620690633, 'subsample': 0.5023707022556441, 'colsample_bytree': 0.5588322779744954}. Best is trial 49 with value: 0.037242825271900086.\n"
     ]
    },
    {
     "name": "stdout",
     "output_type": "stream",
     "text": [
      "MAPE: 0.05467873188830948\n"
     ]
    },
    {
     "name": "stderr",
     "output_type": "stream",
     "text": [
      "[I 2023-07-19 23:00:18,671] Trial 52 finished with value: 0.051393882112081686 and parameters: {'max_depth': 8, 'eta': 0.9822135123948746, 'gamma': 0.11439821854211481, 'subsample': 0.44905199814547064, 'colsample_bytree': 0.5919851279295191}. Best is trial 49 with value: 0.037242825271900086.\n"
     ]
    },
    {
     "name": "stdout",
     "output_type": "stream",
     "text": [
      "MAPE: 0.051393882112081686\n"
     ]
    },
    {
     "name": "stderr",
     "output_type": "stream",
     "text": [
      "[I 2023-07-19 23:00:19,880] Trial 53 finished with value: 0.04969596505751015 and parameters: {'max_depth': 10, 'eta': 0.48740495638973963, 'gamma': 0.04993689920668055, 'subsample': 0.3928585928376904, 'colsample_bytree': 0.6048865950764686}. Best is trial 49 with value: 0.037242825271900086.\n"
     ]
    },
    {
     "name": "stdout",
     "output_type": "stream",
     "text": [
      "MAPE: 0.04969596505751015\n"
     ]
    },
    {
     "name": "stderr",
     "output_type": "stream",
     "text": [
      "[I 2023-07-19 23:00:20,895] Trial 54 finished with value: 0.0571152978512156 and parameters: {'max_depth': 10, 'eta': 0.4663846120090956, 'gamma': 0.04284817178893909, 'subsample': 0.3295992622464318, 'colsample_bytree': 0.5166859871984422}. Best is trial 49 with value: 0.037242825271900086.\n"
     ]
    },
    {
     "name": "stdout",
     "output_type": "stream",
     "text": [
      "MAPE: 0.0571152978512156\n"
     ]
    },
    {
     "name": "stderr",
     "output_type": "stream",
     "text": [
      "[I 2023-07-19 23:00:22,071] Trial 55 finished with value: 0.056113665828078065 and parameters: {'max_depth': 10, 'eta': 0.37497156390426095, 'gamma': 0.053581491615198956, 'subsample': 0.3959232449108764, 'colsample_bytree': 0.6132320093440996}. Best is trial 49 with value: 0.037242825271900086.\n"
     ]
    },
    {
     "name": "stdout",
     "output_type": "stream",
     "text": [
      "MAPE: 0.056113665828078065\n"
     ]
    },
    {
     "name": "stderr",
     "output_type": "stream",
     "text": [
      "[I 2023-07-19 23:00:23,274] Trial 56 finished with value: 0.05638941307931308 and parameters: {'max_depth': 9, 'eta': 0.7932082234621282, 'gamma': 0.09352930442727982, 'subsample': 0.38762706554152915, 'colsample_bytree': 0.6611425179294954}. Best is trial 49 with value: 0.037242825271900086.\n"
     ]
    },
    {
     "name": "stdout",
     "output_type": "stream",
     "text": [
      "MAPE: 0.05638941307931308\n"
     ]
    },
    {
     "name": "stderr",
     "output_type": "stream",
     "text": [
      "[I 2023-07-19 23:00:24,270] Trial 57 finished with value: 0.06125922501804631 and parameters: {'max_depth': 10, 'eta': 0.5030062924109471, 'gamma': 0.07514517717939152, 'subsample': 0.30699704879034273, 'colsample_bytree': 0.5527555154943696}. Best is trial 49 with value: 0.037242825271900086.\n"
     ]
    },
    {
     "name": "stdout",
     "output_type": "stream",
     "text": [
      "MAPE: 0.06125922501804631\n"
     ]
    },
    {
     "name": "stderr",
     "output_type": "stream",
     "text": [
      "[I 2023-07-19 23:00:25,609] Trial 58 finished with value: 0.05490456051846477 and parameters: {'max_depth': 9, 'eta': 0.9962605810747959, 'gamma': 0.15152262796612564, 'subsample': 0.5219538865083487, 'colsample_bytree': 0.6781192063984098}. Best is trial 49 with value: 0.037242825271900086.\n"
     ]
    },
    {
     "name": "stdout",
     "output_type": "stream",
     "text": [
      "MAPE: 0.05490456051846477\n"
     ]
    },
    {
     "name": "stderr",
     "output_type": "stream",
     "text": [
      "[I 2023-07-19 23:00:26,517] Trial 59 finished with value: 0.05402959660061878 and parameters: {'max_depth': 7, 'eta': 0.6560221630106441, 'gamma': 0.07608623495739837, 'subsample': 0.3648300327276683, 'colsample_bytree': 0.7288583820082294}. Best is trial 49 with value: 0.037242825271900086.\n"
     ]
    },
    {
     "name": "stdout",
     "output_type": "stream",
     "text": [
      "MAPE: 0.05402959660061878\n"
     ]
    },
    {
     "name": "stderr",
     "output_type": "stream",
     "text": [
      "[I 2023-07-19 23:00:27,557] Trial 60 finished with value: 0.05635082280164929 and parameters: {'max_depth': 9, 'eta': 0.4335270436474202, 'gamma': 0.09837383555667985, 'subsample': 0.4387251241606989, 'colsample_bytree': 0.5398790043608391}. Best is trial 49 with value: 0.037242825271900086.\n"
     ]
    },
    {
     "name": "stdout",
     "output_type": "stream",
     "text": [
      "MAPE: 0.05635082280164929\n"
     ]
    },
    {
     "name": "stderr",
     "output_type": "stream",
     "text": [
      "[I 2023-07-19 23:00:28,572] Trial 61 finished with value: 0.0506339918423728 and parameters: {'max_depth': 8, 'eta': 0.587646884054474, 'gamma': 0.1238855099684255, 'subsample': 0.4718788966127563, 'colsample_bytree': 0.5892279206537331}. Best is trial 49 with value: 0.037242825271900086.\n"
     ]
    },
    {
     "name": "stdout",
     "output_type": "stream",
     "text": [
      "MAPE: 0.0506339918423728\n"
     ]
    },
    {
     "name": "stderr",
     "output_type": "stream",
     "text": [
      "[I 2023-07-19 23:00:29,627] Trial 62 finished with value: 0.05676433367832902 and parameters: {'max_depth': 8, 'eta': 0.8297796079470553, 'gamma': 0.12781039562817573, 'subsample': 0.4618573778881668, 'colsample_bytree': 0.6218990820439108}. Best is trial 49 with value: 0.037242825271900086.\n"
     ]
    },
    {
     "name": "stdout",
     "output_type": "stream",
     "text": [
      "MAPE: 0.05676433367832902\n"
     ]
    },
    {
     "name": "stderr",
     "output_type": "stream",
     "text": [
      "[I 2023-07-19 23:00:30,534] Trial 63 finished with value: 0.05584525679792139 and parameters: {'max_depth': 7, 'eta': 0.6359812552167742, 'gamma': 0.059510558926356406, 'subsample': 0.4968256691463888, 'colsample_bytree': 0.5771358305100533}. Best is trial 49 with value: 0.037242825271900086.\n"
     ]
    },
    {
     "name": "stdout",
     "output_type": "stream",
     "text": [
      "MAPE: 0.05584525679792139\n"
     ]
    },
    {
     "name": "stderr",
     "output_type": "stream",
     "text": [
      "[I 2023-07-19 23:00:31,458] Trial 64 finished with value: 0.06123009842812748 and parameters: {'max_depth': 9, 'eta': 0.3533700189164546, 'gamma': 0.1039050888092966, 'subsample': 0.41502963063110454, 'colsample_bytree': 0.4932922064859975}. Best is trial 49 with value: 0.037242825271900086.\n"
     ]
    },
    {
     "name": "stdout",
     "output_type": "stream",
     "text": [
      "MAPE: 0.06123009842812748\n"
     ]
    },
    {
     "name": "stderr",
     "output_type": "stream",
     "text": [
      "[I 2023-07-19 23:00:32,800] Trial 65 finished with value: 0.047634144980029755 and parameters: {'max_depth': 10, 'eta': 0.5120347695471068, 'gamma': 0.16633857477061453, 'subsample': 0.529228904108473, 'colsample_bytree': 0.6042198201199946}. Best is trial 49 with value: 0.037242825271900086.\n"
     ]
    },
    {
     "name": "stdout",
     "output_type": "stream",
     "text": [
      "MAPE: 0.047634144980029755\n"
     ]
    },
    {
     "name": "stderr",
     "output_type": "stream",
     "text": [
      "[I 2023-07-19 23:00:34,143] Trial 66 finished with value: 0.04891498372406351 and parameters: {'max_depth': 10, 'eta': 0.42351841018317327, 'gamma': 0.16813032242062484, 'subsample': 0.6036097047254623, 'colsample_bytree': 0.6182591657002007}. Best is trial 49 with value: 0.037242825271900086.\n"
     ]
    },
    {
     "name": "stdout",
     "output_type": "stream",
     "text": [
      "MAPE: 0.04891498372406351\n"
     ]
    },
    {
     "name": "stderr",
     "output_type": "stream",
     "text": [
      "[I 2023-07-19 23:00:35,585] Trial 67 finished with value: 0.054550799767860085 and parameters: {'max_depth': 10, 'eta': 0.4138768237153157, 'gamma': 0.1641924807686196, 'subsample': 0.616205932062475, 'colsample_bytree': 0.6430396780333383}. Best is trial 49 with value: 0.037242825271900086.\n"
     ]
    },
    {
     "name": "stdout",
     "output_type": "stream",
     "text": [
      "MAPE: 0.054550799767860085\n"
     ]
    },
    {
     "name": "stderr",
     "output_type": "stream",
     "text": [
      "[I 2023-07-19 23:00:36,969] Trial 68 finished with value: 0.052637741805598624 and parameters: {'max_depth': 10, 'eta': 0.49623076587444925, 'gamma': 0.23717117703726132, 'subsample': 0.5760852652086003, 'colsample_bytree': 0.6090899485861436}. Best is trial 49 with value: 0.037242825271900086.\n"
     ]
    },
    {
     "name": "stdout",
     "output_type": "stream",
     "text": [
      "MAPE: 0.052637741805598624\n"
     ]
    },
    {
     "name": "stderr",
     "output_type": "stream",
     "text": [
      "[I 2023-07-19 23:00:38,364] Trial 69 finished with value: 0.05443017854197778 and parameters: {'max_depth': 10, 'eta': 0.34802733403801506, 'gamma': 0.14869692742452112, 'subsample': 0.5340548491921144, 'colsample_bytree': 0.6562272090864368}. Best is trial 49 with value: 0.037242825271900086.\n"
     ]
    },
    {
     "name": "stdout",
     "output_type": "stream",
     "text": [
      "MAPE: 0.05443017854197778\n"
     ]
    },
    {
     "name": "stderr",
     "output_type": "stream",
     "text": [
      "[I 2023-07-19 23:00:39,810] Trial 70 finished with value: 0.055495349205045584 and parameters: {'max_depth': 10, 'eta': 0.7215613580907266, 'gamma': 0.1740577306326635, 'subsample': 0.591488759694115, 'colsample_bytree': 0.619521546983998}. Best is trial 49 with value: 0.037242825271900086.\n"
     ]
    },
    {
     "name": "stdout",
     "output_type": "stream",
     "text": [
      "MAPE: 0.055495349205045584\n"
     ]
    },
    {
     "name": "stderr",
     "output_type": "stream",
     "text": [
      "[I 2023-07-19 23:00:40,981] Trial 71 finished with value: 0.053234702310782686 and parameters: {'max_depth': 9, 'eta': 0.43212494661691725, 'gamma': 0.13170326408970853, 'subsample': 0.5199110124635524, 'colsample_bytree': 0.568056916648779}. Best is trial 49 with value: 0.037242825271900086.\n"
     ]
    },
    {
     "name": "stdout",
     "output_type": "stream",
     "text": [
      "MAPE: 0.053234702310782686\n"
     ]
    },
    {
     "name": "stderr",
     "output_type": "stream",
     "text": [
      "[I 2023-07-19 23:00:42,141] Trial 72 finished with value: 0.06739978581556626 and parameters: {'max_depth': 10, 'eta': 0.8551531883796989, 'gamma': 0.2335924472646712, 'subsample': 0.3977188916785499, 'colsample_bytree': 0.528400222050719}. Best is trial 49 with value: 0.037242825271900086.\n"
     ]
    },
    {
     "name": "stdout",
     "output_type": "stream",
     "text": [
      "MAPE: 0.06739978581556626\n"
     ]
    },
    {
     "name": "stderr",
     "output_type": "stream",
     "text": [
      "[I 2023-07-19 23:00:43,266] Trial 73 finished with value: 0.06230467914940439 and parameters: {'max_depth': 9, 'eta': 0.5122465029187999, 'gamma': 0.09186374348641894, 'subsample': 0.549630119154372, 'colsample_bytree': 0.5572648396760556}. Best is trial 49 with value: 0.037242825271900086.\n"
     ]
    },
    {
     "name": "stdout",
     "output_type": "stream",
     "text": [
      "MAPE: 0.06230467914940439\n"
     ]
    },
    {
     "name": "stderr",
     "output_type": "stream",
     "text": [
      "[I 2023-07-19 23:00:44,621] Trial 74 finished with value: 0.054587031901296726 and parameters: {'max_depth': 10, 'eta': 0.5409015256684099, 'gamma': 0.20159741044422186, 'subsample': 0.49309743445162935, 'colsample_bytree': 0.6066119820284736}. Best is trial 49 with value: 0.037242825271900086.\n"
     ]
    },
    {
     "name": "stdout",
     "output_type": "stream",
     "text": [
      "MAPE: 0.054587031901296726\n"
     ]
    },
    {
     "name": "stderr",
     "output_type": "stream",
     "text": [
      "[I 2023-07-19 23:00:45,300] Trial 75 finished with value: 0.07254108998421532 and parameters: {'max_depth': 6, 'eta': 0.7078378008412014, 'gamma': 0.1423460738083365, 'subsample': 0.4358664166413922, 'colsample_bytree': 0.4738191286630873}. Best is trial 49 with value: 0.037242825271900086.\n"
     ]
    },
    {
     "name": "stdout",
     "output_type": "stream",
     "text": [
      "MAPE: 0.07254108998421532\n"
     ]
    },
    {
     "name": "stderr",
     "output_type": "stream",
     "text": [
      "[I 2023-07-19 23:00:46,676] Trial 76 finished with value: 0.05793120501470408 and parameters: {'max_depth': 10, 'eta': 0.45720786616797854, 'gamma': 0.17466328463644618, 'subsample': 0.6173323809950614, 'colsample_bytree': 0.5795364319499452}. Best is trial 49 with value: 0.037242825271900086.\n"
     ]
    },
    {
     "name": "stdout",
     "output_type": "stream",
     "text": [
      "MAPE: 0.05793120501470408\n"
     ]
    },
    {
     "name": "stderr",
     "output_type": "stream",
     "text": [
      "[I 2023-07-19 23:00:47,875] Trial 77 finished with value: 0.061601828110993094 and parameters: {'max_depth': 9, 'eta': 0.5861125764628335, 'gamma': 0.2194848175524245, 'subsample': 0.5638582430627466, 'colsample_bytree': 0.5321171674356018}. Best is trial 49 with value: 0.037242825271900086.\n"
     ]
    },
    {
     "name": "stdout",
     "output_type": "stream",
     "text": [
      "MAPE: 0.061601828110993094\n"
     ]
    },
    {
     "name": "stderr",
     "output_type": "stream",
     "text": [
      "[I 2023-07-19 23:00:49,010] Trial 78 finished with value: 0.050812972112034956 and parameters: {'max_depth': 8, 'eta': 0.3822115868175538, 'gamma': 0.10244257271923361, 'subsample': 0.5340652697424568, 'colsample_bytree': 0.6370313377083896}. Best is trial 49 with value: 0.037242825271900086.\n"
     ]
    },
    {
     "name": "stdout",
     "output_type": "stream",
     "text": [
      "MAPE: 0.050812972112034956\n"
     ]
    },
    {
     "name": "stderr",
     "output_type": "stream",
     "text": [
      "[I 2023-07-19 23:00:50,134] Trial 79 finished with value: 0.06132541774398651 and parameters: {'max_depth': 9, 'eta': 0.8872450483144126, 'gamma': 0.07503137637353804, 'subsample': 0.4505064466653482, 'colsample_bytree': 0.5057011633818973}. Best is trial 49 with value: 0.037242825271900086.\n"
     ]
    },
    {
     "name": "stdout",
     "output_type": "stream",
     "text": [
      "MAPE: 0.06132541774398651\n"
     ]
    },
    {
     "name": "stderr",
     "output_type": "stream",
     "text": [
      "[I 2023-07-19 23:00:51,000] Trial 80 finished with value: 0.07769711466618212 and parameters: {'max_depth': 7, 'eta': 0.2762814726802285, 'gamma': 0.11274563851708212, 'subsample': 0.5025217103579036, 'colsample_bytree': 0.542875685582813}. Best is trial 49 with value: 0.037242825271900086.\n"
     ]
    },
    {
     "name": "stdout",
     "output_type": "stream",
     "text": [
      "MAPE: 0.07769711466618212\n"
     ]
    },
    {
     "name": "stderr",
     "output_type": "stream",
     "text": [
      "[I 2023-07-19 23:00:52,024] Trial 81 finished with value: 0.04313795896511682 and parameters: {'max_depth': 8, 'eta': 0.603674342378225, 'gamma': 0.12390638993316289, 'subsample': 0.47382842430237615, 'colsample_bytree': 0.5921352790960368}. Best is trial 49 with value: 0.037242825271900086.\n"
     ]
    },
    {
     "name": "stdout",
     "output_type": "stream",
     "text": [
      "MAPE: 0.04313795896511682\n"
     ]
    },
    {
     "name": "stderr",
     "output_type": "stream",
     "text": [
      "[I 2023-07-19 23:00:53,084] Trial 82 finished with value: 0.04971268614425926 and parameters: {'max_depth': 8, 'eta': 0.73257902231038, 'gamma': 0.1640400245278824, 'subsample': 0.4819792903341885, 'colsample_bytree': 0.6043620742953533}. Best is trial 49 with value: 0.037242825271900086.\n"
     ]
    },
    {
     "name": "stdout",
     "output_type": "stream",
     "text": [
      "MAPE: 0.04971268614425926\n"
     ]
    },
    {
     "name": "stderr",
     "output_type": "stream",
     "text": [
      "[I 2023-07-19 23:00:54,144] Trial 83 finished with value: 0.0506046177431074 and parameters: {'max_depth': 8, 'eta': 0.7522971539976872, 'gamma': 0.15810166361941264, 'subsample': 0.484846041832613, 'colsample_bytree': 0.6078535048504171}. Best is trial 49 with value: 0.037242825271900086.\n"
     ]
    },
    {
     "name": "stdout",
     "output_type": "stream",
     "text": [
      "MAPE: 0.0506046177431074\n"
     ]
    },
    {
     "name": "stderr",
     "output_type": "stream",
     "text": [
      "[I 2023-07-19 23:00:55,259] Trial 84 finished with value: 0.058731756107232996 and parameters: {'max_depth': 9, 'eta': 0.6629249316341774, 'gamma': 0.186762475902594, 'subsample': 0.40058335870544076, 'colsample_bytree': 0.5912284710806655}. Best is trial 49 with value: 0.037242825271900086.\n"
     ]
    },
    {
     "name": "stdout",
     "output_type": "stream",
     "text": [
      "MAPE: 0.058731756107232996\n"
     ]
    },
    {
     "name": "stderr",
     "output_type": "stream",
     "text": [
      "[I 2023-07-19 23:00:56,257] Trial 85 finished with value: 0.04915912997429211 and parameters: {'max_depth': 7, 'eta': 0.8847262621343963, 'gamma': 0.13950149712371912, 'subsample': 0.5312122351582542, 'colsample_bytree': 0.6587141833042031}. Best is trial 49 with value: 0.037242825271900086.\n"
     ]
    },
    {
     "name": "stdout",
     "output_type": "stream",
     "text": [
      "MAPE: 0.04915912997429211\n"
     ]
    },
    {
     "name": "stderr",
     "output_type": "stream",
     "text": [
      "[I 2023-07-19 23:00:57,114] Trial 86 finished with value: 0.05186208353661085 and parameters: {'max_depth': 6, 'eta': 0.8349699970583234, 'gamma': 0.13380954565859793, 'subsample': 0.563107414095526, 'colsample_bytree': 0.6600772913100852}. Best is trial 49 with value: 0.037242825271900086.\n"
     ]
    },
    {
     "name": "stdout",
     "output_type": "stream",
     "text": [
      "MAPE: 0.05186208353661085\n"
     ]
    },
    {
     "name": "stderr",
     "output_type": "stream",
     "text": [
      "[I 2023-07-19 23:00:58,188] Trial 87 finished with value: 0.056059573076098636 and parameters: {'max_depth': 7, 'eta': 0.9163985217753227, 'gamma': 0.11626778231906826, 'subsample': 0.5214113584687986, 'colsample_bytree': 0.7185445461853572}. Best is trial 49 with value: 0.037242825271900086.\n"
     ]
    },
    {
     "name": "stdout",
     "output_type": "stream",
     "text": [
      "MAPE: 0.056059573076098636\n"
     ]
    },
    {
     "name": "stderr",
     "output_type": "stream",
     "text": [
      "[I 2023-07-19 23:00:59,032] Trial 88 finished with value: 0.05354139774266991 and parameters: {'max_depth': 6, 'eta': 0.6308149432267963, 'gamma': 0.21247828540415895, 'subsample': 0.5407546311746638, 'colsample_bytree': 0.6550231443261924}. Best is trial 49 with value: 0.037242825271900086.\n"
     ]
    },
    {
     "name": "stdout",
     "output_type": "stream",
     "text": [
      "MAPE: 0.05354139774266991\n"
     ]
    },
    {
     "name": "stderr",
     "output_type": "stream",
     "text": [
      "[I 2023-07-19 23:01:00,026] Trial 89 finished with value: 0.05649818126257556 and parameters: {'max_depth': 7, 'eta': 0.48610439156341473, 'gamma': 0.14218880019047453, 'subsample': 0.5955720520903134, 'colsample_bytree': 0.6381482842413724}. Best is trial 49 with value: 0.037242825271900086.\n"
     ]
    },
    {
     "name": "stdout",
     "output_type": "stream",
     "text": [
      "MAPE: 0.05649818126257556\n"
     ]
    },
    {
     "name": "stderr",
     "output_type": "stream",
     "text": [
      "[I 2023-07-19 23:01:00,866] Trial 90 finished with value: 0.060149091391531545 and parameters: {'max_depth': 7, 'eta': 0.4129253565329661, 'gamma': 0.09234774815737747, 'subsample': 0.427847940264376, 'colsample_bytree': 0.5738620778084903}. Best is trial 49 with value: 0.037242825271900086.\n"
     ]
    },
    {
     "name": "stdout",
     "output_type": "stream",
     "text": [
      "MAPE: 0.060149091391531545\n"
     ]
    },
    {
     "name": "stderr",
     "output_type": "stream",
     "text": [
      "[I 2023-07-19 23:01:01,937] Trial 91 finished with value: 0.05679467895078795 and parameters: {'max_depth': 8, 'eta': 0.7484999601664517, 'gamma': 0.16514776060875008, 'subsample': 0.4807542522374514, 'colsample_bytree': 0.6016407355916362}. Best is trial 49 with value: 0.037242825271900086.\n"
     ]
    },
    {
     "name": "stdout",
     "output_type": "stream",
     "text": [
      "MAPE: 0.05679467895078795\n"
     ]
    },
    {
     "name": "stderr",
     "output_type": "stream",
     "text": [
      "[I 2023-07-19 23:01:03,019] Trial 92 finished with value: 0.03911694778337558 and parameters: {'max_depth': 8, 'eta': 0.7018159600680298, 'gamma': 0.15186413414940345, 'subsample': 0.5138897172200839, 'colsample_bytree': 0.6216919387731955}. Best is trial 49 with value: 0.037242825271900086.\n"
     ]
    },
    {
     "name": "stdout",
     "output_type": "stream",
     "text": [
      "MAPE: 0.03911694778337558\n"
     ]
    },
    {
     "name": "stderr",
     "output_type": "stream",
     "text": [
      "[I 2023-07-19 23:01:04,359] Trial 93 finished with value: 0.05434301541819995 and parameters: {'max_depth': 10, 'eta': 0.6084283634176051, 'gamma': 0.12546754404156574, 'subsample': 0.5086664862581572, 'colsample_bytree': 0.62452751881832}. Best is trial 49 with value: 0.037242825271900086.\n"
     ]
    },
    {
     "name": "stdout",
     "output_type": "stream",
     "text": [
      "MAPE: 0.05434301541819995\n"
     ]
    },
    {
     "name": "stderr",
     "output_type": "stream",
     "text": [
      "[I 2023-07-19 23:01:05,106] Trial 94 finished with value: 0.05504989964163176 and parameters: {'max_depth': 6, 'eta': 0.9940105306551825, 'gamma': 0.1869388974654854, 'subsample': 0.45707990823418526, 'colsample_bytree': 0.5761393992230349}. Best is trial 49 with value: 0.037242825271900086.\n"
     ]
    },
    {
     "name": "stdout",
     "output_type": "stream",
     "text": [
      "MAPE: 0.05504989964163176\n"
     ]
    },
    {
     "name": "stderr",
     "output_type": "stream",
     "text": [
      "[I 2023-07-19 23:01:06,249] Trial 95 finished with value: 0.049388477978017674 and parameters: {'max_depth': 8, 'eta': 0.5382391422608667, 'gamma': 0.14381395821300136, 'subsample': 0.5461121754937219, 'colsample_bytree': 0.6744037144218968}. Best is trial 49 with value: 0.037242825271900086.\n"
     ]
    },
    {
     "name": "stdout",
     "output_type": "stream",
     "text": [
      "MAPE: 0.049388477978017674\n"
     ]
    },
    {
     "name": "stderr",
     "output_type": "stream",
     "text": [
      "[I 2023-07-19 23:01:07,415] Trial 96 finished with value: 0.04397635430193947 and parameters: {'max_depth': 8, 'eta': 0.5383601456099436, 'gamma': 0.1414262152787285, 'subsample': 0.5514281304874203, 'colsample_bytree': 0.6721780811442997}. Best is trial 49 with value: 0.037242825271900086.\n"
     ]
    },
    {
     "name": "stdout",
     "output_type": "stream",
     "text": [
      "MAPE: 0.04397635430193947\n"
     ]
    },
    {
     "name": "stderr",
     "output_type": "stream",
     "text": [
      "[I 2023-07-19 23:01:08,471] Trial 97 finished with value: 0.049850774402578533 and parameters: {'max_depth': 7, 'eta': 0.8005672914147657, 'gamma': 0.10975726354950537, 'subsample': 0.5777141162480941, 'colsample_bytree': 0.7041677749802857}. Best is trial 49 with value: 0.037242825271900086.\n"
     ]
    },
    {
     "name": "stdout",
     "output_type": "stream",
     "text": [
      "MAPE: 0.049850774402578533\n"
     ]
    },
    {
     "name": "stderr",
     "output_type": "stream",
     "text": [
      "[I 2023-07-19 23:01:09,615] Trial 98 finished with value: 0.05482016037402634 and parameters: {'max_depth': 8, 'eta': 0.6775950679996622, 'gamma': 0.132334472355206, 'subsample': 0.5334705879715645, 'colsample_bytree': 0.675627668085279}. Best is trial 49 with value: 0.037242825271900086.\n"
     ]
    },
    {
     "name": "stdout",
     "output_type": "stream",
     "text": [
      "MAPE: 0.05482016037402634\n"
     ]
    },
    {
     "name": "stderr",
     "output_type": "stream",
     "text": [
      "[I 2023-07-19 23:01:10,465] Trial 99 finished with value: 0.0500047707801282 and parameters: {'max_depth': 7, 'eta': 0.9068806490045638, 'gamma': 0.1800568782681077, 'subsample': 0.5084039508809428, 'colsample_bytree': 0.5479285294551968}. Best is trial 49 with value: 0.037242825271900086.\n"
     ]
    },
    {
     "name": "stdout",
     "output_type": "stream",
     "text": [
      "MAPE: 0.0500047707801282\n"
     ]
    },
    {
     "name": "stderr",
     "output_type": "stream",
     "text": [
      "[I 2023-07-19 23:01:11,689] Trial 100 finished with value: 0.04937800439307761 and parameters: {'max_depth': 8, 'eta': 0.6450656326267975, 'gamma': 0.15270899761098128, 'subsample': 0.5720652117740127, 'colsample_bytree': 0.7475165510730919}. Best is trial 49 with value: 0.037242825271900086.\n"
     ]
    },
    {
     "name": "stdout",
     "output_type": "stream",
     "text": [
      "MAPE: 0.04937800439307761\n"
     ]
    },
    {
     "name": "stderr",
     "output_type": "stream",
     "text": [
      "[I 2023-07-19 23:01:12,963] Trial 101 finished with value: 0.05808594465198121 and parameters: {'max_depth': 8, 'eta': 0.6273350438675175, 'gamma': 0.1531303458496874, 'subsample': 0.637907378441852, 'colsample_bytree': 0.7275192655390846}. Best is trial 49 with value: 0.037242825271900086.\n"
     ]
    },
    {
     "name": "stdout",
     "output_type": "stream",
     "text": [
      "MAPE: 0.05808594465198121\n"
     ]
    },
    {
     "name": "stderr",
     "output_type": "stream",
     "text": [
      "[I 2023-07-19 23:01:14,253] Trial 102 finished with value: 0.05239324433876437 and parameters: {'max_depth': 8, 'eta': 0.550481355097001, 'gamma': 0.11843248159649998, 'subsample': 0.5635903649107251, 'colsample_bytree': 0.7738052422110205}. Best is trial 49 with value: 0.037242825271900086.\n"
     ]
    },
    {
     "name": "stdout",
     "output_type": "stream",
     "text": [
      "MAPE: 0.05239324433876437\n"
     ]
    },
    {
     "name": "stderr",
     "output_type": "stream",
     "text": [
      "[I 2023-07-19 23:01:15,598] Trial 103 finished with value: 0.05690651582326829 and parameters: {'max_depth': 9, 'eta': 0.7246700438437691, 'gamma': 0.15292882502107355, 'subsample': 0.5976848210765027, 'colsample_bytree': 0.6285498809763286}. Best is trial 49 with value: 0.037242825271900086.\n"
     ]
    },
    {
     "name": "stdout",
     "output_type": "stream",
     "text": [
      "MAPE: 0.05690651582326829\n"
     ]
    },
    {
     "name": "stderr",
     "output_type": "stream",
     "text": [
      "[I 2023-07-19 23:01:16,753] Trial 104 finished with value: 0.06283301861370222 and parameters: {'max_depth': 8, 'eta': 0.597959390787978, 'gamma': 0.19940583717494212, 'subsample': 0.5216663845193271, 'colsample_bytree': 0.6483799092595784}. Best is trial 49 with value: 0.037242825271900086.\n"
     ]
    },
    {
     "name": "stdout",
     "output_type": "stream",
     "text": [
      "MAPE: 0.06283301861370222\n"
     ]
    },
    {
     "name": "stderr",
     "output_type": "stream",
     "text": [
      "[I 2023-07-19 23:01:17,405] Trial 105 finished with value: 0.06115888697203781 and parameters: {'max_depth': 5, 'eta': 0.4423337977532015, 'gamma': 0.1297417549367185, 'subsample': 0.49604573988611655, 'colsample_bytree': 0.6244441136361979}. Best is trial 49 with value: 0.037242825271900086.\n"
     ]
    },
    {
     "name": "stdout",
     "output_type": "stream",
     "text": [
      "MAPE: 0.06115888697203781\n"
     ]
    },
    {
     "name": "stderr",
     "output_type": "stream",
     "text": [
      "[I 2023-07-19 23:01:18,513] Trial 106 finished with value: 0.06004172130427758 and parameters: {'max_depth': 8, 'eta': 0.8069633782872053, 'gamma': 0.1053882554692398, 'subsample': 0.5502587712877233, 'colsample_bytree': 0.5860658022288993}. Best is trial 49 with value: 0.037242825271900086.\n"
     ]
    },
    {
     "name": "stdout",
     "output_type": "stream",
     "text": [
      "MAPE: 0.06004172130427758\n"
     ]
    },
    {
     "name": "stderr",
     "output_type": "stream",
     "text": [
      "[I 2023-07-19 23:01:19,451] Trial 107 finished with value: 0.05074379403099616 and parameters: {'max_depth': 7, 'eta': 0.517316502554768, 'gamma': 0.17649263138216167, 'subsample': 0.46279718819931215, 'colsample_bytree': 0.6818908912234803}. Best is trial 49 with value: 0.037242825271900086.\n"
     ]
    },
    {
     "name": "stdout",
     "output_type": "stream",
     "text": [
      "MAPE: 0.05074379403099616\n"
     ]
    },
    {
     "name": "stderr",
     "output_type": "stream",
     "text": [
      "[I 2023-07-19 23:01:20,707] Trial 108 finished with value: 0.0487805658590209 and parameters: {'max_depth': 9, 'eta': 0.6949824123645042, 'gamma': 0.1388683419031398, 'subsample': 0.5310293894625571, 'colsample_bytree': 0.5661951308354902}. Best is trial 49 with value: 0.037242825271900086.\n"
     ]
    },
    {
     "name": "stdout",
     "output_type": "stream",
     "text": [
      "MAPE: 0.0487805658590209\n"
     ]
    },
    {
     "name": "stderr",
     "output_type": "stream",
     "text": [
      "[I 2023-07-19 23:01:21,842] Trial 109 finished with value: 0.06000770781712154 and parameters: {'max_depth': 9, 'eta': 0.8943932781504802, 'gamma': 0.11726737457500494, 'subsample': 0.48392056446737863, 'colsample_bytree': 0.5585603461337533}. Best is trial 49 with value: 0.037242825271900086.\n"
     ]
    },
    {
     "name": "stdout",
     "output_type": "stream",
     "text": [
      "MAPE: 0.06000770781712154\n"
     ]
    },
    {
     "name": "stderr",
     "output_type": "stream",
     "text": [
      "[I 2023-07-19 23:01:23,013] Trial 110 finished with value: 0.06379510398636644 and parameters: {'max_depth': 9, 'eta': 0.7815964625946854, 'gamma': 0.1354403948434706, 'subsample': 0.5116234417993974, 'colsample_bytree': 0.5298998924803701}. Best is trial 49 with value: 0.037242825271900086.\n"
     ]
    },
    {
     "name": "stdout",
     "output_type": "stream",
     "text": [
      "MAPE: 0.06379510398636644\n"
     ]
    },
    {
     "name": "stderr",
     "output_type": "stream",
     "text": [
      "[I 2023-07-19 23:01:24,160] Trial 111 finished with value: 0.05369968270438325 and parameters: {'max_depth': 8, 'eta': 0.6239719173406294, 'gamma': 0.16269443172824868, 'subsample': 0.5392508068668246, 'colsample_bytree': 0.6464574328136269}. Best is trial 49 with value: 0.037242825271900086.\n"
     ]
    },
    {
     "name": "stdout",
     "output_type": "stream",
     "text": [
      "MAPE: 0.05369968270438325\n"
     ]
    },
    {
     "name": "stderr",
     "output_type": "stream",
     "text": [
      "[I 2023-07-19 23:01:25,390] Trial 112 finished with value: 0.056444452694415684 and parameters: {'max_depth': 9, 'eta': 0.686548380236954, 'gamma': 0.14345430123081113, 'subsample': 0.5771265788677985, 'colsample_bytree': 0.5673561847919262}. Best is trial 49 with value: 0.037242825271900086.\n"
     ]
    },
    {
     "name": "stdout",
     "output_type": "stream",
     "text": [
      "MAPE: 0.056444452694415684\n"
     ]
    },
    {
     "name": "stderr",
     "output_type": "stream",
     "text": [
      "[I 2023-07-19 23:01:26,450] Trial 113 finished with value: 0.05254668251876215 and parameters: {'max_depth': 8, 'eta': 0.5584863856879144, 'gamma': 0.09695285459509079, 'subsample': 0.5606824937082202, 'colsample_bytree': 0.6169056360412543}. Best is trial 49 with value: 0.037242825271900086.\n"
     ]
    },
    {
     "name": "stdout",
     "output_type": "stream",
     "text": [
      "MAPE: 0.05254668251876215\n"
     ]
    },
    {
     "name": "stderr",
     "output_type": "stream",
     "text": [
      "[I 2023-07-19 23:01:27,663] Trial 114 finished with value: 0.06279123800448261 and parameters: {'max_depth': 10, 'eta': 0.6740732573761409, 'gamma': 0.2226932871421772, 'subsample': 0.44620273731759286, 'colsample_bytree': 0.518957480196866}. Best is trial 49 with value: 0.037242825271900086.\n"
     ]
    },
    {
     "name": "stdout",
     "output_type": "stream",
     "text": [
      "MAPE: 0.06279123800448261\n"
     ]
    },
    {
     "name": "stderr",
     "output_type": "stream",
     "text": [
      "[I 2023-07-19 23:01:28,576] Trial 115 finished with value: 0.05556542365757839 and parameters: {'max_depth': 7, 'eta': 0.4588719816553428, 'gamma': 0.199500164041282, 'subsample': 0.5285435515255814, 'colsample_bytree': 0.5952611743932639}. Best is trial 49 with value: 0.037242825271900086.\n"
     ]
    },
    {
     "name": "stdout",
     "output_type": "stream",
     "text": [
      "MAPE: 0.05556542365757839\n"
     ]
    },
    {
     "name": "stderr",
     "output_type": "stream",
     "text": [
      "[I 2023-07-19 23:01:29,877] Trial 116 finished with value: 0.04443230098764693 and parameters: {'max_depth': 9, 'eta': 0.4903078907443883, 'gamma': 0.12371081439542325, 'subsample': 0.6044487516504959, 'colsample_bytree': 0.665197987421551}. Best is trial 49 with value: 0.037242825271900086.\n"
     ]
    },
    {
     "name": "stdout",
     "output_type": "stream",
     "text": [
      "MAPE: 0.04443230098764693\n"
     ]
    },
    {
     "name": "stderr",
     "output_type": "stream",
     "text": [
      "[I 2023-07-19 23:01:31,316] Trial 117 finished with value: 0.05035963464515562 and parameters: {'max_depth': 10, 'eta': 0.4940095065967285, 'gamma': 0.12097570724112575, 'subsample': 0.5937312279202415, 'colsample_bytree': 0.6690606663041859}. Best is trial 49 with value: 0.037242825271900086.\n"
     ]
    },
    {
     "name": "stdout",
     "output_type": "stream",
     "text": [
      "MAPE: 0.05035963464515562\n"
     ]
    },
    {
     "name": "stderr",
     "output_type": "stream",
     "text": [
      "[I 2023-07-19 23:01:32,677] Trial 118 finished with value: 0.05644146846669402 and parameters: {'max_depth': 9, 'eta': 0.39581380839111446, 'gamma': 0.10694664144026345, 'subsample': 0.5013490085851056, 'colsample_bytree': 0.6916226131687733}. Best is trial 49 with value: 0.037242825271900086.\n"
     ]
    },
    {
     "name": "stdout",
     "output_type": "stream",
     "text": [
      "MAPE: 0.05644146846669402\n"
     ]
    },
    {
     "name": "stderr",
     "output_type": "stream",
     "text": [
      "[I 2023-07-19 23:01:34,140] Trial 119 finished with value: 0.06106386348947209 and parameters: {'max_depth': 10, 'eta': 0.33783494946729054, 'gamma': 0.08604812875738123, 'subsample': 0.6264075825441492, 'colsample_bytree': 0.6607711694662077}. Best is trial 49 with value: 0.037242825271900086.\n"
     ]
    },
    {
     "name": "stdout",
     "output_type": "stream",
     "text": [
      "MAPE: 0.06106386348947209\n"
     ]
    },
    {
     "name": "stderr",
     "output_type": "stream",
     "text": [
      "[I 2023-07-19 23:01:35,330] Trial 120 finished with value: 0.06160103077707746 and parameters: {'max_depth': 9, 'eta': 0.5591100291534675, 'gamma': 0.2662812120462061, 'subsample': 0.6124032250562268, 'colsample_bytree': 0.5510142666441009}. Best is trial 49 with value: 0.037242825271900086.\n"
     ]
    },
    {
     "name": "stdout",
     "output_type": "stream",
     "text": [
      "MAPE: 0.06160103077707746\n"
     ]
    },
    {
     "name": "stderr",
     "output_type": "stream",
     "text": [
      "[I 2023-07-19 23:01:36,527] Trial 121 finished with value: 0.05589186387740962 and parameters: {'max_depth': 8, 'eta': 0.7073999855004374, 'gamma': 0.17087784322926078, 'subsample': 0.6533550921495694, 'colsample_bytree': 0.6400807615273459}. Best is trial 49 with value: 0.037242825271900086.\n"
     ]
    },
    {
     "name": "stdout",
     "output_type": "stream",
     "text": [
      "MAPE: 0.05589186387740962\n"
     ]
    },
    {
     "name": "stderr",
     "output_type": "stream",
     "text": [
      "[I 2023-07-19 23:01:37,673] Trial 122 finished with value: 0.04767416536970787 and parameters: {'max_depth': 8, 'eta': 0.8444098469116141, 'gamma': 0.1488693235225532, 'subsample': 0.5718654265481471, 'colsample_bytree': 0.5875583755113494}. Best is trial 49 with value: 0.037242825271900086.\n"
     ]
    },
    {
     "name": "stdout",
     "output_type": "stream",
     "text": [
      "MAPE: 0.04767416536970787\n"
     ]
    },
    {
     "name": "stderr",
     "output_type": "stream",
     "text": [
      "[I 2023-07-19 23:01:38,759] Trial 123 finished with value: 0.0536178676762608 and parameters: {'max_depth': 8, 'eta': 0.8458311906117336, 'gamma': 0.14102356087148268, 'subsample': 0.5516158139323489, 'colsample_bytree': 0.5863868736105845}. Best is trial 49 with value: 0.037242825271900086.\n"
     ]
    },
    {
     "name": "stdout",
     "output_type": "stream",
     "text": [
      "MAPE: 0.0536178676762608\n"
     ]
    },
    {
     "name": "stderr",
     "output_type": "stream",
     "text": [
      "[I 2023-07-19 23:01:40,057] Trial 124 finished with value: 0.053537172402369146 and parameters: {'max_depth': 9, 'eta': 0.9889500041083994, 'gamma': 0.12439258087996692, 'subsample': 0.6086973071666066, 'colsample_bytree': 0.6114593109685177}. Best is trial 49 with value: 0.037242825271900086.\n"
     ]
    },
    {
     "name": "stdout",
     "output_type": "stream",
     "text": [
      "MAPE: 0.053537172402369146\n"
     ]
    },
    {
     "name": "stderr",
     "output_type": "stream",
     "text": [
      "[I 2023-07-19 23:01:41,120] Trial 125 finished with value: 0.05684681348438363 and parameters: {'max_depth': 8, 'eta': 0.7633016018827143, 'gamma': 0.10131143227112291, 'subsample': 0.47189667652994755, 'colsample_bytree': 0.5641330375644668}. Best is trial 49 with value: 0.037242825271900086.\n"
     ]
    },
    {
     "name": "stdout",
     "output_type": "stream",
     "text": [
      "MAPE: 0.05684681348438363\n"
     ]
    },
    {
     "name": "stderr",
     "output_type": "stream",
     "text": [
      "[I 2023-07-19 23:01:42,559] Trial 126 finished with value: 0.056812235869362814 and parameters: {'max_depth': 10, 'eta': 0.8966800360122047, 'gamma': 0.15582336183626092, 'subsample': 0.5854376009423008, 'colsample_bytree': 0.6233250488124992}. Best is trial 49 with value: 0.037242825271900086.\n"
     ]
    },
    {
     "name": "stdout",
     "output_type": "stream",
     "text": [
      "MAPE: 0.056812235869362814\n"
     ]
    },
    {
     "name": "stderr",
     "output_type": "stream",
     "text": [
      "[I 2023-07-19 23:01:43,402] Trial 127 finished with value: 0.05533601017570391 and parameters: {'max_depth': 7, 'eta': 0.4654005771158105, 'gamma': 0.11236059795676664, 'subsample': 0.519674945757365, 'colsample_bytree': 0.5005106886907096}. Best is trial 49 with value: 0.037242825271900086.\n"
     ]
    },
    {
     "name": "stdout",
     "output_type": "stream",
     "text": [
      "MAPE: 0.05533601017570391\n"
     ]
    },
    {
     "name": "stderr",
     "output_type": "stream",
     "text": [
      "[I 2023-07-19 23:01:44,654] Trial 128 finished with value: 0.05727961751508303 and parameters: {'max_depth': 9, 'eta': 0.5754712492392734, 'gamma': 0.19082204516800425, 'subsample': 0.6364654250148484, 'colsample_bytree': 0.582968301852687}. Best is trial 49 with value: 0.037242825271900086.\n"
     ]
    },
    {
     "name": "stdout",
     "output_type": "stream",
     "text": [
      "MAPE: 0.05727961751508303\n"
     ]
    },
    {
     "name": "stderr",
     "output_type": "stream",
     "text": [
      "[I 2023-07-19 23:01:45,919] Trial 129 finished with value: 0.04905016296111722 and parameters: {'max_depth': 10, 'eta': 0.40301065554943505, 'gamma': 0.136248947484271, 'subsample': 0.5609724845990529, 'colsample_bytree': 0.5334060500083673}. Best is trial 49 with value: 0.037242825271900086.\n"
     ]
    },
    {
     "name": "stdout",
     "output_type": "stream",
     "text": [
      "MAPE: 0.04905016296111722\n"
     ]
    },
    {
     "name": "stderr",
     "output_type": "stream",
     "text": [
      "[I 2023-07-19 23:01:47,180] Trial 130 finished with value: 0.05966156739144367 and parameters: {'max_depth': 10, 'eta': 0.4016190809498985, 'gamma': 0.12765057118026407, 'subsample': 0.6009801018173425, 'colsample_bytree': 0.5346062815278287}. Best is trial 49 with value: 0.037242825271900086.\n"
     ]
    },
    {
     "name": "stdout",
     "output_type": "stream",
     "text": [
      "MAPE: 0.05966156739144367\n"
     ]
    },
    {
     "name": "stderr",
     "output_type": "stream",
     "text": [
      "[I 2023-07-19 23:01:48,444] Trial 131 finished with value: 0.05695901983588777 and parameters: {'max_depth': 10, 'eta': 0.5127835403234089, 'gamma': 0.14149769036258836, 'subsample': 0.539995757972022, 'colsample_bytree': 0.5423073471615104}. Best is trial 49 with value: 0.037242825271900086.\n"
     ]
    },
    {
     "name": "stdout",
     "output_type": "stream",
     "text": [
      "MAPE: 0.05695901983588777\n"
     ]
    },
    {
     "name": "stderr",
     "output_type": "stream",
     "text": [
      "[I 2023-07-19 23:01:49,874] Trial 132 finished with value: 0.048375946577064594 and parameters: {'max_depth': 10, 'eta': 0.4190921915721477, 'gamma': 0.16495929821471497, 'subsample': 0.5586742681777012, 'colsample_bytree': 0.6383991616487253}. Best is trial 49 with value: 0.037242825271900086.\n"
     ]
    },
    {
     "name": "stdout",
     "output_type": "stream",
     "text": [
      "MAPE: 0.048375946577064594\n"
     ]
    },
    {
     "name": "stderr",
     "output_type": "stream",
     "text": [
      "[I 2023-07-19 23:01:51,210] Trial 133 finished with value: 0.05500668355172336 and parameters: {'max_depth': 10, 'eta': 0.36232119805052126, 'gamma': 0.21020495823679183, 'subsample': 0.5802088840311813, 'colsample_bytree': 0.5972682685800458}. Best is trial 49 with value: 0.037242825271900086.\n"
     ]
    },
    {
     "name": "stdout",
     "output_type": "stream",
     "text": [
      "MAPE: 0.05500668355172336\n"
     ]
    },
    {
     "name": "stderr",
     "output_type": "stream",
     "text": [
      "[I 2023-07-19 23:01:52,550] Trial 134 finished with value: 0.05438488182891334 and parameters: {'max_depth': 10, 'eta': 0.30728301111623746, 'gamma': 0.17074304713534835, 'subsample': 0.5642137755028936, 'colsample_bytree': 0.5680855300881569}. Best is trial 49 with value: 0.037242825271900086.\n"
     ]
    },
    {
     "name": "stdout",
     "output_type": "stream",
     "text": [
      "MAPE: 0.05438488182891334\n"
     ]
    },
    {
     "name": "stderr",
     "output_type": "stream",
     "text": [
      "[I 2023-07-19 23:01:53,762] Trial 135 finished with value: 0.05674643446895477 and parameters: {'max_depth': 10, 'eta': 0.4312178729623599, 'gamma': 0.16006641230996121, 'subsample': 0.49258700713284403, 'colsample_bytree': 0.5150866252275977}. Best is trial 49 with value: 0.037242825271900086.\n"
     ]
    },
    {
     "name": "stdout",
     "output_type": "stream",
     "text": [
      "MAPE: 0.05674643446895477\n"
     ]
    },
    {
     "name": "stderr",
     "output_type": "stream",
     "text": [
      "[I 2023-07-19 23:01:55,170] Trial 136 finished with value: 0.04421894355856285 and parameters: {'max_depth': 10, 'eta': 0.38136033649252804, 'gamma': 0.1883320854272295, 'subsample': 0.5532399675287196, 'colsample_bytree': 0.6331873463570471}. Best is trial 49 with value: 0.037242825271900086.\n"
     ]
    },
    {
     "name": "stdout",
     "output_type": "stream",
     "text": [
      "MAPE: 0.04421894355856285\n"
     ]
    },
    {
     "name": "stderr",
     "output_type": "stream",
     "text": [
      "[I 2023-07-19 23:01:56,640] Trial 137 finished with value: 0.05647721627428783 and parameters: {'max_depth': 10, 'eta': 0.5096154552683713, 'gamma': 0.18152378815261544, 'subsample': 0.6206360069573276, 'colsample_bytree': 0.6350358442633518}. Best is trial 49 with value: 0.037242825271900086.\n"
     ]
    },
    {
     "name": "stdout",
     "output_type": "stream",
     "text": [
      "MAPE: 0.05647721627428783\n"
     ]
    },
    {
     "name": "stderr",
     "output_type": "stream",
     "text": [
      "[I 2023-07-19 23:01:57,873] Trial 138 finished with value: 0.04802662584971835 and parameters: {'max_depth': 9, 'eta': 0.5985853678769174, 'gamma': 0.2309853274666213, 'subsample': 0.6737713746841015, 'colsample_bytree': 0.6046603769756651}. Best is trial 49 with value: 0.037242825271900086.\n"
     ]
    },
    {
     "name": "stdout",
     "output_type": "stream",
     "text": [
      "MAPE: 0.04802662584971835\n"
     ]
    },
    {
     "name": "stderr",
     "output_type": "stream",
     "text": [
      "[I 2023-07-19 23:01:59,142] Trial 139 finished with value: 0.051988703083482316 and parameters: {'max_depth': 9, 'eta': 0.5961674385329191, 'gamma': 0.21301778919335784, 'subsample': 0.6874623121973311, 'colsample_bytree': 0.6041439482906077}. Best is trial 49 with value: 0.037242825271900086.\n"
     ]
    },
    {
     "name": "stdout",
     "output_type": "stream",
     "text": [
      "MAPE: 0.051988703083482316\n"
     ]
    },
    {
     "name": "stderr",
     "output_type": "stream",
     "text": [
      "[I 2023-07-19 23:02:00,373] Trial 140 finished with value: 0.05205664827128477 and parameters: {'max_depth': 9, 'eta': 0.4761440754112303, 'gamma': 0.24845330411358166, 'subsample': 0.6564140543134841, 'colsample_bytree': 0.5818034957052829}. Best is trial 49 with value: 0.037242825271900086.\n"
     ]
    },
    {
     "name": "stdout",
     "output_type": "stream",
     "text": [
      "MAPE: 0.05205664827128477\n"
     ]
    },
    {
     "name": "stderr",
     "output_type": "stream",
     "text": [
      "[I 2023-07-19 23:02:01,691] Trial 141 finished with value: 0.04226883931873961 and parameters: {'max_depth': 10, 'eta': 0.4432988431157064, 'gamma': 0.23999147889799044, 'subsample': 0.5093945152959479, 'colsample_bytree': 0.6193033825757766}. Best is trial 49 with value: 0.037242825271900086.\n"
     ]
    },
    {
     "name": "stdout",
     "output_type": "stream",
     "text": [
      "MAPE: 0.04226883931873961\n"
     ]
    },
    {
     "name": "stderr",
     "output_type": "stream",
     "text": [
      "[I 2023-07-19 23:02:02,974] Trial 142 finished with value: 0.05014839178459814 and parameters: {'max_depth': 9, 'eta': 0.5342849168896657, 'gamma': 0.2011703750039992, 'subsample': 0.5145198202872164, 'colsample_bytree': 0.6405314836842112}. Best is trial 49 with value: 0.037242825271900086.\n"
     ]
    },
    {
     "name": "stdout",
     "output_type": "stream",
     "text": [
      "MAPE: 0.05014839178459814\n"
     ]
    },
    {
     "name": "stderr",
     "output_type": "stream",
     "text": [
      "[I 2023-07-19 23:02:04,180] Trial 143 finished with value: 0.05848512994161518 and parameters: {'max_depth': 9, 'eta': 0.6596657070967862, 'gamma': 0.2924329828251604, 'subsample': 0.46834362222903614, 'colsample_bytree': 0.6206301986024856}. Best is trial 49 with value: 0.037242825271900086.\n"
     ]
    },
    {
     "name": "stdout",
     "output_type": "stream",
     "text": [
      "MAPE: 0.05848512994161518\n"
     ]
    },
    {
     "name": "stderr",
     "output_type": "stream",
     "text": [
      "[I 2023-07-19 23:02:05,550] Trial 144 finished with value: 0.05338692752290279 and parameters: {'max_depth': 10, 'eta': 0.610191507818299, 'gamma': 0.23404326903892306, 'subsample': 0.4994481565886717, 'colsample_bytree': 0.6019352599680305}. Best is trial 49 with value: 0.037242825271900086.\n"
     ]
    },
    {
     "name": "stdout",
     "output_type": "stream",
     "text": [
      "MAPE: 0.05338692752290279\n"
     ]
    },
    {
     "name": "stderr",
     "output_type": "stream",
     "text": [
      "[I 2023-07-19 23:02:06,603] Trial 145 finished with value: 0.05375664218717815 and parameters: {'max_depth': 8, 'eta': 0.4611172001381363, 'gamma': 0.18704129003006875, 'subsample': 0.43628464166480135, 'colsample_bytree': 0.6690500365906675}. Best is trial 49 with value: 0.037242825271900086.\n"
     ]
    },
    {
     "name": "stdout",
     "output_type": "stream",
     "text": [
      "MAPE: 0.05375664218717815\n"
     ]
    },
    {
     "name": "stderr",
     "output_type": "stream",
     "text": [
      "[I 2023-07-19 23:02:08,175] Trial 146 finished with value: 0.045748731197418 and parameters: {'max_depth': 10, 'eta': 0.5662872187057892, 'gamma': 0.23299804286185524, 'subsample': 0.5299690460020117, 'colsample_bytree': 0.6976972267852626}. Best is trial 49 with value: 0.037242825271900086.\n"
     ]
    },
    {
     "name": "stdout",
     "output_type": "stream",
     "text": [
      "MAPE: 0.045748731197418\n"
     ]
    },
    {
     "name": "stderr",
     "output_type": "stream",
     "text": [
      "[I 2023-07-19 23:02:09,711] Trial 147 finished with value: 0.058641817586498356 and parameters: {'max_depth': 10, 'eta': 0.3780246693290067, 'gamma': 0.24910009819668652, 'subsample': 0.5475964958391353, 'colsample_bytree': 0.689722300843923}. Best is trial 49 with value: 0.037242825271900086.\n"
     ]
    },
    {
     "name": "stdout",
     "output_type": "stream",
     "text": [
      "MAPE: 0.058641817586498356\n"
     ]
    },
    {
     "name": "stderr",
     "output_type": "stream",
     "text": [
      "[I 2023-07-19 23:02:11,088] Trial 148 finished with value: 0.04647942724420369 and parameters: {'max_depth': 10, 'eta': 0.5362641136841425, 'gamma': 0.22343955869972373, 'subsample': 0.4762990963912367, 'colsample_bytree': 0.6551260739015153}. Best is trial 49 with value: 0.037242825271900086.\n"
     ]
    },
    {
     "name": "stdout",
     "output_type": "stream",
     "text": [
      "MAPE: 0.04647942724420369\n"
     ]
    },
    {
     "name": "stderr",
     "output_type": "stream",
     "text": [
      "[I 2023-07-19 23:02:12,420] Trial 149 finished with value: 0.043958437998274744 and parameters: {'max_depth': 10, 'eta': 0.5582509458050199, 'gamma': 0.2791306884776983, 'subsample': 0.4171114041241936, 'colsample_bytree': 0.6536163883182664}. Best is trial 49 with value: 0.037242825271900086.\n"
     ]
    },
    {
     "name": "stdout",
     "output_type": "stream",
     "text": [
      "MAPE: 0.043958437998274744\n"
     ]
    },
    {
     "name": "stderr",
     "output_type": "stream",
     "text": [
      "[I 2023-07-19 23:02:13,741] Trial 150 finished with value: 0.05951148003046714 and parameters: {'max_depth': 10, 'eta': 0.5376773026279871, 'gamma': 0.2970672712789995, 'subsample': 0.3800589746850843, 'colsample_bytree': 0.7002542745770048}. Best is trial 49 with value: 0.037242825271900086.\n"
     ]
    },
    {
     "name": "stdout",
     "output_type": "stream",
     "text": [
      "MAPE: 0.05951148003046714\n"
     ]
    },
    {
     "name": "stderr",
     "output_type": "stream",
     "text": [
      "[I 2023-07-19 23:02:15,076] Trial 151 finished with value: 0.050762034202062004 and parameters: {'max_depth': 10, 'eta': 0.5774340930708081, 'gamma': 0.22537439790338493, 'subsample': 0.41198471523118685, 'colsample_bytree': 0.6538482975400683}. Best is trial 49 with value: 0.037242825271900086.\n"
     ]
    },
    {
     "name": "stdout",
     "output_type": "stream",
     "text": [
      "MAPE: 0.050762034202062004\n"
     ]
    },
    {
     "name": "stderr",
     "output_type": "stream",
     "text": [
      "[I 2023-07-19 23:02:16,477] Trial 152 finished with value: 0.061080606495847886 and parameters: {'max_depth': 10, 'eta': 0.7559834893521525, 'gamma': 0.34027063193849255, 'subsample': 0.45270365977236837, 'colsample_bytree': 0.6665809682672706}. Best is trial 49 with value: 0.037242825271900086.\n"
     ]
    },
    {
     "name": "stdout",
     "output_type": "stream",
     "text": [
      "MAPE: 0.061080606495847886\n"
     ]
    },
    {
     "name": "stderr",
     "output_type": "stream",
     "text": [
      "[I 2023-07-19 23:02:17,951] Trial 153 finished with value: 0.053037229147304965 and parameters: {'max_depth': 10, 'eta': 0.4964317706184003, 'gamma': 0.24786629332687438, 'subsample': 0.47844596430591024, 'colsample_bytree': 0.7154975143297807}. Best is trial 49 with value: 0.037242825271900086.\n"
     ]
    },
    {
     "name": "stdout",
     "output_type": "stream",
     "text": [
      "MAPE: 0.053037229147304965\n"
     ]
    },
    {
     "name": "stderr",
     "output_type": "stream",
     "text": [
      "[I 2023-07-19 23:02:19,310] Trial 154 finished with value: 0.05052174420591133 and parameters: {'max_depth': 10, 'eta': 0.6403040175345895, 'gamma': 0.22601872147300994, 'subsample': 0.42857644659227395, 'colsample_bytree': 0.6757187260625792}. Best is trial 49 with value: 0.037242825271900086.\n"
     ]
    },
    {
     "name": "stdout",
     "output_type": "stream",
     "text": [
      "MAPE: 0.05052174420591133\n"
     ]
    },
    {
     "name": "stderr",
     "output_type": "stream",
     "text": [
      "[I 2023-07-19 23:02:19,748] Trial 155 finished with value: 0.07059245435237782 and parameters: {'max_depth': 3, 'eta': 0.559439396992621, 'gamma': 0.2952666440247546, 'subsample': 0.488383344919103, 'colsample_bytree': 0.6499521715988456}. Best is trial 49 with value: 0.037242825271900086.\n"
     ]
    },
    {
     "name": "stdout",
     "output_type": "stream",
     "text": [
      "MAPE: 0.07059245435237782\n"
     ]
    },
    {
     "name": "stderr",
     "output_type": "stream",
     "text": [
      "[I 2023-07-19 23:02:20,850] Trial 156 finished with value: 0.05372969947409937 and parameters: {'max_depth': 8, 'eta': 0.4730521142269967, 'gamma': 0.2665385023247051, 'subsample': 0.5127358823157019, 'colsample_bytree': 0.6250032423054972}. Best is trial 49 with value: 0.037242825271900086.\n"
     ]
    },
    {
     "name": "stdout",
     "output_type": "stream",
     "text": [
      "MAPE: 0.05372969947409937\n"
     ]
    },
    {
     "name": "stderr",
     "output_type": "stream",
     "text": [
      "[I 2023-07-19 23:02:22,331] Trial 157 finished with value: 0.05675819412989111 and parameters: {'max_depth': 10, 'eta': 0.620307740643998, 'gamma': 0.20320230259033212, 'subsample': 0.4570956834026279, 'colsample_bytree': 0.6920527081014477}. Best is trial 49 with value: 0.037242825271900086.\n"
     ]
    },
    {
     "name": "stdout",
     "output_type": "stream",
     "text": [
      "MAPE: 0.05675819412989111\n"
     ]
    },
    {
     "name": "stderr",
     "output_type": "stream",
     "text": [
      "[I 2023-07-19 23:02:22,830] Trial 158 finished with value: 0.07250320418124105 and parameters: {'max_depth': 4, 'eta': 0.8136921913138762, 'gamma': 0.27329324008640454, 'subsample': 0.40956770762190653, 'colsample_bytree': 0.6137387554365641}. Best is trial 49 with value: 0.037242825271900086.\n"
     ]
    },
    {
     "name": "stdout",
     "output_type": "stream",
     "text": [
      "MAPE: 0.07250320418124105\n"
     ]
    },
    {
     "name": "stderr",
     "output_type": "stream",
     "text": [
      "[I 2023-07-19 23:02:23,906] Trial 159 finished with value: 0.04613332637729537 and parameters: {'max_depth': 8, 'eta': 0.7183792694369456, 'gamma': 0.23015249764296405, 'subsample': 0.47244409828167905, 'colsample_bytree': 0.5870335287631999}. Best is trial 49 with value: 0.037242825271900086.\n"
     ]
    },
    {
     "name": "stdout",
     "output_type": "stream",
     "text": [
      "MAPE: 0.04613332637729537\n"
     ]
    },
    {
     "name": "stderr",
     "output_type": "stream",
     "text": [
      "[I 2023-07-19 23:02:24,904] Trial 160 finished with value: 0.05040834521902519 and parameters: {'max_depth': 8, 'eta': 0.517420935439087, 'gamma': 0.37591676799930823, 'subsample': 0.47079724181636406, 'colsample_bytree': 0.6087057313082658}. Best is trial 49 with value: 0.037242825271900086.\n"
     ]
    },
    {
     "name": "stdout",
     "output_type": "stream",
     "text": [
      "MAPE: 0.05040834521902519\n"
     ]
    },
    {
     "name": "stderr",
     "output_type": "stream",
     "text": [
      "[I 2023-07-19 23:02:25,946] Trial 161 finished with value: 0.04554596038461782 and parameters: {'max_depth': 8, 'eta': 0.7041697551158451, 'gamma': 0.23848165557728004, 'subsample': 0.4927540567233768, 'colsample_bytree': 0.5887280025046676}. Best is trial 49 with value: 0.037242825271900086.\n"
     ]
    },
    {
     "name": "stdout",
     "output_type": "stream",
     "text": [
      "MAPE: 0.04554596038461782\n"
     ]
    },
    {
     "name": "stderr",
     "output_type": "stream",
     "text": [
      "[I 2023-07-19 23:02:27,008] Trial 162 finished with value: 0.0405414625215149 and parameters: {'max_depth': 8, 'eta': 0.7100037992468171, 'gamma': 0.2735611902965487, 'subsample': 0.5019457258868738, 'colsample_bytree': 0.5865028284967695}. Best is trial 49 with value: 0.037242825271900086.\n"
     ]
    },
    {
     "name": "stdout",
     "output_type": "stream",
     "text": [
      "MAPE: 0.0405414625215149\n"
     ]
    },
    {
     "name": "stderr",
     "output_type": "stream",
     "text": [
      "[I 2023-07-19 23:02:28,070] Trial 163 finished with value: 0.057421683204928874 and parameters: {'max_depth': 8, 'eta': 0.7129076069647022, 'gamma': 0.275799627603082, 'subsample': 0.5077250700899122, 'colsample_bytree': 0.5796679477852283}. Best is trial 49 with value: 0.037242825271900086.\n"
     ]
    },
    {
     "name": "stdout",
     "output_type": "stream",
     "text": [
      "MAPE: 0.057421683204928874\n"
     ]
    },
    {
     "name": "stderr",
     "output_type": "stream",
     "text": [
      "[I 2023-07-19 23:02:29,090] Trial 164 finished with value: 0.04998341582762377 and parameters: {'max_depth': 8, 'eta': 0.6902304010892633, 'gamma': 0.2551255826879724, 'subsample': 0.4398990139308736, 'colsample_bytree': 0.5899880180278749}. Best is trial 49 with value: 0.037242825271900086.\n"
     ]
    },
    {
     "name": "stdout",
     "output_type": "stream",
     "text": [
      "MAPE: 0.04998341582762377\n"
     ]
    },
    {
     "name": "stderr",
     "output_type": "stream",
     "text": [
      "[I 2023-07-19 23:02:30,238] Trial 165 finished with value: 0.054386861130734945 and parameters: {'max_depth': 8, 'eta': 0.7821418289677146, 'gamma': 0.23218177212410074, 'subsample': 0.5257872278642326, 'colsample_bytree': 0.6370449659289648}. Best is trial 49 with value: 0.037242825271900086.\n"
     ]
    },
    {
     "name": "stdout",
     "output_type": "stream",
     "text": [
      "MAPE: 0.054386861130734945\n"
     ]
    },
    {
     "name": "stderr",
     "output_type": "stream",
     "text": [
      "[I 2023-07-19 23:02:31,236] Trial 166 finished with value: 0.049970293167766924 and parameters: {'max_depth': 8, 'eta': 0.4463759016398028, 'gamma': 0.29118447769775235, 'subsample': 0.49736324847590324, 'colsample_bytree': 0.5923472604985864}. Best is trial 49 with value: 0.037242825271900086.\n"
     ]
    },
    {
     "name": "stdout",
     "output_type": "stream",
     "text": [
      "MAPE: 0.049970293167766924\n"
     ]
    },
    {
     "name": "stderr",
     "output_type": "stream",
     "text": [
      "[I 2023-07-19 23:02:32,256] Trial 167 finished with value: 0.04871168237196226 and parameters: {'max_depth': 8, 'eta': 0.658613561501241, 'gamma': 0.3052441610096101, 'subsample': 0.48208483721886036, 'colsample_bytree': 0.5565357226026797}. Best is trial 49 with value: 0.037242825271900086.\n"
     ]
    },
    {
     "name": "stdout",
     "output_type": "stream",
     "text": [
      "MAPE: 0.04871168237196226\n"
     ]
    },
    {
     "name": "stderr",
     "output_type": "stream",
     "text": [
      "[I 2023-07-19 23:02:33,205] Trial 168 finished with value: 0.16395381571984896 and parameters: {'max_depth': 8, 'eta': 0.16032754249515843, 'gamma': 0.2120125128542677, 'subsample': 0.3601385747987011, 'colsample_bytree': 0.653898682988987}. Best is trial 49 with value: 0.037242825271900086.\n"
     ]
    },
    {
     "name": "stdout",
     "output_type": "stream",
     "text": [
      "MAPE: 0.16395381571984896\n"
     ]
    },
    {
     "name": "stderr",
     "output_type": "stream",
     "text": [
      "[I 2023-07-19 23:02:34,219] Trial 169 finished with value: 0.048876458468326715 and parameters: {'max_depth': 8, 'eta': 0.5541079623427684, 'gamma': 0.3355123659639692, 'subsample': 0.46471506538082624, 'colsample_bytree': 0.6240117065962923}. Best is trial 49 with value: 0.037242825271900086.\n"
     ]
    },
    {
     "name": "stdout",
     "output_type": "stream",
     "text": [
      "MAPE: 0.048876458468326715\n"
     ]
    },
    {
     "name": "stderr",
     "output_type": "stream",
     "text": [
      "[I 2023-07-19 23:02:35,306] Trial 170 finished with value: 0.05362064476731468 and parameters: {'max_depth': 8, 'eta': 0.8526012454613853, 'gamma': 0.259258566886225, 'subsample': 0.5323901651994034, 'colsample_bytree': 0.5652830420058997}. Best is trial 49 with value: 0.037242825271900086.\n"
     ]
    },
    {
     "name": "stdout",
     "output_type": "stream",
     "text": [
      "MAPE: 0.05362064476731468\n"
     ]
    },
    {
     "name": "stderr",
     "output_type": "stream",
     "text": [
      "[I 2023-07-19 23:02:36,725] Trial 171 finished with value: 0.04682728359490299 and parameters: {'max_depth': 10, 'eta': 0.610090998661165, 'gamma': 0.23888993721476443, 'subsample': 0.7116302679870905, 'colsample_bytree': 0.5967462852433069}. Best is trial 49 with value: 0.037242825271900086.\n"
     ]
    },
    {
     "name": "stdout",
     "output_type": "stream",
     "text": [
      "MAPE: 0.04682728359490299\n"
     ]
    },
    {
     "name": "stderr",
     "output_type": "stream",
     "text": [
      "[I 2023-07-19 23:02:38,133] Trial 172 finished with value: 0.050209235278108465 and parameters: {'max_depth': 10, 'eta': 0.7125426540321708, 'gamma': 0.19133822384938043, 'subsample': 0.5123328902945199, 'colsample_bytree': 0.584764903701063}. Best is trial 49 with value: 0.037242825271900086.\n"
     ]
    },
    {
     "name": "stdout",
     "output_type": "stream",
     "text": [
      "MAPE: 0.050209235278108465\n"
     ]
    },
    {
     "name": "stderr",
     "output_type": "stream",
     "text": [
      "[I 2023-07-19 23:02:39,449] Trial 173 finished with value: 0.4682323777909578 and parameters: {'max_depth': 10, 'eta': 0.07084791440417977, 'gamma': 0.2147593631410098, 'subsample': 0.48828741539034526, 'colsample_bytree': 0.6303205842273796}. Best is trial 49 with value: 0.037242825271900086.\n"
     ]
    },
    {
     "name": "stdout",
     "output_type": "stream",
     "text": [
      "MAPE: 0.4682323777909578\n"
     ]
    },
    {
     "name": "stderr",
     "output_type": "stream",
     "text": [
      "[I 2023-07-19 23:02:40,888] Trial 174 finished with value: 0.0489757465501755 and parameters: {'max_depth': 10, 'eta': 0.6177328544544654, 'gamma': 0.24395983011950875, 'subsample': 0.7059143049475257, 'colsample_bytree': 0.6036430344317111}. Best is trial 49 with value: 0.037242825271900086.\n"
     ]
    },
    {
     "name": "stdout",
     "output_type": "stream",
     "text": [
      "MAPE: 0.0489757465501755\n"
     ]
    },
    {
     "name": "stderr",
     "output_type": "stream",
     "text": [
      "[I 2023-07-19 23:02:42,337] Trial 175 finished with value: 0.06005991338268337 and parameters: {'max_depth': 10, 'eta': 0.5147684969361722, 'gamma': 0.26895154354200135, 'subsample': 0.5425732088885843, 'colsample_bytree': 0.6771145182189509}. Best is trial 49 with value: 0.037242825271900086.\n"
     ]
    },
    {
     "name": "stdout",
     "output_type": "stream",
     "text": [
      "MAPE: 0.06005991338268337\n"
     ]
    },
    {
     "name": "stderr",
     "output_type": "stream",
     "text": [
      "[I 2023-07-19 23:02:43,348] Trial 176 finished with value: 0.05286486032623749 and parameters: {'max_depth': 8, 'eta': 0.7560199125459326, 'gamma': 0.1841912298786526, 'subsample': 0.4439008384775758, 'colsample_bytree': 0.5760442886450073}. Best is trial 49 with value: 0.037242825271900086.\n"
     ]
    },
    {
     "name": "stdout",
     "output_type": "stream",
     "text": [
      "MAPE: 0.05286486032623749\n"
     ]
    },
    {
     "name": "stderr",
     "output_type": "stream",
     "text": [
      "[I 2023-07-19 23:02:44,878] Trial 177 finished with value: 0.04752491107547003 and parameters: {'max_depth': 10, 'eta': 0.5638513350577693, 'gamma': 0.32605953663901516, 'subsample': 0.7933257977503976, 'colsample_bytree': 0.6534519442844875}. Best is trial 49 with value: 0.037242825271900086.\n"
     ]
    },
    {
     "name": "stdout",
     "output_type": "stream",
     "text": [
      "MAPE: 0.04752491107547003\n"
     ]
    },
    {
     "name": "stderr",
     "output_type": "stream",
     "text": [
      "[I 2023-07-19 23:02:46,486] Trial 178 finished with value: 0.05314594842102975 and parameters: {'max_depth': 10, 'eta': 0.5688905718837761, 'gamma': 0.3155468703455416, 'subsample': 0.7658139409284976, 'colsample_bytree': 0.6604312894260772}. Best is trial 49 with value: 0.037242825271900086.\n"
     ]
    },
    {
     "name": "stdout",
     "output_type": "stream",
     "text": [
      "MAPE: 0.05314594842102975\n"
     ]
    },
    {
     "name": "stderr",
     "output_type": "stream",
     "text": [
      "[I 2023-07-19 23:02:47,987] Trial 179 finished with value: 0.05086208148832282 and parameters: {'max_depth': 10, 'eta': 0.48224688418787565, 'gamma': 0.3733281087548459, 'subsample': 0.7292145206180473, 'colsample_bytree': 0.6440935397297054}. Best is trial 49 with value: 0.037242825271900086.\n"
     ]
    },
    {
     "name": "stdout",
     "output_type": "stream",
     "text": [
      "MAPE: 0.05086208148832282\n"
     ]
    },
    {
     "name": "stderr",
     "output_type": "stream",
     "text": [
      "[I 2023-07-19 23:02:49,644] Trial 180 finished with value: 0.052214842509778606 and parameters: {'max_depth': 10, 'eta': 0.43587059460054356, 'gamma': 0.24369263408204814, 'subsample': 0.7781619769332242, 'colsample_bytree': 0.6978437563738964}. Best is trial 49 with value: 0.037242825271900086.\n"
     ]
    },
    {
     "name": "stdout",
     "output_type": "stream",
     "text": [
      "MAPE: 0.052214842509778606\n"
     ]
    },
    {
     "name": "stderr",
     "output_type": "stream",
     "text": [
      "[I 2023-07-19 23:02:51,002] Trial 181 finished with value: 0.045163132891582594 and parameters: {'max_depth': 10, 'eta': 0.638002823169493, 'gamma': 0.3208389260922117, 'subsample': 0.5186935808220453, 'colsample_bytree': 0.6135655822907026}. Best is trial 49 with value: 0.037242825271900086.\n"
     ]
    },
    {
     "name": "stdout",
     "output_type": "stream",
     "text": [
      "MAPE: 0.045163132891582594\n"
     ]
    },
    {
     "name": "stderr",
     "output_type": "stream",
     "text": [
      "[I 2023-07-19 23:02:52,456] Trial 182 finished with value: 0.05398450373684745 and parameters: {'max_depth': 10, 'eta': 0.6539323728128258, 'gamma': 0.3254160885055944, 'subsample': 0.8231653929402538, 'colsample_bytree': 0.6190076119369328}. Best is trial 49 with value: 0.037242825271900086.\n"
     ]
    },
    {
     "name": "stdout",
     "output_type": "stream",
     "text": [
      "MAPE: 0.05398450373684745\n"
     ]
    },
    {
     "name": "stderr",
     "output_type": "stream",
     "text": [
      "[I 2023-07-19 23:02:53,892] Trial 183 finished with value: 0.05330445205409146 and parameters: {'max_depth': 10, 'eta': 0.5418641415441195, 'gamma': 0.29338583808855745, 'subsample': 0.518848422725745, 'colsample_bytree': 0.6335756305240532}. Best is trial 49 with value: 0.037242825271900086.\n"
     ]
    },
    {
     "name": "stdout",
     "output_type": "stream",
     "text": [
      "MAPE: 0.05330445205409146\n"
     ]
    },
    {
     "name": "stderr",
     "output_type": "stream",
     "text": [
      "[I 2023-07-19 23:02:55,316] Trial 184 finished with value: 0.04471338264049028 and parameters: {'max_depth': 10, 'eta': 0.6147855479744293, 'gamma': 0.3708975906215424, 'subsample': 0.500259760878764, 'colsample_bytree': 0.6746805414004969}. Best is trial 49 with value: 0.037242825271900086.\n"
     ]
    },
    {
     "name": "stdout",
     "output_type": "stream",
     "text": [
      "MAPE: 0.04471338264049028\n"
     ]
    },
    {
     "name": "stderr",
     "output_type": "stream",
     "text": [
      "[I 2023-07-19 23:02:56,856] Trial 185 finished with value: 0.04599426129731461 and parameters: {'max_depth': 10, 'eta': 0.607754963365372, 'gamma': 0.4082779639507925, 'subsample': 0.4975139223637559, 'colsample_bytree': 0.7122944133870063}. Best is trial 49 with value: 0.037242825271900086.\n"
     ]
    },
    {
     "name": "stdout",
     "output_type": "stream",
     "text": [
      "MAPE: 0.04599426129731461\n"
     ]
    },
    {
     "name": "stderr",
     "output_type": "stream",
     "text": [
      "[I 2023-07-19 23:02:58,289] Trial 186 finished with value: 0.04144700789048057 and parameters: {'max_depth': 10, 'eta': 0.618547177984184, 'gamma': 0.4248326487138418, 'subsample': 0.4931225917703557, 'colsample_bytree': 0.6858636377912067}. Best is trial 49 with value: 0.037242825271900086.\n"
     ]
    },
    {
     "name": "stdout",
     "output_type": "stream",
     "text": [
      "MAPE: 0.04144700789048057\n"
     ]
    },
    {
     "name": "stderr",
     "output_type": "stream",
     "text": [
      "[I 2023-07-19 23:02:59,837] Trial 187 finished with value: 0.05229686775123438 and parameters: {'max_depth': 10, 'eta': 0.6722781327310916, 'gamma': 0.42055683945694255, 'subsample': 0.4971748752103514, 'colsample_bytree': 0.7064511755146569}. Best is trial 49 with value: 0.037242825271900086.\n"
     ]
    },
    {
     "name": "stdout",
     "output_type": "stream",
     "text": [
      "MAPE: 0.05229686775123438\n"
     ]
    },
    {
     "name": "stderr",
     "output_type": "stream",
     "text": [
      "[I 2023-07-19 23:03:01,308] Trial 188 finished with value: 0.049170153843806734 and parameters: {'max_depth': 10, 'eta': 0.6152577072498033, 'gamma': 0.3986560442277869, 'subsample': 0.47262707764493345, 'colsample_bytree': 0.739189758683494}. Best is trial 49 with value: 0.037242825271900086.\n"
     ]
    },
    {
     "name": "stdout",
     "output_type": "stream",
     "text": [
      "MAPE: 0.049170153843806734\n"
     ]
    },
    {
     "name": "stderr",
     "output_type": "stream",
     "text": [
      "[I 2023-07-19 23:03:02,777] Trial 189 finished with value: 0.04843137697743826 and parameters: {'max_depth': 10, 'eta': 0.7342767866698868, 'gamma': 0.4684375055355238, 'subsample': 0.49343324333822414, 'colsample_bytree': 0.6791998549134374}. Best is trial 49 with value: 0.037242825271900086.\n"
     ]
    },
    {
     "name": "stdout",
     "output_type": "stream",
     "text": [
      "MAPE: 0.04843137697743826\n"
     ]
    },
    {
     "name": "stderr",
     "output_type": "stream",
     "text": [
      "[I 2023-07-19 23:03:04,094] Trial 190 finished with value: 0.05737132073242182 and parameters: {'max_depth': 9, 'eta': 0.49547305814705567, 'gamma': 0.3539334478462854, 'subsample': 0.46412682491155977, 'colsample_bytree': 0.7164630274859178}. Best is trial 49 with value: 0.037242825271900086.\n"
     ]
    },
    {
     "name": "stdout",
     "output_type": "stream",
     "text": [
      "MAPE: 0.05737132073242182\n"
     ]
    },
    {
     "name": "stderr",
     "output_type": "stream",
     "text": [
      "[I 2023-07-19 23:03:05,552] Trial 191 finished with value: 0.04615596487318821 and parameters: {'max_depth': 10, 'eta': 0.6082846645927462, 'gamma': 0.4197815112464508, 'subsample': 0.5059557387888484, 'colsample_bytree': 0.6854478287707394}. Best is trial 49 with value: 0.037242825271900086.\n"
     ]
    },
    {
     "name": "stdout",
     "output_type": "stream",
     "text": [
      "MAPE: 0.04615596487318821\n"
     ]
    },
    {
     "name": "stderr",
     "output_type": "stream",
     "text": [
      "[I 2023-07-19 23:03:07,013] Trial 192 finished with value: 0.04759313247762808 and parameters: {'max_depth': 10, 'eta': 0.677094500582701, 'gamma': 0.4203418111649403, 'subsample': 0.5105067427475488, 'colsample_bytree': 0.6870187525017456}. Best is trial 49 with value: 0.037242825271900086.\n"
     ]
    },
    {
     "name": "stdout",
     "output_type": "stream",
     "text": [
      "MAPE: 0.04759313247762808\n"
     ]
    },
    {
     "name": "stderr",
     "output_type": "stream",
     "text": [
      "[I 2023-07-19 23:03:08,553] Trial 193 finished with value: 0.04750969540419204 and parameters: {'max_depth': 10, 'eta': 0.5897930413878918, 'gamma': 0.5066903263725457, 'subsample': 0.5016629384682777, 'colsample_bytree': 0.7169698582367152}. Best is trial 49 with value: 0.037242825271900086.\n"
     ]
    },
    {
     "name": "stdout",
     "output_type": "stream",
     "text": [
      "MAPE: 0.04750969540419204\n"
     ]
    },
    {
     "name": "stderr",
     "output_type": "stream",
     "text": [
      "[I 2023-07-19 23:03:10,047] Trial 194 finished with value: 0.05180907276850156 and parameters: {'max_depth': 10, 'eta': 0.5391252869669236, 'gamma': 0.3955966871041556, 'subsample': 0.48067119499304584, 'colsample_bytree': 0.7020159238011087}. Best is trial 49 with value: 0.037242825271900086.\n"
     ]
    },
    {
     "name": "stdout",
     "output_type": "stream",
     "text": [
      "MAPE: 0.05180907276850156\n"
     ]
    },
    {
     "name": "stderr",
     "output_type": "stream",
     "text": [
      "[I 2023-07-19 23:03:11,556] Trial 195 finished with value: 0.06003272767986535 and parameters: {'max_depth': 10, 'eta': 0.7670023014772938, 'gamma': 0.37180494966187605, 'subsample': 0.5243185197491307, 'colsample_bytree': 0.6763497535907392}. Best is trial 49 with value: 0.037242825271900086.\n"
     ]
    },
    {
     "name": "stdout",
     "output_type": "stream",
     "text": [
      "MAPE: 0.06003272767986535\n"
     ]
    },
    {
     "name": "stderr",
     "output_type": "stream",
     "text": [
      "[I 2023-07-19 23:03:13,042] Trial 196 finished with value: 0.053548975003326595 and parameters: {'max_depth': 10, 'eta': 0.629003206201148, 'gamma': 0.5166593312657923, 'subsample': 0.4541505593323686, 'colsample_bytree': 0.734692123162128}. Best is trial 49 with value: 0.037242825271900086.\n"
     ]
    },
    {
     "name": "stdout",
     "output_type": "stream",
     "text": [
      "MAPE: 0.053548975003326595\n"
     ]
    },
    {
     "name": "stderr",
     "output_type": "stream",
     "text": [
      "[I 2023-07-19 23:03:14,419] Trial 197 finished with value: 0.04866811670526026 and parameters: {'max_depth': 10, 'eta': 0.47594975886786817, 'gamma': 0.34115135030822985, 'subsample': 0.4839279186038293, 'colsample_bytree': 0.6731204108266267}. Best is trial 49 with value: 0.037242825271900086.\n"
     ]
    },
    {
     "name": "stdout",
     "output_type": "stream",
     "text": [
      "MAPE: 0.04866811670526026\n"
     ]
    },
    {
     "name": "stderr",
     "output_type": "stream",
     "text": [
      "[I 2023-07-19 23:03:16,017] Trial 198 finished with value: 0.05412010610641726 and parameters: {'max_depth': 10, 'eta': 0.6981905869311664, 'gamma': 0.43701154962729005, 'subsample': 0.5393589804465763, 'colsample_bytree': 0.6915323969289967}. Best is trial 49 with value: 0.037242825271900086.\n"
     ]
    },
    {
     "name": "stdout",
     "output_type": "stream",
     "text": [
      "MAPE: 0.05412010610641726\n"
     ]
    },
    {
     "name": "stderr",
     "output_type": "stream",
     "text": [
      "[I 2023-07-19 23:03:17,159] Trial 199 finished with value: 0.05644047282436714 and parameters: {'max_depth': 8, 'eta': 0.5864207423427485, 'gamma': 0.35918701873519987, 'subsample': 0.5088168641756045, 'colsample_bytree': 0.6582939542240204}. Best is trial 49 with value: 0.037242825271900086.\n"
     ]
    },
    {
     "name": "stdout",
     "output_type": "stream",
     "text": [
      "MAPE: 0.05644047282436714\n"
     ]
    },
    {
     "name": "stderr",
     "output_type": "stream",
     "text": [
      "[I 2023-07-19 23:03:18,485] Trial 200 finished with value: 0.04905088738510384 and parameters: {'max_depth': 9, 'eta': 0.9287773055359405, 'gamma': 0.3104112230415222, 'subsample': 0.4279127360550904, 'colsample_bytree': 0.7314048223452577}. Best is trial 49 with value: 0.037242825271900086.\n"
     ]
    },
    {
     "name": "stdout",
     "output_type": "stream",
     "text": [
      "MAPE: 0.04905088738510384\n"
     ]
    },
    {
     "name": "stderr",
     "output_type": "stream",
     "text": [
      "[I 2023-07-19 23:03:19,820] Trial 201 finished with value: 0.05190195276232628 and parameters: {'max_depth': 10, 'eta': 0.6195517830538327, 'gamma': 0.27290742917046773, 'subsample': 0.4748917007970919, 'colsample_bytree': 0.6162307904864058}. Best is trial 49 with value: 0.037242825271900086.\n"
     ]
    },
    {
     "name": "stdout",
     "output_type": "stream",
     "text": [
      "MAPE: 0.05190195276232628\n"
     ]
    },
    {
     "name": "stderr",
     "output_type": "stream",
     "text": [
      "[I 2023-07-19 23:03:21,357] Trial 202 finished with value: 0.05191550697172647 and parameters: {'max_depth': 10, 'eta': 0.5200670876707325, 'gamma': 0.4036670271916647, 'subsample': 0.523624473593175, 'colsample_bytree': 0.7492632612765138}. Best is trial 49 with value: 0.037242825271900086.\n"
     ]
    },
    {
     "name": "stdout",
     "output_type": "stream",
     "text": [
      "MAPE: 0.05191550697172647\n"
     ]
    },
    {
     "name": "stderr",
     "output_type": "stream",
     "text": [
      "[I 2023-07-19 23:03:22,560] Trial 203 finished with value: 0.044126162971903304 and parameters: {'max_depth': 10, 'eta': 0.5755386522047512, 'gamma': 0.45992870664607177, 'subsample': 0.34051296489472155, 'colsample_bytree': 0.6438996479094201}. Best is trial 49 with value: 0.037242825271900086.\n"
     ]
    },
    {
     "name": "stdout",
     "output_type": "stream",
     "text": [
      "MAPE: 0.044126162971903304\n"
     ]
    },
    {
     "name": "stderr",
     "output_type": "stream",
     "text": [
      "[I 2023-07-19 23:03:23,978] Trial 204 finished with value: 0.048796587604928936 and parameters: {'max_depth': 10, 'eta': 0.5636056567168957, 'gamma': 0.45734432928441593, 'subsample': 0.4884555059531434, 'colsample_bytree': 0.6647116409270015}. Best is trial 49 with value: 0.037242825271900086.\n"
     ]
    },
    {
     "name": "stdout",
     "output_type": "stream",
     "text": [
      "MAPE: 0.048796587604928936\n"
     ]
    },
    {
     "name": "stderr",
     "output_type": "stream",
     "text": [
      "[I 2023-07-19 23:03:25,204] Trial 205 finished with value: 0.06494085481447714 and parameters: {'max_depth': 10, 'eta': 0.6685214989941399, 'gamma': 0.522795505897125, 'subsample': 0.3401473847866714, 'colsample_bytree': 0.6444642201648391}. Best is trial 49 with value: 0.037242825271900086.\n"
     ]
    },
    {
     "name": "stdout",
     "output_type": "stream",
     "text": [
      "MAPE: 0.06494085481447714\n"
     ]
    },
    {
     "name": "stderr",
     "output_type": "stream",
     "text": [
      "[I 2023-07-19 23:03:26,532] Trial 206 finished with value: 0.0535688403178387 and parameters: {'max_depth': 10, 'eta': 0.45121961911367986, 'gamma': 0.39864556462363404, 'subsample': 0.37571515610558226, 'colsample_bytree': 0.7067208391703057}. Best is trial 49 with value: 0.037242825271900086.\n"
     ]
    },
    {
     "name": "stdout",
     "output_type": "stream",
     "text": [
      "MAPE: 0.0535688403178387\n"
     ]
    },
    {
     "name": "stderr",
     "output_type": "stream",
     "text": [
      "[I 2023-07-19 23:03:27,719] Trial 207 finished with value: 0.04409612748258371 and parameters: {'max_depth': 8, 'eta': 0.8048236632059983, 'gamma': 0.11343914155071573, 'subsample': 0.5497283679214456, 'colsample_bytree': 0.6867348211246614}. Best is trial 49 with value: 0.037242825271900086.\n"
     ]
    },
    {
     "name": "stdout",
     "output_type": "stream",
     "text": [
      "MAPE: 0.04409612748258371\n"
     ]
    },
    {
     "name": "stderr",
     "output_type": "stream",
     "text": [
      "[I 2023-07-19 23:03:28,897] Trial 208 finished with value: 0.052863236433943604 and parameters: {'max_depth': 8, 'eta': 0.7927175441098022, 'gamma': 0.10909339857265848, 'subsample': 0.55028170366298, 'colsample_bytree': 0.6861191746016663}. Best is trial 49 with value: 0.037242825271900086.\n"
     ]
    },
    {
     "name": "stdout",
     "output_type": "stream",
     "text": [
      "MAPE: 0.052863236433943604\n"
     ]
    },
    {
     "name": "stderr",
     "output_type": "stream",
     "text": [
      "[I 2023-07-19 23:03:30,111] Trial 209 finished with value: 0.06447054524742085 and parameters: {'max_depth': 8, 'eta': 0.7219405596920215, 'gamma': 0.09338948788004899, 'subsample': 0.5337944639104204, 'colsample_bytree': 0.7114903540955071}. Best is trial 49 with value: 0.037242825271900086.\n"
     ]
    },
    {
     "name": "stdout",
     "output_type": "stream",
     "text": [
      "MAPE: 0.06447054524742085\n"
     ]
    },
    {
     "name": "stderr",
     "output_type": "stream",
     "text": [
      "[I 2023-07-19 23:03:31,012] Trial 210 finished with value: 0.04529356936225615 and parameters: {'max_depth': 8, 'eta': 0.8324767148273997, 'gamma': 0.11647934708396461, 'subsample': 0.3042517148533492, 'colsample_bytree': 0.6291570527486139}. Best is trial 49 with value: 0.037242825271900086.\n"
     ]
    },
    {
     "name": "stdout",
     "output_type": "stream",
     "text": [
      "MAPE: 0.04529356936225615\n"
     ]
    },
    {
     "name": "stderr",
     "output_type": "stream",
     "text": [
      "[I 2023-07-19 23:03:31,925] Trial 211 finished with value: 0.04840128502462353 and parameters: {'max_depth': 8, 'eta': 0.8024248651594543, 'gamma': 0.11628733371412159, 'subsample': 0.35013385363173816, 'colsample_bytree': 0.6239290217323615}. Best is trial 49 with value: 0.037242825271900086.\n"
     ]
    },
    {
     "name": "stdout",
     "output_type": "stream",
     "text": [
      "MAPE: 0.04840128502462353\n"
     ]
    },
    {
     "name": "stderr",
     "output_type": "stream",
     "text": [
      "[I 2023-07-19 23:03:32,845] Trial 212 finished with value: 0.05909104529487667 and parameters: {'max_depth': 8, 'eta': 0.9181164883657128, 'gamma': 0.12601482842210593, 'subsample': 0.31721467073599974, 'colsample_bytree': 0.6419180155699852}. Best is trial 49 with value: 0.037242825271900086.\n"
     ]
    },
    {
     "name": "stdout",
     "output_type": "stream",
     "text": [
      "MAPE: 0.05909104529487667\n"
     ]
    },
    {
     "name": "stderr",
     "output_type": "stream",
     "text": [
      "[I 2023-07-19 23:03:33,742] Trial 213 finished with value: 0.051496007334267624 and parameters: {'max_depth': 8, 'eta': 0.8617355895368204, 'gamma': 0.11223916658550596, 'subsample': 0.2871406484334428, 'colsample_bytree': 0.6687638451867861}. Best is trial 49 with value: 0.037242825271900086.\n"
     ]
    },
    {
     "name": "stdout",
     "output_type": "stream",
     "text": [
      "MAPE: 0.051496007334267624\n"
     ]
    },
    {
     "name": "stderr",
     "output_type": "stream",
     "text": [
      "[I 2023-07-19 23:03:34,604] Trial 214 finished with value: 0.8084351873021021 and parameters: {'max_depth': 8, 'eta': 0.020384419356461507, 'gamma': 0.10593011815575862, 'subsample': 0.32760542983581586, 'colsample_bytree': 0.6868390772548921}. Best is trial 49 with value: 0.037242825271900086.\n"
     ]
    },
    {
     "name": "stdout",
     "output_type": "stream",
     "text": [
      "MAPE: 0.8084351873021021\n"
     ]
    },
    {
     "name": "stderr",
     "output_type": "stream",
     "text": [
      "[I 2023-07-19 23:03:35,686] Trial 215 finished with value: 0.05480936215986237 and parameters: {'max_depth': 8, 'eta': 0.7286513449337878, 'gamma': 0.101097825923617, 'subsample': 0.5096165036534277, 'colsample_bytree': 0.602448014495543}. Best is trial 49 with value: 0.037242825271900086.\n"
     ]
    },
    {
     "name": "stdout",
     "output_type": "stream",
     "text": [
      "MAPE: 0.05480936215986237\n"
     ]
    },
    {
     "name": "stderr",
     "output_type": "stream",
     "text": [
      "[I 2023-07-19 23:03:36,708] Trial 216 finished with value: 0.06183219291023831 and parameters: {'max_depth': 8, 'eta': 0.8061668184750758, 'gamma': 0.0830749372422164, 'subsample': 0.30339444016070555, 'colsample_bytree': 0.85441813149568}. Best is trial 49 with value: 0.037242825271900086.\n"
     ]
    },
    {
     "name": "stdout",
     "output_type": "stream",
     "text": [
      "MAPE: 0.06183219291023831\n"
     ]
    },
    {
     "name": "stderr",
     "output_type": "stream",
     "text": [
      "[I 2023-07-19 23:03:37,839] Trial 217 finished with value: 0.05413238551905222 and parameters: {'max_depth': 8, 'eta': 0.6634414988598898, 'gamma': 0.12215850796374637, 'subsample': 0.551985212990102, 'colsample_bytree': 0.6384926488100825}. Best is trial 49 with value: 0.037242825271900086.\n"
     ]
    },
    {
     "name": "stdout",
     "output_type": "stream",
     "text": [
      "MAPE: 0.05413238551905222\n"
     ]
    },
    {
     "name": "stderr",
     "output_type": "stream",
     "text": [
      "[I 2023-07-19 23:03:38,072] Trial 218 finished with value: 0.07924739849468818 and parameters: {'max_depth': 1, 'eta': 0.28057923490708053, 'gamma': 0.5819032024946674, 'subsample': 0.4984495570317976, 'colsample_bytree': 0.5686272498988171}. Best is trial 49 with value: 0.037242825271900086.\n"
     ]
    },
    {
     "name": "stdout",
     "output_type": "stream",
     "text": [
      "MAPE: 0.07924739849468818\n"
     ]
    },
    {
     "name": "stderr",
     "output_type": "stream",
     "text": [
      "[I 2023-07-19 23:03:39,011] Trial 219 finished with value: 0.05280641418661837 and parameters: {'max_depth': 8, 'eta': 0.3941881598343533, 'gamma': 0.457147656737185, 'subsample': 0.3915884067174051, 'colsample_bytree': 0.613624403957634}. Best is trial 49 with value: 0.037242825271900086.\n"
     ]
    },
    {
     "name": "stdout",
     "output_type": "stream",
     "text": [
      "MAPE: 0.05280641418661837\n"
     ]
    },
    {
     "name": "stderr",
     "output_type": "stream",
     "text": [
      "[I 2023-07-19 23:03:39,986] Trial 220 finished with value: 0.04004605651886604 and parameters: {'max_depth': 9, 'eta': 0.6183193758965452, 'gamma': 0.131011920272427, 'subsample': 0.2597907680363247, 'colsample_bytree': 0.6319846669764719}. Best is trial 49 with value: 0.037242825271900086.\n"
     ]
    },
    {
     "name": "stdout",
     "output_type": "stream",
     "text": [
      "MAPE: 0.04004605651886604\n"
     ]
    },
    {
     "name": "stderr",
     "output_type": "stream",
     "text": [
      "[I 2023-07-19 23:03:41,094] Trial 221 finished with value: 0.048087141525082706 and parameters: {'max_depth': 9, 'eta': 0.612178149023939, 'gamma': 0.0983436058083017, 'subsample': 0.3642251583300785, 'colsample_bytree': 0.6314054117337847}. Best is trial 49 with value: 0.037242825271900086.\n"
     ]
    },
    {
     "name": "stdout",
     "output_type": "stream",
     "text": [
      "MAPE: 0.048087141525082706\n"
     ]
    },
    {
     "name": "stderr",
     "output_type": "stream",
     "text": [
      "[I 2023-07-19 23:03:41,978] Trial 222 finished with value: 0.05581080971123571 and parameters: {'max_depth': 8, 'eta': 0.646230769121473, 'gamma': 0.12675204106994087, 'subsample': 0.29653420787368223, 'colsample_bytree': 0.6614998011427378}. Best is trial 49 with value: 0.037242825271900086.\n"
     ]
    },
    {
     "name": "stdout",
     "output_type": "stream",
     "text": [
      "MAPE: 0.05581080971123571\n"
     ]
    },
    {
     "name": "stderr",
     "output_type": "stream",
     "text": [
      "[I 2023-07-19 23:03:42,848] Trial 223 finished with value: 0.051212922628385206 and parameters: {'max_depth': 9, 'eta': 0.7167996983981431, 'gamma': 0.13689586092762998, 'subsample': 0.23824899147710427, 'colsample_bytree': 0.6013283547863942}. Best is trial 49 with value: 0.037242825271900086.\n"
     ]
    },
    {
     "name": "stdout",
     "output_type": "stream",
     "text": [
      "MAPE: 0.051212922628385206\n"
     ]
    },
    {
     "name": "stderr",
     "output_type": "stream",
     "text": [
      "[I 2023-07-19 23:03:43,694] Trial 224 finished with value: 0.05698070826525374 and parameters: {'max_depth': 8, 'eta': 0.5760572567326977, 'gamma': 0.11561020951840105, 'subsample': 0.27857746897350927, 'colsample_bytree': 0.5785790876625347}. Best is trial 49 with value: 0.037242825271900086.\n"
     ]
    },
    {
     "name": "stdout",
     "output_type": "stream",
     "text": [
      "MAPE: 0.05698070826525374\n"
     ]
    },
    {
     "name": "stderr",
     "output_type": "stream",
     "text": [
      "[I 2023-07-19 23:03:44,766] Trial 225 finished with value: 0.056284458541065736 and parameters: {'max_depth': 10, 'eta': 0.5284119565886801, 'gamma': 0.15128085526983137, 'subsample': 0.2578343667432983, 'colsample_bytree': 0.6484598450304595}. Best is trial 49 with value: 0.037242825271900086.\n"
     ]
    },
    {
     "name": "stdout",
     "output_type": "stream",
     "text": [
      "MAPE: 0.056284458541065736\n"
     ]
    },
    {
     "name": "stderr",
     "output_type": "stream",
     "text": [
      "[I 2023-07-19 23:03:45,092] Trial 226 finished with value: 0.07693242826730946 and parameters: {'max_depth': 2, 'eta': 0.7641052997340192, 'gamma': 0.3554103378450753, 'subsample': 0.518734344712448, 'colsample_bytree': 0.6206754873202455}. Best is trial 49 with value: 0.037242825271900086.\n"
     ]
    },
    {
     "name": "stdout",
     "output_type": "stream",
     "text": [
      "MAPE: 0.07693242826730946\n"
     ]
    },
    {
     "name": "stderr",
     "output_type": "stream",
     "text": [
      "[I 2023-07-19 23:03:46,290] Trial 227 finished with value: 0.04961106681444819 and parameters: {'max_depth': 8, 'eta': 0.967409782029218, 'gamma': 0.4354059389837862, 'subsample': 0.5768481244807354, 'colsample_bytree': 0.681659701503198}. Best is trial 49 with value: 0.037242825271900086.\n"
     ]
    },
    {
     "name": "stdout",
     "output_type": "stream",
     "text": [
      "MAPE: 0.04961106681444819\n"
     ]
    },
    {
     "name": "stderr",
     "output_type": "stream",
     "text": [
      "[I 2023-07-19 23:03:47,547] Trial 228 finished with value: 0.05995827209656714 and parameters: {'max_depth': 10, 'eta': 0.4944565926969522, 'gamma': 0.12162925260079753, 'subsample': 0.5335992941002788, 'colsample_bytree': 0.5542274370114373}. Best is trial 49 with value: 0.037242825271900086.\n"
     ]
    },
    {
     "name": "stdout",
     "output_type": "stream",
     "text": [
      "MAPE: 0.05995827209656714\n"
     ]
    },
    {
     "name": "stderr",
     "output_type": "stream",
     "text": [
      "[I 2023-07-19 23:03:48,572] Trial 229 finished with value: 0.06171495059928771 and parameters: {'max_depth': 8, 'eta': 0.5947219561142948, 'gamma': 0.13235382501000922, 'subsample': 0.45809800749493734, 'colsample_bytree': 0.5912346584712784}. Best is trial 49 with value: 0.037242825271900086.\n"
     ]
    },
    {
     "name": "stdout",
     "output_type": "stream",
     "text": [
      "MAPE: 0.06171495059928771\n"
     ]
    },
    {
     "name": "stderr",
     "output_type": "stream",
     "text": [
      "[I 2023-07-19 23:03:49,444] Trial 230 finished with value: 0.05868585362355347 and parameters: {'max_depth': 7, 'eta': 0.6751316957670527, 'gamma': 0.09100578112221289, 'subsample': 0.33734491617576806, 'colsample_bytree': 0.7021592222674341}. Best is trial 49 with value: 0.037242825271900086.\n"
     ]
    },
    {
     "name": "stdout",
     "output_type": "stream",
     "text": [
      "MAPE: 0.05868585362355347\n"
     ]
    },
    {
     "name": "stderr",
     "output_type": "stream",
     "text": [
      "[I 2023-07-19 23:03:50,877] Trial 231 finished with value: 0.0486306698837849 and parameters: {'max_depth': 10, 'eta': 0.5384230271049056, 'gamma': 0.017029690249564283, 'subsample': 0.49484990964506803, 'colsample_bytree': 0.6580277265709954}. Best is trial 49 with value: 0.037242825271900086.\n"
     ]
    },
    {
     "name": "stdout",
     "output_type": "stream",
     "text": [
      "MAPE: 0.0486306698837849\n"
     ]
    },
    {
     "name": "stderr",
     "output_type": "stream",
     "text": [
      "[I 2023-07-19 23:03:52,275] Trial 232 finished with value: 0.04687348670821529 and parameters: {'max_depth': 10, 'eta': 0.5637128936305875, 'gamma': 0.22073500530265378, 'subsample': 0.4673663303283136, 'colsample_bytree': 0.6704087946816926}. Best is trial 49 with value: 0.037242825271900086.\n"
     ]
    },
    {
     "name": "stdout",
     "output_type": "stream",
     "text": [
      "MAPE: 0.04687348670821529\n"
     ]
    },
    {
     "name": "stderr",
     "output_type": "stream",
     "text": [
      "[I 2023-07-19 23:03:53,762] Trial 233 finished with value: 0.04788763348186694 and parameters: {'max_depth': 10, 'eta': 0.6320961564921597, 'gamma': 0.2865407350416799, 'subsample': 0.511540324778033, 'colsample_bytree': 0.6326536115579738}. Best is trial 49 with value: 0.037242825271900086.\n"
     ]
    },
    {
     "name": "stdout",
     "output_type": "stream",
     "text": [
      "MAPE: 0.04788763348186694\n"
     ]
    },
    {
     "name": "stderr",
     "output_type": "stream",
     "text": [
      "[I 2023-07-19 23:03:55,100] Trial 234 finished with value: 0.14271569057698244 and parameters: {'max_depth': 10, 'eta': 0.17200498910854348, 'gamma': 0.2694668596760687, 'subsample': 0.47904472293428346, 'colsample_bytree': 0.6537269145395804}. Best is trial 49 with value: 0.037242825271900086.\n"
     ]
    },
    {
     "name": "stdout",
     "output_type": "stream",
     "text": [
      "MAPE: 0.14271569057698244\n"
     ]
    },
    {
     "name": "stderr",
     "output_type": "stream",
     "text": [
      "[I 2023-07-19 23:03:56,529] Trial 235 finished with value: 0.04943128662258116 and parameters: {'max_depth': 10, 'eta': 0.4402063135701549, 'gamma': 0.8480194403722268, 'subsample': 0.4423196707090987, 'colsample_bytree': 0.6908174001132353}. Best is trial 49 with value: 0.037242825271900086.\n"
     ]
    },
    {
     "name": "stdout",
     "output_type": "stream",
     "text": [
      "MAPE: 0.04943128662258116\n"
     ]
    },
    {
     "name": "stderr",
     "output_type": "stream",
     "text": [
      "[I 2023-07-19 23:03:57,847] Trial 236 finished with value: 0.05523991050002721 and parameters: {'max_depth': 10, 'eta': 0.506896460680897, 'gamma': 0.327675271452337, 'subsample': 0.5007071969651133, 'colsample_bytree': 0.6143190072590045}. Best is trial 49 with value: 0.037242825271900086.\n"
     ]
    },
    {
     "name": "stdout",
     "output_type": "stream",
     "text": [
      "MAPE: 0.05523991050002721\n"
     ]
    },
    {
     "name": "stderr",
     "output_type": "stream",
     "text": [
      "[I 2023-07-19 23:03:59,339] Trial 237 finished with value: 0.0583731288237343 and parameters: {'max_depth': 10, 'eta': 0.7070336725495192, 'gamma': 0.02248300632019101, 'subsample': 0.5236048785567878, 'colsample_bytree': 0.6446184068222359}. Best is trial 49 with value: 0.037242825271900086.\n"
     ]
    },
    {
     "name": "stdout",
     "output_type": "stream",
     "text": [
      "MAPE: 0.0583731288237343\n"
     ]
    },
    {
     "name": "stderr",
     "output_type": "stream",
     "text": [
      "[I 2023-07-19 23:04:00,523] Trial 238 finished with value: 0.05908536502157005 and parameters: {'max_depth': 9, 'eta': 0.33461029696672856, 'gamma': 0.2536387089530319, 'subsample': 0.5547853192522583, 'colsample_bytree': 0.5930501630520495}. Best is trial 49 with value: 0.037242825271900086.\n"
     ]
    },
    {
     "name": "stdout",
     "output_type": "stream",
     "text": [
      "MAPE: 0.05908536502157005\n"
     ]
    },
    {
     "name": "stderr",
     "output_type": "stream",
     "text": [
      "[I 2023-07-19 23:04:01,656] Trial 239 finished with value: 0.055326413438546385 and parameters: {'max_depth': 8, 'eta': 0.8505746657729937, 'gamma': 0.3786329292652014, 'subsample': 0.48839916444542547, 'colsample_bytree': 0.6714842095285921}. Best is trial 49 with value: 0.037242825271900086.\n"
     ]
    },
    {
     "name": "stdout",
     "output_type": "stream",
     "text": [
      "MAPE: 0.055326413438546385\n"
     ]
    },
    {
     "name": "stderr",
     "output_type": "stream",
     "text": [
      "[I 2023-07-19 23:04:02,933] Trial 240 finished with value: 0.08621698800336633 and parameters: {'max_depth': 10, 'eta': 0.23224793583125555, 'gamma': 0.1041481566429338, 'subsample': 0.40720098741690114, 'colsample_bytree': 0.6330729605104064}. Best is trial 49 with value: 0.037242825271900086.\n"
     ]
    },
    {
     "name": "stdout",
     "output_type": "stream",
     "text": [
      "MAPE: 0.08621698800336633\n"
     ]
    },
    {
     "name": "stderr",
     "output_type": "stream",
     "text": [
      "[I 2023-07-19 23:04:04,357] Trial 241 finished with value: 0.04485924905880412 and parameters: {'max_depth': 10, 'eta': 0.6029044766165144, 'gamma': 0.23189500383917083, 'subsample': 0.7329490511991953, 'colsample_bytree': 0.5978941794542615}. Best is trial 49 with value: 0.037242825271900086.\n"
     ]
    },
    {
     "name": "stdout",
     "output_type": "stream",
     "text": [
      "MAPE: 0.04485924905880412\n"
     ]
    },
    {
     "name": "stderr",
     "output_type": "stream",
     "text": [
      "[I 2023-07-19 23:04:05,734] Trial 242 finished with value: 0.057936613222599596 and parameters: {'max_depth': 10, 'eta': 0.579555203551735, 'gamma': 0.014525113020244434, 'subsample': 0.5316449076379157, 'colsample_bytree': 0.5749195978696425}. Best is trial 49 with value: 0.037242825271900086.\n"
     ]
    },
    {
     "name": "stdout",
     "output_type": "stream",
     "text": [
      "MAPE: 0.057936613222599596\n"
     ]
    },
    {
     "name": "stderr",
     "output_type": "stream",
     "text": [
      "[I 2023-07-19 23:04:07,084] Trial 243 finished with value: 0.052989217949489534 and parameters: {'max_depth': 10, 'eta': 0.6380761632806928, 'gamma': 0.21552493985194798, 'subsample': 0.47125801240655973, 'colsample_bytree': 0.6064866688843017}. Best is trial 49 with value: 0.037242825271900086.\n"
     ]
    },
    {
     "name": "stdout",
     "output_type": "stream",
     "text": [
      "MAPE: 0.052989217949489534\n"
     ]
    },
    {
     "name": "stderr",
     "output_type": "stream",
     "text": [
      "[I 2023-07-19 23:04:08,396] Trial 244 finished with value: 0.05975806105364293 and parameters: {'max_depth': 10, 'eta': 0.49138498282382326, 'gamma': 0.24468592757412436, 'subsample': 0.5074792660002752, 'colsample_bytree': 0.6152882557803896}. Best is trial 49 with value: 0.037242825271900086.\n"
     ]
    },
    {
     "name": "stdout",
     "output_type": "stream",
     "text": [
      "MAPE: 0.05975806105364293\n"
     ]
    },
    {
     "name": "stderr",
     "output_type": "stream",
     "text": [
      "[I 2023-07-19 23:04:09,782] Trial 245 finished with value: 0.04371473299512278 and parameters: {'max_depth': 10, 'eta': 0.5361345154419727, 'gamma': 0.010079206928175793, 'subsample': 0.634471072384556, 'colsample_bytree': 0.5942036977090452}. Best is trial 49 with value: 0.037242825271900086.\n"
     ]
    },
    {
     "name": "stdout",
     "output_type": "stream",
     "text": [
      "MAPE: 0.04371473299512278\n"
     ]
    },
    {
     "name": "stderr",
     "output_type": "stream",
     "text": [
      "[I 2023-07-19 23:04:10,830] Trial 246 finished with value: 0.40813232950254913 and parameters: {'max_depth': 8, 'eta': 0.08267272351553301, 'gamma': 0.07424285510726723, 'subsample': 0.6312943078228977, 'colsample_bytree': 0.5886575467141572}. Best is trial 49 with value: 0.037242825271900086.\n"
     ]
    },
    {
     "name": "stdout",
     "output_type": "stream",
     "text": [
      "MAPE: 0.40813232950254913\n"
     ]
    },
    {
     "name": "stderr",
     "output_type": "stream",
     "text": [
      "[I 2023-07-19 23:04:12,178] Trial 247 finished with value: 0.06595886943880758 and parameters: {'max_depth': 10, 'eta': 0.5907875604591807, 'gamma': 0.14616347087393247, 'subsample': 0.731857089969348, 'colsample_bytree': 0.5511440812292088}. Best is trial 49 with value: 0.037242825271900086.\n"
     ]
    },
    {
     "name": "stdout",
     "output_type": "stream",
     "text": [
      "MAPE: 0.06595886943880758\n"
     ]
    },
    {
     "name": "stderr",
     "output_type": "stream",
     "text": [
      "[I 2023-07-19 23:04:13,293] Trial 248 finished with value: 0.049237865486721176 and parameters: {'max_depth': 8, 'eta': 0.6756994922939573, 'gamma': 0.03321094783008927, 'subsample': 0.5877267648693199, 'colsample_bytree': 0.5701190417436809}. Best is trial 49 with value: 0.037242825271900086.\n"
     ]
    },
    {
     "name": "stdout",
     "output_type": "stream",
     "text": [
      "MAPE: 0.049237865486721176\n"
     ]
    },
    {
     "name": "stderr",
     "output_type": "stream",
     "text": [
      "[I 2023-07-19 23:04:14,443] Trial 249 finished with value: 0.07122429266440496 and parameters: {'max_depth': 10, 'eta': 0.5421328173270242, 'gamma': 0.19644481125072052, 'subsample': 0.596122897832133, 'colsample_bytree': 0.3784450168432536}. Best is trial 49 with value: 0.037242825271900086.\n"
     ]
    },
    {
     "name": "stdout",
     "output_type": "stream",
     "text": [
      "MAPE: 0.07122429266440496\n"
     ]
    },
    {
     "name": "stderr",
     "output_type": "stream",
     "text": [
      "[I 2023-07-19 23:04:15,845] Trial 250 finished with value: 0.05284141824349104 and parameters: {'max_depth': 10, 'eta': 0.7604525439398594, 'gamma': 0.012272312106518145, 'subsample': 0.5464634020192348, 'colsample_bytree': 0.5944383405305628}. Best is trial 49 with value: 0.037242825271900086.\n"
     ]
    },
    {
     "name": "stdout",
     "output_type": "stream",
     "text": [
      "MAPE: 0.05284141824349104\n"
     ]
    },
    {
     "name": "stderr",
     "output_type": "stream",
     "text": [
      "[I 2023-07-19 23:04:17,017] Trial 251 finished with value: 0.2726805878745355 and parameters: {'max_depth': 10, 'eta': 0.11721492504414001, 'gamma': 0.08476837147655433, 'subsample': 0.32347783250396484, 'colsample_bytree': 0.7239068513399463}. Best is trial 49 with value: 0.037242825271900086.\n"
     ]
    },
    {
     "name": "stdout",
     "output_type": "stream",
     "text": [
      "MAPE: 0.2726805878745355\n"
     ]
    },
    {
     "name": "stderr",
     "output_type": "stream",
     "text": [
      "[I 2023-07-19 23:04:17,874] Trial 252 finished with value: 0.06479830726229145 and parameters: {'max_depth': 8, 'eta': 0.47105825645683924, 'gamma': 0.06012206956768662, 'subsample': 0.6479739901387929, 'colsample_bytree': 0.43108794559876307}. Best is trial 49 with value: 0.037242825271900086.\n"
     ]
    },
    {
     "name": "stdout",
     "output_type": "stream",
     "text": [
      "MAPE: 0.06479830726229145\n"
     ]
    },
    {
     "name": "stderr",
     "output_type": "stream",
     "text": [
      "[I 2023-07-19 23:04:19,283] Trial 253 finished with value: 0.049103870100936524 and parameters: {'max_depth': 10, 'eta': 0.6199539356511338, 'gamma': 0.04406977298721283, 'subsample': 0.6238775181658236, 'colsample_bytree': 0.6197779877845185}. Best is trial 49 with value: 0.037242825271900086.\n"
     ]
    },
    {
     "name": "stdout",
     "output_type": "stream",
     "text": [
      "MAPE: 0.049103870100936524\n"
     ]
    },
    {
     "name": "stderr",
     "output_type": "stream",
     "text": [
      "[I 2023-07-19 23:04:19,768] Trial 254 finished with value: 0.08634930889757933 and parameters: {'max_depth': 9, 'eta': 0.4307674677846265, 'gamma': 0.027739568944249993, 'subsample': 0.6716917418972796, 'colsample_bytree': 0.11154822860392594}. Best is trial 49 with value: 0.037242825271900086.\n"
     ]
    },
    {
     "name": "stdout",
     "output_type": "stream",
     "text": [
      "MAPE: 0.08634930889757933\n"
     ]
    },
    {
     "name": "stderr",
     "output_type": "stream",
     "text": [
      "[I 2023-07-19 23:04:21,077] Trial 255 finished with value: 0.0493054236173249 and parameters: {'max_depth': 9, 'eta': 0.7146554428592924, 'gamma': 0.048444836261709166, 'subsample': 0.6103623694386142, 'colsample_bytree': 0.5822173749602336}. Best is trial 49 with value: 0.037242825271900086.\n"
     ]
    },
    {
     "name": "stdout",
     "output_type": "stream",
     "text": [
      "MAPE: 0.0493054236173249\n"
     ]
    },
    {
     "name": "stderr",
     "output_type": "stream",
     "text": [
      "[I 2023-07-19 23:04:22,115] Trial 256 finished with value: 0.052989480168938334 and parameters: {'max_depth': 8, 'eta': 0.37608589291896566, 'gamma': 0.010053068815679108, 'subsample': 0.5688028963317633, 'colsample_bytree': 0.6088860117445022}. Best is trial 49 with value: 0.037242825271900086.\n"
     ]
    },
    {
     "name": "stdout",
     "output_type": "stream",
     "text": [
      "MAPE: 0.052989480168938334\n"
     ]
    },
    {
     "name": "stderr",
     "output_type": "stream",
     "text": [
      "[I 2023-07-19 23:04:23,450] Trial 257 finished with value: 0.0597749774592171 and parameters: {'max_depth': 10, 'eta': 0.8337296410349881, 'gamma': 0.1322461449427345, 'subsample': 0.6573433166075627, 'colsample_bytree': 0.5584892766723772}. Best is trial 49 with value: 0.037242825271900086.\n"
     ]
    },
    {
     "name": "stdout",
     "output_type": "stream",
     "text": [
      "MAPE: 0.0597749774592171\n"
     ]
    },
    {
     "name": "stderr",
     "output_type": "stream",
     "text": [
      "[I 2023-07-19 23:04:24,765] Trial 258 finished with value: 0.05646886685343457 and parameters: {'max_depth': 8, 'eta': 0.5634455122144533, 'gamma': 0.03581633666597757, 'subsample': 0.8404932774457259, 'colsample_bytree': 0.6973241866804591}. Best is trial 49 with value: 0.037242825271900086.\n"
     ]
    },
    {
     "name": "stdout",
     "output_type": "stream",
     "text": [
      "MAPE: 0.05646886685343457\n"
     ]
    },
    {
     "name": "stderr",
     "output_type": "stream",
     "text": [
      "[I 2023-07-19 23:04:25,701] Trial 259 finished with value: 0.08040971222396373 and parameters: {'max_depth': 10, 'eta': 0.6449448306090714, 'gamma': 0.05477189931858983, 'subsample': 0.5195719505937871, 'colsample_bytree': 0.20418082418321765}. Best is trial 49 with value: 0.037242825271900086.\n"
     ]
    },
    {
     "name": "stdout",
     "output_type": "stream",
     "text": [
      "MAPE: 0.08040971222396373\n"
     ]
    },
    {
     "name": "stderr",
     "output_type": "stream",
     "text": [
      "[I 2023-07-19 23:04:27,169] Trial 260 finished with value: 0.05403449924662278 and parameters: {'max_depth': 10, 'eta': 0.5111733591282123, 'gamma': 0.04839878829892493, 'subsample': 0.5671124930469621, 'colsample_bytree': 0.6312993097899071}. Best is trial 49 with value: 0.037242825271900086.\n"
     ]
    },
    {
     "name": "stdout",
     "output_type": "stream",
     "text": [
      "MAPE: 0.05403449924662278\n"
     ]
    },
    {
     "name": "stderr",
     "output_type": "stream",
     "text": [
      "[I 2023-07-19 23:04:28,346] Trial 261 finished with value: 0.052619446674550076 and parameters: {'max_depth': 8, 'eta': 0.6087092112957324, 'gamma': 0.15713405708602557, 'subsample': 0.8848919127638961, 'colsample_bytree': 0.6000208242656303}. Best is trial 49 with value: 0.037242825271900086.\n"
     ]
    },
    {
     "name": "stdout",
     "output_type": "stream",
     "text": [
      "MAPE: 0.052619446674550076\n"
     ]
    },
    {
     "name": "stderr",
     "output_type": "stream",
     "text": [
      "[I 2023-07-19 23:04:29,830] Trial 262 finished with value: 0.055497528890341624 and parameters: {'max_depth': 10, 'eta': 0.7618994316470507, 'gamma': 0.11390532122063984, 'subsample': 0.49708874479543985, 'colsample_bytree': 0.6486170254576566}. Best is trial 49 with value: 0.037242825271900086.\n"
     ]
    },
    {
     "name": "stdout",
     "output_type": "stream",
     "text": [
      "MAPE: 0.055497528890341624\n"
     ]
    },
    {
     "name": "stderr",
     "output_type": "stream",
     "text": [
      "[I 2023-07-19 23:04:30,757] Trial 263 finished with value: 0.20619711092972667 and parameters: {'max_depth': 7, 'eta': 0.14024582868151425, 'gamma': 0.023159959764475102, 'subsample': 0.692677509185912, 'colsample_bytree': 0.5764703334965005}. Best is trial 49 with value: 0.037242825271900086.\n"
     ]
    },
    {
     "name": "stdout",
     "output_type": "stream",
     "text": [
      "MAPE: 0.20619711092972667\n"
     ]
    },
    {
     "name": "stderr",
     "output_type": "stream",
     "text": [
      "[I 2023-07-19 23:04:31,929] Trial 264 finished with value: 0.0490926154981918 and parameters: {'max_depth': 8, 'eta': 0.46370631683322605, 'gamma': 0.02225552821681659, 'subsample': 0.5475001215185525, 'colsample_bytree': 0.6822648845999135}. Best is trial 49 with value: 0.037242825271900086.\n"
     ]
    },
    {
     "name": "stdout",
     "output_type": "stream",
     "text": [
      "MAPE: 0.0490926154981918\n"
     ]
    },
    {
     "name": "stderr",
     "output_type": "stream",
     "text": [
      "[I 2023-07-19 23:04:33,055] Trial 265 finished with value: 0.6366671665749156 and parameters: {'max_depth': 10, 'eta': 0.04294554670044287, 'gamma': 0.018277699086465496, 'subsample': 0.38441166135941546, 'colsample_bytree': 0.6263757612930827}. Best is trial 49 with value: 0.037242825271900086.\n"
     ]
    },
    {
     "name": "stdout",
     "output_type": "stream",
     "text": [
      "MAPE: 0.6366671665749156\n"
     ]
    },
    {
     "name": "stderr",
     "output_type": "stream",
     "text": [
      "[I 2023-07-19 23:04:34,433] Trial 266 finished with value: 0.06532039510603815 and parameters: {'max_depth': 10, 'eta': 0.9162294699631237, 'gamma': 0.013510675243914779, 'subsample': 0.4191056144074671, 'colsample_bytree': 0.6689440746104401}. Best is trial 49 with value: 0.037242825271900086.\n"
     ]
    },
    {
     "name": "stdout",
     "output_type": "stream",
     "text": [
      "MAPE: 0.06532039510603815\n"
     ]
    },
    {
     "name": "stderr",
     "output_type": "stream",
     "text": [
      "[I 2023-07-19 23:04:35,202] Trial 267 finished with value: 0.05823420769472753 and parameters: {'max_depth': 8, 'eta': 0.6913433387459744, 'gamma': 0.4824248980147835, 'subsample': 0.2599161863079939, 'colsample_bytree': 0.5418496846804647}. Best is trial 49 with value: 0.037242825271900086.\n"
     ]
    },
    {
     "name": "stdout",
     "output_type": "stream",
     "text": [
      "MAPE: 0.05823420769472753\n"
     ]
    },
    {
     "name": "stderr",
     "output_type": "stream",
     "text": [
      "[I 2023-07-19 23:04:36,582] Trial 268 finished with value: 0.05500187088963048 and parameters: {'max_depth': 10, 'eta': 0.5447074783435399, 'gamma': 0.43750619717603567, 'subsample': 0.5332839652366759, 'colsample_bytree': 0.6001286282513254}. Best is trial 49 with value: 0.037242825271900086.\n"
     ]
    },
    {
     "name": "stdout",
     "output_type": "stream",
     "text": [
      "MAPE: 0.05500187088963048\n"
     ]
    },
    {
     "name": "stderr",
     "output_type": "stream",
     "text": [
      "[I 2023-07-19 23:04:37,644] Trial 269 finished with value: 0.10310961253494533 and parameters: {'max_depth': 9, 'eta': 0.21420582932953908, 'gamma': 0.3047287748072371, 'subsample': 0.3075867207712347, 'colsample_bytree': 0.7115566177626405}. Best is trial 49 with value: 0.037242825271900086.\n"
     ]
    },
    {
     "name": "stdout",
     "output_type": "stream",
     "text": [
      "MAPE: 0.10310961253494533\n"
     ]
    },
    {
     "name": "stderr",
     "output_type": "stream",
     "text": [
      "[I 2023-07-19 23:04:39,070] Trial 270 finished with value: 0.06974095691732068 and parameters: {'max_depth': 10, 'eta': 0.9993150728189191, 'gamma': 0.0352945727651064, 'subsample': 0.45574979040490904, 'colsample_bytree': 0.6446396789388353}. Best is trial 49 with value: 0.037242825271900086.\n"
     ]
    },
    {
     "name": "stdout",
     "output_type": "stream",
     "text": [
      "MAPE: 0.06974095691732068\n"
     ]
    },
    {
     "name": "stderr",
     "output_type": "stream",
     "text": [
      "[I 2023-07-19 23:04:40,087] Trial 271 finished with value: 0.3434016327726052 and parameters: {'max_depth': 8, 'eta': 0.09755107976775439, 'gamma': 0.06822417577463286, 'subsample': 0.504730609351729, 'colsample_bytree': 0.5662195844367848}. Best is trial 49 with value: 0.037242825271900086.\n"
     ]
    },
    {
     "name": "stdout",
     "output_type": "stream",
     "text": [
      "MAPE: 0.3434016327726052\n"
     ]
    },
    {
     "name": "stderr",
     "output_type": "stream",
     "text": [
      "[I 2023-07-19 23:04:41,186] Trial 272 finished with value: 0.07161350789035478 and parameters: {'max_depth': 10, 'eta': 0.2548374210549648, 'gamma': 0.17287389482056417, 'subsample': 0.3605866258712066, 'colsample_bytree': 0.6156895738159797}. Best is trial 49 with value: 0.037242825271900086.\n"
     ]
    },
    {
     "name": "stdout",
     "output_type": "stream",
     "text": [
      "MAPE: 0.07161350789035478\n"
     ]
    },
    {
     "name": "stderr",
     "output_type": "stream",
     "text": [
      "[I 2023-07-19 23:04:42,395] Trial 273 finished with value: 0.05314467355935426 and parameters: {'max_depth': 9, 'eta': 0.5931319999136376, 'gamma': 0.0199469910246358, 'subsample': 0.48467589704801467, 'colsample_bytree': 0.5890393275090626}. Best is trial 49 with value: 0.037242825271900086.\n"
     ]
    },
    {
     "name": "stdout",
     "output_type": "stream",
     "text": [
      "MAPE: 0.05314467355935426\n"
     ]
    },
    {
     "name": "stderr",
     "output_type": "stream",
     "text": [
      "[I 2023-07-19 23:04:43,349] Trial 274 finished with value: 0.07051684010311003 and parameters: {'max_depth': 8, 'eta': 0.8032646983497476, 'gamma': 0.07959691431662184, 'subsample': 0.3461234844376453, 'colsample_bytree': 0.6620539330859635}. Best is trial 49 with value: 0.037242825271900086.\n"
     ]
    },
    {
     "name": "stdout",
     "output_type": "stream",
     "text": [
      "MAPE: 0.07051684010311003\n"
     ]
    },
    {
     "name": "stderr",
     "output_type": "stream",
     "text": [
      "[I 2023-07-19 23:04:44,993] Trial 275 finished with value: 0.056821548245206174 and parameters: {'max_depth': 10, 'eta': 0.6636541090365973, 'gamma': 0.040140016513389803, 'subsample': 0.751209504537211, 'colsample_bytree': 0.6912774168390401}. Best is trial 49 with value: 0.037242825271900086.\n"
     ]
    },
    {
     "name": "stdout",
     "output_type": "stream",
     "text": [
      "MAPE: 0.056821548245206174\n"
     ]
    },
    {
     "name": "stderr",
     "output_type": "stream",
     "text": [
      "[I 2023-07-19 23:04:46,471] Trial 276 finished with value: 0.05325169206605705 and parameters: {'max_depth': 10, 'eta': 0.4956990088764215, 'gamma': 0.09323506787290602, 'subsample': 0.6382473527167489, 'colsample_bytree': 0.630571523152888}. Best is trial 49 with value: 0.037242825271900086.\n"
     ]
    },
    {
     "name": "stdout",
     "output_type": "stream",
     "text": [
      "MAPE: 0.05325169206605705\n"
     ]
    },
    {
     "name": "stderr",
     "output_type": "stream",
     "text": [
      "[I 2023-07-19 23:04:47,723] Trial 277 finished with value: 0.056224531432549074 and parameters: {'max_depth': 8, 'eta': 0.3976618961507449, 'gamma': 0.025170365336507013, 'subsample': 0.5286618446654636, 'colsample_bytree': 0.7550083254862013}. Best is trial 49 with value: 0.037242825271900086.\n"
     ]
    },
    {
     "name": "stdout",
     "output_type": "stream",
     "text": [
      "MAPE: 0.056224531432549074\n"
     ]
    },
    {
     "name": "stderr",
     "output_type": "stream",
     "text": [
      "[I 2023-07-19 23:04:48,971] Trial 278 finished with value: 0.060861830679739194 and parameters: {'max_depth': 8, 'eta': 0.5388931650896328, 'gamma': 0.07236661039994462, 'subsample': 0.5740494874550569, 'colsample_bytree': 0.7254035543107328}. Best is trial 49 with value: 0.037242825271900086.\n"
     ]
    },
    {
     "name": "stdout",
     "output_type": "stream",
     "text": [
      "MAPE: 0.060861830679739194\n"
     ]
    },
    {
     "name": "stderr",
     "output_type": "stream",
     "text": [
      "[I 2023-07-19 23:04:50,354] Trial 279 finished with value: 0.05338849448829152 and parameters: {'max_depth': 10, 'eta': 0.7327042296217173, 'gamma': 0.12302493271488515, 'subsample': 0.514580736787623, 'colsample_bytree': 0.6112969429961539}. Best is trial 49 with value: 0.037242825271900086.\n"
     ]
    },
    {
     "name": "stdout",
     "output_type": "stream",
     "text": [
      "MAPE: 0.05338849448829152\n"
     ]
    },
    {
     "name": "stderr",
     "output_type": "stream",
     "text": [
      "[I 2023-07-19 23:04:51,676] Trial 280 finished with value: 0.1144983423316358 and parameters: {'max_depth': 10, 'eta': 0.19455171010882344, 'gamma': 0.3873429307171871, 'subsample': 0.5497306580190415, 'colsample_bytree': 0.5825866628622229}. Best is trial 49 with value: 0.037242825271900086.\n"
     ]
    },
    {
     "name": "stdout",
     "output_type": "stream",
     "text": [
      "MAPE: 0.1144983423316358\n"
     ]
    },
    {
     "name": "stderr",
     "output_type": "stream",
     "text": [
      "[I 2023-07-19 23:04:53,040] Trial 281 finished with value: 0.05925366186021564 and parameters: {'max_depth': 9, 'eta': 0.6377002680103793, 'gamma': 0.015544777517799585, 'subsample': 0.49035922585035285, 'colsample_bytree': 0.7080009077699019}. Best is trial 49 with value: 0.037242825271900086.\n"
     ]
    },
    {
     "name": "stdout",
     "output_type": "stream",
     "text": [
      "MAPE: 0.05925366186021564\n"
     ]
    },
    {
     "name": "stderr",
     "output_type": "stream",
     "text": [
      "[I 2023-07-19 23:04:54,365] Trial 282 finished with value: 0.055050539718165814 and parameters: {'max_depth': 10, 'eta': 0.3608307585559089, 'gamma': 0.06742687605273388, 'subsample': 0.4378389388638996, 'colsample_bytree': 0.6767423623387053}. Best is trial 49 with value: 0.037242825271900086.\n"
     ]
    },
    {
     "name": "stdout",
     "output_type": "stream",
     "text": [
      "MAPE: 0.055050539718165814\n"
     ]
    },
    {
     "name": "stderr",
     "output_type": "stream",
     "text": [
      "[I 2023-07-19 23:04:55,162] Trial 283 finished with value: 0.07463182808266257 and parameters: {'max_depth': 7, 'eta': 0.5801928021210511, 'gamma': 0.34488592450442235, 'subsample': 0.670729886017041, 'colsample_bytree': 0.3301977142983916}. Best is trial 49 with value: 0.037242825271900086.\n"
     ]
    },
    {
     "name": "stdout",
     "output_type": "stream",
     "text": [
      "MAPE: 0.07463182808266257\n"
     ]
    },
    {
     "name": "stderr",
     "output_type": "stream",
     "text": [
      "[I 2023-07-19 23:04:56,290] Trial 284 finished with value: 0.05168164377828574 and parameters: {'max_depth': 8, 'eta': 0.872233967237006, 'gamma': 0.05845384778471786, 'subsample': 0.4629776291621753, 'colsample_bytree': 0.648180982997448}. Best is trial 49 with value: 0.037242825271900086.\n"
     ]
    },
    {
     "name": "stdout",
     "output_type": "stream",
     "text": [
      "MAPE: 0.05168164377828574\n"
     ]
    },
    {
     "name": "stderr",
     "output_type": "stream",
     "text": [
      "[I 2023-07-19 23:04:57,589] Trial 285 finished with value: 0.05747002862658292 and parameters: {'max_depth': 10, 'eta': 0.45604688387007863, 'gamma': 0.28520720800024363, 'subsample': 0.594553838687887, 'colsample_bytree': 0.5501950205433997}. Best is trial 49 with value: 0.037242825271900086.\n"
     ]
    },
    {
     "name": "stdout",
     "output_type": "stream",
     "text": [
      "MAPE: 0.05747002862658292\n"
     ]
    },
    {
     "name": "stderr",
     "output_type": "stream",
     "text": [
      "[I 2023-07-19 23:04:58,798] Trial 286 finished with value: 0.04681644100236339 and parameters: {'max_depth': 8, 'eta': 0.6898554717539938, 'gamma': 0.14397378254279192, 'subsample': 0.5148720812056086, 'colsample_bytree': 0.6308353684021266}. Best is trial 49 with value: 0.037242825271900086.\n"
     ]
    },
    {
     "name": "stdout",
     "output_type": "stream",
     "text": [
      "MAPE: 0.04681644100236339\n"
     ]
    },
    {
     "name": "stderr",
     "output_type": "stream",
     "text": [
      "[I 2023-07-19 23:04:59,737] Trial 287 finished with value: 0.06201315428291734 and parameters: {'max_depth': 10, 'eta': 0.31683133973111177, 'gamma': 0.23148293508957266, 'subsample': 0.2348924268839181, 'colsample_bytree': 0.6053900647216441}. Best is trial 49 with value: 0.037242825271900086.\n"
     ]
    },
    {
     "name": "stdout",
     "output_type": "stream",
     "text": [
      "MAPE: 0.06201315428291734\n"
     ]
    },
    {
     "name": "stderr",
     "output_type": "stream",
     "text": [
      "[I 2023-07-19 23:05:00,916] Trial 288 finished with value: 0.053746799377013495 and parameters: {'max_depth': 9, 'eta': 0.5373392890721919, 'gamma': 0.02975814025286503, 'subsample': 0.5387794986353027, 'colsample_bytree': 0.5222870858449057}. Best is trial 49 with value: 0.037242825271900086.\n"
     ]
    },
    {
     "name": "stdout",
     "output_type": "stream",
     "text": [
      "MAPE: 0.053746799377013495\n"
     ]
    },
    {
     "name": "stderr",
     "output_type": "stream",
     "text": [
      "[I 2023-07-19 23:05:02,200] Trial 289 finished with value: 0.8965395568868161 and parameters: {'max_depth': 10, 'eta': 0.010599287675789744, 'gamma': 0.017386147039082485, 'subsample': 0.48111002437770817, 'colsample_bytree': 0.6625570201190902}. Best is trial 49 with value: 0.037242825271900086.\n"
     ]
    },
    {
     "name": "stdout",
     "output_type": "stream",
     "text": [
      "MAPE: 0.8965395568868161\n"
     ]
    },
    {
     "name": "stderr",
     "output_type": "stream",
     "text": [
      "[I 2023-07-19 23:05:03,273] Trial 290 finished with value: 0.057227637447518416 and parameters: {'max_depth': 8, 'eta': 0.7804865572468673, 'gamma': 0.026037628210477667, 'subsample': 0.5009782697190966, 'colsample_bytree': 0.5790963036518393}. Best is trial 49 with value: 0.037242825271900086.\n"
     ]
    },
    {
     "name": "stdout",
     "output_type": "stream",
     "text": [
      "MAPE: 0.057227637447518416\n"
     ]
    },
    {
     "name": "stderr",
     "output_type": "stream",
     "text": [
      "[I 2023-07-19 23:05:04,800] Trial 291 finished with value: 0.049768718910025454 and parameters: {'max_depth': 10, 'eta': 0.6050763426908065, 'gamma': 0.0408323193217202, 'subsample': 0.6825192329947531, 'colsample_bytree': 0.6836273476787091}. Best is trial 49 with value: 0.037242825271900086.\n"
     ]
    },
    {
     "name": "stdout",
     "output_type": "stream",
     "text": [
      "MAPE: 0.049768718910025454\n"
     ]
    },
    {
     "name": "stderr",
     "output_type": "stream",
     "text": [
      "[I 2023-07-19 23:05:05,623] Trial 292 finished with value: 0.05822961465714394 and parameters: {'max_depth': 7, 'eta': 0.42522101485575825, 'gamma': 0.20080577103196884, 'subsample': 0.7881452583059158, 'colsample_bytree': 0.4050802625272154}. Best is trial 49 with value: 0.037242825271900086.\n"
     ]
    },
    {
     "name": "stdout",
     "output_type": "stream",
     "text": [
      "MAPE: 0.05822961465714394\n"
     ]
    },
    {
     "name": "stderr",
     "output_type": "stream",
     "text": [
      "[I 2023-07-19 23:05:06,320] Trial 293 finished with value: 0.07184808524546372 and parameters: {'max_depth': 9, 'eta': 0.6657022261743666, 'gamma': 0.10643385755039347, 'subsample': 0.5573086163217476, 'colsample_bytree': 0.14715605453155017}. Best is trial 49 with value: 0.037242825271900086.\n"
     ]
    },
    {
     "name": "stdout",
     "output_type": "stream",
     "text": [
      "MAPE: 0.07184808524546372\n"
     ]
    },
    {
     "name": "stderr",
     "output_type": "stream",
     "text": [
      "[I 2023-07-19 23:05:07,738] Trial 294 finished with value: 0.04429058162995706 and parameters: {'max_depth': 10, 'eta': 0.4989679794571736, 'gamma': 0.03010747845185222, 'subsample': 0.7144956095511825, 'colsample_bytree': 0.5937654674188292}. Best is trial 49 with value: 0.037242825271900086.\n"
     ]
    },
    {
     "name": "stdout",
     "output_type": "stream",
     "text": [
      "MAPE: 0.04429058162995706\n"
     ]
    },
    {
     "name": "stderr",
     "output_type": "stream",
     "text": [
      "[I 2023-07-19 23:05:08,681] Trial 295 finished with value: 0.05871044236242799 and parameters: {'max_depth': 8, 'eta': 0.4949291666051004, 'gamma': 0.12926164239104343, 'subsample': 0.379777156320957, 'colsample_bytree': 0.594050980321524}. Best is trial 49 with value: 0.037242825271900086.\n"
     ]
    },
    {
     "name": "stdout",
     "output_type": "stream",
     "text": [
      "MAPE: 0.05871044236242799\n"
     ]
    },
    {
     "name": "stderr",
     "output_type": "stream",
     "text": [
      "[I 2023-07-19 23:05:09,749] Trial 296 finished with value: 0.06376435981672893 and parameters: {'max_depth': 10, 'eta': 0.46850856665017926, 'gamma': 0.01860967967721573, 'subsample': 0.3260770756280475, 'colsample_bytree': 0.5685222810313268}. Best is trial 49 with value: 0.037242825271900086.\n"
     ]
    },
    {
     "name": "stdout",
     "output_type": "stream",
     "text": [
      "MAPE: 0.06376435981672893\n"
     ]
    },
    {
     "name": "stderr",
     "output_type": "stream",
     "text": [
      "[I 2023-07-19 23:05:10,849] Trial 297 finished with value: 0.04693476883845035 and parameters: {'max_depth': 8, 'eta': 0.4251329806923468, 'gamma': 0.020653062949832792, 'subsample': 0.7278569171009566, 'colsample_bytree': 0.6186141717918149}. Best is trial 49 with value: 0.037242825271900086.\n"
     ]
    },
    {
     "name": "stdout",
     "output_type": "stream",
     "text": [
      "MAPE: 0.04693476883845035\n"
     ]
    },
    {
     "name": "stderr",
     "output_type": "stream",
     "text": [
      "[I 2023-07-19 23:05:12,073] Trial 298 finished with value: 0.05172678758756392 and parameters: {'max_depth': 10, 'eta': 0.5216146344638285, 'gamma': 0.25862756736375153, 'subsample': 0.4048517570332881, 'colsample_bytree': 0.5945293350373164}. Best is trial 49 with value: 0.037242825271900086.\n"
     ]
    },
    {
     "name": "stdout",
     "output_type": "stream",
     "text": [
      "MAPE: 0.05172678758756392\n"
     ]
    },
    {
     "name": "stderr",
     "output_type": "stream",
     "text": [
      "[I 2023-07-19 23:05:13,407] Trial 299 finished with value: 0.059740668317848064 and parameters: {'max_depth': 10, 'eta': 0.8591962905853675, 'gamma': 0.05102395682286222, 'subsample': 0.5882952005575156, 'colsample_bytree': 0.5620432378874866}. Best is trial 49 with value: 0.037242825271900086.\n"
     ]
    },
    {
     "name": "stdout",
     "output_type": "stream",
     "text": [
      "MAPE: 0.059740668317848064\n"
     ]
    },
    {
     "name": "stderr",
     "output_type": "stream",
     "text": [
      "[I 2023-07-19 23:05:14,589] Trial 300 finished with value: 0.04861055963317787 and parameters: {'max_depth': 8, 'eta': 0.5656718219455075, 'gamma': 0.11801494540071274, 'subsample': 0.6989196543556047, 'colsample_bytree': 0.6351853756854583}. Best is trial 49 with value: 0.037242825271900086.\n"
     ]
    },
    {
     "name": "stdout",
     "output_type": "stream",
     "text": [
      "MAPE: 0.04861055963317787\n"
     ]
    },
    {
     "name": "stderr",
     "output_type": "stream",
     "text": [
      "[I 2023-07-19 23:05:16,276] Trial 301 finished with value: 0.23346121974410497 and parameters: {'max_depth': 10, 'eta': 0.13114730571701674, 'gamma': 0.09779949753783175, 'subsample': 0.7053642668363369, 'colsample_bytree': 0.9605055199226674}. Best is trial 49 with value: 0.037242825271900086.\n"
     ]
    },
    {
     "name": "stdout",
     "output_type": "stream",
     "text": [
      "MAPE: 0.23346121974410497\n"
     ]
    },
    {
     "name": "stderr",
     "output_type": "stream",
     "text": [
      "[I 2023-07-19 23:05:17,473] Trial 302 finished with value: 0.06381773737349053 and parameters: {'max_depth': 9, 'eta': 0.7627051115918779, 'gamma': 0.030013935024677765, 'subsample': 0.6598294432109656, 'colsample_bytree': 0.47603236475842015}. Best is trial 49 with value: 0.037242825271900086.\n"
     ]
    },
    {
     "name": "stdout",
     "output_type": "stream",
     "text": [
      "MAPE: 0.06381773737349053\n"
     ]
    },
    {
     "name": "stderr",
     "output_type": "stream",
     "text": [
      "[I 2023-07-19 23:05:18,540] Trial 303 finished with value: 0.05603144000282858 and parameters: {'max_depth': 8, 'eta': 0.4957294095150298, 'gamma': 0.1608179028055588, 'subsample': 0.7540724047941743, 'colsample_bytree': 0.6105780643989785}. Best is trial 49 with value: 0.037242825271900086.\n"
     ]
    },
    {
     "name": "stdout",
     "output_type": "stream",
     "text": [
      "MAPE: 0.05603144000282858\n"
     ]
    },
    {
     "name": "stderr",
     "output_type": "stream",
     "text": [
      "[I 2023-07-19 23:05:19,990] Trial 304 finished with value: 0.054177400366180045 and parameters: {'max_depth': 10, 'eta': 0.7091027078086137, 'gamma': 0.13975605239626085, 'subsample': 0.7430220597128927, 'colsample_bytree': 0.5819500966435871}. Best is trial 49 with value: 0.037242825271900086.\n"
     ]
    },
    {
     "name": "stdout",
     "output_type": "stream",
     "text": [
      "MAPE: 0.054177400366180045\n"
     ]
    },
    {
     "name": "stderr",
     "output_type": "stream",
     "text": [
      "[I 2023-07-19 23:05:21,168] Trial 305 finished with value: 0.0615188086624545 and parameters: {'max_depth': 10, 'eta': 0.3077930870803971, 'gamma': 0.17843452317141129, 'subsample': 0.45188087164839263, 'colsample_bytree': 0.5376546651321386}. Best is trial 49 with value: 0.037242825271900086.\n"
     ]
    },
    {
     "name": "stdout",
     "output_type": "stream",
     "text": [
      "MAPE: 0.0615188086624545\n"
     ]
    },
    {
     "name": "stderr",
     "output_type": "stream",
     "text": [
      "[I 2023-07-19 23:05:22,341] Trial 306 finished with value: 0.053369449094955675 and parameters: {'max_depth': 8, 'eta': 0.6359427001925015, 'gamma': 0.027011716060553005, 'subsample': 0.7801485975995621, 'colsample_bytree': 0.6267567394943225}. Best is trial 49 with value: 0.037242825271900086.\n"
     ]
    },
    {
     "name": "stdout",
     "output_type": "stream",
     "text": [
      "MAPE: 0.053369449094955675\n"
     ]
    },
    {
     "name": "stderr",
     "output_type": "stream",
     "text": [
      "[I 2023-07-19 23:05:22,856] Trial 307 finished with value: 0.5262703370855741 and parameters: {'max_depth': 4, 'eta': 0.059909253554765986, 'gamma': 0.013188750454404072, 'subsample': 0.3446633380283649, 'colsample_bytree': 0.7846604260936734}. Best is trial 49 with value: 0.037242825271900086.\n"
     ]
    },
    {
     "name": "stdout",
     "output_type": "stream",
     "text": [
      "MAPE: 0.5262703370855741\n"
     ]
    },
    {
     "name": "stderr",
     "output_type": "stream",
     "text": [
      "[I 2023-07-19 23:05:24,328] Trial 308 finished with value: 0.043950993684069156 and parameters: {'max_depth': 10, 'eta': 0.5443472890453189, 'gamma': 0.019990975722049418, 'subsample': 0.6080893737977178, 'colsample_bytree': 0.6472595551025839}. Best is trial 49 with value: 0.037242825271900086.\n"
     ]
    },
    {
     "name": "stdout",
     "output_type": "stream",
     "text": [
      "MAPE: 0.043950993684069156\n"
     ]
    },
    {
     "name": "stderr",
     "output_type": "stream",
     "text": [
      "[I 2023-07-19 23:05:25,827] Trial 309 finished with value: 0.055122173746436576 and parameters: {'max_depth': 10, 'eta': 0.5351225772314829, 'gamma': 0.010260773229464054, 'subsample': 0.6398314637258092, 'colsample_bytree': 0.6472488496781155}. Best is trial 49 with value: 0.037242825271900086.\n"
     ]
    },
    {
     "name": "stdout",
     "output_type": "stream",
     "text": [
      "MAPE: 0.055122173746436576\n"
     ]
    },
    {
     "name": "stderr",
     "output_type": "stream",
     "text": [
      "[I 2023-07-19 23:05:27,326] Trial 310 finished with value: 0.05307268609158269 and parameters: {'max_depth': 10, 'eta': 0.5744582011922226, 'gamma': 0.023872367806577265, 'subsample': 0.6031971897175052, 'colsample_bytree': 0.666467872027118}. Best is trial 49 with value: 0.037242825271900086.\n"
     ]
    },
    {
     "name": "stdout",
     "output_type": "stream",
     "text": [
      "MAPE: 0.05307268609158269\n"
     ]
    },
    {
     "name": "stderr",
     "output_type": "stream",
     "text": [
      "[I 2023-07-19 23:05:28,773] Trial 311 finished with value: 0.2951961091062763 and parameters: {'max_depth': 10, 'eta': 0.11026901741108734, 'gamma': 0.03510163759313516, 'subsample': 0.7208632690356662, 'colsample_bytree': 0.6429817904515436}. Best is trial 49 with value: 0.037242825271900086.\n"
     ]
    },
    {
     "name": "stdout",
     "output_type": "stream",
     "text": [
      "MAPE: 0.2951961091062763\n"
     ]
    },
    {
     "name": "stderr",
     "output_type": "stream",
     "text": [
      "[I 2023-07-19 23:05:30,248] Trial 312 finished with value: 0.051625124938217935 and parameters: {'max_depth': 10, 'eta': 0.46725798475768376, 'gamma': 0.04647880249854079, 'subsample': 0.615471503795956, 'colsample_bytree': 0.654971045604671}. Best is trial 49 with value: 0.037242825271900086.\n"
     ]
    },
    {
     "name": "stdout",
     "output_type": "stream",
     "text": [
      "MAPE: 0.051625124938217935\n"
     ]
    },
    {
     "name": "stderr",
     "output_type": "stream",
     "text": [
      "[I 2023-07-19 23:05:31,566] Trial 313 finished with value: 0.053920057490336834 and parameters: {'max_depth': 10, 'eta': 0.3944678921760468, 'gamma': 0.02555545476592616, 'subsample': 0.6252835449668906, 'colsample_bytree': 0.6034670817972908}. Best is trial 49 with value: 0.037242825271900086.\n"
     ]
    },
    {
     "name": "stdout",
     "output_type": "stream",
     "text": [
      "MAPE: 0.053920057490336834\n"
     ]
    },
    {
     "name": "stderr",
     "output_type": "stream",
     "text": [
      "[I 2023-07-19 23:05:33,091] Trial 314 finished with value: 0.05564616893410304 and parameters: {'max_depth': 10, 'eta': 0.517568653786199, 'gamma': 0.014546077629906864, 'subsample': 0.7638573939656563, 'colsample_bytree': 0.6250032950037427}. Best is trial 49 with value: 0.037242825271900086.\n"
     ]
    },
    {
     "name": "stdout",
     "output_type": "stream",
     "text": [
      "MAPE: 0.05564616893410304\n"
     ]
    },
    {
     "name": "stderr",
     "output_type": "stream",
     "text": [
      "[I 2023-07-19 23:05:34,488] Trial 315 finished with value: 0.053914213656089754 and parameters: {'max_depth': 9, 'eta': 0.4260423705641513, 'gamma': 0.011612759051583583, 'subsample': 0.5759412608936224, 'colsample_bytree': 0.718965619929544}. Best is trial 49 with value: 0.037242825271900086.\n"
     ]
    },
    {
     "name": "stdout",
     "output_type": "stream",
     "text": [
      "MAPE: 0.053914213656089754\n"
     ]
    },
    {
     "name": "stderr",
     "output_type": "stream",
     "text": [
      "[I 2023-07-19 23:05:35,425] Trial 316 finished with value: 0.08183562493105573 and parameters: {'max_depth': 10, 'eta': 0.5809034629644838, 'gamma': 0.015173477777982416, 'subsample': 0.6893173190436722, 'colsample_bytree': 0.23143646423349784}. Best is trial 49 with value: 0.037242825271900086.\n"
     ]
    },
    {
     "name": "stdout",
     "output_type": "stream",
     "text": [
      "MAPE: 0.08183562493105573\n"
     ]
    },
    {
     "name": "stderr",
     "output_type": "stream",
     "text": [
      "[I 2023-07-19 23:05:36,607] Trial 317 finished with value: 0.05720059733773412 and parameters: {'max_depth': 10, 'eta': 0.35026743467861693, 'gamma': 0.021342589801528082, 'subsample': 0.29676508997311113, 'colsample_bytree': 0.7040193264880057}. Best is trial 49 with value: 0.037242825271900086.\n"
     ]
    },
    {
     "name": "stdout",
     "output_type": "stream",
     "text": [
      "MAPE: 0.05720059733773412\n"
     ]
    },
    {
     "name": "stderr",
     "output_type": "stream",
     "text": [
      "[I 2023-07-19 23:05:37,993] Trial 318 finished with value: 0.7514225880111153 and parameters: {'max_depth': 9, 'eta': 0.027472369377831422, 'gamma': 0.016291837117936084, 'subsample': 0.5286767242220105, 'colsample_bytree': 0.7526279765996202}. Best is trial 49 with value: 0.037242825271900086.\n"
     ]
    },
    {
     "name": "stdout",
     "output_type": "stream",
     "text": [
      "MAPE: 0.7514225880111153\n"
     ]
    },
    {
     "name": "stderr",
     "output_type": "stream",
     "text": [
      "[I 2023-07-19 23:05:39,508] Trial 319 finished with value: 0.0504071330448242 and parameters: {'max_depth': 10, 'eta': 0.46354048347808885, 'gamma': 0.019943102013077914, 'subsample': 0.8161649144388914, 'colsample_bytree': 0.6386293988323098}. Best is trial 49 with value: 0.037242825271900086.\n"
     ]
    },
    {
     "name": "stdout",
     "output_type": "stream",
     "text": [
      "MAPE: 0.0504071330448242\n"
     ]
    },
    {
     "name": "stderr",
     "output_type": "stream",
     "text": [
      "[I 2023-07-19 23:05:41,000] Trial 320 finished with value: 0.053586906348412594 and parameters: {'max_depth': 10, 'eta': 0.6375632924350402, 'gamma': 0.06291120232839843, 'subsample': 0.9906564530774009, 'colsample_bytree': 0.6171793516222656}. Best is trial 49 with value: 0.037242825271900086.\n"
     ]
    },
    {
     "name": "stdout",
     "output_type": "stream",
     "text": [
      "MAPE: 0.053586906348412594\n"
     ]
    },
    {
     "name": "stderr",
     "output_type": "stream",
     "text": [
      "[I 2023-07-19 23:05:42,541] Trial 321 finished with value: 0.051158377378154915 and parameters: {'max_depth': 10, 'eta': 0.5208417716010147, 'gamma': 0.018949558687938586, 'subsample': 0.7166062173956742, 'colsample_bytree': 0.6600117556664101}. Best is trial 49 with value: 0.037242825271900086.\n"
     ]
    },
    {
     "name": "stdout",
     "output_type": "stream",
     "text": [
      "MAPE: 0.051158377378154915\n"
     ]
    },
    {
     "name": "stderr",
     "output_type": "stream",
     "text": [
      "[I 2023-07-19 23:05:43,971] Trial 322 finished with value: 0.06061170734536943 and parameters: {'max_depth': 10, 'eta': 0.5670079790862937, 'gamma': 0.010833795252445759, 'subsample': 0.564456675937289, 'colsample_bytree': 0.5996489045347342}. Best is trial 49 with value: 0.037242825271900086.\n"
     ]
    },
    {
     "name": "stdout",
     "output_type": "stream",
     "text": [
      "MAPE: 0.06061170734536943\n"
     ]
    },
    {
     "name": "stderr",
     "output_type": "stream",
     "text": [
      "[I 2023-07-19 23:05:45,342] Trial 323 finished with value: 0.06525111155274337 and parameters: {'max_depth': 10, 'eta': 0.8264115845001551, 'gamma': 0.03075840051348794, 'subsample': 0.36815582726975155, 'colsample_bytree': 0.6949190088362763}. Best is trial 49 with value: 0.037242825271900086.\n"
     ]
    },
    {
     "name": "stdout",
     "output_type": "stream",
     "text": [
      "MAPE: 0.06525111155274337\n"
     ]
    },
    {
     "name": "stderr",
     "output_type": "stream",
     "text": [
      "[I 2023-07-19 23:05:46,235] Trial 324 finished with value: 0.053056549490278083 and parameters: {'max_depth': 6, 'eta': 0.9412799302029342, 'gamma': 0.01700553197797471, 'subsample': 0.6091766187683341, 'colsample_bytree': 0.6747650976298263}. Best is trial 49 with value: 0.037242825271900086.\n"
     ]
    },
    {
     "name": "stdout",
     "output_type": "stream",
     "text": [
      "MAPE: 0.053056549490278083\n"
     ]
    },
    {
     "name": "stderr",
     "output_type": "stream",
     "text": [
      "[I 2023-07-19 23:05:47,654] Trial 325 finished with value: 0.05515135909098392 and parameters: {'max_depth': 10, 'eta': 0.6367558609071601, 'gamma': 0.03719538162531526, 'subsample': 0.5492575591399639, 'colsample_bytree': 0.5651065234548243}. Best is trial 49 with value: 0.037242825271900086.\n"
     ]
    },
    {
     "name": "stdout",
     "output_type": "stream",
     "text": [
      "MAPE: 0.05515135909098392\n"
     ]
    },
    {
     "name": "stderr",
     "output_type": "stream",
     "text": [
      "[I 2023-07-19 23:05:49,084] Trial 326 finished with value: 0.05052045500174223 and parameters: {'max_depth': 9, 'eta': 0.48648787347904854, 'gamma': 0.014353127793093097, 'subsample': 0.5159137197439758, 'colsample_bytree': 0.8556092292351882}. Best is trial 49 with value: 0.037242825271900086.\n"
     ]
    },
    {
     "name": "stdout",
     "output_type": "stream",
     "text": [
      "MAPE: 0.05052045500174223\n"
     ]
    },
    {
     "name": "stderr",
     "output_type": "stream",
     "text": [
      "[I 2023-07-19 23:05:50,466] Trial 327 finished with value: 0.0665677636499455 and parameters: {'max_depth': 10, 'eta': 0.29554276536616136, 'gamma': 0.012960174729825616, 'subsample': 0.49190553243792723, 'colsample_bytree': 0.645041734162046}. Best is trial 49 with value: 0.037242825271900086.\n"
     ]
    },
    {
     "name": "stdout",
     "output_type": "stream",
     "text": [
      "MAPE: 0.0665677636499455\n"
     ]
    },
    {
     "name": "stderr",
     "output_type": "stream",
     "text": [
      "[I 2023-07-19 23:05:51,883] Trial 328 finished with value: 0.051889463658064086 and parameters: {'max_depth': 10, 'eta': 0.6965711827836577, 'gamma': 0.012766516972252286, 'subsample': 0.5367096660502872, 'colsample_bytree': 0.6165903110202855}. Best is trial 49 with value: 0.037242825271900086.\n"
     ]
    },
    {
     "name": "stdout",
     "output_type": "stream",
     "text": [
      "MAPE: 0.051889463658064086\n"
     ]
    },
    {
     "name": "stderr",
     "output_type": "stream",
     "text": [
      "[I 2023-07-19 23:05:52,865] Trial 329 finished with value: 0.05389180034798556 and parameters: {'max_depth': 8, 'eta': 0.5888131941271093, 'gamma': 0.01096480331213149, 'subsample': 0.42221494573063234, 'colsample_bytree': 0.5867071593139765}. Best is trial 49 with value: 0.037242825271900086.\n"
     ]
    },
    {
     "name": "stdout",
     "output_type": "stream",
     "text": [
      "MAPE: 0.05389180034798556\n"
     ]
    },
    {
     "name": "stderr",
     "output_type": "stream",
     "text": [
      "[I 2023-07-19 23:05:53,874] Trial 330 finished with value: 0.12763093938787737 and parameters: {'max_depth': 9, 'eta': 0.1864090026510873, 'gamma': 0.016878712219308624, 'subsample': 0.31419545985233793, 'colsample_bytree': 0.6295783549970101}. Best is trial 49 with value: 0.037242825271900086.\n"
     ]
    },
    {
     "name": "stdout",
     "output_type": "stream",
     "text": [
      "MAPE: 0.12763093938787737\n"
     ]
    },
    {
     "name": "stderr",
     "output_type": "stream",
     "text": [
      "[I 2023-07-19 23:05:54,522] Trial 331 finished with value: 0.06060500915493616 and parameters: {'max_depth': 5, 'eta': 0.5306165136525544, 'gamma': 0.03173962742455953, 'subsample': 0.5866175419644868, 'colsample_bytree': 0.5059777196652651}. Best is trial 49 with value: 0.037242825271900086.\n"
     ]
    },
    {
     "name": "stdout",
     "output_type": "stream",
     "text": [
      "MAPE: 0.06060500915493616\n"
     ]
    },
    {
     "name": "stderr",
     "output_type": "stream",
     "text": [
      "[I 2023-07-19 23:05:55,484] Trial 332 finished with value: 0.05671723699955314 and parameters: {'max_depth': 7, 'eta': 0.41052807790055673, 'gamma': 0.023973022767867214, 'subsample': 0.5201212198458758, 'colsample_bytree': 0.6634175666821834}. Best is trial 49 with value: 0.037242825271900086.\n"
     ]
    },
    {
     "name": "stdout",
     "output_type": "stream",
     "text": [
      "MAPE: 0.05671723699955314\n"
     ]
    },
    {
     "name": "stderr",
     "output_type": "stream",
     "text": [
      "[I 2023-07-19 23:05:57,112] Trial 333 finished with value: 0.05873140779262238 and parameters: {'max_depth': 10, 'eta': 0.7734182568514443, 'gamma': 0.05258030215425514, 'subsample': 0.6433589272362739, 'colsample_bytree': 0.7301567459171128}. Best is trial 49 with value: 0.037242825271900086.\n"
     ]
    },
    {
     "name": "stdout",
     "output_type": "stream",
     "text": [
      "MAPE: 0.05873140779262238\n"
     ]
    },
    {
     "name": "stderr",
     "output_type": "stream",
     "text": [
      "[I 2023-07-19 23:05:58,385] Trial 334 finished with value: 0.06104106779488179 and parameters: {'max_depth': 10, 'eta': 0.4498081158575332, 'gamma': 0.11133736112638126, 'subsample': 0.5637109865941855, 'colsample_bytree': 0.5548316736372039}. Best is trial 49 with value: 0.037242825271900086.\n"
     ]
    },
    {
     "name": "stdout",
     "output_type": "stream",
     "text": [
      "MAPE: 0.06104106779488179\n"
     ]
    },
    {
     "name": "stderr",
     "output_type": "stream",
     "text": [
      "[I 2023-07-19 23:05:59,489] Trial 335 finished with value: 0.10578007302838603 and parameters: {'max_depth': 8, 'eta': 0.20970667061396364, 'gamma': 0.1298859624751217, 'subsample': 0.74898462478428, 'colsample_bytree': 0.6041561214984922}. Best is trial 49 with value: 0.037242825271900086.\n"
     ]
    },
    {
     "name": "stdout",
     "output_type": "stream",
     "text": [
      "MAPE: 0.10578007302838603\n"
     ]
    },
    {
     "name": "stderr",
     "output_type": "stream",
     "text": [
      "[I 2023-07-19 23:06:00,192] Trial 336 finished with value: 0.0776915473031848 and parameters: {'max_depth': 7, 'eta': 0.644851503980408, 'gamma': 0.14774473390454562, 'subsample': 0.3965604626002218, 'colsample_bytree': 0.33775542940747505}. Best is trial 49 with value: 0.037242825271900086.\n"
     ]
    },
    {
     "name": "stdout",
     "output_type": "stream",
     "text": [
      "MAPE: 0.0776915473031848\n"
     ]
    },
    {
     "name": "stderr",
     "output_type": "stream",
     "text": [
      "[I 2023-07-19 23:06:01,628] Trial 337 finished with value: 0.04976140213509303 and parameters: {'max_depth': 10, 'eta': 0.5581813272092663, 'gamma': 0.29904925442796837, 'subsample': 0.4868096324954979, 'colsample_bytree': 0.6846777171383974}. Best is trial 49 with value: 0.037242825271900086.\n"
     ]
    },
    {
     "name": "stdout",
     "output_type": "stream",
     "text": [
      "MAPE: 0.04976140213509303\n"
     ]
    },
    {
     "name": "stderr",
     "output_type": "stream",
     "text": [
      "[I 2023-07-19 23:06:02,621] Trial 338 finished with value: 0.06334854512103597 and parameters: {'max_depth': 10, 'eta': 0.2756992337542507, 'gamma': 0.04163097796106777, 'subsample': 0.2791491412285205, 'colsample_bytree': 0.5812754309985954}. Best is trial 49 with value: 0.037242825271900086.\n"
     ]
    },
    {
     "name": "stdout",
     "output_type": "stream",
     "text": [
      "MAPE: 0.06334854512103597\n"
     ]
    },
    {
     "name": "stderr",
     "output_type": "stream",
     "text": [
      "[I 2023-07-19 23:06:03,582] Trial 339 finished with value: 0.04610024336036554 and parameters: {'max_depth': 8, 'eta': 0.7125268285487193, 'gamma': 0.012253012062640279, 'subsample': 0.33792131435375783, 'colsample_bytree': 0.6414958067703223}. Best is trial 49 with value: 0.037242825271900086.\n"
     ]
    },
    {
     "name": "stdout",
     "output_type": "stream",
     "text": [
      "MAPE: 0.04610024336036554\n"
     ]
    },
    {
     "name": "stderr",
     "output_type": "stream",
     "text": [
      "[I 2023-07-19 23:06:04,682] Trial 340 finished with value: 0.057452946768714146 and parameters: {'max_depth': 9, 'eta': 0.35890236586316193, 'gamma': 0.011406495205879543, 'subsample': 0.5032436951855926, 'colsample_bytree': 0.537953342984184}. Best is trial 49 with value: 0.037242825271900086.\n"
     ]
    },
    {
     "name": "stdout",
     "output_type": "stream",
     "text": [
      "MAPE: 0.057452946768714146\n"
     ]
    },
    {
     "name": "stderr",
     "output_type": "stream",
     "text": [
      "[I 2023-07-19 23:06:05,923] Trial 341 finished with value: 0.06287250583885017 and parameters: {'max_depth': 10, 'eta': 0.49852425729559785, 'gamma': 0.1051372681392683, 'subsample': 0.7330439422439641, 'colsample_bytree': 0.4640011475808964}. Best is trial 49 with value: 0.037242825271900086.\n"
     ]
    },
    {
     "name": "stdout",
     "output_type": "stream",
     "text": [
      "MAPE: 0.06287250583885017\n"
     ]
    },
    {
     "name": "stderr",
     "output_type": "stream",
     "text": [
      "[I 2023-07-19 23:06:06,657] Trial 342 finished with value: 0.05079736809313459 and parameters: {'max_depth': 8, 'eta': 0.6110742110964535, 'gamma': 0.26905964792203735, 'subsample': 0.20536635236870038, 'colsample_bytree': 0.6152904602409897}. Best is trial 49 with value: 0.037242825271900086.\n"
     ]
    },
    {
     "name": "stdout",
     "output_type": "stream",
     "text": [
      "MAPE: 0.05079736809313459\n"
     ]
    },
    {
     "name": "stderr",
     "output_type": "stream",
     "text": [
      "[I 2023-07-19 23:06:08,204] Trial 343 finished with value: 0.059196286429178964 and parameters: {'max_depth': 10, 'eta': 0.8653733599659075, 'gamma': 0.014107044125736976, 'subsample': 0.47195442871587445, 'colsample_bytree': 0.7053156270544786}. Best is trial 49 with value: 0.037242825271900086.\n"
     ]
    },
    {
     "name": "stdout",
     "output_type": "stream",
     "text": [
      "MAPE: 0.059196286429178964\n"
     ]
    },
    {
     "name": "stderr",
     "output_type": "stream",
     "text": [
      "[I 2023-07-19 23:06:09,352] Trial 344 finished with value: 0.36320450188147013 and parameters: {'max_depth': 8, 'eta': 0.09252158425930834, 'gamma': 0.015646413940091926, 'subsample': 0.6696190467412737, 'colsample_bytree': 0.6608253356347813}. Best is trial 49 with value: 0.037242825271900086.\n"
     ]
    },
    {
     "name": "stdout",
     "output_type": "stream",
     "text": [
      "MAPE: 0.36320450188147013\n"
     ]
    },
    {
     "name": "stderr",
     "output_type": "stream",
     "text": [
      "[I 2023-07-19 23:06:10,642] Trial 345 finished with value: 0.04831548077717924 and parameters: {'max_depth': 10, 'eta': 0.6690486876002776, 'gamma': 0.08765300729349158, 'subsample': 0.43831157312342817, 'colsample_bytree': 0.5696690639582392}. Best is trial 49 with value: 0.037242825271900086.\n"
     ]
    },
    {
     "name": "stdout",
     "output_type": "stream",
     "text": [
      "MAPE: 0.04831548077717924\n"
     ]
    },
    {
     "name": "stderr",
     "output_type": "stream",
     "text": [
      "[I 2023-07-19 23:06:11,817] Trial 346 finished with value: 0.049121693140961466 and parameters: {'max_depth': 10, 'eta': 0.5518246316536596, 'gamma': 0.32348268446746675, 'subsample': 0.35458929616709794, 'colsample_bytree': 0.5990313370571826}. Best is trial 49 with value: 0.037242825271900086.\n"
     ]
    },
    {
     "name": "stdout",
     "output_type": "stream",
     "text": [
      "MAPE: 0.049121693140961466\n"
     ]
    },
    {
     "name": "stderr",
     "output_type": "stream",
     "text": [
      "[I 2023-07-19 23:06:13,128] Trial 347 finished with value: 0.056047946408204055 and parameters: {'max_depth': 9, 'eta': 0.7516009354297309, 'gamma': 0.04450056253438128, 'subsample': 0.5399689425973487, 'colsample_bytree': 0.6767455873522475}. Best is trial 49 with value: 0.037242825271900086.\n"
     ]
    },
    {
     "name": "stdout",
     "output_type": "stream",
     "text": [
      "MAPE: 0.056047946408204055\n"
     ]
    },
    {
     "name": "stderr",
     "output_type": "stream",
     "text": [
      "[I 2023-07-19 23:06:14,573] Trial 348 finished with value: 0.07345416721915189 and parameters: {'max_depth': 10, 'eta': 0.25834726032292293, 'gamma': 0.117529451164069, 'subsample': 0.579014349461063, 'colsample_bytree': 0.6300968885960093}. Best is trial 49 with value: 0.037242825271900086.\n"
     ]
    },
    {
     "name": "stdout",
     "output_type": "stream",
     "text": [
      "MAPE: 0.07345416721915189\n"
     ]
    },
    {
     "name": "stderr",
     "output_type": "stream",
     "text": [
      "[I 2023-07-19 23:06:15,541] Trial 349 finished with value: 0.19829311224348464 and parameters: {'max_depth': 8, 'eta': 0.14300436493829652, 'gamma': 0.1620809838577293, 'subsample': 0.37757012284528996, 'colsample_bytree': 0.6539604010378494}. Best is trial 49 with value: 0.037242825271900086.\n"
     ]
    },
    {
     "name": "stdout",
     "output_type": "stream",
     "text": [
      "MAPE: 0.19829311224348464\n"
     ]
    },
    {
     "name": "stderr",
     "output_type": "stream",
     "text": [
      "[I 2023-07-19 23:06:16,603] Trial 350 finished with value: 0.05291771557776783 and parameters: {'max_depth': 10, 'eta': 0.3277160214584166, 'gamma': 0.2104631023095443, 'subsample': 0.31709280292735476, 'colsample_bytree': 0.5928859023821244}. Best is trial 49 with value: 0.037242825271900086.\n"
     ]
    },
    {
     "name": "stdout",
     "output_type": "stream",
     "text": [
      "MAPE: 0.05291771557776783\n"
     ]
    },
    {
     "name": "stderr",
     "output_type": "stream",
     "text": [
      "[I 2023-07-19 23:06:17,709] Trial 351 finished with value: 0.05101801099493813 and parameters: {'max_depth': 8, 'eta': 0.6014913088788026, 'gamma': 0.13517584012719908, 'subsample': 0.617988075047691, 'colsample_bytree': 0.6187029197401687}. Best is trial 49 with value: 0.037242825271900086.\n"
     ]
    },
    {
     "name": "stdout",
     "output_type": "stream",
     "text": [
      "MAPE: 0.05101801099493813\n"
     ]
    },
    {
     "name": "stderr",
     "output_type": "stream",
     "text": [
      "[I 2023-07-19 23:06:19,279] Trial 352 finished with value: 0.051489940941544014 and parameters: {'max_depth': 10, 'eta': 0.455704241670725, 'gamma': 0.019542348823223664, 'subsample': 0.5992700064825356, 'colsample_bytree': 0.7418580944333603}. Best is trial 49 with value: 0.037242825271900086.\n"
     ]
    },
    {
     "name": "stdout",
     "output_type": "stream",
     "text": [
      "MAPE: 0.051489940941544014\n"
     ]
    },
    {
     "name": "stderr",
     "output_type": "stream",
     "text": [
      "[I 2023-07-19 23:06:20,623] Trial 353 finished with value: 0.2940046159081739 and parameters: {'max_depth': 9, 'eta': 0.1109733963949958, 'gamma': 0.03791254362395161, 'subsample': 0.5198256636221363, 'colsample_bytree': 0.6901454030964294}. Best is trial 49 with value: 0.037242825271900086.\n"
     ]
    },
    {
     "name": "stdout",
     "output_type": "stream",
     "text": [
      "MAPE: 0.2940046159081739\n"
     ]
    },
    {
     "name": "stderr",
     "output_type": "stream",
     "text": [
      "[I 2023-07-19 23:06:22,084] Trial 354 finished with value: 0.05302915192602352 and parameters: {'max_depth': 10, 'eta': 0.993371293517091, 'gamma': 0.24377946652402693, 'subsample': 0.6536167140465123, 'colsample_bytree': 0.574814694699253}. Best is trial 49 with value: 0.037242825271900086.\n"
     ]
    },
    {
     "name": "stdout",
     "output_type": "stream",
     "text": [
      "MAPE: 0.05302915192602352\n"
     ]
    },
    {
     "name": "stderr",
     "output_type": "stream",
     "text": [
      "[I 2023-07-19 23:06:22,723] Trial 355 finished with value: 0.07166295490860145 and parameters: {'max_depth': 8, 'eta': 0.508106992157355, 'gamma': 0.02802461107765751, 'subsample': 0.7098927304428951, 'colsample_bytree': 0.13150255878114853}. Best is trial 49 with value: 0.037242825271900086.\n"
     ]
    },
    {
     "name": "stdout",
     "output_type": "stream",
     "text": [
      "MAPE: 0.07166295490860145\n"
     ]
    },
    {
     "name": "stderr",
     "output_type": "stream",
     "text": [
      "[I 2023-07-19 23:06:24,076] Trial 356 finished with value: 0.05011970513134719 and parameters: {'max_depth': 10, 'eta': 0.38613058803775646, 'gamma': 0.021081746412149667, 'subsample': 0.46434312514001247, 'colsample_bytree': 0.636508100577077}. Best is trial 49 with value: 0.037242825271900086.\n"
     ]
    },
    {
     "name": "stdout",
     "output_type": "stream",
     "text": [
      "MAPE: 0.05011970513134719\n"
     ]
    },
    {
     "name": "stderr",
     "output_type": "stream",
     "text": [
      "[I 2023-07-19 23:06:25,110] Trial 357 finished with value: 0.39777517294455916 and parameters: {'max_depth': 10, 'eta': 0.0851151621720162, 'gamma': 0.012329116402366511, 'subsample': 0.5553313652481433, 'colsample_bytree': 0.40480156582979243}. Best is trial 49 with value: 0.037242825271900086.\n"
     ]
    },
    {
     "name": "stdout",
     "output_type": "stream",
     "text": [
      "MAPE: 0.39777517294455916\n"
     ]
    },
    {
     "name": "stderr",
     "output_type": "stream",
     "text": [
      "[I 2023-07-19 23:06:26,331] Trial 358 finished with value: 0.07757991021403594 and parameters: {'max_depth': 10, 'eta': 0.8143569283934794, 'gamma': 0.07760301257660071, 'subsample': 0.49939198265418766, 'colsample_bytree': 0.4923517208791293}. Best is trial 49 with value: 0.037242825271900086.\n"
     ]
    },
    {
     "name": "stdout",
     "output_type": "stream",
     "text": [
      "MAPE: 0.07757991021403594\n"
     ]
    },
    {
     "name": "stderr",
     "output_type": "stream",
     "text": [
      "[I 2023-07-19 23:06:27,729] Trial 359 finished with value: 0.0555298085661727 and parameters: {'max_depth': 9, 'eta': 0.6711209054912487, 'gamma': 0.033283270594092224, 'subsample': 0.537834310262755, 'colsample_bytree': 0.7128802527208278}. Best is trial 49 with value: 0.037242825271900086.\n"
     ]
    },
    {
     "name": "stdout",
     "output_type": "stream",
     "text": [
      "MAPE: 0.0555298085661727\n"
     ]
    },
    {
     "name": "stderr",
     "output_type": "stream",
     "text": [
      "[I 2023-07-19 23:06:28,130] Trial 360 finished with value: 0.07088886325971926 and parameters: {'max_depth': 3, 'eta': 0.5870593629782416, 'gamma': 0.123086184097041, 'subsample': 0.4158225440967901, 'colsample_bytree': 0.6066320433363486}. Best is trial 49 with value: 0.037242825271900086.\n"
     ]
    },
    {
     "name": "stdout",
     "output_type": "stream",
     "text": [
      "MAPE: 0.07088886325971926\n"
     ]
    },
    {
     "name": "stderr",
     "output_type": "stream",
     "text": [
      "[I 2023-07-19 23:06:29,302] Trial 361 finished with value: 0.043520224435275125 and parameters: {'max_depth': 8, 'eta': 0.5377605250173448, 'gamma': 0.01002950156565602, 'subsample': 0.7638876132521538, 'colsample_bytree': 0.6530936192917313}. Best is trial 49 with value: 0.037242825271900086.\n"
     ]
    },
    {
     "name": "stdout",
     "output_type": "stream",
     "text": [
      "MAPE: 0.043520224435275125\n"
     ]
    },
    {
     "name": "stderr",
     "output_type": "stream",
     "text": [
      "[I 2023-07-19 23:06:30,485] Trial 362 finished with value: 0.054779805681158186 and parameters: {'max_depth': 8, 'eta': 0.47998550812366936, 'gamma': 0.18744534672221425, 'subsample': 0.784579688516166, 'colsample_bytree': 0.6599093088688538}. Best is trial 49 with value: 0.037242825271900086.\n"
     ]
    },
    {
     "name": "stdout",
     "output_type": "stream",
     "text": [
      "MAPE: 0.054779805681158186\n"
     ]
    },
    {
     "name": "stderr",
     "output_type": "stream",
     "text": [
      "[I 2023-07-19 23:06:31,631] Trial 363 finished with value: 0.049276649516261956 and parameters: {'max_depth': 8, 'eta': 0.43836178417597266, 'gamma': 0.140548509180895, 'subsample': 0.7632331866479926, 'colsample_bytree': 0.6462348079913885}. Best is trial 49 with value: 0.037242825271900086.\n"
     ]
    },
    {
     "name": "stdout",
     "output_type": "stream",
     "text": [
      "MAPE: 0.049276649516261956\n"
     ]
    },
    {
     "name": "stderr",
     "output_type": "stream",
     "text": [
      "[I 2023-07-19 23:06:32,460] Trial 364 finished with value: 0.07176257105718227 and parameters: {'max_depth': 8, 'eta': 0.5336691702330497, 'gamma': 0.01004076049560839, 'subsample': 0.7490141796412279, 'colsample_bytree': 0.29483343961627034}. Best is trial 49 with value: 0.037242825271900086.\n"
     ]
    },
    {
     "name": "stdout",
     "output_type": "stream",
     "text": [
      "MAPE: 0.07176257105718227\n"
     ]
    },
    {
     "name": "stderr",
     "output_type": "stream",
     "text": [
      "[I 2023-07-19 23:06:33,357] Trial 365 finished with value: 0.061494947495933865 and parameters: {'max_depth': 8, 'eta': 0.9032505924528388, 'gamma': 0.011259931173909986, 'subsample': 0.3024698317207051, 'colsample_bytree': 0.629657368496049}. Best is trial 49 with value: 0.037242825271900086.\n"
     ]
    },
    {
     "name": "stdout",
     "output_type": "stream",
     "text": [
      "MAPE: 0.061494947495933865\n"
     ]
    },
    {
     "name": "stderr",
     "output_type": "stream",
     "text": [
      "[I 2023-07-19 23:06:34,436] Trial 366 finished with value: 0.07950395646041879 and parameters: {'max_depth': 8, 'eta': 0.23700071969256375, 'gamma': 0.10226424543742314, 'subsample': 0.7630828398957403, 'colsample_bytree': 0.5902372387562956}. Best is trial 49 with value: 0.037242825271900086.\n"
     ]
    },
    {
     "name": "stdout",
     "output_type": "stream",
     "text": [
      "MAPE: 0.07950395646041879\n"
     ]
    },
    {
     "name": "stderr",
     "output_type": "stream",
     "text": [
      "[I 2023-07-19 23:06:35,485] Trial 367 finished with value: 0.04999109254668166 and parameters: {'max_depth': 8, 'eta': 0.5056967655344738, 'gamma': 0.010938440504775793, 'subsample': 0.8105396671159306, 'colsample_bytree': 0.5496237944515259}. Best is trial 49 with value: 0.037242825271900086.\n"
     ]
    },
    {
     "name": "stdout",
     "output_type": "stream",
     "text": [
      "MAPE: 0.04999109254668166\n"
     ]
    },
    {
     "name": "stderr",
     "output_type": "stream",
     "text": [
      "[I 2023-07-19 23:06:36,807] Trial 368 finished with value: 0.05106867198915251 and parameters: {'max_depth': 8, 'eta': 0.5541358418783019, 'gamma': 0.024915903407613037, 'subsample': 0.678800846294343, 'colsample_bytree': 0.981671535728466}. Best is trial 49 with value: 0.037242825271900086.\n"
     ]
    },
    {
     "name": "stdout",
     "output_type": "stream",
     "text": [
      "MAPE: 0.05106867198915251\n"
     ]
    },
    {
     "name": "stderr",
     "output_type": "stream",
     "text": [
      "[I 2023-07-19 23:06:37,970] Trial 369 finished with value: 0.05717477225717893 and parameters: {'max_depth': 8, 'eta': 0.4207464035103581, 'gamma': 0.021948508593702544, 'subsample': 0.736245704633622, 'colsample_bytree': 0.6728170529435676}. Best is trial 49 with value: 0.037242825271900086.\n"
     ]
    },
    {
     "name": "stdout",
     "output_type": "stream",
     "text": [
      "MAPE: 0.05717477225717893\n"
     ]
    },
    {
     "name": "stderr",
     "output_type": "stream",
     "text": [
      "[I 2023-07-19 23:06:38,680] Trial 370 finished with value: 0.6724691217680704 and parameters: {'max_depth': 7, 'eta': 0.03706062326818798, 'gamma': 0.011797843250678305, 'subsample': 0.7186569919729825, 'colsample_bytree': 0.25261270612390246}. Best is trial 49 with value: 0.037242825271900086.\n"
     ]
    },
    {
     "name": "stdout",
     "output_type": "stream",
     "text": [
      "MAPE: 0.6724691217680704\n"
     ]
    },
    {
     "name": "stderr",
     "output_type": "stream",
     "text": [
      "[I 2023-07-19 23:06:39,900] Trial 371 finished with value: 0.5274386631310206 and parameters: {'max_depth': 9, 'eta': 0.06015126558977565, 'gamma': 0.010261932550209383, 'subsample': 0.7884550190865326, 'colsample_bytree': 0.6178794386989417}. Best is trial 49 with value: 0.037242825271900086.\n"
     ]
    },
    {
     "name": "stdout",
     "output_type": "stream",
     "text": [
      "MAPE: 0.5274386631310206\n"
     ]
    },
    {
     "name": "stderr",
     "output_type": "stream",
     "text": [
      "[I 2023-07-19 23:06:41,086] Trial 372 finished with value: 0.05579243964355923 and parameters: {'max_depth': 8, 'eta': 0.7480906359381293, 'gamma': 0.01828770736626484, 'subsample': 0.6218538625602135, 'colsample_bytree': 0.6484232278464478}. Best is trial 49 with value: 0.037242825271900086.\n"
     ]
    },
    {
     "name": "stdout",
     "output_type": "stream",
     "text": [
      "MAPE: 0.05579243964355923\n"
     ]
    },
    {
     "name": "stderr",
     "output_type": "stream",
     "text": [
      "[I 2023-07-19 23:06:42,228] Trial 373 finished with value: 0.051213165099130147 and parameters: {'max_depth': 8, 'eta': 0.6415057331762932, 'gamma': 0.05592527862869168, 'subsample': 0.7986997835318519, 'colsample_bytree': 0.608409033119433}. Best is trial 49 with value: 0.037242825271900086.\n"
     ]
    },
    {
     "name": "stdout",
     "output_type": "stream",
     "text": [
      "MAPE: 0.051213165099130147\n"
     ]
    },
    {
     "name": "stderr",
     "output_type": "stream",
     "text": [
      "[I 2023-07-19 23:06:43,160] Trial 374 finished with value: 0.1479358908969176 and parameters: {'max_depth': 8, 'eta': 0.17007376387946743, 'gamma': 0.15494839096164056, 'subsample': 0.3950242816645365, 'colsample_bytree': 0.5715567703144987}. Best is trial 49 with value: 0.037242825271900086.\n"
     ]
    },
    {
     "name": "stdout",
     "output_type": "stream",
     "text": [
      "MAPE: 0.1479358908969176\n"
     ]
    },
    {
     "name": "stderr",
     "output_type": "stream",
     "text": [
      "[I 2023-07-19 23:06:44,330] Trial 375 finished with value: 0.053879927539472135 and parameters: {'max_depth': 9, 'eta': 0.48258270585446233, 'gamma': 0.03838628786373092, 'subsample': 0.6977303217684372, 'colsample_bytree': 0.5206255627606022}. Best is trial 49 with value: 0.037242825271900086.\n"
     ]
    },
    {
     "name": "stdout",
     "output_type": "stream",
     "text": [
      "MAPE: 0.053879927539472135\n"
     ]
    },
    {
     "name": "stderr",
     "output_type": "stream",
     "text": [
      "[I 2023-07-19 23:06:45,516] Trial 376 finished with value: 0.0511575354986976 and parameters: {'max_depth': 10, 'eta': 0.5622498435782691, 'gamma': 0.028286969767712562, 'subsample': 0.3326421046290587, 'colsample_bytree': 0.6290716494516104}. Best is trial 49 with value: 0.037242825271900086.\n"
     ]
    },
    {
     "name": "stdout",
     "output_type": "stream",
     "text": [
      "MAPE: 0.0511575354986976\n"
     ]
    },
    {
     "name": "stderr",
     "output_type": "stream",
     "text": [
      "[I 2023-07-19 23:06:46,546] Trial 377 finished with value: 0.06084030011412331 and parameters: {'max_depth': 7, 'eta': 0.722630724966608, 'gamma': 0.01330252073163998, 'subsample': 0.5204821230250553, 'colsample_bytree': 0.6687407078072073}. Best is trial 49 with value: 0.037242825271900086.\n"
     ]
    },
    {
     "name": "stdout",
     "output_type": "stream",
     "text": [
      "MAPE: 0.06084030011412331\n"
     ]
    },
    {
     "name": "stderr",
     "output_type": "stream",
     "text": [
      "[I 2023-07-19 23:06:47,304] Trial 378 finished with value: 0.04978497696397021 and parameters: {'max_depth': 10, 'eta': 0.6072285766196991, 'gamma': 0.2819499928562982, 'subsample': 0.1071609831556315, 'colsample_bytree': 0.5892734743912382}. Best is trial 49 with value: 0.037242825271900086.\n"
     ]
    },
    {
     "name": "stdout",
     "output_type": "stream",
     "text": [
      "MAPE: 0.04978497696397021\n"
     ]
    },
    {
     "name": "stderr",
     "output_type": "stream",
     "text": [
      "[I 2023-07-19 23:06:48,457] Trial 379 finished with value: 0.16953125937418118 and parameters: {'max_depth': 8, 'eta': 0.15654814488638624, 'gamma': 0.09423177064175152, 'subsample': 0.5792141674192366, 'colsample_bytree': 0.6549954998151291}. Best is trial 49 with value: 0.037242825271900086.\n"
     ]
    },
    {
     "name": "stdout",
     "output_type": "stream",
     "text": [
      "MAPE: 0.16953125937418118\n"
     ]
    },
    {
     "name": "stderr",
     "output_type": "stream",
     "text": [
      "[I 2023-07-19 23:06:49,561] Trial 380 finished with value: 0.04575299961589974 and parameters: {'max_depth': 9, 'eta': 0.8089846117006105, 'gamma': 0.11302887651691207, 'subsample': 0.3549650602230901, 'colsample_bytree': 0.6391671069218476}. Best is trial 49 with value: 0.037242825271900086.\n"
     ]
    },
    {
     "name": "stdout",
     "output_type": "stream",
     "text": [
      "MAPE: 0.04575299961589974\n"
     ]
    },
    {
     "name": "stderr",
     "output_type": "stream",
     "text": [
      "[I 2023-07-19 23:06:49,984] Trial 381 finished with value: 0.8760229204262452 and parameters: {'max_depth': 10, 'eta': 0.012563006878486943, 'gamma': 0.21474261255321203, 'subsample': 0.26233722933250625, 'colsample_bytree': 0.17934765570075883}. Best is trial 49 with value: 0.037242825271900086.\n"
     ]
    },
    {
     "name": "stdout",
     "output_type": "stream",
     "text": [
      "MAPE: 0.8760229204262452\n"
     ]
    },
    {
     "name": "stderr",
     "output_type": "stream",
     "text": [
      "[I 2023-07-19 23:06:51,079] Trial 382 finished with value: 0.8084397187918755 and parameters: {'max_depth': 8, 'eta': 0.020420817148579216, 'gamma': 0.03313434612213073, 'subsample': 0.5552680807724167, 'colsample_bytree': 0.6859141448651599}. Best is trial 49 with value: 0.037242825271900086.\n"
     ]
    },
    {
     "name": "stdout",
     "output_type": "stream",
     "text": [
      "MAPE: 0.8084397187918755\n"
     ]
    },
    {
     "name": "stderr",
     "output_type": "stream",
     "text": [
      "[I 2023-07-19 23:06:52,279] Trial 383 finished with value: 0.05518278975149024 and parameters: {'max_depth': 10, 'eta': 0.6703483356731477, 'gamma': 0.23817704136138454, 'subsample': 0.4320502545358873, 'colsample_bytree': 0.5528342208188323}. Best is trial 49 with value: 0.037242825271900086.\n"
     ]
    },
    {
     "name": "stdout",
     "output_type": "stream",
     "text": [
      "MAPE: 0.05518278975149024\n"
     ]
    },
    {
     "name": "stderr",
     "output_type": "stream",
     "text": [
      "[I 2023-07-19 23:06:52,958] Trial 384 finished with value: 0.05838289818729686 and parameters: {'max_depth': 7, 'eta': 0.512716323278648, 'gamma': 0.17779573935076545, 'subsample': 0.2855537532281639, 'colsample_bytree': 0.6039684238897631}. Best is trial 49 with value: 0.037242825271900086.\n"
     ]
    },
    {
     "name": "stdout",
     "output_type": "stream",
     "text": [
      "MAPE: 0.05838289818729686\n"
     ]
    },
    {
     "name": "stderr",
     "output_type": "stream",
     "text": [
      "[I 2023-07-19 23:06:54,221] Trial 385 finished with value: 0.05486936060022234 and parameters: {'max_depth': 10, 'eta': 0.3794950330864, 'gamma': 0.2554594139446991, 'subsample': 0.45144580448581006, 'colsample_bytree': 0.622327124123053}. Best is trial 49 with value: 0.037242825271900086.\n"
     ]
    },
    {
     "name": "stdout",
     "output_type": "stream",
     "text": [
      "MAPE: 0.05486936060022234\n"
     ]
    },
    {
     "name": "stderr",
     "output_type": "stream",
     "text": [
      "[I 2023-07-19 23:06:55,320] Trial 386 finished with value: 0.05661273551918225 and parameters: {'max_depth': 8, 'eta': 0.4446463859660694, 'gamma': 0.12447500647887376, 'subsample': 0.48529242583522525, 'colsample_bytree': 0.6736859434054734}. Best is trial 49 with value: 0.037242825271900086.\n"
     ]
    },
    {
     "name": "stdout",
     "output_type": "stream",
     "text": [
      "MAPE: 0.05661273551918225\n"
     ]
    },
    {
     "name": "stderr",
     "output_type": "stream",
     "text": [
      "[I 2023-07-19 23:06:56,705] Trial 387 finished with value: 0.054177833018342524 and parameters: {'max_depth': 10, 'eta': 0.5608969939132915, 'gamma': 0.015139858218585772, 'subsample': 0.7720584894083337, 'colsample_bytree': 0.5777196224237707}. Best is trial 49 with value: 0.037242825271900086.\n"
     ]
    },
    {
     "name": "stdout",
     "output_type": "stream",
     "text": [
      "MAPE: 0.054177833018342524\n"
     ]
    },
    {
     "name": "stderr",
     "output_type": "stream",
     "text": [
      "[I 2023-07-19 23:06:58,022] Trial 388 finished with value: 0.0626382473623547 and parameters: {'max_depth': 9, 'eta': 0.8966215530094744, 'gamma': 0.19809556480727697, 'subsample': 0.5269448460354417, 'colsample_bytree': 0.6498396802428239}. Best is trial 49 with value: 0.037242825271900086.\n"
     ]
    },
    {
     "name": "stdout",
     "output_type": "stream",
     "text": [
      "MAPE: 0.0626382473623547\n"
     ]
    },
    {
     "name": "stderr",
     "output_type": "stream",
     "text": [
      "[I 2023-07-19 23:06:59,664] Trial 389 finished with value: 0.061198151862614535 and parameters: {'max_depth': 10, 'eta': 0.6103728213512797, 'gamma': 0.045019277900343525, 'subsample': 0.5099903593520109, 'colsample_bytree': 0.828480209642384}. Best is trial 49 with value: 0.037242825271900086.\n"
     ]
    },
    {
     "name": "stdout",
     "output_type": "stream",
     "text": [
      "MAPE: 0.061198151862614535\n"
     ]
    },
    {
     "name": "stderr",
     "output_type": "stream",
     "text": [
      "[I 2023-07-19 23:07:00,532] Trial 390 finished with value: 0.08078125829677893 and parameters: {'max_depth': 8, 'eta': 0.717147015227977, 'gamma': 0.017014167401029446, 'subsample': 0.5865026132005768, 'colsample_bytree': 0.297428416126171}. Best is trial 49 with value: 0.037242825271900086.\n"
     ]
    },
    {
     "name": "stdout",
     "output_type": "stream",
     "text": [
      "MAPE: 0.08078125829677893\n"
     ]
    },
    {
     "name": "stderr",
     "output_type": "stream",
     "text": [
      "[I 2023-07-19 23:07:01,817] Trial 391 finished with value: 0.05362003570143763 and parameters: {'max_depth': 10, 'eta': 0.4646520892691509, 'gamma': 0.14861584717686607, 'subsample': 0.47702441956248304, 'colsample_bytree': 0.6017359872303351}. Best is trial 49 with value: 0.037242825271900086.\n"
     ]
    },
    {
     "name": "stdout",
     "output_type": "stream",
     "text": [
      "MAPE: 0.05362003570143763\n"
     ]
    },
    {
     "name": "stderr",
     "output_type": "stream",
     "text": [
      "[I 2023-07-19 23:07:03,431] Trial 392 finished with value: 0.0492517026418809 and parameters: {'max_depth': 10, 'eta': 0.5239646612365773, 'gamma': 0.31051642933746276, 'subsample': 0.6037465635945884, 'colsample_bytree': 0.6957111367574185}. Best is trial 49 with value: 0.037242825271900086.\n"
     ]
    },
    {
     "name": "stdout",
     "output_type": "stream",
     "text": [
      "MAPE: 0.0492517026418809\n"
     ]
    },
    {
     "name": "stderr",
     "output_type": "stream",
     "text": [
      "[I 2023-07-19 23:07:04,448] Trial 393 finished with value: 0.05747041064107254 and parameters: {'max_depth': 8, 'eta': 0.652346926194934, 'gamma': 0.0678841409600716, 'subsample': 0.36770375546872824, 'colsample_bytree': 0.6358500489108064}. Best is trial 49 with value: 0.037242825271900086.\n"
     ]
    },
    {
     "name": "stdout",
     "output_type": "stream",
     "text": [
      "MAPE: 0.05747041064107254\n"
     ]
    },
    {
     "name": "stderr",
     "output_type": "stream",
     "text": [
      "[I 2023-07-19 23:07:05,960] Trial 394 finished with value: 0.05087949118532474 and parameters: {'max_depth': 10, 'eta': 0.8080888266270374, 'gamma': 0.36735331425862533, 'subsample': 0.8552026578363511, 'colsample_bytree': 0.5642013510038159}. Best is trial 49 with value: 0.037242825271900086.\n"
     ]
    },
    {
     "name": "stdout",
     "output_type": "stream",
     "text": [
      "MAPE: 0.05087949118532474\n"
     ]
    },
    {
     "name": "stderr",
     "output_type": "stream",
     "text": [
      "[I 2023-07-19 23:07:06,555] Trial 395 finished with value: 0.3114162878039969 and parameters: {'max_depth': 6, 'eta': 0.10330931666221174, 'gamma': 0.050585025676135154, 'subsample': 0.5465353894450465, 'colsample_bytree': 0.23471085559604898}. Best is trial 49 with value: 0.037242825271900086.\n"
     ]
    },
    {
     "name": "stdout",
     "output_type": "stream",
     "text": [
      "MAPE: 0.3114162878039969\n"
     ]
    },
    {
     "name": "stderr",
     "output_type": "stream",
     "text": [
      "[I 2023-07-19 23:07:07,635] Trial 396 finished with value: 0.4466470560558478 and parameters: {'max_depth': 8, 'eta': 0.07492155845636518, 'gamma': 0.1676246039529186, 'subsample': 0.6400020441128663, 'colsample_bytree': 0.5916782909570407}. Best is trial 49 with value: 0.037242825271900086.\n"
     ]
    },
    {
     "name": "stdout",
     "output_type": "stream",
     "text": [
      "MAPE: 0.4466470560558478\n"
     ]
    },
    {
     "name": "stderr",
     "output_type": "stream",
     "text": [
      "[I 2023-07-19 23:07:08,406] Trial 397 finished with value: 0.0562424460851399 and parameters: {'max_depth': 9, 'eta': 0.3373627267089251, 'gamma': 0.081364858900765, 'subsample': 0.18640990374156302, 'colsample_bytree': 0.6198967586558087}. Best is trial 49 with value: 0.037242825271900086.\n"
     ]
    },
    {
     "name": "stdout",
     "output_type": "stream",
     "text": [
      "MAPE: 0.0562424460851399\n"
     ]
    },
    {
     "name": "stderr",
     "output_type": "stream",
     "text": [
      "[I 2023-07-19 23:07:09,301] Trial 398 finished with value: 0.0634747633706018 and parameters: {'max_depth': 10, 'eta': 0.5739483038140276, 'gamma': 0.13376790153288903, 'subsample': 0.31401731315627524, 'colsample_bytree': 0.4202192246177793}. Best is trial 49 with value: 0.037242825271900086.\n"
     ]
    },
    {
     "name": "stdout",
     "output_type": "stream",
     "text": [
      "MAPE: 0.0634747633706018\n"
     ]
    },
    {
     "name": "stderr",
     "output_type": "stream",
     "text": [
      "[I 2023-07-19 23:07:10,306] Trial 399 finished with value: 0.07151058587431504 and parameters: {'max_depth': 8, 'eta': 0.29282692868203974, 'gamma': 0.013114158144250149, 'subsample': 0.7358969471322707, 'colsample_bytree': 0.5366036609407399}. Best is trial 49 with value: 0.037242825271900086.\n"
     ]
    },
    {
     "name": "stdout",
     "output_type": "stream",
     "text": [
      "MAPE: 0.07151058587431504\n"
     ]
    },
    {
     "name": "stderr",
     "output_type": "stream",
     "text": [
      "[I 2023-07-19 23:07:11,802] Trial 400 finished with value: 0.04671196607677526 and parameters: {'max_depth': 10, 'eta': 0.40393019348889714, 'gamma': 0.11186550838308194, 'subsample': 0.8317730060287786, 'colsample_bytree': 0.6637524219827879}. Best is trial 49 with value: 0.037242825271900086.\n"
     ]
    },
    {
     "name": "stdout",
     "output_type": "stream",
     "text": [
      "MAPE: 0.04671196607677526\n"
     ]
    },
    {
     "name": "stderr",
     "output_type": "stream",
     "text": [
      "[I 2023-07-19 23:07:13,114] Trial 401 finished with value: 0.04618830708470129 and parameters: {'max_depth': 10, 'eta': 0.4960062185912141, 'gamma': 0.0118511529770521, 'subsample': 0.5010985243063798, 'colsample_bytree': 0.6153079837897529}. Best is trial 49 with value: 0.037242825271900086.\n"
     ]
    },
    {
     "name": "stdout",
     "output_type": "stream",
     "text": [
      "MAPE: 0.04618830708470129\n"
     ]
    },
    {
     "name": "stderr",
     "output_type": "stream",
     "text": [
      "[I 2023-07-19 23:07:14,290] Trial 402 finished with value: 0.048598815843307774 and parameters: {'max_depth': 8, 'eta': 0.6967497286496058, 'gamma': 0.06238287485620699, 'subsample': 0.5667197582049294, 'colsample_bytree': 0.6450441606263388}. Best is trial 49 with value: 0.037242825271900086.\n"
     ]
    },
    {
     "name": "stdout",
     "output_type": "stream",
     "text": [
      "MAPE: 0.048598815843307774\n"
     ]
    },
    {
     "name": "stderr",
     "output_type": "stream",
     "text": [
      "[I 2023-07-19 23:07:15,633] Trial 403 finished with value: 0.20998604277740854 and parameters: {'max_depth': 10, 'eta': 0.13880307287635, 'gamma': 0.2665875804555867, 'subsample': 0.6578868407620031, 'colsample_bytree': 0.5830656714117464}. Best is trial 49 with value: 0.037242825271900086.\n"
     ]
    },
    {
     "name": "stdout",
     "output_type": "stream",
     "text": [
      "MAPE: 0.20998604277740854\n"
     ]
    },
    {
     "name": "stderr",
     "output_type": "stream",
     "text": [
      "[I 2023-07-19 23:07:17,007] Trial 404 finished with value: 0.3380377139625267 and parameters: {'max_depth': 10, 'eta': 0.09879564319898813, 'gamma': 0.09340667382118324, 'subsample': 0.5298819320808733, 'colsample_bytree': 0.6815727224721566}. Best is trial 49 with value: 0.037242825271900086.\n"
     ]
    },
    {
     "name": "stdout",
     "output_type": "stream",
     "text": [
      "MAPE: 0.3380377139625267\n"
     ]
    },
    {
     "name": "stderr",
     "output_type": "stream",
     "text": [
      "[I 2023-07-19 23:07:18,002] Trial 405 finished with value: 0.054137793476855295 and parameters: {'max_depth': 8, 'eta': 0.6118166792533796, 'gamma': 0.3354123670803237, 'subsample': 0.38661612900176573, 'colsample_bytree': 0.6309642544270497}. Best is trial 49 with value: 0.037242825271900086.\n"
     ]
    },
    {
     "name": "stdout",
     "output_type": "stream",
     "text": [
      "MAPE: 0.054137793476855295\n"
     ]
    },
    {
     "name": "stderr",
     "output_type": "stream",
     "text": [
      "[I 2023-07-19 23:07:18,883] Trial 406 finished with value: 0.07597398130461298 and parameters: {'max_depth': 9, 'eta': 0.5446437248823718, 'gamma': 0.02267438116869, 'subsample': 0.44975335776343206, 'colsample_bytree': 0.27925250014966085}. Best is trial 49 with value: 0.037242825271900086.\n"
     ]
    },
    {
     "name": "stdout",
     "output_type": "stream",
     "text": [
      "MAPE: 0.07597398130461298\n"
     ]
    },
    {
     "name": "stderr",
     "output_type": "stream",
     "text": [
      "[I 2023-07-19 23:07:20,268] Trial 407 finished with value: 0.11765434048288978 and parameters: {'max_depth': 10, 'eta': 0.19160532550041745, 'gamma': 0.2279467934827057, 'subsample': 0.8836244162892599, 'colsample_bytree': 0.6049953835688924}. Best is trial 49 with value: 0.037242825271900086.\n"
     ]
    },
    {
     "name": "stdout",
     "output_type": "stream",
     "text": [
      "MAPE: 0.11765434048288978\n"
     ]
    },
    {
     "name": "stderr",
     "output_type": "stream",
     "text": [
      "[I 2023-07-19 23:07:21,197] Trial 408 finished with value: 0.05538200506620782 and parameters: {'max_depth': 8, 'eta': 0.9042658678421925, 'gamma': 0.2886222760102377, 'subsample': 0.2906081797761778, 'colsample_bytree': 0.6985083745830232}. Best is trial 49 with value: 0.037242825271900086.\n"
     ]
    },
    {
     "name": "stdout",
     "output_type": "stream",
     "text": [
      "MAPE: 0.05538200506620782\n"
     ]
    },
    {
     "name": "stderr",
     "output_type": "stream",
     "text": [
      "[I 2023-07-19 23:07:22,209] Trial 409 finished with value: 0.06748237928077533 and parameters: {'max_depth': 9, 'eta': 0.7418311363155815, 'gamma': 0.13887562120617183, 'subsample': 0.4748806679733662, 'colsample_bytree': 0.3766436494626876}. Best is trial 49 with value: 0.037242825271900086.\n"
     ]
    },
    {
     "name": "stdout",
     "output_type": "stream",
     "text": [
      "MAPE: 0.06748237928077533\n"
     ]
    },
    {
     "name": "stderr",
     "output_type": "stream",
     "text": [
      "[I 2023-07-19 23:07:23,277] Trial 410 finished with value: 0.07252156301083619 and parameters: {'max_depth': 10, 'eta': 0.25359105750817906, 'gamma': 0.04158799832765262, 'subsample': 0.3330613988356655, 'colsample_bytree': 0.5662661082185388}. Best is trial 49 with value: 0.037242825271900086.\n"
     ]
    },
    {
     "name": "stdout",
     "output_type": "stream",
     "text": [
      "MAPE: 0.07252156301083619\n"
     ]
    },
    {
     "name": "stderr",
     "output_type": "stream",
     "text": [
      "[I 2023-07-19 23:07:24,853] Trial 411 finished with value: 0.05110463375455833 and parameters: {'max_depth': 10, 'eta': 0.46875288323626585, 'gamma': 0.016015083818080485, 'subsample': 0.9304133229729963, 'colsample_bytree': 0.6597550298349062}. Best is trial 49 with value: 0.037242825271900086.\n"
     ]
    },
    {
     "name": "stdout",
     "output_type": "stream",
     "text": [
      "MAPE: 0.05110463375455833\n"
     ]
    },
    {
     "name": "stderr",
     "output_type": "stream",
     "text": [
      "[I 2023-07-19 23:07:25,782] Trial 412 finished with value: 0.10996145178124725 and parameters: {'max_depth': 8, 'eta': 0.20632586641744005, 'gamma': 0.1039017223148084, 'subsample': 0.27142086521017444, 'colsample_bytree': 0.7757505602649757}. Best is trial 49 with value: 0.037242825271900086.\n"
     ]
    },
    {
     "name": "stdout",
     "output_type": "stream",
     "text": [
      "MAPE: 0.10996145178124725\n"
     ]
    },
    {
     "name": "stderr",
     "output_type": "stream",
     "text": [
      "[I 2023-07-19 23:07:27,213] Trial 413 finished with value: 0.05013710493312785 and parameters: {'max_depth': 10, 'eta': 0.6479277842571446, 'gamma': 0.010698714132577497, 'subsample': 0.6857688480357725, 'colsample_bytree': 0.5905203014731204}. Best is trial 49 with value: 0.037242825271900086.\n"
     ]
    },
    {
     "name": "stdout",
     "output_type": "stream",
     "text": [
      "MAPE: 0.05013710493312785\n"
     ]
    },
    {
     "name": "stderr",
     "output_type": "stream",
     "text": [
      "[I 2023-07-19 23:07:28,202] Trial 414 finished with value: 0.05410439994530213 and parameters: {'max_depth': 7, 'eta': 0.4167511253678998, 'gamma': 0.010056140840846677, 'subsample': 0.5147377400708472, 'colsample_bytree': 0.6743649285121953}. Best is trial 49 with value: 0.037242825271900086.\n"
     ]
    },
    {
     "name": "stdout",
     "output_type": "stream",
     "text": [
      "MAPE: 0.05410439994530213\n"
     ]
    },
    {
     "name": "stderr",
     "output_type": "stream",
     "text": [
      "[I 2023-07-19 23:07:28,930] Trial 415 finished with value: 0.2660596063014743 and parameters: {'max_depth': 5, 'eta': 0.11778151905722532, 'gamma': 0.03054927653262255, 'subsample': 0.5401988059942309, 'colsample_bytree': 0.6321929199982574}. Best is trial 49 with value: 0.037242825271900086.\n"
     ]
    },
    {
     "name": "stdout",
     "output_type": "stream",
     "text": [
      "MAPE: 0.2660596063014743\n"
     ]
    },
    {
     "name": "stderr",
     "output_type": "stream",
     "text": [
      "[I 2023-07-19 23:07:30,317] Trial 416 finished with value: 0.05073909869408915 and parameters: {'max_depth': 10, 'eta': 0.5277543461574707, 'gamma': 0.055849201075934295, 'subsample': 0.6343101933365811, 'colsample_bytree': 0.613049816408775}. Best is trial 49 with value: 0.037242825271900086.\n"
     ]
    },
    {
     "name": "stdout",
     "output_type": "stream",
     "text": [
      "MAPE: 0.05073909869408915\n"
     ]
    },
    {
     "name": "stderr",
     "output_type": "stream",
     "text": [
      "[I 2023-07-19 23:07:31,330] Trial 417 finished with value: 0.056683361399578275 and parameters: {'max_depth': 8, 'eta': 0.8048523686593524, 'gamma': 0.12153226232303037, 'subsample': 0.4908613682696066, 'colsample_bytree': 0.5512939115158109}. Best is trial 49 with value: 0.037242825271900086.\n"
     ]
    },
    {
     "name": "stdout",
     "output_type": "stream",
     "text": [
      "MAPE: 0.056683361399578275\n"
     ]
    },
    {
     "name": "stderr",
     "output_type": "stream",
     "text": [
      "[I 2023-07-19 23:07:32,589] Trial 418 finished with value: 0.05845451010096786 and parameters: {'max_depth': 9, 'eta': 0.5807474871753876, 'gamma': 0.5241228054636925, 'subsample': 0.4221283927084917, 'colsample_bytree': 0.7291536644591319}. Best is trial 49 with value: 0.037242825271900086.\n"
     ]
    },
    {
     "name": "stdout",
     "output_type": "stream",
     "text": [
      "MAPE: 0.05845451010096786\n"
     ]
    },
    {
     "name": "stderr",
     "output_type": "stream",
     "text": [
      "[I 2023-07-19 23:07:34,116] Trial 419 finished with value: 0.043863260654370725 and parameters: {'max_depth': 10, 'eta': 0.6580554302649417, 'gamma': 0.18765013585184315, 'subsample': 0.6050066929534202, 'colsample_bytree': 0.6520124818729511}. Best is trial 49 with value: 0.037242825271900086.\n"
     ]
    },
    {
     "name": "stdout",
     "output_type": "stream",
     "text": [
      "MAPE: 0.043863260654370725\n"
     ]
    },
    {
     "name": "stderr",
     "output_type": "stream",
     "text": [
      "[I 2023-07-19 23:07:35,286] Trial 420 finished with value: 0.048371687816849744 and parameters: {'max_depth': 8, 'eta': 0.6735449729808926, 'gamma': 0.15184612696411498, 'subsample': 0.5918934229369395, 'colsample_bytree': 0.6458909735695603}. Best is trial 49 with value: 0.037242825271900086.\n"
     ]
    },
    {
     "name": "stdout",
     "output_type": "stream",
     "text": [
      "MAPE: 0.048371687816849744\n"
     ]
    },
    {
     "name": "stderr",
     "output_type": "stream",
     "text": [
      "[I 2023-07-19 23:07:36,814] Trial 421 finished with value: 0.04459163523210415 and parameters: {'max_depth': 10, 'eta': 0.7145659240837668, 'gamma': 0.17594728127891643, 'subsample': 0.6309152878358618, 'colsample_bytree': 0.6277916694280163}. Best is trial 49 with value: 0.037242825271900086.\n"
     ]
    },
    {
     "name": "stdout",
     "output_type": "stream",
     "text": [
      "MAPE: 0.04459163523210415\n"
     ]
    },
    {
     "name": "stderr",
     "output_type": "stream",
     "text": [
      "[I 2023-07-19 23:07:38,361] Trial 422 finished with value: 0.05822226362147084 and parameters: {'max_depth': 10, 'eta': 0.7508116779071614, 'gamma': 0.1792941224072263, 'subsample': 0.6102143827159481, 'colsample_bytree': 0.6547006216815948}. Best is trial 49 with value: 0.037242825271900086.\n"
     ]
    },
    {
     "name": "stdout",
     "output_type": "stream",
     "text": [
      "MAPE: 0.05822226362147084\n"
     ]
    },
    {
     "name": "stderr",
     "output_type": "stream",
     "text": [
      "[I 2023-07-19 23:07:39,877] Trial 423 finished with value: 0.05506210327459464 and parameters: {'max_depth': 10, 'eta': 0.6367707062210775, 'gamma': 0.15497928023368007, 'subsample': 0.6221782830281658, 'colsample_bytree': 0.6331882722890146}. Best is trial 49 with value: 0.037242825271900086.\n"
     ]
    },
    {
     "name": "stdout",
     "output_type": "stream",
     "text": [
      "MAPE: 0.05506210327459464\n"
     ]
    },
    {
     "name": "stderr",
     "output_type": "stream",
     "text": [
      "[I 2023-07-19 23:07:41,162] Trial 424 finished with value: 0.593645746762559 and parameters: {'max_depth': 10, 'eta': 0.04940138208417584, 'gamma': 0.1684519878341762, 'subsample': 0.6458615748063059, 'colsample_bytree': 0.6249842066791599}. Best is trial 49 with value: 0.037242825271900086.\n"
     ]
    },
    {
     "name": "stdout",
     "output_type": "stream",
     "text": [
      "MAPE: 0.593645746762559\n"
     ]
    },
    {
     "name": "stderr",
     "output_type": "stream",
     "text": [
      "[I 2023-07-19 23:07:42,204] Trial 425 finished with value: 0.08720161121276267 and parameters: {'max_depth': 10, 'eta': 0.23162518701052062, 'gamma': 0.2041050825759519, 'subsample': 0.6135469276871476, 'colsample_bytree': 0.3652733909259186}. Best is trial 49 with value: 0.037242825271900086.\n"
     ]
    },
    {
     "name": "stdout",
     "output_type": "stream",
     "text": [
      "MAPE: 0.08720161121276267\n"
     ]
    },
    {
     "name": "stderr",
     "output_type": "stream",
     "text": [
      "[I 2023-07-19 23:07:43,760] Trial 426 finished with value: 0.06036463390222836 and parameters: {'max_depth': 10, 'eta': 0.9233423192564084, 'gamma': 0.026302830043757858, 'subsample': 0.6646681052111064, 'colsample_bytree': 0.6504261827933432}. Best is trial 49 with value: 0.037242825271900086.\n"
     ]
    },
    {
     "name": "stdout",
     "output_type": "stream",
     "text": [
      "MAPE: 0.06036463390222836\n"
     ]
    },
    {
     "name": "stderr",
     "output_type": "stream",
     "text": [
      "[I 2023-07-19 23:07:45,193] Trial 427 finished with value: 0.12707661608868298 and parameters: {'max_depth': 10, 'eta': 0.18251429492269247, 'gamma': 0.18273438855014346, 'subsample': 0.6303205223914448, 'colsample_bytree': 0.6657542033284484}. Best is trial 49 with value: 0.037242825271900086.\n"
     ]
    },
    {
     "name": "stdout",
     "output_type": "stream",
     "text": [
      "MAPE: 0.12707661608868298\n"
     ]
    },
    {
     "name": "stderr",
     "output_type": "stream",
     "text": [
      "[I 2023-07-19 23:07:46,601] Trial 428 finished with value: 0.048922462973128654 and parameters: {'max_depth': 10, 'eta': 0.7766656496605443, 'gamma': 0.12520710550200947, 'subsample': 0.5964574820641626, 'colsample_bytree': 0.6119652533197913}. Best is trial 49 with value: 0.037242825271900086.\n"
     ]
    },
    {
     "name": "stdout",
     "output_type": "stream",
     "text": [
      "MAPE: 0.048922462973128654\n"
     ]
    },
    {
     "name": "stderr",
     "output_type": "stream",
     "text": [
      "[I 2023-07-19 23:07:48,108] Trial 429 finished with value: 0.038607325965948784 and parameters: {'max_depth': 10, 'eta': 0.6115507158620965, 'gamma': 0.02109629793727413, 'subsample': 0.5729193739170128, 'colsample_bytree': 0.64014217653531}. Best is trial 49 with value: 0.037242825271900086.\n"
     ]
    },
    {
     "name": "stdout",
     "output_type": "stream",
     "text": [
      "MAPE: 0.038607325965948784\n"
     ]
    },
    {
     "name": "stderr",
     "output_type": "stream",
     "text": [
      "[I 2023-07-19 23:07:49,461] Trial 430 finished with value: 0.04439019663917579 and parameters: {'max_depth': 10, 'eta': 0.5905209692326794, 'gamma': 0.017617106901684162, 'subsample': 0.41146428712341376, 'colsample_bytree': 0.6457125044739426}. Best is trial 49 with value: 0.037242825271900086.\n"
     ]
    },
    {
     "name": "stdout",
     "output_type": "stream",
     "text": [
      "MAPE: 0.04439019663917579\n"
     ]
    },
    {
     "name": "stderr",
     "output_type": "stream",
     "text": [
      "[I 2023-07-19 23:07:50,684] Trial 431 finished with value: 0.05439231694038569 and parameters: {'max_depth': 10, 'eta': 0.49378333223356186, 'gamma': 0.02036986136470548, 'subsample': 0.3703155770880915, 'colsample_bytree': 0.675852064614254}. Best is trial 49 with value: 0.037242825271900086.\n"
     ]
    },
    {
     "name": "stdout",
     "output_type": "stream",
     "text": [
      "MAPE: 0.05439231694038569\n"
     ]
    },
    {
     "name": "stderr",
     "output_type": "stream",
     "text": [
      "[I 2023-07-19 23:07:51,003] Trial 432 finished with value: 0.07357489217003159 and parameters: {'max_depth': 2, 'eta': 0.5883118147769517, 'gamma': 0.018102537545525196, 'subsample': 0.41178840949315754, 'colsample_bytree': 0.6466520364881571}. Best is trial 49 with value: 0.037242825271900086.\n"
     ]
    },
    {
     "name": "stdout",
     "output_type": "stream",
     "text": [
      "MAPE: 0.07357489217003159\n"
     ]
    },
    {
     "name": "stderr",
     "output_type": "stream",
     "text": [
      "[I 2023-07-19 23:07:52,347] Trial 433 finished with value: 0.042305866961773554 and parameters: {'max_depth': 10, 'eta': 0.5375609586463588, 'gamma': 0.018889506590014846, 'subsample': 0.4317889335589986, 'colsample_bytree': 0.6615289995846949}. Best is trial 49 with value: 0.037242825271900086.\n"
     ]
    },
    {
     "name": "stdout",
     "output_type": "stream",
     "text": [
      "MAPE: 0.042305866961773554\n"
     ]
    },
    {
     "name": "stderr",
     "output_type": "stream",
     "text": [
      "[I 2023-07-19 23:07:52,907] Trial 434 finished with value: 0.06589136783843554 and parameters: {'max_depth': 4, 'eta': 0.46008057374693817, 'gamma': 0.01884966905853001, 'subsample': 0.40074692422915836, 'colsample_bytree': 0.9296986989219241}. Best is trial 49 with value: 0.037242825271900086.\n"
     ]
    },
    {
     "name": "stdout",
     "output_type": "stream",
     "text": [
      "MAPE: 0.06589136783843554\n"
     ]
    },
    {
     "name": "stderr",
     "output_type": "stream",
     "text": [
      "[I 2023-07-19 23:07:54,245] Trial 435 finished with value: 0.05540560374309208 and parameters: {'max_depth': 10, 'eta': 0.5167879251053976, 'gamma': 0.023507078384918136, 'subsample': 0.4331651367615461, 'colsample_bytree': 0.6678840573399101}. Best is trial 49 with value: 0.037242825271900086.\n"
     ]
    },
    {
     "name": "stdout",
     "output_type": "stream",
     "text": [
      "MAPE: 0.05540560374309208\n"
     ]
    },
    {
     "name": "stderr",
     "output_type": "stream",
     "text": [
      "[I 2023-07-19 23:07:55,564] Trial 436 finished with value: 0.04825725939459862 and parameters: {'max_depth': 10, 'eta': 0.5368589529335308, 'gamma': 0.019614373739415367, 'subsample': 0.4147185258255319, 'colsample_bytree': 0.6860495669062338}. Best is trial 49 with value: 0.037242825271900086.\n"
     ]
    },
    {
     "name": "stdout",
     "output_type": "stream",
     "text": [
      "MAPE: 0.04825725939459862\n"
     ]
    },
    {
     "name": "stderr",
     "output_type": "stream",
     "text": [
      "[I 2023-07-19 23:07:56,906] Trial 437 finished with value: 0.06590862028137741 and parameters: {'max_depth': 10, 'eta': 0.3285499395288304, 'gamma': 0.014055708706045719, 'subsample': 0.44150658545168414, 'colsample_bytree': 0.6563987130404058}. Best is trial 49 with value: 0.037242825271900086.\n"
     ]
    },
    {
     "name": "stdout",
     "output_type": "stream",
     "text": [
      "MAPE: 0.06590862028137741\n"
     ]
    },
    {
     "name": "stderr",
     "output_type": "stream",
     "text": [
      "[I 2023-07-19 23:07:58,357] Trial 438 finished with value: 0.050765521109748794 and parameters: {'max_depth': 10, 'eta': 0.42491199801433555, 'gamma': 0.021907500341995415, 'subsample': 0.572462332543324, 'colsample_bytree': 0.6444167265240646}. Best is trial 49 with value: 0.037242825271900086.\n"
     ]
    },
    {
     "name": "stdout",
     "output_type": "stream",
     "text": [
      "MAPE: 0.050765521109748794\n"
     ]
    },
    {
     "name": "stderr",
     "output_type": "stream",
     "text": [
      "[I 2023-07-19 23:07:59,832] Trial 439 finished with value: 0.05414604312976617 and parameters: {'max_depth': 10, 'eta': 0.4807208964082144, 'gamma': 0.016065416889591632, 'subsample': 0.6021976126986303, 'colsample_bytree': 0.6728948881682747}. Best is trial 49 with value: 0.037242825271900086.\n"
     ]
    },
    {
     "name": "stdout",
     "output_type": "stream",
     "text": [
      "MAPE: 0.05414604312976617\n"
     ]
    },
    {
     "name": "stderr",
     "output_type": "stream",
     "text": [
      "[I 2023-07-19 23:08:00,075] Trial 440 finished with value: 0.23862980024728522 and parameters: {'max_depth': 1, 'eta': 0.12703702664611397, 'gamma': 0.017385015792560327, 'subsample': 0.8116051733454721, 'colsample_bytree': 0.9113868884857214}. Best is trial 49 with value: 0.037242825271900086.\n"
     ]
    },
    {
     "name": "stdout",
     "output_type": "stream",
     "text": [
      "MAPE: 0.23862980024728522\n"
     ]
    },
    {
     "name": "stderr",
     "output_type": "stream",
     "text": [
      "[I 2023-07-19 23:08:01,390] Trial 441 finished with value: 0.18667304187799494 and parameters: {'max_depth': 10, 'eta': 0.1483995890794783, 'gamma': 0.020833325870298597, 'subsample': 0.3845849906840126, 'colsample_bytree': 0.6963210052936828}. Best is trial 49 with value: 0.037242825271900086.\n"
     ]
    },
    {
     "name": "stdout",
     "output_type": "stream",
     "text": [
      "MAPE: 0.18667304187799494\n"
     ]
    },
    {
     "name": "stderr",
     "output_type": "stream",
     "text": [
      "[I 2023-07-19 23:08:02,685] Trial 442 finished with value: 0.049746410765093105 and parameters: {'max_depth': 10, 'eta': 0.3790923850032629, 'gamma': 0.01815461529657825, 'subsample': 0.42401928438415704, 'colsample_bytree': 0.6546535908083007}. Best is trial 49 with value: 0.037242825271900086.\n"
     ]
    },
    {
     "name": "stdout",
     "output_type": "stream",
     "text": [
      "MAPE: 0.049746410765093105\n"
     ]
    },
    {
     "name": "stderr",
     "output_type": "stream",
     "text": [
      "[I 2023-07-19 23:08:03,513] Trial 443 finished with value: 0.054468009215138814 and parameters: {'max_depth': 9, 'eta': 0.5797646557389544, 'gamma': 0.02385243973607916, 'subsample': 0.18198041591063718, 'colsample_bytree': 0.6399534531007549}. Best is trial 49 with value: 0.037242825271900086.\n"
     ]
    },
    {
     "name": "stdout",
     "output_type": "stream",
     "text": [
      "MAPE: 0.054468009215138814\n"
     ]
    },
    {
     "name": "stderr",
     "output_type": "stream",
     "text": [
      "[I 2023-07-19 23:08:04,875] Trial 444 finished with value: 0.05623429814710158 and parameters: {'max_depth': 10, 'eta': 0.5302317066667048, 'gamma': 0.01457155061107679, 'subsample': 0.4567174737701493, 'colsample_bytree': 0.6770190090341958}. Best is trial 49 with value: 0.037242825271900086.\n"
     ]
    },
    {
     "name": "stdout",
     "output_type": "stream",
     "text": [
      "MAPE: 0.05623429814710158\n"
     ]
    },
    {
     "name": "stderr",
     "output_type": "stream",
     "text": [
      "[I 2023-07-19 23:08:06,077] Trial 445 finished with value: 0.05316873658344177 and parameters: {'max_depth': 10, 'eta': 0.6753736132588927, 'gamma': 0.012059159093243513, 'subsample': 0.23674357310181823, 'colsample_bytree': 0.8805006826880835}. Best is trial 49 with value: 0.037242825271900086.\n"
     ]
    },
    {
     "name": "stdout",
     "output_type": "stream",
     "text": [
      "MAPE: 0.05316873658344177\n"
     ]
    },
    {
     "name": "stderr",
     "output_type": "stream",
     "text": [
      "[I 2023-07-19 23:08:07,357] Trial 446 finished with value: 0.05315566132020829 and parameters: {'max_depth': 10, 'eta': 0.44735457857480226, 'gamma': 0.019857317927573375, 'subsample': 0.4046358055158413, 'colsample_bytree': 0.6315379827943229}. Best is trial 49 with value: 0.037242825271900086.\n"
     ]
    },
    {
     "name": "stdout",
     "output_type": "stream",
     "text": [
      "MAPE: 0.05315566132020829\n"
     ]
    },
    {
     "name": "stderr",
     "output_type": "stream",
     "text": [
      "[I 2023-07-19 23:08:08,406] Trial 447 finished with value: 0.4061154489652196 and parameters: {'max_depth': 10, 'eta': 0.08346876986617657, 'gamma': 0.025906440191357724, 'subsample': 0.5810706517612416, 'colsample_bytree': 0.4600873319146471}. Best is trial 49 with value: 0.037242825271900086.\n"
     ]
    },
    {
     "name": "stdout",
     "output_type": "stream",
     "text": [
      "MAPE: 0.4061154489652196\n"
     ]
    },
    {
     "name": "stderr",
     "output_type": "stream",
     "text": [
      "[I 2023-07-19 23:08:09,721] Trial 448 finished with value: 0.048110031854903215 and parameters: {'max_depth': 10, 'eta': 0.6167226247870918, 'gamma': 0.016170550670504064, 'subsample': 0.39595951272304486, 'colsample_bytree': 0.6602720140628564}. Best is trial 49 with value: 0.037242825271900086.\n"
     ]
    },
    {
     "name": "stdout",
     "output_type": "stream",
     "text": [
      "MAPE: 0.048110031854903215\n"
     ]
    },
    {
     "name": "stderr",
     "output_type": "stream",
     "text": [
      "[I 2023-07-19 23:08:10,414] Trial 449 finished with value: 0.07262122538910781 and parameters: {'max_depth': 9, 'eta': 0.5463263088172648, 'gamma': 0.4390884360873122, 'subsample': 0.5643348993421144, 'colsample_bytree': 0.17919308490994135}. Best is trial 49 with value: 0.037242825271900086.\n"
     ]
    },
    {
     "name": "stdout",
     "output_type": "stream",
     "text": [
      "MAPE: 0.07262122538910781\n"
     ]
    },
    {
     "name": "stderr",
     "output_type": "stream",
     "text": [
      "[I 2023-07-19 23:08:12,026] Trial 450 finished with value: 0.051397455441583875 and parameters: {'max_depth': 10, 'eta': 0.7034605701944011, 'gamma': 0.1711134229700874, 'subsample': 0.5899691910173377, 'colsample_bytree': 0.6875442358970595}. Best is trial 49 with value: 0.037242825271900086.\n"
     ]
    },
    {
     "name": "stdout",
     "output_type": "stream",
     "text": [
      "MAPE: 0.051397455441583875\n"
     ]
    },
    {
     "name": "stderr",
     "output_type": "stream",
     "text": [
      "[I 2023-07-19 23:08:13,347] Trial 451 finished with value: 0.04445817547769204 and parameters: {'max_depth': 10, 'eta': 0.4872655899592772, 'gamma': 0.14026962348992225, 'subsample': 0.6259054975733003, 'colsample_bytree': 0.6175773199442051}. Best is trial 49 with value: 0.037242825271900086.\n"
     ]
    },
    {
     "name": "stdout",
     "output_type": "stream",
     "text": [
      "MAPE: 0.04445817547769204\n"
     ]
    },
    {
     "name": "stderr",
     "output_type": "stream",
     "text": [
      "[I 2023-07-19 23:08:14,654] Trial 452 finished with value: 0.0502450068189134 and parameters: {'max_depth': 10, 'eta': 0.36651692952047576, 'gamma': 0.6843857658972092, 'subsample': 0.6318156282229179, 'colsample_bytree': 0.6155952039648586}. Best is trial 49 with value: 0.037242825271900086.\n"
     ]
    },
    {
     "name": "stdout",
     "output_type": "stream",
     "text": [
      "MAPE: 0.0502450068189134\n"
     ]
    },
    {
     "name": "stderr",
     "output_type": "stream",
     "text": [
      "[I 2023-07-19 23:08:16,124] Trial 453 finished with value: 0.047895588351380004 and parameters: {'max_depth': 10, 'eta': 0.41951664314878145, 'gamma': 0.14505392457181437, 'subsample': 0.608813153028262, 'colsample_bytree': 0.6288883096370997}. Best is trial 49 with value: 0.037242825271900086.\n"
     ]
    },
    {
     "name": "stdout",
     "output_type": "stream",
     "text": [
      "MAPE: 0.047895588351380004\n"
     ]
    },
    {
     "name": "stderr",
     "output_type": "stream",
     "text": [
      "[I 2023-07-19 23:08:17,167] Trial 454 finished with value: 0.05922699397288146 and parameters: {'max_depth': 9, 'eta': 0.4833001584919237, 'gamma': 0.15933900472719537, 'subsample': 0.65398472587207, 'colsample_bytree': 0.43975132619505636}. Best is trial 49 with value: 0.037242825271900086.\n"
     ]
    },
    {
     "name": "stdout",
     "output_type": "stream",
     "text": [
      "MAPE: 0.05922699397288146\n"
     ]
    },
    {
     "name": "stderr",
     "output_type": "stream",
     "text": [
      "[I 2023-07-19 23:08:18,078] Trial 455 finished with value: 0.07948569158872502 and parameters: {'max_depth': 10, 'eta': 0.45036366654044646, 'gamma': 0.13706065892454886, 'subsample': 0.6103760515773677, 'colsample_bytree': 0.2190329390890231}. Best is trial 49 with value: 0.037242825271900086.\n"
     ]
    },
    {
     "name": "stdout",
     "output_type": "stream",
     "text": [
      "MAPE: 0.07948569158872502\n"
     ]
    },
    {
     "name": "stderr",
     "output_type": "stream",
     "text": [
      "[I 2023-07-19 23:08:19,403] Trial 456 finished with value: 0.05678698999923123 and parameters: {'max_depth': 10, 'eta': 0.49854818706609466, 'gamma': 0.1910296162421911, 'subsample': 0.6337098529508647, 'colsample_bytree': 0.6015130151553929}. Best is trial 49 with value: 0.037242825271900086.\n"
     ]
    },
    {
     "name": "stdout",
     "output_type": "stream",
     "text": [
      "MAPE: 0.05678698999923123\n"
     ]
    },
    {
     "name": "stderr",
     "output_type": "stream",
     "text": [
      "[I 2023-07-19 23:08:20,844] Trial 457 finished with value: 0.16886720404955188 and parameters: {'max_depth': 10, 'eta': 0.15659566025962746, 'gamma': 0.02923735582127127, 'subsample': 0.6238091912950379, 'colsample_bytree': 0.6392145643497049}. Best is trial 49 with value: 0.037242825271900086.\n"
     ]
    },
    {
     "name": "stdout",
     "output_type": "stream",
     "text": [
      "MAPE: 0.16886720404955188\n"
     ]
    },
    {
     "name": "stderr",
     "output_type": "stream",
     "text": [
      "[I 2023-07-19 23:08:21,557] Trial 458 finished with value: 0.07294069703655968 and parameters: {'max_depth': 10, 'eta': 0.552516715128796, 'gamma': 0.5624392068137646, 'subsample': 0.437050366384947, 'colsample_bytree': 0.16294293113570696}. Best is trial 49 with value: 0.037242825271900086.\n"
     ]
    },
    {
     "name": "stdout",
     "output_type": "stream",
     "text": [
      "MAPE: 0.07294069703655968\n"
     ]
    },
    {
     "name": "stderr",
     "output_type": "stream",
     "text": [
      "[I 2023-07-19 23:08:22,649] Trial 459 finished with value: 0.06086193961061823 and parameters: {'max_depth': 10, 'eta': 0.5077519040543055, 'gamma': 0.02202234162742948, 'subsample': 0.3578366357611084, 'colsample_bytree': 0.6207507894367431}. Best is trial 49 with value: 0.037242825271900086.\n"
     ]
    },
    {
     "name": "stdout",
     "output_type": "stream",
     "text": [
      "MAPE: 0.06086193961061823\n"
     ]
    },
    {
     "name": "stderr",
     "output_type": "stream",
     "text": [
      "[I 2023-07-19 23:08:23,419] Trial 460 finished with value: 0.07367314065747359 and parameters: {'max_depth': 9, 'eta': 0.4173965633018791, 'gamma': 0.658600275453829, 'subsample': 0.3825344743098984, 'colsample_bytree': 0.26246815056917666}. Best is trial 49 with value: 0.037242825271900086.\n"
     ]
    },
    {
     "name": "stdout",
     "output_type": "stream",
     "text": [
      "MAPE: 0.07367314065747359\n"
     ]
    },
    {
     "name": "stderr",
     "output_type": "stream",
     "text": [
      "[I 2023-07-19 23:08:24,715] Trial 461 finished with value: 0.059567099481924436 and parameters: {'max_depth': 10, 'eta': 0.6053611842782234, 'gamma': 0.4846898248201008, 'subsample': 0.8334658675171244, 'colsample_bytree': 0.5297293703574943}. Best is trial 49 with value: 0.037242825271900086.\n"
     ]
    },
    {
     "name": "stdout",
     "output_type": "stream",
     "text": [
      "MAPE: 0.059567099481924436\n"
     ]
    },
    {
     "name": "stderr",
     "output_type": "stream",
     "text": [
      "[I 2023-07-19 23:08:25,907] Trial 462 finished with value: 0.05491220707864935 and parameters: {'max_depth': 10, 'eta': 0.3526181957729163, 'gamma': 0.1577163357066114, 'subsample': 0.5780545163840072, 'colsample_bytree': 0.5043217628578971}. Best is trial 49 with value: 0.037242825271900086.\n"
     ]
    },
    {
     "name": "stdout",
     "output_type": "stream",
     "text": [
      "MAPE: 0.05491220707864935\n"
     ]
    },
    {
     "name": "stderr",
     "output_type": "stream",
     "text": [
      "[I 2023-07-19 23:08:26,982] Trial 463 finished with value: 0.07457948635553799 and parameters: {'max_depth': 10, 'eta': 0.3086523099269021, 'gamma': 0.13096110259469415, 'subsample': 0.6606158601378682, 'colsample_bytree': 0.3221466300574765}. Best is trial 49 with value: 0.037242825271900086.\n"
     ]
    },
    {
     "name": "stdout",
     "output_type": "stream",
     "text": [
      "MAPE: 0.07457948635553799\n"
     ]
    },
    {
     "name": "stderr",
     "output_type": "stream",
     "text": [
      "[I 2023-07-19 23:08:28,678] Trial 464 finished with value: 0.09402902784491565 and parameters: {'max_depth': 10, 'eta': 0.22211135102560325, 'gamma': 0.1887310753782828, 'subsample': 0.5948449401002929, 'colsample_bytree': 0.8210130407364544}. Best is trial 49 with value: 0.037242825271900086.\n"
     ]
    },
    {
     "name": "stdout",
     "output_type": "stream",
     "text": [
      "MAPE: 0.09402902784491565\n"
     ]
    },
    {
     "name": "stderr",
     "output_type": "stream",
     "text": [
      "[I 2023-07-19 23:08:29,470] Trial 465 finished with value: 0.31023364159869116 and parameters: {'max_depth': 9, 'eta': 0.10652156231596824, 'gamma': 0.08587684629446639, 'subsample': 0.2549375913963278, 'colsample_bytree': 0.5756737716353809}. Best is trial 49 with value: 0.037242825271900086.\n"
     ]
    },
    {
     "name": "stdout",
     "output_type": "stream",
     "text": [
      "MAPE: 0.31023364159869116\n"
     ]
    },
    {
     "name": "stderr",
     "output_type": "stream",
     "text": [
      "[I 2023-07-19 23:08:30,944] Trial 466 finished with value: 0.05060253448896911 and parameters: {'max_depth': 10, 'eta': 0.46090686864714786, 'gamma': 0.011210085002420659, 'subsample': 0.6897305927322843, 'colsample_bytree': 0.6495360475911779}. Best is trial 49 with value: 0.037242825271900086.\n"
     ]
    },
    {
     "name": "stdout",
     "output_type": "stream",
     "text": [
      "MAPE: 0.05060253448896911\n"
     ]
    },
    {
     "name": "stderr",
     "output_type": "stream",
     "text": [
      "[I 2023-07-19 23:08:32,191] Trial 467 finished with value: 0.2687816198390503 and parameters: {'max_depth': 10, 'eta': 0.1192759468851156, 'gamma': 0.01418540084621971, 'subsample': 0.5604003501078629, 'colsample_bytree': 0.6048189400713436}. Best is trial 49 with value: 0.037242825271900086.\n"
     ]
    },
    {
     "name": "stdout",
     "output_type": "stream",
     "text": [
      "MAPE: 0.2687816198390503\n"
     ]
    },
    {
     "name": "stderr",
     "output_type": "stream",
     "text": [
      "[I 2023-07-19 23:08:32,884] Trial 468 finished with value: 0.08370266112635498 and parameters: {'max_depth': 7, 'eta': 0.251201366716568, 'gamma': 0.1455816402373852, 'subsample': 0.22259071693180704, 'colsample_bytree': 0.6262015425698798}. Best is trial 49 with value: 0.037242825271900086.\n"
     ]
    },
    {
     "name": "stdout",
     "output_type": "stream",
     "text": [
      "MAPE: 0.08370266112635498\n"
     ]
    },
    {
     "name": "stderr",
     "output_type": "stream",
     "text": [
      "[I 2023-07-19 23:08:34,216] Trial 469 finished with value: 0.7632576752170366 and parameters: {'max_depth': 9, 'eta': 0.025905770582853854, 'gamma': 0.16478089222142653, 'subsample': 0.8038050248346491, 'colsample_bytree': 0.6632027716085144}. Best is trial 49 with value: 0.037242825271900086.\n"
     ]
    },
    {
     "name": "stdout",
     "output_type": "stream",
     "text": [
      "MAPE: 0.7632576752170366\n"
     ]
    },
    {
     "name": "stderr",
     "output_type": "stream",
     "text": [
      "[I 2023-07-19 23:08:35,628] Trial 470 finished with value: 0.053923938274462846 and parameters: {'max_depth': 10, 'eta': 0.9997318325995626, 'gamma': 0.01882949995279176, 'subsample': 0.6459302475788308, 'colsample_bytree': 0.5895954011330161}. Best is trial 49 with value: 0.037242825271900086.\n"
     ]
    },
    {
     "name": "stdout",
     "output_type": "stream",
     "text": [
      "MAPE: 0.053923938274462846\n"
     ]
    },
    {
     "name": "stderr",
     "output_type": "stream",
     "text": [
      "[I 2023-07-19 23:08:37,024] Trial 471 finished with value: 0.04781886863477642 and parameters: {'max_depth': 10, 'eta': 0.5660955671354321, 'gamma': 0.03375081068527744, 'subsample': 0.46089008507145607, 'colsample_bytree': 0.6382204952499667}. Best is trial 49 with value: 0.037242825271900086.\n"
     ]
    },
    {
     "name": "stdout",
     "output_type": "stream",
     "text": [
      "MAPE: 0.04781886863477642\n"
     ]
    },
    {
     "name": "stderr",
     "output_type": "stream",
     "text": [
      "[I 2023-07-19 23:08:38,335] Trial 472 finished with value: 0.11451578146582102 and parameters: {'max_depth': 10, 'eta': 0.19559656077004112, 'gamma': 0.01717968301739482, 'subsample': 0.34599607577615743, 'colsample_bytree': 0.751523962271929}. Best is trial 49 with value: 0.037242825271900086.\n"
     ]
    },
    {
     "name": "stdout",
     "output_type": "stream",
     "text": [
      "MAPE: 0.11451578146582102\n"
     ]
    },
    {
     "name": "stderr",
     "output_type": "stream",
     "text": [
      "[I 2023-07-19 23:08:39,383] Trial 473 finished with value: 0.07057715686501859 and parameters: {'max_depth': 9, 'eta': 0.26621317615602413, 'gamma': 0.024133043695891997, 'subsample': 0.42984345142447156, 'colsample_bytree': 0.5639781987481924}. Best is trial 49 with value: 0.037242825271900086.\n"
     ]
    },
    {
     "name": "stdout",
     "output_type": "stream",
     "text": [
      "MAPE: 0.07057715686501859\n"
     ]
    },
    {
     "name": "stderr",
     "output_type": "stream",
     "text": [
      "[I 2023-07-19 23:08:40,752] Trial 474 finished with value: 0.06736616303002753 and parameters: {'max_depth': 10, 'eta': 0.6535525439706259, 'gamma': 0.015482810887909393, 'subsample': 0.9633149213513281, 'colsample_bytree': 0.48646942930131415}. Best is trial 49 with value: 0.037242825271900086.\n"
     ]
    },
    {
     "name": "stdout",
     "output_type": "stream",
     "text": [
      "MAPE: 0.06736616303002753\n"
     ]
    },
    {
     "name": "stderr",
     "output_type": "stream",
     "text": [
      "[I 2023-07-19 23:08:41,123] Trial 475 finished with value: 0.42842020541291875 and parameters: {'max_depth': 10, 'eta': 0.07636916572992224, 'gamma': 0.11567629826715001, 'subsample': 0.1562719002757664, 'colsample_bytree': 0.13957374317839683}. Best is trial 49 with value: 0.037242825271900086.\n"
     ]
    },
    {
     "name": "stdout",
     "output_type": "stream",
     "text": [
      "MAPE: 0.42842020541291875\n"
     ]
    },
    {
     "name": "stderr",
     "output_type": "stream",
     "text": [
      "[I 2023-07-19 23:08:42,421] Trial 476 finished with value: 0.6152238193577357 and parameters: {'max_depth': 10, 'eta': 0.04613298329890671, 'gamma': 0.010001478775770019, 'subsample': 0.40836799785868844, 'colsample_bytree': 0.7108302961630395}. Best is trial 49 with value: 0.037242825271900086.\n"
     ]
    },
    {
     "name": "stdout",
     "output_type": "stream",
     "text": [
      "MAPE: 0.6152238193577357\n"
     ]
    },
    {
     "name": "stderr",
     "output_type": "stream",
     "text": [
      "[I 2023-07-19 23:08:43,524] Trial 477 finished with value: 0.052431904986308224 and parameters: {'max_depth': 10, 'eta': 0.3958885150348185, 'gamma': 0.10117842906379003, 'subsample': 0.3706247142452957, 'colsample_bytree': 0.6097357163126949}. Best is trial 49 with value: 0.037242825271900086.\n"
     ]
    },
    {
     "name": "stdout",
     "output_type": "stream",
     "text": [
      "MAPE: 0.052431904986308224\n"
     ]
    },
    {
     "name": "stderr",
     "output_type": "stream",
     "text": [
      "[I 2023-07-19 23:08:44,529] Trial 478 finished with value: 0.04451035731496975 and parameters: {'max_depth': 10, 'eta': 0.5007361899834052, 'gamma': 0.012968320606306885, 'subsample': 0.22368431506294956, 'colsample_bytree': 0.6573467513771445}. Best is trial 49 with value: 0.037242825271900086.\n"
     ]
    },
    {
     "name": "stdout",
     "output_type": "stream",
     "text": [
      "MAPE: 0.04451035731496975\n"
     ]
    },
    {
     "name": "stderr",
     "output_type": "stream",
     "text": [
      "[I 2023-07-19 23:08:45,756] Trial 479 finished with value: 0.05612541656681958 and parameters: {'max_depth': 9, 'eta': 0.49468521037380714, 'gamma': 0.01197082551529929, 'subsample': 0.45073584159396773, 'colsample_bytree': 0.666537930359597}. Best is trial 49 with value: 0.037242825271900086.\n"
     ]
    },
    {
     "name": "stdout",
     "output_type": "stream",
     "text": [
      "MAPE: 0.05612541656681958\n"
     ]
    },
    {
     "name": "stderr",
     "output_type": "stream",
     "text": [
      "[I 2023-07-19 23:08:46,820] Trial 480 finished with value: 0.05020078980293582 and parameters: {'max_depth': 10, 'eta': 0.44876773909818607, 'gamma': 0.01319605746157834, 'subsample': 0.2087861911205043, 'colsample_bytree': 0.6943401272853491}. Best is trial 49 with value: 0.037242825271900086.\n"
     ]
    },
    {
     "name": "stdout",
     "output_type": "stream",
     "text": [
      "MAPE: 0.05020078980293582\n"
     ]
    },
    {
     "name": "stderr",
     "output_type": "stream",
     "text": [
      "[I 2023-07-19 23:08:47,672] Trial 481 finished with value: 0.054774976581130286 and parameters: {'max_depth': 8, 'eta': 0.5152353696020666, 'gamma': 0.12741836359941153, 'subsample': 0.2712402930055265, 'colsample_bytree': 0.6512329924639795}. Best is trial 49 with value: 0.037242825271900086.\n"
     ]
    },
    {
     "name": "stdout",
     "output_type": "stream",
     "text": [
      "MAPE: 0.054774976581130286\n"
     ]
    },
    {
     "name": "stderr",
     "output_type": "stream",
     "text": [
      "[I 2023-07-19 23:08:48,349] Trial 482 finished with value: 0.056544121133378505 and parameters: {'max_depth': 7, 'eta': 0.5347485098242168, 'gamma': 0.011313498916843905, 'subsample': 0.21744357952899906, 'colsample_bytree': 0.6796464149079146}. Best is trial 49 with value: 0.037242825271900086.\n"
     ]
    },
    {
     "name": "stdout",
     "output_type": "stream",
     "text": [
      "MAPE: 0.056544121133378505\n"
     ]
    },
    {
     "name": "stderr",
     "output_type": "stream",
     "text": [
      "[I 2023-07-19 23:08:49,209] Trial 483 finished with value: 0.04429907450889465 and parameters: {'max_depth': 10, 'eta': 0.5652248686870937, 'gamma': 0.13730141982989627, 'subsample': 0.14388097524124663, 'colsample_bytree': 0.6583548853875584}. Best is trial 49 with value: 0.037242825271900086.\n"
     ]
    },
    {
     "name": "stdout",
     "output_type": "stream",
     "text": [
      "MAPE: 0.04429907450889465\n"
     ]
    },
    {
     "name": "stderr",
     "output_type": "stream",
     "text": [
      "[I 2023-07-19 23:08:49,890] Trial 484 finished with value: 0.14631553100607367 and parameters: {'max_depth': 8, 'eta': 0.1732890580332332, 'gamma': 0.13615352012952128, 'subsample': 0.26571379493940245, 'colsample_bytree': 0.540885654477015}. Best is trial 49 with value: 0.037242825271900086.\n"
     ]
    },
    {
     "name": "stdout",
     "output_type": "stream",
     "text": [
      "MAPE: 0.14631553100607367\n"
     ]
    },
    {
     "name": "stderr",
     "output_type": "stream",
     "text": [
      "[I 2023-07-19 23:08:50,744] Trial 485 finished with value: 0.05378345818394151 and parameters: {'max_depth': 10, 'eta': 0.5931946103602738, 'gamma': 0.020741842884507505, 'subsample': 0.1327544816925753, 'colsample_bytree': 0.6412166081422614}. Best is trial 49 with value: 0.037242825271900086.\n"
     ]
    },
    {
     "name": "stdout",
     "output_type": "stream",
     "text": [
      "MAPE: 0.05378345818394151\n"
     ]
    },
    {
     "name": "stderr",
     "output_type": "stream",
     "text": [
      "[I 2023-07-19 23:08:51,760] Trial 486 finished with value: 0.047430221531592015 and parameters: {'max_depth': 10, 'eta': 0.5601909940199167, 'gamma': 0.03692700844366684, 'subsample': 0.2857363363787464, 'colsample_bytree': 0.5798922607511852}. Best is trial 49 with value: 0.037242825271900086.\n"
     ]
    },
    {
     "name": "stdout",
     "output_type": "stream",
     "text": [
      "MAPE: 0.047430221531592015\n"
     ]
    },
    {
     "name": "stderr",
     "output_type": "stream",
     "text": [
      "[I 2023-07-19 23:08:52,431] Trial 487 finished with value: 0.35086713990196455 and parameters: {'max_depth': 10, 'eta': 0.09633921304779487, 'gamma': 0.14625489350911486, 'subsample': 0.10895829709817348, 'colsample_bytree': 0.6792123271166844}. Best is trial 49 with value: 0.037242825271900086.\n"
     ]
    },
    {
     "name": "stdout",
     "output_type": "stream",
     "text": [
      "MAPE: 0.35086713990196455\n"
     ]
    },
    {
     "name": "stderr",
     "output_type": "stream",
     "text": [
      "[I 2023-07-19 23:08:53,226] Trial 488 finished with value: 0.8552121412163776 and parameters: {'max_depth': 8, 'eta': 0.015108629848948696, 'gamma': 0.07324956734117148, 'subsample': 0.20740417574341113, 'colsample_bytree': 0.7681486341593525}. Best is trial 49 with value: 0.037242825271900086.\n"
     ]
    },
    {
     "name": "stdout",
     "output_type": "stream",
     "text": [
      "MAPE: 0.8552121412163776\n"
     ]
    },
    {
     "name": "stderr",
     "output_type": "stream",
     "text": [
      "[I 2023-07-19 23:08:53,976] Trial 489 finished with value: 0.5721477857026073 and parameters: {'max_depth': 9, 'eta': 0.05282082714954128, 'gamma': 0.11442207562537555, 'subsample': 0.24844915103566875, 'colsample_bytree': 0.6182017306446703}. Best is trial 49 with value: 0.037242825271900086.\n"
     ]
    },
    {
     "name": "stdout",
     "output_type": "stream",
     "text": [
      "MAPE: 0.5721477857026073\n"
     ]
    },
    {
     "name": "stderr",
     "output_type": "stream",
     "text": [
      "[I 2023-07-19 23:08:55,104] Trial 490 finished with value: 0.05304534911295347 and parameters: {'max_depth': 10, 'eta': 0.6295435964692412, 'gamma': 0.1267773808869611, 'subsample': 0.25072285953705553, 'colsample_bytree': 0.7068804753529205}. Best is trial 49 with value: 0.037242825271900086.\n"
     ]
    },
    {
     "name": "stdout",
     "output_type": "stream",
     "text": [
      "MAPE: 0.05304534911295347\n"
     ]
    },
    {
     "name": "stderr",
     "output_type": "stream",
     "text": [
      "[I 2023-07-19 23:08:55,758] Trial 491 finished with value: 0.2452175740712785 and parameters: {'max_depth': 10, 'eta': 0.12779832865300403, 'gamma': 0.030248673299813362, 'subsample': 0.1188093279579241, 'colsample_bytree': 0.5967330930445784}. Best is trial 49 with value: 0.037242825271900086.\n"
     ]
    },
    {
     "name": "stdout",
     "output_type": "stream",
     "text": [
      "MAPE: 0.2452175740712785\n"
     ]
    },
    {
     "name": "stderr",
     "output_type": "stream",
     "text": [
      "[I 2023-07-19 23:08:56,374] Trial 492 finished with value: 0.4787671653554909 and parameters: {'max_depth': 8, 'eta': 0.06856333252683236, 'gamma': 0.10706656452382704, 'subsample': 0.1272054555116916, 'colsample_bytree': 0.655013900386826}. Best is trial 49 with value: 0.037242825271900086.\n"
     ]
    },
    {
     "name": "stdout",
     "output_type": "stream",
     "text": [
      "MAPE: 0.4787671653554909\n"
     ]
    },
    {
     "name": "stderr",
     "output_type": "stream",
     "text": [
      "[I 2023-07-19 23:08:56,941] Trial 493 finished with value: 0.048631688445483746 and parameters: {'max_depth': 6, 'eta': 0.5689704286355591, 'gamma': 0.47981816399856686, 'subsample': 0.1965145292456873, 'colsample_bytree': 0.6415768196546318}. Best is trial 49 with value: 0.037242825271900086.\n"
     ]
    },
    {
     "name": "stdout",
     "output_type": "stream",
     "text": [
      "MAPE: 0.048631688445483746\n"
     ]
    },
    {
     "name": "stderr",
     "output_type": "stream",
     "text": [
      "[I 2023-07-19 23:08:57,719] Trial 494 finished with value: 0.5008044463268567 and parameters: {'max_depth': 9, 'eta': 0.06451354621215492, 'gamma': 0.20925732616608134, 'subsample': 0.15837934787009603, 'colsample_bytree': 0.7218880343173761}. Best is trial 49 with value: 0.037242825271900086.\n"
     ]
    },
    {
     "name": "stdout",
     "output_type": "stream",
     "text": [
      "MAPE: 0.5008044463268567\n"
     ]
    },
    {
     "name": "stderr",
     "output_type": "stream",
     "text": [
      "[I 2023-07-19 23:08:58,636] Trial 495 finished with value: 0.061419742230617025 and parameters: {'max_depth': 10, 'eta': 0.4675279478605615, 'gamma': 0.025202970971832113, 'subsample': 0.17097684885130182, 'colsample_bytree': 0.6689745234213892}. Best is trial 49 with value: 0.037242825271900086.\n"
     ]
    },
    {
     "name": "stdout",
     "output_type": "stream",
     "text": [
      "MAPE: 0.061419742230617025\n"
     ]
    },
    {
     "name": "stderr",
     "output_type": "stream",
     "text": [
      "[I 2023-07-19 23:08:59,170] Trial 496 finished with value: 0.10571888772000476 and parameters: {'max_depth': 10, 'eta': 0.2076182713577899, 'gamma': 0.04204505464836637, 'subsample': 0.1438249294716168, 'colsample_bytree': 0.2660370127756163}. Best is trial 49 with value: 0.037242825271900086.\n"
     ]
    },
    {
     "name": "stdout",
     "output_type": "stream",
     "text": [
      "MAPE: 0.10571888772000476\n"
     ]
    },
    {
     "name": "stderr",
     "output_type": "stream",
     "text": [
      "[I 2023-07-19 23:08:59,872] Trial 497 finished with value: 0.06556797312867288 and parameters: {'max_depth': 10, 'eta': 0.396981835225801, 'gamma': 0.061568013564039736, 'subsample': 0.17510172923366138, 'colsample_bytree': 0.4815730262429467}. Best is trial 49 with value: 0.037242825271900086.\n"
     ]
    },
    {
     "name": "stdout",
     "output_type": "stream",
     "text": [
      "MAPE: 0.06556797312867288\n"
     ]
    },
    {
     "name": "stderr",
     "output_type": "stream",
     "text": [
      "[I 2023-07-19 23:09:00,610] Trial 498 finished with value: 0.05887215785771483 and parameters: {'max_depth': 7, 'eta': 0.6380042437029956, 'gamma': 0.1380766585739288, 'subsample': 0.3367800943673655, 'colsample_bytree': 0.5645230999050898}. Best is trial 49 with value: 0.037242825271900086.\n"
     ]
    },
    {
     "name": "stdout",
     "output_type": "stream",
     "text": [
      "MAPE: 0.05887215785771483\n"
     ]
    },
    {
     "name": "stderr",
     "output_type": "stream",
     "text": [
      "[I 2023-07-19 23:09:01,332] Trial 499 finished with value: 0.673892649704292 and parameters: {'max_depth': 8, 'eta': 0.03743436938151766, 'gamma': 0.09030869819392916, 'subsample': 0.39111691517969394, 'colsample_bytree': 0.41951752550312627}. Best is trial 49 with value: 0.037242825271900086.\n"
     ]
    },
    {
     "name": "stdout",
     "output_type": "stream",
     "text": [
      "MAPE: 0.673892649704292\n"
     ]
    },
    {
     "name": "stderr",
     "output_type": "stream",
     "text": [
      "[I 2023-07-19 23:09:01,938] Trial 500 finished with value: 0.15228140858814 and parameters: {'max_depth': 8, 'eta': 0.16978695678235506, 'gamma': 0.4148735903713806, 'subsample': 0.19824469424304003, 'colsample_bytree': 0.5119303974788227}. Best is trial 49 with value: 0.037242825271900086.\n"
     ]
    },
    {
     "name": "stdout",
     "output_type": "stream",
     "text": [
      "MAPE: 0.15228140858814\n"
     ]
    },
    {
     "name": "stderr",
     "output_type": "stream",
     "text": [
      "[I 2023-07-19 23:09:02,836] Trial 501 finished with value: 0.04707410580648315 and parameters: {'max_depth': 10, 'eta': 0.5298942595457939, 'gamma': 0.018588009182162808, 'subsample': 0.22038974810170597, 'colsample_bytree': 0.6158067462389156}. Best is trial 49 with value: 0.037242825271900086.\n"
     ]
    },
    {
     "name": "stdout",
     "output_type": "stream",
     "text": [
      "MAPE: 0.04707410580648315\n"
     ]
    },
    {
     "name": "stderr",
     "output_type": "stream",
     "text": [
      "[I 2023-07-19 23:09:03,224] Trial 502 finished with value: 0.40491383070915904 and parameters: {'max_depth': 10, 'eta': 0.08144834596918078, 'gamma': 0.02191326863377927, 'subsample': 0.10100641692308376, 'colsample_bytree': 0.24377222218737216}. Best is trial 49 with value: 0.037242825271900086.\n"
     ]
    },
    {
     "name": "stdout",
     "output_type": "stream",
     "text": [
      "MAPE: 0.40491383070915904\n"
     ]
    },
    {
     "name": "stderr",
     "output_type": "stream",
     "text": [
      "[I 2023-07-19 23:09:03,841] Trial 503 finished with value: 0.059970008280184686 and parameters: {'max_depth': 8, 'eta': 0.5892665604797034, 'gamma': 0.15592995274358887, 'subsample': 0.1447288806591426, 'colsample_bytree': 0.5914198816878495}. Best is trial 49 with value: 0.037242825271900086.\n"
     ]
    },
    {
     "name": "stdout",
     "output_type": "stream",
     "text": [
      "MAPE: 0.059970008280184686\n"
     ]
    },
    {
     "name": "stderr",
     "output_type": "stream",
     "text": [
      "[I 2023-07-19 23:09:04,844] Trial 504 finished with value: 0.049650743146085904 and parameters: {'max_depth': 10, 'eta': 0.4447343616508329, 'gamma': 0.04748524691152959, 'subsample': 0.23464452374594047, 'colsample_bytree': 0.6339971409275119}. Best is trial 49 with value: 0.037242825271900086.\n"
     ]
    },
    {
     "name": "stdout",
     "output_type": "stream",
     "text": [
      "MAPE: 0.049650743146085904\n"
     ]
    },
    {
     "name": "stderr",
     "output_type": "stream",
     "text": [
      "[I 2023-07-19 23:09:06,286] Trial 505 finished with value: 0.04577774678631177 and parameters: {'max_depth': 9, 'eta': 0.8367562512694027, 'gamma': 0.9163528660554848, 'subsample': 0.5523264097289281, 'colsample_bytree': 0.6876228760483611}. Best is trial 49 with value: 0.037242825271900086.\n"
     ]
    },
    {
     "name": "stdout",
     "output_type": "stream",
     "text": [
      "MAPE: 0.04577774678631177\n"
     ]
    },
    {
     "name": "stderr",
     "output_type": "stream",
     "text": [
      "[I 2023-07-19 23:09:07,375] Trial 506 finished with value: 0.0685854783491559 and parameters: {'max_depth': 10, 'eta': 0.28405621329201874, 'gamma': 0.1224057471610449, 'subsample': 0.18072780452430373, 'colsample_bytree': 0.9835037101613248}. Best is trial 49 with value: 0.037242825271900086.\n"
     ]
    },
    {
     "name": "stdout",
     "output_type": "stream",
     "text": [
      "MAPE: 0.0685854783491559\n"
     ]
    },
    {
     "name": "stderr",
     "output_type": "stream",
     "text": [
      "[I 2023-07-19 23:09:08,212] Trial 507 finished with value: 0.057363336005491976 and parameters: {'max_depth': 10, 'eta': 0.6918221252024943, 'gamma': 0.028857159450374873, 'subsample': 0.11804070987187815, 'colsample_bytree': 0.6617417550956768}. Best is trial 49 with value: 0.037242825271900086.\n"
     ]
    },
    {
     "name": "stdout",
     "output_type": "stream",
     "text": [
      "MAPE: 0.057363336005491976\n"
     ]
    },
    {
     "name": "stderr",
     "output_type": "stream",
     "text": [
      "[I 2023-07-19 23:09:09,498] Trial 508 finished with value: 0.05258393640258198 and parameters: {'max_depth': 10, 'eta': 0.5012908238251462, 'gamma': 0.09897456893632972, 'subsample': 0.30819212896034764, 'colsample_bytree': 0.8149766017916782}. Best is trial 49 with value: 0.037242825271900086.\n"
     ]
    },
    {
     "name": "stdout",
     "output_type": "stream",
     "text": [
      "MAPE: 0.05258393640258198\n"
     ]
    },
    {
     "name": "stderr",
     "output_type": "stream",
     "text": [
      "[I 2023-07-19 23:09:10,120] Trial 509 finished with value: 0.044586738999804885 and parameters: {'max_depth': 8, 'eta': 0.5540248251188343, 'gamma': 0.15052608490272557, 'subsample': 0.14898914722343615, 'colsample_bytree': 0.6053780629365336}. Best is trial 49 with value: 0.037242825271900086.\n"
     ]
    },
    {
     "name": "stdout",
     "output_type": "stream",
     "text": [
      "MAPE: 0.044586738999804885\n"
     ]
    },
    {
     "name": "stderr",
     "output_type": "stream",
     "text": [
      "[I 2023-07-19 23:09:11,037] Trial 510 finished with value: 0.29852668896354007 and parameters: {'max_depth': 9, 'eta': 0.1102341627201394, 'gamma': 0.016264325868324162, 'subsample': 0.4183074540809908, 'colsample_bytree': 0.5528006924346568}. Best is trial 49 with value: 0.037242825271900086.\n"
     ]
    },
    {
     "name": "stdout",
     "output_type": "stream",
     "text": [
      "MAPE: 0.29852668896354007\n"
     ]
    },
    {
     "name": "stderr",
     "output_type": "stream",
     "text": [
      "[I 2023-07-19 23:09:12,812] Trial 511 finished with value: 0.051185255189289416 and parameters: {'max_depth': 10, 'eta': 0.6215485770456882, 'gamma': 0.026091738587370215, 'subsample': 0.7106101775058521, 'colsample_bytree': 0.877059633450424}. Best is trial 49 with value: 0.037242825271900086.\n"
     ]
    },
    {
     "name": "stdout",
     "output_type": "stream",
     "text": [
      "MAPE: 0.051185255189289416\n"
     ]
    },
    {
     "name": "stderr",
     "output_type": "stream",
     "text": [
      "[I 2023-07-19 23:09:14,268] Trial 512 finished with value: 0.5351175298774445 and parameters: {'max_depth': 10, 'eta': 0.05879513371818274, 'gamma': 0.13201755258796888, 'subsample': 0.7740195911704368, 'colsample_bytree': 0.6256979587310799}. Best is trial 49 with value: 0.037242825271900086.\n"
     ]
    },
    {
     "name": "stdout",
     "output_type": "stream",
     "text": [
      "MAPE: 0.5351175298774445\n"
     ]
    },
    {
     "name": "stderr",
     "output_type": "stream",
     "text": [
      "[I 2023-07-19 23:09:15,295] Trial 513 finished with value: 0.05389263407938178 and parameters: {'max_depth': 8, 'eta': 0.7486793887749891, 'gamma': 0.5331394746369875, 'subsample': 0.5722403488516787, 'colsample_bytree': 0.5808235385527162}. Best is trial 49 with value: 0.037242825271900086.\n"
     ]
    },
    {
     "name": "stdout",
     "output_type": "stream",
     "text": [
      "MAPE: 0.05389263407938178\n"
     ]
    },
    {
     "name": "stderr",
     "output_type": "stream",
     "text": [
      "[I 2023-07-19 23:09:16,121] Trial 514 finished with value: 0.3847189375070299 and parameters: {'max_depth': 10, 'eta': 0.08791727080255297, 'gamma': 0.08031582927521673, 'subsample': 0.1897108542757068, 'colsample_bytree': 0.6468575452345869}. Best is trial 49 with value: 0.037242825271900086.\n"
     ]
    },
    {
     "name": "stdout",
     "output_type": "stream",
     "text": [
      "MAPE: 0.3847189375070299\n"
     ]
    },
    {
     "name": "stderr",
     "output_type": "stream",
     "text": [
      "[I 2023-07-19 23:09:16,746] Trial 515 finished with value: 0.07094561837477134 and parameters: {'max_depth': 10, 'eta': 0.48212277639756457, 'gamma': 0.36282778432944723, 'subsample': 0.16664536216861997, 'colsample_bytree': 0.3577648953775719}. Best is trial 49 with value: 0.037242825271900086.\n"
     ]
    },
    {
     "name": "stdout",
     "output_type": "stream",
     "text": [
      "MAPE: 0.07094561837477134\n"
     ]
    },
    {
     "name": "stderr",
     "output_type": "stream",
     "text": [
      "[I 2023-07-19 23:09:18,299] Trial 516 finished with value: 0.08669815700354769 and parameters: {'max_depth': 9, 'eta': 0.23999203821914547, 'gamma': 0.035538118212019944, 'subsample': 0.8751091744250827, 'colsample_bytree': 0.7978269461517054}. Best is trial 49 with value: 0.037242825271900086.\n"
     ]
    },
    {
     "name": "stdout",
     "output_type": "stream",
     "text": [
      "MAPE: 0.08669815700354769\n"
     ]
    },
    {
     "name": "stderr",
     "output_type": "stream",
     "text": [
      "[I 2023-07-19 23:09:19,570] Trial 517 finished with value: 0.06948444233091015 and parameters: {'max_depth': 10, 'eta': 0.6665250021598249, 'gamma': 0.19534916140459954, 'subsample': 0.31947558608172427, 'colsample_bytree': 0.7018655294047496}. Best is trial 49 with value: 0.037242825271900086.\n"
     ]
    },
    {
     "name": "stdout",
     "output_type": "stream",
     "text": [
      "MAPE: 0.06948444233091015\n"
     ]
    },
    {
     "name": "stderr",
     "output_type": "stream",
     "text": [
      "[I 2023-07-19 23:09:20,352] Trial 518 finished with value: 0.07627942236012723 and parameters: {'max_depth': 8, 'eta': 0.3613869663904344, 'gamma': 0.1127828810558921, 'subsample': 0.46792942397607584, 'colsample_bytree': 0.3377066844453114}. Best is trial 49 with value: 0.037242825271900086.\n"
     ]
    },
    {
     "name": "stdout",
     "output_type": "stream",
     "text": [
      "MAPE: 0.07627942236012723\n"
     ]
    },
    {
     "name": "stderr",
     "output_type": "stream",
     "text": [
      "[I 2023-07-19 23:09:21,250] Trial 519 finished with value: 0.05164230554567248 and parameters: {'max_depth': 10, 'eta': 0.5565493759941026, 'gamma': 0.06566855727768438, 'subsample': 0.15575993154319684, 'colsample_bytree': 0.6721458086130695}. Best is trial 49 with value: 0.037242825271900086.\n"
     ]
    },
    {
     "name": "stdout",
     "output_type": "stream",
     "text": [
      "MAPE: 0.05164230554567248\n"
     ]
    },
    {
     "name": "stderr",
     "output_type": "stream",
     "text": [
      "[I 2023-07-19 23:09:21,998] Trial 520 finished with value: 0.07122241632580523 and parameters: {'max_depth': 8, 'eta': 0.4209228837350591, 'gamma': 0.015118911100015033, 'subsample': 0.35457431068159107, 'colsample_bytree': 0.28126679663092974}. Best is trial 49 with value: 0.037242825271900086.\n"
     ]
    },
    {
     "name": "stdout",
     "output_type": "stream",
     "text": [
      "MAPE: 0.07122241632580523\n"
     ]
    },
    {
     "name": "stderr",
     "output_type": "stream",
     "text": [
      "[I 2023-07-19 23:09:23,097] Trial 521 finished with value: 0.05751612666011178 and parameters: {'max_depth': 10, 'eta': 0.6027590251119695, 'gamma': 0.1681642060542773, 'subsample': 0.2350356598405918, 'colsample_bytree': 0.732144652754704}. Best is trial 49 with value: 0.037242825271900086.\n"
     ]
    },
    {
     "name": "stdout",
     "output_type": "stream",
     "text": [
      "MAPE: 0.05751612666011178\n"
     ]
    },
    {
     "name": "stderr",
     "output_type": "stream",
     "text": [
      "[I 2023-07-19 23:09:23,865] Trial 522 finished with value: 0.893487856925066 and parameters: {'max_depth': 7, 'eta': 0.010880548132675125, 'gamma': 0.0198277646242904, 'subsample': 0.391082130513018, 'colsample_bytree': 0.6227706101453746}. Best is trial 49 with value: 0.037242825271900086.\n"
     ]
    },
    {
     "name": "stdout",
     "output_type": "stream",
     "text": [
      "MAPE: 0.893487856925066\n"
     ]
    },
    {
     "name": "stderr",
     "output_type": "stream",
     "text": [
      "[I 2023-07-19 23:09:24,396] Trial 523 finished with value: 0.08794892737070392 and parameters: {'max_depth': 10, 'eta': 0.5232768882430177, 'gamma': 0.14229648619718177, 'subsample': 0.44046712861506154, 'colsample_bytree': 0.10135217699700966}. Best is trial 49 with value: 0.037242825271900086.\n"
     ]
    },
    {
     "name": "stdout",
     "output_type": "stream",
     "text": [
      "MAPE: 0.08794892737070392\n"
     ]
    },
    {
     "name": "stderr",
     "output_type": "stream",
     "text": [
      "[I 2023-07-19 23:09:24,949] Trial 524 finished with value: 0.09613761908864334 and parameters: {'max_depth': 9, 'eta': 0.8549022824896997, 'gamma': 0.01754419234086297, 'subsample': 0.5866188920562795, 'colsample_bytree': 0.1182031601037683}. Best is trial 49 with value: 0.037242825271900086.\n"
     ]
    },
    {
     "name": "stdout",
     "output_type": "stream",
     "text": [
      "MAPE: 0.09613761908864334\n"
     ]
    },
    {
     "name": "stderr",
     "output_type": "stream",
     "text": [
      "[I 2023-07-19 23:09:26,061] Trial 525 finished with value: 0.0514631220208291 and parameters: {'max_depth': 8, 'eta': 0.4779315835811039, 'gamma': 0.3227276396101168, 'subsample': 0.3667247662172208, 'colsample_bytree': 0.9392107808824561}. Best is trial 49 with value: 0.037242825271900086.\n"
     ]
    },
    {
     "name": "stdout",
     "output_type": "stream",
     "text": [
      "MAPE: 0.0514631220208291\n"
     ]
    },
    {
     "name": "stderr",
     "output_type": "stream",
     "text": [
      "[I 2023-07-19 23:09:27,065] Trial 526 finished with value: 0.05243201044878653 and parameters: {'max_depth': 10, 'eta': 0.6840673404688808, 'gamma': 0.02295919723991712, 'subsample': 0.2812565282833134, 'colsample_bytree': 0.6030343453578861}. Best is trial 49 with value: 0.037242825271900086.\n"
     ]
    },
    {
     "name": "stdout",
     "output_type": "stream",
     "text": [
      "MAPE: 0.05243201044878653\n"
     ]
    },
    {
     "name": "stderr",
     "output_type": "stream",
     "text": [
      "[I 2023-07-19 23:09:28,411] Trial 527 finished with value: 0.7245910969009592 and parameters: {'max_depth': 10, 'eta': 0.030909514740824495, 'gamma': 0.6288883904425976, 'subsample': 0.5429511427725051, 'colsample_bytree': 0.644170203003243}. Best is trial 49 with value: 0.037242825271900086.\n"
     ]
    },
    {
     "name": "stdout",
     "output_type": "stream",
     "text": [
      "MAPE: 0.7245910969009592\n"
     ]
    },
    {
     "name": "stderr",
     "output_type": "stream",
     "text": [
      "[I 2023-07-19 23:09:30,004] Trial 528 finished with value: 0.64023330861993 and parameters: {'max_depth': 10, 'eta': 0.04245762867937355, 'gamma': 0.03231648648168585, 'subsample': 0.7468522617448148, 'colsample_bytree': 0.6879912860099877}. Best is trial 49 with value: 0.037242825271900086.\n"
     ]
    },
    {
     "name": "stdout",
     "output_type": "stream",
     "text": [
      "MAPE: 0.64023330861993\n"
     ]
    },
    {
     "name": "stderr",
     "output_type": "stream",
     "text": [
      "[I 2023-07-19 23:09:31,192] Trial 529 finished with value: 0.05711969398153153 and parameters: {'max_depth': 9, 'eta': 0.3068644663940746, 'gamma': 0.25686598200684163, 'subsample': 0.8548784873545823, 'colsample_bytree': 0.5734104541824455}. Best is trial 49 with value: 0.037242825271900086.\n"
     ]
    },
    {
     "name": "stdout",
     "output_type": "stream",
     "text": [
      "MAPE: 0.05711969398153153\n"
     ]
    },
    {
     "name": "stderr",
     "output_type": "stream",
     "text": [
      "[I 2023-07-19 23:09:32,114] Trial 530 finished with value: 0.048093452893215725 and parameters: {'max_depth': 10, 'eta': 0.4313923600389792, 'gamma': 0.12345834875264915, 'subsample': 0.1366389936019545, 'colsample_bytree': 0.6591649127646169}. Best is trial 49 with value: 0.037242825271900086.\n"
     ]
    },
    {
     "name": "stdout",
     "output_type": "stream",
     "text": [
      "MAPE: 0.048093452893215725\n"
     ]
    },
    {
     "name": "stderr",
     "output_type": "stream",
     "text": [
      "[I 2023-07-19 23:09:32,981] Trial 531 finished with value: 0.07939869114944748 and parameters: {'max_depth': 8, 'eta': 0.7509845361935636, 'gamma': 0.4624023009083793, 'subsample': 0.6802718162265177, 'colsample_bytree': 0.2931133794207509}. Best is trial 49 with value: 0.037242825271900086.\n"
     ]
    },
    {
     "name": "stdout",
     "output_type": "stream",
     "text": [
      "MAPE: 0.07939869114944748\n"
     ]
    },
    {
     "name": "stderr",
     "output_type": "stream",
     "text": [
      "[I 2023-07-19 23:09:34,315] Trial 532 finished with value: 0.05226613237690311 and parameters: {'max_depth': 10, 'eta': 0.6013022918528556, 'gamma': 0.1077405182628333, 'subsample': 0.4085737765561179, 'colsample_bytree': 0.6333672236535193}. Best is trial 49 with value: 0.037242825271900086.\n"
     ]
    },
    {
     "name": "stdout",
     "output_type": "stream",
     "text": [
      "MAPE: 0.05226613237690311\n"
     ]
    },
    {
     "name": "stderr",
     "output_type": "stream",
     "text": [
      "[I 2023-07-19 23:09:35,267] Trial 533 finished with value: 0.1834211408892979 and parameters: {'max_depth': 8, 'eta': 0.15091995055171095, 'gamma': 0.04916740530338175, 'subsample': 0.4773867767713269, 'colsample_bytree': 0.5937879530898151}. Best is trial 49 with value: 0.037242825271900086.\n"
     ]
    },
    {
     "name": "stdout",
     "output_type": "stream",
     "text": [
      "MAPE: 0.1834211408892979\n"
     ]
    },
    {
     "name": "stderr",
     "output_type": "stream",
     "text": [
      "[I 2023-07-19 23:09:36,646] Trial 534 finished with value: 0.05521465287145515 and parameters: {'max_depth': 10, 'eta': 0.5310441402476325, 'gamma': 0.010764774923541902, 'subsample': 0.6019975044475226, 'colsample_bytree': 0.6212608205718417}. Best is trial 49 with value: 0.037242825271900086.\n"
     ]
    },
    {
     "name": "stdout",
     "output_type": "stream",
     "text": [
      "MAPE: 0.05521465287145515\n"
     ]
    },
    {
     "name": "stderr",
     "output_type": "stream",
     "text": [
      "[I 2023-07-19 23:09:37,884] Trial 535 finished with value: 0.05523345376585061 and parameters: {'max_depth': 10, 'eta': 0.6417916392613587, 'gamma': 0.02739895301525934, 'subsample': 0.5615807938498586, 'colsample_bytree': 0.5521668991006675}. Best is trial 49 with value: 0.037242825271900086.\n"
     ]
    },
    {
     "name": "stdout",
     "output_type": "stream",
     "text": [
      "MAPE: 0.05523345376585061\n"
     ]
    },
    {
     "name": "stderr",
     "output_type": "stream",
     "text": [
      "[I 2023-07-19 23:09:38,986] Trial 536 finished with value: 0.05205324518914082 and parameters: {'max_depth': 10, 'eta': 0.5681521256541019, 'gamma': 0.22316465665190371, 'subsample': 0.18306229172696595, 'colsample_bytree': 0.9997454239367021}. Best is trial 49 with value: 0.037242825271900086.\n"
     ]
    },
    {
     "name": "stdout",
     "output_type": "stream",
     "text": [
      "MAPE: 0.05205324518914082\n"
     ]
    },
    {
     "name": "stderr",
     "output_type": "stream",
     "text": [
      "[I 2023-07-19 23:09:39,745] Trial 537 finished with value: 0.052266034801796014 and parameters: {'max_depth': 8, 'eta': 0.3882245452640695, 'gamma': 0.013585433602433515, 'subsample': 0.32789373712592274, 'colsample_bytree': 0.5236059676939635}. Best is trial 49 with value: 0.037242825271900086.\n"
     ]
    },
    {
     "name": "stdout",
     "output_type": "stream",
     "text": [
      "MAPE: 0.052266034801796014\n"
     ]
    },
    {
     "name": "stderr",
     "output_type": "stream",
     "text": [
      "[I 2023-07-19 23:09:40,683] Trial 538 finished with value: 0.05016096091797664 and parameters: {'max_depth': 7, 'eta': 0.46044611421485593, 'gamma': 0.28452348222710766, 'subsample': 0.4568794089074663, 'colsample_bytree': 0.6735114272014244}. Best is trial 49 with value: 0.037242825271900086.\n"
     ]
    },
    {
     "name": "stdout",
     "output_type": "stream",
     "text": [
      "MAPE: 0.05016096091797664\n"
     ]
    },
    {
     "name": "stderr",
     "output_type": "stream",
     "text": [
      "[I 2023-07-19 23:09:41,301] Trial 539 finished with value: 0.23356031159805662 and parameters: {'max_depth': 6, 'eta': 0.12818251345663897, 'gamma': 0.5579677481732722, 'subsample': 0.25541326211917675, 'colsample_bytree': 0.6475033216431539}. Best is trial 49 with value: 0.037242825271900086.\n"
     ]
    },
    {
     "name": "stdout",
     "output_type": "stream",
     "text": [
      "MAPE: 0.23356031159805662\n"
     ]
    },
    {
     "name": "stderr",
     "output_type": "stream",
     "text": [
      "[I 2023-07-19 23:09:41,886] Trial 540 finished with value: 0.06915272089180206 and parameters: {'max_depth': 9, 'eta': 0.5053938515236883, 'gamma': 0.38869040342277367, 'subsample': 0.13122761808126968, 'colsample_bytree': 0.4412734391294302}. Best is trial 49 with value: 0.037242825271900086.\n"
     ]
    },
    {
     "name": "stdout",
     "output_type": "stream",
     "text": [
      "MAPE: 0.06915272089180206\n"
     ]
    },
    {
     "name": "stderr",
     "output_type": "stream",
     "text": [
      "[I 2023-07-19 23:09:42,707] Trial 541 finished with value: 0.15328034766865414 and parameters: {'max_depth': 10, 'eta': 0.16676859146742762, 'gamma': 0.057584530810638634, 'subsample': 0.2073964983278107, 'colsample_bytree': 0.6066934355150476}. Best is trial 49 with value: 0.037242825271900086.\n"
     ]
    },
    {
     "name": "stdout",
     "output_type": "stream",
     "text": [
      "MAPE: 0.15328034766865414\n"
     ]
    },
    {
     "name": "stderr",
     "output_type": "stream",
     "text": [
      "[I 2023-07-19 23:09:44,254] Trial 542 finished with value: 0.053747806867287154 and parameters: {'max_depth': 10, 'eta': 0.7860132703435826, 'gamma': 0.1607264801894698, 'subsample': 0.43154092546162365, 'colsample_bytree': 0.7598384069355775}. Best is trial 49 with value: 0.037242825271900086.\n"
     ]
    },
    {
     "name": "stdout",
     "output_type": "stream",
     "text": [
      "MAPE: 0.053747806867287154\n"
     ]
    },
    {
     "name": "stderr",
     "output_type": "stream",
     "text": [
      "[I 2023-07-19 23:09:45,331] Trial 543 finished with value: 0.053724288721177925 and parameters: {'max_depth': 8, 'eta': 0.6634635454549485, 'gamma': 0.07576487564083063, 'subsample': 0.7939506485435718, 'colsample_bytree': 0.5800948658419625}. Best is trial 49 with value: 0.037242825271900086.\n"
     ]
    },
    {
     "name": "stdout",
     "output_type": "stream",
     "text": [
      "MAPE: 0.053724288721177925\n"
     ]
    },
    {
     "name": "stderr",
     "output_type": "stream",
     "text": [
      "[I 2023-07-19 23:09:46,501] Trial 544 finished with value: 0.57221227075182 and parameters: {'max_depth': 10, 'eta': 0.05277097093845156, 'gamma': 0.020803012186300956, 'subsample': 0.29754660388353715, 'colsample_bytree': 0.8907799908262477}. Best is trial 49 with value: 0.037242825271900086.\n"
     ]
    },
    {
     "name": "stdout",
     "output_type": "stream",
     "text": [
      "MAPE: 0.57221227075182\n"
     ]
    },
    {
     "name": "stderr",
     "output_type": "stream",
     "text": [
      "[I 2023-07-19 23:09:48,115] Trial 545 finished with value: 0.05493532539479442 and parameters: {'max_depth': 10, 'eta': 0.5834997014399425, 'gamma': 0.202934212207525, 'subsample': 0.6147823916155128, 'colsample_bytree': 0.7166923231771654}. Best is trial 49 with value: 0.037242825271900086.\n"
     ]
    },
    {
     "name": "stdout",
     "output_type": "stream",
     "text": [
      "MAPE: 0.05493532539479442\n"
     ]
    },
    {
     "name": "stderr",
     "output_type": "stream",
     "text": [
      "[I 2023-07-19 23:09:49,413] Trial 546 finished with value: 0.053571278171891515 and parameters: {'max_depth': 9, 'eta': 0.3347393948662841, 'gamma': 0.13660936317862435, 'subsample': 0.7026507111116184, 'colsample_bytree': 0.6630948122137246}. Best is trial 49 with value: 0.037242825271900086.\n"
     ]
    },
    {
     "name": "stdout",
     "output_type": "stream",
     "text": [
      "MAPE: 0.053571278171891515\n"
     ]
    },
    {
     "name": "stderr",
     "output_type": "stream",
     "text": [
      "[I 2023-07-19 23:09:50,642] Trial 547 finished with value: 0.05499193338800027 and parameters: {'max_depth': 8, 'eta': 0.5329651583751639, 'gamma': 0.04023311448802099, 'subsample': 0.5064846010751493, 'colsample_bytree': 0.6912298933193411}. Best is trial 49 with value: 0.037242825271900086.\n"
     ]
    },
    {
     "name": "stdout",
     "output_type": "stream",
     "text": [
      "MAPE: 0.05499193338800027\n"
     ]
    },
    {
     "name": "stderr",
     "output_type": "stream",
     "text": [
      "[I 2023-07-19 23:09:52,154] Trial 548 finished with value: 0.06167915642319933 and parameters: {'max_depth': 10, 'eta': 0.8902449179078197, 'gamma': 0.012505641536142606, 'subsample': 0.5316354375298609, 'colsample_bytree': 0.6275432968865629}. Best is trial 49 with value: 0.037242825271900086.\n"
     ]
    },
    {
     "name": "stdout",
     "output_type": "stream",
     "text": [
      "MAPE: 0.06167915642319933\n"
     ]
    },
    {
     "name": "stderr",
     "output_type": "stream",
     "text": [
      "[I 2023-07-19 23:09:53,637] Trial 549 finished with value: 0.0971752779224745 and parameters: {'max_depth': 10, 'eta': 0.2144201727913703, 'gamma': 0.5005900282934903, 'subsample': 0.7612545990819632, 'colsample_bytree': 0.6394852719667271}. Best is trial 49 with value: 0.037242825271900086.\n"
     ]
    },
    {
     "name": "stdout",
     "output_type": "stream",
     "text": [
      "MAPE: 0.0971752779224745\n"
     ]
    },
    {
     "name": "stderr",
     "output_type": "stream",
     "text": [
      "[I 2023-07-19 23:09:54,949] Trial 550 finished with value: 0.12610727423244444 and parameters: {'max_depth': 10, 'eta': 0.18176571246791653, 'gamma': 0.09697533310177217, 'subsample': 0.8190447436276309, 'colsample_bytree': 0.609167864500692}. Best is trial 49 with value: 0.037242825271900086.\n"
     ]
    },
    {
     "name": "stdout",
     "output_type": "stream",
     "text": [
      "MAPE: 0.12610727423244444\n"
     ]
    },
    {
     "name": "stderr",
     "output_type": "stream",
     "text": [
      "[I 2023-07-19 23:09:55,648] Trial 551 finished with value: 0.08260622668606582 and parameters: {'max_depth': 8, 'eta': 0.7172805455428433, 'gamma': 0.17881286468017918, 'subsample': 0.3760643961440033, 'colsample_bytree': 0.30630033038329874}. Best is trial 49 with value: 0.037242825271900086.\n"
     ]
    },
    {
     "name": "stdout",
     "output_type": "stream",
     "text": [
      "MAPE: 0.08260622668606582\n"
     ]
    },
    {
     "name": "stderr",
     "output_type": "stream",
     "text": [
      "[I 2023-07-19 23:09:57,073] Trial 552 finished with value: 0.052665927746991005 and parameters: {'max_depth': 9, 'eta': 0.4843677767720652, 'gamma': 0.05335498761820663, 'subsample': 0.4766223546907329, 'colsample_bytree': 0.9367296193213726}. Best is trial 49 with value: 0.037242825271900086.\n"
     ]
    },
    {
     "name": "stdout",
     "output_type": "stream",
     "text": [
      "MAPE: 0.052665927746991005\n"
     ]
    },
    {
     "name": "stderr",
     "output_type": "stream",
     "text": [
      "[I 2023-07-19 23:09:58,104] Trial 553 finished with value: 0.3322929495392491 and parameters: {'max_depth': 10, 'eta': 0.10005083545934348, 'gamma': 0.7159827234850726, 'subsample': 0.5777002642002425, 'colsample_bytree': 0.4005415614168203}. Best is trial 49 with value: 0.037242825271900086.\n"
     ]
    },
    {
     "name": "stdout",
     "output_type": "stream",
     "text": [
      "MAPE: 0.3322929495392491\n"
     ]
    },
    {
     "name": "stderr",
     "output_type": "stream",
     "text": [
      "[I 2023-07-19 23:09:59,802] Trial 554 finished with value: 0.048248774108010456 and parameters: {'max_depth': 10, 'eta': 0.6168581760529833, 'gamma': 0.016807485849167927, 'subsample': 0.6697855987763346, 'colsample_bytree': 0.7789978385554941}. Best is trial 49 with value: 0.037242825271900086.\n"
     ]
    },
    {
     "name": "stdout",
     "output_type": "stream",
     "text": [
      "MAPE: 0.048248774108010456\n"
     ]
    },
    {
     "name": "stderr",
     "output_type": "stream",
     "text": [
      "[I 2023-07-19 23:10:00,969] Trial 555 finished with value: 0.05104602456859489 and parameters: {'max_depth': 8, 'eta': 0.42378517387430986, 'gamma': 0.014641407597479355, 'subsample': 0.7176287496855165, 'colsample_bytree': 0.6585991824869539}. Best is trial 49 with value: 0.037242825271900086.\n"
     ]
    },
    {
     "name": "stdout",
     "output_type": "stream",
     "text": [
      "MAPE: 0.05104602456859489\n"
     ]
    },
    {
     "name": "stderr",
     "output_type": "stream",
     "text": [
      "[I 2023-07-19 23:10:02,322] Trial 556 finished with value: 0.05074099904475335 and parameters: {'max_depth': 10, 'eta': 0.9987798397877408, 'gamma': 0.11826548310328915, 'subsample': 0.4911199240695452, 'colsample_bytree': 0.5910251799800175}. Best is trial 49 with value: 0.037242825271900086.\n"
     ]
    },
    {
     "name": "stdout",
     "output_type": "stream",
     "text": [
      "MAPE: 0.05074099904475335\n"
     ]
    },
    {
     "name": "stderr",
     "output_type": "stream",
     "text": [
      "[I 2023-07-19 23:10:03,466] Trial 557 finished with value: 0.05640781786258043 and parameters: {'max_depth': 10, 'eta': 0.5394041050105878, 'gamma': 0.14577757181545564, 'subsample': 0.3974981390018289, 'colsample_bytree': 0.5680956543650183}. Best is trial 49 with value: 0.037242825271900086.\n"
     ]
    },
    {
     "name": "stdout",
     "output_type": "stream",
     "text": [
      "MAPE: 0.05640781786258043\n"
     ]
    },
    {
     "name": "stderr",
     "output_type": "stream",
     "text": [
      "[I 2023-07-19 23:10:04,581] Trial 558 finished with value: 0.8417689561125894 and parameters: {'max_depth': 8, 'eta': 0.01656310679843224, 'gamma': 0.8207164888351697, 'subsample': 0.5958057974179494, 'colsample_bytree': 0.6781222412710165}. Best is trial 49 with value: 0.037242825271900086.\n"
     ]
    },
    {
     "name": "stdout",
     "output_type": "stream",
     "text": [
      "MAPE: 0.8417689561125894\n"
     ]
    },
    {
     "name": "stderr",
     "output_type": "stream",
     "text": [
      "[I 2023-07-19 23:10:05,783] Trial 559 finished with value: 0.0538081810104858 and parameters: {'max_depth': 10, 'eta': 0.6961253737852076, 'gamma': 0.01897233081824509, 'subsample': 0.5549868141561941, 'colsample_bytree': 0.5350676641966005}. Best is trial 49 with value: 0.037242825271900086.\n"
     ]
    },
    {
     "name": "stdout",
     "output_type": "stream",
     "text": [
      "MAPE: 0.0538081810104858\n"
     ]
    },
    {
     "name": "stderr",
     "output_type": "stream",
     "text": [
      "[I 2023-07-19 23:10:06,404] Trial 560 finished with value: 0.061546516321210935 and parameters: {'max_depth': 5, 'eta': 0.4614200371221926, 'gamma': 0.011316050984498508, 'subsample': 0.5213379244240334, 'colsample_bytree': 0.6167075402939902}. Best is trial 49 with value: 0.037242825271900086.\n"
     ]
    },
    {
     "name": "stdout",
     "output_type": "stream",
     "text": [
      "MAPE: 0.061546516321210935\n"
     ]
    },
    {
     "name": "stderr",
     "output_type": "stream",
     "text": [
      "[I 2023-07-19 23:10:07,024] Trial 561 finished with value: 0.04991170473418381 and parameters: {'max_depth': 7, 'eta': 0.5782334554848249, 'gamma': 0.03757100984270301, 'subsample': 0.1674541113239553, 'colsample_bytree': 0.6407939925172744}. Best is trial 49 with value: 0.037242825271900086.\n"
     ]
    },
    {
     "name": "stdout",
     "output_type": "stream",
     "text": [
      "MAPE: 0.04991170473418381\n"
     ]
    },
    {
     "name": "stderr",
     "output_type": "stream",
     "text": [
      "[I 2023-07-19 23:10:08,094] Trial 562 finished with value: 0.04595632209181618 and parameters: {'max_depth': 10, 'eta': 0.7776940186836783, 'gamma': 0.12722508877531802, 'subsample': 0.24342654816603607, 'colsample_bytree': 0.6580094439306039}. Best is trial 49 with value: 0.037242825271900086.\n"
     ]
    },
    {
     "name": "stdout",
     "output_type": "stream",
     "text": [
      "MAPE: 0.04595632209181618\n"
     ]
    },
    {
     "name": "stderr",
     "output_type": "stream",
     "text": [
      "[I 2023-07-19 23:10:08,975] Trial 563 finished with value: 0.05862633731543034 and parameters: {'max_depth': 10, 'eta': 0.6491077309893057, 'gamma': 0.2643364855383339, 'subsample': 0.11040553706678236, 'colsample_bytree': 0.7046642886869869}. Best is trial 49 with value: 0.037242825271900086.\n"
     ]
    },
    {
     "name": "stdout",
     "output_type": "stream",
     "text": [
      "MAPE: 0.05862633731543034\n"
     ]
    },
    {
     "name": "stderr",
     "output_type": "stream",
     "text": [
      "[I 2023-07-19 23:10:09,885] Trial 564 finished with value: 0.45580832141464833 and parameters: {'max_depth': 9, 'eta': 0.0734037101414672, 'gamma': 0.031882895467502406, 'subsample': 0.3528327687298886, 'colsample_bytree': 0.6044144442172981}. Best is trial 49 with value: 0.037242825271900086.\n"
     ]
    },
    {
     "name": "stdout",
     "output_type": "stream",
     "text": [
      "MAPE: 0.45580832141464833\n"
     ]
    },
    {
     "name": "stderr",
     "output_type": "stream",
     "text": [
      "[I 2023-07-19 23:10:10,630] Trial 565 finished with value: 0.056373360943578484 and parameters: {'max_depth': 8, 'eta': 0.39420224798205383, 'gamma': 0.06700195159373276, 'subsample': 0.19446430612320567, 'colsample_bytree': 0.6354846853034285}. Best is trial 49 with value: 0.037242825271900086.\n"
     ]
    },
    {
     "name": "stdout",
     "output_type": "stream",
     "text": [
      "MAPE: 0.056373360943578484\n"
     ]
    },
    {
     "name": "stderr",
     "output_type": "stream",
     "text": [
      "[I 2023-07-19 23:10:12,229] Trial 566 finished with value: 0.054553214457966515 and parameters: {'max_depth': 10, 'eta': 0.5432679922868279, 'gamma': 0.027839497162177377, 'subsample': 0.46099310047010655, 'colsample_bytree': 0.8996657262047733}. Best is trial 49 with value: 0.037242825271900086.\n"
     ]
    },
    {
     "name": "stdout",
     "output_type": "stream",
     "text": [
      "MAPE: 0.054553214457966515\n"
     ]
    },
    {
     "name": "stderr",
     "output_type": "stream",
     "text": [
      "[I 2023-07-19 23:10:12,823] Trial 567 finished with value: 0.1869141146882167 and parameters: {'max_depth': 9, 'eta': 0.14311128979853416, 'gamma': 0.42760827436076154, 'subsample': 0.4203643478754528, 'colsample_bytree': 0.14600906164395044}. Best is trial 49 with value: 0.037242825271900086.\n"
     ]
    },
    {
     "name": "stdout",
     "output_type": "stream",
     "text": [
      "MAPE: 0.1869141146882167\n"
     ]
    },
    {
     "name": "stderr",
     "output_type": "stream",
     "text": [
      "[I 2023-07-19 23:10:13,630] Trial 568 finished with value: 0.491065154050954 and parameters: {'max_depth': 8, 'eta': 0.06594446670279178, 'gamma': 0.010013531787442678, 'subsample': 0.27026755364718613, 'colsample_bytree': 0.6849311351419796}. Best is trial 49 with value: 0.037242825271900086.\n"
     ]
    },
    {
     "name": "stdout",
     "output_type": "stream",
     "text": [
      "MAPE: 0.491065154050954\n"
     ]
    },
    {
     "name": "stderr",
     "output_type": "stream",
     "text": [
      "[I 2023-07-19 23:10:14,747] Trial 569 finished with value: 0.07214744459613728 and parameters: {'max_depth': 10, 'eta': 0.5098784598918595, 'gamma': 0.022890474920841543, 'subsample': 0.8459943347199586, 'colsample_bytree': 0.31947802097753325}. Best is trial 49 with value: 0.037242825271900086.\n"
     ]
    },
    {
     "name": "stdout",
     "output_type": "stream",
     "text": [
      "MAPE: 0.07214744459613728\n"
     ]
    },
    {
     "name": "stderr",
     "output_type": "stream",
     "text": [
      "[I 2023-07-19 23:10:16,064] Trial 570 finished with value: 0.060128886792647045 and parameters: {'max_depth': 10, 'eta': 0.6159271416236527, 'gamma': 0.16646139773560645, 'subsample': 0.8661217241253919, 'colsample_bytree': 0.552693814480828}. Best is trial 49 with value: 0.037242825271900086.\n"
     ]
    },
    {
     "name": "stdout",
     "output_type": "stream",
     "text": [
      "MAPE: 0.060128886792647045\n"
     ]
    },
    {
     "name": "stderr",
     "output_type": "stream",
     "text": [
      "[I 2023-07-19 23:10:16,988] Trial 571 finished with value: 0.6569782949622159 and parameters: {'max_depth': 8, 'eta': 0.040064827936617996, 'gamma': 0.1072246416479576, 'subsample': 0.6234693882349147, 'colsample_bytree': 0.5031047659543855}. Best is trial 49 with value: 0.037242825271900086.\n"
     ]
    },
    {
     "name": "stdout",
     "output_type": "stream",
     "text": [
      "MAPE: 0.6569782949622159\n"
     ]
    },
    {
     "name": "stderr",
     "output_type": "stream",
     "text": [
      "[I 2023-07-19 23:10:18,603] Trial 572 finished with value: 0.05490581354033644 and parameters: {'max_depth': 10, 'eta': 0.4405637439514987, 'gamma': 0.30435046262302795, 'subsample': 0.5409317458666336, 'colsample_bytree': 0.8068687882562172}. Best is trial 49 with value: 0.037242825271900086.\n"
     ]
    },
    {
     "name": "stdout",
     "output_type": "stream",
     "text": [
      "MAPE: 0.05490581354033644\n"
     ]
    },
    {
     "name": "stderr",
     "output_type": "stream",
     "text": [
      "[I 2023-07-19 23:10:19,658] Trial 573 finished with value: 0.04803908920229813 and parameters: {'max_depth': 10, 'eta': 0.8620146807750572, 'gamma': 0.5799169500912255, 'subsample': 0.29975271409328563, 'colsample_bytree': 0.5862965341641252}. Best is trial 49 with value: 0.037242825271900086.\n"
     ]
    },
    {
     "name": "stdout",
     "output_type": "stream",
     "text": [
      "MAPE: 0.04803908920229813\n"
     ]
    },
    {
     "name": "stderr",
     "output_type": "stream",
     "text": [
      "[I 2023-07-19 23:10:21,098] Trial 574 finished with value: 0.35517232614132443 and parameters: {'max_depth': 10, 'eta': 0.09456274533064474, 'gamma': 0.04485273446006874, 'subsample': 0.6470303586362285, 'colsample_bytree': 0.670111117432854}. Best is trial 49 with value: 0.037242825271900086.\n"
     ]
    },
    {
     "name": "stdout",
     "output_type": "stream",
     "text": [
      "MAPE: 0.35517232614132443\n"
     ]
    },
    {
     "name": "stderr",
     "output_type": "stream",
     "text": [
      "[I 2023-07-19 23:10:22,261] Trial 575 finished with value: 0.05039351406788807 and parameters: {'max_depth': 9, 'eta': 0.36329663907215587, 'gamma': 0.2163015825146048, 'subsample': 0.5667218640922673, 'colsample_bytree': 0.6240044395299708}. Best is trial 49 with value: 0.037242825271900086.\n"
     ]
    },
    {
     "name": "stdout",
     "output_type": "stream",
     "text": [
      "MAPE: 0.05039351406788807\n"
     ]
    },
    {
     "name": "stderr",
     "output_type": "stream",
     "text": [
      "[I 2023-07-19 23:10:23,456] Trial 576 finished with value: 0.276499724192089 and parameters: {'max_depth': 8, 'eta': 0.11508934961667183, 'gamma': 0.18828119280432457, 'subsample': 0.4380331184178871, 'colsample_bytree': 0.848663937856516}. Best is trial 49 with value: 0.037242825271900086.\n"
     ]
    },
    {
     "name": "stdout",
     "output_type": "stream",
     "text": [
      "MAPE: 0.276499724192089\n"
     ]
    },
    {
     "name": "stderr",
     "output_type": "stream",
     "text": [
      "[I 2023-07-19 23:10:24,911] Trial 577 finished with value: 0.046039154307241245 and parameters: {'max_depth': 10, 'eta': 0.4839442653217642, 'gamma': 0.08802814973245657, 'subsample': 0.5050687753797262, 'colsample_bytree': 0.6483527095519089}. Best is trial 49 with value: 0.037242825271900086.\n"
     ]
    },
    {
     "name": "stdout",
     "output_type": "stream",
     "text": [
      "MAPE: 0.046039154307241245\n"
     ]
    },
    {
     "name": "stderr",
     "output_type": "stream",
     "text": [
      "[I 2023-07-19 23:10:26,239] Trial 578 finished with value: 0.0640262367893176 and parameters: {'max_depth': 10, 'eta': 0.2614333766972212, 'gamma': 0.15351435679029454, 'subsample': 0.7758334703237796, 'colsample_bytree': 0.5727662929368674}. Best is trial 49 with value: 0.037242825271900086.\n"
     ]
    },
    {
     "name": "stdout",
     "output_type": "stream",
     "text": [
      "MAPE: 0.0640262367893176\n"
     ]
    },
    {
     "name": "stderr",
     "output_type": "stream",
     "text": [
      "[I 2023-07-19 23:10:27,266] Trial 579 finished with value: 0.36846320519767306 and parameters: {'max_depth': 8, 'eta': 0.09156545500964768, 'gamma': 0.12990454125040082, 'subsample': 0.5847998178830465, 'colsample_bytree': 0.6135673115455261}. Best is trial 49 with value: 0.037242825271900086.\n"
     ]
    },
    {
     "name": "stdout",
     "output_type": "stream",
     "text": [
      "MAPE: 0.36846320519767306\n"
     ]
    },
    {
     "name": "stderr",
     "output_type": "stream",
     "text": [
      "[I 2023-07-19 23:10:27,753] Trial 580 finished with value: 0.06794968942413551 and parameters: {'max_depth': 3, 'eta': 0.7288590781714028, 'gamma': 0.24915930774384906, 'subsample': 0.48659005842567654, 'colsample_bytree': 0.7438640227005842}. Best is trial 49 with value: 0.037242825271900086.\n"
     ]
    },
    {
     "name": "stdout",
     "output_type": "stream",
     "text": [
      "MAPE: 0.06794968942413551\n"
     ]
    },
    {
     "name": "stderr",
     "output_type": "stream",
     "text": [
      "[I 2023-07-19 23:10:28,883] Trial 581 finished with value: 0.048184601783556866 and parameters: {'max_depth': 10, 'eta': 0.5797501654067786, 'gamma': 0.015819500107112493, 'subsample': 0.3771884896784179, 'colsample_bytree': 0.5935670120577726}. Best is trial 49 with value: 0.037242825271900086.\n"
     ]
    },
    {
     "name": "stdout",
     "output_type": "stream",
     "text": [
      "MAPE: 0.048184601783556866\n"
     ]
    },
    {
     "name": "stderr",
     "output_type": "stream",
     "text": [
      "[I 2023-07-19 23:10:30,137] Trial 582 finished with value: 0.04747888160949211 and parameters: {'max_depth': 10, 'eta': 0.6531949534034837, 'gamma': 0.020612599901223907, 'subsample': 0.34947390424593705, 'colsample_bytree': 0.6553597376128228}. Best is trial 49 with value: 0.037242825271900086.\n"
     ]
    },
    {
     "name": "stdout",
     "output_type": "stream",
     "text": [
      "MAPE: 0.04747888160949211\n"
     ]
    },
    {
     "name": "stderr",
     "output_type": "stream",
     "text": [
      "[I 2023-07-19 23:10:30,967] Trial 583 finished with value: 0.05808319283443084 and parameters: {'max_depth': 8, 'eta': 0.5068656281381324, 'gamma': 0.024373547553335102, 'subsample': 0.2122696431298587, 'colsample_bytree': 0.6901733921075635}. Best is trial 49 with value: 0.037242825271900086.\n"
     ]
    },
    {
     "name": "stdout",
     "output_type": "stream",
     "text": [
      "MAPE: 0.05808319283443084\n"
     ]
    },
    {
     "name": "stderr",
     "output_type": "stream",
     "text": [
      "[I 2023-07-19 23:10:32,319] Trial 584 finished with value: 0.0663612926732504 and parameters: {'max_depth': 9, 'eta': 0.30204312628762375, 'gamma': 0.01779665458233991, 'subsample': 0.9134153564654198, 'colsample_bytree': 0.6323881616723128}. Best is trial 49 with value: 0.037242825271900086.\n"
     ]
    },
    {
     "name": "stdout",
     "output_type": "stream",
     "text": [
      "MAPE: 0.0663612926732504\n"
     ]
    },
    {
     "name": "stderr",
     "output_type": "stream",
     "text": [
      "[I 2023-07-19 23:10:33,047] Trial 585 finished with value: 0.0834004397317548 and parameters: {'max_depth': 10, 'eta': 0.5679299693949795, 'gamma': 0.012198107218890407, 'subsample': 0.3248734054800756, 'colsample_bytree': 0.24651774470910492}. Best is trial 49 with value: 0.037242825271900086.\n"
     ]
    },
    {
     "name": "stdout",
     "output_type": "stream",
     "text": [
      "MAPE: 0.0834004397317548\n"
     ]
    },
    {
     "name": "stderr",
     "output_type": "stream",
     "text": [
      "[I 2023-07-19 23:10:34,255] Trial 586 finished with value: 0.061591441687067504 and parameters: {'max_depth': 10, 'eta': 0.8185676666209476, 'gamma': 0.11619660963976888, 'subsample': 0.6057244899285872, 'colsample_bytree': 0.4625958339928716}. Best is trial 49 with value: 0.037242825271900086.\n"
     ]
    },
    {
     "name": "stdout",
     "output_type": "stream",
     "text": [
      "MAPE: 0.061591441687067504\n"
     ]
    },
    {
     "name": "stderr",
     "output_type": "stream",
     "text": [
      "[I 2023-07-19 23:10:34,967] Trial 587 finished with value: 0.08120135712064044 and parameters: {'max_depth': 8, 'eta': 0.23976500000750317, 'gamma': 0.3540834167173983, 'subsample': 0.13222096762470723, 'colsample_bytree': 0.7219370679033886}. Best is trial 49 with value: 0.037242825271900086.\n"
     ]
    },
    {
     "name": "stdout",
     "output_type": "stream",
     "text": [
      "MAPE: 0.08120135712064044\n"
     ]
    },
    {
     "name": "stderr",
     "output_type": "stream",
     "text": [
      "[I 2023-07-19 23:10:36,254] Trial 588 finished with value: 0.5503221200886131 and parameters: {'max_depth': 9, 'eta': 0.056154260541450514, 'gamma': 0.6250174365292563, 'subsample': 0.41225771587425875, 'colsample_bytree': 0.8390151742228735}. Best is trial 49 with value: 0.037242825271900086.\n"
     ]
    },
    {
     "name": "stdout",
     "output_type": "stream",
     "text": [
      "MAPE: 0.5503221200886131\n"
     ]
    },
    {
     "name": "stderr",
     "output_type": "stream",
     "text": [
      "[I 2023-07-19 23:10:37,793] Trial 589 finished with value: 0.044899182325798405 and parameters: {'max_depth': 10, 'eta': 0.6185694416554718, 'gamma': 0.13800849129705214, 'subsample': 0.73917236272204, 'colsample_bytree': 0.6728980802323772}. Best is trial 49 with value: 0.037242825271900086.\n"
     ]
    },
    {
     "name": "stdout",
     "output_type": "stream",
     "text": [
      "MAPE: 0.044899182325798405\n"
     ]
    },
    {
     "name": "stderr",
     "output_type": "stream",
     "text": [
      "[I 2023-07-19 23:10:38,774] Trial 590 finished with value: 0.043718418409490326 and parameters: {'max_depth': 8, 'eta': 0.4470845467887591, 'gamma': 0.7411584569536477, 'subsample': 0.5455201124171115, 'colsample_bytree': 0.6020949823099964}. Best is trial 49 with value: 0.037242825271900086.\n"
     ]
    },
    {
     "name": "stdout",
     "output_type": "stream",
     "text": [
      "MAPE: 0.043718418409490326\n"
     ]
    },
    {
     "name": "stderr",
     "output_type": "stream",
     "text": [
      "[I 2023-07-19 23:10:39,743] Trial 591 finished with value: 0.7302672290931621 and parameters: {'max_depth': 8, 'eta': 0.03011324850812543, 'gamma': 0.7920927629543506, 'subsample': 0.5489552561971317, 'colsample_bytree': 0.5648110800563378}. Best is trial 49 with value: 0.037242825271900086.\n"
     ]
    },
    {
     "name": "stdout",
     "output_type": "stream",
     "text": [
      "MAPE: 0.7302672290931621\n"
     ]
    },
    {
     "name": "stderr",
     "output_type": "stream",
     "text": [
      "[I 2023-07-19 23:10:40,742] Trial 592 finished with value: 0.5166693855933853 and parameters: {'max_depth': 8, 'eta': 0.061964621269971404, 'gamma': 0.4968467983239973, 'subsample': 0.5250625760655072, 'colsample_bytree': 0.5988335750161705}. Best is trial 49 with value: 0.037242825271900086.\n"
     ]
    },
    {
     "name": "stdout",
     "output_type": "stream",
     "text": [
      "MAPE: 0.5166693855933853\n"
     ]
    },
    {
     "name": "stderr",
     "output_type": "stream",
     "text": [
      "[I 2023-07-19 23:10:41,448] Trial 593 finished with value: 0.785053342139479 and parameters: {'max_depth': 8, 'eta': 0.02283887879876217, 'gamma': 0.37987870433820187, 'subsample': 0.5402068520750737, 'colsample_bytree': 0.23315478508730242}. Best is trial 49 with value: 0.037242825271900086.\n"
     ]
    },
    {
     "name": "stdout",
     "output_type": "stream",
     "text": [
      "MAPE: 0.785053342139479\n"
     ]
    },
    {
     "name": "stderr",
     "output_type": "stream",
     "text": [
      "[I 2023-07-19 23:10:42,440] Trial 594 finished with value: 0.08593391316931225 and parameters: {'max_depth': 8, 'eta': 0.22362084179438993, 'gamma': 0.5185621671548823, 'subsample': 0.5119493698761257, 'colsample_bytree': 0.5841050596202737}. Best is trial 49 with value: 0.037242825271900086.\n"
     ]
    },
    {
     "name": "stdout",
     "output_type": "stream",
     "text": [
      "MAPE: 0.08593391316931225\n"
     ]
    },
    {
     "name": "stderr",
     "output_type": "stream",
     "text": [
      "[I 2023-07-19 23:10:43,564] Trial 595 finished with value: 0.7146209526769408 and parameters: {'max_depth': 8, 'eta': 0.031983324965264896, 'gamma': 0.30850603008266714, 'subsample': 0.5616245282595244, 'colsample_bytree': 0.6465586448674631}. Best is trial 49 with value: 0.037242825271900086.\n"
     ]
    },
    {
     "name": "stdout",
     "output_type": "stream",
     "text": [
      "MAPE: 0.7146209526769408\n"
     ]
    },
    {
     "name": "stderr",
     "output_type": "stream",
     "text": [
      "[I 2023-07-19 23:10:44,589] Trial 596 finished with value: 0.06017419555081409 and parameters: {'max_depth': 7, 'eta': 0.3957816758027917, 'gamma': 0.8894237238035037, 'subsample': 0.4679969648560509, 'colsample_bytree': 0.7005754558751115}. Best is trial 49 with value: 0.037242825271900086.\n"
     ]
    },
    {
     "name": "stdout",
     "output_type": "stream",
     "text": [
      "MAPE: 0.06017419555081409\n"
     ]
    },
    {
     "name": "stderr",
     "output_type": "stream",
     "text": [
      "[I 2023-07-19 23:10:45,240] Trial 597 finished with value: 0.05530757242779575 and parameters: {'max_depth': 8, 'eta': 0.43348345395441146, 'gamma': 0.8452605633994345, 'subsample': 0.23486662355826687, 'colsample_bytree': 0.5357416146818592}. Best is trial 49 with value: 0.037242825271900086.\n"
     ]
    },
    {
     "name": "stdout",
     "output_type": "stream",
     "text": [
      "MAPE: 0.05530757242779575\n"
     ]
    },
    {
     "name": "stderr",
     "output_type": "stream",
     "text": [
      "[I 2023-07-19 23:10:45,514] Trial 598 finished with value: 0.08132465744223087 and parameters: {'max_depth': 2, 'eta': 0.7294711073962704, 'gamma': 0.23554091006624117, 'subsample': 0.4503026819182564, 'colsample_bytree': 0.3601665983660714}. Best is trial 49 with value: 0.037242825271900086.\n"
     ]
    },
    {
     "name": "stdout",
     "output_type": "stream",
     "text": [
      "MAPE: 0.08132465744223087\n"
     ]
    },
    {
     "name": "stderr",
     "output_type": "stream",
     "text": [
      "[I 2023-07-19 23:10:46,358] Trial 599 finished with value: 0.0681326605653647 and parameters: {'max_depth': 8, 'eta': 0.3292238343740119, 'gamma': 0.553226283779711, 'subsample': 0.5259035512071473, 'colsample_bytree': 0.4365984376092798}. Best is trial 49 with value: 0.037242825271900086.\n"
     ]
    },
    {
     "name": "stdout",
     "output_type": "stream",
     "text": [
      "MAPE: 0.0681326605653647\n"
     ]
    },
    {
     "name": "stderr",
     "output_type": "stream",
     "text": [
      "[I 2023-07-19 23:10:47,020] Trial 600 finished with value: 0.055979664095296484 and parameters: {'max_depth': 8, 'eta': 0.5395346061550469, 'gamma': 0.3459921112538047, 'subsample': 0.16759993364006665, 'colsample_bytree': 0.6009547597562118}. Best is trial 49 with value: 0.037242825271900086.\n"
     ]
    },
    {
     "name": "stdout",
     "output_type": "stream",
     "text": [
      "MAPE: 0.055979664095296484\n"
     ]
    },
    {
     "name": "stderr",
     "output_type": "stream",
     "text": [
      "[I 2023-07-19 23:10:48,114] Trial 601 finished with value: 0.569440217119914 and parameters: {'max_depth': 8, 'eta': 0.05288702269375537, 'gamma': 0.013735736694019996, 'subsample': 0.48883324550251583, 'colsample_bytree': 0.6254114868110072}. Best is trial 49 with value: 0.037242825271900086.\n"
     ]
    },
    {
     "name": "stdout",
     "output_type": "stream",
     "text": [
      "MAPE: 0.569440217119914\n"
     ]
    },
    {
     "name": "stderr",
     "output_type": "stream",
     "text": [
      "[I 2023-07-19 23:10:49,073] Trial 602 finished with value: 0.43817814923944437 and parameters: {'max_depth': 8, 'eta': 0.07689533096410586, 'gamma': 0.9281831663404804, 'subsample': 0.7207789442683648, 'colsample_bytree': 0.5504867300273817}. Best is trial 49 with value: 0.037242825271900086.\n"
     ]
    },
    {
     "name": "stdout",
     "output_type": "stream",
     "text": [
      "MAPE: 0.43817814923944437\n"
     ]
    },
    {
     "name": "stderr",
     "output_type": "stream",
     "text": [
      "[I 2023-07-19 23:10:49,603] Trial 603 finished with value: 0.07165242672194556 and parameters: {'max_depth': 4, 'eta': 0.6918828334128941, 'gamma': 0.6390711311661278, 'subsample': 0.569167705054026, 'colsample_bytree': 0.5772118939885977}. Best is trial 49 with value: 0.037242825271900086.\n"
     ]
    },
    {
     "name": "stdout",
     "output_type": "stream",
     "text": [
      "MAPE: 0.07165242672194556\n"
     ]
    },
    {
     "name": "stderr",
     "output_type": "stream",
     "text": [
      "[I 2023-07-19 23:10:50,798] Trial 604 finished with value: 0.856993028225507 and parameters: {'max_depth': 9, 'eta': 0.014922303540138977, 'gamma': 0.6114502205577516, 'subsample': 0.5039518282131877, 'colsample_bytree': 0.6690914948763862}. Best is trial 49 with value: 0.037242825271900086.\n"
     ]
    },
    {
     "name": "stdout",
     "output_type": "stream",
     "text": [
      "MAPE: 0.856993028225507\n"
     ]
    },
    {
     "name": "stderr",
     "output_type": "stream",
     "text": [
      "[I 2023-07-19 23:10:51,545] Trial 605 finished with value: 0.08592240776842962 and parameters: {'max_depth': 7, 'eta': 0.9054603655569298, 'gamma': 0.7198711558763694, 'subsample': 0.547829191583515, 'colsample_bytree': 0.2793257909178472}. Best is trial 49 with value: 0.037242825271900086.\n"
     ]
    },
    {
     "name": "stdout",
     "output_type": "stream",
     "text": [
      "MAPE: 0.08592240776842962\n"
     ]
    },
    {
     "name": "stderr",
     "output_type": "stream",
     "text": [
      "[I 2023-07-19 23:10:52,615] Trial 606 finished with value: 0.05043796596375669 and parameters: {'max_depth': 8, 'eta': 0.4605471410703297, 'gamma': 0.7458132652198114, 'subsample': 0.3425632046381171, 'colsample_bytree': 0.9221179081631402}. Best is trial 49 with value: 0.037242825271900086.\n"
     ]
    },
    {
     "name": "stdout",
     "output_type": "stream",
     "text": [
      "MAPE: 0.05043796596375669\n"
     ]
    },
    {
     "name": "stderr",
     "output_type": "stream",
     "text": [
      "[I 2023-07-19 23:10:53,669] Trial 607 finished with value: 0.23666094402096063 and parameters: {'max_depth': 8, 'eta': 0.1277697494323662, 'gamma': 0.7047804839917859, 'subsample': 0.4208372752647588, 'colsample_bytree': 0.6430450003579752}. Best is trial 49 with value: 0.037242825271900086.\n"
     ]
    },
    {
     "name": "stdout",
     "output_type": "stream",
     "text": [
      "MAPE: 0.23666094402096063\n"
     ]
    },
    {
     "name": "stderr",
     "output_type": "stream",
     "text": [
      "[I 2023-07-19 23:10:55,079] Trial 608 finished with value: 0.0446132079874451 and parameters: {'max_depth': 8, 'eta': 0.6204330112880652, 'gamma': 0.6463002071995432, 'subsample': 0.827733759427336, 'colsample_bytree': 0.9429920550356259}. Best is trial 49 with value: 0.037242825271900086.\n"
     ]
    },
    {
     "name": "stdout",
     "output_type": "stream",
     "text": [
      "MAPE: 0.0446132079874451\n"
     ]
    },
    {
     "name": "stderr",
     "output_type": "stream",
     "text": [
      "[I 2023-07-19 23:10:55,938] Trial 609 finished with value: 0.05542074837351768 and parameters: {'max_depth': 9, 'eta': 0.3649417155998411, 'gamma': 0.28397700880680327, 'subsample': 0.2842588979164255, 'colsample_bytree': 0.6128500743479863}. Best is trial 49 with value: 0.037242825271900086.\n"
     ]
    },
    {
     "name": "stdout",
     "output_type": "stream",
     "text": [
      "MAPE: 0.05542074837351768\n"
     ]
    },
    {
     "name": "stderr",
     "output_type": "stream",
     "text": [
      "[I 2023-07-19 23:10:57,099] Trial 610 finished with value: 0.04964187869230543 and parameters: {'max_depth': 8, 'eta': 0.7928062278107445, 'gamma': 0.331801663640056, 'subsample': 0.400453914098953, 'colsample_bytree': 0.7846773414105224}. Best is trial 49 with value: 0.037242825271900086.\n"
     ]
    },
    {
     "name": "stdout",
     "output_type": "stream",
     "text": [
      "MAPE: 0.04964187869230543\n"
     ]
    },
    {
     "name": "stderr",
     "output_type": "stream",
     "text": [
      "[I 2023-07-19 23:10:57,337] Trial 611 finished with value: 0.4551119662898589 and parameters: {'max_depth': 1, 'eta': 0.0718537019603225, 'gamma': 0.5659053386042383, 'subsample': 0.5858661168395992, 'colsample_bytree': 0.663662324091432}. Best is trial 49 with value: 0.037242825271900086.\n"
     ]
    },
    {
     "name": "stdout",
     "output_type": "stream",
     "text": [
      "MAPE: 0.4551119662898589\n"
     ]
    },
    {
     "name": "stderr",
     "output_type": "stream",
     "text": [
      "[I 2023-07-19 23:10:58,147] Trial 612 finished with value: 0.500764974005708 and parameters: {'max_depth': 8, 'eta': 0.06423217558582749, 'gamma': 0.918721456008357, 'subsample': 0.2688138202992493, 'colsample_bytree': 0.6855869352563345}. Best is trial 49 with value: 0.037242825271900086.\n"
     ]
    },
    {
     "name": "stdout",
     "output_type": "stream",
     "text": [
      "MAPE: 0.500764974005708\n"
     ]
    },
    {
     "name": "stderr",
     "output_type": "stream",
     "text": [
      "[I 2023-07-19 23:10:59,522] Trial 613 finished with value: 0.05077222354998394 and parameters: {'max_depth': 10, 'eta': 0.5721473049526893, 'gamma': 0.9804575717894622, 'subsample': 0.4466746182456345, 'colsample_bytree': 0.6325637030217491}. Best is trial 49 with value: 0.037242825271900086.\n"
     ]
    },
    {
     "name": "stdout",
     "output_type": "stream",
     "text": [
      "MAPE: 0.05077222354998394\n"
     ]
    },
    {
     "name": "stderr",
     "output_type": "stream",
     "text": [
      "[I 2023-07-19 23:11:00,715] Trial 614 finished with value: 0.05008088062881639 and parameters: {'max_depth': 9, 'eta': 0.5117301203010342, 'gamma': 0.5935948150490626, 'subsample': 0.36965803119561835, 'colsample_bytree': 0.711274853867201}. Best is trial 49 with value: 0.037242825271900086.\n"
     ]
    },
    {
     "name": "stdout",
     "output_type": "stream",
     "text": [
      "MAPE: 0.05008088062881639\n"
     ]
    },
    {
     "name": "stderr",
     "output_type": "stream",
     "text": [
      "[I 2023-07-19 23:11:02,049] Trial 615 finished with value: 0.05826956074138195 and parameters: {'max_depth': 10, 'eta': 0.66256052683869, 'gamma': 0.21127978056865532, 'subsample': 0.53158506061294, 'colsample_bytree': 0.562678880534831}. Best is trial 49 with value: 0.037242825271900086.\n"
     ]
    },
    {
     "name": "stdout",
     "output_type": "stream",
     "text": [
      "MAPE: 0.05826956074138195\n"
     ]
    },
    {
     "name": "stderr",
     "output_type": "stream",
     "text": [
      "[I 2023-07-19 23:11:02,973] Trial 616 finished with value: 0.3163603521263127 and parameters: {'max_depth': 7, 'eta': 0.103896171504342, 'gamma': 0.7141883602913369, 'subsample': 0.6928255912505658, 'colsample_bytree': 0.5945518964028542}. Best is trial 49 with value: 0.037242825271900086.\n"
     ]
    },
    {
     "name": "stdout",
     "output_type": "stream",
     "text": [
      "MAPE: 0.3163603521263127\n"
     ]
    },
    {
     "name": "stderr",
     "output_type": "stream",
     "text": [
      "[I 2023-07-19 23:11:03,604] Trial 617 finished with value: 0.05936519302378813 and parameters: {'max_depth': 8, 'eta': 0.40917874570186513, 'gamma': 0.802912207141591, 'subsample': 0.1015341707451547, 'colsample_bytree': 0.6527202939031523}. Best is trial 49 with value: 0.037242825271900086.\n"
     ]
    },
    {
     "name": "stdout",
     "output_type": "stream",
     "text": [
      "MAPE: 0.05936519302378813\n"
     ]
    },
    {
     "name": "stderr",
     "output_type": "stream",
     "text": [
      "[I 2023-07-19 23:11:04,554] Trial 618 finished with value: 0.07791988311576793 and parameters: {'max_depth': 10, 'eta': 0.45748557998489797, 'gamma': 0.3917904468190675, 'subsample': 0.7550216859796819, 'colsample_bytree': 0.1956856373520533}. Best is trial 49 with value: 0.037242825271900086.\n"
     ]
    },
    {
     "name": "stdout",
     "output_type": "stream",
     "text": [
      "MAPE: 0.07791988311576793\n"
     ]
    },
    {
     "name": "stderr",
     "output_type": "stream",
     "text": [
      "[I 2023-07-19 23:11:05,817] Trial 619 finished with value: 0.057836261959781886 and parameters: {'max_depth': 10, 'eta': 0.27709935350345005, 'gamma': 0.0825340914640444, 'subsample': 0.5103070313740316, 'colsample_bytree': 0.6160143300881045}. Best is trial 49 with value: 0.037242825271900086.\n"
     ]
    },
    {
     "name": "stdout",
     "output_type": "stream",
     "text": [
      "MAPE: 0.057836261959781886\n"
     ]
    },
    {
     "name": "stderr",
     "output_type": "stream",
     "text": [
      "[I 2023-07-19 23:11:06,881] Trial 620 finished with value: 0.05511854450757575 and parameters: {'max_depth': 8, 'eta': 0.543108642218444, 'gamma': 0.05371191540406362, 'subsample': 0.7950384743694583, 'colsample_bytree': 0.5784534281040388}. Best is trial 49 with value: 0.037242825271900086.\n"
     ]
    },
    {
     "name": "stdout",
     "output_type": "stream",
     "text": [
      "MAPE: 0.05511854450757575\n"
     ]
    },
    {
     "name": "stderr",
     "output_type": "stream",
     "text": [
      "[I 2023-07-19 23:11:07,944] Trial 621 finished with value: 0.6850933963380477 and parameters: {'max_depth': 9, 'eta': 0.03602442417031652, 'gamma': 0.43345695370849013, 'subsample': 0.38796017736416816, 'colsample_bytree': 0.6775121177320982}. Best is trial 49 with value: 0.037242825271900086.\n"
     ]
    },
    {
     "name": "stdout",
     "output_type": "stream",
     "text": [
      "MAPE: 0.6850933963380477\n"
     ]
    },
    {
     "name": "stderr",
     "output_type": "stream",
     "text": [
      "[I 2023-07-19 23:11:08,507] Trial 622 finished with value: 0.5986129302615208 and parameters: {'max_depth': 10, 'eta': 0.04876608248302974, 'gamma': 0.9988063603870166, 'subsample': 0.14551825270847973, 'colsample_bytree': 0.4976487951996611}. Best is trial 49 with value: 0.037242825271900086.\n"
     ]
    },
    {
     "name": "stdout",
     "output_type": "stream",
     "text": [
      "MAPE: 0.5986129302615208\n"
     ]
    },
    {
     "name": "stderr",
     "output_type": "stream",
     "text": [
      "[I 2023-07-19 23:11:10,114] Trial 623 finished with value: 0.04493377609624341 and parameters: {'max_depth': 10, 'eta': 0.6021397039998116, 'gamma': 0.4446583985172478, 'subsample': 0.9021937858679202, 'colsample_bytree': 0.6356276292333526}. Best is trial 49 with value: 0.037242825271900086.\n"
     ]
    },
    {
     "name": "stdout",
     "output_type": "stream",
     "text": [
      "MAPE: 0.04493377609624341\n"
     ]
    },
    {
     "name": "stderr",
     "output_type": "stream",
     "text": [
      "[I 2023-07-19 23:11:11,626] Trial 624 finished with value: 0.05348826610100051 and parameters: {'max_depth': 10, 'eta': 0.7225702295367571, 'gamma': 0.010822024004035487, 'subsample': 0.468382408276961, 'colsample_bytree': 0.7422654295179929}. Best is trial 49 with value: 0.037242825271900086.\n"
     ]
    },
    {
     "name": "stdout",
     "output_type": "stream",
     "text": [
      "MAPE: 0.05348826610100051\n"
     ]
    },
    {
     "name": "stderr",
     "output_type": "stream",
     "text": [
      "[I 2023-07-19 23:11:12,920] Trial 625 finished with value: 0.050340087847998934 and parameters: {'max_depth': 8, 'eta': 0.4871463409759328, 'gamma': 0.09740713426448741, 'subsample': 0.5511370782726662, 'colsample_bytree': 0.8527027162132373}. Best is trial 49 with value: 0.037242825271900086.\n"
     ]
    },
    {
     "name": "stdout",
     "output_type": "stream",
     "text": [
      "MAPE: 0.050340087847998934\n"
     ]
    },
    {
     "name": "stderr",
     "output_type": "stream",
     "text": [
      "[I 2023-07-19 23:11:13,683] Trial 626 finished with value: 0.17108140243291411 and parameters: {'max_depth': 5, 'eta': 0.15824638348836353, 'gamma': 0.7716076888752419, 'subsample': 0.47960258178707393, 'colsample_bytree': 0.8068916502121759}. Best is trial 49 with value: 0.037242825271900086.\n"
     ]
    },
    {
     "name": "stdout",
     "output_type": "stream",
     "text": [
      "MAPE: 0.17108140243291411\n"
     ]
    },
    {
     "name": "stderr",
     "output_type": "stream",
     "text": [
      "[I 2023-07-19 23:11:14,841] Trial 627 finished with value: 0.050906442753048745 and parameters: {'max_depth': 8, 'eta': 0.6612238425437039, 'gamma': 0.034546668371712, 'subsample': 0.4939999384422561, 'colsample_bytree': 0.6548451878505925}. Best is trial 49 with value: 0.037242825271900086.\n"
     ]
    },
    {
     "name": "stdout",
     "output_type": "stream",
     "text": [
      "MAPE: 0.050906442753048745\n"
     ]
    },
    {
     "name": "stderr",
     "output_type": "stream",
     "text": [
      "[I 2023-07-19 23:11:15,524] Trial 628 finished with value: 0.20609709905069237 and parameters: {'max_depth': 10, 'eta': 0.13593555558013054, 'gamma': 0.2674698859078737, 'subsample': 0.2541900710899119, 'colsample_bytree': 0.3339800806271241}. Best is trial 49 with value: 0.037242825271900086.\n"
     ]
    },
    {
     "name": "stdout",
     "output_type": "stream",
     "text": [
      "MAPE: 0.20609709905069237\n"
     ]
    },
    {
     "name": "stderr",
     "output_type": "stream",
     "text": [
      "[I 2023-07-19 23:11:16,645] Trial 629 finished with value: 0.704506041978128 and parameters: {'max_depth': 9, 'eta': 0.03346144050902557, 'gamma': 0.07316185272544928, 'subsample': 0.579137191571151, 'colsample_bytree': 0.6119383434397183}. Best is trial 49 with value: 0.037242825271900086.\n"
     ]
    },
    {
     "name": "stdout",
     "output_type": "stream",
     "text": [
      "MAPE: 0.704506041978128\n"
     ]
    },
    {
     "name": "stderr",
     "output_type": "stream",
     "text": [
      "[I 2023-07-19 23:11:17,403] Trial 630 finished with value: 0.651953777354562 and parameters: {'max_depth': 10, 'eta': 0.04082792230740596, 'gamma': 0.05899761479802002, 'subsample': 0.2285985808703147, 'colsample_bytree': 0.6007270224932589}. Best is trial 49 with value: 0.037242825271900086.\n"
     ]
    },
    {
     "name": "stdout",
     "output_type": "stream",
     "text": [
      "MAPE: 0.651953777354562\n"
     ]
    },
    {
     "name": "stderr",
     "output_type": "stream",
     "text": [
      "[I 2023-07-19 23:11:18,558] Trial 631 finished with value: 0.1279175539193769 and parameters: {'max_depth': 7, 'eta': 0.18928723142761497, 'gamma': 0.1851819824258914, 'subsample': 0.6724736691646287, 'colsample_bytree': 0.9593448693875206}. Best is trial 49 with value: 0.037242825271900086.\n"
     ]
    },
    {
     "name": "stdout",
     "output_type": "stream",
     "text": [
      "MAPE: 0.1279175539193769\n"
     ]
    },
    {
     "name": "stderr",
     "output_type": "stream",
     "text": [
      "[I 2023-07-19 23:11:20,213] Trial 632 finished with value: 0.056270131918710574 and parameters: {'max_depth': 10, 'eta': 0.9181422396566663, 'gamma': 0.026767616510543293, 'subsample': 0.5258553096417876, 'colsample_bytree': 0.6996800704766448}. Best is trial 49 with value: 0.037242825271900086.\n"
     ]
    },
    {
     "name": "stdout",
     "output_type": "stream",
     "text": [
      "MAPE: 0.056270131918710574\n"
     ]
    },
    {
     "name": "stderr",
     "output_type": "stream",
     "text": [
      "[I 2023-07-19 23:11:21,217] Trial 633 finished with value: 0.7910893257443542 and parameters: {'max_depth': 8, 'eta': 0.022439299295048697, 'gamma': 0.015008857279964741, 'subsample': 0.4288896404798821, 'colsample_bytree': 0.630041689458303}. Best is trial 49 with value: 0.037242825271900086.\n"
     ]
    },
    {
     "name": "stdout",
     "output_type": "stream",
     "text": [
      "MAPE: 0.7910893257443542\n"
     ]
    },
    {
     "name": "stderr",
     "output_type": "stream",
     "text": [
      "[I 2023-07-19 23:11:22,071] Trial 634 finished with value: 0.19988765781168502 and parameters: {'max_depth': 10, 'eta': 0.14360257516130487, 'gamma': 0.022438620233899087, 'subsample': 0.17796512642401008, 'colsample_bytree': 0.6672756277945988}. Best is trial 49 with value: 0.037242825271900086.\n"
     ]
    },
    {
     "name": "stdout",
     "output_type": "stream",
     "text": [
      "MAPE: 0.19988765781168502\n"
     ]
    },
    {
     "name": "stderr",
     "output_type": "stream",
     "text": [
      "[I 2023-07-19 23:11:23,100] Trial 635 finished with value: 0.0534984861024508 and parameters: {'max_depth': 8, 'eta': 0.5764643739058971, 'gamma': 0.47217499550153336, 'subsample': 0.5642906259140885, 'colsample_bytree': 0.5845434433056977}. Best is trial 49 with value: 0.037242825271900086.\n"
     ]
    },
    {
     "name": "stdout",
     "output_type": "stream",
     "text": [
      "MAPE: 0.0534984861024508\n"
     ]
    },
    {
     "name": "stderr",
     "output_type": "stream",
     "text": [
      "[I 2023-07-19 23:11:23,557] Trial 636 finished with value: 0.07325905374525198 and parameters: {'max_depth': 9, 'eta': 0.4394161251814368, 'gamma': 0.019547507579528257, 'subsample': 0.19750474150085037, 'colsample_bytree': 0.17292271024540462}. Best is trial 49 with value: 0.037242825271900086.\n"
     ]
    },
    {
     "name": "stdout",
     "output_type": "stream",
     "text": [
      "MAPE: 0.07325905374525198\n"
     ]
    },
    {
     "name": "stderr",
     "output_type": "stream",
     "text": [
      "[I 2023-07-19 23:11:24,718] Trial 637 finished with value: 0.7644060192365894 and parameters: {'max_depth': 10, 'eta': 0.025963064159286706, 'gamma': 0.2373095581680142, 'subsample': 0.7785594706127097, 'colsample_bytree': 0.5172767322434603}. Best is trial 49 with value: 0.037242825271900086.\n"
     ]
    },
    {
     "name": "stdout",
     "output_type": "stream",
     "text": [
      "MAPE: 0.7644060192365894\n"
     ]
    },
    {
     "name": "stderr",
     "output_type": "stream",
     "text": [
      "[I 2023-07-19 23:11:25,584] Trial 638 finished with value: 0.1073940177614447 and parameters: {'max_depth': 10, 'eta': 0.2017375347049845, 'gamma': 0.04133051505143474, 'subsample': 0.5987093834733348, 'colsample_bytree': 0.2108500278441457}. Best is trial 49 with value: 0.037242825271900086.\n"
     ]
    },
    {
     "name": "stdout",
     "output_type": "stream",
     "text": [
      "MAPE: 0.1073940177614447\n"
     ]
    },
    {
     "name": "stderr",
     "output_type": "stream",
     "text": [
      "[I 2023-07-19 23:11:26,439] Trial 639 finished with value: 0.07343617000375195 and parameters: {'max_depth': 10, 'eta': 0.7822603166042433, 'gamma': 0.29393262809607457, 'subsample': 0.29938386174034454, 'colsample_bytree': 0.39560257032643986}. Best is trial 49 with value: 0.037242825271900086.\n"
     ]
    },
    {
     "name": "stdout",
     "output_type": "stream",
     "text": [
      "MAPE: 0.07343617000375195\n"
     ]
    },
    {
     "name": "stderr",
     "output_type": "stream",
     "text": [
      "[I 2023-07-19 23:11:27,223] Trial 640 finished with value: 0.3806260007296958 and parameters: {'max_depth': 8, 'eta': 0.08903553790013939, 'gamma': 0.017606259748283767, 'subsample': 0.4082579003469753, 'colsample_bytree': 0.48088999321030806}. Best is trial 49 with value: 0.037242825271900086.\n"
     ]
    },
    {
     "name": "stdout",
     "output_type": "stream",
     "text": [
      "MAPE: 0.3806260007296958\n"
     ]
    },
    {
     "name": "stderr",
     "output_type": "stream",
     "text": [
      "[I 2023-07-19 23:11:27,912] Trial 641 finished with value: 0.8749048603207913 and parameters: {'max_depth': 10, 'eta': 0.012961617668610665, 'gamma': 0.1703938720542786, 'subsample': 0.22184925714801823, 'colsample_bytree': 0.5583518060342352}. Best is trial 49 with value: 0.037242825271900086.\n"
     ]
    },
    {
     "name": "stdout",
     "output_type": "stream",
     "text": [
      "MAPE: 0.8749048603207913\n"
     ]
    },
    {
     "name": "stderr",
     "output_type": "stream",
     "text": [
      "[I 2023-07-19 23:11:29,032] Trial 642 finished with value: 0.07323381038247011 and parameters: {'max_depth': 10, 'eta': 0.5124030721648186, 'gamma': 0.10821730621067996, 'subsample': 0.8146186316153051, 'colsample_bytree': 0.3558720097533308}. Best is trial 49 with value: 0.037242825271900086.\n"
     ]
    },
    {
     "name": "stdout",
     "output_type": "stream",
     "text": [
      "MAPE: 0.07323381038247011\n"
     ]
    },
    {
     "name": "stderr",
     "output_type": "stream",
     "text": [
      "[I 2023-07-19 23:11:29,974] Trial 643 finished with value: 0.049366995351074625 and parameters: {'max_depth': 8, 'eta': 0.6330207953317034, 'gamma': 0.5359218933825588, 'subsample': 0.3374978583483359, 'colsample_bytree': 0.6434603957332776}. Best is trial 49 with value: 0.037242825271900086.\n"
     ]
    },
    {
     "name": "stdout",
     "output_type": "stream",
     "text": [
      "MAPE: 0.049366995351074625\n"
     ]
    },
    {
     "name": "stderr",
     "output_type": "stream",
     "text": [
      "[I 2023-07-19 23:11:31,211] Trial 644 finished with value: 0.06116075287009869 and parameters: {'max_depth': 10, 'eta': 0.34976604619628643, 'gamma': 0.013863567793451773, 'subsample': 0.32354452253812993, 'colsample_bytree': 0.6889036728363593}. Best is trial 49 with value: 0.037242825271900086.\n"
     ]
    },
    {
     "name": "stdout",
     "output_type": "stream",
     "text": [
      "MAPE: 0.06116075287009869\n"
     ]
    },
    {
     "name": "stderr",
     "output_type": "stream",
     "text": [
      "[I 2023-07-19 23:11:31,921] Trial 645 finished with value: 0.06531405062128967 and parameters: {'max_depth': 6, 'eta': 0.5499601334585318, 'gamma': 0.011807764369039093, 'subsample': 0.5402184768727292, 'colsample_bytree': 0.5402010971648075}. Best is trial 49 with value: 0.037242825271900086.\n"
     ]
    },
    {
     "name": "stdout",
     "output_type": "stream",
     "text": [
      "MAPE: 0.06531405062128967\n"
     ]
    },
    {
     "name": "stderr",
     "output_type": "stream",
     "text": [
      "[I 2023-07-19 23:11:32,588] Trial 646 finished with value: 0.07297866790989417 and parameters: {'max_depth': 9, 'eta': 0.40906490211996294, 'gamma': 0.8628033769768506, 'subsample': 0.7331942050839702, 'colsample_bytree': 0.17027571051546997}. Best is trial 49 with value: 0.037242825271900086.\n"
     ]
    },
    {
     "name": "stdout",
     "output_type": "stream",
     "text": [
      "MAPE: 0.07297866790989417\n"
     ]
    },
    {
     "name": "stderr",
     "output_type": "stream",
     "text": [
      "[I 2023-07-19 23:11:33,462] Trial 647 finished with value: 0.05143824901292665 and parameters: {'max_depth': 8, 'eta': 0.7050958522049113, 'gamma': 0.049306462806934036, 'subsample': 0.3640088074604156, 'colsample_bytree': 0.6202544661251639}. Best is trial 49 with value: 0.037242825271900086.\n"
     ]
    },
    {
     "name": "stdout",
     "output_type": "stream",
     "text": [
      "MAPE: 0.05143824901292665\n"
     ]
    },
    {
     "name": "stderr",
     "output_type": "stream",
     "text": [
      "[I 2023-07-19 23:11:34,836] Trial 648 finished with value: 0.2705946765593424 and parameters: {'max_depth': 10, 'eta': 0.11764595599360528, 'gamma': 0.20368232747829684, 'subsample': 0.5121537706634278, 'colsample_bytree': 0.6555207583333911}. Best is trial 49 with value: 0.037242825271900086.\n"
     ]
    },
    {
     "name": "stdout",
     "output_type": "stream",
     "text": [
      "MAPE: 0.2705946765593424\n"
     ]
    },
    {
     "name": "stderr",
     "output_type": "stream",
     "text": [
      "[I 2023-07-19 23:11:35,270] Trial 649 finished with value: 0.07665383307616863 and parameters: {'max_depth': 10, 'eta': 0.27313546085724716, 'gamma': 0.030738239034002728, 'subsample': 0.16028244982673215, 'colsample_bytree': 0.15379712524922612}. Best is trial 49 with value: 0.037242825271900086.\n"
     ]
    },
    {
     "name": "stdout",
     "output_type": "stream",
     "text": [
      "MAPE: 0.07665383307616863\n"
     ]
    },
    {
     "name": "stderr",
     "output_type": "stream",
     "text": [
      "[I 2023-07-19 23:11:36,069] Trial 650 finished with value: 0.0564947125315171 and parameters: {'max_depth': 8, 'eta': 0.4686561371464409, 'gamma': 0.3196614993981984, 'subsample': 0.312359747839607, 'colsample_bytree': 0.5947482396360239}. Best is trial 49 with value: 0.037242825271900086.\n"
     ]
    },
    {
     "name": "stdout",
     "output_type": "stream",
     "text": [
      "MAPE: 0.0564947125315171\n"
     ]
    },
    {
     "name": "stderr",
     "output_type": "stream",
     "text": [
      "[I 2023-07-19 23:11:36,999] Trial 651 finished with value: 0.07349238314323452 and parameters: {'max_depth': 9, 'eta': 0.8500490930073233, 'gamma': 0.687847151103561, 'subsample': 0.3843964118544777, 'colsample_bytree': 0.44942507729641357}. Best is trial 49 with value: 0.037242825271900086.\n"
     ]
    },
    {
     "name": "stdout",
     "output_type": "stream",
     "text": [
      "MAPE: 0.07349238314323452\n"
     ]
    },
    {
     "name": "stderr",
     "output_type": "stream",
     "text": [
      "[I 2023-07-19 23:11:38,370] Trial 652 finished with value: 0.046326008828922155 and parameters: {'max_depth': 10, 'eta': 0.5970644982389098, 'gamma': 0.1252251954927973, 'subsample': 0.44949603898085483, 'colsample_bytree': 0.6742262015474129}. Best is trial 49 with value: 0.037242825271900086.\n"
     ]
    },
    {
     "name": "stdout",
     "output_type": "stream",
     "text": [
      "MAPE: 0.046326008828922155\n"
     ]
    },
    {
     "name": "stderr",
     "output_type": "stream",
     "text": [
      "[I 2023-07-19 23:11:39,175] Trial 653 finished with value: 0.6072358391868831 and parameters: {'max_depth': 10, 'eta': 0.04725530999159857, 'gamma': 0.024739132525862708, 'subsample': 0.12414420767614388, 'colsample_bytree': 0.7628346552116883}. Best is trial 49 with value: 0.037242825271900086.\n"
     ]
    },
    {
     "name": "stdout",
     "output_type": "stream",
     "text": [
      "MAPE: 0.6072358391868831\n"
     ]
    },
    {
     "name": "stderr",
     "output_type": "stream",
     "text": [
      "[I 2023-07-19 23:11:40,288] Trial 654 finished with value: 0.05683691473614721 and parameters: {'max_depth': 8, 'eta': 0.523175159132422, 'gamma': 0.15526852763228693, 'subsample': 0.4894816114883816, 'colsample_bytree': 0.6351856324223741}. Best is trial 49 with value: 0.037242825271900086.\n"
     ]
    },
    {
     "name": "stdout",
     "output_type": "stream",
     "text": [
      "MAPE: 0.05683691473614721\n"
     ]
    },
    {
     "name": "stderr",
     "output_type": "stream",
     "text": [
      "[I 2023-07-19 23:11:41,874] Trial 655 finished with value: 0.1411933906509433 and parameters: {'max_depth': 10, 'eta': 0.1747561900575567, 'gamma': 0.09362815598791553, 'subsample': 0.6154611746401311, 'colsample_bytree': 0.714987677619566}. Best is trial 49 with value: 0.037242825271900086.\n"
     ]
    },
    {
     "name": "stdout",
     "output_type": "stream",
     "text": [
      "MAPE: 0.1411933906509433\n"
     ]
    },
    {
     "name": "stderr",
     "output_type": "stream",
     "text": [
      "[I 2023-07-19 23:11:43,159] Trial 656 finished with value: 0.05204499076041873 and parameters: {'max_depth': 10, 'eta': 0.6741311866410924, 'gamma': 0.016571348545213214, 'subsample': 0.4669523060904348, 'colsample_bytree': 0.5716869421087377}. Best is trial 49 with value: 0.037242825271900086.\n"
     ]
    },
    {
     "name": "stdout",
     "output_type": "stream",
     "text": [
      "MAPE: 0.05204499076041873\n"
     ]
    },
    {
     "name": "stderr",
     "output_type": "stream",
     "text": [
      "[I 2023-07-19 23:11:44,283] Trial 657 finished with value: 0.8206298019380452 and parameters: {'max_depth': 9, 'eta': 0.019098058979230243, 'gamma': 0.35603379484296427, 'subsample': 0.5694829674263189, 'colsample_bytree': 0.6088684970510958}. Best is trial 49 with value: 0.037242825271900086.\n"
     ]
    },
    {
     "name": "stdout",
     "output_type": "stream",
     "text": [
      "MAPE: 0.8206298019380452\n"
     ]
    },
    {
     "name": "stderr",
     "output_type": "stream",
     "text": [
      "[I 2023-07-19 23:11:45,533] Trial 658 finished with value: 0.04974561903762565 and parameters: {'max_depth': 8, 'eta': 0.7680479386556188, 'gamma': 0.020614929192448922, 'subsample': 0.6493269364889286, 'colsample_bytree': 0.653638567178642}. Best is trial 49 with value: 0.037242825271900086.\n"
     ]
    },
    {
     "name": "stdout",
     "output_type": "stream",
     "text": [
      "MAPE: 0.04974561903762565\n"
     ]
    },
    {
     "name": "stderr",
     "output_type": "stream",
     "text": [
      "[I 2023-07-19 23:11:46,868] Trial 659 finished with value: 0.04302041703916069 and parameters: {'max_depth': 10, 'eta': 0.48563060823110854, 'gamma': 0.22285160841252696, 'subsample': 0.7564753576484669, 'colsample_bytree': 0.6212835848134972}. Best is trial 49 with value: 0.037242825271900086.\n"
     ]
    },
    {
     "name": "stdout",
     "output_type": "stream",
     "text": [
      "MAPE: 0.04302041703916069\n"
     ]
    },
    {
     "name": "stderr",
     "output_type": "stream",
     "text": [
      "[I 2023-07-19 23:11:48,174] Trial 660 finished with value: 0.05426353929975587 and parameters: {'max_depth': 10, 'eta': 0.3076597223081264, 'gamma': 0.22630955329135866, 'subsample': 0.7640033474419278, 'colsample_bytree': 0.5931983885158414}. Best is trial 49 with value: 0.037242825271900086.\n"
     ]
    },
    {
     "name": "stdout",
     "output_type": "stream",
     "text": [
      "MAPE: 0.05426353929975587\n"
     ]
    },
    {
     "name": "stderr",
     "output_type": "stream",
     "text": [
      "[I 2023-07-19 23:11:49,666] Trial 661 finished with value: 0.05005476348459937 and parameters: {'max_depth': 10, 'eta': 0.38599740754068007, 'gamma': 0.20155103197521498, 'subsample': 0.7848157935681008, 'colsample_bytree': 0.6252813213079534}. Best is trial 49 with value: 0.037242825271900086.\n"
     ]
    },
    {
     "name": "stdout",
     "output_type": "stream",
     "text": [
      "MAPE: 0.05005476348459937\n"
     ]
    },
    {
     "name": "stderr",
     "output_type": "stream",
     "text": [
      "[I 2023-07-19 23:11:51,391] Trial 662 finished with value: 0.1596186511072328 and parameters: {'max_depth': 10, 'eta': 0.16209709037490533, 'gamma': 0.24205132208094254, 'subsample': 0.7566788934461101, 'colsample_bytree': 0.8880844868570557}. Best is trial 49 with value: 0.037242825271900086.\n"
     ]
    },
    {
     "name": "stdout",
     "output_type": "stream",
     "text": [
      "MAPE: 0.1596186511072328\n"
     ]
    },
    {
     "name": "stderr",
     "output_type": "stream",
     "text": [
      "[I 2023-07-19 23:11:52,453] Trial 663 finished with value: 0.08173935979436302 and parameters: {'max_depth': 10, 'eta': 0.5781609378067101, 'gamma': 0.1890730270070333, 'subsample': 0.5269257950142999, 'colsample_bytree': 0.32076580308883784}. Best is trial 49 with value: 0.037242825271900086.\n"
     ]
    },
    {
     "name": "stdout",
     "output_type": "stream",
     "text": [
      "MAPE: 0.08173935979436302\n"
     ]
    },
    {
     "name": "stderr",
     "output_type": "stream",
     "text": [
      "[I 2023-07-19 23:11:54,093] Trial 664 finished with value: 0.051600172821062745 and parameters: {'max_depth': 10, 'eta': 0.4784221301117475, 'gamma': 0.010044587610565417, 'subsample': 0.5062610043014114, 'colsample_bytree': 0.8795873054414591}. Best is trial 49 with value: 0.037242825271900086.\n"
     ]
    },
    {
     "name": "stdout",
     "output_type": "stream",
     "text": [
      "MAPE: 0.051600172821062745\n"
     ]
    },
    {
     "name": "stderr",
     "output_type": "stream",
     "text": [
      "[I 2023-07-19 23:11:55,425] Trial 665 finished with value: 0.04944270279733113 and parameters: {'max_depth': 10, 'eta': 0.4340832025624819, 'gamma': 0.02854614320928166, 'subsample': 0.7133143407156723, 'colsample_bytree': 0.6072708577421035}. Best is trial 49 with value: 0.037242825271900086.\n"
     ]
    },
    {
     "name": "stdout",
     "output_type": "stream",
     "text": [
      "MAPE: 0.04944270279733113\n"
     ]
    },
    {
     "name": "stderr",
     "output_type": "stream",
     "text": [
      "[I 2023-07-19 23:11:56,959] Trial 666 finished with value: 0.05867691688997943 and parameters: {'max_depth': 10, 'eta': 0.9599990743318513, 'gamma': 0.03791585084366756, 'subsample': 0.7543689543357575, 'colsample_bytree': 0.5832854877499778}. Best is trial 49 with value: 0.037242825271900086.\n"
     ]
    },
    {
     "name": "stdout",
     "output_type": "stream",
     "text": [
      "MAPE: 0.05867691688997943\n"
     ]
    },
    {
     "name": "stderr",
     "output_type": "stream",
     "text": [
      "[I 2023-07-19 23:11:58,405] Trial 667 finished with value: 0.054245690195100005 and parameters: {'max_depth': 10, 'eta': 0.62297266151123, 'gamma': 0.39604527089987673, 'subsample': 0.9699112633010607, 'colsample_bytree': 0.6224223954043105}. Best is trial 49 with value: 0.037242825271900086.\n"
     ]
    },
    {
     "name": "stdout",
     "output_type": "stream",
     "text": [
      "MAPE: 0.054245690195100005\n"
     ]
    },
    {
     "name": "stderr",
     "output_type": "stream",
     "text": [
      "[I 2023-07-19 23:11:59,676] Trial 668 finished with value: 0.05847352958981753 and parameters: {'max_depth': 10, 'eta': 0.5235559445399975, 'gamma': 0.25776454277576705, 'subsample': 0.8045902765654868, 'colsample_bytree': 0.5605902707761783}. Best is trial 49 with value: 0.037242825271900086.\n"
     ]
    },
    {
     "name": "stdout",
     "output_type": "stream",
     "text": [
      "MAPE: 0.05847352958981753\n"
     ]
    },
    {
     "name": "stderr",
     "output_type": "stream",
     "text": [
      "[I 2023-07-19 23:12:00,606] Trial 669 finished with value: 0.08194059804367422 and parameters: {'max_depth': 7, 'eta': 0.2522949146413918, 'gamma': 0.06224044322019444, 'subsample': 0.4289545202695829, 'colsample_bytree': 0.640909115018384}. Best is trial 49 with value: 0.037242825271900086.\n"
     ]
    },
    {
     "name": "stdout",
     "output_type": "stream",
     "text": [
      "MAPE: 0.08194059804367422\n"
     ]
    },
    {
     "name": "stderr",
     "output_type": "stream",
     "text": [
      "[I 2023-07-19 23:12:02,328] Trial 670 finished with value: 0.10647529330030593 and parameters: {'max_depth': 10, 'eta': 0.20688232713492719, 'gamma': 0.012692616907600885, 'subsample': 0.7450508243930756, 'colsample_bytree': 0.8657334490019984}. Best is trial 49 with value: 0.037242825271900086.\n"
     ]
    },
    {
     "name": "stdout",
     "output_type": "stream",
     "text": [
      "MAPE: 0.10647529330030593\n"
     ]
    },
    {
     "name": "stderr",
     "output_type": "stream",
     "text": [
      "[I 2023-07-19 23:12:03,253] Trial 671 finished with value: 0.05797636712164867 and parameters: {'max_depth': 10, 'eta': 0.5556210784837711, 'gamma': 0.2198775982163688, 'subsample': 0.27873375628680236, 'colsample_bytree': 0.5225624156889089}. Best is trial 49 with value: 0.037242825271900086.\n"
     ]
    },
    {
     "name": "stdout",
     "output_type": "stream",
     "text": [
      "MAPE: 0.05797636712164867\n"
     ]
    },
    {
     "name": "stderr",
     "output_type": "stream",
     "text": [
      "[I 2023-07-19 23:12:05,065] Trial 672 finished with value: 0.05458090950789361 and parameters: {'max_depth': 10, 'eta': 0.6884734827002129, 'gamma': 0.48196565758757137, 'subsample': 0.7735024922194411, 'colsample_bytree': 0.906392812382348}. Best is trial 49 with value: 0.037242825271900086.\n"
     ]
    },
    {
     "name": "stdout",
     "output_type": "stream",
     "text": [
      "MAPE: 0.05458090950789361\n"
     ]
    },
    {
     "name": "stderr",
     "output_type": "stream",
     "text": [
      "[I 2023-07-19 23:12:05,878] Trial 673 finished with value: 0.636768988699177 and parameters: {'max_depth': 10, 'eta': 0.04209345841323795, 'gamma': 0.7653983360315039, 'subsample': 0.3953725814449549, 'colsample_bytree': 0.35023432677914945}. Best is trial 49 with value: 0.037242825271900086.\n"
     ]
    },
    {
     "name": "stdout",
     "output_type": "stream",
     "text": [
      "MAPE: 0.636768988699177\n"
     ]
    },
    {
     "name": "stderr",
     "output_type": "stream",
     "text": [
      "[I 2023-07-19 23:12:06,697] Trial 674 finished with value: 0.42095334719519145 and parameters: {'max_depth': 10, 'eta': 0.08076359422680451, 'gamma': 0.01868849861236296, 'subsample': 0.24728638472138384, 'colsample_bytree': 0.6054830854359595}. Best is trial 49 with value: 0.037242825271900086.\n"
     ]
    },
    {
     "name": "stdout",
     "output_type": "stream",
     "text": [
      "MAPE: 0.42095334719519145\n"
     ]
    },
    {
     "name": "stderr",
     "output_type": "stream",
     "text": [
      "[I 2023-07-19 23:12:07,469] Trial 675 finished with value: 0.07231468435340348 and parameters: {'max_depth': 10, 'eta': 0.4919738999668637, 'gamma': 0.2766351437047266, 'subsample': 0.7055140377057904, 'colsample_bytree': 0.1832296692875815}. Best is trial 49 with value: 0.037242825271900086.\n"
     ]
    },
    {
     "name": "stdout",
     "output_type": "stream",
     "text": [
      "MAPE: 0.07231468435340348\n"
     ]
    },
    {
     "name": "stderr",
     "output_type": "stream",
     "text": [
      "[I 2023-07-19 23:12:08,913] Trial 676 finished with value: 0.04500663050774796 and parameters: {'max_depth': 10, 'eta': 0.8336721776428578, 'gamma': 0.02218728712239099, 'subsample': 0.7226558225338688, 'colsample_bytree': 0.6236959991584229}. Best is trial 49 with value: 0.037242825271900086.\n"
     ]
    },
    {
     "name": "stdout",
     "output_type": "stream",
     "text": [
      "MAPE: 0.04500663050774796\n"
     ]
    },
    {
     "name": "stderr",
     "output_type": "stream",
     "text": [
      "[I 2023-07-19 23:12:10,522] Trial 677 finished with value: 0.050768183968838934 and parameters: {'max_depth': 10, 'eta': 0.5950087136777016, 'gamma': 0.04684873897760224, 'subsample': 0.4781139859746588, 'colsample_bytree': 0.8615961189298045}. Best is trial 49 with value: 0.037242825271900086.\n"
     ]
    },
    {
     "name": "stdout",
     "output_type": "stream",
     "text": [
      "MAPE: 0.050768183968838934\n"
     ]
    },
    {
     "name": "stderr",
     "output_type": "stream",
     "text": [
      "[I 2023-07-19 23:12:12,144] Trial 678 finished with value: 0.08205929978629833 and parameters: {'max_depth': 10, 'eta': 0.234493560396833, 'gamma': 0.011247526087719893, 'subsample': 0.5495125449510767, 'colsample_bytree': 0.7944259784880605}. Best is trial 49 with value: 0.037242825271900086.\n"
     ]
    },
    {
     "name": "stdout",
     "output_type": "stream",
     "text": [
      "MAPE: 0.08205929978629833\n"
     ]
    },
    {
     "name": "stderr",
     "output_type": "stream",
     "text": [
      "[I 2023-07-19 23:12:13,133] Trial 679 finished with value: 0.05358320866578298 and parameters: {'max_depth': 8, 'eta': 0.7495674417417809, 'gamma': 0.1757390529661303, 'subsample': 0.4525844231468671, 'colsample_bytree': 0.5827200623533298}. Best is trial 49 with value: 0.037242825271900086.\n"
     ]
    },
    {
     "name": "stdout",
     "output_type": "stream",
     "text": [
      "MAPE: 0.05358320866578298\n"
     ]
    },
    {
     "name": "stderr",
     "output_type": "stream",
     "text": [
      "[I 2023-07-19 23:12:14,106] Trial 680 finished with value: 0.07435248352450811 and parameters: {'max_depth': 10, 'eta': 0.6426132547429818, 'gamma': 0.6136491833660758, 'subsample': 0.3504013367313715, 'colsample_bytree': 0.4686410895977295}. Best is trial 49 with value: 0.037242825271900086.\n"
     ]
    },
    {
     "name": "stdout",
     "output_type": "stream",
     "text": [
      "MAPE: 0.07435248352450811\n"
     ]
    },
    {
     "name": "stderr",
     "output_type": "stream",
     "text": [
      "[I 2023-07-19 23:12:14,856] Trial 681 finished with value: 0.07727923853473262 and parameters: {'max_depth': 8, 'eta': 0.43519186681277083, 'gamma': 0.03543991904257493, 'subsample': 0.7362835859960104, 'colsample_bytree': 0.19422371099229752}. Best is trial 49 with value: 0.037242825271900086.\n"
     ]
    },
    {
     "name": "stdout",
     "output_type": "stream",
     "text": [
      "MAPE: 0.07727923853473262\n"
     ]
    },
    {
     "name": "stderr",
     "output_type": "stream",
     "text": [
      "[I 2023-07-19 23:12:15,327] Trial 682 finished with value: 0.0724335735991184 and parameters: {'max_depth': 3, 'eta': 0.5340889599718828, 'gamma': 0.22263705272771223, 'subsample': 0.4973302916248598, 'colsample_bytree': 0.6436386997524686}. Best is trial 49 with value: 0.037242825271900086.\n"
     ]
    },
    {
     "name": "stdout",
     "output_type": "stream",
     "text": [
      "MAPE: 0.0724335735991184\n"
     ]
    },
    {
     "name": "stderr",
     "output_type": "stream",
     "text": [
      "[I 2023-07-19 23:12:16,559] Trial 683 finished with value: 0.30057448797956243 and parameters: {'max_depth': 10, 'eta': 0.11024379139102611, 'gamma': 0.01574591393870312, 'subsample': 0.5365874008944611, 'colsample_bytree': 0.6034272730447415}. Best is trial 49 with value: 0.037242825271900086.\n"
     ]
    },
    {
     "name": "stdout",
     "output_type": "stream",
     "text": [
      "MAPE: 0.30057448797956243\n"
     ]
    },
    {
     "name": "stderr",
     "output_type": "stream",
     "text": [
      "[I 2023-07-19 23:12:17,075] Trial 684 finished with value: 0.0759099082814621 and parameters: {'max_depth': 8, 'eta': 0.327099958206077, 'gamma': 0.24912831780243636, 'subsample': 0.2044591434052844, 'colsample_bytree': 0.2544953683922043}. Best is trial 49 with value: 0.037242825271900086.\n"
     ]
    },
    {
     "name": "stdout",
     "output_type": "stream",
     "text": [
      "MAPE: 0.0759099082814621\n"
     ]
    },
    {
     "name": "stderr",
     "output_type": "stream",
     "text": [
      "[I 2023-07-19 23:12:18,376] Trial 685 finished with value: 0.6973442023487719 and parameters: {'max_depth': 10, 'eta': 0.03444060526572068, 'gamma': 0.0731942582983375, 'subsample': 0.8879853105747966, 'colsample_bytree': 0.5734408924596966}. Best is trial 49 with value: 0.037242825271900086.\n"
     ]
    },
    {
     "name": "stdout",
     "output_type": "stream",
     "text": [
      "MAPE: 0.6973442023487719\n"
     ]
    },
    {
     "name": "stderr",
     "output_type": "stream",
     "text": [
      "[I 2023-07-19 23:12:19,388] Trial 686 finished with value: 0.052568717062267546 and parameters: {'max_depth': 10, 'eta': 0.47853946408687337, 'gamma': 0.08434814464946304, 'subsample': 0.18399293859214358, 'colsample_bytree': 0.7383089647942629}. Best is trial 49 with value: 0.037242825271900086.\n"
     ]
    },
    {
     "name": "stdout",
     "output_type": "stream",
     "text": [
      "MAPE: 0.052568717062267546\n"
     ]
    },
    {
     "name": "stderr",
     "output_type": "stream",
     "text": [
      "[I 2023-07-19 23:12:20,671] Trial 687 finished with value: 0.054988076387848396 and parameters: {'max_depth': 10, 'eta': 0.3743162413781148, 'gamma': 0.01801756323792024, 'subsample': 0.40869852990415306, 'colsample_bytree': 0.6586243152878498}. Best is trial 49 with value: 0.037242825271900086.\n"
     ]
    },
    {
     "name": "stdout",
     "output_type": "stream",
     "text": [
      "MAPE: 0.054988076387848396\n"
     ]
    },
    {
     "name": "stderr",
     "output_type": "stream",
     "text": [
      "[I 2023-07-19 23:12:21,640] Trial 688 finished with value: 0.05690207058747754 and parameters: {'max_depth': 10, 'eta': 0.5694108743122304, 'gamma': 0.024871093119828602, 'subsample': 0.1488062370448026, 'colsample_bytree': 0.6256622187810558}. Best is trial 49 with value: 0.037242825271900086.\n"
     ]
    },
    {
     "name": "stdout",
     "output_type": "stream",
     "text": [
      "MAPE: 0.05690207058747754\n"
     ]
    },
    {
     "name": "stderr",
     "output_type": "stream",
     "text": [
      "[I 2023-07-19 23:12:22,377] Trial 689 finished with value: 0.05874076306275097 and parameters: {'max_depth': 8, 'eta': 0.6367234457751406, 'gamma': 0.0671971148492078, 'subsample': 0.29308010402507734, 'colsample_bytree': 0.3936399804182614}. Best is trial 49 with value: 0.037242825271900086.\n"
     ]
    },
    {
     "name": "stdout",
     "output_type": "stream",
     "text": [
      "MAPE: 0.05874076306275097\n"
     ]
    },
    {
     "name": "stderr",
     "output_type": "stream",
     "text": [
      "[I 2023-07-19 23:12:23,275] Trial 690 finished with value: 0.05852953543222754 and parameters: {'max_depth': 7, 'eta': 0.7205658366690165, 'gamma': 0.19456193076485787, 'subsample': 0.949067778468113, 'colsample_bytree': 0.545050519159074}. Best is trial 49 with value: 0.037242825271900086.\n"
     ]
    },
    {
     "name": "stdout",
     "output_type": "stream",
     "text": [
      "MAPE: 0.05852953543222754\n"
     ]
    },
    {
     "name": "stderr",
     "output_type": "stream",
     "text": [
      "[I 2023-07-19 23:12:24,398] Trial 691 finished with value: 0.057998963246160544 and parameters: {'max_depth': 8, 'eta': 0.5122944934765741, 'gamma': 0.6530183247454181, 'subsample': 0.5176662489292893, 'colsample_bytree': 0.6734182691960906}. Best is trial 49 with value: 0.037242825271900086.\n"
     ]
    },
    {
     "name": "stdout",
     "output_type": "stream",
     "text": [
      "MAPE: 0.057998963246160544\n"
     ]
    },
    {
     "name": "stderr",
     "output_type": "stream",
     "text": [
      "[I 2023-07-19 23:12:25,734] Trial 692 finished with value: 0.05329492322698796 and parameters: {'max_depth': 10, 'eta': 0.4118595317587335, 'gamma': 0.40254858449382885, 'subsample': 0.6819023501595824, 'colsample_bytree': 0.5949751588226668}. Best is trial 49 with value: 0.037242825271900086.\n"
     ]
    },
    {
     "name": "stdout",
     "output_type": "stream",
     "text": [
      "MAPE: 0.05329492322698796\n"
     ]
    },
    {
     "name": "stderr",
     "output_type": "stream",
     "text": [
      "[I 2023-07-19 23:12:26,645] Trial 693 finished with value: 0.055328197842574596 and parameters: {'max_depth': 10, 'eta': 0.9963936659386867, 'gamma': 0.04424774430798743, 'subsample': 0.12346523668969138, 'colsample_bytree': 0.6952594255132883}. Best is trial 49 with value: 0.037242825271900086.\n"
     ]
    },
    {
     "name": "stdout",
     "output_type": "stream",
     "text": [
      "MAPE: 0.055328197842574596\n"
     ]
    },
    {
     "name": "stderr",
     "output_type": "stream",
     "text": [
      "[I 2023-07-19 23:12:27,677] Trial 694 finished with value: 0.6214946352443589 and parameters: {'max_depth': 8, 'eta': 0.04486661160107238, 'gamma': 0.11414661284290042, 'subsample': 0.4378627236965735, 'colsample_bytree': 0.6374535020884461}. Best is trial 49 with value: 0.037242825271900086.\n"
     ]
    },
    {
     "name": "stdout",
     "output_type": "stream",
     "text": [
      "MAPE: 0.6214946352443589\n"
     ]
    },
    {
     "name": "stderr",
     "output_type": "stream",
     "text": [
      "[I 2023-07-19 23:12:28,372] Trial 695 finished with value: 0.8933937412796075 and parameters: {'max_depth': 10, 'eta': 0.010798479541903558, 'gamma': 0.014613637222888446, 'subsample': 0.31042697915626616, 'colsample_bytree': 0.31303096617527804}. Best is trial 49 with value: 0.037242825271900086.\n"
     ]
    },
    {
     "name": "stdout",
     "output_type": "stream",
     "text": [
      "MAPE: 0.8933937412796075\n"
     ]
    },
    {
     "name": "stderr",
     "output_type": "stream",
     "text": [
      "[I 2023-07-19 23:12:29,432] Trial 696 finished with value: 0.0745922650662814 and parameters: {'max_depth': 10, 'eta': 0.2820129131095163, 'gamma': 0.5691079396780022, 'subsample': 0.7885866718488244, 'colsample_bytree': 0.3699947617748939}. Best is trial 49 with value: 0.037242825271900086.\n"
     ]
    },
    {
     "name": "stdout",
     "output_type": "stream",
     "text": [
      "MAPE: 0.0745922650662814\n"
     ]
    },
    {
     "name": "stderr",
     "output_type": "stream",
     "text": [
      "[I 2023-07-19 23:12:30,270] Trial 697 finished with value: 0.829339270892236 and parameters: {'max_depth': 8, 'eta': 0.01801035258625431, 'gamma': 0.10016799690495028, 'subsample': 0.36791117948693064, 'colsample_bytree': 0.6180060734950069}. Best is trial 49 with value: 0.037242825271900086.\n"
     ]
    },
    {
     "name": "stdout",
     "output_type": "stream",
     "text": [
      "MAPE: 0.829339270892236\n"
     ]
    },
    {
     "name": "stderr",
     "output_type": "stream",
     "text": [
      "[I 2023-07-19 23:12:31,778] Trial 698 finished with value: 0.05387110167525881 and parameters: {'max_depth': 10, 'eta': 0.4534303633789666, 'gamma': 0.1470717380176899, 'subsample': 0.8421467987316764, 'colsample_bytree': 0.6558295036706367}. Best is trial 49 with value: 0.037242825271900086.\n"
     ]
    },
    {
     "name": "stdout",
     "output_type": "stream",
     "text": [
      "MAPE: 0.05387110167525881\n"
     ]
    },
    {
     "name": "stderr",
     "output_type": "stream",
     "text": [
      "[I 2023-07-19 23:12:32,648] Trial 699 finished with value: 0.22384976810732987 and parameters: {'max_depth': 9, 'eta': 0.12840068620118097, 'gamma': 0.29985020621664277, 'subsample': 0.5595521187048904, 'colsample_bytree': 0.3056132254245981}. Best is trial 49 with value: 0.037242825271900086.\n"
     ]
    },
    {
     "name": "stdout",
     "output_type": "stream",
     "text": [
      "MAPE: 0.22384976810732987\n"
     ]
    },
    {
     "name": "stderr",
     "output_type": "stream",
     "text": [
      "[I 2023-07-19 23:12:33,542] Trial 700 finished with value: 0.05821578704392993 and parameters: {'max_depth': 10, 'eta': 0.8279874288478141, 'gamma': 0.03059649884519944, 'subsample': 0.2569543397289515, 'colsample_bytree': 0.5617749041723982}. Best is trial 49 with value: 0.037242825271900086.\n"
     ]
    },
    {
     "name": "stdout",
     "output_type": "stream",
     "text": [
      "MAPE: 0.05821578704392993\n"
     ]
    },
    {
     "name": "stderr",
     "output_type": "stream",
     "text": [
      "[I 2023-07-19 23:12:34,827] Trial 701 finished with value: 0.05230395861856539 and parameters: {'max_depth': 10, 'eta': 0.5932913957045928, 'gamma': 0.02142762680460051, 'subsample': 0.48198134705950735, 'colsample_bytree': 0.6073674673661712}. Best is trial 49 with value: 0.037242825271900086.\n"
     ]
    },
    {
     "name": "stdout",
     "output_type": "stream",
     "text": [
      "MAPE: 0.05230395861856539\n"
     ]
    },
    {
     "name": "stderr",
     "output_type": "stream",
     "text": [
      "[I 2023-07-19 23:12:35,927] Trial 702 finished with value: 0.04678724342083995 and parameters: {'max_depth': 8, 'eta': 0.6711138502471464, 'gamma': 0.5166512444900238, 'subsample': 0.46075666523893544, 'colsample_bytree': 0.6811670486220586}. Best is trial 49 with value: 0.037242825271900086.\n"
     ]
    },
    {
     "name": "stdout",
     "output_type": "stream",
     "text": [
      "MAPE: 0.04678724342083995\n"
     ]
    },
    {
     "name": "stderr",
     "output_type": "stream",
     "text": [
      "[I 2023-07-19 23:12:37,650] Trial 703 finished with value: 0.04934010007524888 and parameters: {'max_depth': 10, 'eta': 0.5433164399919985, 'gamma': 0.1690008208448188, 'subsample': 0.6974078124947478, 'colsample_bytree': 0.7769184036273146}. Best is trial 49 with value: 0.037242825271900086.\n"
     ]
    },
    {
     "name": "stdout",
     "output_type": "stream",
     "text": [
      "MAPE: 0.04934010007524888\n"
     ]
    },
    {
     "name": "stderr",
     "output_type": "stream",
     "text": [
      "[I 2023-07-19 23:12:38,781] Trial 704 finished with value: 0.4748561239265034 and parameters: {'max_depth': 8, 'eta': 0.06929724650102484, 'gamma': 0.43666590647538506, 'subsample': 0.4225286476440058, 'colsample_bytree': 0.7255098359476658}. Best is trial 49 with value: 0.037242825271900086.\n"
     ]
    },
    {
     "name": "stdout",
     "output_type": "stream",
     "text": [
      "MAPE: 0.4748561239265034\n"
     ]
    },
    {
     "name": "stderr",
     "output_type": "stream",
     "text": [
      "[I 2023-07-19 23:12:40,135] Trial 705 finished with value: 0.5860381413844956 and parameters: {'max_depth': 10, 'eta': 0.050689862071760114, 'gamma': 0.26489715889695226, 'subsample': 0.5149701195543209, 'colsample_bytree': 0.6409246826494295}. Best is trial 49 with value: 0.037242825271900086.\n"
     ]
    },
    {
     "name": "stdout",
     "output_type": "stream",
     "text": [
      "MAPE: 0.5860381413844956\n"
     ]
    },
    {
     "name": "stderr",
     "output_type": "stream",
     "text": [
      "[I 2023-07-19 23:12:41,064] Trial 706 finished with value: 0.7201132176089837 and parameters: {'max_depth': 9, 'eta': 0.03156153591338457, 'gamma': 0.01249784713794353, 'subsample': 0.5386678941340433, 'colsample_bytree': 0.45982018068567765}. Best is trial 49 with value: 0.037242825271900086.\n"
     ]
    },
    {
     "name": "stdout",
     "output_type": "stream",
     "text": [
      "MAPE: 0.7201132176089837\n"
     ]
    },
    {
     "name": "stderr",
     "output_type": "stream",
     "text": [
      "[I 2023-07-19 23:12:42,577] Trial 707 finished with value: 0.0534040495690862 and parameters: {'max_depth': 10, 'eta': 0.7504822930398085, 'gamma': 0.053583952211915156, 'subsample': 0.9982173343786547, 'colsample_bytree': 0.585333169294622}. Best is trial 49 with value: 0.037242825271900086.\n"
     ]
    },
    {
     "name": "stdout",
     "output_type": "stream",
     "text": [
      "MAPE: 0.0534040495690862\n"
     ]
    },
    {
     "name": "stderr",
     "output_type": "stream",
     "text": [
      "[I 2023-07-19 23:12:43,578] Trial 708 finished with value: 0.050820701749160556 and parameters: {'max_depth': 8, 'eta': 0.49988664431451046, 'gamma': 0.01905147484890168, 'subsample': 0.3768899787353792, 'colsample_bytree': 0.6663084027481395}. Best is trial 49 with value: 0.037242825271900086.\n"
     ]
    },
    {
     "name": "stdout",
     "output_type": "stream",
     "text": [
      "MAPE: 0.050820701749160556\n"
     ]
    },
    {
     "name": "stderr",
     "output_type": "stream",
     "text": [
      "[I 2023-07-19 23:12:44,761] Trial 709 finished with value: 0.8744350236009278 and parameters: {'max_depth': 10, 'eta': 0.0130155677012023, 'gamma': 0.010894378364594498, 'subsample': 0.5779124063826161, 'colsample_bytree': 0.6214050602788387}. Best is trial 49 with value: 0.037242825271900086.\n"
     ]
    },
    {
     "name": "stdout",
     "output_type": "stream",
     "text": [
      "MAPE: 0.8744350236009278\n"
     ]
    },
    {
     "name": "stderr",
     "output_type": "stream",
     "text": [
      "[I 2023-07-19 23:12:45,531] Trial 710 finished with value: 0.34364798285505077 and parameters: {'max_depth': 8, 'eta': 0.09747039216984045, 'gamma': 0.33626959524192745, 'subsample': 0.22308743145990978, 'colsample_bytree': 0.6407190088674307}. Best is trial 49 with value: 0.037242825271900086.\n"
     ]
    },
    {
     "name": "stdout",
     "output_type": "stream",
     "text": [
      "MAPE: 0.34364798285505077\n"
     ]
    },
    {
     "name": "stderr",
     "output_type": "stream",
     "text": [
      "[I 2023-07-19 23:12:46,665] Trial 711 finished with value: 0.06648833178107035 and parameters: {'max_depth': 9, 'eta': 0.5998830845145122, 'gamma': 0.20312537364238897, 'subsample': 0.9376483618382558, 'colsample_bytree': 0.4911929512749527}. Best is trial 49 with value: 0.037242825271900086.\n"
     ]
    },
    {
     "name": "stdout",
     "output_type": "stream",
     "text": [
      "MAPE: 0.06648833178107035\n"
     ]
    },
    {
     "name": "stderr",
     "output_type": "stream",
     "text": [
      "[I 2023-07-19 23:12:48,140] Trial 712 finished with value: 0.43751027111797064 and parameters: {'max_depth': 10, 'eta': 0.07708619772726355, 'gamma': 0.0165373626403363, 'subsample': 0.49855856420956823, 'colsample_bytree': 0.7023818969150958}. Best is trial 49 with value: 0.037242825271900086.\n"
     ]
    },
    {
     "name": "stdout",
     "output_type": "stream",
     "text": [
      "MAPE: 0.43751027111797064\n"
     ]
    },
    {
     "name": "stderr",
     "output_type": "stream",
     "text": [
      "[I 2023-07-19 23:12:49,030] Trial 713 finished with value: 0.40257138677886034 and parameters: {'max_depth': 7, 'eta': 0.08331474859602979, 'gamma': 0.7919467742968682, 'subsample': 0.552636304291657, 'colsample_bytree': 0.598921222729269}. Best is trial 49 with value: 0.037242825271900086.\n"
     ]
    },
    {
     "name": "stdout",
     "output_type": "stream",
     "text": [
      "MAPE: 0.40257138677886034\n"
     ]
    },
    {
     "name": "stderr",
     "output_type": "stream",
     "text": [
      "[I 2023-07-19 23:12:50,135] Trial 714 finished with value: 0.059104274858532896 and parameters: {'max_depth': 10, 'eta': 0.6658911220522844, 'gamma': 0.13393645654726513, 'subsample': 0.3954980095589986, 'colsample_bytree': 0.5446481759637969}. Best is trial 49 with value: 0.037242825271900086.\n"
     ]
    },
    {
     "name": "stdout",
     "output_type": "stream",
     "text": [
      "MAPE: 0.059104274858532896\n"
     ]
    },
    {
     "name": "stderr",
     "output_type": "stream",
     "text": [
      "[I 2023-07-19 23:12:51,030] Trial 715 finished with value: 0.19153069578393409 and parameters: {'max_depth': 10, 'eta': 0.14192844515402228, 'gamma': 0.012976740857751867, 'subsample': 0.666547492556147, 'colsample_bytree': 0.19932227067053282}. Best is trial 49 with value: 0.037242825271900086.\n"
     ]
    },
    {
     "name": "stdout",
     "output_type": "stream",
     "text": [
      "MAPE: 0.19153069578393409\n"
     ]
    },
    {
     "name": "stderr",
     "output_type": "stream",
     "text": [
      "[I 2023-07-19 23:12:52,803] Trial 716 finished with value: 0.05521177268796161 and parameters: {'max_depth': 10, 'eta': 0.8822779616520685, 'gamma': 0.16126925697670064, 'subsample': 0.5924365248912975, 'colsample_bytree': 0.9604553044052215}. Best is trial 49 with value: 0.037242825271900086.\n"
     ]
    },
    {
     "name": "stdout",
     "output_type": "stream",
     "text": [
      "MAPE: 0.05521177268796161\n"
     ]
    },
    {
     "name": "stderr",
     "output_type": "stream",
     "text": [
      "[I 2023-07-19 23:12:53,595] Trial 717 finished with value: 0.048600863136061566 and parameters: {'max_depth': 6, 'eta': 0.4622716052443602, 'gamma': 0.0901222106257564, 'subsample': 0.7664035136338457, 'colsample_bytree': 0.5783056908160804}. Best is trial 49 with value: 0.037242825271900086.\n"
     ]
    },
    {
     "name": "stdout",
     "output_type": "stream",
     "text": [
      "MAPE: 0.048600863136061566\n"
     ]
    },
    {
     "name": "stderr",
     "output_type": "stream",
     "text": [
      "[I 2023-07-19 23:12:54,712] Trial 718 finished with value: 0.057207506456711146 and parameters: {'max_depth': 8, 'eta': 0.5493553686935412, 'gamma': 0.027909793928503703, 'subsample': 0.4765041936775343, 'colsample_bytree': 0.6545648862780267}. Best is trial 49 with value: 0.037242825271900086.\n"
     ]
    },
    {
     "name": "stdout",
     "output_type": "stream",
     "text": [
      "MAPE: 0.057207506456711146\n"
     ]
    },
    {
     "name": "stderr",
     "output_type": "stream",
     "text": [
      "[I 2023-07-19 23:12:55,917] Trial 719 finished with value: 0.1748738299244586 and parameters: {'max_depth': 9, 'eta': 0.1552055492541287, 'gamma': 0.02392930707096803, 'subsample': 0.3409260184928238, 'colsample_bytree': 0.9101594338327397}. Best is trial 49 with value: 0.037242825271900086.\n"
     ]
    },
    {
     "name": "stdout",
     "output_type": "stream",
     "text": [
      "MAPE: 0.1748738299244586\n"
     ]
    },
    {
     "name": "stderr",
     "output_type": "stream",
     "text": [
      "[I 2023-07-19 23:12:56,731] Trial 720 finished with value: 0.06151402795540354 and parameters: {'max_depth': 10, 'eta': 0.4090571631571072, 'gamma': 0.12041815026994675, 'subsample': 0.16709949474334457, 'colsample_bytree': 0.6156344024116874}. Best is trial 49 with value: 0.037242825271900086.\n"
     ]
    },
    {
     "name": "stdout",
     "output_type": "stream",
     "text": [
      "MAPE: 0.06151402795540354\n"
     ]
    },
    {
     "name": "stderr",
     "output_type": "stream",
     "text": [
      "[I 2023-07-19 23:12:57,832] Trial 721 finished with value: 0.054218201485548324 and parameters: {'max_depth': 10, 'eta': 0.6217153674869561, 'gamma': 0.22737293864658858, 'subsample': 0.27052240691163465, 'colsample_bytree': 0.6315805795538213}. Best is trial 49 with value: 0.037242825271900086.\n"
     ]
    },
    {
     "name": "stdout",
     "output_type": "stream",
     "text": [
      "MAPE: 0.054218201485548324\n"
     ]
    },
    {
     "name": "stderr",
     "output_type": "stream",
     "text": [
      "[I 2023-07-19 23:12:58,907] Trial 722 finished with value: 0.05562206240109533 and parameters: {'max_depth': 8, 'eta': 0.5045520511384566, 'gamma': 0.032289651595293616, 'subsample': 0.44111407279003284, 'colsample_bytree': 0.6833633278481247}. Best is trial 49 with value: 0.037242825271900086.\n"
     ]
    },
    {
     "name": "stdout",
     "output_type": "stream",
     "text": [
      "MAPE: 0.05562206240109533\n"
     ]
    },
    {
     "name": "stderr",
     "output_type": "stream",
     "text": [
      "[I 2023-07-19 23:12:59,656] Trial 723 finished with value: 0.0675646565815997 and parameters: {'max_depth': 10, 'eta': 0.34663864025698027, 'gamma': 0.46871479353547046, 'subsample': 0.23756211213752776, 'colsample_bytree': 0.4101779770045846}. Best is trial 49 with value: 0.037242825271900086.\n"
     ]
    },
    {
     "name": "stdout",
     "output_type": "stream",
     "text": [
      "MAPE: 0.0675646565815997\n"
     ]
    },
    {
     "name": "stderr",
     "output_type": "stream",
     "text": [
      "[I 2023-07-19 23:13:01,058] Trial 724 finished with value: 0.053728080122443136 and parameters: {'max_depth': 8, 'eta': 0.7208841508976233, 'gamma': 0.14622769089134327, 'subsample': 0.7994913353936336, 'colsample_bytree': 0.834830435814874}. Best is trial 49 with value: 0.037242825271900086.\n"
     ]
    },
    {
     "name": "stdout",
     "output_type": "stream",
     "text": [
      "MAPE: 0.053728080122443136\n"
     ]
    },
    {
     "name": "stderr",
     "output_type": "stream",
     "text": [
      "[I 2023-07-19 23:13:02,454] Trial 725 finished with value: 0.04420838274025407 and parameters: {'max_depth': 10, 'eta': 0.5587354368737164, 'gamma': 0.18404352616366923, 'subsample': 0.746014532582385, 'colsample_bytree': 0.5673238686161881}. Best is trial 49 with value: 0.037242825271900086.\n"
     ]
    },
    {
     "name": "stdout",
     "output_type": "stream",
     "text": [
      "MAPE: 0.04420838274025407\n"
     ]
    },
    {
     "name": "stderr",
     "output_type": "stream",
     "text": [
      "[I 2023-07-19 23:13:03,698] Trial 726 finished with value: 0.060009973239109886 and parameters: {'max_depth': 10, 'eta': 0.4580796448476151, 'gamma': 0.1867911387621693, 'subsample': 0.7586223666335326, 'colsample_bytree': 0.5344799595346498}. Best is trial 49 with value: 0.037242825271900086.\n"
     ]
    },
    {
     "name": "stdout",
     "output_type": "stream",
     "text": [
      "MAPE: 0.060009973239109886\n"
     ]
    },
    {
     "name": "stderr",
     "output_type": "stream",
     "text": [
      "[I 2023-07-19 23:13:04,234] Trial 727 finished with value: 0.08887613792078591 and parameters: {'max_depth': 10, 'eta': 0.5567376323504939, 'gamma': 0.1766227065666782, 'subsample': 0.7333272942995359, 'colsample_bytree': 0.1196797326366264}. Best is trial 49 with value: 0.037242825271900086.\n"
     ]
    },
    {
     "name": "stdout",
     "output_type": "stream",
     "text": [
      "MAPE: 0.08887613792078591\n"
     ]
    },
    {
     "name": "stderr",
     "output_type": "stream",
     "text": [
      "[I 2023-07-19 23:13:05,179] Trial 728 finished with value: 0.13564948866183132 and parameters: {'max_depth': 8, 'eta': 0.18162922816461025, 'gamma': 0.03387673350481212, 'subsample': 0.7336576940842628, 'colsample_bytree': 0.555403416204336}. Best is trial 49 with value: 0.037242825271900086.\n"
     ]
    },
    {
     "name": "stdout",
     "output_type": "stream",
     "text": [
      "MAPE: 0.13564948866183132\n"
     ]
    },
    {
     "name": "stderr",
     "output_type": "stream",
     "text": [
      "[I 2023-07-19 23:13:06,377] Trial 729 finished with value: 0.05911793312003167 and parameters: {'max_depth': 9, 'eta': 0.508381097975971, 'gamma': 0.21265490242447266, 'subsample': 0.7180322737943367, 'colsample_bytree': 0.5714042637769885}. Best is trial 49 with value: 0.037242825271900086.\n"
     ]
    },
    {
     "name": "stdout",
     "output_type": "stream",
     "text": [
      "MAPE: 0.05911793312003167\n"
     ]
    },
    {
     "name": "stderr",
     "output_type": "stream",
     "text": [
      "[I 2023-07-19 23:13:07,258] Trial 730 finished with value: 0.04497416325626047 and parameters: {'max_depth': 7, 'eta': 0.6353099178555006, 'gamma': 0.10733924399811386, 'subsample': 0.7506502539789994, 'colsample_bytree': 0.5219553194164696}. Best is trial 49 with value: 0.037242825271900086.\n"
     ]
    },
    {
     "name": "stdout",
     "output_type": "stream",
     "text": [
      "MAPE: 0.04497416325626047\n"
     ]
    },
    {
     "name": "stderr",
     "output_type": "stream",
     "text": [
      "[I 2023-07-19 23:13:08,622] Trial 731 finished with value: 0.05324628406652044 and parameters: {'max_depth': 10, 'eta': 0.8082927535256776, 'gamma': 0.16111807778034168, 'subsample': 0.5287144960024567, 'colsample_bytree': 0.5875596277125456}. Best is trial 49 with value: 0.037242825271900086.\n"
     ]
    },
    {
     "name": "stdout",
     "output_type": "stream",
     "text": [
      "MAPE: 0.05324628406652044\n"
     ]
    },
    {
     "name": "stderr",
     "output_type": "stream",
     "text": [
      "[I 2023-07-19 23:13:09,417] Trial 732 finished with value: 0.07137378298469284 and parameters: {'max_depth': 10, 'eta': 0.4336469773655882, 'gamma': 0.1949426793103845, 'subsample': 0.3229658600066617, 'colsample_bytree': 0.27920694699711773}. Best is trial 49 with value: 0.037242825271900086.\n"
     ]
    },
    {
     "name": "stdout",
     "output_type": "stream",
     "text": [
      "MAPE: 0.07137378298469284\n"
     ]
    },
    {
     "name": "stderr",
     "output_type": "stream",
     "text": [
      "[I 2023-07-19 23:13:10,393] Trial 733 finished with value: 0.37441342135442285 and parameters: {'max_depth': 8, 'eta': 0.09072540163159186, 'gamma': 0.07692351302704056, 'subsample': 0.9813916193470253, 'colsample_bytree': 0.5622140220757997}. Best is trial 49 with value: 0.037242825271900086.\n"
     ]
    },
    {
     "name": "stdout",
     "output_type": "stream",
     "text": [
      "MAPE: 0.37441342135442285\n"
     ]
    },
    {
     "name": "stderr",
     "output_type": "stream",
     "text": [
      "[I 2023-07-19 23:13:11,655] Trial 734 finished with value: 0.05414246270602665 and parameters: {'max_depth': 10, 'eta': 0.36977275047271224, 'gamma': 0.042301448614039575, 'subsample': 0.5078153101912042, 'colsample_bytree': 0.5954200428516037}. Best is trial 49 with value: 0.037242825271900086.\n"
     ]
    },
    {
     "name": "stdout",
     "output_type": "stream",
     "text": [
      "MAPE: 0.05414246270602665\n"
     ]
    },
    {
     "name": "stderr",
     "output_type": "stream",
     "text": [
      "[I 2023-07-19 23:13:12,915] Trial 735 finished with value: 0.5647171210510195 and parameters: {'max_depth': 10, 'eta': 0.05414247022857574, 'gamma': 0.057867879936684116, 'subsample': 0.6328262660839046, 'colsample_bytree': 0.5725981415899248}. Best is trial 49 with value: 0.037242825271900086.\n"
     ]
    },
    {
     "name": "stdout",
     "output_type": "stream",
     "text": [
      "MAPE: 0.5647171210510195\n"
     ]
    },
    {
     "name": "stderr",
     "output_type": "stream",
     "text": [
      "[I 2023-07-19 23:13:13,999] Trial 736 finished with value: 0.05052168188664972 and parameters: {'max_depth': 8, 'eta': 0.5425276821196218, 'gamma': 0.36212264694629, 'subsample': 0.8555773675120929, 'colsample_bytree': 0.6048273675384256}. Best is trial 49 with value: 0.037242825271900086.\n"
     ]
    },
    {
     "name": "stdout",
     "output_type": "stream",
     "text": [
      "MAPE: 0.05052168188664972\n"
     ]
    },
    {
     "name": "stderr",
     "output_type": "stream",
     "text": [
      "[I 2023-07-19 23:13:15,170] Trial 737 finished with value: 0.05572569417369309 and parameters: {'max_depth': 10, 'eta': 0.48273959992767423, 'gamma': 0.24273587388882178, 'subsample': 0.49190614336125665, 'colsample_bytree': 0.5565353750839649}. Best is trial 49 with value: 0.037242825271900086.\n"
     ]
    },
    {
     "name": "stdout",
     "output_type": "stream",
     "text": [
      "MAPE: 0.05572569417369309\n"
     ]
    },
    {
     "name": "stderr",
     "output_type": "stream",
     "text": [
      "[I 2023-07-19 23:13:16,247] Trial 738 finished with value: 0.7933345773856505 and parameters: {'max_depth': 9, 'eta': 0.02235314121085352, 'gamma': 0.0405844370833836, 'subsample': 0.7834480611519302, 'colsample_bytree': 0.5058681407796407}. Best is trial 49 with value: 0.037242825271900086.\n"
     ]
    },
    {
     "name": "stdout",
     "output_type": "stream",
     "text": [
      "MAPE: 0.7933345773856505\n"
     ]
    },
    {
     "name": "stderr",
     "output_type": "stream",
     "text": [
      "[I 2023-07-19 23:13:17,323] Trial 739 finished with value: 0.05216722458703731 and parameters: {'max_depth': 8, 'eta': 0.9158645908033107, 'gamma': 0.2914363236661334, 'subsample': 0.5698980802314699, 'colsample_bytree': 0.5847278762703751}. Best is trial 49 with value: 0.037242825271900086.\n"
     ]
    },
    {
     "name": "stdout",
     "output_type": "stream",
     "text": [
      "MAPE: 0.05216722458703731\n"
     ]
    },
    {
     "name": "stderr",
     "output_type": "stream",
     "text": [
      "[I 2023-07-19 23:13:18,499] Trial 740 finished with value: 0.882536801241925 and parameters: {'max_depth': 10, 'eta': 0.012160054814820064, 'gamma': 0.6768984417378664, 'subsample': 0.826294683434465, 'colsample_bytree': 0.5444473071931336}. Best is trial 49 with value: 0.037242825271900086.\n"
     ]
    },
    {
     "name": "stdout",
     "output_type": "stream",
     "text": [
      "MAPE: 0.882536801241925\n"
     ]
    },
    {
     "name": "stderr",
     "output_type": "stream",
     "text": [
      "[I 2023-07-19 23:13:19,767] Trial 741 finished with value: 0.6810494855747329 and parameters: {'max_depth': 10, 'eta': 0.03658985960897157, 'gamma': 0.1746862058276038, 'subsample': 0.7680111279129113, 'colsample_bytree': 0.6089185949819091}. Best is trial 49 with value: 0.037242825271900086.\n"
     ]
    },
    {
     "name": "stdout",
     "output_type": "stream",
     "text": [
      "MAPE: 0.6810494855747329\n"
     ]
    },
    {
     "name": "stderr",
     "output_type": "stream",
     "text": [
      "[I 2023-07-19 23:13:20,973] Trial 742 finished with value: 0.6691694444508822 and parameters: {'max_depth': 10, 'eta': 0.038303764533134915, 'gamma': 0.011608134776303455, 'subsample': 0.5446818051874601, 'colsample_bytree': 0.6241103452723327}. Best is trial 49 with value: 0.037242825271900086.\n"
     ]
    },
    {
     "name": "stdout",
     "output_type": "stream",
     "text": [
      "MAPE: 0.6691694444508822\n"
     ]
    },
    {
     "name": "stderr",
     "output_type": "stream",
     "text": [
      "[I 2023-07-19 23:13:21,705] Trial 743 finished with value: 0.05113922587125929 and parameters: {'max_depth': 8, 'eta': 0.6903656320800277, 'gamma': 0.13314515317367934, 'subsample': 0.11364696106791464, 'colsample_bytree': 0.7202582140903263}. Best is trial 49 with value: 0.037242825271900086.\n"
     ]
    },
    {
     "name": "stdout",
     "output_type": "stream",
     "text": [
      "MAPE: 0.05113922587125929\n"
     ]
    },
    {
     "name": "stderr",
     "output_type": "stream",
     "text": [
      "[I 2023-07-19 23:13:22,002] Trial 744 finished with value: 0.08804490184246964 and parameters: {'max_depth': 7, 'eta': 0.5749502549952075, 'gamma': 0.010139143144633754, 'subsample': 0.1414153828137936, 'colsample_bytree': 0.10464926514792633}. Best is trial 49 with value: 0.037242825271900086.\n"
     ]
    },
    {
     "name": "stdout",
     "output_type": "stream",
     "text": [
      "MAPE: 0.08804490184246964\n"
     ]
    },
    {
     "name": "stderr",
     "output_type": "stream",
     "text": [
      "[I 2023-07-19 23:13:23,027] Trial 745 finished with value: 0.05545834358747649 and parameters: {'max_depth': 10, 'eta': 0.6186150616387888, 'gamma': 0.8496463358716432, 'subsample': 0.2891799954268924, 'colsample_bytree': 0.5709582376201352}. Best is trial 49 with value: 0.037242825271900086.\n"
     ]
    },
    {
     "name": "stdout",
     "output_type": "stream",
     "text": [
      "MAPE: 0.05545834358747649\n"
     ]
    },
    {
     "name": "stderr",
     "output_type": "stream",
     "text": [
      "[I 2023-07-19 23:13:23,812] Trial 746 finished with value: 0.05191102466687205 and parameters: {'max_depth': 9, 'eta': 0.39884250670360993, 'gamma': 0.156788922817877, 'subsample': 0.20210023769702037, 'colsample_bytree': 0.594286914293507}. Best is trial 49 with value: 0.037242825271900086.\n"
     ]
    },
    {
     "name": "stdout",
     "output_type": "stream",
     "text": [
      "MAPE: 0.05191102466687205\n"
     ]
    },
    {
     "name": "stderr",
     "output_type": "stream",
     "text": [
      "[I 2023-07-19 23:13:25,086] Trial 747 finished with value: 0.6413290754162018 and parameters: {'max_depth': 8, 'eta': 0.042133812380574155, 'gamma': 0.014283015273070944, 'subsample': 0.7019599114334387, 'colsample_bytree': 0.698945538718885}. Best is trial 49 with value: 0.037242825271900086.\n"
     ]
    },
    {
     "name": "stdout",
     "output_type": "stream",
     "text": [
      "MAPE: 0.6413290754162018\n"
     ]
    },
    {
     "name": "stderr",
     "output_type": "stream",
     "text": [
      "[I 2023-07-19 23:13:26,831] Trial 748 finished with value: 0.05706894579403685 and parameters: {'max_depth': 10, 'eta': 0.7637569399656351, 'gamma': 0.02788519368047075, 'subsample': 0.74308507262775, 'colsample_bytree': 0.7976657161806551}. Best is trial 49 with value: 0.037242825271900086.\n"
     ]
    },
    {
     "name": "stdout",
     "output_type": "stream",
     "text": [
      "MAPE: 0.05706894579403685\n"
     ]
    },
    {
     "name": "stderr",
     "output_type": "stream",
     "text": [
      "[I 2023-07-19 23:13:28,452] Trial 749 finished with value: 0.7332839722426807 and parameters: {'max_depth': 10, 'eta': 0.029785069827167925, 'gamma': 0.5304011823242277, 'subsample': 0.6011271587242393, 'colsample_bytree': 0.8352522341825068}. Best is trial 49 with value: 0.037242825271900086.\n"
     ]
    },
    {
     "name": "stdout",
     "output_type": "stream",
     "text": [
      "MAPE: 0.7332839722426807\n"
     ]
    },
    {
     "name": "stderr",
     "output_type": "stream",
     "text": [
      "[I 2023-07-19 23:13:29,973] Trial 750 finished with value: 0.7424783379745971 and parameters: {'max_depth': 10, 'eta': 0.02861502291697375, 'gamma': 0.10134689105699075, 'subsample': 0.9184440862922403, 'colsample_bytree': 0.6673653447242126}. Best is trial 49 with value: 0.037242825271900086.\n"
     ]
    },
    {
     "name": "stdout",
     "output_type": "stream",
     "text": [
      "MAPE: 0.7424783379745971\n"
     ]
    },
    {
     "name": "stderr",
     "output_type": "stream",
     "text": [
      "[I 2023-07-19 23:13:31,211] Trial 751 finished with value: 0.055667948349799184 and parameters: {'max_depth': 9, 'eta': 0.5196857890255463, 'gamma': 0.9756487284306904, 'subsample': 0.4652698339028622, 'colsample_bytree': 0.632851450749036}. Best is trial 49 with value: 0.037242825271900086.\n"
     ]
    },
    {
     "name": "stdout",
     "output_type": "stream",
     "text": [
      "MAPE: 0.055667948349799184\n"
     ]
    },
    {
     "name": "stderr",
     "output_type": "stream",
     "text": [
      "[I 2023-07-19 23:13:32,126] Trial 752 finished with value: 0.05544417463424733 and parameters: {'max_depth': 8, 'eta': 0.46644281827390915, 'gamma': 0.21707025642689085, 'subsample': 0.5164221781622443, 'colsample_bytree': 0.5357077401423305}. Best is trial 49 with value: 0.037242825271900086.\n"
     ]
    },
    {
     "name": "stdout",
     "output_type": "stream",
     "text": [
      "MAPE: 0.05544417463424733\n"
     ]
    },
    {
     "name": "stderr",
     "output_type": "stream",
     "text": [
      "[I 2023-07-19 23:13:33,201] Trial 753 finished with value: 0.04941571684046484 and parameters: {'max_depth': 10, 'eta': 0.6776616792137051, 'gamma': 0.038500779060267436, 'subsample': 0.30922662011030766, 'colsample_bytree': 0.6113527442445758}. Best is trial 49 with value: 0.037242825271900086.\n"
     ]
    },
    {
     "name": "stdout",
     "output_type": "stream",
     "text": [
      "MAPE: 0.04941571684046484\n"
     ]
    },
    {
     "name": "stderr",
     "output_type": "stream",
     "text": [
      "[I 2023-07-19 23:13:34,491] Trial 754 finished with value: 0.7044353459885344 and parameters: {'max_depth': 8, 'eta': 0.03342775605466647, 'gamma': 0.3998296311324818, 'subsample': 0.5571650339850438, 'colsample_bytree': 0.9689171044226398}. Best is trial 49 with value: 0.037242825271900086.\n"
     ]
    },
    {
     "name": "stdout",
     "output_type": "stream",
     "text": [
      "MAPE: 0.7044353459885344\n"
     ]
    },
    {
     "name": "stderr",
     "output_type": "stream",
     "text": [
      "[I 2023-07-19 23:13:35,411] Trial 755 finished with value: 0.5408854905232245 and parameters: {'max_depth': 10, 'eta': 0.0565175963395676, 'gamma': 0.1437150354570106, 'subsample': 0.5821488155232132, 'colsample_bytree': 0.2649440836386648}. Best is trial 49 with value: 0.037242825271900086.\n"
     ]
    },
    {
     "name": "stdout",
     "output_type": "stream",
     "text": [
      "MAPE: 0.5408854905232245\n"
     ]
    },
    {
     "name": "stderr",
     "output_type": "stream",
     "text": [
      "[I 2023-07-19 23:13:36,889] Trial 756 finished with value: 0.05644451326277388 and parameters: {'max_depth': 10, 'eta': 0.3058211939755581, 'gamma': 0.02592192728965714, 'subsample': 0.6512326387096136, 'colsample_bytree': 0.6568505432431849}. Best is trial 49 with value: 0.037242825271900086.\n"
     ]
    },
    {
     "name": "stdout",
     "output_type": "stream",
     "text": [
      "MAPE: 0.05644451326277388\n"
     ]
    },
    {
     "name": "stderr",
     "output_type": "stream",
     "text": [
      "[I 2023-07-19 23:13:38,076] Trial 757 finished with value: 0.6054952726574725 and parameters: {'max_depth': 10, 'eta': 0.047542986112645465, 'gamma': 0.32709091770128357, 'subsample': 0.5289835296230015, 'colsample_bytree': 0.584848350468302}. Best is trial 49 with value: 0.037242825271900086.\n"
     ]
    },
    {
     "name": "stdout",
     "output_type": "stream",
     "text": [
      "MAPE: 0.6054952726574725\n"
     ]
    },
    {
     "name": "stderr",
     "output_type": "stream",
     "text": [
      "[I 2023-07-19 23:13:39,276] Trial 758 finished with value: 0.04877500927050308 and parameters: {'max_depth': 8, 'eta': 0.5704846919009645, 'gamma': 0.12421410578288361, 'subsample': 0.6799479754094004, 'colsample_bytree': 0.672469640378251}. Best is trial 49 with value: 0.037242825271900086.\n"
     ]
    },
    {
     "name": "stdout",
     "output_type": "stream",
     "text": [
      "MAPE: 0.04877500927050308\n"
     ]
    },
    {
     "name": "stderr",
     "output_type": "stream",
     "text": [
      "[I 2023-07-19 23:13:40,152] Trial 759 finished with value: 0.07604339462452664 and parameters: {'max_depth': 10, 'eta': 0.5236365435462045, 'gamma': 0.2683661574460874, 'subsample': 0.4761222772493533, 'colsample_bytree': 0.2363354114560705}. Best is trial 49 with value: 0.037242825271900086.\n"
     ]
    },
    {
     "name": "stdout",
     "output_type": "stream",
     "text": [
      "MAPE: 0.07604339462452664\n"
     ]
    },
    {
     "name": "stderr",
     "output_type": "stream",
     "text": [
      "[I 2023-07-19 23:13:41,244] Trial 760 finished with value: 0.10992474987955961 and parameters: {'max_depth': 9, 'eta': 0.19918628856995674, 'gamma': 0.04563202112535245, 'subsample': 0.3586110523871028, 'colsample_bytree': 0.641548396037063}. Best is trial 49 with value: 0.037242825271900086.\n"
     ]
    },
    {
     "name": "stdout",
     "output_type": "stream",
     "text": [
      "MAPE: 0.10992474987955961\n"
     ]
    },
    {
     "name": "stderr",
     "output_type": "stream",
     "text": [
      "[I 2023-07-19 23:13:42,003] Trial 761 finished with value: 0.0588448198024386 and parameters: {'max_depth': 10, 'eta': 0.6343823698071976, 'gamma': 0.5941317144064389, 'subsample': 0.10527415455148117, 'colsample_bytree': 0.6208561625611984}. Best is trial 49 with value: 0.037242825271900086.\n"
     ]
    },
    {
     "name": "stdout",
     "output_type": "stream",
     "text": [
      "MAPE: 0.0588448198024386\n"
     ]
    },
    {
     "name": "stderr",
     "output_type": "stream",
     "text": [
      "[I 2023-07-19 23:13:43,280] Trial 762 finished with value: 0.834417067000569 and parameters: {'max_depth': 8, 'eta': 0.017421675951089094, 'gamma': 0.18707604091000998, 'subsample': 0.6167846366458836, 'colsample_bytree': 0.770808954109479}. Best is trial 49 with value: 0.037242825271900086.\n"
     ]
    },
    {
     "name": "stdout",
     "output_type": "stream",
     "text": [
      "MAPE: 0.834417067000569\n"
     ]
    },
    {
     "name": "stderr",
     "output_type": "stream",
     "text": [
      "[I 2023-07-19 23:13:44,946] Trial 763 finished with value: 0.0872382308146238 and parameters: {'max_depth': 10, 'eta': 0.22823986457470824, 'gamma': 0.02320472362113345, 'subsample': 0.8950450266554997, 'colsample_bytree': 0.6878975035539786}. Best is trial 49 with value: 0.037242825271900086.\n"
     ]
    },
    {
     "name": "stdout",
     "output_type": "stream",
     "text": [
      "MAPE: 0.0872382308146238\n"
     ]
    },
    {
     "name": "stderr",
     "output_type": "stream",
     "text": [
      "[I 2023-07-19 23:13:45,909] Trial 764 finished with value: 0.042788897864685295 and parameters: {'max_depth': 9, 'eta': 0.43263189307977784, 'gamma': 0.11415506009741258, 'subsample': 0.3314020053154975, 'colsample_bytree': 0.5972501526227807}. Best is trial 49 with value: 0.037242825271900086.\n"
     ]
    },
    {
     "name": "stdout",
     "output_type": "stream",
     "text": [
      "MAPE: 0.042788897864685295\n"
     ]
    },
    {
     "name": "stderr",
     "output_type": "stream",
     "text": [
      "[I 2023-07-19 23:13:46,748] Trial 765 finished with value: 0.07708738279347363 and parameters: {'max_depth': 9, 'eta': 0.4095987849526711, 'gamma': 0.050865367351595664, 'subsample': 0.7214462673227567, 'colsample_bytree': 0.23095317423566453}. Best is trial 49 with value: 0.037242825271900086.\n"
     ]
    },
    {
     "name": "stdout",
     "output_type": "stream",
     "text": [
      "MAPE: 0.07708738279347363\n"
     ]
    },
    {
     "name": "stderr",
     "output_type": "stream",
     "text": [
      "[I 2023-07-19 23:13:47,610] Trial 766 finished with value: 0.059489770440724905 and parameters: {'max_depth': 9, 'eta': 0.3665594762199538, 'gamma': 0.11189440245582036, 'subsample': 0.3209824194791304, 'colsample_bytree': 0.5621509612538442}. Best is trial 49 with value: 0.037242825271900086.\n"
     ]
    },
    {
     "name": "stdout",
     "output_type": "stream",
     "text": [
      "MAPE: 0.059489770440724905\n"
     ]
    },
    {
     "name": "stderr",
     "output_type": "stream",
     "text": [
      "[I 2023-07-19 23:13:48,551] Trial 767 finished with value: 0.055339689018043536 and parameters: {'max_depth': 7, 'eta': 0.4358446390621238, 'gamma': 0.09220235478753852, 'subsample': 0.350925999824416, 'colsample_bytree': 0.9779538539644808}. Best is trial 49 with value: 0.037242825271900086.\n"
     ]
    },
    {
     "name": "stdout",
     "output_type": "stream",
     "text": [
      "MAPE: 0.055339689018043536\n"
     ]
    },
    {
     "name": "stderr",
     "output_type": "stream",
     "text": [
      "[I 2023-07-19 23:13:49,634] Trial 768 finished with value: 0.4932906688806333 and parameters: {'max_depth': 9, 'eta': 0.06613629209253603, 'gamma': 0.06778625648153475, 'subsample': 0.49551725386584605, 'colsample_bytree': 0.5941109575890047}. Best is trial 49 with value: 0.037242825271900086.\n"
     ]
    },
    {
     "name": "stdout",
     "output_type": "stream",
     "text": [
      "MAPE: 0.4932906688806333\n"
     ]
    },
    {
     "name": "stderr",
     "output_type": "stream",
     "text": [
      "[I 2023-07-19 23:13:50,232] Trial 769 finished with value: 0.07204266766648766 and parameters: {'max_depth': 8, 'eta': 0.4434208708287146, 'gamma': 0.10546424699639934, 'subsample': 0.9511606400208495, 'colsample_bytree': 0.13135706084767113}. Best is trial 49 with value: 0.037242825271900086.\n"
     ]
    },
    {
     "name": "stdout",
     "output_type": "stream",
     "text": [
      "MAPE: 0.07204266766648766\n"
     ]
    },
    {
     "name": "stderr",
     "output_type": "stream",
     "text": [
      "[I 2023-07-19 23:13:51,068] Trial 770 finished with value: 0.060120423389018914 and parameters: {'max_depth': 8, 'eta': 0.38903227434059495, 'gamma': 0.08492852482152052, 'subsample': 0.3390181236314492, 'colsample_bytree': 0.5751551505951147}. Best is trial 49 with value: 0.037242825271900086.\n"
     ]
    },
    {
     "name": "stdout",
     "output_type": "stream",
     "text": [
      "MAPE: 0.060120423389018914\n"
     ]
    },
    {
     "name": "stderr",
     "output_type": "stream",
     "text": [
      "[I 2023-07-19 23:13:52,618] Trial 771 finished with value: 0.0773344036788613 and parameters: {'max_depth': 9, 'eta': 0.2479035226227303, 'gamma': 0.020292830952317046, 'subsample': 0.7728420839261383, 'colsample_bytree': 0.9451550965691246}. Best is trial 49 with value: 0.037242825271900086.\n"
     ]
    },
    {
     "name": "stdout",
     "output_type": "stream",
     "text": [
      "MAPE: 0.0773344036788613\n"
     ]
    },
    {
     "name": "stderr",
     "output_type": "stream",
     "text": [
      "[I 2023-07-19 23:13:53,660] Trial 772 finished with value: 0.05559468222195055 and parameters: {'max_depth': 8, 'eta': 0.3502885451754363, 'gamma': 0.2348979266981334, 'subsample': 0.7435280327259509, 'colsample_bytree': 0.6019549183653077}. Best is trial 49 with value: 0.037242825271900086.\n"
     ]
    },
    {
     "name": "stdout",
     "output_type": "stream",
     "text": [
      "MAPE: 0.05559468222195055\n"
     ]
    },
    {
     "name": "stderr",
     "output_type": "stream",
     "text": [
      "[I 2023-07-19 23:13:54,611] Trial 773 finished with value: 0.05370468859340059 and parameters: {'max_depth': 8, 'eta': 0.47219444638655034, 'gamma': 0.013382784898368435, 'subsample': 0.5349492310377434, 'colsample_bytree': 0.5565406251196906}. Best is trial 49 with value: 0.037242825271900086.\n"
     ]
    },
    {
     "name": "stdout",
     "output_type": "stream",
     "text": [
      "MAPE: 0.05370468859340059\n"
     ]
    },
    {
     "name": "stderr",
     "output_type": "stream",
     "text": [
      "[I 2023-07-19 23:13:55,808] Trial 774 finished with value: 0.24520279240227033 and parameters: {'max_depth': 9, 'eta': 0.12629294385083503, 'gamma': 0.11975616070091082, 'subsample': 0.5872805217671289, 'colsample_bytree': 0.5906222984562968}. Best is trial 49 with value: 0.037242825271900086.\n"
     ]
    },
    {
     "name": "stdout",
     "output_type": "stream",
     "text": [
      "MAPE: 0.24520279240227033\n"
     ]
    },
    {
     "name": "stderr",
     "output_type": "stream",
     "text": [
      "[I 2023-07-19 23:13:56,579] Trial 775 finished with value: 0.06311805811533225 and parameters: {'max_depth': 6, 'eta': 0.7640883390748217, 'gamma': 0.2045522346696078, 'subsample': 0.5078374410708839, 'colsample_bytree': 0.6095824875207702}. Best is trial 49 with value: 0.037242825271900086.\n"
     ]
    },
    {
     "name": "stdout",
     "output_type": "stream",
     "text": [
      "MAPE: 0.06311805811533225\n"
     ]
    },
    {
     "name": "stderr",
     "output_type": "stream",
     "text": [
      "[I 2023-07-19 23:13:57,579] Trial 776 finished with value: 0.5405682371252898 and parameters: {'max_depth': 8, 'eta': 0.05793345789499535, 'gamma': 0.01522007691026312, 'subsample': 0.5638212930859968, 'colsample_bytree': 0.574225374472388}. Best is trial 49 with value: 0.037242825271900086.\n"
     ]
    },
    {
     "name": "stdout",
     "output_type": "stream",
     "text": [
      "MAPE: 0.5405682371252898\n"
     ]
    },
    {
     "name": "stderr",
     "output_type": "stream",
     "text": [
      "[I 2023-07-19 23:13:58,571] Trial 777 finished with value: 0.45182858150408667 and parameters: {'max_depth': 8, 'eta': 0.0737409411686286, 'gamma': 0.7625818072894809, 'subsample': 0.5458781751820769, 'colsample_bytree': 0.6160292565943546}. Best is trial 49 with value: 0.037242825271900086.\n"
     ]
    },
    {
     "name": "stdout",
     "output_type": "stream",
     "text": [
      "MAPE: 0.45182858150408667\n"
     ]
    },
    {
     "name": "stderr",
     "output_type": "stream",
     "text": [
      "[I 2023-07-19 23:13:59,703] Trial 778 finished with value: 0.061527028227460465 and parameters: {'max_depth': 9, 'eta': 0.49430912026507684, 'gamma': 0.4394817922691508, 'subsample': 0.8070063659549771, 'colsample_bytree': 0.5442678787792963}. Best is trial 49 with value: 0.037242825271900086.\n"
     ]
    },
    {
     "name": "stdout",
     "output_type": "stream",
     "text": [
      "MAPE: 0.061527028227460465\n"
     ]
    },
    {
     "name": "stderr",
     "output_type": "stream",
     "text": [
      "[I 2023-07-19 23:14:00,605] Trial 779 finished with value: 0.06707981553476661 and parameters: {'max_depth': 8, 'eta': 0.857385409313686, 'gamma': 0.011835444305380591, 'subsample': 0.6089440345775603, 'colsample_bytree': 0.38943523376373257}. Best is trial 49 with value: 0.037242825271900086.\n"
     ]
    },
    {
     "name": "stdout",
     "output_type": "stream",
     "text": [
      "MAPE: 0.06707981553476661\n"
     ]
    },
    {
     "name": "stderr",
     "output_type": "stream",
     "text": [
      "[I 2023-07-19 23:14:01,546] Trial 780 finished with value: 0.05140502557388577 and parameters: {'max_depth': 8, 'eta': 0.42930347893262366, 'gamma': 0.03155351939967249, 'subsample': 0.6383301654240124, 'colsample_bytree': 0.5144260333352514}. Best is trial 49 with value: 0.037242825271900086.\n"
     ]
    },
    {
     "name": "stdout",
     "output_type": "stream",
     "text": [
      "MAPE: 0.05140502557388577\n"
     ]
    },
    {
     "name": "stderr",
     "output_type": "stream",
     "text": [
      "[I 2023-07-19 23:14:02,313] Trial 781 finished with value: 0.14209410708614606 and parameters: {'max_depth': 7, 'eta': 0.17754549738038666, 'gamma': 0.03437780751820121, 'subsample': 0.4935079548634281, 'colsample_bytree': 0.45987711621436467}. Best is trial 49 with value: 0.037242825271900086.\n"
     ]
    },
    {
     "name": "stdout",
     "output_type": "stream",
     "text": [
      "MAPE: 0.14209410708614606\n"
     ]
    },
    {
     "name": "stderr",
     "output_type": "stream",
     "text": [
      "[I 2023-07-19 23:14:03,520] Trial 782 finished with value: 0.05100803689293472 and parameters: {'max_depth': 9, 'eta': 0.9297182725775154, 'gamma': 0.3017185560174697, 'subsample': 0.5208427470231077, 'colsample_bytree': 0.5921258359651909}. Best is trial 49 with value: 0.037242825271900086.\n"
     ]
    },
    {
     "name": "stdout",
     "output_type": "stream",
     "text": [
      "MAPE: 0.05100803689293472\n"
     ]
    },
    {
     "name": "stderr",
     "output_type": "stream",
     "text": [
      "[I 2023-07-19 23:14:04,297] Trial 783 finished with value: 0.2915657297842039 and parameters: {'max_depth': 8, 'eta': 0.10760630697534519, 'gamma': 0.061768922306968045, 'subsample': 0.4562915998633868, 'colsample_bytree': 0.36836038613249517}. Best is trial 49 with value: 0.037242825271900086.\n"
     ]
    },
    {
     "name": "stdout",
     "output_type": "stream",
     "text": [
      "MAPE: 0.2915657297842039\n"
     ]
    },
    {
     "name": "stderr",
     "output_type": "stream",
     "text": [
      "[I 2023-07-19 23:14:04,840] Trial 784 finished with value: 0.7798177559934564 and parameters: {'max_depth': 5, 'eta': 0.023762858448819025, 'gamma': 0.35353886126004724, 'subsample': 0.36089631138617406, 'colsample_bytree': 0.6188443992067749}. Best is trial 49 with value: 0.037242825271900086.\n"
     ]
    },
    {
     "name": "stdout",
     "output_type": "stream",
     "text": [
      "MAPE: 0.7798177559934564\n"
     ]
    },
    {
     "name": "stderr",
     "output_type": "stream",
     "text": [
      "[I 2023-07-19 23:14:05,173] Trial 785 finished with value: 0.17429217900382848 and parameters: {'max_depth': 4, 'eta': 0.15057976185835997, 'gamma': 0.010791462851519223, 'subsample': 0.5627183821022781, 'colsample_bytree': 0.10725176287372418}. Best is trial 49 with value: 0.037242825271900086.\n"
     ]
    },
    {
     "name": "stdout",
     "output_type": "stream",
     "text": [
      "MAPE: 0.17429217900382848\n"
     ]
    },
    {
     "name": "stderr",
     "output_type": "stream",
     "text": [
      "[I 2023-07-19 23:14:06,534] Trial 786 finished with value: 0.05485739915314786 and parameters: {'max_depth': 9, 'eta': 0.4783341277607063, 'gamma': 0.09789743111694013, 'subsample': 0.6873388550007192, 'colsample_bytree': 0.6324073929479778}. Best is trial 49 with value: 0.037242825271900086.\n"
     ]
    },
    {
     "name": "stdout",
     "output_type": "stream",
     "text": [
      "MAPE: 0.05485739915314786\n"
     ]
    },
    {
     "name": "stderr",
     "output_type": "stream",
     "text": [
      "[I 2023-07-19 23:14:07,469] Trial 787 finished with value: 0.8974238081574074 and parameters: {'max_depth': 10, 'eta': 0.010489481512867247, 'gamma': 0.08043572835295648, 'subsample': 0.33927881980748353, 'colsample_bytree': 0.5810406396945892}. Best is trial 49 with value: 0.037242825271900086.\n"
     ]
    },
    {
     "name": "stdout",
     "output_type": "stream",
     "text": [
      "MAPE: 0.8974238081574074\n"
     ]
    },
    {
     "name": "stderr",
     "output_type": "stream",
     "text": [
      "[I 2023-07-19 23:14:08,520] Trial 788 finished with value: 0.0571633644826936 and parameters: {'max_depth': 8, 'eta': 0.7214196026506394, 'gamma': 0.0366488931104287, 'subsample': 0.9263052887442651, 'colsample_bytree': 0.5268892313229285}. Best is trial 49 with value: 0.037242825271900086.\n"
     ]
    },
    {
     "name": "stdout",
     "output_type": "stream",
     "text": [
      "MAPE: 0.0571633644826936\n"
     ]
    },
    {
     "name": "stderr",
     "output_type": "stream",
     "text": [
      "[I 2023-07-19 23:14:09,805] Trial 789 finished with value: 0.5144675928385882 and parameters: {'max_depth': 10, 'eta': 0.06232964439443797, 'gamma': 0.02142713044934957, 'subsample': 0.7553161695058522, 'colsample_bytree': 0.6025088445753216}. Best is trial 49 with value: 0.037242825271900086.\n"
     ]
    },
    {
     "name": "stdout",
     "output_type": "stream",
     "text": [
      "MAPE: 0.5144675928385882\n"
     ]
    },
    {
     "name": "stderr",
     "output_type": "stream",
     "text": [
      "[I 2023-07-19 23:14:10,837] Trial 790 finished with value: 0.07095637383299185 and parameters: {'max_depth': 10, 'eta': 0.3954814204838429, 'gamma': 0.4749514009196536, 'subsample': 0.8718064671456365, 'colsample_bytree': 0.29491605429767315}. Best is trial 49 with value: 0.037242825271900086.\n"
     ]
    },
    {
     "name": "stdout",
     "output_type": "stream",
     "text": [
      "MAPE: 0.07095637383299185\n"
     ]
    },
    {
     "name": "stderr",
     "output_type": "stream",
     "text": [
      "[I 2023-07-19 23:14:12,016] Trial 791 finished with value: 0.0655647067346951 and parameters: {'max_depth': 10, 'eta': 0.3304734039886617, 'gamma': 0.6655652638789594, 'subsample': 0.8993312761879209, 'colsample_bytree': 0.48093105958340343}. Best is trial 49 with value: 0.037242825271900086.\n"
     ]
    },
    {
     "name": "stdout",
     "output_type": "stream",
     "text": [
      "MAPE: 0.0655647067346951\n"
     ]
    },
    {
     "name": "stderr",
     "output_type": "stream",
     "text": [
      "[I 2023-07-19 23:14:13,004] Trial 792 finished with value: 0.05445401236807416 and parameters: {'max_depth': 8, 'eta': 0.2986392362346812, 'gamma': 0.1740553961175864, 'subsample': 0.4817662515414051, 'colsample_bytree': 0.5716079064453481}. Best is trial 49 with value: 0.037242825271900086.\n"
     ]
    },
    {
     "name": "stdout",
     "output_type": "stream",
     "text": [
      "MAPE: 0.05445401236807416\n"
     ]
    },
    {
     "name": "stderr",
     "output_type": "stream",
     "text": [
      "[I 2023-07-19 23:14:14,009] Trial 793 finished with value: 0.7397395356781415 and parameters: {'max_depth': 10, 'eta': 0.028408731066630638, 'gamma': 0.25267026256258107, 'subsample': 0.7012699072982775, 'colsample_bytree': 0.34580650438454225}. Best is trial 49 with value: 0.037242825271900086.\n"
     ]
    },
    {
     "name": "stdout",
     "output_type": "stream",
     "text": [
      "MAPE: 0.7397395356781415\n"
     ]
    },
    {
     "name": "stderr",
     "output_type": "stream",
     "text": [
      "[I 2023-07-19 23:14:15,403] Trial 794 finished with value: 0.060693612300723426 and parameters: {'max_depth': 8, 'eta': 0.9990728798026687, 'gamma': 0.11152587058585027, 'subsample': 0.6536148258195301, 'colsample_bytree': 0.9013853088287342}. Best is trial 49 with value: 0.037242825271900086.\n"
     ]
    },
    {
     "name": "stdout",
     "output_type": "stream",
     "text": [
      "MAPE: 0.060693612300723426\n"
     ]
    },
    {
     "name": "stderr",
     "output_type": "stream",
     "text": [
      "[I 2023-07-19 23:14:16,935] Trial 795 finished with value: 0.04909340763048335 and parameters: {'max_depth': 10, 'eta': 0.5310665104147492, 'gamma': 0.886291839460577, 'subsample': 0.7914292452754811, 'colsample_bytree': 0.6387937516033935}. Best is trial 49 with value: 0.037242825271900086.\n"
     ]
    },
    {
     "name": "stdout",
     "output_type": "stream",
     "text": [
      "MAPE: 0.04909340763048335\n"
     ]
    },
    {
     "name": "stderr",
     "output_type": "stream",
     "text": [
      "[I 2023-07-19 23:14:18,500] Trial 796 finished with value: 0.05663483042807784 and parameters: {'max_depth': 9, 'eta': 0.601871549671097, 'gamma': 0.22271395162824248, 'subsample': 0.97863890842988, 'colsample_bytree': 0.7272290626013256}. Best is trial 49 with value: 0.037242825271900086.\n"
     ]
    },
    {
     "name": "stdout",
     "output_type": "stream",
     "text": [
      "MAPE: 0.05663483042807784\n"
     ]
    },
    {
     "name": "stderr",
     "output_type": "stream",
     "text": [
      "[I 2023-07-19 23:14:20,216] Trial 797 finished with value: 0.051185501886146866 and parameters: {'max_depth': 10, 'eta': 0.7945410211577334, 'gamma': 0.1508964556252789, 'subsample': 0.5929802619289214, 'colsample_bytree': 0.7561029424053005}. Best is trial 49 with value: 0.037242825271900086.\n"
     ]
    },
    {
     "name": "stdout",
     "output_type": "stream",
     "text": [
      "MAPE: 0.051185501886146866\n"
     ]
    },
    {
     "name": "stderr",
     "output_type": "stream",
     "text": [
      "[I 2023-07-19 23:14:21,478] Trial 798 finished with value: 0.7607777051082292 and parameters: {'max_depth': 8, 'eta': 0.0261519643773654, 'gamma': 0.276729924926977, 'subsample': 0.5338433490569484, 'colsample_bytree': 0.9988264717209848}. Best is trial 49 with value: 0.037242825271900086.\n"
     ]
    },
    {
     "name": "stdout",
     "output_type": "stream",
     "text": [
      "MAPE: 0.7607777051082292\n"
     ]
    },
    {
     "name": "stderr",
     "output_type": "stream",
     "text": [
      "[I 2023-07-19 23:14:22,789] Trial 799 finished with value: 0.059383678823652315 and parameters: {'max_depth': 10, 'eta': 0.6692530507742024, 'gamma': 0.5139851555687585, 'subsample': 0.7294525631203093, 'colsample_bytree': 0.5562180027471395}. Best is trial 49 with value: 0.037242825271900086.\n"
     ]
    },
    {
     "name": "stdout",
     "output_type": "stream",
     "text": [
      "MAPE: 0.059383678823652315\n"
     ]
    },
    {
     "name": "stderr",
     "output_type": "stream",
     "text": [
      "[I 2023-07-19 23:14:23,640] Trial 800 finished with value: 0.05383190283479251 and parameters: {'max_depth': 8, 'eta': 0.4426681216872391, 'gamma': 0.02904839131672249, 'subsample': 0.32605377268320035, 'colsample_bytree': 0.6120446765814829}. Best is trial 49 with value: 0.037242825271900086.\n"
     ]
    },
    {
     "name": "stdout",
     "output_type": "stream",
     "text": [
      "MAPE: 0.05383190283479251\n"
     ]
    },
    {
     "name": "stderr",
     "output_type": "stream",
     "text": [
      "[I 2023-07-19 23:14:24,918] Trial 801 finished with value: 0.05188331000631718 and parameters: {'max_depth': 10, 'eta': 0.5193263101844724, 'gamma': 0.5981775186810627, 'subsample': 0.38501898983889443, 'colsample_bytree': 0.649932226541406}. Best is trial 49 with value: 0.037242825271900086.\n"
     ]
    },
    {
     "name": "stdout",
     "output_type": "stream",
     "text": [
      "MAPE: 0.05188331000631718\n"
     ]
    },
    {
     "name": "stderr",
     "output_type": "stream",
     "text": [
      "[I 2023-07-19 23:14:25,813] Trial 802 finished with value: 0.8999270557741813 and parameters: {'max_depth': 9, 'eta': 0.01023446101937102, 'gamma': 0.12885129708986442, 'subsample': 0.5042404873027623, 'colsample_bytree': 0.38684577949718935}. Best is trial 49 with value: 0.037242825271900086.\n"
     ]
    },
    {
     "name": "stdout",
     "output_type": "stream",
     "text": [
      "MAPE: 0.8999270557741813\n"
     ]
    },
    {
     "name": "stderr",
     "output_type": "stream",
     "text": [
      "[I 2023-07-19 23:14:26,800] Trial 803 finished with value: 0.8618931417814091 and parameters: {'max_depth': 7, 'eta': 0.014310330239280175, 'gamma': 0.016427742100694375, 'subsample': 0.5760058244908911, 'colsample_bytree': 0.6280683870397453}. Best is trial 49 with value: 0.037242825271900086.\n"
     ]
    },
    {
     "name": "stdout",
     "output_type": "stream",
     "text": [
      "MAPE: 0.8618931417814091\n"
     ]
    },
    {
     "name": "stderr",
     "output_type": "stream",
     "text": [
      "[I 2023-07-19 23:14:28,556] Trial 804 finished with value: 0.05623943406923053 and parameters: {'max_depth': 10, 'eta': 0.5780739140246183, 'gamma': 0.019015738280528674, 'subsample': 0.9613805074651525, 'colsample_bytree': 0.7049203618850941}. Best is trial 49 with value: 0.037242825271900086.\n"
     ]
    },
    {
     "name": "stdout",
     "output_type": "stream",
     "text": [
      "MAPE: 0.05623943406923053\n"
     ]
    },
    {
     "name": "stderr",
     "output_type": "stream",
     "text": [
      "[I 2023-07-19 23:14:30,249] Trial 805 finished with value: 0.05559489034898823 and parameters: {'max_depth': 10, 'eta': 0.4665619510053262, 'gamma': 0.195322154368918, 'subsample': 0.6220227585636837, 'colsample_bytree': 0.9198546816108768}. Best is trial 49 with value: 0.037242825271900086.\n"
     ]
    },
    {
     "name": "stdout",
     "output_type": "stream",
     "text": [
      "MAPE: 0.05559489034898823\n"
     ]
    },
    {
     "name": "stderr",
     "output_type": "stream",
     "text": [
      "[I 2023-07-19 23:14:31,189] Trial 806 finished with value: 0.6603566132899952 and parameters: {'max_depth': 8, 'eta': 0.03940959290905724, 'gamma': 0.01007193761474769, 'subsample': 0.46751843294899187, 'colsample_bytree': 0.5925598589275259}. Best is trial 49 with value: 0.037242825271900086.\n"
     ]
    },
    {
     "name": "stdout",
     "output_type": "stream",
     "text": [
      "MAPE: 0.6603566132899952\n"
     ]
    },
    {
     "name": "stderr",
     "output_type": "stream",
     "text": [
      "[I 2023-07-19 23:14:32,415] Trial 807 finished with value: 0.04278701435244361 and parameters: {'max_depth': 9, 'eta': 0.6312897576214224, 'gamma': 0.023546980476841808, 'subsample': 0.44453200141205573, 'colsample_bytree': 0.6792861888215644}. Best is trial 49 with value: 0.037242825271900086.\n"
     ]
    },
    {
     "name": "stdout",
     "output_type": "stream",
     "text": [
      "MAPE: 0.04278701435244361\n"
     ]
    },
    {
     "name": "stderr",
     "output_type": "stream",
     "text": [
      "[I 2023-07-19 23:14:33,742] Trial 808 finished with value: 0.0567910938031082 and parameters: {'max_depth': 9, 'eta': 0.6839738189290955, 'gamma': 0.04946223056456713, 'subsample': 0.4457148888096263, 'colsample_bytree': 0.6883700634998337}. Best is trial 49 with value: 0.037242825271900086.\n"
     ]
    },
    {
     "name": "stdout",
     "output_type": "stream",
     "text": [
      "MAPE: 0.0567910938031082\n"
     ]
    },
    {
     "name": "stderr",
     "output_type": "stream",
     "text": [
      "[I 2023-07-19 23:14:35,100] Trial 809 finished with value: 0.8542112312718764 and parameters: {'max_depth': 9, 'eta': 0.015213099965253876, 'gamma': 0.02648018146063734, 'subsample': 0.8337310781615619, 'colsample_bytree': 0.6655091441216412}. Best is trial 49 with value: 0.037242825271900086.\n"
     ]
    },
    {
     "name": "stdout",
     "output_type": "stream",
     "text": [
      "MAPE: 0.8542112312718764\n"
     ]
    },
    {
     "name": "stderr",
     "output_type": "stream",
     "text": [
      "[I 2023-07-19 23:14:36,308] Trial 810 finished with value: 0.05282995776912593 and parameters: {'max_depth': 9, 'eta': 0.6336777874707048, 'gamma': 0.36272481758055325, 'subsample': 0.4266479201671358, 'colsample_bytree': 0.6765840770108481}. Best is trial 49 with value: 0.037242825271900086.\n"
     ]
    },
    {
     "name": "stdout",
     "output_type": "stream",
     "text": [
      "MAPE: 0.05282995776912593\n"
     ]
    },
    {
     "name": "stderr",
     "output_type": "stream",
     "text": [
      "[I 2023-07-19 23:14:37,431] Trial 811 finished with value: 0.06149607147595246 and parameters: {'max_depth': 8, 'eta': 0.7272969828843644, 'gamma': 0.41413463556127367, 'subsample': 0.44789334116836294, 'colsample_bytree': 0.6830170542424711}. Best is trial 49 with value: 0.037242825271900086.\n"
     ]
    },
    {
     "name": "stdout",
     "output_type": "stream",
     "text": [
      "MAPE: 0.06149607147595246\n"
     ]
    },
    {
     "name": "stderr",
     "output_type": "stream",
     "text": [
      "[I 2023-07-19 23:14:39,005] Trial 812 finished with value: 0.04655307466566634 and parameters: {'max_depth': 9, 'eta': 0.831426307571399, 'gamma': 0.02473563800515038, 'subsample': 0.873669423215439, 'colsample_bytree': 0.7115362733168651}. Best is trial 49 with value: 0.037242825271900086.\n"
     ]
    },
    {
     "name": "stdout",
     "output_type": "stream",
     "text": [
      "MAPE: 0.04655307466566634\n"
     ]
    },
    {
     "name": "stderr",
     "output_type": "stream",
     "text": [
      "[I 2023-07-19 23:14:40,277] Trial 813 finished with value: 0.0479418489439546 and parameters: {'max_depth': 9, 'eta': 0.6081405215194148, 'gamma': 0.11846223254277329, 'subsample': 0.46160294889364195, 'colsample_bytree': 0.6526304770229833}. Best is trial 49 with value: 0.037242825271900086.\n"
     ]
    },
    {
     "name": "stdout",
     "output_type": "stream",
     "text": [
      "MAPE: 0.0479418489439546\n"
     ]
    },
    {
     "name": "stderr",
     "output_type": "stream",
     "text": [
      "[I 2023-07-19 23:14:41,773] Trial 814 finished with value: 0.10733112809721414 and parameters: {'max_depth': 9, 'eta': 0.20673207946237765, 'gamma': 0.06964074427401652, 'subsample': 0.8597299300826344, 'colsample_bytree': 0.744179491128684}. Best is trial 49 with value: 0.037242825271900086.\n"
     ]
    },
    {
     "name": "stdout",
     "output_type": "stream",
     "text": [
      "MAPE: 0.10733112809721414\n"
     ]
    },
    {
     "name": "stderr",
     "output_type": "stream",
     "text": [
      "[I 2023-07-19 23:14:43,180] Trial 815 finished with value: 0.05010215771415917 and parameters: {'max_depth': 9, 'eta': 0.6674255805428725, 'gamma': 0.012804423336802588, 'subsample': 0.43181018758316797, 'colsample_bytree': 0.9509095840978472}. Best is trial 49 with value: 0.037242825271900086.\n"
     ]
    },
    {
     "name": "stdout",
     "output_type": "stream",
     "text": [
      "MAPE: 0.05010215771415917\n"
     ]
    },
    {
     "name": "stderr",
     "output_type": "stream",
     "text": [
      "[I 2023-07-19 23:14:44,597] Trial 816 finished with value: 0.05247776917668065 and parameters: {'max_depth': 9, 'eta': 0.7862638883192212, 'gamma': 0.16583149930154892, 'subsample': 0.48697319965113156, 'colsample_bytree': 0.7010959456329245}. Best is trial 49 with value: 0.037242825271900086.\n"
     ]
    },
    {
     "name": "stdout",
     "output_type": "stream",
     "text": [
      "MAPE: 0.05247776917668065\n"
     ]
    },
    {
     "name": "stderr",
     "output_type": "stream",
     "text": [
      "[I 2023-07-19 23:14:45,908] Trial 817 finished with value: 0.04908986056167669 and parameters: {'max_depth': 9, 'eta': 0.5769047313932182, 'gamma': 0.022980334900826044, 'subsample': 0.522956564748089, 'colsample_bytree': 0.6678021077011221}. Best is trial 49 with value: 0.037242825271900086.\n"
     ]
    },
    {
     "name": "stdout",
     "output_type": "stream",
     "text": [
      "MAPE: 0.04908986056167669\n"
     ]
    },
    {
     "name": "stderr",
     "output_type": "stream",
     "text": [
      "[I 2023-07-19 23:14:47,261] Trial 818 finished with value: 0.04770203920920402 and parameters: {'max_depth': 9, 'eta': 0.7065365688942441, 'gamma': 0.10153861354846758, 'subsample': 0.5451742409113914, 'colsample_bytree': 0.6443377776562154}. Best is trial 49 with value: 0.037242825271900086.\n"
     ]
    },
    {
     "name": "stdout",
     "output_type": "stream",
     "text": [
      "MAPE: 0.04770203920920402\n"
     ]
    },
    {
     "name": "stderr",
     "output_type": "stream",
     "text": [
      "[I 2023-07-19 23:14:48,687] Trial 819 finished with value: 0.05369795576838847 and parameters: {'max_depth': 9, 'eta': 0.6236301522093062, 'gamma': 0.3130956179660585, 'subsample': 0.9903374840788723, 'colsample_bytree': 0.6862270616705166}. Best is trial 49 with value: 0.037242825271900086.\n"
     ]
    },
    {
     "name": "stdout",
     "output_type": "stream",
     "text": [
      "MAPE: 0.05369795576838847\n"
     ]
    },
    {
     "name": "stderr",
     "output_type": "stream",
     "text": [
      "[I 2023-07-19 23:14:49,965] Trial 820 finished with value: 0.4040499493589488 and parameters: {'max_depth': 8, 'eta': 0.08347253570513863, 'gamma': 0.011352393992746438, 'subsample': 0.4712482802193046, 'colsample_bytree': 0.9289888006149637}. Best is trial 49 with value: 0.037242825271900086.\n"
     ]
    },
    {
     "name": "stdout",
     "output_type": "stream",
     "text": [
      "MAPE: 0.4040499493589488\n"
     ]
    },
    {
     "name": "stderr",
     "output_type": "stream",
     "text": [
      "[I 2023-07-19 23:14:50,928] Trial 821 finished with value: 0.07803291909358892 and parameters: {'max_depth': 9, 'eta': 0.5447070403601704, 'gamma': 0.7057897173731545, 'subsample': 0.8132721401996078, 'colsample_bytree': 0.2598265061671642}. Best is trial 49 with value: 0.037242825271900086.\n"
     ]
    },
    {
     "name": "stdout",
     "output_type": "stream",
     "text": [
      "MAPE: 0.07803291909358892\n"
     ]
    },
    {
     "name": "stderr",
     "output_type": "stream",
     "text": [
      "[I 2023-07-19 23:14:52,103] Trial 822 finished with value: 0.06897932617254945 and parameters: {'max_depth': 8, 'eta': 0.28983671302973424, 'gamma': 0.02103981796434223, 'subsample': 0.8504633436165103, 'colsample_bytree': 0.6309801022795688}. Best is trial 49 with value: 0.037242825271900086.\n"
     ]
    },
    {
     "name": "stdout",
     "output_type": "stream",
     "text": [
      "MAPE: 0.06897932617254945\n"
     ]
    },
    {
     "name": "stderr",
     "output_type": "stream",
     "text": [
      "[I 2023-07-19 23:14:53,105] Trial 823 finished with value: 0.06007186210895984 and parameters: {'max_depth': 7, 'eta': 0.5573101187878908, 'gamma': 0.2538831806435156, 'subsample': 0.4093073716921713, 'colsample_bytree': 0.8103599470363315}. Best is trial 49 with value: 0.037242825271900086.\n"
     ]
    },
    {
     "name": "stdout",
     "output_type": "stream",
     "text": [
      "MAPE: 0.06007186210895984\n"
     ]
    },
    {
     "name": "stderr",
     "output_type": "stream",
     "text": [
      "[I 2023-07-19 23:14:54,448] Trial 824 finished with value: 0.693540976501731 and parameters: {'max_depth': 8, 'eta': 0.034777749228037315, 'gamma': 0.0563866376557509, 'subsample': 0.8376823306925374, 'colsample_bytree': 0.8882743322895372}. Best is trial 49 with value: 0.037242825271900086.\n"
     ]
    },
    {
     "name": "stdout",
     "output_type": "stream",
     "text": [
      "MAPE: 0.693540976501731\n"
     ]
    },
    {
     "name": "stderr",
     "output_type": "stream",
     "text": [
      "[I 2023-07-19 23:14:55,601] Trial 825 finished with value: 0.06005035532681763 and parameters: {'max_depth': 8, 'eta': 0.8881561447030422, 'gamma': 0.0886557677551421, 'subsample': 0.5094018396615683, 'colsample_bytree': 0.666250284407392}. Best is trial 49 with value: 0.037242825271900086.\n"
     ]
    },
    {
     "name": "stdout",
     "output_type": "stream",
     "text": [
      "MAPE: 0.06005035532681763\n"
     ]
    },
    {
     "name": "stderr",
     "output_type": "stream",
     "text": [
      "[I 2023-07-19 23:14:56,708] Trial 826 finished with value: 0.07429503649848697 and parameters: {'max_depth': 9, 'eta': 0.2716830116192593, 'gamma': 0.21191995047094372, 'subsample': 0.3081519608757283, 'colsample_bytree': 0.7209162151148458}. Best is trial 49 with value: 0.037242825271900086.\n"
     ]
    },
    {
     "name": "stdout",
     "output_type": "stream",
     "text": [
      "MAPE: 0.07429503649848697\n"
     ]
    },
    {
     "name": "stderr",
     "output_type": "stream",
     "text": [
      "[I 2023-07-19 23:14:57,844] Trial 827 finished with value: 0.8276186323226116 and parameters: {'max_depth': 8, 'eta': 0.018171385503051307, 'gamma': 0.1355008746561599, 'subsample': 0.5711019635242254, 'colsample_bytree': 0.6482290662349294}. Best is trial 49 with value: 0.037242825271900086.\n"
     ]
    },
    {
     "name": "stdout",
     "output_type": "stream",
     "text": [
      "MAPE: 0.8276186323226116\n"
     ]
    },
    {
     "name": "stderr",
     "output_type": "stream",
     "text": [
      "[I 2023-07-19 23:14:58,736] Trial 828 finished with value: 0.06130292830247671 and parameters: {'max_depth': 9, 'eta': 0.37418872054465285, 'gamma': 0.017643962901922584, 'subsample': 0.446410546225227, 'colsample_bytree': 0.3769312780226183}. Best is trial 49 with value: 0.037242825271900086.\n"
     ]
    },
    {
     "name": "stdout",
     "output_type": "stream",
     "text": [
      "MAPE: 0.06130292830247671\n"
     ]
    },
    {
     "name": "stderr",
     "output_type": "stream",
     "text": [
      "[I 2023-07-19 23:14:59,904] Trial 829 finished with value: 0.2967507912181117 and parameters: {'max_depth': 8, 'eta': 0.10941199843754537, 'gamma': 0.5554891898712335, 'subsample': 0.6661229863204221, 'colsample_bytree': 0.630340678181658}. Best is trial 49 with value: 0.037242825271900086.\n"
     ]
    },
    {
     "name": "stdout",
     "output_type": "stream",
     "text": [
      "MAPE: 0.2967507912181117\n"
     ]
    },
    {
     "name": "stderr",
     "output_type": "stream",
     "text": [
      "[I 2023-07-19 23:15:00,878] Trial 830 finished with value: 0.8357020953428994 and parameters: {'max_depth': 8, 'eta': 0.01731944571181331, 'gamma': 0.28153366638690996, 'subsample': 0.48706367273071616, 'colsample_bytree': 0.6131385258421735}. Best is trial 49 with value: 0.037242825271900086.\n"
     ]
    },
    {
     "name": "stdout",
     "output_type": "stream",
     "text": [
      "MAPE: 0.8357020953428994\n"
     ]
    },
    {
     "name": "stderr",
     "output_type": "stream",
     "text": [
      "[I 2023-07-19 23:15:02,289] Trial 831 finished with value: 0.054216310179788556 and parameters: {'max_depth': 9, 'eta': 0.7616920067411947, 'gamma': 0.18401068888920655, 'subsample': 0.5990656013744702, 'colsample_bytree': 0.6596057697257051}. Best is trial 49 with value: 0.037242825271900086.\n"
     ]
    },
    {
     "name": "stdout",
     "output_type": "stream",
     "text": [
      "MAPE: 0.054216310179788556\n"
     ]
    },
    {
     "name": "stderr",
     "output_type": "stream",
     "text": [
      "[I 2023-07-19 23:15:03,345] Trial 832 finished with value: 0.147871176084301 and parameters: {'max_depth': 8, 'eta': 0.17196183102186174, 'gamma': 0.2368699802739076, 'subsample': 0.3743882064093937, 'colsample_bytree': 0.738439440164826}. Best is trial 49 with value: 0.037242825271900086.\n"
     ]
    },
    {
     "name": "stdout",
     "output_type": "stream",
     "text": [
      "MAPE: 0.147871176084301\n"
     ]
    },
    {
     "name": "stderr",
     "output_type": "stream",
     "text": [
      "[I 2023-07-19 23:15:04,923] Trial 833 finished with value: 0.06286053449486399 and parameters: {'max_depth': 10, 'eta': 0.6281769102823349, 'gamma': 0.45585659444090443, 'subsample': 0.5510087151614927, 'colsample_bytree': 0.6976898287235042}. Best is trial 49 with value: 0.037242825271900086.\n"
     ]
    },
    {
     "name": "stdout",
     "output_type": "stream",
     "text": [
      "MAPE: 0.06286053449486399\n"
     ]
    },
    {
     "name": "stderr",
     "output_type": "stream",
     "text": [
      "[I 2023-07-19 23:15:06,263] Trial 834 finished with value: 0.24697073495204122 and parameters: {'max_depth': 8, 'eta': 0.12471261561807201, 'gamma': 0.3826421860425965, 'subsample': 0.7931782456953326, 'colsample_bytree': 0.7868996499189562}. Best is trial 49 with value: 0.037242825271900086.\n"
     ]
    },
    {
     "name": "stdout",
     "output_type": "stream",
     "text": [
      "MAPE: 0.24697073495204122\n"
     ]
    },
    {
     "name": "stderr",
     "output_type": "stream",
     "text": [
      "[I 2023-07-19 23:15:07,531] Trial 835 finished with value: 0.09743019355714105 and parameters: {'max_depth': 9, 'eta': 0.21887355199147493, 'gamma': 0.043003519870623653, 'subsample': 0.5181980922048747, 'colsample_bytree': 0.6756922366581944}. Best is trial 49 with value: 0.037242825271900086.\n"
     ]
    },
    {
     "name": "stdout",
     "output_type": "stream",
     "text": [
      "MAPE: 0.09743019355714105\n"
     ]
    },
    {
     "name": "stderr",
     "output_type": "stream",
     "text": [
      "[I 2023-07-19 23:15:08,690] Trial 836 finished with value: 0.5836499129063739 and parameters: {'max_depth': 10, 'eta': 0.051144207642814944, 'gamma': 0.9979167806412568, 'subsample': 0.6345228718352962, 'colsample_bytree': 0.5499220867854563}. Best is trial 49 with value: 0.037242825271900086.\n"
     ]
    },
    {
     "name": "stdout",
     "output_type": "stream",
     "text": [
      "MAPE: 0.5836499129063739\n"
     ]
    },
    {
     "name": "stderr",
     "output_type": "stream",
     "text": [
      "[I 2023-07-19 23:15:10,162] Trial 837 finished with value: 0.7808379106107926 and parameters: {'max_depth': 10, 'eta': 0.02382583381324412, 'gamma': 0.013839959471479396, 'subsample': 0.9188967860308721, 'colsample_bytree': 0.6410413163011781}. Best is trial 49 with value: 0.037242825271900086.\n"
     ]
    },
    {
     "name": "stdout",
     "output_type": "stream",
     "text": [
      "MAPE: 0.7808379106107926\n"
     ]
    },
    {
     "name": "stderr",
     "output_type": "stream",
     "text": [
      "[I 2023-07-19 23:15:11,215] Trial 838 finished with value: 0.8107253031851207 and parameters: {'max_depth': 7, 'eta': 0.02006612708105374, 'gamma': 0.010018316771519762, 'subsample': 0.46521264916941457, 'colsample_bytree': 0.9822566659747685}. Best is trial 49 with value: 0.037242825271900086.\n"
     ]
    },
    {
     "name": "stdout",
     "output_type": "stream",
     "text": [
      "MAPE: 0.8107253031851207\n"
     ]
    },
    {
     "name": "stderr",
     "output_type": "stream",
     "text": [
      "[I 2023-07-19 23:15:12,484] Trial 839 finished with value: 0.11464695052640543 and parameters: {'max_depth': 10, 'eta': 0.19465854657015313, 'gamma': 0.15181801829853225, 'subsample': 0.5801934733002228, 'colsample_bytree': 0.6037213506942131}. Best is trial 49 with value: 0.037242825271900086.\n"
     ]
    },
    {
     "name": "stdout",
     "output_type": "stream",
     "text": [
      "MAPE: 0.11464695052640543\n"
     ]
    },
    {
     "name": "stderr",
     "output_type": "stream",
     "text": [
      "[I 2023-07-19 23:15:13,868] Trial 840 finished with value: 0.8191505872968271 and parameters: {'max_depth': 8, 'eta': 0.019152657128111532, 'gamma': 0.019750399871257516, 'subsample': 0.9025651216423844, 'colsample_bytree': 0.8478306934948366}. Best is trial 49 with value: 0.037242825271900086.\n"
     ]
    },
    {
     "name": "stdout",
     "output_type": "stream",
     "text": [
      "MAPE: 0.8191505872968271\n"
     ]
    },
    {
     "name": "stderr",
     "output_type": "stream",
     "text": [
      "[I 2023-07-19 23:15:14,894] Trial 841 finished with value: 0.05624670069000669 and parameters: {'max_depth': 9, 'eta': 0.331198004319019, 'gamma': 0.3300056236467576, 'subsample': 0.39440691938579553, 'colsample_bytree': 0.573555066363569}. Best is trial 49 with value: 0.037242825271900086.\n"
     ]
    },
    {
     "name": "stdout",
     "output_type": "stream",
     "text": [
      "MAPE: 0.05624670069000669\n"
     ]
    },
    {
     "name": "stderr",
     "output_type": "stream",
     "text": [
      "[I 2023-07-19 23:15:16,268] Trial 842 finished with value: 0.04350783609742405 and parameters: {'max_depth': 10, 'eta': 0.5022382735935126, 'gamma': 0.10745966620240537, 'subsample': 0.822543489845842, 'colsample_bytree': 0.6221731610206913}. Best is trial 49 with value: 0.037242825271900086.\n"
     ]
    },
    {
     "name": "stdout",
     "output_type": "stream",
     "text": [
      "MAPE: 0.04350783609742405\n"
     ]
    },
    {
     "name": "stderr",
     "output_type": "stream",
     "text": [
      "[I 2023-07-19 23:15:16,546] Trial 843 finished with value: 0.3252574701378139 and parameters: {'max_depth': 2, 'eta': 0.09958150196000863, 'gamma': 0.1069152572599965, 'subsample': 0.84157927583839, 'colsample_bytree': 0.4003199777300196}. Best is trial 49 with value: 0.037242825271900086.\n"
     ]
    },
    {
     "name": "stdout",
     "output_type": "stream",
     "text": [
      "MAPE: 0.3252574701378139\n"
     ]
    },
    {
     "name": "stderr",
     "output_type": "stream",
     "text": [
      "[I 2023-07-19 23:15:17,956] Trial 844 finished with value: 0.05216097103777698 and parameters: {'max_depth': 10, 'eta': 0.5069375476403891, 'gamma': 0.11806513541495932, 'subsample': 0.8268477510667888, 'colsample_bytree': 0.6190712350508494}. Best is trial 49 with value: 0.037242825271900086.\n"
     ]
    },
    {
     "name": "stdout",
     "output_type": "stream",
     "text": [
      "MAPE: 0.05216097103777698\n"
     ]
    },
    {
     "name": "stderr",
     "output_type": "stream",
     "text": [
      "[I 2023-07-19 23:15:18,954] Trial 845 finished with value: 0.07635724637226501 and parameters: {'max_depth': 9, 'eta': 0.5857556414063219, 'gamma': 0.09236808687704909, 'subsample': 0.7790806836482025, 'colsample_bytree': 0.3398261432142358}. Best is trial 49 with value: 0.037242825271900086.\n"
     ]
    },
    {
     "name": "stdout",
     "output_type": "stream",
     "text": [
      "MAPE: 0.07635724637226501\n"
     ]
    },
    {
     "name": "stderr",
     "output_type": "stream",
     "text": [
      "[I 2023-07-19 23:15:20,761] Trial 846 finished with value: 0.052136855117701 and parameters: {'max_depth': 10, 'eta': 0.6890713276067404, 'gamma': 0.11249022159837894, 'subsample': 0.8386545751626153, 'colsample_bytree': 0.823779976095032}. Best is trial 49 with value: 0.037242825271900086.\n"
     ]
    },
    {
     "name": "stdout",
     "output_type": "stream",
     "text": [
      "MAPE: 0.052136855117701\n"
     ]
    },
    {
     "name": "stderr",
     "output_type": "stream",
     "text": [
      "[I 2023-07-19 23:15:22,168] Trial 847 finished with value: 0.05218752552297031 and parameters: {'max_depth': 8, 'eta': 0.5463616968789955, 'gamma': 0.09913591036026906, 'subsample': 0.8734619944433135, 'colsample_bytree': 0.8183718797287172}. Best is trial 49 with value: 0.037242825271900086.\n"
     ]
    },
    {
     "name": "stdout",
     "output_type": "stream",
     "text": [
      "MAPE: 0.05218752552297031\n"
     ]
    },
    {
     "name": "stderr",
     "output_type": "stream",
     "text": [
      "[I 2023-07-19 23:15:23,057] Trial 848 finished with value: 0.20441962050983542 and parameters: {'max_depth': 10, 'eta': 0.13692287928274802, 'gamma': 0.1286382527665685, 'subsample': 0.7792613688873281, 'colsample_bytree': 0.2072250861128157}. Best is trial 49 with value: 0.037242825271900086.\n"
     ]
    },
    {
     "name": "stdout",
     "output_type": "stream",
     "text": [
      "MAPE: 0.20441962050983542\n"
     ]
    },
    {
     "name": "stderr",
     "output_type": "stream",
     "text": [
      "[I 2023-07-19 23:15:24,095] Trial 849 finished with value: 0.05822016636236827 and parameters: {'max_depth': 8, 'eta': 0.6353221693948916, 'gamma': 0.0843372322930628, 'subsample': 0.6848766344475804, 'colsample_bytree': 0.5327054434532907}. Best is trial 49 with value: 0.037242825271900086.\n"
     ]
    },
    {
     "name": "stdout",
     "output_type": "stream",
     "text": [
      "MAPE: 0.05822016636236827\n"
     ]
    },
    {
     "name": "stderr",
     "output_type": "stream",
     "text": [
      "[I 2023-07-19 23:15:25,872] Trial 850 finished with value: 0.08748623466985726 and parameters: {'max_depth': 10, 'eta': 0.2380728000492605, 'gamma': 0.012351945220082731, 'subsample': 0.8131780630500516, 'colsample_bytree': 0.922350273620713}. Best is trial 49 with value: 0.037242825271900086.\n"
     ]
    },
    {
     "name": "stdout",
     "output_type": "stream",
     "text": [
      "MAPE: 0.08748623466985726\n"
     ]
    },
    {
     "name": "stderr",
     "output_type": "stream",
     "text": [
      "[I 2023-07-19 23:15:27,280] Trial 851 finished with value: 0.04202355074409585 and parameters: {'max_depth': 10, 'eta': 0.49678364259534885, 'gamma': 0.7620814347826358, 'subsample': 0.8697359478137938, 'colsample_bytree': 0.5811632703993618}. Best is trial 49 with value: 0.037242825271900086.\n"
     ]
    },
    {
     "name": "stdout",
     "output_type": "stream",
     "text": [
      "MAPE: 0.04202355074409585\n"
     ]
    },
    {
     "name": "stderr",
     "output_type": "stream",
     "text": [
      "[I 2023-07-19 23:15:28,382] Trial 852 finished with value: 0.04334815866450574 and parameters: {'max_depth': 8, 'eta': 0.492367534874305, 'gamma': 0.7106634977604185, 'subsample': 0.910452888523075, 'colsample_bytree': 0.5948794010396387}. Best is trial 49 with value: 0.037242825271900086.\n"
     ]
    },
    {
     "name": "stdout",
     "output_type": "stream",
     "text": [
      "MAPE: 0.04334815866450574\n"
     ]
    },
    {
     "name": "stderr",
     "output_type": "stream",
     "text": [
      "[I 2023-07-19 23:15:29,262] Trial 853 finished with value: 0.07211668155668208 and parameters: {'max_depth': 8, 'eta': 0.4216852099915642, 'gamma': 0.5977502098705667, 'subsample': 0.8835093985553815, 'colsample_bytree': 0.3328656116880271}. Best is trial 49 with value: 0.037242825271900086.\n"
     ]
    },
    {
     "name": "stdout",
     "output_type": "stream",
     "text": [
      "MAPE: 0.07211668155668208\n"
     ]
    },
    {
     "name": "stderr",
     "output_type": "stream",
     "text": [
      "[I 2023-07-19 23:15:30,635] Trial 854 finished with value: 0.04524574493292782 and parameters: {'max_depth': 10, 'eta': 0.4716703997343207, 'gamma': 0.7111456068836104, 'subsample': 0.9085359204098981, 'colsample_bytree': 0.5999932382356125}. Best is trial 49 with value: 0.037242825271900086.\n"
     ]
    },
    {
     "name": "stdout",
     "output_type": "stream",
     "text": [
      "MAPE: 0.04524574493292782\n"
     ]
    },
    {
     "name": "stderr",
     "output_type": "stream",
     "text": [
      "[I 2023-07-19 23:15:30,919] Trial 855 finished with value: 0.8448092751606205 and parameters: {'max_depth': 3, 'eta': 0.015938434651532496, 'gamma': 0.8288977125361977, 'subsample': 0.9375682821358495, 'colsample_bytree': 0.1763592834527991}. Best is trial 49 with value: 0.037242825271900086.\n"
     ]
    },
    {
     "name": "stdout",
     "output_type": "stream",
     "text": [
      "MAPE: 0.8448092751606205\n"
     ]
    },
    {
     "name": "stderr",
     "output_type": "stream",
     "text": [
      "[I 2023-07-19 23:15:32,146] Trial 856 finished with value: 0.05531079228579445 and parameters: {'max_depth': 9, 'eta': 0.4846331523012648, 'gamma': 0.7514369776514587, 'subsample': 0.8733267285036848, 'colsample_bytree': 0.6216840495557974}. Best is trial 49 with value: 0.037242825271900086.\n"
     ]
    },
    {
     "name": "stdout",
     "output_type": "stream",
     "text": [
      "MAPE: 0.05531079228579445\n"
     ]
    },
    {
     "name": "stderr",
     "output_type": "stream",
     "text": [
      "[I 2023-07-19 23:15:33,491] Trial 857 finished with value: 0.05311393324048965 and parameters: {'max_depth': 10, 'eta': 0.43133268584827944, 'gamma': 0.780484363623116, 'subsample': 0.8621440631440741, 'colsample_bytree': 0.5900526281571803}. Best is trial 49 with value: 0.037242825271900086.\n"
     ]
    },
    {
     "name": "stdout",
     "output_type": "stream",
     "text": [
      "MAPE: 0.05311393324048965\n"
     ]
    },
    {
     "name": "stderr",
     "output_type": "stream",
     "text": [
      "[I 2023-07-19 23:15:34,449] Trial 858 finished with value: 0.05730177155906755 and parameters: {'max_depth': 7, 'eta': 0.5059163466618811, 'gamma': 0.8558351011528471, 'subsample': 0.8971866201043259, 'colsample_bytree': 0.6075758053748028}. Best is trial 49 with value: 0.037242825271900086.\n"
     ]
    },
    {
     "name": "stdout",
     "output_type": "stream",
     "text": [
      "MAPE: 0.05730177155906755\n"
     ]
    },
    {
     "name": "stderr",
     "output_type": "stream",
     "text": [
      "[I 2023-07-19 23:15:35,753] Trial 859 finished with value: 0.047160250477954184 and parameters: {'max_depth': 8, 'eta': 0.8545562169493709, 'gamma': 0.690549537162302, 'subsample': 0.8825263576803842, 'colsample_bytree': 0.6480165439897551}. Best is trial 49 with value: 0.037242825271900086.\n"
     ]
    },
    {
     "name": "stdout",
     "output_type": "stream",
     "text": [
      "MAPE: 0.047160250477954184\n"
     ]
    },
    {
     "name": "stderr",
     "output_type": "stream",
     "text": [
      "[I 2023-07-19 23:15:37,157] Trial 860 finished with value: 0.055030505309031225 and parameters: {'max_depth': 10, 'eta': 0.4477263402843043, 'gamma': 0.7545816548579536, 'subsample': 0.9177293214572217, 'colsample_bytree': 0.6245329968203119}. Best is trial 49 with value: 0.037242825271900086.\n"
     ]
    },
    {
     "name": "stdout",
     "output_type": "stream",
     "text": [
      "MAPE: 0.055030505309031225\n"
     ]
    },
    {
     "name": "stderr",
     "output_type": "stream",
     "text": [
      "[I 2023-07-19 23:15:38,786] Trial 861 finished with value: 0.04922425972317931 and parameters: {'max_depth': 9, 'eta': 0.5166649846791349, 'gamma': 0.7154754336009661, 'subsample': 0.9515477156034138, 'colsample_bytree': 0.874517928755149}. Best is trial 49 with value: 0.037242825271900086.\n"
     ]
    },
    {
     "name": "stdout",
     "output_type": "stream",
     "text": [
      "MAPE: 0.04922425972317931\n"
     ]
    },
    {
     "name": "stderr",
     "output_type": "stream",
     "text": [
      "[I 2023-07-19 23:15:40,054] Trial 862 finished with value: 0.04946795002097123 and parameters: {'max_depth': 8, 'eta': 0.7404833657638039, 'gamma': 0.6332821601348675, 'subsample': 0.9290228753848906, 'colsample_bytree': 0.6341188063742419}. Best is trial 49 with value: 0.037242825271900086.\n"
     ]
    },
    {
     "name": "stdout",
     "output_type": "stream",
     "text": [
      "MAPE: 0.04946795002097123\n"
     ]
    },
    {
     "name": "stderr",
     "output_type": "stream",
     "text": [
      "[I 2023-07-19 23:15:41,368] Trial 863 finished with value: 0.8719173023005888 and parameters: {'max_depth': 10, 'eta': 0.01329639256629775, 'gamma': 0.9054346319680394, 'subsample': 0.865423110570801, 'colsample_bytree': 0.5884152247617394}. Best is trial 49 with value: 0.037242825271900086.\n"
     ]
    },
    {
     "name": "stdout",
     "output_type": "stream",
     "text": [
      "MAPE: 0.8719173023005888\n"
     ]
    },
    {
     "name": "stderr",
     "output_type": "stream",
     "text": [
      "[I 2023-07-19 23:15:42,831] Trial 864 finished with value: 0.4863709302352658 and parameters: {'max_depth': 10, 'eta': 0.06722242721657154, 'gamma': 0.647108627151744, 'subsample': 0.8017061510664754, 'colsample_bytree': 0.6696381877099411}. Best is trial 49 with value: 0.037242825271900086.\n"
     ]
    },
    {
     "name": "stdout",
     "output_type": "stream",
     "text": [
      "MAPE: 0.4863709302352658\n"
     ]
    },
    {
     "name": "stderr",
     "output_type": "stream",
     "text": [
      "[I 2023-07-19 23:15:44,521] Trial 865 finished with value: 0.05164927185695396 and parameters: {'max_depth': 10, 'eta': 0.47817555252205574, 'gamma': 0.8448347787137399, 'subsample': 0.9246727177615921, 'colsample_bytree': 0.7070047013283212}. Best is trial 49 with value: 0.037242825271900086.\n"
     ]
    },
    {
     "name": "stdout",
     "output_type": "stream",
     "text": [
      "MAPE: 0.05164927185695396\n"
     ]
    },
    {
     "name": "stderr",
     "output_type": "stream",
     "text": [
      "[I 2023-07-19 23:15:45,694] Trial 866 finished with value: 0.04744466757391335 and parameters: {'max_depth': 8, 'eta': 0.9147360525935162, 'gamma': 0.015634210565629327, 'subsample': 0.8889373938195219, 'colsample_bytree': 0.6125477578825419}. Best is trial 49 with value: 0.037242825271900086.\n"
     ]
    },
    {
     "name": "stdout",
     "output_type": "stream",
     "text": [
      "MAPE: 0.04744466757391335\n"
     ]
    },
    {
     "name": "stderr",
     "output_type": "stream",
     "text": [
      "[I 2023-07-19 23:15:46,545] Trial 867 finished with value: 0.5141424571424192 and parameters: {'max_depth': 9, 'eta': 0.06102713075783977, 'gamma': 0.5699518074371905, 'subsample': 0.8579287945959859, 'colsample_bytree': 0.21251762185485118}. Best is trial 49 with value: 0.037242825271900086.\n"
     ]
    },
    {
     "name": "stdout",
     "output_type": "stream",
     "text": [
      "MAPE: 0.5141424571424192\n"
     ]
    },
    {
     "name": "stderr",
     "output_type": "stream",
     "text": [
      "[I 2023-07-19 23:15:47,430] Trial 868 finished with value: 0.07454084404356615 and parameters: {'max_depth': 8, 'eta': 0.4174142011260973, 'gamma': 0.07540417510137165, 'subsample': 0.9054768509769995, 'colsample_bytree': 0.29884083856090543}. Best is trial 49 with value: 0.037242825271900086.\n"
     ]
    },
    {
     "name": "stdout",
     "output_type": "stream",
     "text": [
      "MAPE: 0.07454084404356615\n"
     ]
    },
    {
     "name": "stderr",
     "output_type": "stream",
     "text": [
      "[I 2023-07-19 23:15:48,312] Trial 869 finished with value: 0.381463403381235 and parameters: {'max_depth': 6, 'eta': 0.08807020970537312, 'gamma': 0.011182642464685297, 'subsample': 0.8313298890361565, 'colsample_bytree': 0.649243165290318}. Best is trial 49 with value: 0.037242825271900086.\n"
     ]
    },
    {
     "name": "stdout",
     "output_type": "stream",
     "text": [
      "MAPE: 0.381463403381235\n"
     ]
    },
    {
     "name": "stderr",
     "output_type": "stream",
     "text": [
      "[I 2023-07-19 23:15:50,013] Trial 870 finished with value: 0.7606769538888526 and parameters: {'max_depth': 10, 'eta': 0.02624402525874266, 'gamma': 0.04020057806158374, 'subsample': 0.8190325886474085, 'colsample_bytree': 0.7620199367711122}. Best is trial 49 with value: 0.037242825271900086.\n"
     ]
    },
    {
     "name": "stdout",
     "output_type": "stream",
     "text": [
      "MAPE: 0.7606769538888526\n"
     ]
    },
    {
     "name": "stderr",
     "output_type": "stream",
     "text": [
      "[I 2023-07-19 23:15:51,545] Trial 871 finished with value: 0.09495932018052115 and parameters: {'max_depth': 10, 'eta': 0.22111003181799352, 'gamma': 0.5330225350923242, 'subsample': 0.9089014534870927, 'colsample_bytree': 0.6861018334127408}. Best is trial 49 with value: 0.037242825271900086.\n"
     ]
    },
    {
     "name": "stdout",
     "output_type": "stream",
     "text": [
      "MAPE: 0.09495932018052115\n"
     ]
    },
    {
     "name": "stderr",
     "output_type": "stream",
     "text": [
      "[I 2023-07-19 23:15:52,008] Trial 872 finished with value: 0.059600550018386635 and parameters: {'max_depth': 4, 'eta': 0.8035625154976394, 'gamma': 0.05666519297301437, 'subsample': 0.2957593307041545, 'colsample_bytree': 0.6276180469793762}. Best is trial 49 with value: 0.037242825271900086.\n"
     ]
    },
    {
     "name": "stdout",
     "output_type": "stream",
     "text": [
      "MAPE: 0.059600550018386635\n"
     ]
    },
    {
     "name": "stderr",
     "output_type": "stream",
     "text": [
      "[I 2023-07-19 23:15:53,131] Trial 873 finished with value: 0.04763275736027524 and parameters: {'max_depth': 8, 'eta': 0.5949301541493938, 'gamma': 0.7831307105029741, 'subsample': 0.8905094759683337, 'colsample_bytree': 0.5954043213829701}. Best is trial 49 with value: 0.037242825271900086.\n"
     ]
    },
    {
     "name": "stdout",
     "output_type": "stream",
     "text": [
      "MAPE: 0.04763275736027524\n"
     ]
    },
    {
     "name": "stderr",
     "output_type": "stream",
     "text": [
      "[I 2023-07-19 23:15:54,680] Trial 874 finished with value: 0.05214783306561822 and parameters: {'max_depth': 10, 'eta': 0.5272070897311946, 'gamma': 0.02332355447452098, 'subsample': 0.8409105095317297, 'colsample_bytree': 0.6593110454595377}. Best is trial 49 with value: 0.037242825271900086.\n"
     ]
    },
    {
     "name": "stdout",
     "output_type": "stream",
     "text": [
      "MAPE: 0.05214783306561822\n"
     ]
    },
    {
     "name": "stderr",
     "output_type": "stream",
     "text": [
      "[I 2023-07-19 23:15:56,106] Trial 875 finished with value: 0.2634893630257737 and parameters: {'max_depth': 10, 'eta': 0.12065412825811801, 'gamma': 0.04864343937238643, 'subsample': 0.9444141530473185, 'colsample_bytree': 0.6153570293824282}. Best is trial 49 with value: 0.037242825271900086.\n"
     ]
    },
    {
     "name": "stdout",
     "output_type": "stream",
     "text": [
      "MAPE: 0.2634893630257737\n"
     ]
    },
    {
     "name": "stderr",
     "output_type": "stream",
     "text": [
      "[I 2023-07-19 23:15:57,443] Trial 876 finished with value: 0.0752837856700956 and parameters: {'max_depth': 9, 'eta': 0.2581318189851297, 'gamma': 0.019303283583574703, 'subsample': 0.8241346043738124, 'colsample_bytree': 0.6396799884790044}. Best is trial 49 with value: 0.037242825271900086.\n"
     ]
    },
    {
     "name": "stdout",
     "output_type": "stream",
     "text": [
      "MAPE: 0.0752837856700956\n"
     ]
    },
    {
     "name": "stderr",
     "output_type": "stream",
     "text": [
      "[I 2023-07-19 23:15:58,354] Trial 877 finished with value: 0.07547505493369304 and parameters: {'max_depth': 10, 'eta': 0.39228769348400316, 'gamma': 0.48673828251351064, 'subsample': 0.8176438425151451, 'colsample_bytree': 0.19078322013295462}. Best is trial 49 with value: 0.037242825271900086.\n"
     ]
    },
    {
     "name": "stdout",
     "output_type": "stream",
     "text": [
      "MAPE: 0.07547505493369304\n"
     ]
    },
    {
     "name": "stderr",
     "output_type": "stream",
     "text": [
      "[I 2023-07-19 23:15:59,210] Trial 878 finished with value: 0.9010519811079896 and parameters: {'max_depth': 8, 'eta': 0.010067648196970718, 'gamma': 0.42465121604400297, 'subsample': 0.9284753447013591, 'colsample_bytree': 0.4373936981964321}. Best is trial 49 with value: 0.037242825271900086.\n"
     ]
    },
    {
     "name": "stdout",
     "output_type": "stream",
     "text": [
      "MAPE: 0.9010519811079896\n"
     ]
    },
    {
     "name": "stderr",
     "output_type": "stream",
     "text": [
      "[I 2023-07-19 23:16:00,698] Trial 879 finished with value: 0.05799401565625786 and parameters: {'max_depth': 10, 'eta': 0.6653209401625454, 'gamma': 0.014685917456751857, 'subsample': 0.9001486379918685, 'colsample_bytree': 0.5797887034697519}. Best is trial 49 with value: 0.037242825271900086.\n"
     ]
    },
    {
     "name": "stdout",
     "output_type": "stream",
     "text": [
      "MAPE: 0.05799401565625786\n"
     ]
    },
    {
     "name": "stderr",
     "output_type": "stream",
     "text": [
      "[I 2023-07-19 23:16:01,607] Trial 880 finished with value: 0.43034910255830183 and parameters: {'max_depth': 10, 'eta': 0.0762534534200304, 'gamma': 0.02152094967892428, 'subsample': 0.9437180393155359, 'colsample_bytree': 0.2487157775084624}. Best is trial 49 with value: 0.037242825271900086.\n"
     ]
    },
    {
     "name": "stdout",
     "output_type": "stream",
     "text": [
      "MAPE: 0.43034910255830183\n"
     ]
    },
    {
     "name": "stderr",
     "output_type": "stream",
     "text": [
      "[I 2023-07-19 23:16:03,125] Trial 881 finished with value: 0.06345250303241348 and parameters: {'max_depth': 9, 'eta': 0.5547022341431319, 'gamma': 0.03229056291187026, 'subsample': 0.8791465323644826, 'colsample_bytree': 0.7276081441333792}. Best is trial 49 with value: 0.037242825271900086.\n"
     ]
    },
    {
     "name": "stdout",
     "output_type": "stream",
     "text": [
      "MAPE: 0.06345250303241348\n"
     ]
    },
    {
     "name": "stderr",
     "output_type": "stream",
     "text": [
      "[I 2023-07-19 23:16:04,388] Trial 882 finished with value: 0.04255527361677297 and parameters: {'max_depth': 8, 'eta': 0.7166691776305786, 'gamma': 0.3032089816831786, 'subsample': 0.8395535822551248, 'colsample_bytree': 0.6838398531522183}. Best is trial 49 with value: 0.037242825271900086.\n"
     ]
    },
    {
     "name": "stdout",
     "output_type": "stream",
     "text": [
      "MAPE: 0.04255527361677297\n"
     ]
    },
    {
     "name": "stderr",
     "output_type": "stream",
     "text": [
      "[I 2023-07-19 23:16:05,750] Trial 883 finished with value: 0.050345305972131583 and parameters: {'max_depth': 8, 'eta': 0.7152262257046821, 'gamma': 0.026399950311765893, 'subsample': 0.850704825710067, 'colsample_bytree': 0.7115893528371507}. Best is trial 49 with value: 0.037242825271900086.\n"
     ]
    },
    {
     "name": "stdout",
     "output_type": "stream",
     "text": [
      "MAPE: 0.050345305972131583\n"
     ]
    },
    {
     "name": "stderr",
     "output_type": "stream",
     "text": [
      "[I 2023-07-19 23:16:06,689] Trial 884 finished with value: 0.0700923342916357 and parameters: {'max_depth': 8, 'eta': 0.7932389295040303, 'gamma': 0.2903986496570578, 'subsample': 0.860919784789926, 'colsample_bytree': 0.4247556771366861}. Best is trial 49 with value: 0.037242825271900086.\n"
     ]
    },
    {
     "name": "stdout",
     "output_type": "stream",
     "text": [
      "MAPE: 0.0700923342916357\n"
     ]
    },
    {
     "name": "stderr",
     "output_type": "stream",
     "text": [
      "[I 2023-07-19 23:16:07,892] Trial 885 finished with value: 0.7427708851824198 and parameters: {'max_depth': 8, 'eta': 0.028349005541091116, 'gamma': 0.3144883950843559, 'subsample': 0.8509565213239746, 'colsample_bytree': 0.6865373726825789}. Best is trial 49 with value: 0.037242825271900086.\n"
     ]
    },
    {
     "name": "stdout",
     "output_type": "stream",
     "text": [
      "MAPE: 0.7427708851824198\n"
     ]
    },
    {
     "name": "stderr",
     "output_type": "stream",
     "text": [
      "[I 2023-07-19 23:16:09,148] Trial 886 finished with value: 0.04791785692040039 and parameters: {'max_depth': 8, 'eta': 0.826852959305737, 'gamma': 0.2709632522254334, 'subsample': 0.8058264076268032, 'colsample_bytree': 0.6872892515538748}. Best is trial 49 with value: 0.037242825271900086.\n"
     ]
    },
    {
     "name": "stdout",
     "output_type": "stream",
     "text": [
      "MAPE: 0.04791785692040039\n"
     ]
    },
    {
     "name": "stderr",
     "output_type": "stream",
     "text": [
      "[I 2023-07-19 23:16:10,373] Trial 887 finished with value: 0.042746394339524665 and parameters: {'max_depth': 8, 'eta': 0.7205214007641223, 'gamma': 0.2559262426248653, 'subsample': 0.8430705600970498, 'colsample_bytree': 0.6707490945670863}. Best is trial 49 with value: 0.037242825271900086.\n"
     ]
    },
    {
     "name": "stdout",
     "output_type": "stream",
     "text": [
      "MAPE: 0.042746394339524665\n"
     ]
    },
    {
     "name": "stderr",
     "output_type": "stream",
     "text": [
      "[I 2023-07-19 23:16:11,408] Trial 888 finished with value: 0.18060050190555837 and parameters: {'max_depth': 7, 'eta': 0.15210811246627476, 'gamma': 0.2617915534167549, 'subsample': 0.8359345327161808, 'colsample_bytree': 0.6668404333322799}. Best is trial 49 with value: 0.037242825271900086.\n"
     ]
    },
    {
     "name": "stdout",
     "output_type": "stream",
     "text": [
      "MAPE: 0.18060050190555837\n"
     ]
    },
    {
     "name": "stderr",
     "output_type": "stream",
     "text": [
      "[I 2023-07-19 23:16:12,869] Trial 889 finished with value: 0.051086943307517584 and parameters: {'max_depth': 8, 'eta': 0.7301020280943924, 'gamma': 0.24250488144039867, 'subsample': 0.8583601103701473, 'colsample_bytree': 0.8735156173717302}. Best is trial 49 with value: 0.037242825271900086.\n"
     ]
    },
    {
     "name": "stdout",
     "output_type": "stream",
     "text": [
      "MAPE: 0.051086943307517584\n"
     ]
    },
    {
     "name": "stderr",
     "output_type": "stream",
     "text": [
      "[I 2023-07-19 23:16:14,189] Trial 890 finished with value: 0.6398260287746569 and parameters: {'max_depth': 8, 'eta': 0.04233830025041749, 'gamma': 0.2939208572565047, 'subsample': 0.8473594242620414, 'colsample_bytree': 0.6989583403091937}. Best is trial 49 with value: 0.037242825271900086.\n"
     ]
    },
    {
     "name": "stdout",
     "output_type": "stream",
     "text": [
      "MAPE: 0.6398260287746569\n"
     ]
    },
    {
     "name": "stderr",
     "output_type": "stream",
     "text": [
      "[I 2023-07-19 23:16:15,436] Trial 891 finished with value: 0.04896061492374007 and parameters: {'max_depth': 8, 'eta': 0.672528964313324, 'gamma': 0.23742490265313929, 'subsample': 0.8766885399842975, 'colsample_bytree': 0.6529309242772456}. Best is trial 49 with value: 0.037242825271900086.\n"
     ]
    },
    {
     "name": "stdout",
     "output_type": "stream",
     "text": [
      "MAPE: 0.04896061492374007\n"
     ]
    },
    {
     "name": "stderr",
     "output_type": "stream",
     "text": [
      "[I 2023-07-19 23:16:16,682] Trial 892 finished with value: 0.04103389439135824 and parameters: {'max_depth': 8, 'eta': 0.62709875873556, 'gamma': 0.32531972857543906, 'subsample': 0.8501431532326509, 'colsample_bytree': 0.6705784599786158}. Best is trial 49 with value: 0.037242825271900086.\n"
     ]
    },
    {
     "name": "stdout",
     "output_type": "stream",
     "text": [
      "MAPE: 0.04103389439135824\n"
     ]
    },
    {
     "name": "stderr",
     "output_type": "stream",
     "text": [
      "[I 2023-07-19 23:16:17,804] Trial 893 finished with value: 0.05709477516254794 and parameters: {'max_depth': 8, 'eta': 0.6569615022669638, 'gamma': 0.3222461589385111, 'subsample': 0.8414253963272695, 'colsample_bytree': 0.6058828588133007}. Best is trial 49 with value: 0.037242825271900086.\n"
     ]
    },
    {
     "name": "stdout",
     "output_type": "stream",
     "text": [
      "MAPE: 0.05709477516254794\n"
     ]
    },
    {
     "name": "stderr",
     "output_type": "stream",
     "text": [
      "[I 2023-07-19 23:16:19,250] Trial 894 finished with value: 0.04968491726289694 and parameters: {'max_depth': 8, 'eta': 0.741397559053868, 'gamma': 0.27157330941586166, 'subsample': 0.8189126739719769, 'colsample_bytree': 0.8941654547719039}. Best is trial 49 with value: 0.037242825271900086.\n"
     ]
    },
    {
     "name": "stdout",
     "output_type": "stream",
     "text": [
      "MAPE: 0.04968491726289694\n"
     ]
    },
    {
     "name": "stderr",
     "output_type": "stream",
     "text": [
      "[I 2023-07-19 23:16:20,259] Trial 895 finished with value: 0.06285231673306281 and parameters: {'max_depth': 8, 'eta': 0.6344614933192386, 'gamma': 0.29290055487654887, 'subsample': 0.8668250004283221, 'colsample_bytree': 0.4992919960894375}. Best is trial 49 with value: 0.037242825271900086.\n"
     ]
    },
    {
     "name": "stdout",
     "output_type": "stream",
     "text": [
      "MAPE: 0.06285231673306281\n"
     ]
    },
    {
     "name": "stderr",
     "output_type": "stream",
     "text": [
      "[I 2023-07-19 23:16:21,431] Trial 896 finished with value: 0.6281247744664029 and parameters: {'max_depth': 8, 'eta': 0.04402738142678901, 'gamma': 0.32005440994945267, 'subsample': 0.8274088959575185, 'colsample_bytree': 0.6760380135686256}. Best is trial 49 with value: 0.037242825271900086.\n"
     ]
    },
    {
     "name": "stdout",
     "output_type": "stream",
     "text": [
      "MAPE: 0.6281247744664029\n"
     ]
    },
    {
     "name": "stderr",
     "output_type": "stream",
     "text": [
      "[I 2023-07-19 23:16:22,598] Trial 897 finished with value: 0.05035219696017037 and parameters: {'max_depth': 8, 'eta': 0.7038754924489504, 'gamma': 0.33752988293998637, 'subsample': 0.8530569387915821, 'colsample_bytree': 0.581507655345907}. Best is trial 49 with value: 0.037242825271900086.\n"
     ]
    },
    {
     "name": "stdout",
     "output_type": "stream",
     "text": [
      "MAPE: 0.05035219696017037\n"
     ]
    },
    {
     "name": "stderr",
     "output_type": "stream",
     "text": [
      "[I 2023-07-19 23:16:23,662] Trial 898 finished with value: 0.051771667693146985 and parameters: {'max_depth': 7, 'eta': 0.6022135873846153, 'gamma': 0.25671330174024176, 'subsample': 0.8300169331014633, 'colsample_bytree': 0.6600380511065577}. Best is trial 49 with value: 0.037242825271900086.\n"
     ]
    },
    {
     "name": "stdout",
     "output_type": "stream",
     "text": [
      "MAPE: 0.051771667693146985\n"
     ]
    },
    {
     "name": "stderr",
     "output_type": "stream",
     "text": [
      "[I 2023-07-19 23:16:24,597] Trial 899 finished with value: 0.06856695857281404 and parameters: {'max_depth': 8, 'eta': 0.31839422950575014, 'gamma': 0.2715625296546739, 'subsample': 0.8761779337474286, 'colsample_bytree': 0.47854390303511396}. Best is trial 49 with value: 0.037242825271900086.\n"
     ]
    },
    {
     "name": "stdout",
     "output_type": "stream",
     "text": [
      "MAPE: 0.06856695857281404\n"
     ]
    },
    {
     "name": "stderr",
     "output_type": "stream",
     "text": [
      "[I 2023-07-19 23:16:25,947] Trial 900 finished with value: 0.8888962301900131 and parameters: {'max_depth': 8, 'eta': 0.011370881989351402, 'gamma': 0.05334847758375313, 'subsample': 0.8055629566023864, 'colsample_bytree': 0.844408169899185}. Best is trial 49 with value: 0.037242825271900086.\n"
     ]
    },
    {
     "name": "stdout",
     "output_type": "stream",
     "text": [
      "MAPE: 0.8888962301900131\n"
     ]
    },
    {
     "name": "stderr",
     "output_type": "stream",
     "text": [
      "[I 2023-07-19 23:16:26,975] Trial 901 finished with value: 0.8617029475394774 and parameters: {'max_depth': 8, 'eta': 0.014398025444338764, 'gamma': 0.36431605257024674, 'subsample': 0.8529547674954399, 'colsample_bytree': 0.6017456930727404}. Best is trial 49 with value: 0.037242825271900086.\n"
     ]
    },
    {
     "name": "stdout",
     "output_type": "stream",
     "text": [
      "MAPE: 0.8617029475394774\n"
     ]
    },
    {
     "name": "stderr",
     "output_type": "stream",
     "text": [
      "[I 2023-07-19 23:16:28,154] Trial 902 finished with value: 0.601103655157017 and parameters: {'max_depth': 8, 'eta': 0.04808100611323933, 'gamma': 0.017865372303583642, 'subsample': 0.8010163046931287, 'colsample_bytree': 0.6321277006331263}. Best is trial 49 with value: 0.037242825271900086.\n"
     ]
    },
    {
     "name": "stdout",
     "output_type": "stream",
     "text": [
      "MAPE: 0.601103655157017\n"
     ]
    },
    {
     "name": "stderr",
     "output_type": "stream",
     "text": [
      "[I 2023-07-19 23:16:28,590] Trial 903 finished with value: 0.14964401985603518 and parameters: {'max_depth': 9, 'eta': 0.16693038160028928, 'gamma': 0.30389631371101533, 'subsample': 0.8727976778313571, 'colsample_bytree': 0.11780550404583112}. Best is trial 49 with value: 0.037242825271900086.\n"
     ]
    },
    {
     "name": "stdout",
     "output_type": "stream",
     "text": [
      "MAPE: 0.14964401985603518\n"
     ]
    },
    {
     "name": "stderr",
     "output_type": "stream",
     "text": [
      "[I 2023-07-19 23:16:29,503] Trial 904 finished with value: 0.32730457441732763 and parameters: {'max_depth': 7, 'eta': 0.10096743507925549, 'gamma': 0.035010915112520885, 'subsample': 0.8389164656193691, 'colsample_bytree': 0.5785523372777175}. Best is trial 49 with value: 0.037242825271900086.\n"
     ]
    },
    {
     "name": "stdout",
     "output_type": "stream",
     "text": [
      "MAPE: 0.32730457441732763\n"
     ]
    },
    {
     "name": "stderr",
     "output_type": "stream",
     "text": [
      "[I 2023-07-19 23:16:30,639] Trial 905 finished with value: 0.05147893533244604 and parameters: {'max_depth': 8, 'eta': 0.6799359884267577, 'gamma': 0.06601924432786155, 'subsample': 0.8148740311426523, 'colsample_bytree': 0.6181077754062559}. Best is trial 49 with value: 0.037242825271900086.\n"
     ]
    },
    {
     "name": "stdout",
     "output_type": "stream",
     "text": [
      "MAPE: 0.05147893533244604\n"
     ]
    },
    {
     "name": "stderr",
     "output_type": "stream",
     "text": [
      "[I 2023-07-19 23:16:31,942] Trial 906 finished with value: 0.055362593198874946 and parameters: {'max_depth': 9, 'eta': 0.7558560597076809, 'gamma': 0.23962143061513416, 'subsample': 0.8885604303327033, 'colsample_bytree': 0.5610988991124927}. Best is trial 49 with value: 0.037242825271900086.\n"
     ]
    },
    {
     "name": "stdout",
     "output_type": "stream",
     "text": [
      "MAPE: 0.055362593198874946\n"
     ]
    },
    {
     "name": "stderr",
     "output_type": "stream",
     "text": [
      "[I 2023-07-19 23:16:33,228] Trial 907 finished with value: 0.036520611452337814 and parameters: {'max_depth': 8, 'eta': 0.6096258154878887, 'gamma': 0.037528638681386735, 'subsample': 0.8665460115692383, 'colsample_bytree': 0.6523037218779719}. Best is trial 907 with value: 0.036520611452337814.\n"
     ]
    },
    {
     "name": "stdout",
     "output_type": "stream",
     "text": [
      "MAPE: 0.036520611452337814\n"
     ]
    },
    {
     "name": "stderr",
     "output_type": "stream",
     "text": [
      "[I 2023-07-19 23:16:34,462] Trial 908 finished with value: 0.12490854216033356 and parameters: {'max_depth': 8, 'eta': 0.19058329107113128, 'gamma': 0.0257756437872915, 'subsample': 0.8905977188587836, 'colsample_bytree': 0.6737533100552185}. Best is trial 907 with value: 0.036520611452337814.\n"
     ]
    },
    {
     "name": "stdout",
     "output_type": "stream",
     "text": [
      "MAPE: 0.12490854216033356\n"
     ]
    },
    {
     "name": "stderr",
     "output_type": "stream",
     "text": [
      "[I 2023-07-19 23:16:35,717] Trial 909 finished with value: 0.04742316237632279 and parameters: {'max_depth': 8, 'eta': 0.6218234972452533, 'gamma': 0.03915973784012155, 'subsample': 0.8622649083702258, 'colsample_bytree': 0.6375323006231982}. Best is trial 907 with value: 0.036520611452337814.\n"
     ]
    },
    {
     "name": "stdout",
     "output_type": "stream",
     "text": [
      "MAPE: 0.04742316237632279\n"
     ]
    },
    {
     "name": "stderr",
     "output_type": "stream",
     "text": [
      "[I 2023-07-19 23:16:36,619] Trial 910 finished with value: 0.0860850465836107 and parameters: {'max_depth': 8, 'eta': 0.9172839385805758, 'gamma': 0.022950095503778155, 'subsample': 0.8723954449961067, 'colsample_bytree': 0.26730517425356176}. Best is trial 907 with value: 0.036520611452337814.\n"
     ]
    },
    {
     "name": "stdout",
     "output_type": "stream",
     "text": [
      "MAPE: 0.0860850465836107\n"
     ]
    },
    {
     "name": "stderr",
     "output_type": "stream",
     "text": [
      "[I 2023-07-19 23:16:38,062] Trial 911 finished with value: 0.05880530003190412 and parameters: {'max_depth': 8, 'eta': 0.6920343645345673, 'gamma': 0.020494073348709466, 'subsample': 0.9078887982856976, 'colsample_bytree': 0.9464907218221374}. Best is trial 907 with value: 0.036520611452337814.\n"
     ]
    },
    {
     "name": "stdout",
     "output_type": "stream",
     "text": [
      "MAPE: 0.05880530003190412\n"
     ]
    },
    {
     "name": "stderr",
     "output_type": "stream",
     "text": [
      "[I 2023-07-19 23:16:38,690] Trial 912 finished with value: 0.0726836989496106 and parameters: {'max_depth': 8, 'eta': 0.3699719810046619, 'gamma': 0.06287050273882645, 'subsample': 0.88541228317611, 'colsample_bytree': 0.16521834794743118}. Best is trial 907 with value: 0.036520611452337814.\n"
     ]
    },
    {
     "name": "stdout",
     "output_type": "stream",
     "text": [
      "MAPE: 0.0726836989496106\n"
     ]
    },
    {
     "name": "stderr",
     "output_type": "stream",
     "text": [
      "[I 2023-07-19 23:16:39,806] Trial 913 finished with value: 0.05433084107357536 and parameters: {'max_depth': 8, 'eta': 0.6039578993843988, 'gamma': 0.9183418663365673, 'subsample': 0.847861264755345, 'colsample_bytree': 0.5913933920807347}. Best is trial 907 with value: 0.036520611452337814.\n"
     ]
    },
    {
     "name": "stdout",
     "output_type": "stream",
     "text": [
      "MAPE: 0.05433084107357536\n"
     ]
    },
    {
     "name": "stderr",
     "output_type": "stream",
     "text": [
      "[I 2023-07-19 23:16:40,737] Trial 914 finished with value: 0.07936258938460639 and parameters: {'max_depth': 8, 'eta': 0.8072079719378268, 'gamma': 0.017594051518430454, 'subsample': 0.7964099507957111, 'colsample_bytree': 0.36754504031516744}. Best is trial 907 with value: 0.036520611452337814.\n"
     ]
    },
    {
     "name": "stdout",
     "output_type": "stream",
     "text": [
      "MAPE: 0.07936258938460639\n"
     ]
    },
    {
     "name": "stderr",
     "output_type": "stream",
     "text": [
      "[I 2023-07-19 23:16:42,050] Trial 915 finished with value: 0.19955714338721223 and parameters: {'max_depth': 8, 'eta': 0.14261669888707815, 'gamma': 0.016464791833895726, 'subsample': 0.8349314000512243, 'colsample_bytree': 0.7116225757070815}. Best is trial 907 with value: 0.036520611452337814.\n"
     ]
    },
    {
     "name": "stdout",
     "output_type": "stream",
     "text": [
      "MAPE: 0.19955714338721223\n"
     ]
    },
    {
     "name": "stderr",
     "output_type": "stream",
     "text": [
      "[I 2023-07-19 23:16:43,362] Trial 916 finished with value: 0.05681832750718975 and parameters: {'max_depth': 8, 'eta': 0.7433470963553436, 'gamma': 0.030262582399026766, 'subsample': 0.9576684522905055, 'colsample_bytree': 0.6488094679578826}. Best is trial 907 with value: 0.036520611452337814.\n"
     ]
    },
    {
     "name": "stdout",
     "output_type": "stream",
     "text": [
      "MAPE: 0.05681832750718975\n"
     ]
    },
    {
     "name": "stderr",
     "output_type": "stream",
     "text": [
      "[I 2023-07-19 23:16:44,707] Trial 917 finished with value: 0.05560550559455765 and parameters: {'max_depth': 8, 'eta': 0.6404077925288163, 'gamma': 0.025262234236145296, 'subsample': 0.855023088690613, 'colsample_bytree': 0.735946340355337}. Best is trial 907 with value: 0.036520611452337814.\n"
     ]
    },
    {
     "name": "stdout",
     "output_type": "stream",
     "text": [
      "MAPE: 0.05560550559455765\n"
     ]
    },
    {
     "name": "stderr",
     "output_type": "stream",
     "text": [
      "[I 2023-07-19 23:16:45,810] Trial 918 finished with value: 0.0600760486994871 and parameters: {'max_depth': 8, 'eta': 0.565850509119351, 'gamma': 0.010947596153837287, 'subsample': 0.8280163698567052, 'colsample_bytree': 0.6038749544533452}. Best is trial 907 with value: 0.036520611452337814.\n"
     ]
    },
    {
     "name": "stdout",
     "output_type": "stream",
     "text": [
      "MAPE: 0.0600760486994871\n"
     ]
    },
    {
     "name": "stderr",
     "output_type": "stream",
     "text": [
      "[I 2023-07-19 23:16:47,136] Trial 919 finished with value: 0.05657282861328595 and parameters: {'max_depth': 8, 'eta': 0.45845124367840195, 'gamma': 0.027877018906781965, 'subsample': 0.9116666129475728, 'colsample_bytree': 0.6941787194728224}. Best is trial 907 with value: 0.036520611452337814.\n"
     ]
    },
    {
     "name": "stdout",
     "output_type": "stream",
     "text": [
      "MAPE: 0.05657282861328595\n"
     ]
    },
    {
     "name": "stderr",
     "output_type": "stream",
     "text": [
      "[I 2023-07-19 23:16:47,712] Trial 920 finished with value: 0.4628896729782055 and parameters: {'max_depth': 8, 'eta': 0.06978082999254177, 'gamma': 0.046846243048528496, 'subsample': 0.864320768800491, 'colsample_bytree': 0.1549995906209226}. Best is trial 907 with value: 0.036520611452337814.\n"
     ]
    },
    {
     "name": "stdout",
     "output_type": "stream",
     "text": [
      "MAPE: 0.4628896729782055\n"
     ]
    },
    {
     "name": "stderr",
     "output_type": "stream",
     "text": [
      "[I 2023-07-19 23:16:48,792] Trial 921 finished with value: 0.04401127108497017 and parameters: {'max_depth': 8, 'eta': 0.8558554584220893, 'gamma': 0.07374961918593967, 'subsample': 0.6437240572370885, 'colsample_bytree': 0.6194398413086848}. Best is trial 907 with value: 0.036520611452337814.\n"
     ]
    },
    {
     "name": "stdout",
     "output_type": "stream",
     "text": [
      "MAPE: 0.04401127108497017\n"
     ]
    },
    {
     "name": "stderr",
     "output_type": "stream",
     "text": [
      "[I 2023-07-19 23:16:49,846] Trial 922 finished with value: 0.2680039050749646 and parameters: {'max_depth': 7, 'eta': 0.11787116775126075, 'gamma': 0.043834557393098335, 'subsample': 0.8114724919879314, 'colsample_bytree': 0.6672749261851627}. Best is trial 907 with value: 0.036520611452337814.\n"
     ]
    },
    {
     "name": "stdout",
     "output_type": "stream",
     "text": [
      "MAPE: 0.2680039050749646\n"
     ]
    },
    {
     "name": "stderr",
     "output_type": "stream",
     "text": [
      "[I 2023-07-19 23:16:50,812] Trial 923 finished with value: 0.05302176454705679 and parameters: {'max_depth': 8, 'eta': 0.5045503119306154, 'gamma': 0.03495317273627701, 'subsample': 0.2622775261075966, 'colsample_bytree': 0.7567270033692296}. Best is trial 907 with value: 0.036520611452337814.\n"
     ]
    },
    {
     "name": "stdout",
     "output_type": "stream",
     "text": [
      "MAPE: 0.05302176454705679\n"
     ]
    },
    {
     "name": "stderr",
     "output_type": "stream",
     "text": [
      "[I 2023-07-19 23:16:51,876] Trial 924 finished with value: 0.055541177442833774 and parameters: {'max_depth': 8, 'eta': 0.6682892148912143, 'gamma': 0.019709147213459417, 'subsample': 0.6728056781025238, 'colsample_bytree': 0.5676161574033417}. Best is trial 907 with value: 0.036520611452337814.\n"
     ]
    },
    {
     "name": "stdout",
     "output_type": "stream",
     "text": [
      "MAPE: 0.055541177442833774\n"
     ]
    },
    {
     "name": "stderr",
     "output_type": "stream",
     "text": [
      "[I 2023-07-19 23:16:52,760] Trial 925 finished with value: 0.07356917636842461 and parameters: {'max_depth': 8, 'eta': 0.3431809473645909, 'gamma': 0.014049172581257012, 'subsample': 0.9692358041628482, 'colsample_bytree': 0.3006865640515016}. Best is trial 907 with value: 0.036520611452337814.\n"
     ]
    },
    {
     "name": "stdout",
     "output_type": "stream",
     "text": [
      "MAPE: 0.07356917636842461\n"
     ]
    },
    {
     "name": "stderr",
     "output_type": "stream",
     "text": [
      "[I 2023-07-19 23:16:53,953] Trial 926 finished with value: 0.5360556744492078 and parameters: {'max_depth': 8, 'eta': 0.058320039349467105, 'gamma': 0.03047152318883041, 'subsample': 0.7822179100339707, 'colsample_bytree': 0.6274853390059337}. Best is trial 907 with value: 0.036520611452337814.\n"
     ]
    },
    {
     "name": "stdout",
     "output_type": "stream",
     "text": [
      "MAPE: 0.5360556744492078\n"
     ]
    },
    {
     "name": "stderr",
     "output_type": "stream",
     "text": [
      "[I 2023-07-19 23:16:54,959] Trial 927 finished with value: 0.05567626121187924 and parameters: {'max_depth': 9, 'eta': 0.4131607462407962, 'gamma': 0.02425879932263165, 'subsample': 0.8448035223598115, 'colsample_bytree': 0.4309058952308794}. Best is trial 907 with value: 0.036520611452337814.\n"
     ]
    },
    {
     "name": "stdout",
     "output_type": "stream",
     "text": [
      "MAPE: 0.05567626121187924\n"
     ]
    },
    {
     "name": "stderr",
     "output_type": "stream",
     "text": [
      "[I 2023-07-19 23:16:56,191] Trial 928 finished with value: 0.05995055067549171 and parameters: {'max_depth': 8, 'eta': 0.593827421828196, 'gamma': 0.01299833127728025, 'subsample': 0.8855744894009763, 'colsample_bytree': 0.6444438800446541}. Best is trial 907 with value: 0.036520611452337814.\n"
     ]
    },
    {
     "name": "stdout",
     "output_type": "stream",
     "text": [
      "MAPE: 0.05995055067549171\n"
     ]
    },
    {
     "name": "stderr",
     "output_type": "stream",
     "text": [
      "[I 2023-07-19 23:16:57,093] Trial 929 finished with value: 0.8489961170663997 and parameters: {'max_depth': 7, 'eta': 0.01578313145927593, 'gamma': 0.03955990884193855, 'subsample': 0.8224128984839079, 'colsample_bytree': 0.5956244980191945}. Best is trial 907 with value: 0.036520611452337814.\n"
     ]
    },
    {
     "name": "stdout",
     "output_type": "stream",
     "text": [
      "MAPE: 0.8489961170663997\n"
     ]
    },
    {
     "name": "stderr",
     "output_type": "stream",
     "text": [
      "[I 2023-07-19 23:16:57,312] Trial 930 finished with value: 0.08340134113775816 and parameters: {'max_depth': 1, 'eta': 0.9613366441537217, 'gamma': 0.059612119351427455, 'subsample': 0.995354473162724, 'colsample_bytree': 0.6608637062227188}. Best is trial 907 with value: 0.036520611452337814.\n"
     ]
    },
    {
     "name": "stdout",
     "output_type": "stream",
     "text": [
      "MAPE: 0.08340134113775816\n"
     ]
    },
    {
     "name": "stderr",
     "output_type": "stream",
     "text": [
      "[I 2023-07-19 23:16:58,678] Trial 931 finished with value: 0.049677232266660126 and parameters: {'max_depth': 9, 'eta': 0.7332035920524662, 'gamma': 0.8192995040815669, 'subsample': 0.6104227624625986, 'colsample_bytree': 0.6811042520074925}. Best is trial 907 with value: 0.036520611452337814.\n"
     ]
    },
    {
     "name": "stdout",
     "output_type": "stream",
     "text": [
      "MAPE: 0.049677232266660126\n"
     ]
    },
    {
     "name": "stderr",
     "output_type": "stream",
     "text": [
      "[I 2023-07-19 23:16:59,767] Trial 932 finished with value: 0.04908095545529768 and parameters: {'max_depth': 8, 'eta': 0.5394699593189363, 'gamma': 0.02250606420223619, 'subsample': 0.8692749428795499, 'colsample_bytree': 0.5811082256325988}. Best is trial 907 with value: 0.036520611452337814.\n"
     ]
    },
    {
     "name": "stdout",
     "output_type": "stream",
     "text": [
      "MAPE: 0.04908095545529768\n"
     ]
    },
    {
     "name": "stderr",
     "output_type": "stream",
     "text": [
      "[I 2023-07-19 23:17:01,063] Trial 933 finished with value: 0.055394551804538304 and parameters: {'max_depth': 9, 'eta': 0.4812316223149022, 'gamma': 0.011895667935923301, 'subsample': 0.9765569401100084, 'colsample_bytree': 0.6085229935060955}. Best is trial 907 with value: 0.036520611452337814.\n"
     ]
    },
    {
     "name": "stdout",
     "output_type": "stream",
     "text": [
      "MAPE: 0.055394551804538304\n"
     ]
    },
    {
     "name": "stderr",
     "output_type": "stream",
     "text": [
      "[I 2023-07-19 23:17:01,944] Trial 934 finished with value: 0.6932113117035741 and parameters: {'max_depth': 8, 'eta': 0.03484320652693812, 'gamma': 0.03344763810550305, 'subsample': 0.9017559371217698, 'colsample_bytree': 0.38972783087245677}. Best is trial 907 with value: 0.036520611452337814.\n"
     ]
    },
    {
     "name": "stdout",
     "output_type": "stream",
     "text": [
      "MAPE: 0.6932113117035741\n"
     ]
    },
    {
     "name": "stderr",
     "output_type": "stream",
     "text": [
      "[I 2023-07-19 23:17:02,677] Trial 935 finished with value: 0.8812374259985981 and parameters: {'max_depth': 8, 'eta': 0.012034406349016417, 'gamma': 0.05175368723869617, 'subsample': 0.7008521496061025, 'colsample_bytree': 0.2227796058641658}. Best is trial 907 with value: 0.036520611452337814.\n"
     ]
    },
    {
     "name": "stdout",
     "output_type": "stream",
     "text": [
      "MAPE: 0.8812374259985981\n"
     ]
    },
    {
     "name": "stderr",
     "output_type": "stream",
     "text": [
      "[I 2023-07-19 23:17:03,317] Trial 936 finished with value: 0.07944950266651159 and parameters: {'max_depth': 8, 'eta': 0.6501900779596477, 'gamma': 0.018378211427602133, 'subsample': 0.2718074993136286, 'colsample_bytree': 0.3204298394662719}. Best is trial 907 with value: 0.036520611452337814.\n"
     ]
    },
    {
     "name": "stdout",
     "output_type": "stream",
     "text": [
      "MAPE: 0.07944950266651159\n"
     ]
    },
    {
     "name": "stderr",
     "output_type": "stream",
     "text": [
      "[I 2023-07-19 23:17:03,918] Trial 937 finished with value: 0.061439252234721596 and parameters: {'max_depth': 7, 'eta': 0.7932902536651264, 'gamma': 0.015947127164930037, 'subsample': 0.24759251000400445, 'colsample_bytree': 0.5490077010303934}. Best is trial 907 with value: 0.036520611452337814.\n"
     ]
    },
    {
     "name": "stdout",
     "output_type": "stream",
     "text": [
      "MAPE: 0.061439252234721596\n"
     ]
    },
    {
     "name": "stderr",
     "output_type": "stream",
     "text": [
      "[I 2023-07-19 23:17:05,110] Trial 938 finished with value: 0.7096273927580415 and parameters: {'max_depth': 8, 'eta': 0.032672898438166835, 'gamma': 0.03701014083003476, 'subsample': 0.9319687023132367, 'colsample_bytree': 0.6349684525689188}. Best is trial 907 with value: 0.036520611452337814.\n"
     ]
    },
    {
     "name": "stdout",
     "output_type": "stream",
     "text": [
      "MAPE: 0.7096273927580415\n"
     ]
    },
    {
     "name": "stderr",
     "output_type": "stream",
     "text": [
      "[I 2023-07-19 23:17:06,583] Trial 939 finished with value: 0.8059264558383843 and parameters: {'max_depth': 9, 'eta': 0.020703571088682437, 'gamma': 0.21709833826809335, 'subsample': 0.656443047378802, 'colsample_bytree': 0.9034854484179178}. Best is trial 907 with value: 0.036520611452337814.\n"
     ]
    },
    {
     "name": "stdout",
     "output_type": "stream",
     "text": [
      "MAPE: 0.8059264558383843\n"
     ]
    },
    {
     "name": "stderr",
     "output_type": "stream",
     "text": [
      "[I 2023-07-19 23:17:08,034] Trial 940 finished with value: 0.08932422344219645 and parameters: {'max_depth': 9, 'eta': 0.23590111134363437, 'gamma': 0.7327263075592421, 'subsample': 0.7169510581980912, 'colsample_bytree': 0.6989437009986469}. Best is trial 907 with value: 0.036520611452337814.\n"
     ]
    },
    {
     "name": "stdout",
     "output_type": "stream",
     "text": [
      "MAPE: 0.08932422344219645\n"
     ]
    },
    {
     "name": "stderr",
     "output_type": "stream",
     "text": [
      "[I 2023-07-19 23:17:09,246] Trial 941 finished with value: 0.058725550429001815 and parameters: {'max_depth': 8, 'eta': 0.5847005847458948, 'gamma': 0.6307423098147457, 'subsample': 0.7892343532201582, 'colsample_bytree': 0.6501717779437071}. Best is trial 907 with value: 0.036520611452337814.\n"
     ]
    },
    {
     "name": "stdout",
     "output_type": "stream",
     "text": [
      "MAPE: 0.058725550429001815\n"
     ]
    },
    {
     "name": "stderr",
     "output_type": "stream",
     "text": [
      "[I 2023-07-19 23:17:09,786] Trial 942 finished with value: 0.39545001377868777 and parameters: {'max_depth': 7, 'eta': 0.0829276989329284, 'gamma': 0.028916082348054553, 'subsample': 0.8448773216003057, 'colsample_bytree': 0.1418428370508376}. Best is trial 907 with value: 0.036520611452337814.\n"
     ]
    },
    {
     "name": "stdout",
     "output_type": "stream",
     "text": [
      "MAPE: 0.39545001377868777\n"
     ]
    },
    {
     "name": "stderr",
     "output_type": "stream",
     "text": [
      "[I 2023-07-19 23:17:10,568] Trial 943 finished with value: 0.04451506323902426 and parameters: {'max_depth': 8, 'eta': 0.4387461529729294, 'gamma': 0.02154555368292921, 'subsample': 0.28734328935218545, 'colsample_bytree': 0.6175987452724307}. Best is trial 907 with value: 0.036520611452337814.\n"
     ]
    },
    {
     "name": "stdout",
     "output_type": "stream",
     "text": [
      "MAPE: 0.04451506323902426\n"
     ]
    },
    {
     "name": "stderr",
     "output_type": "stream",
     "text": [
      "[I 2023-07-19 23:17:11,478] Trial 944 finished with value: 0.2985959351982638 and parameters: {'max_depth': 9, 'eta': 0.10612738224444113, 'gamma': 0.3882791437234005, 'subsample': 0.8208918213172995, 'colsample_bytree': 0.27756502721014725}. Best is trial 907 with value: 0.036520611452337814.\n"
     ]
    },
    {
     "name": "stdout",
     "output_type": "stream",
     "text": [
      "MAPE: 0.2985959351982638\n"
     ]
    },
    {
     "name": "stderr",
     "output_type": "stream",
     "text": [
      "[I 2023-07-19 23:17:12,752] Trial 945 finished with value: 0.10108100204746255 and parameters: {'max_depth': 8, 'eta': 0.21301757750878716, 'gamma': 0.010052106137077903, 'subsample': 0.6207870171805254, 'colsample_bytree': 0.7210998441688297}. Best is trial 907 with value: 0.036520611452337814.\n"
     ]
    },
    {
     "name": "stdout",
     "output_type": "stream",
     "text": [
      "MAPE: 0.10108100204746255\n"
     ]
    },
    {
     "name": "stderr",
     "output_type": "stream",
     "text": [
      "[I 2023-07-19 23:17:13,645] Trial 946 finished with value: 0.07267444552944834 and parameters: {'max_depth': 8, 'eta': 0.6942654444258359, 'gamma': 0.9112794976696917, 'subsample': 0.49019595873711574, 'colsample_bytree': 0.47849834952346226}. Best is trial 907 with value: 0.036520611452337814.\n"
     ]
    },
    {
     "name": "stdout",
     "output_type": "stream",
     "text": [
      "MAPE: 0.07267444552944834\n"
     ]
    },
    {
     "name": "stderr",
     "output_type": "stream",
     "text": [
      "[I 2023-07-19 23:17:14,703] Trial 947 finished with value: 0.6699416493976132 and parameters: {'max_depth': 8, 'eta': 0.03815718665985156, 'gamma': 0.013351934020763288, 'subsample': 0.8597739820626545, 'colsample_bytree': 0.5914716725788196}. Best is trial 907 with value: 0.036520611452337814.\n"
     ]
    },
    {
     "name": "stdout",
     "output_type": "stream",
     "text": [
      "MAPE: 0.6699416493976132\n"
     ]
    },
    {
     "name": "stderr",
     "output_type": "stream",
     "text": [
      "[I 2023-07-19 23:17:15,555] Trial 948 finished with value: 0.08001007767570141 and parameters: {'max_depth': 9, 'eta': 0.5232365627274158, 'gamma': 0.01527911779626277, 'subsample': 0.7969003338274661, 'colsample_bytree': 0.23439472450768245}. Best is trial 907 with value: 0.036520611452337814.\n"
     ]
    },
    {
     "name": "stdout",
     "output_type": "stream",
     "text": [
      "MAPE: 0.08001007767570141\n"
     ]
    },
    {
     "name": "stderr",
     "output_type": "stream",
     "text": [
      "[I 2023-07-19 23:17:16,623] Trial 949 finished with value: 0.14821057421851336 and parameters: {'max_depth': 8, 'eta': 0.16981746491744779, 'gamma': 0.08311626159262443, 'subsample': 0.42920576202767796, 'colsample_bytree': 0.6765094245542023}. Best is trial 907 with value: 0.036520611452337814.\n"
     ]
    },
    {
     "name": "stdout",
     "output_type": "stream",
     "text": [
      "MAPE: 0.14821057421851336\n"
     ]
    },
    {
     "name": "stderr",
     "output_type": "stream",
     "text": [
      "[I 2023-07-19 23:17:17,672] Trial 950 finished with value: 0.05342791143868957 and parameters: {'max_depth': 8, 'eta': 0.6415514455699681, 'gamma': 0.6704018111850385, 'subsample': 0.8885058645299698, 'colsample_bytree': 0.5618214979360918}. Best is trial 907 with value: 0.036520611452337814.\n"
     ]
    },
    {
     "name": "stdout",
     "output_type": "stream",
     "text": [
      "MAPE: 0.05342791143868957\n"
     ]
    },
    {
     "name": "stderr",
     "output_type": "stream",
     "text": [
      "[I 2023-07-19 23:17:18,300] Trial 951 finished with value: 0.0629401390156549 and parameters: {'max_depth': 5, 'eta': 0.3702507770511709, 'gamma': 0.020061742610687834, 'subsample': 0.3114725480796819, 'colsample_bytree': 0.8118322448101136}. Best is trial 907 with value: 0.036520611452337814.\n"
     ]
    },
    {
     "name": "stdout",
     "output_type": "stream",
     "text": [
      "MAPE: 0.0629401390156549\n"
     ]
    },
    {
     "name": "stderr",
     "output_type": "stream",
     "text": [
      "[I 2023-07-19 23:17:19,471] Trial 952 finished with value: 0.3490396936621921 and parameters: {'max_depth': 8, 'eta': 0.09593219944500446, 'gamma': 0.017179847641512033, 'subsample': 0.7664834452416753, 'colsample_bytree': 0.6316412829874974}. Best is trial 907 with value: 0.036520611452337814.\n"
     ]
    },
    {
     "name": "stdout",
     "output_type": "stream",
     "text": [
      "MAPE: 0.3490396936621921\n"
     ]
    },
    {
     "name": "stderr",
     "output_type": "stream",
     "text": [
      "[I 2023-07-19 23:17:20,468] Trial 953 finished with value: 0.07147175337091753 and parameters: {'max_depth': 9, 'eta': 0.5729386237661132, 'gamma': 0.2520381099486612, 'subsample': 0.4762733306089449, 'colsample_bytree': 0.46114569731485483}. Best is trial 907 with value: 0.036520611452337814.\n"
     ]
    },
    {
     "name": "stdout",
     "output_type": "stream",
     "text": [
      "MAPE: 0.07147175337091753\n"
     ]
    },
    {
     "name": "stderr",
     "output_type": "stream",
     "text": [
      "[I 2023-07-19 23:17:21,402] Trial 954 finished with value: 0.12852226238153572 and parameters: {'max_depth': 8, 'eta': 0.18840681037030924, 'gamma': 0.2269242550849901, 'subsample': 0.6350838467066979, 'colsample_bytree': 0.5202958625186624}. Best is trial 907 with value: 0.036520611452337814.\n"
     ]
    },
    {
     "name": "stdout",
     "output_type": "stream",
     "text": [
      "MAPE: 0.12852226238153572\n"
     ]
    },
    {
     "name": "stderr",
     "output_type": "stream",
     "text": [
      "[I 2023-07-19 23:17:22,501] Trial 955 finished with value: 0.8444252271508567 and parameters: {'max_depth': 8, 'eta': 0.016288085261749283, 'gamma': 0.3527388554060414, 'subsample': 0.49944908777616925, 'colsample_bytree': 0.65722151380393}. Best is trial 907 with value: 0.036520611452337814.\n"
     ]
    },
    {
     "name": "stdout",
     "output_type": "stream",
     "text": [
      "MAPE: 0.8444252271508567\n"
     ]
    },
    {
     "name": "stderr",
     "output_type": "stream",
     "text": [
      "[I 2023-07-19 23:17:23,496] Trial 956 finished with value: 0.16516586716672557 and parameters: {'max_depth': 6, 'eta': 0.1613061978602155, 'gamma': 0.04285509497081747, 'subsample': 0.8325376941194759, 'colsample_bytree': 0.7963969319895119}. Best is trial 907 with value: 0.036520611452337814.\n"
     ]
    },
    {
     "name": "stdout",
     "output_type": "stream",
     "text": [
      "MAPE: 0.16516586716672557\n"
     ]
    },
    {
     "name": "stderr",
     "output_type": "stream",
     "text": [
      "[I 2023-07-19 23:17:24,197] Trial 957 finished with value: 0.07718872003059174 and parameters: {'max_depth': 9, 'eta': 0.8670248685968448, 'gamma': 0.025721610561170227, 'subsample': 0.6708654835554658, 'colsample_bytree': 0.1376404267741897}. Best is trial 907 with value: 0.036520611452337814.\n"
     ]
    },
    {
     "name": "stdout",
     "output_type": "stream",
     "text": [
      "MAPE: 0.07718872003059174\n"
     ]
    },
    {
     "name": "stderr",
     "output_type": "stream",
     "text": [
      "[I 2023-07-19 23:17:25,424] Trial 958 finished with value: 0.0740935929915443 and parameters: {'max_depth': 8, 'eta': 0.2649799801550894, 'gamma': 0.0951833402694311, 'subsample': 0.45537455975739966, 'colsample_bytree': 0.8243114515488781}. Best is trial 907 with value: 0.036520611452337814.\n"
     ]
    },
    {
     "name": "stdout",
     "output_type": "stream",
     "text": [
      "MAPE: 0.0740935929915443\n"
     ]
    },
    {
     "name": "stderr",
     "output_type": "stream",
     "text": [
      "[I 2023-07-19 23:17:26,218] Trial 959 finished with value: 0.05476177919159772 and parameters: {'max_depth': 9, 'eta': 0.29106636669208297, 'gamma': 0.12451612777741852, 'subsample': 0.22733622051455588, 'colsample_bytree': 0.6191795367764423}. Best is trial 907 with value: 0.036520611452337814.\n"
     ]
    },
    {
     "name": "stdout",
     "output_type": "stream",
     "text": [
      "MAPE: 0.05476177919159772\n"
     ]
    },
    {
     "name": "stderr",
     "output_type": "stream",
     "text": [
      "[I 2023-07-19 23:17:27,527] Trial 960 finished with value: 0.7522589787206295 and parameters: {'max_depth': 10, 'eta': 0.027358448576874857, 'gamma': 0.04588714286249946, 'subsample': 0.9319833765195844, 'colsample_bytree': 0.5988191586887468}. Best is trial 907 with value: 0.036520611452337814.\n"
     ]
    },
    {
     "name": "stdout",
     "output_type": "stream",
     "text": [
      "MAPE: 0.7522589787206295\n"
     ]
    },
    {
     "name": "stderr",
     "output_type": "stream",
     "text": [
      "[I 2023-07-19 23:17:28,082] Trial 961 finished with value: 0.07025651749252747 and parameters: {'max_depth': 7, 'eta': 0.49958740822255104, 'gamma': 0.06880187154684675, 'subsample': 0.8717156414802042, 'colsample_bytree': 0.1785096505868189}. Best is trial 907 with value: 0.036520611452337814.\n"
     ]
    },
    {
     "name": "stdout",
     "output_type": "stream",
     "text": [
      "MAPE: 0.07025651749252747\n"
     ]
    },
    {
     "name": "stderr",
     "output_type": "stream",
     "text": [
      "[I 2023-07-19 23:17:29,133] Trial 962 finished with value: 0.056498760120937484 and parameters: {'max_depth': 10, 'eta': 0.4097057674521939, 'gamma': 0.13942485078807687, 'subsample': 0.32556168730882945, 'colsample_bytree': 0.5714828170139405}. Best is trial 907 with value: 0.036520611452337814.\n"
     ]
    },
    {
     "name": "stdout",
     "output_type": "stream",
     "text": [
      "MAPE: 0.056498760120937484\n"
     ]
    },
    {
     "name": "stderr",
     "output_type": "stream",
     "text": [
      "[I 2023-07-19 23:17:30,090] Trial 963 finished with value: 0.07903499559525763 and parameters: {'max_depth': 8, 'eta': 0.7696482941163393, 'gamma': 0.7960386380123856, 'subsample': 0.9172927346115098, 'colsample_bytree': 0.36092407794738246}. Best is trial 907 with value: 0.036520611452337814.\n"
     ]
    },
    {
     "name": "stdout",
     "output_type": "stream",
     "text": [
      "MAPE: 0.07903499559525763\n"
     ]
    },
    {
     "name": "stderr",
     "output_type": "stream",
     "text": [
      "[I 2023-07-19 23:17:31,397] Trial 964 finished with value: 0.05692972560888066 and parameters: {'max_depth': 10, 'eta': 0.4547366748007217, 'gamma': 0.011052908135459921, 'subsample': 0.35661917307547447, 'colsample_bytree': 0.6935027827099348}. Best is trial 907 with value: 0.036520611452337814.\n"
     ]
    },
    {
     "name": "stdout",
     "output_type": "stream",
     "text": [
      "MAPE: 0.05692972560888066\n"
     ]
    },
    {
     "name": "stderr",
     "output_type": "stream",
     "text": [
      "[I 2023-07-19 23:17:32,937] Trial 965 finished with value: 0.0527324184854612 and parameters: {'max_depth': 9, 'eta': 0.6114753398544888, 'gamma': 0.03224560835512767, 'subsample': 0.6074336890703365, 'colsample_bytree': 0.930643993613163}. Best is trial 907 with value: 0.036520611452337814.\n"
     ]
    },
    {
     "name": "stdout",
     "output_type": "stream",
     "text": [
      "MAPE: 0.0527324184854612\n"
     ]
    },
    {
     "name": "stderr",
     "output_type": "stream",
     "text": [
      "[I 2023-07-19 23:17:33,940] Trial 966 finished with value: 0.5731051730673368 and parameters: {'max_depth': 8, 'eta': 0.05229305198889749, 'gamma': 0.9875363114158642, 'subsample': 0.40908826662666486, 'colsample_bytree': 0.6431665007236506}. Best is trial 907 with value: 0.036520611452337814.\n"
     ]
    },
    {
     "name": "stdout",
     "output_type": "stream",
     "text": [
      "MAPE: 0.5731051730673368\n"
     ]
    },
    {
     "name": "stderr",
     "output_type": "stream",
     "text": [
      "[I 2023-07-19 23:17:35,396] Trial 967 finished with value: 0.04711263331746151 and parameters: {'max_depth': 10, 'eta': 0.7100339684384628, 'gamma': 0.022477930932852542, 'subsample': 0.47759587791486874, 'colsample_bytree': 0.6710559041284476}. Best is trial 907 with value: 0.036520611452337814.\n"
     ]
    },
    {
     "name": "stdout",
     "output_type": "stream",
     "text": [
      "MAPE: 0.04711263331746151\n"
     ]
    },
    {
     "name": "stderr",
     "output_type": "stream",
     "text": [
      "[I 2023-07-19 23:17:36,440] Trial 968 finished with value: 0.8821648914262878 and parameters: {'max_depth': 8, 'eta': 0.012158992826570488, 'gamma': 0.2855214738118384, 'subsample': 0.6870279336761282, 'colsample_bytree': 0.6064730406657719}. Best is trial 907 with value: 0.036520611452337814.\n"
     ]
    },
    {
     "name": "stdout",
     "output_type": "stream",
     "text": [
      "MAPE: 0.8821648914262878\n"
     ]
    },
    {
     "name": "stderr",
     "output_type": "stream",
     "text": [
      "[I 2023-07-19 23:17:37,970] Trial 969 finished with value: 0.04551148635946227 and parameters: {'max_depth': 10, 'eta': 0.5436281936684746, 'gamma': 0.07720699095712313, 'subsample': 0.8045763966848973, 'colsample_bytree': 0.6289646678221842}. Best is trial 907 with value: 0.036520611452337814.\n"
     ]
    },
    {
     "name": "stdout",
     "output_type": "stream",
     "text": [
      "MAPE: 0.04551148635946227\n"
     ]
    },
    {
     "name": "stderr",
     "output_type": "stream",
     "text": [
      "[I 2023-07-19 23:17:39,111] Trial 970 finished with value: 0.0596422001144627 and parameters: {'max_depth': 9, 'eta': 0.4908250916685808, 'gamma': 0.06204304184411545, 'subsample': 0.5007225732120365, 'colsample_bytree': 0.5834099734211955}. Best is trial 907 with value: 0.036520611452337814.\n"
     ]
    },
    {
     "name": "stdout",
     "output_type": "stream",
     "text": [
      "MAPE: 0.0596422001144627\n"
     ]
    },
    {
     "name": "stderr",
     "output_type": "stream",
     "text": [
      "[I 2023-07-19 23:17:40,189] Trial 971 finished with value: 0.04909988370438986 and parameters: {'max_depth': 8, 'eta': 0.63307645364858, 'gamma': 0.10473849747544633, 'subsample': 0.8450943136529756, 'colsample_bytree': 0.5449781600998064}. Best is trial 907 with value: 0.036520611452337814.\n"
     ]
    },
    {
     "name": "stdout",
     "output_type": "stream",
     "text": [
      "MAPE: 0.04909988370438986\n"
     ]
    },
    {
     "name": "stderr",
     "output_type": "stream",
     "text": [
      "[I 2023-07-19 23:17:41,241] Trial 972 finished with value: 0.20742378397389896 and parameters: {'max_depth': 10, 'eta': 0.1390633342525701, 'gamma': 0.018658029988697027, 'subsample': 0.2882538809941208, 'colsample_bytree': 0.6568238853631932}. Best is trial 907 with value: 0.036520611452337814.\n"
     ]
    },
    {
     "name": "stdout",
     "output_type": "stream",
     "text": [
      "MAPE: 0.20742378397389896\n"
     ]
    },
    {
     "name": "stderr",
     "output_type": "stream",
     "text": [
      "[I 2023-07-19 23:17:42,247] Trial 973 finished with value: 0.8922423005935687 and parameters: {'max_depth': 10, 'eta': 0.011064637787692651, 'gamma': 0.3296591651295799, 'subsample': 0.380558754401666, 'colsample_bytree': 0.6067291931864658}. Best is trial 907 with value: 0.036520611452337814.\n"
     ]
    },
    {
     "name": "stdout",
     "output_type": "stream",
     "text": [
      "MAPE: 0.8922423005935687\n"
     ]
    },
    {
     "name": "stderr",
     "output_type": "stream",
     "text": [
      "[I 2023-07-19 23:17:43,420] Trial 974 finished with value: 0.06617795820614668 and parameters: {'max_depth': 8, 'eta': 0.3232382773125593, 'gamma': 0.20521171204418368, 'subsample': 0.7745309176198159, 'colsample_bytree': 0.6767479506116895}. Best is trial 907 with value: 0.036520611452337814.\n"
     ]
    },
    {
     "name": "stdout",
     "output_type": "stream",
     "text": [
      "MAPE: 0.06617795820614668\n"
     ]
    },
    {
     "name": "stderr",
     "output_type": "stream",
     "text": [
      "[I 2023-07-19 23:17:43,999] Trial 975 finished with value: 0.07673235579612157 and parameters: {'max_depth': 7, 'eta': 0.9917395353883363, 'gamma': 0.014217561107926952, 'subsample': 0.724436550644884, 'colsample_bytree': 0.15232881920432462}. Best is trial 907 with value: 0.036520611452337814.\n"
     ]
    },
    {
     "name": "stdout",
     "output_type": "stream",
     "text": [
      "MAPE: 0.07673235579612157\n"
     ]
    },
    {
     "name": "stderr",
     "output_type": "stream",
     "text": [
      "[I 2023-07-19 23:17:45,156] Trial 976 finished with value: 0.060015094398327126 and parameters: {'max_depth': 10, 'eta': 0.5741088225077858, 'gamma': 0.027960295194171505, 'subsample': 0.4420266467195279, 'colsample_bytree': 0.5029461818830138}. Best is trial 907 with value: 0.036520611452337814.\n"
     ]
    },
    {
     "name": "stdout",
     "output_type": "stream",
     "text": [
      "MAPE: 0.060015094398327126\n"
     ]
    },
    {
     "name": "stderr",
     "output_type": "stream",
     "text": [
      "[I 2023-07-19 23:17:45,923] Trial 977 finished with value: 0.21595530624917447 and parameters: {'max_depth': 8, 'eta': 0.1313587157017093, 'gamma': 0.25931499734626834, 'subsample': 0.8919858634874221, 'colsample_bytree': 0.21038333536397114}. Best is trial 907 with value: 0.036520611452337814.\n"
     ]
    },
    {
     "name": "stdout",
     "output_type": "stream",
     "text": [
      "MAPE: 0.21595530624917447\n"
     ]
    },
    {
     "name": "stderr",
     "output_type": "stream",
     "text": [
      "[I 2023-07-19 23:17:47,172] Trial 978 finished with value: 0.0641780047018023 and parameters: {'max_depth': 10, 'eta': 0.6979032919424512, 'gamma': 0.11738662467852796, 'subsample': 0.2616479349577994, 'colsample_bytree': 0.848406308725138}. Best is trial 907 with value: 0.036520611452337814.\n"
     ]
    },
    {
     "name": "stdout",
     "output_type": "stream",
     "text": [
      "MAPE: 0.0641780047018023\n"
     ]
    },
    {
     "name": "stderr",
     "output_type": "stream",
     "text": [
      "[I 2023-07-19 23:17:48,569] Trial 979 finished with value: 0.823577057906471 and parameters: {'max_depth': 9, 'eta': 0.01869233645987485, 'gamma': 0.03794024863293888, 'subsample': 0.7582907228897969, 'colsample_bytree': 0.6325180780461388}. Best is trial 907 with value: 0.036520611452337814.\n"
     ]
    },
    {
     "name": "stdout",
     "output_type": "stream",
     "text": [
      "MAPE: 0.823577057906471\n"
     ]
    },
    {
     "name": "stderr",
     "output_type": "stream",
     "text": [
      "[I 2023-07-19 23:17:49,946] Trial 980 finished with value: 0.05192622984024081 and parameters: {'max_depth': 8, 'eta': 0.39488664146924374, 'gamma': 0.3042191739176282, 'subsample': 0.8221551297963237, 'colsample_bytree': 0.9674058951354931}. Best is trial 907 with value: 0.036520611452337814.\n"
     ]
    },
    {
     "name": "stdout",
     "output_type": "stream",
     "text": [
      "MAPE: 0.05192622984024081\n"
     ]
    },
    {
     "name": "stderr",
     "output_type": "stream",
     "text": [
      "[I 2023-07-19 23:17:51,665] Trial 981 finished with value: 0.04979129307909849 and parameters: {'max_depth': 10, 'eta': 0.5271447890940621, 'gamma': 0.012278397003075654, 'subsample': 0.6967365725597252, 'colsample_bytree': 0.7807621464141087}. Best is trial 907 with value: 0.036520611452337814.\n"
     ]
    },
    {
     "name": "stdout",
     "output_type": "stream",
     "text": [
      "MAPE: 0.04979129307909849\n"
     ]
    },
    {
     "name": "stderr",
     "output_type": "stream",
     "text": [
      "[I 2023-07-19 23:17:53,106] Trial 982 finished with value: 0.051515377198978876 and parameters: {'max_depth': 9, 'eta': 0.45580120222654014, 'gamma': 0.7198906839864614, 'subsample': 0.658602469195105, 'colsample_bytree': 0.703135039751188}. Best is trial 907 with value: 0.036520611452337814.\n"
     ]
    },
    {
     "name": "stdout",
     "output_type": "stream",
     "text": [
      "MAPE: 0.051515377198978876\n"
     ]
    },
    {
     "name": "stderr",
     "output_type": "stream",
     "text": [
      "[I 2023-07-19 23:17:54,747] Trial 983 finished with value: 0.04925759742462355 and parameters: {'max_depth': 10, 'eta': 0.7805788330790896, 'gamma': 0.020909147698510544, 'subsample': 0.9568287617519298, 'colsample_bytree': 0.5762885632338163}. Best is trial 907 with value: 0.036520611452337814.\n"
     ]
    },
    {
     "name": "stdout",
     "output_type": "stream",
     "text": [
      "MAPE: 0.04925759742462355\n"
     ]
    },
    {
     "name": "stderr",
     "output_type": "stream",
     "text": [
      "[I 2023-07-19 23:17:55,138] Trial 984 finished with value: 0.07079523722484753 and parameters: {'max_depth': 2, 'eta': 0.605727119950637, 'gamma': 0.14698923298257305, 'subsample': 0.631904995524509, 'colsample_bytree': 0.8677557452231964}. Best is trial 907 with value: 0.036520611452337814.\n"
     ]
    },
    {
     "name": "stdout",
     "output_type": "stream",
     "text": [
      "MAPE: 0.07079523722484753\n"
     ]
    },
    {
     "name": "stderr",
     "output_type": "stream",
     "text": [
      "[I 2023-07-19 23:17:56,397] Trial 985 finished with value: 0.053530208392264425 and parameters: {'max_depth': 8, 'eta': 0.851834145318709, 'gamma': 0.024015583208296738, 'subsample': 0.8677564040163689, 'colsample_bytree': 0.6485489588128338}. Best is trial 907 with value: 0.036520611452337814.\n"
     ]
    },
    {
     "name": "stdout",
     "output_type": "stream",
     "text": [
      "MAPE: 0.053530208392264425\n"
     ]
    },
    {
     "name": "stderr",
     "output_type": "stream",
     "text": [
      "[I 2023-07-19 23:17:57,246] Trial 986 finished with value: 0.41463626577252727 and parameters: {'max_depth': 7, 'eta': 0.08097207786648658, 'gamma': 0.048562403697866775, 'subsample': 0.46411102694814116, 'colsample_bytree': 0.5900718219405803}. Best is trial 907 with value: 0.036520611452337814.\n"
     ]
    },
    {
     "name": "stdout",
     "output_type": "stream",
     "text": [
      "MAPE: 0.41463626577252727\n"
     ]
    },
    {
     "name": "stderr",
     "output_type": "stream",
     "text": [
      "[I 2023-07-19 23:17:58,495] Trial 987 finished with value: 0.7714569996243098 and parameters: {'max_depth': 8, 'eta': 0.024851144627825582, 'gamma': 0.40007761178104406, 'subsample': 0.593402752841296, 'colsample_bytree': 0.7368834150321923}. Best is trial 907 with value: 0.036520611452337814.\n"
     ]
    },
    {
     "name": "stdout",
     "output_type": "stream",
     "text": [
      "MAPE: 0.7714569996243098\n"
     ]
    },
    {
     "name": "stderr",
     "output_type": "stream",
     "text": [
      "[I 2023-07-19 23:18:00,174] Trial 988 finished with value: 0.05882718027204868 and parameters: {'max_depth': 10, 'eta': 0.6721986070726552, 'gamma': 0.12986841402305974, 'subsample': 0.511817220787981, 'colsample_bytree': 0.9504160001955575}. Best is trial 907 with value: 0.036520611452337814.\n"
     ]
    },
    {
     "name": "stdout",
     "output_type": "stream",
     "text": [
      "MAPE: 0.05882718027204868\n"
     ]
    },
    {
     "name": "stderr",
     "output_type": "stream",
     "text": [
      "[I 2023-07-19 23:18:00,970] Trial 989 finished with value: 0.552255688478631 and parameters: {'max_depth': 10, 'eta': 0.056085794590660994, 'gamma': 0.23010273312511084, 'subsample': 0.2462878968185466, 'colsample_bytree': 0.6206168889560273}. Best is trial 907 with value: 0.036520611452337814.\n"
     ]
    },
    {
     "name": "stdout",
     "output_type": "stream",
     "text": [
      "MAPE: 0.552255688478631\n"
     ]
    },
    {
     "name": "stderr",
     "output_type": "stream",
     "text": [
      "[I 2023-07-19 23:18:01,753] Trial 990 finished with value: 0.05291295668205723 and parameters: {'max_depth': 8, 'eta': 0.4924913252727787, 'gamma': 0.016869963776802752, 'subsample': 0.21309053471452188, 'colsample_bytree': 0.6666343132959672}. Best is trial 907 with value: 0.036520611452337814.\n"
     ]
    },
    {
     "name": "stdout",
     "output_type": "stream",
     "text": [
      "MAPE: 0.05291295668205723\n"
     ]
    },
    {
     "name": "stderr",
     "output_type": "stream",
     "text": [
      "[I 2023-07-19 23:18:03,266] Trial 991 finished with value: 0.05609123184967041 and parameters: {'max_depth': 9, 'eta': 0.5566041133882242, 'gamma': 0.01213785330004112, 'subsample': 0.8472560533849305, 'colsample_bytree': 0.7149889368797382}. Best is trial 907 with value: 0.036520611452337814.\n"
     ]
    },
    {
     "name": "stdout",
     "output_type": "stream",
     "text": [
      "MAPE: 0.05609123184967041\n"
     ]
    },
    {
     "name": "stderr",
     "output_type": "stream",
     "text": [
      "[I 2023-07-19 23:18:04,230] Trial 992 finished with value: 0.48719360935881684 and parameters: {'max_depth': 10, 'eta': 0.06739502533416789, 'gamma': 0.08971114922228765, 'subsample': 0.33706871227761515, 'colsample_bytree': 0.6074496104930434}. Best is trial 907 with value: 0.036520611452337814.\n"
     ]
    },
    {
     "name": "stdout",
     "output_type": "stream",
     "text": [
      "MAPE: 0.48719360935881684\n"
     ]
    },
    {
     "name": "stderr",
     "output_type": "stream",
     "text": [
      "[I 2023-07-19 23:18:05,377] Trial 993 finished with value: 0.06329338786966192 and parameters: {'max_depth': 8, 'eta': 0.4358026108263843, 'gamma': 0.010930407188657973, 'subsample': 0.42657916352737374, 'colsample_bytree': 0.691047134870194}. Best is trial 907 with value: 0.036520611452337814.\n"
     ]
    },
    {
     "name": "stdout",
     "output_type": "stream",
     "text": [
      "MAPE: 0.06329338786966192\n"
     ]
    },
    {
     "name": "stderr",
     "output_type": "stream",
     "text": [
      "[I 2023-07-19 23:18:06,863] Trial 994 finished with value: 0.3607827394941826 and parameters: {'max_depth': 10, 'eta': 0.09347498827250438, 'gamma': 0.051500469342661725, 'subsample': 0.7444703776582751, 'colsample_bytree': 0.6374828921203055}. Best is trial 907 with value: 0.036520611452337814.\n"
     ]
    },
    {
     "name": "stdout",
     "output_type": "stream",
     "text": [
      "MAPE: 0.3607827394941826\n"
     ]
    },
    {
     "name": "stderr",
     "output_type": "stream",
     "text": [
      "[I 2023-07-19 23:18:08,202] Trial 995 finished with value: 0.06750170860479542 and parameters: {'max_depth': 10, 'eta': 0.7316724381247875, 'gamma': 0.054772383386306446, 'subsample': 0.7096126494151391, 'colsample_bytree': 0.5579102390003416}. Best is trial 907 with value: 0.036520611452337814.\n"
     ]
    },
    {
     "name": "stdout",
     "output_type": "stream",
     "text": [
      "MAPE: 0.06750170860479542\n"
     ]
    },
    {
     "name": "stderr",
     "output_type": "stream",
     "text": [
      "[I 2023-07-19 23:18:08,804] Trial 996 finished with value: 0.074095585345586 and parameters: {'max_depth': 8, 'eta': 0.28586299762904294, 'gamma': 0.030326710155600137, 'subsample': 0.906151644072906, 'colsample_bytree': 0.1347452526439502}. Best is trial 907 with value: 0.036520611452337814.\n"
     ]
    },
    {
     "name": "stdout",
     "output_type": "stream",
     "text": [
      "MAPE: 0.074095585345586\n"
     ]
    },
    {
     "name": "stderr",
     "output_type": "stream",
     "text": [
      "[I 2023-07-19 23:18:10,008] Trial 997 finished with value: 0.04159061518621134 and parameters: {'max_depth': 9, 'eta': 0.6252940909289816, 'gamma': 0.015028571850993941, 'subsample': 0.7918606612034952, 'colsample_bytree': 0.5909084165519701}. Best is trial 907 with value: 0.036520611452337814.\n"
     ]
    },
    {
     "name": "stdout",
     "output_type": "stream",
     "text": [
      "MAPE: 0.04159061518621134\n"
     ]
    },
    {
     "name": "stderr",
     "output_type": "stream",
     "text": [
      "[I 2023-07-19 23:18:11,278] Trial 998 finished with value: 0.05499304953227043 and parameters: {'max_depth': 9, 'eta': 0.668689290896517, 'gamma': 0.8474542969056852, 'subsample': 0.7911865602730899, 'colsample_bytree': 0.5786476394792371}. Best is trial 907 with value: 0.036520611452337814.\n"
     ]
    },
    {
     "name": "stdout",
     "output_type": "stream",
     "text": [
      "MAPE: 0.05499304953227043\n"
     ]
    },
    {
     "name": "stderr",
     "output_type": "stream",
     "text": [
      "[I 2023-07-19 23:18:12,172] Trial 999 finished with value: 0.08284581882388119 and parameters: {'max_depth': 9, 'eta': 0.7972504739858361, 'gamma': 0.014970406010087823, 'subsample': 0.812604192201608, 'colsample_bytree': 0.22143702040975882}. Best is trial 907 with value: 0.036520611452337814.\n"
     ]
    },
    {
     "name": "stdout",
     "output_type": "stream",
     "text": [
      "MAPE: 0.08284581882388119\n",
      "FrozenTrial(number=907, state=TrialState.COMPLETE, values=[0.036520611452337814], datetime_start=datetime.datetime(2023, 7, 19, 23, 16, 31, 943289), datetime_complete=datetime.datetime(2023, 7, 19, 23, 16, 33, 227802), params={'max_depth': 8, 'eta': 0.6096258154878887, 'gamma': 0.037528638681386735, 'subsample': 0.8665460115692383, 'colsample_bytree': 0.6523037218779719}, user_attrs={}, system_attrs={}, intermediate_values={}, distributions={'max_depth': IntDistribution(high=10, log=False, low=1, step=1), 'eta': FloatDistribution(high=1.0, log=True, low=0.01, step=None), 'gamma': FloatDistribution(high=1.0, log=True, low=0.01, step=None), 'subsample': FloatDistribution(high=1.0, log=False, low=0.1, step=None), 'colsample_bytree': FloatDistribution(high=1.0, log=False, low=0.1, step=None)}, trial_id=907, value=None)\n",
      "0.036520611452337814\n"
     ]
    }
   ],
   "source": [
    "import xgboost as xgb\n",
    "\n",
    "\n",
    "dtrain = xgb.DMatrix(X, label=y)\n",
    "dtest = xgb.DMatrix(X_test, label=y_test)\n",
    "\n",
    "\n",
    "def objective(trial):\n",
    "    params = {\n",
    "        'objective': 'reg:squarederror',\n",
    "        'eval_metric': 'mape',\n",
    "        'max_depth': trial.suggest_int('max_depth', 1, 10),\n",
    "        'eta': trial.suggest_loguniform('eta', 0.01, 1.0),\n",
    "        'gamma': trial.suggest_loguniform('gamma', 0.01, 1.0),\n",
    "        'subsample': trial.suggest_float('subsample', 0.1, 1.0),\n",
    "        'colsample_bytree': trial.suggest_float('colsample_bytree', 0.1, 1.0),\n",
    "    }\n",
    "\n",
    "    bst = xgb.train(params, dtrain)\n",
    "    preds = bst.predict(xgb.DMatrix(X_test))\n",
    "    mape = mean_absolute_percentage_error(y_test, preds)\n",
    "    print(\"MAPE: {}\".format(mape))\n",
    "    return mape\n",
    "\n",
    "study = optuna.create_study(direction='minimize')\n",
    "study.optimize(objective, n_trials=1000)\n",
    "\n",
    "print(study.best_trial)\n",
    "print(study.best_value)"
   ]
  },
  {
   "cell_type": "code",
   "execution_count": 73,
   "id": "72082dea",
   "metadata": {},
   "outputs": [
    {
     "name": "stdout",
     "output_type": "stream",
     "text": [
      "{'max_depth': 8, 'eta': 0.6096258154878887, 'gamma': 0.037528638681386735, 'subsample': 0.8665460115692383, 'colsample_bytree': 0.6523037218779719}\n",
      "                                                                                                    \n",
      "0.036520611452337814\n",
      "====================================================================================================\n"
     ]
    }
   ],
   "source": [
    "print(study.best_params)\n",
    "print(' '*100)\n",
    "print(study.best_value)\n",
    "print('='*100)"
   ]
  },
  {
   "cell_type": "code",
   "execution_count": 32,
   "id": "1c51a92c",
   "metadata": {},
   "outputs": [
    {
     "data": {
      "text/plain": [
       "FrozenTrial(number=831, state=TrialState.COMPLETE, values=[0.0034983910391903593], datetime_start=datetime.datetime(2023, 7, 19, 17, 5, 56, 423704), datetime_complete=datetime.datetime(2023, 7, 19, 17, 5, 58, 175400), params={'max_depth': 10, 'eta': 0.539443152782179, 'gamma': 0.02977421028172982, 'subsample': 0.3234466929660097, 'colsample_bytree': 0.9992791996752288}, user_attrs={}, system_attrs={}, intermediate_values={}, distributions={'max_depth': IntDistribution(high=10, log=False, low=1, step=1), 'eta': FloatDistribution(high=1.0, log=True, low=0.01, step=None), 'gamma': FloatDistribution(high=1.0, log=True, low=0.01, step=None), 'subsample': FloatDistribution(high=1.0, log=False, low=0.1, step=None), 'colsample_bytree': FloatDistribution(high=1.0, log=False, low=0.1, step=None)}, trial_id=831, value=None)"
      ]
     },
     "execution_count": 32,
     "metadata": {},
     "output_type": "execute_result"
    }
   ],
   "source": [
    "study.best_trial"
   ]
  },
  {
   "cell_type": "raw",
   "id": "72b108d0",
   "metadata": {},
   "source": [
    "All\n",
    "\n",
    "FrozenTrial(number=831, state=TrialState.COMPLETE, values=[0.0034983910391903593], datetime_start=datetime.datetime(2023, 7, 19, 17, 5, 56, 423704), datetime_complete=datetime.datetime(2023, 7, 19, 17, 5, 58, 175400), params={'max_depth': 10, 'eta': 0.539443152782179, 'gamma': 0.02977421028172982, 'subsample': 0.3234466929660097, 'colsample_bytree': 0.9992791996752288}, user_attrs={}, system_attrs={}, intermediate_values={}, distributions={'max_depth': IntDistribution(high=10, log=False, low=1, step=1), 'eta': FloatDistribution(high=1.0, log=True, low=0.01, step=None), 'gamma': FloatDistribution(high=1.0, log=True, low=0.01, step=None), 'subsample': FloatDistribution(high=1.0, log=False, low=0.1, step=None), 'colsample_bytree': FloatDistribution(high=1.0, log=False, low=0.1, step=None)}, trial_id=831, value=None)\n",
    "\n",
    "0.0034983910391903593\n",
    "\n",
    "==============================================================================================\n",
    "without 5분, 1시간 수요\n",
    "\n",
    "{'max_depth': 10, 'eta': 0.4797158965248403, 'gamma': 0.0710547602797706, 'subsample': 0.5630109613432905, 'colsample_bytree': 0.20315494922891986}\n",
    "                                                                                                    \n",
    "0.039523553115350635\n",
    "====================================================================================================\n",
    "without 5분, 1시간 수요, 습도, 강수량, 적설량, 지면온도, 풍속\n",
    "\n",
    "{'max_depth': 6, 'eta': 0.664430320255893, 'gamma': 0.15359915490558146, 'subsample': 0.3355117856785397, 'colsample_bytree': 0.9038982759821005}\n",
    "                                                                                                    \n",
    "0.03567401146744751\n",
    "====================================================================================================\n",
    "without 5분, 1시간 수요, 습도, 강수량, 적설량, 지면온도, 풍속, Day\n",
    "\n",
    "{'max_depth': 8, 'eta': 0.5362404873085405, 'gamma': 0.01615463190240245, 'subsample': 0.9741582116455613, 'colsample_bytree': 0.8190734124044601}\n",
    "                                                                                                    \n",
    "0.03704134275993188\n",
    "====================================================================================================\n",
    "without Day, 1000iter\n",
    "\n",
    "\n",
    "\n",
    "{'max_depth': 8, 'eta': 0.6096258154878887, 'gamma': 0.037528638681386735, 'subsample': 0.8665460115692383, 'colsample_bytree': 0.6523037218779719}\n",
    "                                                                                                    \n",
    "0.036520611452337814\n",
    "===================================================================================================="
   ]
  },
  {
   "cell_type": "code",
   "execution_count": null,
   "id": "9e3bdcf5",
   "metadata": {},
   "outputs": [],
   "source": []
  },
  {
   "cell_type": "code",
   "execution_count": null,
   "id": "7ee4ba80",
   "metadata": {},
   "outputs": [],
   "source": []
  }
 ],
 "metadata": {
  "kernelspec": {
   "display_name": "Python 3 (ipykernel)",
   "language": "python",
   "name": "python3"
  },
  "language_info": {
   "codemirror_mode": {
    "name": "ipython",
    "version": 3
   },
   "file_extension": ".py",
   "mimetype": "text/x-python",
   "name": "python",
   "nbconvert_exporter": "python",
   "pygments_lexer": "ipython3",
   "version": "3.9.17"
  }
 },
 "nbformat": 4,
 "nbformat_minor": 5
}
