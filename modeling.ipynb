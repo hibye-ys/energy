{
 "cells": [
  {
   "cell_type": "code",
   "execution_count": 57,
   "id": "0a001eca",
   "metadata": {},
   "outputs": [
    {
     "name": "stderr",
     "output_type": "stream",
     "text": [
      "/Users/youngseoklee/opt/anaconda3/envs/ai/lib/python3.10/site-packages/tqdm/auto.py:21: TqdmWarning: IProgress not found. Please update jupyter and ipywidgets. See https://ipywidgets.readthedocs.io/en/stable/user_install.html\n",
      "  from .autonotebook import tqdm as notebook_tqdm\n"
     ]
    }
   ],
   "source": [
    "import pandas as pd \n",
    "import matplotlib.pyplot as plt\n",
    "plt.rcParams['font.family'] = 'AppleGothic' # 폰트 변경\n",
    "plt.rcParams['axes.unicode_minus'] = False # 축 값 마이너스 깨짐 해결\n",
    "\n",
    "from torch.nn import Transformer\n",
    "from torch import nn\n",
    "import torch\n",
    "import math\n",
    "from sklearn.model_selection import train_test_split\n",
    "import optuna\n",
    "from sklearn.metrics import mean_absolute_percentage_error ,mean_squared_error"
   ]
  },
  {
   "cell_type": "code",
   "execution_count": 23,
   "id": "60e7f4bb",
   "metadata": {},
   "outputs": [],
   "source": [
    "train_df = pd.read_csv('final_data.csv',index_col=0)\n",
    "y_test = pd.read_csv('y_test.csv', index_col=0)"
   ]
  },
  {
   "cell_type": "code",
   "execution_count": 12,
   "id": "2227930e",
   "metadata": {
    "scrolled": true
   },
   "outputs": [
    {
     "data": {
      "text/plain": [
       "((547521, 11), (2016, 2))"
      ]
     },
     "execution_count": 12,
     "metadata": {},
     "output_type": "execute_result"
    }
   ],
   "source": [
    "train_df.shape, y_test.shape"
   ]
  },
  {
   "cell_type": "code",
   "execution_count": 9,
   "id": "f0409df3",
   "metadata": {
    "collapsed": true
   },
   "outputs": [
    {
     "data": {
      "text/plain": [
       "['기온(°C)',\n",
       " '강수량(mm)',\n",
       " '풍속(m/s)',\n",
       " '습도(%)',\n",
       " '현지기압(hPa)',\n",
       " '일조(hr)',\n",
       " '일사(MJ/m2)',\n",
       " '적설(cm)',\n",
       " '전운량(10분위)',\n",
       " '지면온도(°C)',\n",
       " '현재수요(MW)']"
      ]
     },
     "execution_count": 9,
     "metadata": {},
     "output_type": "execute_result"
    }
   ],
   "source": [
    "cols = list(train_df.keys())\n",
    "cols"
   ]
  },
  {
   "cell_type": "code",
   "execution_count": 13,
   "id": "ce5d3c09",
   "metadata": {
    "collapsed": true
   },
   "outputs": [
    {
     "data": {
      "text/html": [
       "<div>\n",
       "<style scoped>\n",
       "    .dataframe tbody tr th:only-of-type {\n",
       "        vertical-align: middle;\n",
       "    }\n",
       "\n",
       "    .dataframe tbody tr th {\n",
       "        vertical-align: top;\n",
       "    }\n",
       "\n",
       "    .dataframe thead th {\n",
       "        text-align: right;\n",
       "    }\n",
       "</style>\n",
       "<table border=\"1\" class=\"dataframe\">\n",
       "  <thead>\n",
       "    <tr style=\"text-align: right;\">\n",
       "      <th></th>\n",
       "      <th>기준일시</th>\n",
       "      <th>현재수요(MW)</th>\n",
       "    </tr>\n",
       "  </thead>\n",
       "  <tbody>\n",
       "    <tr>\n",
       "      <th>1134732</th>\n",
       "      <td>2023-03-19 23:35:00</td>\n",
       "      <td>58627.16</td>\n",
       "    </tr>\n",
       "    <tr>\n",
       "      <th>1134733</th>\n",
       "      <td>2023-03-19 23:40:00</td>\n",
       "      <td>57941.24</td>\n",
       "    </tr>\n",
       "    <tr>\n",
       "      <th>1134734</th>\n",
       "      <td>2023-03-19 23:45:00</td>\n",
       "      <td>57726.21</td>\n",
       "    </tr>\n",
       "    <tr>\n",
       "      <th>1134735</th>\n",
       "      <td>2023-03-19 23:50:00</td>\n",
       "      <td>57755.40</td>\n",
       "    </tr>\n",
       "    <tr>\n",
       "      <th>1134736</th>\n",
       "      <td>2023-03-19 23:55:00</td>\n",
       "      <td>57323.79</td>\n",
       "    </tr>\n",
       "  </tbody>\n",
       "</table>\n",
       "</div>"
      ],
      "text/plain": [
       "                        기준일시  현재수요(MW)\n",
       "1134732  2023-03-19 23:35:00  58627.16\n",
       "1134733  2023-03-19 23:40:00  57941.24\n",
       "1134734  2023-03-19 23:45:00  57726.21\n",
       "1134735  2023-03-19 23:50:00  57755.40\n",
       "1134736  2023-03-19 23:55:00  57323.79"
      ]
     },
     "execution_count": 13,
     "metadata": {},
     "output_type": "execute_result"
    }
   ],
   "source": [
    "y_test.tail()"
   ]
  },
  {
   "cell_type": "code",
   "execution_count": 24,
   "id": "08f48b23",
   "metadata": {
    "collapsed": true
   },
   "outputs": [
    {
     "data": {
      "text/html": [
       "<div>\n",
       "<style scoped>\n",
       "    .dataframe tbody tr th:only-of-type {\n",
       "        vertical-align: middle;\n",
       "    }\n",
       "\n",
       "    .dataframe tbody tr th {\n",
       "        vertical-align: top;\n",
       "    }\n",
       "\n",
       "    .dataframe thead th {\n",
       "        text-align: right;\n",
       "    }\n",
       "</style>\n",
       "<table border=\"1\" class=\"dataframe\">\n",
       "  <thead>\n",
       "    <tr style=\"text-align: right;\">\n",
       "      <th></th>\n",
       "      <th>기온(°C)</th>\n",
       "      <th>강수량(mm)</th>\n",
       "      <th>풍속(m/s)</th>\n",
       "      <th>습도(%)</th>\n",
       "      <th>현지기압(hPa)</th>\n",
       "      <th>일조(hr)</th>\n",
       "      <th>일사(MJ/m2)</th>\n",
       "      <th>적설(cm)</th>\n",
       "      <th>전운량(10분위)</th>\n",
       "      <th>지면온도(°C)</th>\n",
       "      <th>현재수요(MW)</th>\n",
       "    </tr>\n",
       "  </thead>\n",
       "  <tbody>\n",
       "    <tr>\n",
       "      <th>2023-03-19 23:35:00</th>\n",
       "      <td>4.946842</td>\n",
       "      <td>0.0</td>\n",
       "      <td>0.862368</td>\n",
       "      <td>68.204386</td>\n",
       "      <td>1006.203070</td>\n",
       "      <td>0.08617</td>\n",
       "      <td>0.060784</td>\n",
       "      <td>0.0</td>\n",
       "      <td>2.612281</td>\n",
       "      <td>3.775088</td>\n",
       "      <td>58627.16</td>\n",
       "    </tr>\n",
       "    <tr>\n",
       "      <th>2023-03-19 23:40:00</th>\n",
       "      <td>4.870526</td>\n",
       "      <td>0.0</td>\n",
       "      <td>0.864211</td>\n",
       "      <td>68.477193</td>\n",
       "      <td>1006.187719</td>\n",
       "      <td>0.08617</td>\n",
       "      <td>0.060784</td>\n",
       "      <td>0.0</td>\n",
       "      <td>2.645614</td>\n",
       "      <td>3.722807</td>\n",
       "      <td>57941.24</td>\n",
       "    </tr>\n",
       "    <tr>\n",
       "      <th>2023-03-19 23:45:00</th>\n",
       "      <td>4.794211</td>\n",
       "      <td>0.0</td>\n",
       "      <td>0.866053</td>\n",
       "      <td>68.750000</td>\n",
       "      <td>1006.172368</td>\n",
       "      <td>0.08617</td>\n",
       "      <td>0.060784</td>\n",
       "      <td>0.0</td>\n",
       "      <td>2.678947</td>\n",
       "      <td>3.670526</td>\n",
       "      <td>57726.21</td>\n",
       "    </tr>\n",
       "    <tr>\n",
       "      <th>2023-03-19 23:50:00</th>\n",
       "      <td>4.717895</td>\n",
       "      <td>0.0</td>\n",
       "      <td>0.867895</td>\n",
       "      <td>69.022807</td>\n",
       "      <td>1006.157018</td>\n",
       "      <td>0.08617</td>\n",
       "      <td>0.060784</td>\n",
       "      <td>0.0</td>\n",
       "      <td>2.712281</td>\n",
       "      <td>3.618246</td>\n",
       "      <td>57755.40</td>\n",
       "    </tr>\n",
       "    <tr>\n",
       "      <th>2023-03-19 23:55:00</th>\n",
       "      <td>4.641579</td>\n",
       "      <td>0.0</td>\n",
       "      <td>0.869737</td>\n",
       "      <td>69.295614</td>\n",
       "      <td>1006.141667</td>\n",
       "      <td>0.08617</td>\n",
       "      <td>0.060784</td>\n",
       "      <td>0.0</td>\n",
       "      <td>2.745614</td>\n",
       "      <td>3.565965</td>\n",
       "      <td>57323.79</td>\n",
       "    </tr>\n",
       "  </tbody>\n",
       "</table>\n",
       "</div>"
      ],
      "text/plain": [
       "                       기온(°C)  강수량(mm)   풍속(m/s)      습도(%)    현지기압(hPa)  \\\n",
       "2023-03-19 23:35:00  4.946842      0.0  0.862368  68.204386  1006.203070   \n",
       "2023-03-19 23:40:00  4.870526      0.0  0.864211  68.477193  1006.187719   \n",
       "2023-03-19 23:45:00  4.794211      0.0  0.866053  68.750000  1006.172368   \n",
       "2023-03-19 23:50:00  4.717895      0.0  0.867895  69.022807  1006.157018   \n",
       "2023-03-19 23:55:00  4.641579      0.0  0.869737  69.295614  1006.141667   \n",
       "\n",
       "                      일조(hr)  일사(MJ/m2)  적설(cm)  전운량(10분위)  지면온도(°C)  현재수요(MW)  \n",
       "2023-03-19 23:35:00  0.08617   0.060784     0.0   2.612281  3.775088  58627.16  \n",
       "2023-03-19 23:40:00  0.08617   0.060784     0.0   2.645614  3.722807  57941.24  \n",
       "2023-03-19 23:45:00  0.08617   0.060784     0.0   2.678947  3.670526  57726.21  \n",
       "2023-03-19 23:50:00  0.08617   0.060784     0.0   2.712281  3.618246  57755.40  \n",
       "2023-03-19 23:55:00  0.08617   0.060784     0.0   2.745614  3.565965  57323.79  "
      ]
     },
     "execution_count": 24,
     "metadata": {},
     "output_type": "execute_result"
    }
   ],
   "source": [
    "train_df.tail()"
   ]
  },
  {
   "cell_type": "code",
   "execution_count": 42,
   "id": "3f5879c9",
   "metadata": {},
   "outputs": [],
   "source": [
    "train = train_df.loc[:'2023-03-16']\n",
    "test = train_df.loc['2023-03-16':'2023-03-20']"
   ]
  },
  {
   "cell_type": "code",
   "execution_count": 43,
   "id": "9409f386",
   "metadata": {},
   "outputs": [],
   "source": [
    "X = train.iloc[:,:-1]\n",
    "y = train.iloc[:,-1]\n",
    "\n",
    "\n",
    "X_test = test.iloc[: ,:-1]\n",
    "y_test = test.iloc[:, -1]"
   ]
  },
  {
   "cell_type": "code",
   "execution_count": 47,
   "id": "de5d3465",
   "metadata": {},
   "outputs": [
    {
     "data": {
      "text/plain": [
       "((546369, 10), (546369,), (1152, 10), (1152,))"
      ]
     },
     "execution_count": 47,
     "metadata": {},
     "output_type": "execute_result"
    }
   ],
   "source": [
    "X.shape, y.shape, X_test.shape, y_test.shape"
   ]
  },
  {
   "cell_type": "markdown",
   "id": "43d347ab",
   "metadata": {},
   "source": [
    "# Preprocessing"
   ]
  },
  {
   "cell_type": "code",
   "execution_count": 48,
   "id": "266d4459",
   "metadata": {},
   "outputs": [],
   "source": [
    "#scailing\n",
    "\n",
    "from sklearn.preprocessing import MinMaxScaler\n",
    "min_max_scaler = MinMaxScaler()\n",
    "\n",
    "\n",
    "X_scaled = min_max_scaler.fit_transform(X.to_numpy())\n",
    "X_test_scaled = min_max_scaler.fit_transform(X_test.to_numpy())"
   ]
  },
  {
   "cell_type": "code",
   "execution_count": 49,
   "id": "b20935dd",
   "metadata": {},
   "outputs": [],
   "source": [
    "X_train , X_val, y_train, y_val = train_test_split(X_scaled, y, test_size=0.2, random_state=20, shuffle=False)"
   ]
  },
  {
   "cell_type": "markdown",
   "id": "e9bcb683",
   "metadata": {},
   "source": [
    "# LGBM"
   ]
  },
  {
   "cell_type": "code",
   "execution_count": 91,
   "id": "9c15889c",
   "metadata": {},
   "outputs": [
    {
     "name": "stderr",
     "output_type": "stream",
     "text": [
      "\u001b[32m[I 2023-07-09 19:45:20,661]\u001b[0m A new study created in memory with name: no-name-47b8510c-00f2-4fd2-915e-774c38d525df\u001b[0m\n",
      "/var/folders/qb/s5vw4nk95r53s007_f3ty08m0000gn/T/ipykernel_66183/4076900590.py:12: FutureWarning: suggest_loguniform has been deprecated in v3.0.0. This feature will be removed in v6.0.0. See https://github.com/optuna/optuna/releases/tag/v3.0.0. Use :func:`~optuna.trial.Trial.suggest_float` instead.\n",
      "  'lambda_l1': trial.suggest_loguniform('lambda_l1', 1e-8, 10.0),\n",
      "/var/folders/qb/s5vw4nk95r53s007_f3ty08m0000gn/T/ipykernel_66183/4076900590.py:13: FutureWarning: suggest_loguniform has been deprecated in v3.0.0. This feature will be removed in v6.0.0. See https://github.com/optuna/optuna/releases/tag/v3.0.0. Use :func:`~optuna.trial.Trial.suggest_float` instead.\n",
      "  'lambda_l2': trial.suggest_loguniform('lambda_l2', 1e-8, 10.0),\n",
      "/var/folders/qb/s5vw4nk95r53s007_f3ty08m0000gn/T/ipykernel_66183/4076900590.py:16: FutureWarning: suggest_uniform has been deprecated in v3.0.0. This feature will be removed in v6.0.0. See https://github.com/optuna/optuna/releases/tag/v3.0.0. Use :func:`~optuna.trial.Trial.suggest_float` instead.\n",
      "  'feature_fraction': trial.suggest_uniform('feature_fraction', 0.4, 1.0),\n",
      "/var/folders/qb/s5vw4nk95r53s007_f3ty08m0000gn/T/ipykernel_66183/4076900590.py:17: FutureWarning: suggest_uniform has been deprecated in v3.0.0. This feature will be removed in v6.0.0. See https://github.com/optuna/optuna/releases/tag/v3.0.0. Use :func:`~optuna.trial.Trial.suggest_float` instead.\n",
      "  'bagging_fraction': trial.suggest_uniform('bagging_fraction', 0.4, 1.0),\n",
      "/Users/youngseoklee/opt/anaconda3/envs/ai/lib/python3.10/site-packages/lightgbm/engine.py:181: UserWarning: 'early_stopping_rounds' argument is deprecated and will be removed in a future release of LightGBM. Pass 'early_stopping()' callback via 'callbacks' argument instead.\n",
      "  _log_warning(\"'early_stopping_rounds' argument is deprecated and will be removed in a future release of LightGBM. \"\n"
     ]
    },
    {
     "name": "stdout",
     "output_type": "stream",
     "text": [
      "[1]\tvalid_0's mape: 0.109718\n",
      "Training until validation scores don't improve for 10 rounds\n",
      "[2]\tvalid_0's mape: 0.107051\n",
      "[3]\tvalid_0's mape: 0.10524\n",
      "[4]\tvalid_0's mape: 0.10386\n",
      "[5]\tvalid_0's mape: 0.102737\n",
      "[6]\tvalid_0's mape: 0.100984\n",
      "[7]\tvalid_0's mape: 0.0992789\n",
      "[8]\tvalid_0's mape: 0.0986773\n",
      "[9]\tvalid_0's mape: 0.0979234\n",
      "[10]\tvalid_0's mape: 0.0973025\n",
      "[11]\tvalid_0's mape: 0.0969904\n",
      "[12]\tvalid_0's mape: 0.0967865\n",
      "[13]\tvalid_0's mape: 0.0967786\n",
      "[14]\tvalid_0's mape: 0.0965908\n",
      "[15]\tvalid_0's mape: 0.0958683\n",
      "[16]\tvalid_0's mape: 0.095891\n",
      "[17]\tvalid_0's mape: 0.0953836\n",
      "[18]\tvalid_0's mape: 0.0954088\n",
      "[19]\tvalid_0's mape: 0.0950268\n",
      "[20]\tvalid_0's mape: 0.0945987\n",
      "[21]\tvalid_0's mape: 0.0942361\n",
      "[22]\tvalid_0's mape: 0.0943609\n",
      "[23]\tvalid_0's mape: 0.0943851\n",
      "[24]\tvalid_0's mape: 0.0941165\n",
      "[25]\tvalid_0's mape: 0.0941613\n",
      "[26]\tvalid_0's mape: 0.0940053\n",
      "[27]\tvalid_0's mape: 0.0941524\n",
      "[28]\tvalid_0's mape: 0.0941858\n",
      "[29]\tvalid_0's mape: 0.0942389\n",
      "[30]\tvalid_0's mape: 0.0943347\n",
      "[31]\tvalid_0's mape: 0.0941762\n",
      "[32]\tvalid_0's mape: 0.0940194\n",
      "[33]\tvalid_0's mape: 0.0937997\n"
     ]
    },
    {
     "name": "stderr",
     "output_type": "stream",
     "text": [
      "\u001b[32m[I 2023-07-09 19:45:21,590]\u001b[0m Trial 0 finished with value: 0.2738282645184963 and parameters: {'lambda_l1': 0.03790607931275354, 'lambda_l2': 0.24098947496433618, 'max_depth': 64, 'num_leaves': 57, 'feature_fraction': 0.9353602854426868, 'bagging_fraction': 0.8835155085765161, 'bagging_freq': 3, 'min_child_samples': 75}. Best is trial 0 with value: 0.2738282645184963.\u001b[0m\n"
     ]
    },
    {
     "name": "stdout",
     "output_type": "stream",
     "text": [
      "[34]\tvalid_0's mape: 0.0938334\n",
      "[35]\tvalid_0's mape: 0.0939112\n",
      "[36]\tvalid_0's mape: 0.0938607\n",
      "[37]\tvalid_0's mape: 0.0942761\n",
      "[38]\tvalid_0's mape: 0.0946741\n",
      "[39]\tvalid_0's mape: 0.094603\n",
      "[40]\tvalid_0's mape: 0.0946064\n",
      "[41]\tvalid_0's mape: 0.0946647\n",
      "[42]\tvalid_0's mape: 0.0943735\n",
      "[43]\tvalid_0's mape: 0.0942978\n",
      "Early stopping, best iteration is:\n",
      "[33]\tvalid_0's mape: 0.0937997\n",
      "[1]\tvalid_0's mape: 0.109628\n",
      "Training until validation scores don't improve for 10 rounds\n",
      "[2]\tvalid_0's mape: 0.108372\n"
     ]
    },
    {
     "name": "stderr",
     "output_type": "stream",
     "text": [
      "/var/folders/qb/s5vw4nk95r53s007_f3ty08m0000gn/T/ipykernel_66183/4076900590.py:12: FutureWarning: suggest_loguniform has been deprecated in v3.0.0. This feature will be removed in v6.0.0. See https://github.com/optuna/optuna/releases/tag/v3.0.0. Use :func:`~optuna.trial.Trial.suggest_float` instead.\n",
      "  'lambda_l1': trial.suggest_loguniform('lambda_l1', 1e-8, 10.0),\n",
      "/var/folders/qb/s5vw4nk95r53s007_f3ty08m0000gn/T/ipykernel_66183/4076900590.py:13: FutureWarning: suggest_loguniform has been deprecated in v3.0.0. This feature will be removed in v6.0.0. See https://github.com/optuna/optuna/releases/tag/v3.0.0. Use :func:`~optuna.trial.Trial.suggest_float` instead.\n",
      "  'lambda_l2': trial.suggest_loguniform('lambda_l2', 1e-8, 10.0),\n",
      "/var/folders/qb/s5vw4nk95r53s007_f3ty08m0000gn/T/ipykernel_66183/4076900590.py:16: FutureWarning: suggest_uniform has been deprecated in v3.0.0. This feature will be removed in v6.0.0. See https://github.com/optuna/optuna/releases/tag/v3.0.0. Use :func:`~optuna.trial.Trial.suggest_float` instead.\n",
      "  'feature_fraction': trial.suggest_uniform('feature_fraction', 0.4, 1.0),\n",
      "/var/folders/qb/s5vw4nk95r53s007_f3ty08m0000gn/T/ipykernel_66183/4076900590.py:17: FutureWarning: suggest_uniform has been deprecated in v3.0.0. This feature will be removed in v6.0.0. See https://github.com/optuna/optuna/releases/tag/v3.0.0. Use :func:`~optuna.trial.Trial.suggest_float` instead.\n",
      "  'bagging_fraction': trial.suggest_uniform('bagging_fraction', 0.4, 1.0),\n",
      "/Users/youngseoklee/opt/anaconda3/envs/ai/lib/python3.10/site-packages/lightgbm/engine.py:181: UserWarning: 'early_stopping_rounds' argument is deprecated and will be removed in a future release of LightGBM. Pass 'early_stopping()' callback via 'callbacks' argument instead.\n",
      "  _log_warning(\"'early_stopping_rounds' argument is deprecated and will be removed in a future release of LightGBM. \"\n"
     ]
    },
    {
     "name": "stdout",
     "output_type": "stream",
     "text": [
      "[3]\tvalid_0's mape: 0.107344\n",
      "[4]\tvalid_0's mape: 0.106787\n",
      "[5]\tvalid_0's mape: 0.104754\n",
      "[6]\tvalid_0's mape: 0.104255\n",
      "[7]\tvalid_0's mape: 0.104095\n",
      "[8]\tvalid_0's mape: 0.102731\n",
      "[9]\tvalid_0's mape: 0.101671\n",
      "[10]\tvalid_0's mape: 0.101531\n",
      "[11]\tvalid_0's mape: 0.100723\n",
      "[12]\tvalid_0's mape: 0.100776\n",
      "[13]\tvalid_0's mape: 0.100103\n",
      "[14]\tvalid_0's mape: 0.0993367\n",
      "[15]\tvalid_0's mape: 0.0985331\n",
      "[16]\tvalid_0's mape: 0.0982172\n",
      "[17]\tvalid_0's mape: 0.097695\n",
      "[18]\tvalid_0's mape: 0.0971409\n",
      "[19]\tvalid_0's mape: 0.0968837\n",
      "[20]\tvalid_0's mape: 0.0963623\n",
      "[21]\tvalid_0's mape: 0.0959241\n",
      "[22]\tvalid_0's mape: 0.0956892\n",
      "[23]\tvalid_0's mape: 0.095455\n",
      "[24]\tvalid_0's mape: 0.0951702\n",
      "[25]\tvalid_0's mape: 0.0948367\n",
      "[26]\tvalid_0's mape: 0.0947548\n",
      "[27]\tvalid_0's mape: 0.094574\n",
      "[28]\tvalid_0's mape: 0.0944425\n",
      "[29]\tvalid_0's mape: 0.0942756\n",
      "[30]\tvalid_0's mape: 0.0939664\n"
     ]
    },
    {
     "name": "stderr",
     "output_type": "stream",
     "text": [
      "\u001b[32m[I 2023-07-09 19:45:21,944]\u001b[0m Trial 1 finished with value: 0.2667588731523868 and parameters: {'lambda_l1': 0.0010178472949287998, 'lambda_l2': 6.094223074108257e-07, 'max_depth': 42, 'num_leaves': 13, 'feature_fraction': 0.9362140453986392, 'bagging_fraction': 0.4715116889161418, 'bagging_freq': 4, 'min_child_samples': 7}. Best is trial 1 with value: 0.2667588731523868.\u001b[0m\n"
     ]
    },
    {
     "name": "stdout",
     "output_type": "stream",
     "text": [
      "[31]\tvalid_0's mape: 0.0937764\n",
      "[32]\tvalid_0's mape: 0.0935717\n",
      "[33]\tvalid_0's mape: 0.0933293\n",
      "[34]\tvalid_0's mape: 0.0931334\n",
      "[35]\tvalid_0's mape: 0.0930158\n",
      "[36]\tvalid_0's mape: 0.0929508\n",
      "[37]\tvalid_0's mape: 0.0928273\n",
      "[38]\tvalid_0's mape: 0.0930089\n",
      "[39]\tvalid_0's mape: 0.0929913\n",
      "[40]\tvalid_0's mape: 0.0931398\n",
      "[41]\tvalid_0's mape: 0.0934069\n",
      "[42]\tvalid_0's mape: 0.0933509\n",
      "[43]\tvalid_0's mape: 0.0932573\n",
      "[44]\tvalid_0's mape: 0.0931505\n",
      "[45]\tvalid_0's mape: 0.0930343\n",
      "[46]\tvalid_0's mape: 0.0929319\n",
      "[47]\tvalid_0's mape: 0.0929219\n",
      "Early stopping, best iteration is:\n",
      "[37]\tvalid_0's mape: 0.0928273\n",
      "[1]\tvalid_0's mape: 0.109244\n",
      "Training until validation scores don't improve for 10 rounds\n",
      "[2]\tvalid_0's mape: 0.107045\n"
     ]
    },
    {
     "name": "stderr",
     "output_type": "stream",
     "text": [
      "/var/folders/qb/s5vw4nk95r53s007_f3ty08m0000gn/T/ipykernel_66183/4076900590.py:12: FutureWarning: suggest_loguniform has been deprecated in v3.0.0. This feature will be removed in v6.0.0. See https://github.com/optuna/optuna/releases/tag/v3.0.0. Use :func:`~optuna.trial.Trial.suggest_float` instead.\n",
      "  'lambda_l1': trial.suggest_loguniform('lambda_l1', 1e-8, 10.0),\n",
      "/var/folders/qb/s5vw4nk95r53s007_f3ty08m0000gn/T/ipykernel_66183/4076900590.py:13: FutureWarning: suggest_loguniform has been deprecated in v3.0.0. This feature will be removed in v6.0.0. See https://github.com/optuna/optuna/releases/tag/v3.0.0. Use :func:`~optuna.trial.Trial.suggest_float` instead.\n",
      "  'lambda_l2': trial.suggest_loguniform('lambda_l2', 1e-8, 10.0),\n",
      "/var/folders/qb/s5vw4nk95r53s007_f3ty08m0000gn/T/ipykernel_66183/4076900590.py:16: FutureWarning: suggest_uniform has been deprecated in v3.0.0. This feature will be removed in v6.0.0. See https://github.com/optuna/optuna/releases/tag/v3.0.0. Use :func:`~optuna.trial.Trial.suggest_float` instead.\n",
      "  'feature_fraction': trial.suggest_uniform('feature_fraction', 0.4, 1.0),\n",
      "/var/folders/qb/s5vw4nk95r53s007_f3ty08m0000gn/T/ipykernel_66183/4076900590.py:17: FutureWarning: suggest_uniform has been deprecated in v3.0.0. This feature will be removed in v6.0.0. See https://github.com/optuna/optuna/releases/tag/v3.0.0. Use :func:`~optuna.trial.Trial.suggest_float` instead.\n",
      "  'bagging_fraction': trial.suggest_uniform('bagging_fraction', 0.4, 1.0),\n",
      "/Users/youngseoklee/opt/anaconda3/envs/ai/lib/python3.10/site-packages/lightgbm/engine.py:181: UserWarning: 'early_stopping_rounds' argument is deprecated and will be removed in a future release of LightGBM. Pass 'early_stopping()' callback via 'callbacks' argument instead.\n",
      "  _log_warning(\"'early_stopping_rounds' argument is deprecated and will be removed in a future release of LightGBM. \"\n"
     ]
    },
    {
     "name": "stdout",
     "output_type": "stream",
     "text": [
      "[3]\tvalid_0's mape: 0.105546\n",
      "[4]\tvalid_0's mape: 0.104325\n",
      "[5]\tvalid_0's mape: 0.101816\n",
      "[6]\tvalid_0's mape: 0.0999324\n",
      "[7]\tvalid_0's mape: 0.099762\n",
      "[8]\tvalid_0's mape: 0.0981271\n",
      "[9]\tvalid_0's mape: 0.0970321\n",
      "[10]\tvalid_0's mape: 0.0961251\n",
      "[11]\tvalid_0's mape: 0.0959141\n",
      "[12]\tvalid_0's mape: 0.0948215\n",
      "[13]\tvalid_0's mape: 0.0946404\n",
      "[14]\tvalid_0's mape: 0.0941007\n",
      "[15]\tvalid_0's mape: 0.0934184\n",
      "[16]\tvalid_0's mape: 0.0929881\n",
      "[17]\tvalid_0's mape: 0.0925873\n",
      "[18]\tvalid_0's mape: 0.0922524\n",
      "[19]\tvalid_0's mape: 0.091797\n",
      "[20]\tvalid_0's mape: 0.0913214\n",
      "[21]\tvalid_0's mape: 0.0910795\n",
      "[22]\tvalid_0's mape: 0.0907938\n",
      "[23]\tvalid_0's mape: 0.0907769\n",
      "[24]\tvalid_0's mape: 0.0905341\n",
      "[25]\tvalid_0's mape: 0.0904819\n",
      "[26]\tvalid_0's mape: 0.0905839\n",
      "[27]\tvalid_0's mape: 0.0904493\n",
      "[28]\tvalid_0's mape: 0.0904467\n",
      "[29]\tvalid_0's mape: 0.090236\n",
      "[30]\tvalid_0's mape: 0.0906598\n",
      "[31]\tvalid_0's mape: 0.0905437\n",
      "[32]\tvalid_0's mape: 0.0904162\n",
      "[33]\tvalid_0's mape: 0.0903228\n",
      "[34]\tvalid_0's mape: 0.0903122\n",
      "[35]\tvalid_0's mape: 0.0902339\n",
      "[36]\tvalid_0's mape: 0.090142\n",
      "[37]\tvalid_0's mape: 0.0901553\n",
      "[38]\tvalid_0's mape: 0.0900517\n",
      "[39]\tvalid_0's mape: 0.0899338\n",
      "[40]\tvalid_0's mape: 0.0899472\n",
      "[41]\tvalid_0's mape: 0.0903259\n",
      "[42]\tvalid_0's mape: 0.0902534\n",
      "[43]\tvalid_0's mape: 0.0901598\n",
      "[44]\tvalid_0's mape: 0.0903955\n",
      "[45]\tvalid_0's mape: 0.0904819\n",
      "[46]\tvalid_0's mape: 0.0904545\n"
     ]
    },
    {
     "name": "stderr",
     "output_type": "stream",
     "text": [
      "\u001b[32m[I 2023-07-09 19:45:23,141]\u001b[0m Trial 2 finished with value: 0.257632544654609 and parameters: {'lambda_l1': 1.653825129470756e-08, 'lambda_l2': 0.0026293660043523012, 'max_depth': 51, 'num_leaves': 71, 'feature_fraction': 0.4771304587688676, 'bagging_fraction': 0.726620293743558, 'bagging_freq': 2, 'min_child_samples': 51}. Best is trial 2 with value: 0.257632544654609.\u001b[0m\n"
     ]
    },
    {
     "name": "stdout",
     "output_type": "stream",
     "text": [
      "[47]\tvalid_0's mape: 0.0904813\n",
      "[48]\tvalid_0's mape: 0.0904693\n",
      "[49]\tvalid_0's mape: 0.0905208\n",
      "Early stopping, best iteration is:\n",
      "[39]\tvalid_0's mape: 0.0899338\n",
      "[1]\tvalid_0's mape: 0.109953\n",
      "Training until validation scores don't improve for 10 rounds\n",
      "[2]\tvalid_0's mape: 0.107115\n"
     ]
    },
    {
     "name": "stderr",
     "output_type": "stream",
     "text": [
      "/var/folders/qb/s5vw4nk95r53s007_f3ty08m0000gn/T/ipykernel_66183/4076900590.py:12: FutureWarning: suggest_loguniform has been deprecated in v3.0.0. This feature will be removed in v6.0.0. See https://github.com/optuna/optuna/releases/tag/v3.0.0. Use :func:`~optuna.trial.Trial.suggest_float` instead.\n",
      "  'lambda_l1': trial.suggest_loguniform('lambda_l1', 1e-8, 10.0),\n",
      "/var/folders/qb/s5vw4nk95r53s007_f3ty08m0000gn/T/ipykernel_66183/4076900590.py:13: FutureWarning: suggest_loguniform has been deprecated in v3.0.0. This feature will be removed in v6.0.0. See https://github.com/optuna/optuna/releases/tag/v3.0.0. Use :func:`~optuna.trial.Trial.suggest_float` instead.\n",
      "  'lambda_l2': trial.suggest_loguniform('lambda_l2', 1e-8, 10.0),\n",
      "/var/folders/qb/s5vw4nk95r53s007_f3ty08m0000gn/T/ipykernel_66183/4076900590.py:16: FutureWarning: suggest_uniform has been deprecated in v3.0.0. This feature will be removed in v6.0.0. See https://github.com/optuna/optuna/releases/tag/v3.0.0. Use :func:`~optuna.trial.Trial.suggest_float` instead.\n",
      "  'feature_fraction': trial.suggest_uniform('feature_fraction', 0.4, 1.0),\n",
      "/var/folders/qb/s5vw4nk95r53s007_f3ty08m0000gn/T/ipykernel_66183/4076900590.py:17: FutureWarning: suggest_uniform has been deprecated in v3.0.0. This feature will be removed in v6.0.0. See https://github.com/optuna/optuna/releases/tag/v3.0.0. Use :func:`~optuna.trial.Trial.suggest_float` instead.\n",
      "  'bagging_fraction': trial.suggest_uniform('bagging_fraction', 0.4, 1.0),\n",
      "/Users/youngseoklee/opt/anaconda3/envs/ai/lib/python3.10/site-packages/lightgbm/engine.py:181: UserWarning: 'early_stopping_rounds' argument is deprecated and will be removed in a future release of LightGBM. Pass 'early_stopping()' callback via 'callbacks' argument instead.\n",
      "  _log_warning(\"'early_stopping_rounds' argument is deprecated and will be removed in a future release of LightGBM. \"\n"
     ]
    },
    {
     "name": "stdout",
     "output_type": "stream",
     "text": [
      "[3]\tvalid_0's mape: 0.105078\n",
      "[4]\tvalid_0's mape: 0.104056\n",
      "[5]\tvalid_0's mape: 0.102739\n",
      "[6]\tvalid_0's mape: 0.100715\n",
      "[7]\tvalid_0's mape: 0.0990872\n",
      "[8]\tvalid_0's mape: 0.0975666\n",
      "[9]\tvalid_0's mape: 0.0965933\n",
      "[10]\tvalid_0's mape: 0.0960074\n",
      "[11]\tvalid_0's mape: 0.0958269\n",
      "[12]\tvalid_0's mape: 0.0949942\n",
      "[13]\tvalid_0's mape: 0.0947425\n",
      "[14]\tvalid_0's mape: 0.0945078\n",
      "[15]\tvalid_0's mape: 0.0942673\n",
      "[16]\tvalid_0's mape: 0.0940765\n",
      "[17]\tvalid_0's mape: 0.0937342\n",
      "[18]\tvalid_0's mape: 0.0933132\n",
      "[19]\tvalid_0's mape: 0.0930122\n",
      "[20]\tvalid_0's mape: 0.092673\n",
      "[21]\tvalid_0's mape: 0.0923738\n",
      "[22]\tvalid_0's mape: 0.0923751\n",
      "[23]\tvalid_0's mape: 0.0923597\n",
      "[24]\tvalid_0's mape: 0.0921893\n",
      "[25]\tvalid_0's mape: 0.0921835\n",
      "[26]\tvalid_0's mape: 0.0922296\n",
      "[27]\tvalid_0's mape: 0.0922613\n",
      "[28]\tvalid_0's mape: 0.092477\n",
      "[29]\tvalid_0's mape: 0.0923984\n",
      "[30]\tvalid_0's mape: 0.0926085\n",
      "[31]\tvalid_0's mape: 0.0925634\n",
      "[32]\tvalid_0's mape: 0.0924576\n",
      "[33]\tvalid_0's mape: 0.0924792\n",
      "[34]\tvalid_0's mape: 0.0925211\n"
     ]
    },
    {
     "name": "stderr",
     "output_type": "stream",
     "text": [
      "\u001b[32m[I 2023-07-09 19:45:25,010]\u001b[0m Trial 3 finished with value: 0.2253523115350207 and parameters: {'lambda_l1': 2.17697874154849e-05, 'lambda_l2': 3.130718353792824e-06, 'max_depth': 48, 'num_leaves': 219, 'feature_fraction': 0.7532875164387152, 'bagging_fraction': 0.7279874837206397, 'bagging_freq': 7, 'min_child_samples': 46}. Best is trial 3 with value: 0.2253523115350207.\u001b[0m\n"
     ]
    },
    {
     "name": "stdout",
     "output_type": "stream",
     "text": [
      "[35]\tvalid_0's mape: 0.0924942\n",
      "Early stopping, best iteration is:\n",
      "[25]\tvalid_0's mape: 0.0921835\n",
      "[1]\tvalid_0's mape: 0.110293\n",
      "Training until validation scores don't improve for 10 rounds\n",
      "[2]\tvalid_0's mape: 0.107649\n",
      "[3]\tvalid_0's mape: 0.105785\n"
     ]
    },
    {
     "name": "stderr",
     "output_type": "stream",
     "text": [
      "/var/folders/qb/s5vw4nk95r53s007_f3ty08m0000gn/T/ipykernel_66183/4076900590.py:12: FutureWarning: suggest_loguniform has been deprecated in v3.0.0. This feature will be removed in v6.0.0. See https://github.com/optuna/optuna/releases/tag/v3.0.0. Use :func:`~optuna.trial.Trial.suggest_float` instead.\n",
      "  'lambda_l1': trial.suggest_loguniform('lambda_l1', 1e-8, 10.0),\n",
      "/var/folders/qb/s5vw4nk95r53s007_f3ty08m0000gn/T/ipykernel_66183/4076900590.py:13: FutureWarning: suggest_loguniform has been deprecated in v3.0.0. This feature will be removed in v6.0.0. See https://github.com/optuna/optuna/releases/tag/v3.0.0. Use :func:`~optuna.trial.Trial.suggest_float` instead.\n",
      "  'lambda_l2': trial.suggest_loguniform('lambda_l2', 1e-8, 10.0),\n",
      "/var/folders/qb/s5vw4nk95r53s007_f3ty08m0000gn/T/ipykernel_66183/4076900590.py:16: FutureWarning: suggest_uniform has been deprecated in v3.0.0. This feature will be removed in v6.0.0. See https://github.com/optuna/optuna/releases/tag/v3.0.0. Use :func:`~optuna.trial.Trial.suggest_float` instead.\n",
      "  'feature_fraction': trial.suggest_uniform('feature_fraction', 0.4, 1.0),\n",
      "/var/folders/qb/s5vw4nk95r53s007_f3ty08m0000gn/T/ipykernel_66183/4076900590.py:17: FutureWarning: suggest_uniform has been deprecated in v3.0.0. This feature will be removed in v6.0.0. See https://github.com/optuna/optuna/releases/tag/v3.0.0. Use :func:`~optuna.trial.Trial.suggest_float` instead.\n",
      "  'bagging_fraction': trial.suggest_uniform('bagging_fraction', 0.4, 1.0),\n",
      "/Users/youngseoklee/opt/anaconda3/envs/ai/lib/python3.10/site-packages/lightgbm/engine.py:181: UserWarning: 'early_stopping_rounds' argument is deprecated and will be removed in a future release of LightGBM. Pass 'early_stopping()' callback via 'callbacks' argument instead.\n",
      "  _log_warning(\"'early_stopping_rounds' argument is deprecated and will be removed in a future release of LightGBM. \"\n"
     ]
    },
    {
     "name": "stdout",
     "output_type": "stream",
     "text": [
      "[4]\tvalid_0's mape: 0.104846\n",
      "[5]\tvalid_0's mape: 0.102343\n",
      "[6]\tvalid_0's mape: 0.100346\n",
      "[7]\tvalid_0's mape: 0.0997339\n",
      "[8]\tvalid_0's mape: 0.0981072\n",
      "[9]\tvalid_0's mape: 0.0977425\n",
      "[10]\tvalid_0's mape: 0.0972276\n",
      "[11]\tvalid_0's mape: 0.0971038\n",
      "[12]\tvalid_0's mape: 0.0961997\n",
      "[13]\tvalid_0's mape: 0.0960765\n",
      "[14]\tvalid_0's mape: 0.0961304\n",
      "[15]\tvalid_0's mape: 0.0958667\n",
      "[16]\tvalid_0's mape: 0.0957713\n",
      "[17]\tvalid_0's mape: 0.0954897\n",
      "[18]\tvalid_0's mape: 0.0954016\n",
      "[19]\tvalid_0's mape: 0.0949663\n",
      "[20]\tvalid_0's mape: 0.0946071\n",
      "[21]\tvalid_0's mape: 0.0942065\n",
      "[22]\tvalid_0's mape: 0.0945745\n",
      "[23]\tvalid_0's mape: 0.0948386\n",
      "[24]\tvalid_0's mape: 0.0945255\n",
      "[25]\tvalid_0's mape: 0.0945096\n",
      "[26]\tvalid_0's mape: 0.0942061\n",
      "[27]\tvalid_0's mape: 0.0944375\n",
      "[28]\tvalid_0's mape: 0.0945836\n",
      "[29]\tvalid_0's mape: 0.0945978\n",
      "[30]\tvalid_0's mape: 0.0946968\n",
      "[31]\tvalid_0's mape: 0.0947716\n",
      "[32]\tvalid_0's mape: 0.0946215\n",
      "[33]\tvalid_0's mape: 0.0946836\n"
     ]
    },
    {
     "name": "stderr",
     "output_type": "stream",
     "text": [
      "\u001b[32m[I 2023-07-09 19:45:26,898]\u001b[0m Trial 4 finished with value: 0.2678020385254172 and parameters: {'lambda_l1': 4.2011681514245673e-08, 'lambda_l2': 5.463280221232775, 'max_depth': 58, 'num_leaves': 216, 'feature_fraction': 0.7091026211700586, 'bagging_fraction': 0.5946041354682225, 'bagging_freq': 7, 'min_child_samples': 86}. Best is trial 3 with value: 0.2253523115350207.\u001b[0m\n"
     ]
    },
    {
     "name": "stdout",
     "output_type": "stream",
     "text": [
      "[34]\tvalid_0's mape: 0.0944685\n",
      "[35]\tvalid_0's mape: 0.0944081\n",
      "[36]\tvalid_0's mape: 0.0944019\n",
      "Early stopping, best iteration is:\n",
      "[26]\tvalid_0's mape: 0.0942061\n",
      "[1]\tvalid_0's mape: 0.109452\n",
      "Training until validation scores don't improve for 10 rounds\n",
      "[2]\tvalid_0's mape: 0.107301\n",
      "[3]\tvalid_0's mape: 0.106056\n",
      "[4]\tvalid_0's mape: 0.104918\n",
      "[5]\tvalid_0's mape: 0.102482\n"
     ]
    },
    {
     "name": "stderr",
     "output_type": "stream",
     "text": [
      "/var/folders/qb/s5vw4nk95r53s007_f3ty08m0000gn/T/ipykernel_66183/4076900590.py:12: FutureWarning: suggest_loguniform has been deprecated in v3.0.0. This feature will be removed in v6.0.0. See https://github.com/optuna/optuna/releases/tag/v3.0.0. Use :func:`~optuna.trial.Trial.suggest_float` instead.\n",
      "  'lambda_l1': trial.suggest_loguniform('lambda_l1', 1e-8, 10.0),\n",
      "/var/folders/qb/s5vw4nk95r53s007_f3ty08m0000gn/T/ipykernel_66183/4076900590.py:13: FutureWarning: suggest_loguniform has been deprecated in v3.0.0. This feature will be removed in v6.0.0. See https://github.com/optuna/optuna/releases/tag/v3.0.0. Use :func:`~optuna.trial.Trial.suggest_float` instead.\n",
      "  'lambda_l2': trial.suggest_loguniform('lambda_l2', 1e-8, 10.0),\n",
      "/var/folders/qb/s5vw4nk95r53s007_f3ty08m0000gn/T/ipykernel_66183/4076900590.py:16: FutureWarning: suggest_uniform has been deprecated in v3.0.0. This feature will be removed in v6.0.0. See https://github.com/optuna/optuna/releases/tag/v3.0.0. Use :func:`~optuna.trial.Trial.suggest_float` instead.\n",
      "  'feature_fraction': trial.suggest_uniform('feature_fraction', 0.4, 1.0),\n",
      "/var/folders/qb/s5vw4nk95r53s007_f3ty08m0000gn/T/ipykernel_66183/4076900590.py:17: FutureWarning: suggest_uniform has been deprecated in v3.0.0. This feature will be removed in v6.0.0. See https://github.com/optuna/optuna/releases/tag/v3.0.0. Use :func:`~optuna.trial.Trial.suggest_float` instead.\n",
      "  'bagging_fraction': trial.suggest_uniform('bagging_fraction', 0.4, 1.0),\n",
      "/Users/youngseoklee/opt/anaconda3/envs/ai/lib/python3.10/site-packages/lightgbm/engine.py:181: UserWarning: 'early_stopping_rounds' argument is deprecated and will be removed in a future release of LightGBM. Pass 'early_stopping()' callback via 'callbacks' argument instead.\n",
      "  _log_warning(\"'early_stopping_rounds' argument is deprecated and will be removed in a future release of LightGBM. \"\n"
     ]
    },
    {
     "name": "stdout",
     "output_type": "stream",
     "text": [
      "[6]\tvalid_0's mape: 0.10067\n",
      "[7]\tvalid_0's mape: 0.100463\n",
      "[8]\tvalid_0's mape: 0.098867\n",
      "[9]\tvalid_0's mape: 0.0977499\n",
      "[10]\tvalid_0's mape: 0.0968079\n",
      "[11]\tvalid_0's mape: 0.0967656\n",
      "[12]\tvalid_0's mape: 0.0957722\n",
      "[13]\tvalid_0's mape: 0.0957833\n",
      "[14]\tvalid_0's mape: 0.0951872\n",
      "[15]\tvalid_0's mape: 0.0944611\n",
      "[16]\tvalid_0's mape: 0.093999\n",
      "[17]\tvalid_0's mape: 0.0935651\n",
      "[18]\tvalid_0's mape: 0.0933122\n",
      "[19]\tvalid_0's mape: 0.0928491\n",
      "[20]\tvalid_0's mape: 0.0923298\n",
      "[21]\tvalid_0's mape: 0.0920321\n",
      "[22]\tvalid_0's mape: 0.0917649\n",
      "[23]\tvalid_0's mape: 0.0917312\n",
      "[24]\tvalid_0's mape: 0.0914381\n",
      "[25]\tvalid_0's mape: 0.0915195\n",
      "[26]\tvalid_0's mape: 0.0917068\n",
      "[27]\tvalid_0's mape: 0.0913482\n",
      "[28]\tvalid_0's mape: 0.0912445\n",
      "[29]\tvalid_0's mape: 0.0909948\n",
      "[30]\tvalid_0's mape: 0.0912137\n",
      "[31]\tvalid_0's mape: 0.0910673\n",
      "[32]\tvalid_0's mape: 0.0909332\n",
      "[33]\tvalid_0's mape: 0.0908197\n",
      "[34]\tvalid_0's mape: 0.0907366\n",
      "[35]\tvalid_0's mape: 0.0906328\n",
      "[36]\tvalid_0's mape: 0.0905156\n",
      "[37]\tvalid_0's mape: 0.0906852\n",
      "[38]\tvalid_0's mape: 0.0905676\n",
      "[39]\tvalid_0's mape: 0.0904271\n",
      "[40]\tvalid_0's mape: 0.0905189\n",
      "[41]\tvalid_0's mape: 0.0910788\n",
      "[42]\tvalid_0's mape: 0.0909961\n",
      "[43]\tvalid_0's mape: 0.0908692\n",
      "[44]\tvalid_0's mape: 0.0909963\n",
      "[45]\tvalid_0's mape: 0.0910216\n",
      "[46]\tvalid_0's mape: 0.0909702\n",
      "[47]\tvalid_0's mape: 0.0909986\n",
      "[48]\tvalid_0's mape: 0.0909665\n"
     ]
    },
    {
     "name": "stderr",
     "output_type": "stream",
     "text": [
      "\u001b[32m[I 2023-07-09 19:45:27,632]\u001b[0m Trial 5 finished with value: 0.2771427711800327 and parameters: {'lambda_l1': 0.035667904573496556, 'lambda_l2': 0.002368501586536577, 'max_depth': 41, 'num_leaves': 38, 'feature_fraction': 0.530405257031284, 'bagging_fraction': 0.4863043552032533, 'bagging_freq': 2, 'min_child_samples': 85}. Best is trial 3 with value: 0.2253523115350207.\u001b[0m\n"
     ]
    },
    {
     "name": "stdout",
     "output_type": "stream",
     "text": [
      "[49]\tvalid_0's mape: 0.091071\n",
      "Early stopping, best iteration is:\n",
      "[39]\tvalid_0's mape: 0.0904271\n",
      "[1]\tvalid_0's mape: 0.108926\n",
      "Training until validation scores don't improve for 10 rounds\n",
      "[2]\tvalid_0's mape: 0.106646\n",
      "[3]\tvalid_0's mape: 0.105261\n"
     ]
    },
    {
     "name": "stderr",
     "output_type": "stream",
     "text": [
      "/var/folders/qb/s5vw4nk95r53s007_f3ty08m0000gn/T/ipykernel_66183/4076900590.py:12: FutureWarning: suggest_loguniform has been deprecated in v3.0.0. This feature will be removed in v6.0.0. See https://github.com/optuna/optuna/releases/tag/v3.0.0. Use :func:`~optuna.trial.Trial.suggest_float` instead.\n",
      "  'lambda_l1': trial.suggest_loguniform('lambda_l1', 1e-8, 10.0),\n",
      "/var/folders/qb/s5vw4nk95r53s007_f3ty08m0000gn/T/ipykernel_66183/4076900590.py:13: FutureWarning: suggest_loguniform has been deprecated in v3.0.0. This feature will be removed in v6.0.0. See https://github.com/optuna/optuna/releases/tag/v3.0.0. Use :func:`~optuna.trial.Trial.suggest_float` instead.\n",
      "  'lambda_l2': trial.suggest_loguniform('lambda_l2', 1e-8, 10.0),\n",
      "/var/folders/qb/s5vw4nk95r53s007_f3ty08m0000gn/T/ipykernel_66183/4076900590.py:16: FutureWarning: suggest_uniform has been deprecated in v3.0.0. This feature will be removed in v6.0.0. See https://github.com/optuna/optuna/releases/tag/v3.0.0. Use :func:`~optuna.trial.Trial.suggest_float` instead.\n",
      "  'feature_fraction': trial.suggest_uniform('feature_fraction', 0.4, 1.0),\n",
      "/var/folders/qb/s5vw4nk95r53s007_f3ty08m0000gn/T/ipykernel_66183/4076900590.py:17: FutureWarning: suggest_uniform has been deprecated in v3.0.0. This feature will be removed in v6.0.0. See https://github.com/optuna/optuna/releases/tag/v3.0.0. Use :func:`~optuna.trial.Trial.suggest_float` instead.\n",
      "  'bagging_fraction': trial.suggest_uniform('bagging_fraction', 0.4, 1.0),\n",
      "/Users/youngseoklee/opt/anaconda3/envs/ai/lib/python3.10/site-packages/lightgbm/engine.py:181: UserWarning: 'early_stopping_rounds' argument is deprecated and will be removed in a future release of LightGBM. Pass 'early_stopping()' callback via 'callbacks' argument instead.\n",
      "  _log_warning(\"'early_stopping_rounds' argument is deprecated and will be removed in a future release of LightGBM. \"\n"
     ]
    },
    {
     "name": "stdout",
     "output_type": "stream",
     "text": [
      "[4]\tvalid_0's mape: 0.104895\n",
      "[5]\tvalid_0's mape: 0.102281\n",
      "[6]\tvalid_0's mape: 0.100304\n",
      "[7]\tvalid_0's mape: 0.099534\n",
      "[8]\tvalid_0's mape: 0.0979066\n",
      "[9]\tvalid_0's mape: 0.0966677\n",
      "[10]\tvalid_0's mape: 0.0953856\n",
      "[11]\tvalid_0's mape: 0.0946942\n",
      "[12]\tvalid_0's mape: 0.0937646\n",
      "[13]\tvalid_0's mape: 0.0935504\n",
      "[14]\tvalid_0's mape: 0.0929138\n",
      "[15]\tvalid_0's mape: 0.092324\n",
      "[16]\tvalid_0's mape: 0.0922249\n",
      "[17]\tvalid_0's mape: 0.091723\n",
      "[18]\tvalid_0's mape: 0.0917152\n",
      "[19]\tvalid_0's mape: 0.0913513\n",
      "[20]\tvalid_0's mape: 0.0910714\n",
      "[21]\tvalid_0's mape: 0.0907746\n",
      "[22]\tvalid_0's mape: 0.0905371\n",
      "[23]\tvalid_0's mape: 0.0906728\n",
      "[24]\tvalid_0's mape: 0.0904556\n",
      "[25]\tvalid_0's mape: 0.0903472\n",
      "[26]\tvalid_0's mape: 0.0904495\n",
      "[27]\tvalid_0's mape: 0.0903678\n",
      "[28]\tvalid_0's mape: 0.0904267\n",
      "[29]\tvalid_0's mape: 0.0902489\n",
      "[30]\tvalid_0's mape: 0.090396\n",
      "[31]\tvalid_0's mape: 0.090304\n",
      "[32]\tvalid_0's mape: 0.0902489\n",
      "[33]\tvalid_0's mape: 0.09018\n",
      "[34]\tvalid_0's mape: 0.0902839\n",
      "[35]\tvalid_0's mape: 0.0902473\n",
      "[36]\tvalid_0's mape: 0.0902217\n",
      "[37]\tvalid_0's mape: 0.0903023\n",
      "[38]\tvalid_0's mape: 0.0902472\n",
      "[39]\tvalid_0's mape: 0.0902823\n",
      "[40]\tvalid_0's mape: 0.0903108\n",
      "[41]\tvalid_0's mape: 0.0904071\n",
      "[42]\tvalid_0's mape: 0.0903972\n"
     ]
    },
    {
     "name": "stderr",
     "output_type": "stream",
     "text": [
      "\u001b[32m[I 2023-07-09 19:45:30,118]\u001b[0m Trial 6 finished with value: 0.25061595829818667 and parameters: {'lambda_l1': 3.8741953722146277e-07, 'lambda_l2': 0.0022494577727871154, 'max_depth': 43, 'num_leaves': 218, 'feature_fraction': 0.5835621722125707, 'bagging_fraction': 0.7664859790756664, 'bagging_freq': 6, 'min_child_samples': 71}. Best is trial 3 with value: 0.2253523115350207.\u001b[0m\n"
     ]
    },
    {
     "name": "stdout",
     "output_type": "stream",
     "text": [
      "[43]\tvalid_0's mape: 0.0903313\n",
      "Early stopping, best iteration is:\n",
      "[33]\tvalid_0's mape: 0.09018\n",
      "[1]\tvalid_0's mape: 0.10987\n",
      "Training until validation scores don't improve for 10 rounds\n",
      "[2]\tvalid_0's mape: 0.107082\n",
      "[3]\tvalid_0's mape: 0.105153\n"
     ]
    },
    {
     "name": "stderr",
     "output_type": "stream",
     "text": [
      "/var/folders/qb/s5vw4nk95r53s007_f3ty08m0000gn/T/ipykernel_66183/4076900590.py:12: FutureWarning: suggest_loguniform has been deprecated in v3.0.0. This feature will be removed in v6.0.0. See https://github.com/optuna/optuna/releases/tag/v3.0.0. Use :func:`~optuna.trial.Trial.suggest_float` instead.\n",
      "  'lambda_l1': trial.suggest_loguniform('lambda_l1', 1e-8, 10.0),\n",
      "/var/folders/qb/s5vw4nk95r53s007_f3ty08m0000gn/T/ipykernel_66183/4076900590.py:13: FutureWarning: suggest_loguniform has been deprecated in v3.0.0. This feature will be removed in v6.0.0. See https://github.com/optuna/optuna/releases/tag/v3.0.0. Use :func:`~optuna.trial.Trial.suggest_float` instead.\n",
      "  'lambda_l2': trial.suggest_loguniform('lambda_l2', 1e-8, 10.0),\n",
      "/var/folders/qb/s5vw4nk95r53s007_f3ty08m0000gn/T/ipykernel_66183/4076900590.py:16: FutureWarning: suggest_uniform has been deprecated in v3.0.0. This feature will be removed in v6.0.0. See https://github.com/optuna/optuna/releases/tag/v3.0.0. Use :func:`~optuna.trial.Trial.suggest_float` instead.\n",
      "  'feature_fraction': trial.suggest_uniform('feature_fraction', 0.4, 1.0),\n",
      "/var/folders/qb/s5vw4nk95r53s007_f3ty08m0000gn/T/ipykernel_66183/4076900590.py:17: FutureWarning: suggest_uniform has been deprecated in v3.0.0. This feature will be removed in v6.0.0. See https://github.com/optuna/optuna/releases/tag/v3.0.0. Use :func:`~optuna.trial.Trial.suggest_float` instead.\n",
      "  'bagging_fraction': trial.suggest_uniform('bagging_fraction', 0.4, 1.0),\n",
      "/Users/youngseoklee/opt/anaconda3/envs/ai/lib/python3.10/site-packages/lightgbm/engine.py:181: UserWarning: 'early_stopping_rounds' argument is deprecated and will be removed in a future release of LightGBM. Pass 'early_stopping()' callback via 'callbacks' argument instead.\n",
      "  _log_warning(\"'early_stopping_rounds' argument is deprecated and will be removed in a future release of LightGBM. \"\n"
     ]
    },
    {
     "name": "stdout",
     "output_type": "stream",
     "text": [
      "[4]\tvalid_0's mape: 0.104015\n",
      "[5]\tvalid_0's mape: 0.101589\n",
      "[6]\tvalid_0's mape: 0.0995491\n",
      "[7]\tvalid_0's mape: 0.0986107\n",
      "[8]\tvalid_0's mape: 0.0970727\n",
      "[9]\tvalid_0's mape: 0.0966936\n",
      "[10]\tvalid_0's mape: 0.0962554\n",
      "[11]\tvalid_0's mape: 0.0955371\n",
      "[12]\tvalid_0's mape: 0.0946831\n",
      "[13]\tvalid_0's mape: 0.0944267\n",
      "[14]\tvalid_0's mape: 0.0941008\n",
      "[15]\tvalid_0's mape: 0.0941555\n",
      "[16]\tvalid_0's mape: 0.0941285\n",
      "[17]\tvalid_0's mape: 0.0938531\n",
      "[18]\tvalid_0's mape: 0.0939176\n",
      "[19]\tvalid_0's mape: 0.0935044\n",
      "[20]\tvalid_0's mape: 0.0931476\n",
      "[21]\tvalid_0's mape: 0.0928427\n",
      "[22]\tvalid_0's mape: 0.0929687\n",
      "[23]\tvalid_0's mape: 0.0931764\n",
      "[24]\tvalid_0's mape: 0.0929464\n",
      "[25]\tvalid_0's mape: 0.0930457\n",
      "[26]\tvalid_0's mape: 0.0930837\n",
      "[27]\tvalid_0's mape: 0.0931664\n"
     ]
    },
    {
     "name": "stderr",
     "output_type": "stream",
     "text": [
      "\u001b[32m[I 2023-07-09 19:45:31,910]\u001b[0m Trial 7 finished with value: 0.20697896466027813 and parameters: {'lambda_l1': 6.651330258402688e-07, 'lambda_l2': 2.1355684992216897e-07, 'max_depth': 41, 'num_leaves': 238, 'feature_fraction': 0.7113325455858996, 'bagging_fraction': 0.9281578428675564, 'bagging_freq': 2, 'min_child_samples': 91}. Best is trial 7 with value: 0.20697896466027813.\u001b[0m\n"
     ]
    },
    {
     "name": "stdout",
     "output_type": "stream",
     "text": [
      "[28]\tvalid_0's mape: 0.0933492\n",
      "[29]\tvalid_0's mape: 0.093541\n",
      "[30]\tvalid_0's mape: 0.0934131\n",
      "[31]\tvalid_0's mape: 0.0932295\n",
      "Early stopping, best iteration is:\n",
      "[21]\tvalid_0's mape: 0.0928427\n"
     ]
    },
    {
     "name": "stderr",
     "output_type": "stream",
     "text": [
      "/var/folders/qb/s5vw4nk95r53s007_f3ty08m0000gn/T/ipykernel_66183/4076900590.py:12: FutureWarning: suggest_loguniform has been deprecated in v3.0.0. This feature will be removed in v6.0.0. See https://github.com/optuna/optuna/releases/tag/v3.0.0. Use :func:`~optuna.trial.Trial.suggest_float` instead.\n",
      "  'lambda_l1': trial.suggest_loguniform('lambda_l1', 1e-8, 10.0),\n",
      "/var/folders/qb/s5vw4nk95r53s007_f3ty08m0000gn/T/ipykernel_66183/4076900590.py:13: FutureWarning: suggest_loguniform has been deprecated in v3.0.0. This feature will be removed in v6.0.0. See https://github.com/optuna/optuna/releases/tag/v3.0.0. Use :func:`~optuna.trial.Trial.suggest_float` instead.\n",
      "  'lambda_l2': trial.suggest_loguniform('lambda_l2', 1e-8, 10.0),\n",
      "/var/folders/qb/s5vw4nk95r53s007_f3ty08m0000gn/T/ipykernel_66183/4076900590.py:16: FutureWarning: suggest_uniform has been deprecated in v3.0.0. This feature will be removed in v6.0.0. See https://github.com/optuna/optuna/releases/tag/v3.0.0. Use :func:`~optuna.trial.Trial.suggest_float` instead.\n",
      "  'feature_fraction': trial.suggest_uniform('feature_fraction', 0.4, 1.0),\n",
      "/var/folders/qb/s5vw4nk95r53s007_f3ty08m0000gn/T/ipykernel_66183/4076900590.py:17: FutureWarning: suggest_uniform has been deprecated in v3.0.0. This feature will be removed in v6.0.0. See https://github.com/optuna/optuna/releases/tag/v3.0.0. Use :func:`~optuna.trial.Trial.suggest_float` instead.\n",
      "  'bagging_fraction': trial.suggest_uniform('bagging_fraction', 0.4, 1.0),\n",
      "/Users/youngseoklee/opt/anaconda3/envs/ai/lib/python3.10/site-packages/lightgbm/engine.py:181: UserWarning: 'early_stopping_rounds' argument is deprecated and will be removed in a future release of LightGBM. Pass 'early_stopping()' callback via 'callbacks' argument instead.\n",
      "  _log_warning(\"'early_stopping_rounds' argument is deprecated and will be removed in a future release of LightGBM. \"\n"
     ]
    },
    {
     "name": "stdout",
     "output_type": "stream",
     "text": [
      "[1]\tvalid_0's mape: 0.109965\n",
      "Training until validation scores don't improve for 10 rounds\n",
      "[2]\tvalid_0's mape: 0.107159\n",
      "[3]\tvalid_0's mape: 0.105398\n",
      "[4]\tvalid_0's mape: 0.10435\n",
      "[5]\tvalid_0's mape: 0.101957\n",
      "[6]\tvalid_0's mape: 0.0999963\n",
      "[7]\tvalid_0's mape: 0.0983821\n",
      "[8]\tvalid_0's mape: 0.09687\n",
      "[9]\tvalid_0's mape: 0.0963266\n",
      "[10]\tvalid_0's mape: 0.0960513\n",
      "[11]\tvalid_0's mape: 0.0956458\n",
      "[12]\tvalid_0's mape: 0.0950252\n",
      "[13]\tvalid_0's mape: 0.0949032\n",
      "[14]\tvalid_0's mape: 0.0946346\n",
      "[15]\tvalid_0's mape: 0.0943714\n",
      "[16]\tvalid_0's mape: 0.0942297\n",
      "[17]\tvalid_0's mape: 0.0940445\n",
      "[18]\tvalid_0's mape: 0.0936092\n",
      "[19]\tvalid_0's mape: 0.0932069\n",
      "[20]\tvalid_0's mape: 0.0929059\n",
      "[21]\tvalid_0's mape: 0.092587\n",
      "[22]\tvalid_0's mape: 0.0925832\n",
      "[23]\tvalid_0's mape: 0.0927743\n",
      "[24]\tvalid_0's mape: 0.0925671\n",
      "[25]\tvalid_0's mape: 0.092525\n",
      "[26]\tvalid_0's mape: 0.0925118\n",
      "[27]\tvalid_0's mape: 0.0924335\n",
      "[28]\tvalid_0's mape: 0.0924209\n",
      "[29]\tvalid_0's mape: 0.0922994\n",
      "[30]\tvalid_0's mape: 0.092145\n",
      "[31]\tvalid_0's mape: 0.0921056\n",
      "[32]\tvalid_0's mape: 0.0919253\n",
      "[33]\tvalid_0's mape: 0.0918837\n",
      "[34]\tvalid_0's mape: 0.0918274\n",
      "[35]\tvalid_0's mape: 0.0918519\n",
      "[36]\tvalid_0's mape: 0.0917825\n",
      "[37]\tvalid_0's mape: 0.0917414\n",
      "[38]\tvalid_0's mape: 0.0916635\n",
      "[39]\tvalid_0's mape: 0.0915599\n",
      "[40]\tvalid_0's mape: 0.0914093\n",
      "[41]\tvalid_0's mape: 0.0916093\n",
      "[42]\tvalid_0's mape: 0.0916681\n",
      "[43]\tvalid_0's mape: 0.0916216\n",
      "[44]\tvalid_0's mape: 0.0916809\n",
      "[45]\tvalid_0's mape: 0.0917982\n",
      "[46]\tvalid_0's mape: 0.091785\n"
     ]
    },
    {
     "name": "stderr",
     "output_type": "stream",
     "text": [
      "\u001b[32m[I 2023-07-09 19:45:33,747]\u001b[0m Trial 8 finished with value: 0.2158894095508942 and parameters: {'lambda_l1': 0.024543680855258144, 'lambda_l2': 0.0016964265798478254, 'max_depth': 64, 'num_leaves': 139, 'feature_fraction': 0.847798151100774, 'bagging_fraction': 0.47978792056799296, 'bagging_freq': 6, 'min_child_samples': 43}. Best is trial 7 with value: 0.20697896466027813.\u001b[0m\n"
     ]
    },
    {
     "name": "stdout",
     "output_type": "stream",
     "text": [
      "[47]\tvalid_0's mape: 0.0918958\n",
      "[48]\tvalid_0's mape: 0.0919082\n",
      "[49]\tvalid_0's mape: 0.0919143\n",
      "[50]\tvalid_0's mape: 0.0919542\n",
      "Early stopping, best iteration is:\n",
      "[40]\tvalid_0's mape: 0.0914093\n",
      "[1]\tvalid_0's mape: 0.10985\n",
      "Training until validation scores don't improve for 10 rounds\n"
     ]
    },
    {
     "name": "stderr",
     "output_type": "stream",
     "text": [
      "/var/folders/qb/s5vw4nk95r53s007_f3ty08m0000gn/T/ipykernel_66183/4076900590.py:12: FutureWarning: suggest_loguniform has been deprecated in v3.0.0. This feature will be removed in v6.0.0. See https://github.com/optuna/optuna/releases/tag/v3.0.0. Use :func:`~optuna.trial.Trial.suggest_float` instead.\n",
      "  'lambda_l1': trial.suggest_loguniform('lambda_l1', 1e-8, 10.0),\n",
      "/var/folders/qb/s5vw4nk95r53s007_f3ty08m0000gn/T/ipykernel_66183/4076900590.py:13: FutureWarning: suggest_loguniform has been deprecated in v3.0.0. This feature will be removed in v6.0.0. See https://github.com/optuna/optuna/releases/tag/v3.0.0. Use :func:`~optuna.trial.Trial.suggest_float` instead.\n",
      "  'lambda_l2': trial.suggest_loguniform('lambda_l2', 1e-8, 10.0),\n",
      "/var/folders/qb/s5vw4nk95r53s007_f3ty08m0000gn/T/ipykernel_66183/4076900590.py:16: FutureWarning: suggest_uniform has been deprecated in v3.0.0. This feature will be removed in v6.0.0. See https://github.com/optuna/optuna/releases/tag/v3.0.0. Use :func:`~optuna.trial.Trial.suggest_float` instead.\n",
      "  'feature_fraction': trial.suggest_uniform('feature_fraction', 0.4, 1.0),\n",
      "/var/folders/qb/s5vw4nk95r53s007_f3ty08m0000gn/T/ipykernel_66183/4076900590.py:17: FutureWarning: suggest_uniform has been deprecated in v3.0.0. This feature will be removed in v6.0.0. See https://github.com/optuna/optuna/releases/tag/v3.0.0. Use :func:`~optuna.trial.Trial.suggest_float` instead.\n",
      "  'bagging_fraction': trial.suggest_uniform('bagging_fraction', 0.4, 1.0),\n",
      "/Users/youngseoklee/opt/anaconda3/envs/ai/lib/python3.10/site-packages/lightgbm/engine.py:181: UserWarning: 'early_stopping_rounds' argument is deprecated and will be removed in a future release of LightGBM. Pass 'early_stopping()' callback via 'callbacks' argument instead.\n",
      "  _log_warning(\"'early_stopping_rounds' argument is deprecated and will be removed in a future release of LightGBM. \"\n"
     ]
    },
    {
     "name": "stdout",
     "output_type": "stream",
     "text": [
      "[2]\tvalid_0's mape: 0.106925\n",
      "[3]\tvalid_0's mape: 0.105361\n",
      "[4]\tvalid_0's mape: 0.104448\n",
      "[5]\tvalid_0's mape: 0.101996\n",
      "[6]\tvalid_0's mape: 0.10003\n",
      "[7]\tvalid_0's mape: 0.0994648\n",
      "[8]\tvalid_0's mape: 0.0979085\n",
      "[9]\tvalid_0's mape: 0.0971376\n",
      "[10]\tvalid_0's mape: 0.0965994\n",
      "[11]\tvalid_0's mape: 0.0962608\n",
      "[12]\tvalid_0's mape: 0.0953904\n",
      "[13]\tvalid_0's mape: 0.0951228\n",
      "[14]\tvalid_0's mape: 0.0949667\n",
      "[15]\tvalid_0's mape: 0.0946747\n",
      "[16]\tvalid_0's mape: 0.094621\n",
      "[17]\tvalid_0's mape: 0.0942966\n",
      "[18]\tvalid_0's mape: 0.0941572\n",
      "[19]\tvalid_0's mape: 0.0937532\n",
      "[20]\tvalid_0's mape: 0.093382\n",
      "[21]\tvalid_0's mape: 0.0930532\n",
      "[22]\tvalid_0's mape: 0.0931971\n",
      "[23]\tvalid_0's mape: 0.0931433\n",
      "[24]\tvalid_0's mape: 0.0929201\n",
      "[25]\tvalid_0's mape: 0.0929915\n",
      "[26]\tvalid_0's mape: 0.0930654\n",
      "[27]\tvalid_0's mape: 0.0930305\n",
      "[28]\tvalid_0's mape: 0.0930646\n",
      "[29]\tvalid_0's mape: 0.0931029\n",
      "[30]\tvalid_0's mape: 0.0931449\n",
      "[31]\tvalid_0's mape: 0.0930287\n",
      "[32]\tvalid_0's mape: 0.0929425\n",
      "[33]\tvalid_0's mape: 0.0928909\n",
      "[34]\tvalid_0's mape: 0.092872\n",
      "[35]\tvalid_0's mape: 0.092838\n",
      "[36]\tvalid_0's mape: 0.0931878\n",
      "[37]\tvalid_0's mape: 0.0931322\n",
      "[38]\tvalid_0's mape: 0.0930408\n",
      "[39]\tvalid_0's mape: 0.093004\n",
      "[40]\tvalid_0's mape: 0.0931375\n",
      "[41]\tvalid_0's mape: 0.0931625\n",
      "[42]\tvalid_0's mape: 0.0932017\n",
      "[43]\tvalid_0's mape: 0.093118\n",
      "[44]\tvalid_0's mape: 0.0931\n",
      "[45]\tvalid_0's mape: 0.093026\n",
      "Early stopping, best iteration is:\n",
      "[35]\tvalid_0's mape: 0.092838\n"
     ]
    },
    {
     "name": "stderr",
     "output_type": "stream",
     "text": [
      "\u001b[32m[I 2023-07-09 19:45:36,054]\u001b[0m Trial 9 finished with value: 0.23007686954807852 and parameters: {'lambda_l1': 0.00011476065137324074, 'lambda_l2': 1.0649912017444818e-08, 'max_depth': 34, 'num_leaves': 218, 'feature_fraction': 0.7021287732641976, 'bagging_fraction': 0.42096549832946173, 'bagging_freq': 5, 'min_child_samples': 24}. Best is trial 7 with value: 0.20697896466027813.\u001b[0m\n"
     ]
    },
    {
     "name": "stdout",
     "output_type": "stream",
     "text": [
      "Best trial:\n",
      "  Value: 0.20697896466027813\n",
      "  Params: \n",
      "    lambda_l1: 6.651330258402688e-07\n",
      "    lambda_l2: 2.1355684992216897e-07\n",
      "    max_depth: 41\n",
      "    num_leaves: 238\n",
      "    feature_fraction: 0.7113325455858996\n",
      "    bagging_fraction: 0.9281578428675564\n",
      "    bagging_freq: 2\n",
      "    min_child_samples: 91\n"
     ]
    }
   ],
   "source": [
    "# Create a lgb.Dataset for both training and testing\n",
    "lgb_train = lgb.Dataset(X_train, y_train)\n",
    "lgb_eval = lgb.Dataset(X_val, y_val, reference=lgb_train)\n",
    "\n",
    "def objective(trial):\n",
    "    params = {\n",
    "        'objective': 'regression',\n",
    "        'metric': 'mape',\n",
    "        'verbosity': -1,\n",
    "        'boosting_type': 'gbdt',\n",
    "        'feature_pre_filter': False,  # Set feature_pre_filter to False\n",
    "        'lambda_l1': trial.suggest_loguniform('lambda_l1', 1e-8, 10.0),\n",
    "        'lambda_l2': trial.suggest_loguniform('lambda_l2', 1e-8, 10.0),\n",
    "        'max_depth': trial.suggest_int('max_depth', 32, 64),\n",
    "        'num_leaves': trial.suggest_int('num_leaves', 2, 256),\n",
    "        'feature_fraction': trial.suggest_uniform('feature_fraction', 0.4, 1.0),\n",
    "        'bagging_fraction': trial.suggest_uniform('bagging_fraction', 0.4, 1.0),\n",
    "        'bagging_freq': trial.suggest_int('bagging_freq', 1, 7),\n",
    "        'min_child_samples': trial.suggest_int('min_child_samples', 5, 100),\n",
    "    }\n",
    "\n",
    "\n",
    "    gbm = lgb.train(params, lgb_train, \n",
    "                    valid_sets=lgb_eval,\n",
    "                    num_boost_round=1000,\n",
    "                   early_stopping_rounds=10)\n",
    "    preds = gbm.predict(X_test)\n",
    "    mape = mean_absolute_percentage_error(y_test, preds)\n",
    "    return mape\n",
    "\n",
    "\n",
    "study = optuna.create_study(direction='minimize')\n",
    "study.optimize(objective, n_trials=10)\n",
    "\n",
    "print('Best trial:')\n",
    "trial = study.best_trial\n",
    "\n",
    "print('  Value: {}'.format(trial.value))\n",
    "\n",
    "print('  Params: ')\n",
    "for key, value in trial.params.items():\n",
    "    print('    {}: {}'.format(key, value))\n"
   ]
  },
  {
   "cell_type": "code",
   "execution_count": null,
   "id": "cf95330d",
   "metadata": {},
   "outputs": [],
   "source": [
    "'''\n",
    "Best trial:\n",
    "  Value: 0.20697896466027813\n",
    "  Params: \n",
    "    lambda_l1: 6.651330258402688e-07\n",
    "    lambda_l2: 2.1355684992216897e-07\n",
    "    max_depth: 41\n",
    "    num_leaves: 238\n",
    "    feature_fraction: 0.7113325455858996\n",
    "    bagging_fraction: 0.9281578428675564\n",
    "    bagging_freq: 2\n",
    "    min_child_samples: 91\n",
    "'''"
   ]
  },
  {
   "cell_type": "code",
   "execution_count": 93,
   "id": "2f8f78a8",
   "metadata": {
    "scrolled": true
   },
   "outputs": [
    {
     "name": "stderr",
     "output_type": "stream",
     "text": [
      "/Users/youngseoklee/opt/anaconda3/envs/ai/lib/python3.10/site-packages/lightgbm/engine.py:181: UserWarning: 'early_stopping_rounds' argument is deprecated and will be removed in a future release of LightGBM. Pass 'early_stopping()' callback via 'callbacks' argument instead.\n",
      "  _log_warning(\"'early_stopping_rounds' argument is deprecated and will be removed in a future release of LightGBM. \"\n"
     ]
    },
    {
     "name": "stdout",
     "output_type": "stream",
     "text": [
      "[LightGBM] [Warning] Auto-choosing row-wise multi-threading, the overhead of testing was 0.002265 seconds.\n",
      "You can set `force_row_wise=true` to remove the overhead.\n",
      "And if memory is not enough, you can set `force_col_wise=true`.\n",
      "[1]\tvalid_0's mape: 0.111413\n",
      "Training until validation scores don't improve for 10 rounds\n",
      "[2]\tvalid_0's mape: 0.109721\n",
      "[3]\tvalid_0's mape: 0.108593\n",
      "[4]\tvalid_0's mape: 0.108016\n",
      "[5]\tvalid_0's mape: 0.106374\n",
      "[6]\tvalid_0's mape: 0.104876\n",
      "[7]\tvalid_0's mape: 0.104195\n",
      "[8]\tvalid_0's mape: 0.102868\n",
      "[9]\tvalid_0's mape: 0.102377\n",
      "[10]\tvalid_0's mape: 0.101707\n",
      "[11]\tvalid_0's mape: 0.101315\n",
      "[12]\tvalid_0's mape: 0.100346\n",
      "[13]\tvalid_0's mape: 0.0999859\n",
      "[14]\tvalid_0's mape: 0.0994667\n",
      "[15]\tvalid_0's mape: 0.0990503\n",
      "[16]\tvalid_0's mape: 0.0988167\n",
      "[17]\tvalid_0's mape: 0.0985921\n",
      "[18]\tvalid_0's mape: 0.0982016\n",
      "[19]\tvalid_0's mape: 0.0975561\n",
      "[20]\tvalid_0's mape: 0.096985\n",
      "[21]\tvalid_0's mape: 0.0964204\n",
      "[22]\tvalid_0's mape: 0.096267\n",
      "[23]\tvalid_0's mape: 0.0961326\n",
      "[24]\tvalid_0's mape: 0.0956895\n",
      "[25]\tvalid_0's mape: 0.0955345\n",
      "[26]\tvalid_0's mape: 0.0954492\n",
      "[27]\tvalid_0's mape: 0.0953725\n",
      "[28]\tvalid_0's mape: 0.0951937\n",
      "[29]\tvalid_0's mape: 0.0951855\n",
      "[30]\tvalid_0's mape: 0.0949501\n",
      "[31]\tvalid_0's mape: 0.0949863\n",
      "[32]\tvalid_0's mape: 0.0947123\n",
      "[33]\tvalid_0's mape: 0.0946087\n",
      "[34]\tvalid_0's mape: 0.0945947\n",
      "[35]\tvalid_0's mape: 0.0945542\n",
      "[36]\tvalid_0's mape: 0.0944914\n",
      "[37]\tvalid_0's mape: 0.0945429\n",
      "[38]\tvalid_0's mape: 0.094317\n",
      "[39]\tvalid_0's mape: 0.0940102\n",
      "[40]\tvalid_0's mape: 0.0940125\n",
      "[41]\tvalid_0's mape: 0.0937738\n",
      "[42]\tvalid_0's mape: 0.0937465\n",
      "[43]\tvalid_0's mape: 0.0936003\n",
      "[44]\tvalid_0's mape: 0.0935734\n",
      "[45]\tvalid_0's mape: 0.0934939\n",
      "[46]\tvalid_0's mape: 0.093399\n",
      "[47]\tvalid_0's mape: 0.0934684\n",
      "[48]\tvalid_0's mape: 0.09347\n",
      "[49]\tvalid_0's mape: 0.0934435\n",
      "[50]\tvalid_0's mape: 0.0933308\n",
      "[51]\tvalid_0's mape: 0.0933839\n",
      "[52]\tvalid_0's mape: 0.0933622\n",
      "[53]\tvalid_0's mape: 0.0932506\n",
      "[54]\tvalid_0's mape: 0.0932413\n",
      "[55]\tvalid_0's mape: 0.0932092\n",
      "[56]\tvalid_0's mape: 0.0932494\n",
      "[57]\tvalid_0's mape: 0.0932115\n",
      "[58]\tvalid_0's mape: 0.0931891\n",
      "[59]\tvalid_0's mape: 0.0931249\n",
      "[60]\tvalid_0's mape: 0.0930216\n",
      "[61]\tvalid_0's mape: 0.0929575\n",
      "[62]\tvalid_0's mape: 0.0929595\n",
      "[63]\tvalid_0's mape: 0.0930062\n",
      "[64]\tvalid_0's mape: 0.0929336\n",
      "[65]\tvalid_0's mape: 0.0928648\n",
      "[66]\tvalid_0's mape: 0.0928081\n",
      "[67]\tvalid_0's mape: 0.0927456\n",
      "[68]\tvalid_0's mape: 0.0929072\n",
      "[69]\tvalid_0's mape: 0.0928393\n",
      "[70]\tvalid_0's mape: 0.0928889\n",
      "[71]\tvalid_0's mape: 0.0928283\n",
      "[72]\tvalid_0's mape: 0.092809\n",
      "[73]\tvalid_0's mape: 0.0927726\n",
      "[74]\tvalid_0's mape: 0.0928111\n",
      "[75]\tvalid_0's mape: 0.092782\n",
      "[76]\tvalid_0's mape: 0.0929308\n",
      "[77]\tvalid_0's mape: 0.0927593\n",
      "Early stopping, best iteration is:\n",
      "[67]\tvalid_0's mape: 0.0927456\n"
     ]
    }
   ],
   "source": [
    "\n",
    "params = {\n",
    "    'boosting_type': 'gbdt',\n",
    "    'objective': 'regression',   # Use 'regression' for regression task\n",
    "    'metric': 'mape',            # Root mean squared error\n",
    "    'lambda_l1': 6.651330258402688e-07,\n",
    "    'lambda_l2': 2.1355684992216897e-07,\n",
    "    'num_leaves': 238,\n",
    "    'max_depth' : 41,\n",
    "    'learning_rate': 0.05,\n",
    "    'feature_fraction': 0.7113325455858996,\n",
    "    'bagging_fraction': 0.9281578428675564,\n",
    "    'bagging_freq': 2,\n",
    "    'verbose': 0,\n",
    "    'min_child_samples': 91\n",
    "}\n",
    "\n",
    "# Train the model\n",
    "gbm = lgb.train(params,\n",
    "                lgb_train,\n",
    "                num_boost_round=1000,\n",
    "                valid_sets=lgb_eval,\n",
    "                early_stopping_rounds=10)\n",
    "\n",
    "# Predict on your test set\n",
    "preds = gbm.predict(X_test, num_iteration=gbm.best_iteration)\n",
    "mape = mean_absolute_percentage_error(y_test, preds)"
   ]
  },
  {
   "cell_type": "code",
   "execution_count": 94,
   "id": "da6cb399",
   "metadata": {},
   "outputs": [
    {
     "data": {
      "image/png": "[encoded data removed]",
      "text/plain": [
       "<Figure size 1000x500 with 1 Axes>"
      ]
     },
     "metadata": {},
     "output_type": "display_data"
    }
   ],
   "source": [
    "# Now, we can create the plot\n",
    "plt.figure(figsize=(10,5))\n",
    "\n",
    "# Plot the actual values\n",
    "plt.plot(y_test, 'b-', label='actual')\n",
    "\n",
    "# Plot the predicted values\n",
    "plt.plot(preds, 'r-', label='predicted')\n",
    "\n",
    "# Create a legend\n",
    "plt.legend()\n",
    "\n",
    "# Add a title and labels\n",
    "plt.title('Actual vs Predicted Values')\n",
    "plt.xlabel('Index')\n",
    "plt.ylabel('Target')\n",
    "\n",
    "# Show the plot\n",
    "plt.show()"
   ]
  },
  {
   "cell_type": "markdown",
   "id": "63bcc4d7",
   "metadata": {},
   "source": [
    "# Transformer"
   ]
  },
  {
   "cell_type": "code",
   "execution_count": 96,
   "id": "47340663",
   "metadata": {},
   "outputs": [
    {
     "name": "stdout",
     "output_type": "stream",
     "text": [
      "True\n",
      "True\n"
     ]
    }
   ],
   "source": [
    "print(torch.backends.mps.is_available())\n",
    "print(torch.backends.mps.is_built())"
   ]
  },
  {
   "cell_type": "code",
   "execution_count": 98,
   "id": "3c8f73d7",
   "metadata": {},
   "outputs": [],
   "source": [
    "import torch\n",
    "from torch.utils.data import Dataset\n",
    "device = torch.device(\"mps\")\n",
    "\n",
    "class TimeSeriesDataset(Dataset):\n",
    "    def __init__(self, X, y, sequence_length):\n",
    "        self.X = torch.tensor(X, dtype=torch.float32)\n",
    "        self.y = torch.tensor(y, dtype=torch.float32)\n",
    "        self.seq_length = sequence_length\n",
    "\n",
    "    def __len__(self):\n",
    "        return self.X.__len__() - self.seq_length #timeDAta에서 seq 길이를 뺀것이 무슨 의미가 있는거지\n",
    "\n",
    "    def __getitem__(self, index):\n",
    "        return (self.X[index:index+self.seq_length], self.y[index+self.seq_length])\n",
    "\n",
    "SEQUENCE_LENGTH = 10  # 이는 문제에 따라 조정해야 합니다.\n",
    "N_FEATURES = 6\n",
    "\n",
    "\n",
    "dataset = TimeSeriesDataset(X_train, y_train, SEQUENCE_LENGTH)\n",
    "dataloader = torch.utils.data.DataLoader(dataset, batch_size=32, shuffle=False)\n",
    "\n",
    "\n",
    "\n",
    "val_dataset = TimeSeriesDataset(X_val, y_val, SEQUENCE_LENGTH)\n",
    "val_loader = torch.utils.data.DataLoader(val_dataset, batch_size=32, shuffle=False)\n"
   ]
  },
  {
   "cell_type": "code",
   "execution_count": 120,
   "id": "6cbcb467",
   "metadata": {},
   "outputs": [],
   "source": [
    "torch.set_default_device('cpu')"
   ]
  },
  {
   "cell_type": "code",
   "execution_count": 125,
   "id": "c5331aea",
   "metadata": {},
   "outputs": [],
   "source": [
    "import torch\n",
    "import torch.nn as nn\n",
    "from torch.nn import TransformerEncoder, TransformerEncoderLayer\n",
    "\n",
    "class TransformerModel(nn.Module):\n",
    "\n",
    "    def __init__(self, input_dim, output_dim, nhead, nhid, nlayers, dropout=0.5):\n",
    "        super(TransformerModel, self).__init__()\n",
    "        self.model_type = 'Transformer'\n",
    "        self.pos_encoder = PositionalEncoding(input_dim, dropout)\n",
    "        encoder_layers = TransformerEncoderLayer(input_dim, nhead, nhid, dropout)\n",
    "        self.transformer_encoder = TransformerEncoder(encoder_layers, nlayers)\n",
    "        self.decoder = nn.Linear(input_dim, output_dim)\n",
    "        self.init_weights()\n",
    "\n",
    "    def init_weights(self):\n",
    "        initrange = 0.1\n",
    "        self.decoder.bias.data.zero_()\n",
    "        self.decoder.weight.data.uniform_(-initrange, initrange)\n",
    "\n",
    "    def forward(self, src, src_mask=None):\n",
    "        #src = self.encoder(src) * math.sqrt(self.ninp)\n",
    "        src = self.pos_encoder(src) \n",
    "        output = self.transformer_encoder(src, src_mask)\n",
    "        output = self.decoder(output)\n",
    "        return output\n",
    "\n",
    "class PositionalEncoding(nn.Module):\n",
    "\n",
    "    def __init__(self, d_model, dropout=0.1, max_len=5000):\n",
    "        super(PositionalEncoding, self).__init__()\n",
    "        self.dropout = nn.Dropout(p=dropout)\n",
    "\n",
    "        pe = torch.zeros(max_len, d_model)\n",
    "        position = torch.arange(0, max_len, dtype=torch.float).unsqueeze(1)\n",
    "        div_term = torch.exp(torch.arange(0, d_model, 2).float() * (-math.log(10000.0) / d_model))\n",
    "        pe[:, 0::2] = torch.sin(position * div_term)\n",
    "        pe[:, 1::2] = torch.cos(position * div_term)\n",
    "        pe = pe.unsqueeze(0).transpose(0, 1)\n",
    "        self.register_buffer('pe', pe)\n",
    "\n",
    "    def forward(self, x):\n",
    "        x = x + self.pe[:x.size(0), :]\n",
    "        return self.dropout(x)\n"
   ]
  },
  {
   "cell_type": "code",
   "execution_count": 126,
   "id": "175d02dc",
   "metadata": {},
   "outputs": [
    {
     "data": {
      "text/plain": [
       "'2.0.0'"
      ]
     },
     "execution_count": 126,
     "metadata": {},
     "output_type": "execute_result"
    }
   ],
   "source": [
    "torch.__version__"
   ]
  },
  {
   "cell_type": "code",
   "execution_count": 127,
   "id": "cc8d35d3",
   "metadata": {},
   "outputs": [
    {
     "data": {
      "text/plain": [
       "((437095, 10), (437095,))"
      ]
     },
     "execution_count": 127,
     "metadata": {},
     "output_type": "execute_result"
    }
   ],
   "source": [
    "X_train.shape, y_train.shape"
   ]
  },
  {
   "cell_type": "code",
   "execution_count": null,
   "id": "ee73db11",
   "metadata": {},
   "outputs": [
    {
     "name": "stderr",
     "output_type": "stream",
     "text": [
      "/Users/youngseoklee/opt/anaconda3/envs/ai/lib/python3.10/site-packages/torch/utils/_device.py:62: UserWarning: Using a target size (torch.Size([32])) that is different to the input size (torch.Size([32, 1])). This will likely lead to incorrect results due to broadcasting. Please ensure they have the same size.\n",
      "  return func(*args, **kwargs)\n",
      "/Users/youngseoklee/opt/anaconda3/envs/ai/lib/python3.10/site-packages/torch/utils/_device.py:62: UserWarning: Using a target size (torch.Size([29])) that is different to the input size (torch.Size([29, 1])). This will likely lead to incorrect results due to broadcasting. Please ensure they have the same size.\n",
      "  return func(*args, **kwargs)\n"
     ]
    },
    {
     "name": "stdout",
     "output_type": "stream",
     "text": [
      "Epoch 1/10 Loss: 102664880.0\n",
      "Epoch 2/10 Loss: 101747296.0\n",
      "Epoch 3/10 Loss: 102635512.0\n"
     ]
    }
   ],
   "source": [
    "import torch.optim as optim\n",
    "\n",
    "# Initialize model, loss, and optimizer\n",
    "model = TransformerModel(input_dim=10, output_dim=1, nhead=2, nhid=16, nlayers=2)\n",
    "loss_fn = torch.nn.MSELoss()\n",
    "optimizer = optim.Adam(model.parameters(), lr=0.01)\n",
    "\n",
    "# Training loop\n",
    "def train_model(model, epochs):\n",
    "    model.train()\n",
    "    for epoch in range(epochs):\n",
    "        for i, (x, y) in enumerate(dataloader): # assume train_loader is your DataLoader\n",
    "            optimizer.zero_grad()\n",
    "            x = x.transpose(0, 1) # Transform input to suitable shape\n",
    "            output = model(x)\n",
    "            loss = loss_fn(output[-1], y) # Compute loss\n",
    "            loss.backward() # Compute gradients\n",
    "            optimizer.step() # Update weights\n",
    "\n",
    "        print(f'Epoch {epoch+1}/{epochs} Loss: {loss.item()}')\n",
    "\n",
    "train_model(model, epochs=10)\n"
   ]
  },
  {
   "cell_type": "code",
   "execution_count": 89,
   "id": "d8c579b5",
   "metadata": {},
   "outputs": [
    {
     "name": "stderr",
     "output_type": "stream",
     "text": [
      "/Users/youngseoklee/opt/anaconda3/envs/ai/lib/python3.10/site-packages/torch/nn/modules/loss.py:536: UserWarning: Using a target size (torch.Size([32])) that is different to the input size (torch.Size([32, 1])). This will likely lead to incorrect results due to broadcasting. Please ensure they have the same size.\n",
      "  return F.mse_loss(input, target, reduction=self.reduction)\n"
     ]
    },
    {
     "name": "stdout",
     "output_type": "stream",
     "text": [
      "Average Loss: 121836087.27469574\n"
     ]
    },
    {
     "name": "stderr",
     "output_type": "stream",
     "text": [
      "/Users/youngseoklee/opt/anaconda3/envs/ai/lib/python3.10/site-packages/torch/nn/modules/loss.py:536: UserWarning: Using a target size (torch.Size([16])) that is different to the input size (torch.Size([16, 1])). This will likely lead to incorrect results due to broadcasting. Please ensure they have the same size.\n",
      "  return F.mse_loss(input, target, reduction=self.reduction)\n"
     ]
    },
    {
     "data": {
      "text/plain": [
       "121836087.27469574"
      ]
     },
     "execution_count": 89,
     "metadata": {},
     "output_type": "execute_result"
    }
   ],
   "source": [
    "def evaluate_model(model, dataloader):\n",
    "    model.eval()  # Set model to evaluation mode\n",
    "    total_loss = 0\n",
    "    with torch.no_grad():  # Don't track gradients\n",
    "        for i, (x, y) in enumerate(dataloader):\n",
    "            x = x.transpose(0, 1)\n",
    "            output = model(x)\n",
    "            loss = loss_fn(output[-1], y)\n",
    "            total_loss += loss.item()\n",
    "    \n",
    "    avg_loss = total_loss / len(dataloader)\n",
    "    print(f'Average Loss: {avg_loss}')\n",
    "    return avg_loss\n",
    "\n",
    "# Suppose you have a validation or test dataloader, named val_loader or test_loader\n",
    "evaluate_model(model, val_loader)\n"
   ]
  },
  {
   "cell_type": "code",
   "execution_count": null,
   "id": "4a8fb4d2",
   "metadata": {},
   "outputs": [],
   "source": []
  }
 ],
 "metadata": {
  "kernelspec": {
   "display_name": "Python 3 (ipykernel)",
   "language": "python",
   "name": "python3"
  },
  "language_info": {
   "codemirror_mode": {
    "name": "ipython",
    "version": 3
   },
   "file_extension": ".py",
   "mimetype": "text/x-python",
   "name": "python",
   "nbconvert_exporter": "python",
   "pygments_lexer": "ipython3",
   "version": "3.10.11"
  }
 },
 "nbformat": 4,
 "nbformat_minor": 5
}
